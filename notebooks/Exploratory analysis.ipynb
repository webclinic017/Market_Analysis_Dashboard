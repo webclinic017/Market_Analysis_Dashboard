{
 "cells": [
  {
   "cell_type": "code",
   "execution_count": 272,
   "id": "c509ae83",
   "metadata": {},
   "outputs": [],
   "source": [
    "from alpaca_trade_api.rest import REST, TimeFrame\n",
    "from alpaca_trade_api.entity import (\n",
    "    Bar, Entity, Account, AccountConfigurations, AccountActivity,\n",
    "    Asset, Order, Position, BarSet, Clock, Calendar,\n",
    "    Aggs, Trade, Quote, Watchlist, PortfolioHistory\n",
    ")\n",
    "\n",
    "api = REST(key_id=\"PKX7NWBTMYXT2JU5FBVS\", secret_key=\"FgzjEqmnoHXtDQ1vBHjGCArd1khau7Q868VkJrGA\")\n",
    "#api = REST()\n",
    "import pandas as pd\n",
    "import numpy as np\n",
    "import matplotlib.pyplot as plt\n"
   ]
  },
  {
   "cell_type": "code",
   "execution_count": 343,
   "id": "6b6b1f4e",
   "metadata": {},
   "outputs": [],
   "source": [
    "def calculate_group_vwap(df, price, size):\n",
    "    dff = df.copy()\n",
    "    dff['pxs']= dff[price] * dff[size]\n",
    "    numerator=dff['pxs'].sum()\n",
    "    denom = dff[size].sum()\n",
    "    vwap= numerator/denom\n",
    "    print(numerator, denom, vwap)\n",
    "    return vwap"
   ]
  },
  {
   "cell_type": "code",
   "execution_count": 344,
   "id": "f49d3e06",
   "metadata": {},
   "outputs": [],
   "source": [
    "class AlpacaDownloader:\n",
    "    \n",
    "    def __init__(self):\n",
    "        pass\n",
    "    \n",
    "    def get_quotes(self, symbol, start, end, limit=10000):\n",
    "        return api.get_quotes(symbol, start, end, limit=limit).df\n",
    "\n",
    "    \n",
    "    def get_trades(self, symbol, start, end, limit=10000):\n",
    "        return api.get_trades(symbol, start, end, limit = limit).df\n",
    "\n",
    "\n",
    "    def get_bars(self, symbol, start, end, interval=TimeFrame.Day, limit=10000):\n",
    "        return api.get_bars(symbol, TimeFrame.Hour, start, end, limit=limit).df\n"
   ]
  },
  {
   "cell_type": "code",
   "execution_count": 345,
   "id": "3fd68ad0",
   "metadata": {},
   "outputs": [],
   "source": [
    "ad = AlpacaDownloader()\n"
   ]
  },
  {
   "cell_type": "code",
   "execution_count": 305,
   "id": "a0b027ef",
   "metadata": {},
   "outputs": [
    {
     "data": {
      "text/plain": [
       "1490440"
      ]
     },
     "execution_count": 305,
     "metadata": {},
     "output_type": "execute_result"
    }
   ],
   "source": [
    "aapl = ad.get_trades(\"AAPL\", \"2021-07-13\", \"2021-07-14\", limit=3000000)\n",
    "len(aapl)"
   ]
  },
  {
   "cell_type": "code",
   "execution_count": 352,
   "id": "7f28ede0",
   "metadata": {},
   "outputs": [],
   "source": [
    "aapl['time'] = aapl.index"
   ]
  },
  {
   "cell_type": "code",
   "execution_count": 353,
   "id": "74b21004",
   "metadata": {},
   "outputs": [
    {
     "ename": "KeyboardInterrupt",
     "evalue": "",
     "output_type": "error",
     "traceback": [
      "\u001b[0;31m---------------------------------------------------------------------------\u001b[0m",
      "\u001b[0;31mKeyboardInterrupt\u001b[0m                         Traceback (most recent call last)",
      "    \u001b[0;31m[... skipping hidden 1 frame]\u001b[0m\n",
      "\u001b[0;32m<ipython-input-353-4f6c0e201943>\u001b[0m in \u001b[0;36m<module>\u001b[0;34m\u001b[0m\n\u001b[0;32m----> 1\u001b[0;31m \u001b[0maapl_quotes\u001b[0m \u001b[0;34m=\u001b[0m \u001b[0mad\u001b[0m\u001b[0;34m.\u001b[0m\u001b[0mget_quotes\u001b[0m\u001b[0;34m(\u001b[0m\u001b[0;34m\"AAPL\"\u001b[0m\u001b[0;34m,\u001b[0m \u001b[0;34m\"2021-07-13\"\u001b[0m\u001b[0;34m,\u001b[0m \u001b[0;34m\"2021-07-14\"\u001b[0m\u001b[0;34m,\u001b[0m \u001b[0mlimit\u001b[0m\u001b[0;34m=\u001b[0m\u001b[0;36m4000000\u001b[0m\u001b[0;34m)\u001b[0m\u001b[0;34m\u001b[0m\u001b[0;34m\u001b[0m\u001b[0m\n\u001b[0m\u001b[1;32m      2\u001b[0m \u001b[0mlen\u001b[0m\u001b[0;34m(\u001b[0m\u001b[0maapl_quotes\u001b[0m\u001b[0;34m)\u001b[0m\u001b[0;34m\u001b[0m\u001b[0;34m\u001b[0m\u001b[0m\n",
      "\u001b[0;32m<ipython-input-344-45694fd1fda9>\u001b[0m in \u001b[0;36mget_quotes\u001b[0;34m(self, symbol, start, end, limit)\u001b[0m\n\u001b[1;32m      6\u001b[0m     \u001b[0;32mdef\u001b[0m \u001b[0mget_quotes\u001b[0m\u001b[0;34m(\u001b[0m\u001b[0mself\u001b[0m\u001b[0;34m,\u001b[0m \u001b[0msymbol\u001b[0m\u001b[0;34m,\u001b[0m \u001b[0mstart\u001b[0m\u001b[0;34m,\u001b[0m \u001b[0mend\u001b[0m\u001b[0;34m,\u001b[0m \u001b[0mlimit\u001b[0m\u001b[0;34m=\u001b[0m\u001b[0;36m10000\u001b[0m\u001b[0;34m)\u001b[0m\u001b[0;34m:\u001b[0m\u001b[0;34m\u001b[0m\u001b[0;34m\u001b[0m\u001b[0m\n\u001b[0;32m----> 7\u001b[0;31m         \u001b[0;32mreturn\u001b[0m \u001b[0mapi\u001b[0m\u001b[0;34m.\u001b[0m\u001b[0mget_quotes\u001b[0m\u001b[0;34m(\u001b[0m\u001b[0msymbol\u001b[0m\u001b[0;34m,\u001b[0m \u001b[0mstart\u001b[0m\u001b[0;34m,\u001b[0m \u001b[0mend\u001b[0m\u001b[0;34m,\u001b[0m \u001b[0mlimit\u001b[0m\u001b[0;34m=\u001b[0m\u001b[0mlimit\u001b[0m\u001b[0;34m)\u001b[0m\u001b[0;34m.\u001b[0m\u001b[0mdf\u001b[0m\u001b[0;34m\u001b[0m\u001b[0;34m\u001b[0m\u001b[0m\n\u001b[0m\u001b[1;32m      8\u001b[0m \u001b[0;34m\u001b[0m\u001b[0m\n",
      "\u001b[0;32m/opt/anaconda3/lib/python3.8/site-packages/alpaca_trade_api/rest.py\u001b[0m in \u001b[0;36mget_quotes\u001b[0;34m(self, symbol, start, end, limit)\u001b[0m\n\u001b[1;32m    617\u001b[0m                    ) -> QuotesV2:\n\u001b[0;32m--> 618\u001b[0;31m         quotes = list(self.get_quotes_iter(symbol,\n\u001b[0m\u001b[1;32m    619\u001b[0m                                            \u001b[0mstart\u001b[0m\u001b[0;34m,\u001b[0m\u001b[0;34m\u001b[0m\u001b[0;34m\u001b[0m\u001b[0m\n",
      "\u001b[0;32m/opt/anaconda3/lib/python3.8/site-packages/alpaca_trade_api/rest.py\u001b[0m in \u001b[0;36mget_quotes_iter\u001b[0;34m(self, symbol, start, end, limit, raw)\u001b[0m\n\u001b[1;32m    605\u001b[0m                                    start=start, end=end, limit=limit)\n\u001b[0;32m--> 606\u001b[0;31m         \u001b[0;32mfor\u001b[0m \u001b[0mquote\u001b[0m \u001b[0;32min\u001b[0m \u001b[0mquotes\u001b[0m\u001b[0;34m:\u001b[0m\u001b[0;34m\u001b[0m\u001b[0;34m\u001b[0m\u001b[0m\n\u001b[0m\u001b[1;32m    607\u001b[0m             \u001b[0;32mif\u001b[0m \u001b[0mraw\u001b[0m\u001b[0;34m:\u001b[0m\u001b[0;34m\u001b[0m\u001b[0;34m\u001b[0m\u001b[0m\n",
      "\u001b[0;32m/opt/anaconda3/lib/python3.8/site-packages/alpaca_trade_api/rest.py\u001b[0m in \u001b[0;36m_data_get_v2\u001b[0;34m(self, endpoint, symbol, **kwargs)\u001b[0m\n\u001b[1;32m    560\u001b[0m             \u001b[0mdata\u001b[0m\u001b[0;34m[\u001b[0m\u001b[0;34m'page_token'\u001b[0m\u001b[0;34m]\u001b[0m \u001b[0;34m=\u001b[0m \u001b[0mpage_token\u001b[0m\u001b[0;34m\u001b[0m\u001b[0;34m\u001b[0m\u001b[0m\n\u001b[0;32m--> 561\u001b[0;31m             resp = self.data_get('/stocks/{}/{}'.format(symbol, endpoint),\n\u001b[0m\u001b[1;32m    562\u001b[0m                                  data=data, api_version='v2')\n",
      "\u001b[0;32m/opt/anaconda3/lib/python3.8/site-packages/alpaca_trade_api/rest.py\u001b[0m in \u001b[0;36mdata_get\u001b[0;34m(self, path, data, api_version)\u001b[0m\n\u001b[1;32m    191\u001b[0m         \u001b[0mbase_url\u001b[0m\u001b[0;34m:\u001b[0m \u001b[0mURL\u001b[0m \u001b[0;34m=\u001b[0m \u001b[0mget_data_url\u001b[0m\u001b[0;34m(\u001b[0m\u001b[0;34m)\u001b[0m\u001b[0;34m\u001b[0m\u001b[0;34m\u001b[0m\u001b[0m\n\u001b[0;32m--> 192\u001b[0;31m         return self._request(\n\u001b[0m\u001b[1;32m    193\u001b[0m             \u001b[0;34m'GET'\u001b[0m\u001b[0;34m,\u001b[0m \u001b[0mpath\u001b[0m\u001b[0;34m,\u001b[0m \u001b[0mdata\u001b[0m\u001b[0;34m,\u001b[0m \u001b[0mbase_url\u001b[0m\u001b[0;34m=\u001b[0m\u001b[0mbase_url\u001b[0m\u001b[0;34m,\u001b[0m \u001b[0mapi_version\u001b[0m\u001b[0;34m=\u001b[0m\u001b[0mapi_version\u001b[0m\u001b[0;34m,\u001b[0m\u001b[0;34m\u001b[0m\u001b[0;34m\u001b[0m\u001b[0m\n",
      "\u001b[0;32m/opt/anaconda3/lib/python3.8/site-packages/alpaca_trade_api/rest.py\u001b[0m in \u001b[0;36m_request\u001b[0;34m(self, method, path, data, base_url, api_version)\u001b[0m\n\u001b[1;32m    138\u001b[0m             \u001b[0;32mtry\u001b[0m\u001b[0;34m:\u001b[0m\u001b[0;34m\u001b[0m\u001b[0;34m\u001b[0m\u001b[0m\n\u001b[0;32m--> 139\u001b[0;31m                 \u001b[0;32mreturn\u001b[0m \u001b[0mself\u001b[0m\u001b[0;34m.\u001b[0m\u001b[0m_one_request\u001b[0m\u001b[0;34m(\u001b[0m\u001b[0mmethod\u001b[0m\u001b[0;34m,\u001b[0m \u001b[0murl\u001b[0m\u001b[0;34m,\u001b[0m \u001b[0mopts\u001b[0m\u001b[0;34m,\u001b[0m \u001b[0mretry\u001b[0m\u001b[0;34m)\u001b[0m\u001b[0;34m\u001b[0m\u001b[0;34m\u001b[0m\u001b[0m\n\u001b[0m\u001b[1;32m    140\u001b[0m             \u001b[0;32mexcept\u001b[0m \u001b[0mRetryException\u001b[0m\u001b[0;34m:\u001b[0m\u001b[0;34m\u001b[0m\u001b[0;34m\u001b[0m\u001b[0m\n",
      "\u001b[0;32m/opt/anaconda3/lib/python3.8/site-packages/alpaca_trade_api/rest.py\u001b[0m in \u001b[0;36m_one_request\u001b[0;34m(self, method, url, opts, retry)\u001b[0m\n\u001b[1;32m    171\u001b[0m         \u001b[0;32mif\u001b[0m \u001b[0mresp\u001b[0m\u001b[0;34m.\u001b[0m\u001b[0mtext\u001b[0m \u001b[0;34m!=\u001b[0m \u001b[0;34m''\u001b[0m\u001b[0;34m:\u001b[0m\u001b[0;34m\u001b[0m\u001b[0;34m\u001b[0m\u001b[0m\n\u001b[0;32m--> 172\u001b[0;31m             \u001b[0;32mreturn\u001b[0m \u001b[0mresp\u001b[0m\u001b[0;34m.\u001b[0m\u001b[0mjson\u001b[0m\u001b[0;34m(\u001b[0m\u001b[0;34m)\u001b[0m\u001b[0;34m\u001b[0m\u001b[0;34m\u001b[0m\u001b[0m\n\u001b[0m\u001b[1;32m    173\u001b[0m         \u001b[0;32mreturn\u001b[0m \u001b[0;32mNone\u001b[0m\u001b[0;34m\u001b[0m\u001b[0;34m\u001b[0m\u001b[0m\n",
      "\u001b[0;32m/opt/anaconda3/lib/python3.8/site-packages/requests/models.py\u001b[0m in \u001b[0;36mjson\u001b[0;34m(self, **kwargs)\u001b[0m\n\u001b[1;32m    899\u001b[0m                     \u001b[0;32mpass\u001b[0m\u001b[0;34m\u001b[0m\u001b[0;34m\u001b[0m\u001b[0m\n\u001b[0;32m--> 900\u001b[0;31m         \u001b[0;32mreturn\u001b[0m \u001b[0mcomplexjson\u001b[0m\u001b[0;34m.\u001b[0m\u001b[0mloads\u001b[0m\u001b[0;34m(\u001b[0m\u001b[0mself\u001b[0m\u001b[0;34m.\u001b[0m\u001b[0mtext\u001b[0m\u001b[0;34m,\u001b[0m \u001b[0;34m**\u001b[0m\u001b[0mkwargs\u001b[0m\u001b[0;34m)\u001b[0m\u001b[0;34m\u001b[0m\u001b[0;34m\u001b[0m\u001b[0m\n\u001b[0m\u001b[1;32m    901\u001b[0m \u001b[0;34m\u001b[0m\u001b[0m\n",
      "\u001b[0;32m/opt/anaconda3/lib/python3.8/json/__init__.py\u001b[0m in \u001b[0;36mloads\u001b[0;34m(s, cls, object_hook, parse_float, parse_int, parse_constant, object_pairs_hook, **kw)\u001b[0m\n\u001b[1;32m    356\u001b[0m             parse_constant is None and object_pairs_hook is None and not kw):\n\u001b[0;32m--> 357\u001b[0;31m         \u001b[0;32mreturn\u001b[0m \u001b[0m_default_decoder\u001b[0m\u001b[0;34m.\u001b[0m\u001b[0mdecode\u001b[0m\u001b[0;34m(\u001b[0m\u001b[0ms\u001b[0m\u001b[0;34m)\u001b[0m\u001b[0;34m\u001b[0m\u001b[0;34m\u001b[0m\u001b[0m\n\u001b[0m\u001b[1;32m    358\u001b[0m     \u001b[0;32mif\u001b[0m \u001b[0mcls\u001b[0m \u001b[0;32mis\u001b[0m \u001b[0;32mNone\u001b[0m\u001b[0;34m:\u001b[0m\u001b[0;34m\u001b[0m\u001b[0;34m\u001b[0m\u001b[0m\n",
      "\u001b[0;32m/opt/anaconda3/lib/python3.8/json/decoder.py\u001b[0m in \u001b[0;36mdecode\u001b[0;34m(self, s, _w)\u001b[0m\n\u001b[1;32m    336\u001b[0m         \"\"\"\n\u001b[0;32m--> 337\u001b[0;31m         \u001b[0mobj\u001b[0m\u001b[0;34m,\u001b[0m \u001b[0mend\u001b[0m \u001b[0;34m=\u001b[0m \u001b[0mself\u001b[0m\u001b[0;34m.\u001b[0m\u001b[0mraw_decode\u001b[0m\u001b[0;34m(\u001b[0m\u001b[0ms\u001b[0m\u001b[0;34m,\u001b[0m \u001b[0midx\u001b[0m\u001b[0;34m=\u001b[0m\u001b[0m_w\u001b[0m\u001b[0;34m(\u001b[0m\u001b[0ms\u001b[0m\u001b[0;34m,\u001b[0m \u001b[0;36m0\u001b[0m\u001b[0;34m)\u001b[0m\u001b[0;34m.\u001b[0m\u001b[0mend\u001b[0m\u001b[0;34m(\u001b[0m\u001b[0;34m)\u001b[0m\u001b[0;34m)\u001b[0m\u001b[0;34m\u001b[0m\u001b[0;34m\u001b[0m\u001b[0m\n\u001b[0m\u001b[1;32m    338\u001b[0m         \u001b[0mend\u001b[0m \u001b[0;34m=\u001b[0m \u001b[0m_w\u001b[0m\u001b[0;34m(\u001b[0m\u001b[0ms\u001b[0m\u001b[0;34m,\u001b[0m \u001b[0mend\u001b[0m\u001b[0;34m)\u001b[0m\u001b[0;34m.\u001b[0m\u001b[0mend\u001b[0m\u001b[0;34m(\u001b[0m\u001b[0;34m)\u001b[0m\u001b[0;34m\u001b[0m\u001b[0;34m\u001b[0m\u001b[0m\n",
      "\u001b[0;32m/opt/anaconda3/lib/python3.8/json/decoder.py\u001b[0m in \u001b[0;36mraw_decode\u001b[0;34m(self, s, idx)\u001b[0m\n\u001b[1;32m    352\u001b[0m         \u001b[0;32mtry\u001b[0m\u001b[0;34m:\u001b[0m\u001b[0;34m\u001b[0m\u001b[0;34m\u001b[0m\u001b[0m\n\u001b[0;32m--> 353\u001b[0;31m             \u001b[0mobj\u001b[0m\u001b[0;34m,\u001b[0m \u001b[0mend\u001b[0m \u001b[0;34m=\u001b[0m \u001b[0mself\u001b[0m\u001b[0;34m.\u001b[0m\u001b[0mscan_once\u001b[0m\u001b[0;34m(\u001b[0m\u001b[0ms\u001b[0m\u001b[0;34m,\u001b[0m \u001b[0midx\u001b[0m\u001b[0;34m)\u001b[0m\u001b[0;34m\u001b[0m\u001b[0;34m\u001b[0m\u001b[0m\n\u001b[0m\u001b[1;32m    354\u001b[0m         \u001b[0;32mexcept\u001b[0m \u001b[0mStopIteration\u001b[0m \u001b[0;32mas\u001b[0m \u001b[0merr\u001b[0m\u001b[0;34m:\u001b[0m\u001b[0;34m\u001b[0m\u001b[0;34m\u001b[0m\u001b[0m\n",
      "\u001b[0;31mKeyboardInterrupt\u001b[0m: ",
      "\nDuring handling of the above exception, another exception occurred:\n",
      "\u001b[0;31mKeyboardInterrupt\u001b[0m                         Traceback (most recent call last)",
      "\u001b[0;31mKeyboardInterrupt\u001b[0m: "
     ]
    }
   ],
   "source": [
    "aapl_quotes = ad.get_quotes(\"AAPL\", \"2021-07-13\", \"2021-07-14\", limit=4000000)\n",
    "len(aapl_quotes)"
   ]
  },
  {
   "cell_type": "code",
   "execution_count": null,
   "id": "99ba781b",
   "metadata": {},
   "outputs": [],
   "source": [
    "aapl.head(50)"
   ]
  },
  {
   "cell_type": "code",
   "execution_count": null,
   "id": "e3fc9593",
   "metadata": {},
   "outputs": [],
   "source": [
    "aapl_quotes['time'] = aapl_quotes.index"
   ]
  },
  {
   "cell_type": "code",
   "execution_count": null,
   "id": "a3b6ef99",
   "metadata": {},
   "outputs": [],
   "source": []
  },
  {
   "cell_type": "code",
   "execution_count": null,
   "id": "52d6ea82",
   "metadata": {},
   "outputs": [],
   "source": [
    "aapl['trade_vwap'] = calculate_group_vwap(aapl, 'price', 'size')"
   ]
  },
  {
   "cell_type": "code",
   "execution_count": 335,
   "id": "7f6c0d44",
   "metadata": {},
   "outputs": [
    {
     "data": {
      "text/html": [
       "<div>\n",
       "<style scoped>\n",
       "    .dataframe tbody tr th:only-of-type {\n",
       "        vertical-align: middle;\n",
       "    }\n",
       "\n",
       "    .dataframe tbody tr th {\n",
       "        vertical-align: top;\n",
       "    }\n",
       "\n",
       "    .dataframe thead th {\n",
       "        text-align: right;\n",
       "    }\n",
       "</style>\n",
       "<table border=\"1\" class=\"dataframe\">\n",
       "  <thead>\n",
       "    <tr style=\"text-align: right;\">\n",
       "      <th></th>\n",
       "      <th>price</th>\n",
       "      <th>size</th>\n",
       "      <th>id</th>\n",
       "      <th>trade_vwap</th>\n",
       "    </tr>\n",
       "  </thead>\n",
       "  <tbody>\n",
       "    <tr>\n",
       "      <th>count</th>\n",
       "      <td>1.490440e+06</td>\n",
       "      <td>1.490440e+06</td>\n",
       "      <td>1.490440e+06</td>\n",
       "      <td>1.490440e+06</td>\n",
       "    </tr>\n",
       "    <tr>\n",
       "      <th>mean</th>\n",
       "      <td>1.475413e+02</td>\n",
       "      <td>1.606878e+02</td>\n",
       "      <td>6.361298e+04</td>\n",
       "      <td>1.607315e+02</td>\n",
       "    </tr>\n",
       "    <tr>\n",
       "      <th>std</th>\n",
       "      <td>1.496179e+00</td>\n",
       "      <td>7.981936e+03</td>\n",
       "      <td>5.976066e+04</td>\n",
       "      <td>6.237715e-09</td>\n",
       "    </tr>\n",
       "    <tr>\n",
       "      <th>min</th>\n",
       "      <td>1.232773e+02</td>\n",
       "      <td>1.000000e+00</td>\n",
       "      <td>1.000000e+00</td>\n",
       "      <td>1.607315e+02</td>\n",
       "    </tr>\n",
       "    <tr>\n",
       "      <th>25%</th>\n",
       "      <td>1.462500e+02</td>\n",
       "      <td>1.000000e+01</td>\n",
       "      <td>1.507300e+04</td>\n",
       "      <td>1.607315e+02</td>\n",
       "    </tr>\n",
       "    <tr>\n",
       "      <th>50%</th>\n",
       "      <td>1.480600e+02</td>\n",
       "      <td>1.000000e+02</td>\n",
       "      <td>4.506200e+04</td>\n",
       "      <td>1.607315e+02</td>\n",
       "    </tr>\n",
       "    <tr>\n",
       "      <th>75%</th>\n",
       "      <td>1.489000e+02</td>\n",
       "      <td>1.000000e+02</td>\n",
       "      <td>9.466925e+04</td>\n",
       "      <td>1.607315e+02</td>\n",
       "    </tr>\n",
       "    <tr>\n",
       "      <th>max</th>\n",
       "      <td>1.548714e+02</td>\n",
       "      <td>5.173691e+06</td>\n",
       "      <td>2.493810e+05</td>\n",
       "      <td>1.607315e+02</td>\n",
       "    </tr>\n",
       "  </tbody>\n",
       "</table>\n",
       "</div>"
      ],
      "text/plain": [
       "              price          size            id    trade_vwap\n",
       "count  1.490440e+06  1.490440e+06  1.490440e+06  1.490440e+06\n",
       "mean   1.475413e+02  1.606878e+02  6.361298e+04  1.607315e+02\n",
       "std    1.496179e+00  7.981936e+03  5.976066e+04  6.237715e-09\n",
       "min    1.232773e+02  1.000000e+00  1.000000e+00  1.607315e+02\n",
       "25%    1.462500e+02  1.000000e+01  1.507300e+04  1.607315e+02\n",
       "50%    1.480600e+02  1.000000e+02  4.506200e+04  1.607315e+02\n",
       "75%    1.489000e+02  1.000000e+02  9.466925e+04  1.607315e+02\n",
       "max    1.548714e+02  5.173691e+06  2.493810e+05  1.607315e+02"
      ]
     },
     "execution_count": 335,
     "metadata": {},
     "output_type": "execute_result"
    }
   ],
   "source": [
    "aapl.describe()"
   ]
  },
  {
   "cell_type": "code",
   "execution_count": null,
   "id": "eee3b867",
   "metadata": {},
   "outputs": [],
   "source": []
  },
  {
   "cell_type": "code",
   "execution_count": 312,
   "id": "0ad87781",
   "metadata": {},
   "outputs": [],
   "source": [
    "tr_resample = aapl.resample('30min', on='time', offset='30Min10s')[['size', 'price']].mean()\n",
    "qu_resample = aapl_quotes.resample('30min', on='time', offset='30Min10s')[['bid_size', 'ask_size', 'bid_price', 'ask_price']].mean()"
   ]
  },
  {
   "cell_type": "code",
   "execution_count": null,
   "id": "34993d28",
   "metadata": {},
   "outputs": [],
   "source": []
  },
  {
   "cell_type": "code",
   "execution_count": null,
   "id": "72bfc386",
   "metadata": {},
   "outputs": [],
   "source": []
  },
  {
   "cell_type": "code",
   "execution_count": 313,
   "id": "019cd64f",
   "metadata": {},
   "outputs": [],
   "source": [
    "merged_tr_qu = pd.merge(tr_resample, qu_resample, on=\"time\")"
   ]
  },
  {
   "cell_type": "code",
   "execution_count": 314,
   "id": "3079b6b7",
   "metadata": {},
   "outputs": [],
   "source": [
    "merged_tr_qu.index = merged_tr_qu.index.tz_convert('US/Eastern') + pd.offsets.Hour(1)"
   ]
  },
  {
   "cell_type": "code",
   "execution_count": 315,
   "id": "ceb5bf7f",
   "metadata": {},
   "outputs": [
    {
     "data": {
      "text/plain": [
       "Index(['size', 'price', 'bid_size', 'ask_size', 'bid_price', 'ask_price'], dtype='object')"
      ]
     },
     "execution_count": 315,
     "metadata": {},
     "output_type": "execute_result"
    }
   ],
   "source": [
    "merged_tr_qu.columns"
   ]
  },
  {
   "cell_type": "code",
   "execution_count": 316,
   "id": "b6835f3f",
   "metadata": {},
   "outputs": [],
   "source": [
    "merged_tr_qu['timestamp'] = merged_tr_qu.index.time "
   ]
  },
  {
   "cell_type": "code",
   "execution_count": 317,
   "id": "4e394d61",
   "metadata": {},
   "outputs": [],
   "source": [
    "merged_tr_qu.columns = ['trade_size', 'trade_price', 'bid_size', 'ask_size', 'bid_price', 'ask_price', 'timestamp']"
   ]
  },
  {
   "cell_type": "code",
   "execution_count": 318,
   "id": "23183021",
   "metadata": {},
   "outputs": [
    {
     "data": {
      "text/html": [
       "<div>\n",
       "<style scoped>\n",
       "    .dataframe tbody tr th:only-of-type {\n",
       "        vertical-align: middle;\n",
       "    }\n",
       "\n",
       "    .dataframe tbody tr th {\n",
       "        vertical-align: top;\n",
       "    }\n",
       "\n",
       "    .dataframe thead th {\n",
       "        text-align: right;\n",
       "    }\n",
       "</style>\n",
       "<table border=\"1\" class=\"dataframe\">\n",
       "  <thead>\n",
       "    <tr style=\"text-align: right;\">\n",
       "      <th></th>\n",
       "      <th>trade_size</th>\n",
       "      <th>trade_price</th>\n",
       "      <th>bid_size</th>\n",
       "      <th>ask_size</th>\n",
       "      <th>bid_price</th>\n",
       "      <th>ask_price</th>\n",
       "      <th>timestamp</th>\n",
       "    </tr>\n",
       "    <tr>\n",
       "      <th>time</th>\n",
       "      <th></th>\n",
       "      <th></th>\n",
       "      <th></th>\n",
       "      <th></th>\n",
       "      <th></th>\n",
       "      <th></th>\n",
       "      <th></th>\n",
       "    </tr>\n",
       "  </thead>\n",
       "  <tbody>\n",
       "    <tr>\n",
       "      <th>2021-07-13 04:30:10-04:00</th>\n",
       "      <td>39.619048</td>\n",
       "      <td>144.035952</td>\n",
       "      <td>3.962264</td>\n",
       "      <td>4.056604</td>\n",
       "      <td>140.892075</td>\n",
       "      <td>141.045472</td>\n",
       "      <td>04:30:10</td>\n",
       "    </tr>\n",
       "    <tr>\n",
       "      <th>2021-07-13 05:00:10-04:00</th>\n",
       "      <td>45.049488</td>\n",
       "      <td>144.027031</td>\n",
       "      <td>4.036212</td>\n",
       "      <td>1.838440</td>\n",
       "      <td>143.906630</td>\n",
       "      <td>144.087382</td>\n",
       "      <td>05:00:10</td>\n",
       "    </tr>\n",
       "    <tr>\n",
       "      <th>2021-07-13 05:30:10-04:00</th>\n",
       "      <td>28.788698</td>\n",
       "      <td>144.265971</td>\n",
       "      <td>3.185714</td>\n",
       "      <td>3.776190</td>\n",
       "      <td>144.207571</td>\n",
       "      <td>144.281190</td>\n",
       "      <td>05:30:10</td>\n",
       "    </tr>\n",
       "  </tbody>\n",
       "</table>\n",
       "</div>"
      ],
      "text/plain": [
       "                           trade_size  trade_price  bid_size  ask_size  \\\n",
       "time                                                                     \n",
       "2021-07-13 04:30:10-04:00   39.619048   144.035952  3.962264  4.056604   \n",
       "2021-07-13 05:00:10-04:00   45.049488   144.027031  4.036212  1.838440   \n",
       "2021-07-13 05:30:10-04:00   28.788698   144.265971  3.185714  3.776190   \n",
       "\n",
       "                            bid_price   ask_price timestamp  \n",
       "time                                                         \n",
       "2021-07-13 04:30:10-04:00  140.892075  141.045472  04:30:10  \n",
       "2021-07-13 05:00:10-04:00  143.906630  144.087382  05:00:10  \n",
       "2021-07-13 05:30:10-04:00  144.207571  144.281190  05:30:10  "
      ]
     },
     "execution_count": 318,
     "metadata": {},
     "output_type": "execute_result"
    }
   ],
   "source": [
    "merged_tr_qu.head(3)"
   ]
  },
  {
   "cell_type": "code",
   "execution_count": 319,
   "id": "619c148a",
   "metadata": {},
   "outputs": [],
   "source": [
    "merged_tr_qu['bid_ask_size_spread_percent'] = 100* abs(merged_tr_qu.bid_size - merged_tr_qu.ask_size)/ ((merged_tr_qu.bid_size + merged_tr_qu.ask_size)/2)\n",
    "merged_tr_qu['bid_ask_price_spread_percent'] = 100* abs(merged_tr_qu.bid_price - merged_tr_qu.ask_price)/ ((merged_tr_qu.bid_price + merged_tr_qu.ask_price)/2)"
   ]
  },
  {
   "cell_type": "code",
   "execution_count": 320,
   "id": "b4003f67",
   "metadata": {},
   "outputs": [
    {
     "data": {
      "text/html": [
       "<div>\n",
       "<style scoped>\n",
       "    .dataframe tbody tr th:only-of-type {\n",
       "        vertical-align: middle;\n",
       "    }\n",
       "\n",
       "    .dataframe tbody tr th {\n",
       "        vertical-align: top;\n",
       "    }\n",
       "\n",
       "    .dataframe thead th {\n",
       "        text-align: right;\n",
       "    }\n",
       "</style>\n",
       "<table border=\"1\" class=\"dataframe\">\n",
       "  <thead>\n",
       "    <tr style=\"text-align: right;\">\n",
       "      <th></th>\n",
       "      <th>trade_size</th>\n",
       "      <th>trade_price</th>\n",
       "      <th>bid_size</th>\n",
       "      <th>ask_size</th>\n",
       "      <th>bid_price</th>\n",
       "      <th>ask_price</th>\n",
       "      <th>timestamp</th>\n",
       "      <th>bid_ask_size_spread_percent</th>\n",
       "      <th>bid_ask_price_spread_percent</th>\n",
       "    </tr>\n",
       "    <tr>\n",
       "      <th>time</th>\n",
       "      <th></th>\n",
       "      <th></th>\n",
       "      <th></th>\n",
       "      <th></th>\n",
       "      <th></th>\n",
       "      <th></th>\n",
       "      <th></th>\n",
       "      <th></th>\n",
       "      <th></th>\n",
       "    </tr>\n",
       "  </thead>\n",
       "  <tbody>\n",
       "    <tr>\n",
       "      <th>2021-07-13 04:30:10-04:00</th>\n",
       "      <td>39.619048</td>\n",
       "      <td>144.035952</td>\n",
       "      <td>3.962264</td>\n",
       "      <td>4.056604</td>\n",
       "      <td>140.892075</td>\n",
       "      <td>141.045472</td>\n",
       "      <td>04:30:10</td>\n",
       "      <td>2.352941</td>\n",
       "      <td>0.108816</td>\n",
       "    </tr>\n",
       "    <tr>\n",
       "      <th>2021-07-13 05:00:10-04:00</th>\n",
       "      <td>45.049488</td>\n",
       "      <td>144.027031</td>\n",
       "      <td>4.036212</td>\n",
       "      <td>1.838440</td>\n",
       "      <td>143.906630</td>\n",
       "      <td>144.087382</td>\n",
       "      <td>05:00:10</td>\n",
       "      <td>74.822191</td>\n",
       "      <td>0.125525</td>\n",
       "    </tr>\n",
       "  </tbody>\n",
       "</table>\n",
       "</div>"
      ],
      "text/plain": [
       "                           trade_size  trade_price  bid_size  ask_size  \\\n",
       "time                                                                     \n",
       "2021-07-13 04:30:10-04:00   39.619048   144.035952  3.962264  4.056604   \n",
       "2021-07-13 05:00:10-04:00   45.049488   144.027031  4.036212  1.838440   \n",
       "\n",
       "                            bid_price   ask_price timestamp  \\\n",
       "time                                                          \n",
       "2021-07-13 04:30:10-04:00  140.892075  141.045472  04:30:10   \n",
       "2021-07-13 05:00:10-04:00  143.906630  144.087382  05:00:10   \n",
       "\n",
       "                           bid_ask_size_spread_percent  \\\n",
       "time                                                     \n",
       "2021-07-13 04:30:10-04:00                     2.352941   \n",
       "2021-07-13 05:00:10-04:00                    74.822191   \n",
       "\n",
       "                           bid_ask_price_spread_percent  \n",
       "time                                                     \n",
       "2021-07-13 04:30:10-04:00                      0.108816  \n",
       "2021-07-13 05:00:10-04:00                      0.125525  "
      ]
     },
     "execution_count": 320,
     "metadata": {},
     "output_type": "execute_result"
    }
   ],
   "source": [
    "merged_tr_qu.head(2)"
   ]
  },
  {
   "cell_type": "code",
   "execution_count": null,
   "id": "f8adce9e",
   "metadata": {},
   "outputs": [],
   "source": []
  },
  {
   "cell_type": "code",
   "execution_count": null,
   "id": "89155731",
   "metadata": {},
   "outputs": [],
   "source": []
  },
  {
   "cell_type": "code",
   "execution_count": null,
   "id": "931cf83a",
   "metadata": {},
   "outputs": [],
   "source": []
  },
  {
   "cell_type": "code",
   "execution_count": null,
   "id": "29881e35",
   "metadata": {},
   "outputs": [],
   "source": []
  },
  {
   "cell_type": "code",
   "execution_count": null,
   "id": "261dc9e8",
   "metadata": {},
   "outputs": [],
   "source": []
  },
  {
   "cell_type": "code",
   "execution_count": null,
   "id": "5140073c",
   "metadata": {},
   "outputs": [],
   "source": []
  },
  {
   "cell_type": "code",
   "execution_count": null,
   "id": "35d23da8",
   "metadata": {},
   "outputs": [],
   "source": []
  },
  {
   "cell_type": "code",
   "execution_count": null,
   "id": "e5dd8e38",
   "metadata": {},
   "outputs": [],
   "source": []
  },
  {
   "cell_type": "code",
   "execution_count": null,
   "id": "c534fbc5",
   "metadata": {},
   "outputs": [],
   "source": []
  },
  {
   "cell_type": "code",
   "execution_count": 336,
   "id": "76dbd15e",
   "metadata": {},
   "outputs": [],
   "source": [
    "df = merged_tr_qu[np.abs(merged_tr_qu.bid_ask_price_spread_percent-merged_tr_qu.bid_ask_price_spread_percent.mean()) <= (3*merged_tr_qu.bid_ask_price_spread_percent.std())]\n",
    "# keep only the ones that are within +3 to -3 standard deviations in the column 'Data'.\n"
   ]
  },
  {
   "cell_type": "code",
   "execution_count": 338,
   "id": "a55e8971",
   "metadata": {},
   "outputs": [
    {
     "data": {
      "text/html": [
       "<div>\n",
       "<style scoped>\n",
       "    .dataframe tbody tr th:only-of-type {\n",
       "        vertical-align: middle;\n",
       "    }\n",
       "\n",
       "    .dataframe tbody tr th {\n",
       "        vertical-align: top;\n",
       "    }\n",
       "\n",
       "    .dataframe thead th {\n",
       "        text-align: right;\n",
       "    }\n",
       "</style>\n",
       "<table border=\"1\" class=\"dataframe\">\n",
       "  <thead>\n",
       "    <tr style=\"text-align: right;\">\n",
       "      <th></th>\n",
       "      <th>trade_size</th>\n",
       "      <th>trade_price</th>\n",
       "      <th>bid_size</th>\n",
       "      <th>ask_size</th>\n",
       "      <th>bid_price</th>\n",
       "      <th>ask_price</th>\n",
       "      <th>timestamp</th>\n",
       "      <th>bid_ask_size_spread_percent</th>\n",
       "      <th>bid_ask_price_spread_percent</th>\n",
       "      <th>trade_vwap</th>\n",
       "    </tr>\n",
       "    <tr>\n",
       "      <th>time</th>\n",
       "      <th></th>\n",
       "      <th></th>\n",
       "      <th></th>\n",
       "      <th></th>\n",
       "      <th></th>\n",
       "      <th></th>\n",
       "      <th></th>\n",
       "      <th></th>\n",
       "      <th></th>\n",
       "      <th></th>\n",
       "    </tr>\n",
       "  </thead>\n",
       "  <tbody>\n",
       "    <tr>\n",
       "      <th>2021-07-13 04:30:10-04:00</th>\n",
       "      <td>39.619048</td>\n",
       "      <td>144.035952</td>\n",
       "      <td>3.962264</td>\n",
       "      <td>4.056604</td>\n",
       "      <td>140.892075</td>\n",
       "      <td>141.045472</td>\n",
       "      <td>04:30:10</td>\n",
       "      <td>2.352941</td>\n",
       "      <td>0.108816</td>\n",
       "      <td>188.196129</td>\n",
       "    </tr>\n",
       "    <tr>\n",
       "      <th>2021-07-13 05:00:10-04:00</th>\n",
       "      <td>45.049488</td>\n",
       "      <td>144.027031</td>\n",
       "      <td>4.036212</td>\n",
       "      <td>1.838440</td>\n",
       "      <td>143.906630</td>\n",
       "      <td>144.087382</td>\n",
       "      <td>05:00:10</td>\n",
       "      <td>74.822191</td>\n",
       "      <td>0.125525</td>\n",
       "      <td>188.196129</td>\n",
       "    </tr>\n",
       "    <tr>\n",
       "      <th>2021-07-13 05:30:10-04:00</th>\n",
       "      <td>28.788698</td>\n",
       "      <td>144.265971</td>\n",
       "      <td>3.185714</td>\n",
       "      <td>3.776190</td>\n",
       "      <td>144.207571</td>\n",
       "      <td>144.281190</td>\n",
       "      <td>05:30:10</td>\n",
       "      <td>16.963064</td>\n",
       "      <td>0.051038</td>\n",
       "      <td>188.196129</td>\n",
       "    </tr>\n",
       "    <tr>\n",
       "      <th>2021-07-13 06:00:10-04:00</th>\n",
       "      <td>29.880519</td>\n",
       "      <td>144.553714</td>\n",
       "      <td>2.292683</td>\n",
       "      <td>1.717770</td>\n",
       "      <td>144.503972</td>\n",
       "      <td>144.638432</td>\n",
       "      <td>06:00:10</td>\n",
       "      <td>28.670721</td>\n",
       "      <td>0.093006</td>\n",
       "      <td>188.196129</td>\n",
       "    </tr>\n",
       "    <tr>\n",
       "      <th>2021-07-13 06:30:10-04:00</th>\n",
       "      <td>37.444043</td>\n",
       "      <td>144.660975</td>\n",
       "      <td>2.198758</td>\n",
       "      <td>4.652174</td>\n",
       "      <td>144.610932</td>\n",
       "      <td>144.710559</td>\n",
       "      <td>06:30:10</td>\n",
       "      <td>71.622847</td>\n",
       "      <td>0.068870</td>\n",
       "      <td>188.196129</td>\n",
       "    </tr>\n",
       "  </tbody>\n",
       "</table>\n",
       "</div>"
      ],
      "text/plain": [
       "                           trade_size  trade_price  bid_size  ask_size  \\\n",
       "time                                                                     \n",
       "2021-07-13 04:30:10-04:00   39.619048   144.035952  3.962264  4.056604   \n",
       "2021-07-13 05:00:10-04:00   45.049488   144.027031  4.036212  1.838440   \n",
       "2021-07-13 05:30:10-04:00   28.788698   144.265971  3.185714  3.776190   \n",
       "2021-07-13 06:00:10-04:00   29.880519   144.553714  2.292683  1.717770   \n",
       "2021-07-13 06:30:10-04:00   37.444043   144.660975  2.198758  4.652174   \n",
       "\n",
       "                            bid_price   ask_price timestamp  \\\n",
       "time                                                          \n",
       "2021-07-13 04:30:10-04:00  140.892075  141.045472  04:30:10   \n",
       "2021-07-13 05:00:10-04:00  143.906630  144.087382  05:00:10   \n",
       "2021-07-13 05:30:10-04:00  144.207571  144.281190  05:30:10   \n",
       "2021-07-13 06:00:10-04:00  144.503972  144.638432  06:00:10   \n",
       "2021-07-13 06:30:10-04:00  144.610932  144.710559  06:30:10   \n",
       "\n",
       "                           bid_ask_size_spread_percent  \\\n",
       "time                                                     \n",
       "2021-07-13 04:30:10-04:00                     2.352941   \n",
       "2021-07-13 05:00:10-04:00                    74.822191   \n",
       "2021-07-13 05:30:10-04:00                    16.963064   \n",
       "2021-07-13 06:00:10-04:00                    28.670721   \n",
       "2021-07-13 06:30:10-04:00                    71.622847   \n",
       "\n",
       "                           bid_ask_price_spread_percent  trade_vwap  \n",
       "time                                                                 \n",
       "2021-07-13 04:30:10-04:00                      0.108816  188.196129  \n",
       "2021-07-13 05:00:10-04:00                      0.125525  188.196129  \n",
       "2021-07-13 05:30:10-04:00                      0.051038  188.196129  \n",
       "2021-07-13 06:00:10-04:00                      0.093006  188.196129  \n",
       "2021-07-13 06:30:10-04:00                      0.068870  188.196129  "
      ]
     },
     "execution_count": 338,
     "metadata": {},
     "output_type": "execute_result"
    }
   ],
   "source": [
    "df.head()"
   ]
  },
  {
   "cell_type": "code",
   "execution_count": 324,
   "id": "be8bc560",
   "metadata": {},
   "outputs": [
    {
     "data": {
      "text/plain": [
       "<AxesSubplot:xlabel='timestamp'>"
      ]
     },
     "execution_count": 324,
     "metadata": {},
     "output_type": "execute_result"
    },
    {
     "data": {
      "image/png": "[encoded data removed]",
      "text/plain": [
       "<Figure size 432x288 with 1 Axes>"
      ]
     },
     "metadata": {
      "needs_background": "light"
     },
     "output_type": "display_data"
    }
   ],
   "source": [
    "merged_tr_qu.plot(x='timestamp', y=['bid_ask_price_spread_percent','bid_ask_size_spread_percent'], marker='o', kind='line')\n"
   ]
  },
  {
   "cell_type": "code",
   "execution_count": null,
   "id": "2440a154",
   "metadata": {},
   "outputs": [],
   "source": []
  },
  {
   "cell_type": "code",
   "execution_count": null,
   "id": "0be4259e",
   "metadata": {},
   "outputs": [],
   "source": []
  },
  {
   "cell_type": "code",
   "execution_count": null,
   "id": "2012218e",
   "metadata": {},
   "outputs": [],
   "source": []
  },
  {
   "cell_type": "code",
   "execution_count": null,
   "id": "c51cc698",
   "metadata": {},
   "outputs": [],
   "source": []
  },
  {
   "cell_type": "code",
   "execution_count": null,
   "id": "8ec6cedd",
   "metadata": {},
   "outputs": [],
   "source": []
  },
  {
   "cell_type": "code",
   "execution_count": null,
   "id": "dc4fc394",
   "metadata": {},
   "outputs": [],
   "source": []
  },
  {
   "cell_type": "code",
   "execution_count": null,
   "id": "3239b7f4",
   "metadata": {},
   "outputs": [],
   "source": []
  },
  {
   "cell_type": "code",
   "execution_count": null,
   "id": "a3f2206a",
   "metadata": {},
   "outputs": [],
   "source": []
  },
  {
   "cell_type": "code",
   "execution_count": null,
   "id": "8c81f092",
   "metadata": {},
   "outputs": [],
   "source": []
  }
 ],
 "metadata": {
  "kernelspec": {
   "display_name": "Python 3",
   "language": "python",
   "name": "python3"
  },
  "language_info": {
   "codemirror_mode": {
    "name": "ipython",
    "version": 3
   },
   "file_extension": ".py",
   "mimetype": "text/x-python",
   "name": "python",
   "nbconvert_exporter": "python",
   "pygments_lexer": "ipython3",
   "version": "3.8.8"
  }
 },
 "nbformat": 4,
 "nbformat_minor": 5
}
