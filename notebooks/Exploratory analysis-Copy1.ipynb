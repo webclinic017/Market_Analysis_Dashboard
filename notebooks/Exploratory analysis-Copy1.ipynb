{
 "cells": [
  {
   "cell_type": "code",
   "execution_count": 28,
   "source": [
    "from alpaca_trade_api.rest import REST, TimeFrame\r\n",
    "from alpaca_trade_api.entity import (\r\n",
    "    Bar, Entity, Account, AccountConfigurations, AccountActivity,\r\n",
    "    Asset, Order, Position, BarSet, Clock, Calendar,\r\n",
    "    Aggs, Trade, Quote, Watchlist, PortfolioHistory\r\n",
    ")\r\n",
    "\r\n",
    "api = REST(key_id=\"PKX7NWBTMYXT2JU5FBVS\", secret_key=\"FgzjEqmnoHXtDQ1vBHjGCArd1khau7Q868VkJrGA\")\r\n",
    "#api = REST()\r\n",
    "import pandas as pd\r\n",
    "import numpy as np\r\n",
    "import matplotlib.pyplot as plt\r\n"
   ],
   "outputs": [],
   "metadata": {}
  },
  {
   "cell_type": "code",
   "execution_count": 29,
   "source": [
    "def calculate_group_vwap(df, price, size):\r\n",
    "    dff = df.copy()\r\n",
    "    dff['pxs']= dff[\"price\"] * dff[\"size\"]\r\n",
    "    numerator=dff['pxs'].sum()\r\n",
    "    denom = dff[\"size\"].sum()\r\n",
    "    vwap= numerator/denom\r\n",
    "    print(numerator, denom, vwap)\r\n",
    "    return vwap"
   ],
   "outputs": [],
   "metadata": {}
  },
  {
   "cell_type": "code",
   "execution_count": 30,
   "source": [
    "class AlpacaDownloader:\r\n",
    "    \r\n",
    "    def __init__(self):\r\n",
    "        pass\r\n",
    "    \r\n",
    "    def get_quotes(self, symbol, start, end, limit=100000):\r\n",
    "        return api.get_quotes(symbol, start, end, limit=limit).df\r\n",
    "\r\n",
    "    \r\n",
    "    def get_trades(self, symbol, start, end, limit=100000):\r\n",
    "        return api.get_trades(symbol, start, end, limit = limit).df\r\n",
    "\r\n",
    "\r\n",
    "    def get_bars(self, symbol, start, end, interval=TimeFrame.Minute, limit=100000):\r\n",
    "        return api.get_bars(symbol, interval, start, end, limit=limit).df\r\n"
   ],
   "outputs": [],
   "metadata": {}
  },
  {
   "cell_type": "code",
   "execution_count": 31,
   "source": [
    "ad = AlpacaDownloader()"
   ],
   "outputs": [],
   "metadata": {}
  },
  {
   "cell_type": "code",
   "execution_count": null,
   "source": [],
   "outputs": [],
   "metadata": {}
  },
  {
   "cell_type": "markdown",
   "source": [
    "#### Read files"
   ],
   "metadata": {}
  },
  {
   "cell_type": "code",
   "execution_count": 32,
   "source": [
    "orders = pd.read_excel(\"orders_symbols.xlsx\")\r\n",
    "dollars = pd.read_excel(\"dollar_symbols.xlsx\")"
   ],
   "outputs": [],
   "metadata": {}
  },
  {
   "cell_type": "code",
   "execution_count": 33,
   "source": [
    "start_date = \"2021-01-01\"\r\n",
    "end_date = \"2021-08-30\"\r\n",
    "interval = TimeFrame.Minute\r\n"
   ],
   "outputs": [],
   "metadata": {}
  },
  {
   "cell_type": "code",
   "execution_count": 34,
   "source": [
    "aapl = ad.get_bars(\"AAPL\", \"2021-07-13\", \"2021-07-14\", limit=3000000)\r\n",
    "len(aapl)"
   ],
   "outputs": [
    {
     "output_type": "execute_result",
     "data": {
      "text/plain": [
       "1688"
      ]
     },
     "metadata": {},
     "execution_count": 34
    }
   ],
   "metadata": {}
  },
  {
   "cell_type": "code",
   "execution_count": 35,
   "source": [
    "dollars"
   ],
   "outputs": [
    {
     "output_type": "execute_result",
     "data": {
      "text/plain": [
       "     symbol  dollars_filled  cum_sum/sum\n",
       "0      TSLA    3.165366e+08     0.058183\n",
       "1       GME    2.263497e+08     0.099788\n",
       "2      AAPL    1.449961e+08     0.126439\n",
       "3       NIO    1.170493e+08     0.147954\n",
       "4      AMZN    1.099452e+08     0.168163\n",
       "...     ...             ...          ...\n",
       "9058  TRBCX    0.000000e+00     1.000000\n",
       "9059   TYBT    0.000000e+00     1.000000\n",
       "9060  WALDU    0.000000e+00     1.000000\n",
       "9061   XRLV    0.000000e+00     1.000000\n",
       "9062   YLDE    0.000000e+00     1.000000\n",
       "\n",
       "[9063 rows x 3 columns]"
      ],
      "text/html": [
       "<div>\n",
       "<style scoped>\n",
       "    .dataframe tbody tr th:only-of-type {\n",
       "        vertical-align: middle;\n",
       "    }\n",
       "\n",
       "    .dataframe tbody tr th {\n",
       "        vertical-align: top;\n",
       "    }\n",
       "\n",
       "    .dataframe thead th {\n",
       "        text-align: right;\n",
       "    }\n",
       "</style>\n",
       "<table border=\"1\" class=\"dataframe\">\n",
       "  <thead>\n",
       "    <tr style=\"text-align: right;\">\n",
       "      <th></th>\n",
       "      <th>symbol</th>\n",
       "      <th>dollars_filled</th>\n",
       "      <th>cum_sum/sum</th>\n",
       "    </tr>\n",
       "  </thead>\n",
       "  <tbody>\n",
       "    <tr>\n",
       "      <th>0</th>\n",
       "      <td>TSLA</td>\n",
       "      <td>3.165366e+08</td>\n",
       "      <td>0.058183</td>\n",
       "    </tr>\n",
       "    <tr>\n",
       "      <th>1</th>\n",
       "      <td>GME</td>\n",
       "      <td>2.263497e+08</td>\n",
       "      <td>0.099788</td>\n",
       "    </tr>\n",
       "    <tr>\n",
       "      <th>2</th>\n",
       "      <td>AAPL</td>\n",
       "      <td>1.449961e+08</td>\n",
       "      <td>0.126439</td>\n",
       "    </tr>\n",
       "    <tr>\n",
       "      <th>3</th>\n",
       "      <td>NIO</td>\n",
       "      <td>1.170493e+08</td>\n",
       "      <td>0.147954</td>\n",
       "    </tr>\n",
       "    <tr>\n",
       "      <th>4</th>\n",
       "      <td>AMZN</td>\n",
       "      <td>1.099452e+08</td>\n",
       "      <td>0.168163</td>\n",
       "    </tr>\n",
       "    <tr>\n",
       "      <th>...</th>\n",
       "      <td>...</td>\n",
       "      <td>...</td>\n",
       "      <td>...</td>\n",
       "    </tr>\n",
       "    <tr>\n",
       "      <th>9058</th>\n",
       "      <td>TRBCX</td>\n",
       "      <td>0.000000e+00</td>\n",
       "      <td>1.000000</td>\n",
       "    </tr>\n",
       "    <tr>\n",
       "      <th>9059</th>\n",
       "      <td>TYBT</td>\n",
       "      <td>0.000000e+00</td>\n",
       "      <td>1.000000</td>\n",
       "    </tr>\n",
       "    <tr>\n",
       "      <th>9060</th>\n",
       "      <td>WALDU</td>\n",
       "      <td>0.000000e+00</td>\n",
       "      <td>1.000000</td>\n",
       "    </tr>\n",
       "    <tr>\n",
       "      <th>9061</th>\n",
       "      <td>XRLV</td>\n",
       "      <td>0.000000e+00</td>\n",
       "      <td>1.000000</td>\n",
       "    </tr>\n",
       "    <tr>\n",
       "      <th>9062</th>\n",
       "      <td>YLDE</td>\n",
       "      <td>0.000000e+00</td>\n",
       "      <td>1.000000</td>\n",
       "    </tr>\n",
       "  </tbody>\n",
       "</table>\n",
       "<p>9063 rows × 3 columns</p>\n",
       "</div>"
      ]
     },
     "metadata": {},
     "execution_count": 35
    }
   ],
   "metadata": {}
  },
  {
   "cell_type": "code",
   "execution_count": 41,
   "source": [
    "dollars_syms = list(dollars['symbol'])\r\n",
    "orders_syms = list(orders['symbol'])"
   ],
   "outputs": [],
   "metadata": {}
  },
  {
   "cell_type": "code",
   "execution_count": 49,
   "source": [
    "unique_syms = list(set(orders_syms).union(set(dollars_syms)))"
   ],
   "outputs": [],
   "metadata": {}
  },
  {
   "cell_type": "code",
   "execution_count": 51,
   "source": [
    "len(unique_syms)"
   ],
   "outputs": [
    {
     "output_type": "execute_result",
     "data": {
      "text/plain": [
       "9063"
      ]
     },
     "metadata": {},
     "execution_count": 51
    }
   ],
   "metadata": {}
  },
  {
   "cell_type": "code",
   "execution_count": 57,
   "source": [
    "sprt = ad.get_bars(\"SPRT\", \"2021-08-26\", \"2021-08-31\", limit=3000000)\r\n"
   ],
   "outputs": [],
   "metadata": {}
  },
  {
   "cell_type": "code",
   "execution_count": 59,
   "source": [
    "sprt.tail()"
   ],
   "outputs": [
    {
     "output_type": "execute_result",
     "data": {
      "text/plain": [
       "                            open   high    low  close  volume  trade_count  \\\n",
       "timestamp                                                                    \n",
       "2021-08-31 23:55:00+00:00  30.96  31.05  30.96  31.05    1823           24   \n",
       "2021-08-31 23:56:00+00:00  31.05  31.10  31.00  31.00    1366           28   \n",
       "2021-08-31 23:57:00+00:00  30.99  31.00  30.98  30.99    3606           30   \n",
       "2021-08-31 23:58:00+00:00  30.99  30.99  30.92  30.97    5974           49   \n",
       "2021-08-31 23:59:00+00:00  30.96  30.96  30.92  30.95   14644           73   \n",
       "\n",
       "                                vwap  \n",
       "timestamp                             \n",
       "2021-08-31 23:55:00+00:00  30.980005  \n",
       "2021-08-31 23:56:00+00:00  31.035031  \n",
       "2021-08-31 23:57:00+00:00  30.990652  \n",
       "2021-08-31 23:58:00+00:00  30.946923  \n",
       "2021-08-31 23:59:00+00:00  30.938975  "
      ],
      "text/html": [
       "<div>\n",
       "<style scoped>\n",
       "    .dataframe tbody tr th:only-of-type {\n",
       "        vertical-align: middle;\n",
       "    }\n",
       "\n",
       "    .dataframe tbody tr th {\n",
       "        vertical-align: top;\n",
       "    }\n",
       "\n",
       "    .dataframe thead th {\n",
       "        text-align: right;\n",
       "    }\n",
       "</style>\n",
       "<table border=\"1\" class=\"dataframe\">\n",
       "  <thead>\n",
       "    <tr style=\"text-align: right;\">\n",
       "      <th></th>\n",
       "      <th>open</th>\n",
       "      <th>high</th>\n",
       "      <th>low</th>\n",
       "      <th>close</th>\n",
       "      <th>volume</th>\n",
       "      <th>trade_count</th>\n",
       "      <th>vwap</th>\n",
       "    </tr>\n",
       "    <tr>\n",
       "      <th>timestamp</th>\n",
       "      <th></th>\n",
       "      <th></th>\n",
       "      <th></th>\n",
       "      <th></th>\n",
       "      <th></th>\n",
       "      <th></th>\n",
       "      <th></th>\n",
       "    </tr>\n",
       "  </thead>\n",
       "  <tbody>\n",
       "    <tr>\n",
       "      <th>2021-08-31 23:55:00+00:00</th>\n",
       "      <td>30.96</td>\n",
       "      <td>31.05</td>\n",
       "      <td>30.96</td>\n",
       "      <td>31.05</td>\n",
       "      <td>1823</td>\n",
       "      <td>24</td>\n",
       "      <td>30.980005</td>\n",
       "    </tr>\n",
       "    <tr>\n",
       "      <th>2021-08-31 23:56:00+00:00</th>\n",
       "      <td>31.05</td>\n",
       "      <td>31.10</td>\n",
       "      <td>31.00</td>\n",
       "      <td>31.00</td>\n",
       "      <td>1366</td>\n",
       "      <td>28</td>\n",
       "      <td>31.035031</td>\n",
       "    </tr>\n",
       "    <tr>\n",
       "      <th>2021-08-31 23:57:00+00:00</th>\n",
       "      <td>30.99</td>\n",
       "      <td>31.00</td>\n",
       "      <td>30.98</td>\n",
       "      <td>30.99</td>\n",
       "      <td>3606</td>\n",
       "      <td>30</td>\n",
       "      <td>30.990652</td>\n",
       "    </tr>\n",
       "    <tr>\n",
       "      <th>2021-08-31 23:58:00+00:00</th>\n",
       "      <td>30.99</td>\n",
       "      <td>30.99</td>\n",
       "      <td>30.92</td>\n",
       "      <td>30.97</td>\n",
       "      <td>5974</td>\n",
       "      <td>49</td>\n",
       "      <td>30.946923</td>\n",
       "    </tr>\n",
       "    <tr>\n",
       "      <th>2021-08-31 23:59:00+00:00</th>\n",
       "      <td>30.96</td>\n",
       "      <td>30.96</td>\n",
       "      <td>30.92</td>\n",
       "      <td>30.95</td>\n",
       "      <td>14644</td>\n",
       "      <td>73</td>\n",
       "      <td>30.938975</td>\n",
       "    </tr>\n",
       "  </tbody>\n",
       "</table>\n",
       "</div>"
      ]
     },
     "metadata": {},
     "execution_count": 59
    }
   ],
   "metadata": {}
  },
  {
   "cell_type": "code",
   "execution_count": null,
   "source": [],
   "outputs": [],
   "metadata": {}
  }
 ],
 "metadata": {
  "kernelspec": {
   "name": "python3",
   "display_name": "Python 3.7.6 64-bit (conda)"
  },
  "language_info": {
   "codemirror_mode": {
    "name": "ipython",
    "version": 3
   },
   "file_extension": ".py",
   "mimetype": "text/x-python",
   "name": "python",
   "nbconvert_exporter": "python",
   "pygments_lexer": "ipython3",
   "version": "3.7.6"
  },
  "interpreter": {
   "hash": "12b2942185802465d2a23ebc75a0c59bba383beab4d4b3139e3e4590ef91c01f"
  }
 },
 "nbformat": 4,
 "nbformat_minor": 5
}