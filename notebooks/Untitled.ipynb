{
 "cells": [
  {
   "cell_type": "code",
   "execution_count": 110,
   "id": "9377f1ee",
   "metadata": {},
   "outputs": [],
   "source": [
    "from alpaca_trade_api.rest import REST, TimeFrame\n",
    "api = REST(key_id=\"PKX7NWBTMYXT2JU5FBVS\", secret_key=\"FgzjEqmnoHXtDQ1vBHjGCArd1khau7Q868VkJrGA\")\n",
    "#api = REST()\n",
    "import pandas as pd"
   ]
  },
  {
   "cell_type": "code",
   "execution_count": null,
   "id": "f9ef9069",
   "metadata": {},
   "outputs": [],
   "source": []
  },
  {
   "cell_type": "code",
   "execution_count": 95,
   "id": "a86a04f3",
   "metadata": {},
   "outputs": [],
   "source": [
    "class AlpacaDownloader:\n",
    "    \n",
    "    def __init__(self):\n",
    "        pass\n",
    "    \n",
    "    def get_quotes(self, symbol, start, end, limit=10000):\n",
    "        return api.get_quotes(symbol, start, end, limit=limit).df\n",
    "\n",
    "    \n",
    "    def get_trades(self, symbol, start, end, limit=10000):\n",
    "        return api.get_trades(symbol, start, end, limit=limit).df\n",
    "\n",
    "\n",
    "    def get_bars(self, symbol, start, end, interval=TimeFrame.Day, limit=10000):\n",
    "        return api.get_bars(symbol, TimeFrame.Hour, start, end, limit=limit).df\n"
   ]
  },
  {
   "cell_type": "code",
   "execution_count": 96,
   "id": "d709aa03",
   "metadata": {},
   "outputs": [],
   "source": [
    "ad = AlpacaDownloader()\n"
   ]
  },
  {
   "cell_type": "code",
   "execution_count": 105,
   "id": "336b776b",
   "metadata": {},
   "outputs": [],
   "source": [
    "aapl = ad.get_trades(\"KXIN\", \"2021-06-08\", \"2021-06-09\", limit=5al0000)"
   ]
  },
  {
   "cell_type": "code",
   "execution_count": 106,
   "id": "a7b22cad",
   "metadata": {},
   "outputs": [],
   "source": [
    "aapl['time'] = aapl.index"
   ]
  },
  {
   "cell_type": "code",
   "execution_count": 107,
   "id": "7dd08249",
   "metadata": {},
   "outputs": [
    {
     "data": {
      "text/html": [
       "<div>\n",
       "<style scoped>\n",
       "    .dataframe tbody tr th:only-of-type {\n",
       "        vertical-align: middle;\n",
       "    }\n",
       "\n",
       "    .dataframe tbody tr th {\n",
       "        vertical-align: top;\n",
       "    }\n",
       "\n",
       "    .dataframe thead th {\n",
       "        text-align: right;\n",
       "    }\n",
       "</style>\n",
       "<table border=\"1\" class=\"dataframe\">\n",
       "  <thead>\n",
       "    <tr style=\"text-align: right;\">\n",
       "      <th></th>\n",
       "      <th>exchange</th>\n",
       "      <th>price</th>\n",
       "      <th>size</th>\n",
       "      <th>conditions</th>\n",
       "      <th>id</th>\n",
       "      <th>tape</th>\n",
       "      <th>time</th>\n",
       "    </tr>\n",
       "    <tr>\n",
       "      <th>timestamp</th>\n",
       "      <th></th>\n",
       "      <th></th>\n",
       "      <th></th>\n",
       "      <th></th>\n",
       "      <th></th>\n",
       "      <th></th>\n",
       "      <th></th>\n",
       "    </tr>\n",
       "  </thead>\n",
       "  <tbody>\n",
       "    <tr>\n",
       "      <th>2021-06-09 22:40:25.187000+00:00</th>\n",
       "      <td>D</td>\n",
       "      <td>2.45</td>\n",
       "      <td>500</td>\n",
       "      <td>[@, T]</td>\n",
       "      <td>258</td>\n",
       "      <td>C</td>\n",
       "      <td>2021-06-09 22:40:25.187000+00:00</td>\n",
       "    </tr>\n",
       "    <tr>\n",
       "      <th>2021-06-09 22:40:25.189000+00:00</th>\n",
       "      <td>D</td>\n",
       "      <td>2.45</td>\n",
       "      <td>500</td>\n",
       "      <td>[@, T]</td>\n",
       "      <td>259</td>\n",
       "      <td>C</td>\n",
       "      <td>2021-06-09 22:40:25.189000+00:00</td>\n",
       "    </tr>\n",
       "    <tr>\n",
       "      <th>2021-06-09 22:47:36.478502912+00:00</th>\n",
       "      <td>P</td>\n",
       "      <td>2.45</td>\n",
       "      <td>20</td>\n",
       "      <td>[@, T, I]</td>\n",
       "      <td>232</td>\n",
       "      <td>C</td>\n",
       "      <td>2021-06-09 22:47:36.478502912+00:00</td>\n",
       "    </tr>\n",
       "    <tr>\n",
       "      <th>2021-06-09 22:47:36.478957863+00:00</th>\n",
       "      <td>Q</td>\n",
       "      <td>2.45</td>\n",
       "      <td>80</td>\n",
       "      <td>[@, F, T, I]</td>\n",
       "      <td>462</td>\n",
       "      <td>C</td>\n",
       "      <td>2021-06-09 22:47:36.478957863+00:00</td>\n",
       "    </tr>\n",
       "    <tr>\n",
       "      <th>2021-06-09 23:01:05.090000+00:00</th>\n",
       "      <td>D</td>\n",
       "      <td>2.45</td>\n",
       "      <td>538</td>\n",
       "      <td>[@, T]</td>\n",
       "      <td>746</td>\n",
       "      <td>C</td>\n",
       "      <td>2021-06-09 23:01:05.090000+00:00</td>\n",
       "    </tr>\n",
       "  </tbody>\n",
       "</table>\n",
       "</div>"
      ],
      "text/plain": [
       "                                    exchange  price  size    conditions   id  \\\n",
       "timestamp                                                                      \n",
       "2021-06-09 22:40:25.187000+00:00           D   2.45   500        [@, T]  258   \n",
       "2021-06-09 22:40:25.189000+00:00           D   2.45   500        [@, T]  259   \n",
       "2021-06-09 22:47:36.478502912+00:00        P   2.45    20     [@, T, I]  232   \n",
       "2021-06-09 22:47:36.478957863+00:00        Q   2.45    80  [@, F, T, I]  462   \n",
       "2021-06-09 23:01:05.090000+00:00           D   2.45   538        [@, T]  746   \n",
       "\n",
       "                                    tape                                time  \n",
       "timestamp                                                                     \n",
       "2021-06-09 22:40:25.187000+00:00       C    2021-06-09 22:40:25.187000+00:00  \n",
       "2021-06-09 22:40:25.189000+00:00       C    2021-06-09 22:40:25.189000+00:00  \n",
       "2021-06-09 22:47:36.478502912+00:00    C 2021-06-09 22:47:36.478502912+00:00  \n",
       "2021-06-09 22:47:36.478957863+00:00    C 2021-06-09 22:47:36.478957863+00:00  \n",
       "2021-06-09 23:01:05.090000+00:00       C    2021-06-09 23:01:05.090000+00:00  "
      ]
     },
     "execution_count": 107,
     "metadata": {},
     "output_type": "execute_result"
    }
   ],
   "source": [
    "aapl.tail()"
   ]
  },
  {
   "cell_type": "code",
   "execution_count": 108,
   "id": "54c37609",
   "metadata": {},
   "outputs": [
    {
     "data": {
      "text/plain": [
       "time\n",
       "2021-06-08 08:30:10+00:00       1\n",
       "2021-06-08 09:00:10+00:00       0\n",
       "2021-06-08 09:30:10+00:00      20\n",
       "2021-06-08 10:00:10+00:00       0\n",
       "2021-06-08 10:30:10+00:00       5\n",
       "                             ... \n",
       "2021-06-09 21:00:10+00:00       1\n",
       "2021-06-09 21:30:10+00:00    2032\n",
       "2021-06-09 22:00:10+00:00      33\n",
       "2021-06-09 22:30:10+00:00    1100\n",
       "2021-06-09 23:00:10+00:00     538\n",
       "Freq: 30T, Name: size, Length: 78, dtype: int64"
      ]
     },
     "execution_count": 108,
     "metadata": {},
     "output_type": "execute_result"
    }
   ],
   "source": [
    "aapl.resample('30min', on='time', offset='30Min10s')['size'].sum()\n"
   ]
  },
  {
   "cell_type": "code",
   "execution_count": 84,
   "id": "1cdf5faa",
   "metadata": {},
   "outputs": [
    {
     "data": {
      "text/plain": [
       "200000"
      ]
     },
     "execution_count": 84,
     "metadata": {},
     "output_type": "execute_result"
    }
   ],
   "source": [
    "len(aapl)"
   ]
  },
  {
   "cell_type": "code",
   "execution_count": 85,
   "id": "f379df20",
   "metadata": {},
   "outputs": [],
   "source": [
    "temp = aapl.rolling(window=\"1H\").sum()"
   ]
  },
  {
   "cell_type": "code",
   "execution_count": 86,
   "id": "c932a743",
   "metadata": {},
   "outputs": [
    {
     "data": {
      "text/plain": [
       "<AxesSubplot:xlabel='timestamp'>"
      ]
     },
     "execution_count": 86,
     "metadata": {},
     "output_type": "execute_result"
    },
    {
     "data": {
      "image/png": "[encoded data removed]",
      "text/plain": [
       "<Figure size 432x288 with 1 Axes>"
      ]
     },
     "metadata": {
      "needs_background": "light"
     },
     "output_type": "display_data"
    }
   ],
   "source": [
    "temp['size'].plot()"
   ]
  },
  {
   "cell_type": "code",
   "execution_count": null,
   "id": "0491a173",
   "metadata": {},
   "outputs": [],
   "source": []
  },
  {
   "cell_type": "code",
   "execution_count": 87,
   "id": "8e2bddd8",
   "metadata": {},
   "outputs": [
    {
     "data": {
      "text/html": [
       "<div>\n",
       "<style scoped>\n",
       "    .dataframe tbody tr th:only-of-type {\n",
       "        vertical-align: middle;\n",
       "    }\n",
       "\n",
       "    .dataframe tbody tr th {\n",
       "        vertical-align: top;\n",
       "    }\n",
       "\n",
       "    .dataframe thead th {\n",
       "        text-align: right;\n",
       "    }\n",
       "</style>\n",
       "<table border=\"1\" class=\"dataframe\">\n",
       "  <thead>\n",
       "    <tr style=\"text-align: right;\">\n",
       "      <th></th>\n",
       "      <th>exchange</th>\n",
       "      <th>price</th>\n",
       "      <th>size</th>\n",
       "      <th>conditions</th>\n",
       "      <th>id</th>\n",
       "      <th>tape</th>\n",
       "      <th>time</th>\n",
       "    </tr>\n",
       "    <tr>\n",
       "      <th>timestamp</th>\n",
       "      <th></th>\n",
       "      <th></th>\n",
       "      <th></th>\n",
       "      <th></th>\n",
       "      <th></th>\n",
       "      <th></th>\n",
       "      <th></th>\n",
       "    </tr>\n",
       "  </thead>\n",
       "  <tbody>\n",
       "    <tr>\n",
       "      <th>2021-02-08 15:17:29.287400+00:00</th>\n",
       "      <td>K</td>\n",
       "      <td>136.07</td>\n",
       "      <td>36</td>\n",
       "      <td>[@, I]</td>\n",
       "      <td>23464</td>\n",
       "      <td>C</td>\n",
       "      <td>2021-02-08 15:17:29.287400+00:00</td>\n",
       "    </tr>\n",
       "    <tr>\n",
       "      <th>2021-02-08 15:17:29.287400+00:00</th>\n",
       "      <td>K</td>\n",
       "      <td>136.07</td>\n",
       "      <td>26</td>\n",
       "      <td>[@, I]</td>\n",
       "      <td>23465</td>\n",
       "      <td>C</td>\n",
       "      <td>2021-02-08 15:17:29.287400+00:00</td>\n",
       "    </tr>\n",
       "    <tr>\n",
       "      <th>2021-02-08 15:17:29.287400+00:00</th>\n",
       "      <td>K</td>\n",
       "      <td>136.07</td>\n",
       "      <td>100</td>\n",
       "      <td>[@]</td>\n",
       "      <td>23466</td>\n",
       "      <td>C</td>\n",
       "      <td>2021-02-08 15:17:29.287400+00:00</td>\n",
       "    </tr>\n",
       "    <tr>\n",
       "      <th>2021-02-08 15:17:29.287400+00:00</th>\n",
       "      <td>K</td>\n",
       "      <td>136.07</td>\n",
       "      <td>100</td>\n",
       "      <td>[@]</td>\n",
       "      <td>23467</td>\n",
       "      <td>C</td>\n",
       "      <td>2021-02-08 15:17:29.287400+00:00</td>\n",
       "    </tr>\n",
       "    <tr>\n",
       "      <th>2021-02-08 15:17:29.287400+00:00</th>\n",
       "      <td>K</td>\n",
       "      <td>136.07</td>\n",
       "      <td>67</td>\n",
       "      <td>[@, I]</td>\n",
       "      <td>23468</td>\n",
       "      <td>C</td>\n",
       "      <td>2021-02-08 15:17:29.287400+00:00</td>\n",
       "    </tr>\n",
       "  </tbody>\n",
       "</table>\n",
       "</div>"
      ],
      "text/plain": [
       "                                 exchange   price  size conditions     id  \\\n",
       "timestamp                                                                   \n",
       "2021-02-08 15:17:29.287400+00:00        K  136.07    36     [@, I]  23464   \n",
       "2021-02-08 15:17:29.287400+00:00        K  136.07    26     [@, I]  23465   \n",
       "2021-02-08 15:17:29.287400+00:00        K  136.07   100        [@]  23466   \n",
       "2021-02-08 15:17:29.287400+00:00        K  136.07   100        [@]  23467   \n",
       "2021-02-08 15:17:29.287400+00:00        K  136.07    67     [@, I]  23468   \n",
       "\n",
       "                                 tape                             time  \n",
       "timestamp                                                               \n",
       "2021-02-08 15:17:29.287400+00:00    C 2021-02-08 15:17:29.287400+00:00  \n",
       "2021-02-08 15:17:29.287400+00:00    C 2021-02-08 15:17:29.287400+00:00  \n",
       "2021-02-08 15:17:29.287400+00:00    C 2021-02-08 15:17:29.287400+00:00  \n",
       "2021-02-08 15:17:29.287400+00:00    C 2021-02-08 15:17:29.287400+00:00  \n",
       "2021-02-08 15:17:29.287400+00:00    C 2021-02-08 15:17:29.287400+00:00  "
      ]
     },
     "execution_count": 87,
     "metadata": {},
     "output_type": "execute_result"
    }
   ],
   "source": [
    "aapl.tail()"
   ]
  },
  {
   "cell_type": "code",
   "execution_count": null,
   "id": "7f934d15",
   "metadata": {},
   "outputs": [],
   "source": []
  },
  {
   "cell_type": "code",
   "execution_count": 114,
   "id": "cb286ac7",
   "metadata": {},
   "outputs": [
    {
     "ename": "AttributeError",
     "evalue": "'Series' object has no attribute 'sorted'",
     "output_type": "error",
     "traceback": [
      "\u001b[0;31m---------------------------------------------------------------------------\u001b[0m",
      "\u001b[0;31mAttributeError\u001b[0m                            Traceback (most recent call last)",
      "\u001b[0;32m<ipython-input-114-59694471f584>\u001b[0m in \u001b[0;36m<module>\u001b[0;34m\u001b[0m\n\u001b[1;32m      2\u001b[0m \u001b[0;34m\u001b[0m\u001b[0m\n\u001b[1;32m      3\u001b[0m \u001b[0maapl\u001b[0m\u001b[0;34m[\u001b[0m\u001b[0;34m\"bins\"\u001b[0m\u001b[0;34m]\u001b[0m \u001b[0;34m=\u001b[0m \u001b[0mpd\u001b[0m\u001b[0;34m.\u001b[0m\u001b[0mcut\u001b[0m\u001b[0;34m(\u001b[0m\u001b[0maapl\u001b[0m\u001b[0;34m.\u001b[0m\u001b[0mtime\u001b[0m\u001b[0;34m,\u001b[0m \u001b[0mbins\u001b[0m\u001b[0;34m=\u001b[0m\u001b[0mbins\u001b[0m\u001b[0;34m)\u001b[0m\u001b[0;34m\u001b[0m\u001b[0;34m\u001b[0m\u001b[0m\n\u001b[0;32m----> 4\u001b[0;31m \u001b[0maapl\u001b[0m\u001b[0;34m[\u001b[0m\u001b[0;34m'bins'\u001b[0m\u001b[0;34m]\u001b[0m\u001b[0;34m.\u001b[0m\u001b[0msorted\u001b[0m\u001b[0;34m(\u001b[0m\u001b[0;34m)\u001b[0m\u001b[0;34m\u001b[0m\u001b[0;34m\u001b[0m\u001b[0m\n\u001b[0m",
      "\u001b[0;32m/opt/anaconda3/lib/python3.8/site-packages/pandas/core/generic.py\u001b[0m in \u001b[0;36m__getattr__\u001b[0;34m(self, name)\u001b[0m\n\u001b[1;32m   5463\u001b[0m             \u001b[0;32mif\u001b[0m \u001b[0mself\u001b[0m\u001b[0;34m.\u001b[0m\u001b[0m_info_axis\u001b[0m\u001b[0;34m.\u001b[0m\u001b[0m_can_hold_identifiers_and_holds_name\u001b[0m\u001b[0;34m(\u001b[0m\u001b[0mname\u001b[0m\u001b[0;34m)\u001b[0m\u001b[0;34m:\u001b[0m\u001b[0;34m\u001b[0m\u001b[0;34m\u001b[0m\u001b[0m\n\u001b[1;32m   5464\u001b[0m                 \u001b[0;32mreturn\u001b[0m \u001b[0mself\u001b[0m\u001b[0;34m[\u001b[0m\u001b[0mname\u001b[0m\u001b[0;34m]\u001b[0m\u001b[0;34m\u001b[0m\u001b[0;34m\u001b[0m\u001b[0m\n\u001b[0;32m-> 5465\u001b[0;31m             \u001b[0;32mreturn\u001b[0m \u001b[0mobject\u001b[0m\u001b[0;34m.\u001b[0m\u001b[0m__getattribute__\u001b[0m\u001b[0;34m(\u001b[0m\u001b[0mself\u001b[0m\u001b[0;34m,\u001b[0m \u001b[0mname\u001b[0m\u001b[0;34m)\u001b[0m\u001b[0;34m\u001b[0m\u001b[0;34m\u001b[0m\u001b[0m\n\u001b[0m\u001b[1;32m   5466\u001b[0m \u001b[0;34m\u001b[0m\u001b[0m\n\u001b[1;32m   5467\u001b[0m     \u001b[0;32mdef\u001b[0m \u001b[0m__setattr__\u001b[0m\u001b[0;34m(\u001b[0m\u001b[0mself\u001b[0m\u001b[0;34m,\u001b[0m \u001b[0mname\u001b[0m\u001b[0;34m:\u001b[0m \u001b[0mstr\u001b[0m\u001b[0;34m,\u001b[0m \u001b[0mvalue\u001b[0m\u001b[0;34m)\u001b[0m \u001b[0;34m->\u001b[0m \u001b[0;32mNone\u001b[0m\u001b[0;34m:\u001b[0m\u001b[0;34m\u001b[0m\u001b[0;34m\u001b[0m\u001b[0m\n",
      "\u001b[0;31mAttributeError\u001b[0m: 'Series' object has no attribute 'sorted'"
     ]
    }
   ],
   "source": [
    "bins = pd.date_range(\"2021-06-08\", \"2021-06-09\", freq='5min')\n",
    "\n",
    "aapl[\"bins\"] = pd.cut(aapl.time, bins=bins)\n",
    "aapl['bins'].sorted()"
   ]
  },
  {
   "cell_type": "code",
   "execution_count": null,
   "id": "ec65335b",
   "metadata": {},
   "outputs": [],
   "source": []
  }
 ],
 "metadata": {
  "kernelspec": {
   "display_name": "Python 3",
   "language": "python",
   "name": "python3"
  },
  "language_info": {
   "codemirror_mode": {
    "name": "ipython",
    "version": 3
   },
   "file_extension": ".py",
   "mimetype": "text/x-python",
   "name": "python",
   "nbconvert_exporter": "python",
   "pygments_lexer": "ipython3",
   "version": "3.8.8"
  }
 },
 "nbformat": 4,
 "nbformat_minor": 5
}
