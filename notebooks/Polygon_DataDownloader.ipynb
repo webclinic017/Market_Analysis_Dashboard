{
 "cells": [
  {
   "cell_type": "code",
   "execution_count": 1,
   "metadata": {},
   "outputs": [],
   "source": [
    "from tqdm import tqdm\n",
    "import sys\n",
    "sys.path.append(\"../\")\n",
    "from threading import Thread\n",
    "import numpy as np\n",
    "import os\n",
    "import time\n",
    "import datetime\n",
    "import pandas as pd\n",
    "import pandas_market_calendars as mcal\n",
    "from polygon import RESTClient\n",
    "#from tqdm.notebook import tqdm\n",
    "import time\n",
    "import pytz\n",
    "eastern = 'US/Eastern'"
   ]
  },
  {
   "cell_type": "code",
   "execution_count": 2,
   "metadata": {},
   "outputs": [],
   "source": [
    "import threading\n",
    "import time\n",
    "import logging\n",
    "import random\n",
    "from multiprocessing import Queue\n",
    "pd.options.mode.chained_assignment = None  # default='warn'\n"
   ]
  },
  {
   "cell_type": "code",
   "execution_count": 3,
   "metadata": {},
   "outputs": [],
   "source": [
    "done = False\n",
    "lck = threading.Lock()\n"
   ]
  },
  {
   "cell_type": "code",
   "execution_count": 4,
   "metadata": {},
   "outputs": [],
   "source": [
    "trade_map={\"I\":\"orig_id\",\"x\":\"exchange\",\"p\":\"price\",\"i\":\"id\",\"e\":\"correction\",\"r\":\"trf_id\",\"t\":\"sip_timestamp\",\"y\":\"participant_timestamp\",\"f\":\"trf_timestamp\",\"q\":\"sequence_number\",\"c\":\"conditions\",\"s\":\"size\",\"z\":\"tape\"\n",
    "}\n",
    "\n",
    "trade_conditions = {'0': 'Regular', '1': 'Acquisition', '2': 'AveragePrice', '3': 'AutomaticExecution', '4': 'Bunched', '5': 'BunchSold', '6': 'CAPElection', '7': 'CashTrade', '8': 'Closing', '9': 'Cross', '10': 'DerivativelyPriced', '11': 'Distribution', '12': 'FormT(ExtendedHours)', '13': 'FormTOutOfSequence', '14': 'InterMarketSweep', '15': 'MarketCenterOfficialClose', '16': 'MarketCenterOfficialOpen', '17': 'MarketCenterOpening', '18': 'MarketCenterReOpenning', '19': 'MarketCenterClosing', '20': 'NextDay', '21': 'PriceVariation', '22': 'PriorReferencePrice', '23': 'Rule155Amex', '24': 'Rule127Nyse', '25': 'Opening', '26': 'Opened', '27': 'RegularStoppedStock', '28': 'ReOpening', '29': 'Seller', '30': 'SoldLast', '31': 'SoldLastStoppedStock', '32': 'SoldOutOfSequence', '33': 'SoldOutOfSequenceStoppedStock', '34': 'Split', '35': 'StockOption', '36': 'YellowFlag', '37': 'OddLot', '38': 'CorrectedConsolidatedClosePrice', '39': 'Unknown', '40': 'Held', '41': 'TradeThruExempt', '42': 'NonEligible', '43': 'NonEligible-extended', '44': 'Cancelled', '45': 'Recovery', '46': 'Correction', '47': 'AsOf', '48': 'AsOfCorrection', '49': 'AsOfCancel', '50': 'OOB', '51': 'Summary', '52': 'Contingent', '53': 'Contingent(Qualified)', '54': 'Errored'}\n"
   ]
  },
  {
   "cell_type": "code",
   "execution_count": 5,
   "metadata": {},
   "outputs": [],
   "source": [
    "key = \"qRFktbNL6A_WzaFhqR80IllApsmjPY6a\"\n",
    "def convert_conditions(obj):\n",
    "    the_list = obj\n",
    "    the_list = [str(intt) for intt in the_list]\n",
    "    \n",
    "    for l in the_list:\n",
    "        if l.strip() == \"\":\n",
    "            l = '-999'\n",
    "    return ', '.join(the_list)\n",
    "def ts_to_datetime(ts) -> str:\n",
    "    return datetime.datetime.fromtimestamp(ts / 1000.0).strftime('%Y-%m-%d %H:%M')\n",
    "\n",
    "def get_list_of_Exchanges():\n",
    "\n",
    "    with RESTClient(key) as client:\n",
    "        respex = client.stocks_equities_exchanges()\n",
    "\n",
    "        stock_exchanges = respex.exchange\n",
    "        exchange_list_dict = {}\n",
    "\n",
    "        for i in stock_exchanges:\n",
    "            the_dict = {}\n",
    "            the_dict[i.i_d_of_the_exchange] = i.name\n",
    "            #exchange_list_dict.append(the_dict)\n",
    "            exchange_list_dict[i.i_d_of_the_exchange] = i.name\n",
    "        return exchange_list_dict\n",
    "\n",
    "def get_list_of_trade_conditions():\n",
    "\n",
    "    with RESTClient(key) as client:\n",
    "        respex = client.stocks_equities_condition_mappings()\n",
    "\n",
    "        stock_exchanges = respex.exchange\n",
    "        exchange_list_dict = {}\n",
    "\n",
    "        for i in stock_exchanges:\n",
    "            the_dict = {}\n",
    "            the_dict[i.i_d_of_the_exchange] = i.name\n",
    "            #exchange_list_dict.append(the_dict)\n",
    "            exchange_list_dict[i.i_d_of_the_exchange] = i.name\n",
    "        return exchange_list_dict\n",
    "    \n",
    "def update_condition_labels(keyFunction, values):\n",
    "    k =  list(keyFunction[str(v)] for v in list(values))\n",
    "    return \", \".join(k)"
   ]
  },
  {
   "cell_type": "code",
   "execution_count": 6,
   "metadata": {},
   "outputs": [],
   "source": [
    "def etf_save_aggregate_data(symbol, df, date, url, group):\n",
    "    global lck\n",
    "    \n",
    "    file_path = os.path.join(url,'aggregated_1000_th'+str(group)+'.csv')\n",
    "    \n",
    "    if os.path.exists(file_path):\n",
    "        lck.acquire()\n",
    "        tmp_df = pd.read_csv(file_path)\n",
    "\n",
    "        tmpdf2 = tmp_df.append(df)\n",
    "        \n",
    "\n",
    "        tmpdf2.to_csv(file_path, index=False)\n",
    "        lck.release()\n",
    "    else:\n",
    "        #print(\"the file DOES NOT exist for\", file_path)\n",
    "\n",
    "        df.to_csv(file_path)      \n"
   ]
  },
  {
   "cell_type": "code",
   "execution_count": 7,
   "metadata": {},
   "outputs": [],
   "source": [
    "def calculate_group_vwap(df):\n",
    "    \n",
    "    df['pxs']= df['price'] * df['size']\n",
    "    numerator=df['pxs'].sum()\n",
    "    denom = df['size'].sum()\n",
    "    vwap= numerator/denom\n",
    "    return vwap"
   ]
  },
  {
   "cell_type": "code",
   "execution_count": 8,
   "metadata": {},
   "outputs": [],
   "source": [
    "def data_preprocessing(trades, day):\n",
    "    \n",
    "    trades_data = trades\n",
    "    \n",
    "    for tr in trades_data:\n",
    "        keys = tr.keys()\n",
    "        if 'c' in keys:\n",
    "            tr['c'] = convert_conditions(tr['c'])\n",
    "    \n",
    "    trades_df = pd.DataFrame(trades_data).rename(columns=trade_map)\n",
    "    \n",
    "    trades_df['date'] = day\n",
    "    trades_df['raw_sip_timestamp'] = trades_df['sip_timestamp']\n",
    "    trades_df['raw_participant_timestamp'] =trades_df['participant_timestamp']\n",
    "\n",
    "    trades_df['sip_timestamp'] =pd.to_datetime(trades_df['sip_timestamp']).dt.tz_localize('utc').dt.tz_convert(eastern)\n",
    "    trades_df['participant_timestamp'] =pd.to_datetime(trades_df['participant_timestamp']).dt.tz_localize('utc').dt.tz_convert(eastern)\n",
    "\n",
    "    trades_df['hours'] = trades_df['sip_timestamp'].apply(lambda x: x.hour)\n",
    "    trades_df['minutes'] = trades_df['sip_timestamp'].apply(lambda x: x.minute)\n",
    "    trades_df['seconds'] = trades_df['sip_timestamp'].apply(lambda x: x.second)\n",
    "    trades_df['time']=trades_df['sip_timestamp'].dt.time\n",
    "    trades_df['time_string']=trades_df['sip_timestamp'].apply(lambda x: str(x.hour)+':'+str(x.minute)+':'+str(x.second))\n",
    "    trades_df['conditions_string'] = trades_df['conditions']\n",
    "    \n",
    "    return trades_df\n",
    "\n",
    "def get_trades_all(ticker, date, size):\n",
    "    total_data = []\n",
    "    lasttimestamp = 0\n",
    "    while True:\n",
    "        try:\n",
    "            with RESTClient(key) as client:\n",
    "                if lasttimestamp == 0:\n",
    "                    resp = client.historic_trades_v2(ticker=str(ticker).upper(), date=date, limit=size, reverse=False)\n",
    "                else:\n",
    "                    resp = client.historic_trades_v2(ticker=str(ticker).upper(), date=date, timestamp = lasttimestamp, limit=size, reverse=False)\n",
    "                result = resp.__dict__\n",
    "                if \"results\" in result:\n",
    "                    result = result['results']\n",
    "                else:\n",
    "                    break\n",
    "                \n",
    "                try:\n",
    "                    lasttimestamp = result[-1]['t']\n",
    "                    total_data.extend(result)\n",
    "                except:\n",
    "                    #print(\"error last timestamp - \"+ ticker)\n",
    "                    break\n",
    "                    \n",
    "                if len(result) == 50000:\n",
    "                    continue\n",
    "                else:\n",
    "                    break\n",
    "        except:\n",
    "            #print(\"error get all - \"+ ticker)\n",
    "            break\n",
    "                \n",
    "    return total_data"
   ]
  },
  {
   "cell_type": "code",
   "execution_count": 9,
   "metadata": {},
   "outputs": [],
   "source": [
    "def chunks(lst, n):\n",
    "    \"\"\"Yield successive n-sized chunks from lst.\"\"\"\n",
    "    for i in range(0, len(lst), n):\n",
    "        yield lst[i:i + n]\n",
    "\n",
    "def get_valid_trading_days_for_range(start, end, n):\n",
    "    nyse = mcal.get_calendar('NYSE')\n",
    "    days = nyse.valid_days(start_date=start, end_date=end)\n",
    "    days = [x.strftime('%Y-%m-%d') for x in days]\n",
    "    \n",
    "    if n > len(days):\n",
    "        return list(days)\n",
    "    nn = n-1\n",
    "    return list(days)[-nn:]"
   ]
  },
  {
   "cell_type": "code",
   "execution_count": 10,
   "metadata": {},
   "outputs": [],
   "source": [
    "\n",
    "def extract_qualified_symbols(df, plvl, advlvl):\n",
    "    qualified = df[(df.p_lvl == plvl) & (df.adv_lvl == advlvl)]\n",
    "    return qualified\n",
    "\n",
    "\n",
    "\n",
    "def extract_opening_data(trades_df):\n",
    "    trades_df['conditions_string'] = trades_df['conditions'].astype(str)\n",
    "    open_= trades_df[trades_df.conditions_string.str.contains(\"16\")]\n",
    "\n",
    "    open_ = open_.sort_values('size',ascending=False)\n",
    "\n",
    "    open_price= list(open_['price'])[0]\n",
    "    open_size= list(open_['size'])[0]\n",
    "    open_datetime = list(open_['sip_timestamp'])\n",
    "    open_time = list(open_['sip_timestamp'].dt.time)[0]\n",
    "\n",
    "    to_return = {\n",
    "        'open_price':open_price,\n",
    "        'open_time':open_time,\n",
    "        'open_time_string':str(open_time.strftime(\"%H:%M:%S\")),\n",
    "        'open_size':open_size\n",
    "    }\n",
    "    \n",
    "    return to_return\n",
    "\n",
    "def extract_closing_data(trades_df):\n",
    "    \n",
    "    close= trades_df[trades_df.conditions_string.str.contains(\"15\")]\n",
    "    \n",
    "    \n",
    "    close = close.sort_values('size',ascending=False)\n",
    "    close_price= list(close['price'])[0]\n",
    "    close_size= list(close['size'])[0]\n",
    "    close_datetime = list(close['sip_timestamp'])[0]\n",
    "    close_time = list(close['sip_timestamp'].dt.time)[0]\n",
    "    day = list(close['sip_timestamp'].dt.date)[0]\n",
    "\n",
    "    to_return = {\n",
    "        'close_price':close_price,\n",
    "        'close_time': close_time,\n",
    "        'close_time_string':str(close_time.strftime(\"%H:%M:%S\")),\n",
    "        'close_size':close_size,\n",
    "        'day':day\n",
    "    }\n",
    "    return to_return\n",
    "\n",
    "def aggregate_premarket_data(trades_df, open_time):\n",
    "    premarket= trades_df[trades_df.time < open_time]\n",
    "    pre_max_price = premarket.price.max()\n",
    "    pre_min_price = premarket.price.min()\n",
    "    pre_std_price = premarket.price.std()\n",
    "    pre_median_price = premarket.price.quantile(0.5)\n",
    "    pre_volume = premarket.size.sum()\n",
    "    out = calculate_group_vwap(premarket)\n",
    "    #df = df.assign(VWAP=((volume * price).cumsum() / vol.cumsum()).ffill())\n",
    "\n",
    "    \n",
    "    to_return = {\n",
    "        'pre_max_price':pre_max_price,\n",
    "        'pre_min_price': pre_min_price,\n",
    "        'pre_std_price': pre_std_price,\n",
    "        'pre_median_price': pre_median_price,\n",
    "        'pre_volume':pre_volume,\n",
    "        'pre_total_trades': len(premarket),\n",
    "        'pre_vwap': out\n",
    "    }\n",
    "    \n",
    "    return to_return\n",
    "\n",
    "def aggregate_intraday_data(trades_df, open_time, close_time):\n",
    "    regmarket= trades_df[(trades_df.time >= open_time) & (trades_df.time <= close_time)]\n",
    "    reg_max_price = regmarket.price.max()\n",
    "    reg_min_price = regmarket.price.min()\n",
    "    reg_std_price = regmarket.price.std()\n",
    "    reg_median_price = regmarket.price.quantile(0.5)\n",
    "    reg_volume = regmarket.size.sum()\n",
    "    out = calculate_group_vwap(regmarket)\n",
    "\n",
    "    to_return = {\n",
    "        'intraday_max_price':reg_max_price,\n",
    "        'intraday_min_price':reg_min_price, \n",
    "        'intraday_std_price':reg_std_price,\n",
    "        'intraday_median_price':reg_median_price, \n",
    "        'intraday_volume':reg_volume,\n",
    "        'intraday_total_trades': len(regmarket),\n",
    "        'intraday_vwap': out\n",
    "    }\n",
    "    return to_return    \n",
    "\n",
    "def aggregate_postmarket_data(trades_df, close_time):\n",
    "    postmarket= trades_df[trades_df.time > close_time]\n",
    "    post_max_price = postmarket.price.max()\n",
    "    post_min_price = postmarket.price.min()\n",
    "    post_std_price = postmarket.price.std()\n",
    "    post_median_price = postmarket.price.quantile(0.5)\n",
    "    post_volume = postmarket.size.sum()\n",
    "    out = calculate_group_vwap(postmarket)\n",
    "    \n",
    "    to_return = {\n",
    "        'post_max_price':post_max_price,\n",
    "        'post_min_price':post_min_price, \n",
    "        'post_std_price':post_std_price,\n",
    "        'post_median_price':post_median_price, \n",
    "        'post_volume':post_volume,\n",
    "        'post_total_trades': len(postmarket),\n",
    "        'post_vwap': out\n",
    "    }\n",
    "    return to_return"
   ]
  },
  {
   "cell_type": "code",
   "execution_count": null,
   "metadata": {},
   "outputs": [],
   "source": []
  },
  {
   "cell_type": "code",
   "execution_count": 11,
   "metadata": {},
   "outputs": [],
   "source": [
    "def aggregate_data(resp_df, sym):\n",
    "    final_result = []\n",
    "\n",
    "    open_data_extract = extract_opening_data(resp_df)\n",
    "    close_data_extract = extract_closing_data(resp_df)\n",
    "\n",
    "    premarket_aggregate = aggregate_premarket_data(resp_df, open_data_extract['open_time'])\n",
    "    postmarket_aggregate = aggregate_postmarket_data(resp_df, close_data_extract['close_time'])\n",
    "\n",
    "    intraday_aggregate = aggregate_intraday_data(resp_df, open_data_extract['open_time'], close_data_extract['close_time'])\n",
    "\n",
    "    merged_data = {**open_data_extract, **close_data_extract, **premarket_aggregate, **intraday_aggregate, **postmarket_aggregate, **{\"symbol\":sym}}\n",
    "\n",
    "    final_result.append(merged_data)\n",
    "\n",
    "    return pd.DataFrame(final_result)"
   ]
  },
  {
   "cell_type": "code",
   "execution_count": 12,
   "metadata": {},
   "outputs": [],
   "source": [
    "\n",
    "\n",
    "valid_days = get_valid_trading_days_for_range('2020-06-01', '2021-05-20', 1000)"
   ]
  },
  {
   "cell_type": "code",
   "execution_count": 13,
   "metadata": {},
   "outputs": [],
   "source": [
    "completed_symbols = []"
   ]
  },
  {
   "cell_type": "code",
   "execution_count": null,
   "metadata": {},
   "outputs": [],
   "source": []
  },
  {
   "cell_type": "code",
   "execution_count": 14,
   "metadata": {},
   "outputs": [],
   "source": [
    "def run_for_data(symbols, dates, url, tnum, thread_num):\n",
    "    completed = []\n",
    "    for symbol in tqdm(symbols, desc=\"Thread num: \"+str(thread_num)):\n",
    "        for day in dates:\n",
    "            \n",
    "            data = get_trades_all(symbol, day, 500000)\n",
    "            try:\n",
    "                df = data_preprocessing(data, day)\n",
    "                aggregate = aggregate_data(df, symbol)\n",
    "                etf_save_aggregate_data(symbol, aggregate, day, url, tnum)\n",
    "\n",
    "            except:\n",
    "                pass\n",
    "                #print(\"Could not process symbol \", symbol,  \" so skipping\")\n",
    "            time.sleep(0.08)\n",
    "        completed.append(symbol)\n",
    "        print(\"completed symbols\", \": \".join(completed), '- thread num:', str(thread_num), ' - ', str(len(completed)), '/', str(len(symbols)))"
   ]
  },
  {
   "cell_type": "code",
   "execution_count": null,
   "metadata": {},
   "outputs": [],
   "source": []
  },
  {
   "cell_type": "code",
   "execution_count": null,
   "metadata": {},
   "outputs": [],
   "source": []
  },
  {
   "cell_type": "markdown",
   "metadata": {},
   "source": [
    "##### URL PATH"
   ]
  },
  {
   "cell_type": "code",
   "execution_count": 15,
   "metadata": {},
   "outputs": [],
   "source": [
    "url = os.path.join(os.getcwd(), 'output')\n"
   ]
  },
  {
   "cell_type": "code",
   "execution_count": null,
   "metadata": {},
   "outputs": [],
   "source": []
  },
  {
   "cell_type": "code",
   "execution_count": 16,
   "metadata": {},
   "outputs": [],
   "source": [
    "orders_df = pd.read_excel('orders_symbols.xlsx')\n",
    "dollars_df = pd.read_excel('dollar_symbols.xlsx')\n",
    "orders_df = orders_df.sort_values(by='share_filled', ascending=False)\n",
    "dollars_df = dollars_df.sort_values(by='dollars_filled', ascending=False)\n",
    "orders_sym_list = set(list(orders_df['symbol'].head(1000)))\n",
    "dollars_sym_list = set(list(dollars_df['symbol'].head(1000)))\n",
    "list_union = orders_sym_list.union(dollars_sym_list)\n"
   ]
  },
  {
   "cell_type": "code",
   "execution_count": null,
   "metadata": {},
   "outputs": [],
   "source": []
  },
  {
   "cell_type": "markdown",
   "metadata": {},
   "source": [
    "#### filter out 168"
   ]
  },
  {
   "cell_type": "code",
   "execution_count": 17,
   "metadata": {},
   "outputs": [],
   "source": [
    "_orders_sym_list = set(list(orders_df['symbol'].head(2000)))\n",
    "_dollars_sym_list = set(list(dollars_df['symbol'].head(2000)))\n",
    "_list_union = _orders_sym_list.union(_dollars_sym_list)"
   ]
  },
  {
   "cell_type": "code",
   "execution_count": 18,
   "metadata": {},
   "outputs": [],
   "source": [
    "_list_union_list = list(_list_union)\n",
    "list_union_list = list(list_union)"
   ]
  },
  {
   "cell_type": "code",
   "execution_count": 19,
   "metadata": {},
   "outputs": [],
   "source": [
    "main_list = []\n",
    "for item in _list_union_list:\n",
    "    if item not in list_union_list:\n",
    "        main_list.append(item)\n",
    "    \n",
    "        "
   ]
  },
  {
   "cell_type": "code",
   "execution_count": 20,
   "metadata": {},
   "outputs": [
    {
     "name": "stdout",
     "output_type": "stream",
     "text": [
      "605 1329 724\n"
     ]
    }
   ],
   "source": [
    "print(len(list_union_list), len(_list_union_list), len(main_list))"
   ]
  },
  {
   "cell_type": "code",
   "execution_count": 21,
   "metadata": {},
   "outputs": [],
   "source": [
    "total_threads = 7"
   ]
  },
  {
   "cell_type": "code",
   "execution_count": 22,
   "metadata": {},
   "outputs": [
    {
     "data": {
      "text/plain": [
       "103"
      ]
     },
     "execution_count": 22,
     "metadata": {},
     "output_type": "execute_result"
    }
   ],
   "source": [
    "chunk_per_thread = int(len(main_list) / total_threads)\n",
    "chunk_per_thread"
   ]
  },
  {
   "cell_type": "code",
   "execution_count": null,
   "metadata": {},
   "outputs": [],
   "source": []
  },
  {
   "cell_type": "code",
   "execution_count": 23,
   "metadata": {},
   "outputs": [
    {
     "data": {
      "text/plain": [
       "8"
      ]
     },
     "execution_count": 23,
     "metadata": {},
     "output_type": "execute_result"
    }
   ],
   "source": [
    "total_chunks = list(chunks(main_list, chunk_per_thread))\n",
    "len(total_chunks)"
   ]
  },
  {
   "cell_type": "code",
   "execution_count": null,
   "metadata": {},
   "outputs": [],
   "source": []
  },
  {
   "cell_type": "code",
   "execution_count": 24,
   "metadata": {},
   "outputs": [],
   "source": [
    "file_group = 0"
   ]
  },
  {
   "cell_type": "code",
   "execution_count": 25,
   "metadata": {},
   "outputs": [],
   "source": [
    "count = 0"
   ]
  },
  {
   "cell_type": "code",
   "execution_count": 26,
   "metadata": {
    "scrolled": false
   },
   "outputs": [],
   "source": [
    "allthreads = []\n",
    "for l in range(len(total_chunks)):\n",
    "    allthreads.append(Thread(target=run_for_data, args=(total_chunks[l], valid_days, url, file_group, l)))\n",
    "        \n",
    "    file_group = file_group + 1        \n",
    "\n"
   ]
  },
  {
   "cell_type": "code",
   "execution_count": null,
   "metadata": {
    "scrolled": true
   },
   "outputs": [
    {
     "name": "stderr",
     "output_type": "stream",
     "text": [
      "Thread num: 0:   0%|                                                                           | 0/103 [00:00<?, ?it/s]\n",
      "Thread num: 2:   0%|                                                                           | 0/103 [00:00<?, ?it/s]\u001b[A\n",
      "\n",
      "Thread num: 4:   0%|                                                                           | 0/103 [00:00<?, ?it/s]\u001b[A\u001b[A\n",
      "\n",
      "\n",
      "Thread num: 6:   0%|                                                                           | 0/103 [00:00<?, ?it/s]\u001b[A\u001b[A\u001b[A\n",
      "\n",
      "\n",
      "\n",
      "Thread num: 5:   0%|                                                                           | 0/103 [00:00<?, ?it/s]\u001b[A\u001b[A\u001b[A\u001b[A\n",
      "\n",
      "\n",
      "\n",
      "\n",
      "Thread num: 7:   0%|                                                                             | 0/3 [00:00<?, ?it/s]\u001b[A\u001b[A\u001b[A\u001b[A\u001b[A\n",
      "\n",
      "\n",
      "\n",
      "\n",
      "\n",
      "Thread num: 1:   0%|                                                                           | 0/103 [00:00<?, ?it/s]\u001b[A\u001b[A\u001b[A\u001b[A\u001b[A\u001b[A\n",
      "\n",
      "\n",
      "\n",
      "\n",
      "\n",
      "\n",
      "Thread num: 3:   0%|                                                                           | 0/103 [00:00<?, ?it/s]\u001b[A\u001b[A\u001b[A\u001b[A\u001b[A\u001b[A\u001b[A<ipython-input-7-f555145416aa>:6: RuntimeWarning: invalid value encountered in double_scalars\n",
      "  vwap= numerator/denom\n",
      "\n",
      "\n",
      "\n",
      "\n",
      "\n",
      "\n",
      "Thread num: 1:   1%|▋                                                                | 1/103 [01:06<1:52:51, 66.38s/it]\u001b[A\u001b[A\u001b[A\u001b[A\u001b[A\u001b[A"
     ]
    },
    {
     "name": "stdout",
     "output_type": "stream",
     "text": [
      "completed symbols EGYF - thread num: 1  -  1 / 103\n"
     ]
    },
    {
     "name": "stderr",
     "output_type": "stream",
     "text": [
      "\r",
      "Thread num: 0:   1%|▌                                                               | 1/103 [05:30<9:22:39, 330.97s/it]"
     ]
    },
    {
     "name": "stdout",
     "output_type": "stream",
     "text": [
      "completed symbols ENOB - thread num: 0  -  1 / 103\n"
     ]
    },
    {
     "name": "stderr",
     "output_type": "stream",
     "text": [
      "\n",
      "\n",
      "Thread num: 4:   1%|▌                                                              | 1/103 [09:31<16:12:18, 571.95s/it]"
     ]
    },
    {
     "name": "stdout",
     "output_type": "stream",
     "text": [
      "completed symbols NH - thread num: 4  -  1 / 103\n"
     ]
    },
    {
     "name": "stderr",
     "output_type": "stream",
     "text": [
      "Thread num: 0:   2%|█▏                                                             | 2/103 [13:08<10:21:16, 369.07s/it]"
     ]
    },
    {
     "name": "stdout",
     "output_type": "stream",
     "text": [
      "completed symbols ENOB: MUDS - thread num: 0  -  2 / 103\n"
     ]
    },
    {
     "name": "stderr",
     "output_type": "stream",
     "text": [
      "\n",
      "\n",
      "\n",
      "\n",
      "Thread num: 5:   1%|▌                                                              | 1/103 [13:12<22:26:46, 792.22s/it]\u001b[A\u001b[A\u001b[A\u001b[A"
     ]
    },
    {
     "name": "stdout",
     "output_type": "stream",
     "text": [
      "completed symbols EQ - thread num: 5  -  1 / 103\n"
     ]
    },
    {
     "name": "stderr",
     "output_type": "stream",
     "text": [
      "\n",
      "\n",
      "Thread num: 4:   2%|█▏                                                             | 2/103 [19:01<16:01:33, 571.22s/it]\u001b[A\u001b[A"
     ]
    },
    {
     "name": "stdout",
     "output_type": "stream",
     "text": [
      "completed symbols NH: SNCA - thread num: 4  -  2 / 103\n"
     ]
    },
    {
     "name": "stderr",
     "output_type": "stream",
     "text": [
      "\n",
      "Thread num: 2:   1%|▌                                                             | 1/103 [19:41<33:28:19, 1181.37s/it]\u001b[A"
     ]
    },
    {
     "name": "stdout",
     "output_type": "stream",
     "text": [
      "completed symbols AREC - thread num: 2  -  1 / 103\n"
     ]
    },
    {
     "name": "stderr",
     "output_type": "stream",
     "text": [
      "\n",
      "\n",
      "\n",
      "\n",
      "Thread num: 5:   2%|█▏                                                             | 2/103 [21:13<19:36:24, 698.86s/it]\u001b[A\u001b[A\u001b[A\u001b[A"
     ]
    },
    {
     "name": "stdout",
     "output_type": "stream",
     "text": [
      "completed symbols EQ: GRIL - thread num: 5  -  2 / 103\n"
     ]
    },
    {
     "name": "stderr",
     "output_type": "stream",
     "text": [
      "\n",
      "\n",
      "\n",
      "\n",
      "\n",
      "Thread num: 7:  33%|██████████████████████▎                                            | 1/3 [23:04<46:09, 1384.73s/it]\u001b[A\u001b[A\u001b[A\u001b[A\u001b[A"
     ]
    },
    {
     "name": "stdout",
     "output_type": "stream",
     "text": [
      "completed symbols ALT - thread num: 7  -  1 / 3\n"
     ]
    },
    {
     "name": "stderr",
     "output_type": "stream",
     "text": [
      "\n",
      "\n",
      "Thread num: 4:   3%|█▊                                                             | 3/103 [24:02<13:37:05, 490.26s/it]\u001b[A\u001b[A"
     ]
    },
    {
     "name": "stdout",
     "output_type": "stream",
     "text": [
      "completed symbols NH: SNCA: TGA - thread num: 4  -  3 / 103\n"
     ]
    },
    {
     "name": "stderr",
     "output_type": "stream",
     "text": [
      "\n",
      "\n",
      "\n",
      "\n",
      "\n",
      "\n",
      "\n",
      "Thread num: 3:   1%|▌                                                             | 1/103 [24:08<41:02:10, 1448.34s/it]\u001b[A\u001b[A\u001b[A\u001b[A\u001b[A\u001b[A\u001b[A"
     ]
    },
    {
     "name": "stdout",
     "output_type": "stream",
     "text": [
      "completed symbols FLDM - thread num: 3  -  1 / 103\n"
     ]
    },
    {
     "name": "stderr",
     "output_type": "stream",
     "text": [
      "\n",
      "Thread num: 2:   2%|█▏                                                             | 2/103 [26:40<26:43:36, 952.64s/it]\u001b[A"
     ]
    },
    {
     "name": "stdout",
     "output_type": "stream",
     "text": [
      "completed symbols AREC: NEXT - thread num: 2  -  2 / 103\n"
     ]
    },
    {
     "name": "stderr",
     "output_type": "stream",
     "text": [
      "\n",
      "\n",
      "Thread num: 4:   4%|██▍                                                            | 4/103 [33:56<14:20:09, 521.31s/it]\u001b[A\u001b[A"
     ]
    },
    {
     "name": "stdout",
     "output_type": "stream",
     "text": [
      "completed symbols NH: SNCA: TGA: VBK - thread num: 4  -  4 / 103\n"
     ]
    },
    {
     "name": "stderr",
     "output_type": "stream",
     "text": [
      "\n",
      "\n",
      "\n",
      "\n",
      "\n",
      "\n",
      "\n",
      "Thread num: 3:   2%|█▏                                                            | 2/103 [36:02<34:27:29, 1228.22s/it]\u001b[A\u001b[A\u001b[A\u001b[A\u001b[A\u001b[A\u001b[A"
     ]
    },
    {
     "name": "stdout",
     "output_type": "stream",
     "text": [
      "completed symbols FLDM: RCKT - thread num: 3  -  2 / 103\n"
     ]
    },
    {
     "name": "stderr",
     "output_type": "stream",
     "text": [
      "\n",
      "\n",
      "\n",
      "\n",
      "\n",
      "Thread num: 7:  67%|████████████████████████████████████████████▋                      | 2/3 [36:43<20:15, 1215.03s/it]\u001b[A\u001b[A\u001b[A\u001b[A\u001b[A"
     ]
    },
    {
     "name": "stdout",
     "output_type": "stream",
     "text": [
      "completed symbols ALT: PBW - thread num: 7  -  2 / 3\n"
     ]
    },
    {
     "name": "stderr",
     "output_type": "stream",
     "text": [
      "\r",
      "Thread num: 0:   3%|█▊                                                             | 3/103 [39:38<20:25:27, 735.27s/it]"
     ]
    },
    {
     "name": "stdout",
     "output_type": "stream",
     "text": [
      "completed symbols ENOB: MUDS: IZEA - thread num: 0  -  3 / 103\n"
     ]
    },
    {
     "name": "stderr",
     "output_type": "stream",
     "text": [
      "\n",
      "\n",
      "\n",
      "\n",
      "\n",
      "\n",
      "Thread num: 1:   2%|█▏                                                             | 2/103 [40:56<21:25:07, 763.44s/it]\u001b[A\u001b[A\u001b[A\u001b[A\u001b[A\u001b[A"
     ]
    },
    {
     "name": "stdout",
     "output_type": "stream",
     "text": [
      "completed symbols EGYF: SFIX - thread num: 1  -  2 / 103\n"
     ]
    },
    {
     "name": "stderr",
     "output_type": "stream",
     "text": [
      "\n",
      "\n",
      "\n",
      "\n",
      "\n",
      "\n",
      "Thread num: 1:   3%|█▊                                                             | 3/103 [42:00<15:22:52, 553.72s/it]\u001b[A\u001b[A\u001b[A\u001b[A\u001b[A\u001b[A"
     ]
    },
    {
     "name": "stdout",
     "output_type": "stream",
     "text": [
      "completed symbols EGYF: SFIX: NTDOY - thread num: 1  -  3 / 103\n"
     ]
    },
    {
     "name": "stderr",
     "output_type": "stream",
     "text": [
      "\n",
      "\n",
      "Thread num: 4:   5%|███                                                            | 5/103 [45:09<15:25:31, 566.65s/it]\u001b[A\u001b[A"
     ]
    },
    {
     "name": "stdout",
     "output_type": "stream",
     "text": [
      "completed symbols NH: SNCA: TGA: VBK: ATOM - thread num: 4  -  5 / 103\n"
     ]
    },
    {
     "name": "stderr",
     "output_type": "stream",
     "text": [
      "\n",
      "\n",
      "\n",
      "\n",
      "\n",
      "Thread num: 7: 100%|████████████████████████████████████████████████████████████████████| 3/3 [45:16<00:00, 905.54s/it]\u001b[A\u001b[A\u001b[A\u001b[A\u001b[A"
     ]
    },
    {
     "name": "stdout",
     "output_type": "stream",
     "text": [
      "completed symbols ALT: PBW: REPH - thread num: 7  -  3 / 3\n"
     ]
    },
    {
     "name": "stderr",
     "output_type": "stream",
     "text": [
      "\n",
      "\n",
      "\n",
      "\n",
      "Thread num: 6:   1%|▌                                                             | 1/103 [45:49<77:54:43, 2749.84s/it]\u001b[A\u001b[A\u001b[A"
     ]
    },
    {
     "name": "stdout",
     "output_type": "stream",
     "text": [
      "completed symbols GPRO - thread num: 6  -  1 / 103\n"
     ]
    },
    {
     "name": "stderr",
     "output_type": "stream",
     "text": [
      "\n",
      "\n",
      "\n",
      "\n",
      "\n",
      "\n",
      "\n",
      "Thread num: 3:   3%|█▊                                                            | 3/103 [46:52<29:17:53, 1054.74s/it]\u001b[A\u001b[A\u001b[A\u001b[A\u001b[A\u001b[A\u001b[A"
     ]
    },
    {
     "name": "stdout",
     "output_type": "stream",
     "text": [
      "completed symbols FLDM: RCKT: BFLY - thread num: 3  -  3 / 103\n",
      "completed symbols ENOB: MUDS: IZEA: ONCY - thread num: 0  -  4 / 103\n"
     ]
    },
    {
     "name": "stderr",
     "output_type": "stream",
     "text": [
      "Thread num: 0:   4%|██▍                                                            | 4/103 [48:17<18:26:05, 670.36s/it]\n",
      "\n",
      "\n",
      "\n",
      "\n",
      "\n",
      "Thread num: 1:   4%|██▍                                                            | 4/103 [53:15<16:13:33, 590.03s/it]\u001b[A\u001b[A\u001b[A\u001b[A\u001b[A\u001b[A"
     ]
    },
    {
     "name": "stdout",
     "output_type": "stream",
     "text": [
      "completed symbols EGYF: SFIX: NTDOY: SFT - thread num: 1  -  4 / 103\n"
     ]
    },
    {
     "name": "stderr",
     "output_type": "stream",
     "text": [
      "\n",
      "\n",
      "Thread num: 4:   6%|███▋                                                           | 6/103 [53:28<14:43:18, 546.38s/it]\u001b[A\u001b[A"
     ]
    },
    {
     "name": "stdout",
     "output_type": "stream",
     "text": [
      "completed symbols NH: SNCA: TGA: VBK: ATOM: MKD - thread num: 4  -  6 / 103\n"
     ]
    },
    {
     "name": "stderr",
     "output_type": "stream",
     "text": [
      "\n",
      "\n",
      "Thread num: 4:   7%|████▎                                                          | 7/103 [54:28<10:40:48, 400.51s/it]\u001b[A\u001b[A"
     ]
    },
    {
     "name": "stdout",
     "output_type": "stream",
     "text": [
      "completed symbols NH: SNCA: TGA: VBK: ATOM: MKD: TRUL - thread num: 4  -  7 / 103\n"
     ]
    },
    {
     "name": "stderr",
     "output_type": "stream",
     "text": [
      "\r",
      "Thread num: 0:   5%|███                                                            | 5/103 [55:03<16:05:32, 591.14s/it]"
     ]
    },
    {
     "name": "stdout",
     "output_type": "stream",
     "text": [
      "completed symbols ENOB: MUDS: IZEA: ONCY: RNET - thread num: 0  -  5 / 103\n"
     ]
    },
    {
     "name": "stderr",
     "output_type": "stream",
     "text": [
      "\n",
      "\n",
      "\n",
      "\n",
      "Thread num: 5:   3%|█▊                                                            | 3/103 [57:31<31:44:21, 1142.62s/it]\u001b[A\u001b[A\u001b[A\u001b[A"
     ]
    },
    {
     "name": "stdout",
     "output_type": "stream",
     "text": [
      "completed symbols EQ: GRIL: UA - thread num: 5  -  3 / 103\n"
     ]
    },
    {
     "name": "stderr",
     "output_type": "stream",
     "text": [
      "\n",
      "Thread num: 2:   3%|█▊                                                            | 3/103 [57:55<34:08:50, 1229.31s/it]\u001b[A"
     ]
    },
    {
     "name": "stdout",
     "output_type": "stream",
     "text": [
      "completed symbols AREC: NEXT: STNE - thread num: 2  -  3 / 103\n"
     ]
    },
    {
     "name": "stderr",
     "output_type": "stream",
     "text": [
      "\n",
      "\n",
      "\n",
      "\n",
      "Thread num: 5:   4%|██▍                                                            | 4/103 [58:41<22:34:35, 820.96s/it]\u001b[A\u001b[A\u001b[A\u001b[A"
     ]
    },
    {
     "name": "stdout",
     "output_type": "stream",
     "text": [
      "completed symbols EQ: GRIL: UA: LBYYQ - thread num: 5  -  4 / 103\n"
     ]
    },
    {
     "name": "stderr",
     "output_type": "stream",
     "text": [
      "\n",
      "\n",
      "\n",
      "Thread num: 6:   2%|█▏                                                          | 2/103 [1:00:07<61:13:11, 2182.09s/it]\u001b[A\u001b[A\u001b[A"
     ]
    },
    {
     "name": "stdout",
     "output_type": "stream",
     "text": [
      "completed symbols GPRO: CVAC - thread num: 6  -  2 / 103\n"
     ]
    },
    {
     "name": "stderr",
     "output_type": "stream",
     "text": [
      "\n",
      "\n",
      "Thread num: 4:   8%|████▋                                                        | 8/103 [1:00:56<10:28:11, 396.76s/it]\u001b[A\u001b[A"
     ]
    },
    {
     "name": "stdout",
     "output_type": "stream",
     "text": [
      "completed symbols NH: SNCA: TGA: VBK: ATOM: MKD: TRUL: NLSP - thread num: 4  -  8 / 103\n",
      "completed symbols ENOB: MUDS: IZEA: ONCY: RNET: OVID - thread num: 0  -  6 / 103\n"
     ]
    },
    {
     "name": "stderr",
     "output_type": "stream",
     "text": [
      "Thread num: 0:   6%|███▌                                                         | 6/103 [1:11:32<19:08:37, 710.49s/it]\n",
      "\n",
      "\n",
      "\n",
      "\n",
      "\n",
      "Thread num: 1:   5%|██▉                                                          | 5/103 [1:12:08<20:29:37, 752.83s/it]\u001b[A\u001b[A\u001b[A\u001b[A\u001b[A\u001b[A"
     ]
    },
    {
     "name": "stdout",
     "output_type": "stream",
     "text": [
      "completed symbols EGYF: SFIX: NTDOY: SFT: QID - thread num: 1  -  5 / 103\n"
     ]
    },
    {
     "name": "stderr",
     "output_type": "stream",
     "text": [
      "\n",
      "\n",
      "\n"
     ]
    },
    {
     "name": "stdout",
     "output_type": "stream",
     "text": [
      "completed symbols GPRO: CVAC: IRTC - thread num: 6  -  3 / 103\n"
     ]
    },
    {
     "name": "stderr",
     "output_type": "stream",
     "text": [
      "Thread num: 6:   3%|█▋                                                          | 3/103 [1:15:19<50:01:45, 1801.05s/it]\u001b[A\u001b[A\u001b[A\n",
      "Thread num: 2:   4%|██▎                                                         | 4/103 [1:16:28<32:51:01, 1194.56s/it]\u001b[A"
     ]
    },
    {
     "name": "stdout",
     "output_type": "stream",
     "text": [
      "completed symbols AREC: NEXT: STNE: STNG - thread num: 2  -  4 / 103\n"
     ]
    },
    {
     "name": "stderr",
     "output_type": "stream",
     "text": [
      "\n",
      "Thread num: 2:   5%|██▉                                                         | 5/103 [1:27:32<28:10:59, 1035.30s/it]\u001b[A"
     ]
    },
    {
     "name": "stdout",
     "output_type": "stream",
     "text": [
      "completed symbols AREC: NEXT: STNE: STNG: ENVB - thread num: 2  -  5 / 103\n"
     ]
    },
    {
     "name": "stderr",
     "output_type": "stream",
     "text": [
      "\n",
      "\n",
      "\n",
      "\n",
      "\n",
      "\n",
      "\n",
      "Thread num: 3:   4%|██▎                                                         | 4/103 [1:31:15<42:16:19, 1537.16s/it]\u001b[A\u001b[A\u001b[A\u001b[A\u001b[A\u001b[A\u001b[A"
     ]
    },
    {
     "name": "stdout",
     "output_type": "stream",
     "text": [
      "completed symbols FLDM: RCKT: BFLY: BBY - thread num: 3  -  4 / 103\n"
     ]
    },
    {
     "name": "stderr",
     "output_type": "stream",
     "text": [
      "\n",
      "\n",
      "\n",
      "\n",
      "\n",
      "\n",
      "\n",
      "Thread num: 3:   5%|██▉                                                         | 5/103 [1:32:25<29:51:41, 1096.95s/it]\u001b[A\u001b[A\u001b[A\u001b[A\u001b[A\u001b[A\u001b[A"
     ]
    },
    {
     "name": "stdout",
     "output_type": "stream",
     "text": [
      "completed symbols FLDM: RCKT: BFLY: BBY: VWAGY - thread num: 3  -  5 / 103\n"
     ]
    },
    {
     "name": "stderr",
     "output_type": "stream",
     "text": [
      "\n",
      "\n",
      "Thread num: 4:   9%|█████▏                                                      | 9/103 [1:41:04<26:07:10, 1000.32s/it]\u001b[A\u001b[A"
     ]
    },
    {
     "name": "stdout",
     "output_type": "stream",
     "text": [
      "completed symbols NH: SNCA: TGA: VBK: ATOM: MKD: TRUL: NLSP: SPLK - thread num: 4  -  9 / 103\n"
     ]
    },
    {
     "name": "stderr",
     "output_type": "stream",
     "text": [
      "\n",
      "\n",
      "\n",
      "\n",
      "\n",
      "\n",
      "\n",
      "Thread num: 3:   6%|███▌                                                         | 6/103 [1:41:18<24:59:48, 927.72s/it]\u001b[A\u001b[A\u001b[A\u001b[A\u001b[A\u001b[A\u001b[A"
     ]
    },
    {
     "name": "stdout",
     "output_type": "stream",
     "text": [
      "completed symbols FLDM: RCKT: BFLY: BBY: VWAGY: ATNF - thread num: 3  -  6 / 103\n"
     ]
    },
    {
     "name": "stderr",
     "output_type": "stream",
     "text": [
      "\n",
      "Thread num: 2:   6%|███▌                                                         | 6/103 [1:42:45<26:54:20, 998.57s/it]\u001b[A"
     ]
    },
    {
     "name": "stdout",
     "output_type": "stream",
     "text": [
      "completed symbols AREC: NEXT: STNE: STNG: ENVB: VB - thread num: 2  -  6 / 103\n"
     ]
    },
    {
     "name": "stderr",
     "output_type": "stream",
     "text": [
      "\n",
      "\n",
      "\n",
      "\n",
      "Thread num: 5:   5%|██▉                                                         | 5/103 [1:47:18<39:28:05, 1449.85s/it]\u001b[A\u001b[A\u001b[A\u001b[A"
     ]
    },
    {
     "name": "stdout",
     "output_type": "stream",
     "text": [
      "completed symbols EQ: GRIL: UA: LBYYQ: ITUB - thread num: 5  -  5 / 103\n"
     ]
    },
    {
     "name": "stderr",
     "output_type": "stream",
     "text": [
      "\n",
      "\n",
      "\n",
      "\n",
      "\n",
      "\n",
      "\n",
      "Thread num: 3:   7%|████▏                                                        | 7/103 [1:47:40<20:22:40, 764.17s/it]\u001b[A\u001b[A\u001b[A\u001b[A\u001b[A\u001b[A\u001b[A"
     ]
    },
    {
     "name": "stdout",
     "output_type": "stream",
     "text": [
      "completed symbols FLDM: RCKT: BFLY: BBY: VWAGY: ATNF: AVCO - thread num: 3  -  7 / 103\n"
     ]
    },
    {
     "name": "stderr",
     "output_type": "stream",
     "text": [
      "\n",
      "\n",
      "Thread num: 4:  10%|█████▊                                                      | 10/103 [1:48:47<21:40:37, 839.11s/it]\u001b[A\u001b[A"
     ]
    },
    {
     "name": "stdout",
     "output_type": "stream",
     "text": [
      "completed symbols NH: SNCA: TGA: VBK: ATOM: MKD: TRUL: NLSP: SPLK: SCHO - thread num: 4  -  10 / 103\n"
     ]
    },
    {
     "name": "stderr",
     "output_type": "stream",
     "text": [
      "\n",
      "\n",
      "\n",
      "Thread num: 6:   4%|██▎                                                         | 4/103 [1:49:27<51:34:12, 1875.28s/it]\u001b[A\u001b[A\u001b[A"
     ]
    },
    {
     "name": "stdout",
     "output_type": "stream",
     "text": [
      "completed symbols GPRO: CVAC: IRTC: IRM - thread num: 6  -  4 / 103\n"
     ]
    },
    {
     "name": "stderr",
     "output_type": "stream",
     "text": [
      "\n",
      "Thread num: 2:   7%|████▏                                                        | 7/103 [1:51:35<22:52:49, 858.02s/it]\u001b[A"
     ]
    },
    {
     "name": "stdout",
     "output_type": "stream",
     "text": [
      "completed symbols AREC: NEXT: STNE: STNG: ENVB: VB: HTGM - thread num: 2  -  7 / 103\n"
     ]
    },
    {
     "name": "stderr",
     "output_type": "stream",
     "text": [
      "\n",
      "\n",
      "\n",
      "\n",
      "Thread num: 5:   6%|███▍                                                        | 6/103 [1:54:57<31:02:54, 1152.31s/it]\u001b[A\u001b[A\u001b[A\u001b[A"
     ]
    },
    {
     "name": "stdout",
     "output_type": "stream",
     "text": [
      "completed symbols EQ: GRIL: UA: LBYYQ: ITUB: EQOS - thread num: 5  -  6 / 103\n"
     ]
    },
    {
     "name": "stderr",
     "output_type": "stream",
     "text": [
      "\r",
      "Thread num: 0:   7%|████                                                        | 7/103 [1:56:04<34:37:59, 1298.75s/it]"
     ]
    },
    {
     "name": "stdout",
     "output_type": "stream",
     "text": [
      "completed symbols ENOB: MUDS: IZEA: ONCY: RNET: OVID: LMT - thread num: 0  -  7 / 103\n"
     ]
    },
    {
     "name": "stderr",
     "output_type": "stream",
     "text": [
      "\n",
      "\n",
      "Thread num: 4:  11%|██████▍                                                     | 11/103 [1:59:04<19:44:29, 772.49s/it]\u001b[A\u001b[A"
     ]
    },
    {
     "name": "stdout",
     "output_type": "stream",
     "text": [
      "completed symbols NH: SNCA: TGA: VBK: ATOM: MKD: TRUL: NLSP: SPLK: SCHO: ALRN - thread num: 4  -  11 / 103\n"
     ]
    },
    {
     "name": "stderr",
     "output_type": "stream",
     "text": [
      "\n",
      "\n",
      "\n",
      "\n",
      "\n",
      "\n",
      "\n",
      "Thread num: 3:   8%|████▋                                                        | 8/103 [1:59:12<19:35:27, 742.39s/it]\u001b[A\u001b[A\u001b[A\u001b[A\u001b[A\u001b[A\u001b[A"
     ]
    },
    {
     "name": "stdout",
     "output_type": "stream",
     "text": [
      "completed symbols FLDM: RCKT: BFLY: BBY: VWAGY: ATNF: AVCO: RVP - thread num: 3  -  8 / 103\n"
     ]
    },
    {
     "name": "stderr",
     "output_type": "stream",
     "text": [
      "\n",
      "Thread num: 2:   8%|████▋                                                        | 8/103 [1:59:47<19:44:52, 748.34s/it]\u001b[A"
     ]
    },
    {
     "name": "stdout",
     "output_type": "stream",
     "text": [
      "completed symbols AREC: NEXT: STNE: STNG: ENVB: VB: HTGM: PFMT - thread num: 2  -  8 / 103\n"
     ]
    },
    {
     "name": "stderr",
     "output_type": "stream",
     "text": [
      "\n",
      "\n",
      "\n",
      "Thread num: 6:   5%|██▉                                                         | 5/103 [2:00:53<41:19:55, 1518.32s/it]\u001b[A\u001b[A\u001b[A"
     ]
    },
    {
     "name": "stdout",
     "output_type": "stream",
     "text": [
      "completed symbols GPRO: CVAC: IRTC: IRM: RWLK - thread num: 6  -  5 / 103\n"
     ]
    },
    {
     "name": "stderr",
     "output_type": "stream",
     "text": [
      "\n",
      "\n",
      "Thread num: 4:  12%|██████▉                                                     | 12/103 [2:05:11<16:27:04, 650.82s/it]\u001b[A\u001b[A"
     ]
    },
    {
     "name": "stdout",
     "output_type": "stream",
     "text": [
      "completed symbols NH: SNCA: TGA: VBK: ATOM: MKD: TRUL: NLSP: SPLK: SCHO: ALRN: DISCB - thread num: 4  -  12 / 103\n"
     ]
    },
    {
     "name": "stderr",
     "output_type": "stream",
     "text": [
      "\n",
      "\n",
      "\n",
      "\n",
      "\n",
      "\n",
      "\n",
      "Thread num: 3:   9%|█████▎                                                       | 9/103 [2:09:59<18:38:01, 713.63s/it]\u001b[A\u001b[A\u001b[A\u001b[A\u001b[A\u001b[A\u001b[A"
     ]
    },
    {
     "name": "stdout",
     "output_type": "stream",
     "text": [
      "completed symbols FLDM: RCKT: BFLY: BBY: VWAGY: ATNF: AVCO: RVP: BBIG - thread num: 3  -  9 / 103\n"
     ]
    },
    {
     "name": "stderr",
     "output_type": "stream",
     "text": [
      "\n",
      "\n",
      "\n",
      "\n",
      "Thread num: 5:   7%|████                                                        | 7/103 [2:10:33<29:00:06, 1087.57s/it]\u001b[A\u001b[A\u001b[A\u001b[A"
     ]
    },
    {
     "name": "stdout",
     "output_type": "stream",
     "text": [
      "completed symbols EQ: GRIL: UA: LBYYQ: ITUB: EQOS: XERS - thread num: 5  -  7 / 103\n"
     ]
    },
    {
     "name": "stderr",
     "output_type": "stream",
     "text": [
      "\n",
      "\n",
      "\n",
      "\n",
      "\n",
      "\n",
      "Thread num: 1:   6%|███▍                                                        | 6/103 [2:12:36<43:31:47, 1615.54s/it]\u001b[A\u001b[A\u001b[A\u001b[A\u001b[A\u001b[A"
     ]
    },
    {
     "name": "stdout",
     "output_type": "stream",
     "text": [
      "completed symbols EGYF: SFIX: NTDOY: SFT: QID: AXP - thread num: 1  -  6 / 103\n"
     ]
    },
    {
     "name": "stderr",
     "output_type": "stream",
     "text": [
      "\n",
      "\n",
      "\n",
      "\n",
      "\n",
      "\n",
      "\n",
      "Thread num: 3:  10%|█████▊                                                      | 10/103 [2:16:56<16:08:24, 624.78s/it]\u001b[A\u001b[A\u001b[A\u001b[A\u001b[A\u001b[A\u001b[A"
     ]
    },
    {
     "name": "stdout",
     "output_type": "stream",
     "text": [
      "completed symbols FLDM: RCKT: BFLY: BBY: VWAGY: ATNF: AVCO: RVP: BBIG: EFOI - thread num: 3  -  10 / 103\n"
     ]
    },
    {
     "name": "stderr",
     "output_type": "stream",
     "text": [
      "\n",
      "\n",
      "\n",
      "Thread num: 6:   6%|███▍                                                        | 6/103 [2:24:37<40:09:13, 1490.25s/it]\u001b[A\u001b[A\u001b[A"
     ]
    },
    {
     "name": "stdout",
     "output_type": "stream",
     "text": [
      "completed symbols GPRO: CVAC: IRTC: IRM: RWLK: ACI - thread num: 6  -  6 / 103\n"
     ]
    },
    {
     "name": "stderr",
     "output_type": "stream",
     "text": [
      "\n",
      "\n",
      "\n",
      "\n",
      "\n",
      "\n",
      "\n",
      "Thread num: 3:  11%|██████▍                                                     | 11/103 [2:26:36<15:37:28, 611.39s/it]\u001b[A\u001b[A\u001b[A\u001b[A\u001b[A\u001b[A\u001b[A"
     ]
    },
    {
     "name": "stdout",
     "output_type": "stream",
     "text": [
      "completed symbols FLDM: RCKT: BFLY: BBY: VWAGY: ATNF: AVCO: RVP: BBIG: EFOI: FUSE - thread num: 3  -  11 / 103\n"
     ]
    },
    {
     "name": "stderr",
     "output_type": "stream",
     "text": [
      "\n",
      "\n",
      "\n",
      "\n",
      "Thread num: 5:   8%|████▋                                                       | 8/103 [2:33:03<30:46:50, 1166.43s/it]\u001b[A\u001b[A\u001b[A\u001b[A"
     ]
    },
    {
     "name": "stdout",
     "output_type": "stream",
     "text": [
      "completed symbols EQ: GRIL: UA: LBYYQ: ITUB: EQOS: XERS: FSM - thread num: 5  -  8 / 103\n"
     ]
    },
    {
     "name": "stderr",
     "output_type": "stream",
     "text": [
      "\n",
      "\n",
      "\n",
      "\n",
      "\n",
      "\n",
      "Thread num: 1:   7%|████                                                        | 7/103 [2:33:18<40:05:15, 1503.29s/it]\u001b[A\u001b[A\u001b[A\u001b[A\u001b[A\u001b[A"
     ]
    },
    {
     "name": "stdout",
     "output_type": "stream",
     "text": [
      "completed symbols EGYF: SFIX: NTDOY: SFT: QID: AXP: PSEC - thread num: 1  -  7 / 103\n"
     ]
    },
    {
     "name": "stderr",
     "output_type": "stream",
     "text": [
      "\n",
      "\n",
      "\n",
      "Thread num: 6:   7%|████                                                        | 7/103 [2:33:36<32:07:32, 1204.72s/it]\u001b[A\u001b[A\u001b[A"
     ]
    },
    {
     "name": "stdout",
     "output_type": "stream",
     "text": [
      "completed symbols GPRO: CVAC: IRTC: IRM: RWLK: ACI: MGEN - thread num: 6  -  7 / 103\n"
     ]
    },
    {
     "name": "stderr",
     "output_type": "stream",
     "text": [
      "\n",
      "\n",
      "\n",
      "Thread num: 6:   8%|████▋                                                        | 8/103 [2:34:39<22:45:23, 862.36s/it]\u001b[A\u001b[A\u001b[A"
     ]
    },
    {
     "name": "stdout",
     "output_type": "stream",
     "text": [
      "completed symbols GPRO: CVAC: IRTC: IRM: RWLK: ACI: MGEN: FMCC - thread num: 6  -  8 / 103\n"
     ]
    },
    {
     "name": "stderr",
     "output_type": "stream",
     "text": [
      "\n",
      "\n",
      "\n",
      "\n",
      "\n",
      "\n",
      "Thread num: 1:   8%|████▋                                                       | 8/103 [2:44:42<33:11:10, 1257.59s/it]\u001b[A\u001b[A\u001b[A\u001b[A\u001b[A\u001b[A"
     ]
    },
    {
     "name": "stdout",
     "output_type": "stream",
     "text": [
      "completed symbols EGYF: SFIX: NTDOY: SFT: QID: AXP: PSEC: CLPS - thread num: 1  -  8 / 103\n"
     ]
    },
    {
     "name": "stderr",
     "output_type": "stream",
     "text": [
      "\n",
      "Thread num: 2:   9%|█████▏                                                      | 9/103 [2:47:42<36:11:57, 1386.36s/it]\u001b[A"
     ]
    },
    {
     "name": "stdout",
     "output_type": "stream",
     "text": [
      "completed symbols AREC: NEXT: STNE: STNG: ENVB: VB: HTGM: PFMT: SWN - thread num: 2  -  9 / 103\n"
     ]
    },
    {
     "name": "stderr",
     "output_type": "stream",
     "text": [
      "\n",
      "\n",
      "\n",
      "\n",
      "\n",
      "\n",
      "Thread num: 1:   9%|█████▎                                                       | 9/103 [2:50:23<25:39:33, 982.70s/it]"
     ]
    },
    {
     "name": "stdout",
     "output_type": "stream",
     "text": [
      "completed symbols EGYF: SFIX: NTDOY: SFT: QID: AXP: PSEC: CLPS: KTRA - thread num: 1  -  9 / 103\n"
     ]
    },
    {
     "name": "stderr",
     "output_type": "stream",
     "text": [
      "\u001b[A\u001b[A\u001b[A\u001b[A\u001b[A\u001b[A\n",
      "\n",
      "\n",
      "\n",
      "\n",
      "\n",
      "\n",
      "Thread num: 3:  12%|██████▉                                                     | 12/103 [2:51:18<22:03:19, 872.52s/it]\u001b[A\u001b[A\u001b[A\u001b[A\u001b[A\u001b[A\u001b[A"
     ]
    },
    {
     "name": "stdout",
     "output_type": "stream",
     "text": [
      "completed symbols FLDM: RCKT: BFLY: BBY: VWAGY: ATNF: AVCO: RVP: BBIG: EFOI: FUSE: AGEN - thread num: 3  -  12 / 103\n"
     ]
    },
    {
     "name": "stderr",
     "output_type": "stream",
     "text": [
      "\n",
      "\n",
      "\n",
      "\n",
      "\n",
      "\n",
      "\n",
      "Thread num: 3:  13%|███████▌                                                    | 13/103 [3:01:32<19:52:36, 795.08s/it]\u001b[A\u001b[A\u001b[A\u001b[A\u001b[A\u001b[A\u001b[A"
     ]
    },
    {
     "name": "stdout",
     "output_type": "stream",
     "text": [
      "completed symbols FLDM: RCKT: BFLY: BBY: VWAGY: ATNF: AVCO: RVP: BBIG: EFOI: FUSE: AGEN: RKDA - thread num: 3  -  13 / 103\n"
     ]
    },
    {
     "name": "stderr",
     "output_type": "stream",
     "text": [
      "\n",
      "\n",
      "\n",
      "\n",
      "Thread num: 5:   9%|█████▏                                                      | 9/103 [3:02:14<35:02:03, 1341.74s/it]\u001b[A\u001b[A\u001b[A\u001b[A"
     ]
    },
    {
     "name": "stdout",
     "output_type": "stream",
     "text": [
      "completed symbols EQ: GRIL: UA: LBYYQ: ITUB: EQOS: XERS: FSM: CSIQ - thread num: 5  -  9 / 103\n"
     ]
    },
    {
     "name": "stderr",
     "output_type": "stream",
     "text": [
      "\n",
      "\n",
      "Thread num: 4:  13%|███████▍                                                   | 13/103 [3:05:07<38:21:20, 1534.23s/it]\u001b[A\u001b[A"
     ]
    },
    {
     "name": "stdout",
     "output_type": "stream",
     "text": [
      "completed symbols NH: SNCA: TGA: VBK: ATOM: MKD: TRUL: NLSP: SPLK: SCHO: ALRN: DISCB: TMUS - thread num: 4  -  13 / 103\n"
     ]
    },
    {
     "name": "stderr",
     "output_type": "stream",
     "text": [
      "\n",
      "\n",
      "\n",
      "\n",
      "\n",
      "\n",
      "Thread num: 1:  10%|█████▋                                                     | 10/103 [3:11:15<27:28:08, 1063.32s/it]\u001b[A\u001b[A\u001b[A\u001b[A\u001b[A\u001b[A"
     ]
    },
    {
     "name": "stdout",
     "output_type": "stream",
     "text": [
      "completed symbols EGYF: SFIX: NTDOY: SFT: QID: AXP: PSEC: CLPS: KTRA: LC - thread num: 1  -  10 / 103\n"
     ]
    },
    {
     "name": "stderr",
     "output_type": "stream",
     "text": [
      "\n",
      "\n",
      "\n",
      "\n",
      "\n",
      "\n",
      "\n",
      "Thread num: 3:  14%|████████▏                                                   | 14/103 [3:12:55<18:49:18, 761.33s/it]\u001b[A\u001b[A\u001b[A\u001b[A\u001b[A\u001b[A\u001b[A"
     ]
    },
    {
     "name": "stdout",
     "output_type": "stream",
     "text": [
      "completed symbols FLDM: RCKT: BFLY: BBY: VWAGY: ATNF: AVCO: RVP: BBIG: EFOI: FUSE: AGEN: RKDA: GHIV - thread num: 3  -  14 / 103\n"
     ]
    },
    {
     "name": "stderr",
     "output_type": "stream",
     "text": [
      "\n",
      "\n",
      "\n",
      "Thread num: 6:   9%|█████▏                                                      | 9/103 [3:15:36<35:00:33, 1340.78s/it]\u001b[A\u001b[A\u001b[A"
     ]
    },
    {
     "name": "stdout",
     "output_type": "stream",
     "text": [
      "completed symbols GPRO: CVAC: IRTC: IRM: RWLK: ACI: MGEN: FMCC: PK - thread num: 6  -  9 / 103\n"
     ]
    },
    {
     "name": "stderr",
     "output_type": "stream",
     "text": [
      "\n",
      "\n",
      "\n",
      "\n"
     ]
    },
    {
     "name": "stdout",
     "output_type": "stream",
     "text": [
      "completed symbols EQ: GRIL: UA: LBYYQ: ITUB: EQOS: XERS: FSM: CSIQ: ASAN - thread num: 5  -  10 / 103\n"
     ]
    },
    {
     "name": "stderr",
     "output_type": "stream",
     "text": [
      "Thread num: 5:  10%|█████▋                                                     | 10/103 [3:17:25<31:19:16, 1212.44s/it]\u001b[A\u001b[A\u001b[A\u001b[A\n",
      "Thread num: 2:  10%|█████▋                                                     | 10/103 [3:18:36<39:26:02, 1526.48s/it]"
     ]
    },
    {
     "name": "stdout",
     "output_type": "stream",
     "text": [
      "completed symbols AREC: NEXT: STNE: STNG: ENVB: VB: HTGM: PFMT: SWN: VRM - thread num: 2  -  10 / 103\n"
     ]
    },
    {
     "name": "stderr",
     "output_type": "stream",
     "text": [
      "\u001b[A\n",
      "\n",
      "Thread num: 4:  14%|████████                                                   | 14/103 [3:27:21<36:26:44, 1474.21s/it]\u001b[A\u001b[A"
     ]
    },
    {
     "name": "stdout",
     "output_type": "stream",
     "text": [
      "completed symbols NH: SNCA: TGA: VBK: ATOM: MKD: TRUL: NLSP: SPLK: SCHO: ALRN: DISCB: TMUS: WIX - thread num: 4  -  14 / 103\n"
     ]
    },
    {
     "name": "stderr",
     "output_type": "stream",
     "text": [
      "\n",
      "\n",
      "\n",
      "\n",
      "Thread num: 5:  11%|██████▎                                                    | 11/103 [3:29:31<27:15:07, 1066.39s/it]\u001b[A\u001b[A\u001b[A\u001b[A"
     ]
    },
    {
     "name": "stdout",
     "output_type": "stream",
     "text": [
      "completed symbols EQ: GRIL: UA: LBYYQ: ITUB: EQOS: XERS: FSM: CSIQ: ASAN: QYLD - thread num: 5  -  11 / 103\n"
     ]
    },
    {
     "name": "stderr",
     "output_type": "stream",
     "text": [
      "\n",
      "\n",
      "\n",
      "\n",
      "\n",
      "\n",
      "Thread num: 1:  11%|██████▎                                                    | 11/103 [3:30:36<27:55:32, 1092.75s/it]\u001b[A\u001b[A\u001b[A\u001b[A\u001b[A\u001b[A"
     ]
    },
    {
     "name": "stdout",
     "output_type": "stream",
     "text": [
      "completed symbols EGYF: SFIX: NTDOY: SFT: QID: AXP: PSEC: CLPS: KTRA: LC: QD - thread num: 1  -  11 / 103\n"
     ]
    },
    {
     "name": "stderr",
     "output_type": "stream",
     "text": [
      "\n",
      "Thread num: 2:  11%|██████▎                                                    | 11/103 [3:34:43<34:43:12, 1358.61s/it]"
     ]
    },
    {
     "name": "stdout",
     "output_type": "stream",
     "text": [
      "completed symbols AREC: NEXT: STNE: STNG: ENVB: VB: HTGM: PFMT: SWN: VRM: ACTC - thread num: 2  -  11 / 103\n"
     ]
    },
    {
     "name": "stderr",
     "output_type": "stream",
     "text": [
      "Thread num: 0:   8%|████▋                                                       | 8/103 [3:34:58<70:58:14, 2689.41s/it]"
     ]
    },
    {
     "name": "stdout",
     "output_type": "stream",
     "text": [
      "completed symbols ENOB: MUDS: IZEA: ONCY: RNET: OVID: LMT: MRK - thread num: 0  -  8 / 103\n"
     ]
    },
    {
     "name": "stderr",
     "output_type": "stream",
     "text": [
      "\n",
      "\n",
      "\n",
      "\n",
      "\n",
      "\n",
      "\n",
      "Thread num: 3:  15%|████████▌                                                  | 15/103 [3:42:26<26:00:55, 1064.27s/it]\u001b[A\u001b[A\u001b[A\u001b[A\u001b[A\u001b[A\u001b[A"
     ]
    },
    {
     "name": "stdout",
     "output_type": "stream",
     "text": [
      "completed symbols FLDM: RCKT: BFLY: BBY: VWAGY: ATNF: AVCO: RVP: BBIG: EFOI: FUSE: AGEN: RKDA: GHIV: IAU - thread num: 3  -  15 / 103\n"
     ]
    },
    {
     "name": "stderr",
     "output_type": "stream",
     "text": [
      "\n",
      "\n",
      "\n",
      "\n",
      "\n",
      "\n",
      "Thread num: 1:  12%|██████▉                                                     | 12/103 [3:42:36<24:47:44, 980.93s/it]\u001b[A\u001b[A\u001b[A\u001b[A\u001b[A\u001b[A"
     ]
    },
    {
     "name": "stdout",
     "output_type": "stream",
     "text": [
      "completed symbols EGYF: SFIX: NTDOY: SFT: QID: AXP: PSEC: CLPS: KTRA: LC: QD: EKSO - thread num: 1  -  12 / 103\n"
     ]
    },
    {
     "name": "stderr",
     "output_type": "stream",
     "text": [
      "\n",
      "\n",
      "\n",
      "\n",
      "Thread num: 5:  12%|██████▊                                                    | 12/103 [3:50:56<28:37:06, 1132.16s/it]\u001b[A\u001b[A\u001b[A\u001b[A"
     ]
    },
    {
     "name": "stdout",
     "output_type": "stream",
     "text": [
      "completed symbols EQ: GRIL: UA: LBYYQ: ITUB: EQOS: XERS: FSM: CSIQ: ASAN: QYLD: MGI - thread num: 5  -  12 / 103\n"
     ]
    },
    {
     "name": "stderr",
     "output_type": "stream",
     "text": [
      "\n",
      "\n",
      "\n"
     ]
    },
    {
     "name": "stdout",
     "output_type": "stream",
     "text": [
      "completed symbols GPRO: CVAC: IRTC: IRM: RWLK: ACI: MGEN: FMCC: PK: CLX - thread num: 6  -  10 / 103\n"
     ]
    },
    {
     "name": "stderr",
     "output_type": "stream",
     "text": [
      "Thread num: 6:  10%|█████▋                                                     | 10/103 [3:53:08<41:41:25, 1613.83s/it]\u001b[A\u001b[A\u001b[A\n",
      "\n",
      "\n",
      "\n",
      "\n",
      "\n",
      "\n",
      "Thread num: 3:  16%|█████████▎                                                  | 16/103 [3:55:10<23:32:24, 974.07s/it]\u001b[A\u001b[A\u001b[A\u001b[A\u001b[A\u001b[A\u001b[A"
     ]
    },
    {
     "name": "stdout",
     "output_type": "stream",
     "text": [
      "completed symbols FLDM: RCKT: BFLY: BBY: VWAGY: ATNF: AVCO: RVP: BBIG: EFOI: FUSE: AGEN: RKDA: GHIV: IAU: PRQR - thread num: 3  -  16 / 103\n"
     ]
    },
    {
     "name": "stderr",
     "output_type": "stream",
     "text": [
      "\r",
      "Thread num: 0:   9%|█████▏                                                      | 9/103 [4:00:54<61:20:42, 2349.39s/it]"
     ]
    },
    {
     "name": "stdout",
     "output_type": "stream",
     "text": [
      "completed symbols ENOB: MUDS: IZEA: ONCY: RNET: OVID: LMT: MRK: BIG - thread num: 0  -  9 / 103\n"
     ]
    },
    {
     "name": "stderr",
     "output_type": "stream",
     "text": [
      "\n",
      "\n",
      "\n",
      "\n",
      "\n",
      "\n",
      "\n",
      "Thread num: 3:  17%|█████████▉                                                  | 17/103 [4:03:55<20:03:02, 839.34s/it]\u001b[A\u001b[A\u001b[A\u001b[A\u001b[A\u001b[A\u001b[A"
     ]
    },
    {
     "name": "stdout",
     "output_type": "stream",
     "text": [
      "completed symbols FLDM: RCKT: BFLY: BBY: VWAGY: ATNF: AVCO: RVP: BBIG: EFOI: FUSE: AGEN: RKDA: GHIV: IAU: PRQR: PT - thread num: 3  -  17 / 103\n"
     ]
    },
    {
     "name": "stderr",
     "output_type": "stream",
     "text": [
      "\n",
      "\n",
      "Thread num: 4:  15%|████████▌                                                  | 15/103 [4:04:20<41:29:53, 1697.65s/it]\u001b[A\u001b[A"
     ]
    },
    {
     "name": "stdout",
     "output_type": "stream",
     "text": [
      "completed symbols NH: SNCA: TGA: VBK: ATOM: MKD: TRUL: NLSP: SPLK: SCHO: ALRN: DISCB: TMUS: WIX: SDC - thread num: 4  -  15 / 103\n"
     ]
    },
    {
     "name": "stderr",
     "output_type": "stream",
     "text": [
      "\n",
      "Thread num: 2:  12%|██████▊                                                    | 12/103 [4:05:09<37:53:27, 1498.98s/it]\u001b[A"
     ]
    },
    {
     "name": "stdout",
     "output_type": "stream",
     "text": [
      "completed symbols AREC: NEXT: STNE: STNG: ENVB: VB: HTGM: PFMT: SWN: VRM: ACTC: ZI - thread num: 2  -  12 / 103\n"
     ]
    },
    {
     "name": "stderr",
     "output_type": "stream",
     "text": [
      "\n",
      "\n",
      "\n",
      "Thread num: 6:  11%|██████▎                                                    | 11/103 [4:09:34<36:26:16, 1425.84s/it]\u001b[A\u001b[A\u001b[A"
     ]
    },
    {
     "name": "stdout",
     "output_type": "stream",
     "text": [
      "completed symbols GPRO: CVAC: IRTC: IRM: RWLK: ACI: MGEN: FMCC: PK: CLX: SCO - thread num: 6  -  11 / 103\n"
     ]
    },
    {
     "name": "stderr",
     "output_type": "stream",
     "text": [
      "\n",
      "\n",
      "Thread num: 4:  16%|█████████▏                                                 | 16/103 [4:12:51<32:25:28, 1341.71s/it]\u001b[A\u001b[A"
     ]
    },
    {
     "name": "stdout",
     "output_type": "stream",
     "text": [
      "completed symbols NH: SNCA: TGA: VBK: ATOM: MKD: TRUL: NLSP: SPLK: SCHO: ALRN: DISCB: TMUS: WIX: SDC: CTEK - thread num: 4  -  16 / 103\n"
     ]
    },
    {
     "name": "stderr",
     "output_type": "stream",
     "text": [
      "\n",
      "Thread num: 2:  13%|███████▍                                                   | 13/103 [4:19:36<32:43:55, 1309.29s/it]"
     ]
    },
    {
     "name": "stdout",
     "output_type": "stream",
     "text": [
      "completed symbols AREC: NEXT: STNE: STNG: ENVB: VB: HTGM: PFMT: SWN: VRM: ACTC: ZI: NTN - thread num: 2  -  13 / 103\n"
     ]
    },
    {
     "name": "stderr",
     "output_type": "stream",
     "text": [
      "Thread num: 0:  10%|█████▋                                                     | 10/103 [4:20:31<51:36:11, 1997.55s/it]"
     ]
    },
    {
     "name": "stdout",
     "output_type": "stream",
     "text": [
      "completed symbols ENOB: MUDS: IZEA: ONCY: RNET: OVID: LMT: MRK: BIG: SI - thread num: 0  -  10 / 103\n"
     ]
    },
    {
     "name": "stderr",
     "output_type": "stream",
     "text": [
      "\n",
      "\n",
      "\n",
      "Thread num: 6:  12%|██████▊                                                    | 12/103 [4:22:57<31:18:54, 1238.84s/it]\u001b[A\u001b[A\u001b[A"
     ]
    },
    {
     "name": "stdout",
     "output_type": "stream",
     "text": [
      "completed symbols GPRO: CVAC: IRTC: IRM: RWLK: ACI: MGEN: FMCC: PK: CLX: SCO: TMDI - thread num: 6  -  12 / 103\n"
     ]
    },
    {
     "name": "stderr",
     "output_type": "stream",
     "text": [
      "<ipython-input-7-f555145416aa>:6: RuntimeWarning: invalid value encountered in longlong_scalars\n",
      "  vwap= numerator/denom\n",
      "\n",
      "\n",
      "\n",
      "\n",
      "\n",
      "\n",
      "Thread num: 1:  13%|███████▍                                                   | 13/103 [4:25:29<36:27:55, 1458.62s/it]\u001b[A\u001b[A\u001b[A\u001b[A\u001b[A\u001b[A"
     ]
    },
    {
     "name": "stdout",
     "output_type": "stream",
     "text": [
      "completed symbols EGYF: SFIX: NTDOY: SFT: QID: AXP: PSEC: CLPS: KTRA: LC: QD: EKSO: DG - thread num: 1  -  13 / 103\n"
     ]
    },
    {
     "name": "stderr",
     "output_type": "stream",
     "text": [
      "\n",
      "\n",
      "\n",
      "\n",
      "\n",
      "\n",
      "\n",
      "Thread num: 3:  17%|██████████▍                                                 | 18/103 [4:26:04<23:17:12, 986.27s/it]\u001b[A\u001b[A\u001b[A\u001b[A\u001b[A\u001b[A\u001b[A"
     ]
    },
    {
     "name": "stdout",
     "output_type": "stream",
     "text": [
      "completed symbols FLDM: RCKT: BFLY: BBY: VWAGY: ATNF: AVCO: RVP: BBIG: EFOI: FUSE: AGEN: RKDA: GHIV: IAU: PRQR: PT: SPPI - thread num: 3  -  18 / 103\n"
     ]
    },
    {
     "name": "stderr",
     "output_type": "stream",
     "text": [
      "\n",
      "\n",
      "\n",
      "Thread num: 6:  13%|███████▍                                                   | 13/103 [4:31:25<25:29:20, 1019.56s/it]\u001b[A\u001b[A\u001b[A"
     ]
    },
    {
     "name": "stdout",
     "output_type": "stream",
     "text": [
      "completed symbols GPRO: CVAC: IRTC: IRM: RWLK: ACI: MGEN: FMCC: PK: CLX: SCO: TMDI: NBAC - thread num: 6  -  13 / 103\n"
     ]
    },
    {
     "name": "stderr",
     "output_type": "stream",
     "text": [
      "\n",
      "\n",
      "Thread num: 4:  17%|█████████▋                                                 | 17/103 [4:33:21<31:15:11, 1308.27s/it]\u001b[A\u001b[A"
     ]
    },
    {
     "name": "stdout",
     "output_type": "stream",
     "text": [
      "completed symbols NH: SNCA: TGA: VBK: ATOM: MKD: TRUL: NLSP: SPLK: SCHO: ALRN: DISCB: TMUS: WIX: SDC: CTEK: PEIX - thread num: 4  -  17 / 103\n"
     ]
    },
    {
     "name": "stderr",
     "output_type": "stream",
     "text": [
      "\r",
      "Thread num: 0:  11%|██████▎                                                    | 11/103 [4:34:20<42:05:43, 1647.22s/it]"
     ]
    },
    {
     "name": "stdout",
     "output_type": "stream",
     "text": [
      "completed symbols ENOB: MUDS: IZEA: ONCY: RNET: OVID: LMT: MRK: BIG: SI: VTGN - thread num: 0  -  11 / 103\n"
     ]
    },
    {
     "name": "stderr",
     "output_type": "stream",
     "text": [
      "\n",
      "\n",
      "\n",
      "\n",
      "\n",
      "\n",
      "\n",
      "Thread num: 3:  18%|██████████▉                                                | 19/103 [4:50:30<26:22:26, 1130.31s/it]"
     ]
    },
    {
     "name": "stdout",
     "output_type": "stream",
     "text": [
      "completed symbols FLDM: RCKT: BFLY: BBY: VWAGY: ATNF: AVCO: RVP: BBIG: EFOI: FUSE: AGEN: RKDA: GHIV: IAU: PRQR: PT: SPPI: LIZI - thread num: 3  -  19 / 103\n"
     ]
    },
    {
     "name": "stderr",
     "output_type": "stream",
     "text": [
      "Thread num: 0:  12%|██████▊                                                    | 12/103 [4:51:30<36:57:18, 1461.96s/it]"
     ]
    },
    {
     "name": "stdout",
     "output_type": "stream",
     "text": [
      "completed symbols ENOB: MUDS: IZEA: ONCY: RNET: OVID: LMT: MRK: BIG: SI: VTGN: SVM - thread num: 0  -  12 / 103\n"
     ]
    },
    {
     "name": "stderr",
     "output_type": "stream",
     "text": [
      "\n",
      "\n",
      "Thread num: 4:  17%|██████████▎                                                | 18/103 [4:53:48<30:18:38, 1283.75s/it]\u001b[A\u001b[A"
     ]
    },
    {
     "name": "stdout",
     "output_type": "stream",
     "text": [
      "completed symbols NH: SNCA: TGA: VBK: ATOM: MKD: TRUL: NLSP: SPLK: SCHO: ALRN: DISCB: TMUS: WIX: SDC: CTEK: PEIX: FAZ - thread num: 4  -  18 / 103\n"
     ]
    },
    {
     "name": "stderr",
     "output_type": "stream",
     "text": [
      "\n",
      "Thread num: 2:  14%|████████                                                   | 14/103 [4:54:24<38:08:48, 1543.02s/it]\u001b[A"
     ]
    },
    {
     "name": "stdout",
     "output_type": "stream",
     "text": [
      "completed symbols AREC: NEXT: STNE: STNG: ENVB: VB: HTGM: PFMT: SWN: VRM: ACTC: ZI: NTN: AMRN - thread num: 2  -  14 / 103\n"
     ]
    },
    {
     "name": "stderr",
     "output_type": "stream",
     "text": [
      "\r",
      "Thread num: 0:  13%|███████▍                                                   | 13/103 [5:02:29<30:31:35, 1221.06s/it]"
     ]
    },
    {
     "name": "stdout",
     "output_type": "stream",
     "text": [
      "completed symbols ENOB: MUDS: IZEA: ONCY: RNET: OVID: LMT: MRK: BIG: SI: VTGN: SVM: THMO - thread num: 0  -  13 / 103\n"
     ]
    },
    {
     "name": "stderr",
     "output_type": "stream",
     "text": [
      "\n",
      "Thread num: 2:  15%|████████▌                                                  | 15/103 [5:05:51<31:26:11, 1286.04s/it]\u001b[A"
     ]
    },
    {
     "name": "stdout",
     "output_type": "stream",
     "text": [
      "completed symbols AREC: NEXT: STNE: STNG: ENVB: VB: HTGM: PFMT: SWN: VRM: ACTC: ZI: NTN: AMRN: AMPY - thread num: 2  -  15 / 103\n"
     ]
    },
    {
     "name": "stderr",
     "output_type": "stream",
     "text": [
      "\n",
      "\n",
      "Thread num: 4:  18%|██████████▉                                                | 19/103 [5:07:09<26:34:34, 1138.98s/it]\u001b[A\u001b[A"
     ]
    },
    {
     "name": "stdout",
     "output_type": "stream",
     "text": [
      "completed symbols NH: SNCA: TGA: VBK: ATOM: MKD: TRUL: NLSP: SPLK: SCHO: ALRN: DISCB: TMUS: WIX: SDC: CTEK: PEIX: FAZ: SNGX - thread num: 4  -  19 / 103\n"
     ]
    },
    {
     "name": "stderr",
     "output_type": "stream",
     "text": [
      "\n",
      "\n",
      "\n",
      "\n",
      "\n",
      "\n",
      "Thread num: 1:  14%|████████                                                   | 14/103 [5:09:34<44:51:35, 1814.56s/it]\u001b[A\u001b[A\u001b[A\u001b[A\u001b[A\u001b[A"
     ]
    },
    {
     "name": "stdout",
     "output_type": "stream",
     "text": [
      "completed symbols EGYF: SFIX: NTDOY: SFT: QID: AXP: PSEC: CLPS: KTRA: LC: QD: EKSO: DG: UPRO - thread num: 1  -  14 / 103\n"
     ]
    },
    {
     "name": "stderr",
     "output_type": "stream",
     "text": [
      "\n",
      "\n",
      "\n",
      "\n",
      "\n",
      "\n",
      "\n",
      "Thread num: 3:  19%|███████████▍                                               | 20/103 [5:11:47<27:04:29, 1174.34s/it]\u001b[A\u001b[A\u001b[A\u001b[A\u001b[A\u001b[A\u001b[A"
     ]
    },
    {
     "name": "stdout",
     "output_type": "stream",
     "text": [
      "completed symbols FLDM: RCKT: BFLY: BBY: VWAGY: ATNF: AVCO: RVP: BBIG: EFOI: FUSE: AGEN: RKDA: GHIV: IAU: PRQR: PT: SPPI: LIZI: PRPL - thread num: 3  -  20 / 103\n"
     ]
    },
    {
     "name": "stderr",
     "output_type": "stream",
     "text": [
      "\n",
      "\n",
      "\n",
      "Thread num: 6:  14%|████████                                                   | 14/103 [5:12:02<35:43:01, 1444.74s/it]\u001b[A\u001b[A\u001b[A"
     ]
    },
    {
     "name": "stdout",
     "output_type": "stream",
     "text": [
      "completed symbols GPRO: CVAC: IRTC: IRM: RWLK: ACI: MGEN: FMCC: PK: CLX: SCO: TMDI: NBAC: AGNC - thread num: 6  -  14 / 103\n"
     ]
    },
    {
     "name": "stderr",
     "output_type": "stream",
     "text": [
      "\n",
      "\n",
      "\n",
      "\n",
      "Thread num: 5:  13%|███████▍                                                   | 13/103 [5:18:02<59:00:12, 2360.14s/it]\u001b[A\u001b[A\u001b[A\u001b[A"
     ]
    },
    {
     "name": "stdout",
     "output_type": "stream",
     "text": [
      "completed symbols EQ: GRIL: UA: LBYYQ: ITUB: EQOS: XERS: FSM: CSIQ: ASAN: QYLD: MGI: PG - thread num: 5  -  13 / 103\n"
     ]
    },
    {
     "name": "stderr",
     "output_type": "stream",
     "text": [
      "\n",
      "\n",
      "\n",
      "\n",
      "\n",
      "\n",
      "Thread num: 1:  15%|████████▌                                                  | 15/103 [5:21:55<36:28:56, 1492.46s/it]\u001b[A\u001b[A\u001b[A\u001b[A\u001b[A\u001b[A"
     ]
    },
    {
     "name": "stdout",
     "output_type": "stream",
     "text": [
      "completed symbols EGYF: SFIX: NTDOY: SFT: QID: AXP: PSEC: CLPS: KTRA: LC: QD: EKSO: DG: UPRO: THBR - thread num: 1  -  15 / 103\n"
     ]
    },
    {
     "name": "stderr",
     "output_type": "stream",
     "text": [
      "\n",
      "\n",
      "\n",
      "Thread num: 6:  15%|████████▌                                                  | 15/103 [5:27:38<31:35:11, 1292.17s/it]\u001b[A\u001b[A\u001b[A"
     ]
    },
    {
     "name": "stdout",
     "output_type": "stream",
     "text": [
      "completed symbols GPRO: CVAC: IRTC: IRM: RWLK: ACI: MGEN: FMCC: PK: CLX: SCO: TMDI: NBAC: AGNC: ABEO - thread num: 6  -  15 / 103\n"
     ]
    },
    {
     "name": "stderr",
     "output_type": "stream",
     "text": [
      "\r",
      "Thread num: 0:  14%|████████                                                   | 14/103 [5:30:03<33:23:47, 1350.87s/it]"
     ]
    },
    {
     "name": "stdout",
     "output_type": "stream",
     "text": [
      "completed symbols ENOB: MUDS: IZEA: ONCY: RNET: OVID: LMT: MRK: BIG: SI: VTGN: SVM: THMO: DPZ - thread num: 0  -  14 / 103\n"
     ]
    },
    {
     "name": "stderr",
     "output_type": "stream",
     "text": [
      "\n",
      "\n",
      "Thread num: 4:  19%|███████████▍                                               | 20/103 [5:35:10<30:00:20, 1301.45s/it]\u001b[A\u001b[A"
     ]
    },
    {
     "name": "stdout",
     "output_type": "stream",
     "text": [
      "completed symbols NH: SNCA: TGA: VBK: ATOM: MKD: TRUL: NLSP: SPLK: SCHO: ALRN: DISCB: TMUS: WIX: SDC: CTEK: PEIX: FAZ: SNGX: AIV - thread num: 4  -  20 / 103\n"
     ]
    },
    {
     "name": "stderr",
     "output_type": "stream",
     "text": [
      "\n",
      "\n",
      "\n",
      "Thread num: 6:  16%|█████████▏                                                 | 16/103 [5:38:55<26:45:58, 1107.57s/it]"
     ]
    },
    {
     "name": "stdout",
     "output_type": "stream",
     "text": [
      "completed symbols GPRO: CVAC: IRTC: IRM: RWLK: ACI: MGEN: FMCC: PK: CLX: SCO: TMDI: NBAC: AGNC: ABEO: RAVE - thread num: 6  -  16 / 103\n"
     ]
    },
    {
     "name": "stderr",
     "output_type": "stream",
     "text": [
      "\u001b[A\u001b[A\u001b[A\n",
      "\n",
      "\n",
      "\n",
      "\n",
      "\n",
      "Thread num: 1:  16%|█████████▏                                                 | 16/103 [5:39:30<32:53:50, 1361.27s/it]\u001b[A\u001b[A\u001b[A\u001b[A\u001b[A\u001b[A"
     ]
    },
    {
     "name": "stdout",
     "output_type": "stream",
     "text": [
      "completed symbols EGYF: SFIX: NTDOY: SFT: QID: AXP: PSEC: CLPS: KTRA: LC: QD: EKSO: DG: UPRO: THBR: GTHX - thread num: 1  -  16 / 103\n"
     ]
    },
    {
     "name": "stderr",
     "output_type": "stream",
     "text": [
      "\n",
      "\n",
      "\n",
      "Thread num: 6:  17%|█████████▉                                                  | 17/103 [5:39:58<18:58:39, 794.41s/it]\u001b[A\u001b[A\u001b[A"
     ]
    },
    {
     "name": "stdout",
     "output_type": "stream",
     "text": [
      "completed symbols GPRO: CVAC: IRTC: IRM: RWLK: ACI: MGEN: FMCC: PK: CLX: SCO: TMDI: NBAC: AGNC: ABEO: RAVE: CPPRQ - thread num: 6  -  17 / 103\n"
     ]
    },
    {
     "name": "stderr",
     "output_type": "stream",
     "text": [
      "\n",
      "\n",
      "\n",
      "Thread num: 6:  17%|██████████▍                                                 | 18/103 [5:41:02<13:34:55, 575.24s/it]\u001b[A\u001b[A\u001b[A"
     ]
    },
    {
     "name": "stdout",
     "output_type": "stream",
     "text": [
      "completed symbols GPRO: CVAC: IRTC: IRM: RWLK: ACI: MGEN: FMCC: PK: CLX: SCO: TMDI: NBAC: AGNC: ABEO: RAVE: CPPRQ: CHKAQ - thread num: 6  -  18 / 103\n"
     ]
    },
    {
     "name": "stderr",
     "output_type": "stream",
     "text": [
      "\n",
      "\n",
      "\n",
      "\n",
      "\n",
      "\n",
      "\n",
      "Thread num: 3:  20%|████████████                                               | 21/103 [5:42:07<31:09:41, 1368.07s/it]\u001b[A\u001b[A\u001b[A\u001b[A\u001b[A\u001b[A\u001b[A"
     ]
    },
    {
     "name": "stdout",
     "output_type": "stream",
     "text": [
      "completed symbols FLDM: RCKT: BFLY: BBY: VWAGY: ATNF: AVCO: RVP: BBIG: EFOI: FUSE: AGEN: RKDA: GHIV: IAU: PRQR: PT: SPPI: LIZI: PRPL: INSG - thread num: 3  -  21 / 103\n"
     ]
    },
    {
     "name": "stderr",
     "output_type": "stream",
     "text": [
      "\n",
      "\n",
      "Thread num: 4:  20%|████████████                                               | 21/103 [5:47:20<25:44:18, 1129.98s/it]\u001b[A\u001b[A"
     ]
    },
    {
     "name": "stdout",
     "output_type": "stream",
     "text": [
      "completed symbols NH: SNCA: TGA: VBK: ATOM: MKD: TRUL: NLSP: SPLK: SCHO: ALRN: DISCB: TMUS: WIX: SDC: CTEK: PEIX: FAZ: SNGX: AIV: BETZ - thread num: 4  -  21 / 103\n"
     ]
    },
    {
     "name": "stderr",
     "output_type": "stream",
     "text": [
      "\r",
      "Thread num: 0:  15%|████████▌                                                  | 15/103 [5:53:44<33:32:05, 1371.88s/it]"
     ]
    },
    {
     "name": "stdout",
     "output_type": "stream",
     "text": [
      "completed symbols ENOB: MUDS: IZEA: ONCY: RNET: OVID: LMT: MRK: BIG: SI: VTGN: SVM: THMO: DPZ: KOPN - thread num: 0  -  15 / 103\n"
     ]
    },
    {
     "name": "stderr",
     "output_type": "stream",
     "text": [
      "\n",
      "\n",
      "\n",
      "\n",
      "\n",
      "\n",
      "Thread num: 1:  17%|█████████▋                                                 | 17/103 [5:54:47<29:19:52, 1227.82s/it]\u001b[A\u001b[A\u001b[A\u001b[A\u001b[A\u001b[A"
     ]
    },
    {
     "name": "stdout",
     "output_type": "stream",
     "text": [
      "completed symbols EGYF: SFIX: NTDOY: SFT: QID: AXP: PSEC: CLPS: KTRA: LC: QD: EKSO: DG: UPRO: THBR: GTHX: ADTX - thread num: 1  -  17 / 103\n"
     ]
    },
    {
     "name": "stderr",
     "output_type": "stream",
     "text": [
      "\n",
      "\n",
      "Thread num: 4:  21%|████████████▊                                               | 22/103 [5:55:41<21:10:56, 941.44s/it]\u001b[A\u001b[A"
     ]
    },
    {
     "name": "stdout",
     "output_type": "stream",
     "text": [
      "completed symbols NH: SNCA: TGA: VBK: ATOM: MKD: TRUL: NLSP: SPLK: SCHO: ALRN: DISCB: TMUS: WIX: SDC: CTEK: PEIX: FAZ: SNGX: AIV: BETZ: ELYS - thread num: 4  -  22 / 103\n"
     ]
    },
    {
     "name": "stderr",
     "output_type": "stream",
     "text": [
      "\n",
      "\n",
      "\n",
      "\n",
      "\n",
      "\n",
      "\n",
      "Thread num: 3:  21%|████████████▌                                              | 22/103 [5:58:08<28:01:42, 1245.71s/it]\u001b[A\u001b[A\u001b[A\u001b[A\u001b[A\u001b[A\u001b[A"
     ]
    },
    {
     "name": "stdout",
     "output_type": "stream",
     "text": [
      "completed symbols FLDM: RCKT: BFLY: BBY: VWAGY: ATNF: AVCO: RVP: BBIG: EFOI: FUSE: AGEN: RKDA: GHIV: IAU: PRQR: PT: SPPI: LIZI: PRPL: INSG: ROOT - thread num: 3  -  22 / 103\n"
     ]
    },
    {
     "name": "stderr",
     "output_type": "stream",
     "text": [
      "\n",
      "\n",
      "\n",
      "\n",
      "\n",
      "\n",
      "\n",
      "Thread num: 3:  22%|█████████████▍                                              | 23/103 [5:59:12<19:48:29, 891.37s/it]\u001b[A\u001b[A\u001b[A\u001b[A\u001b[A\u001b[A\u001b[A"
     ]
    },
    {
     "name": "stdout",
     "output_type": "stream",
     "text": [
      "completed symbols FLDM: RCKT: BFLY: BBY: VWAGY: ATNF: AVCO: RVP: BBIG: EFOI: FUSE: AGEN: RKDA: GHIV: IAU: PRQR: PT: SPPI: LIZI: PRPL: INSG: ROOT: RSCF - thread num: 3  -  23 / 103\n"
     ]
    },
    {
     "name": "stderr",
     "output_type": "stream",
     "text": [
      "\n",
      "\n",
      "\n",
      "\n",
      "\n",
      "\n",
      "Thread num: 1:  17%|██████████▎                                                | 18/103 [6:06:50<25:24:45, 1076.31s/it]\u001b[A\u001b[A\u001b[A\u001b[A\u001b[A\u001b[A"
     ]
    },
    {
     "name": "stdout",
     "output_type": "stream",
     "text": [
      "completed symbols EGYF: SFIX: NTDOY: SFT: QID: AXP: PSEC: CLPS: KTRA: LC: QD: EKSO: DG: UPRO: THBR: GTHX: ADTX: AUMN - thread num: 1  -  18 / 103\n"
     ]
    },
    {
     "name": "stderr",
     "output_type": "stream",
     "text": [
      "\n",
      "\n",
      "\n",
      "\n",
      "\n",
      "\n",
      "\n",
      "Thread num: 3:  23%|█████████████▉                                              | 24/103 [6:10:06<17:59:56, 820.21s/it]\u001b[A\u001b[A\u001b[A\u001b[A\u001b[A\u001b[A\u001b[A"
     ]
    },
    {
     "name": "stdout",
     "output_type": "stream",
     "text": [
      "completed symbols FLDM: RCKT: BFLY: BBY: VWAGY: ATNF: AVCO: RVP: BBIG: EFOI: FUSE: AGEN: RKDA: GHIV: IAU: PRQR: PT: SPPI: LIZI: PRPL: INSG: ROOT: RSCF: ICON - thread num: 3  -  24 / 103\n"
     ]
    },
    {
     "name": "stderr",
     "output_type": "stream",
     "text": [
      "\n",
      "Thread num: 2:  16%|█████████▏                                                 | 16/103 [6:19:32<53:48:43, 2226.70s/it]\u001b[A"
     ]
    },
    {
     "name": "stdout",
     "output_type": "stream",
     "text": [
      "completed symbols AREC: NEXT: STNE: STNG: ENVB: VB: HTGM: PFMT: SWN: VRM: ACTC: ZI: NTN: AMRN: AMPY: PCG - thread num: 2  -  16 / 103\n"
     ]
    },
    {
     "name": "stderr",
     "output_type": "stream",
     "text": [
      "\n",
      "\n",
      "\n",
      "\n",
      "\n",
      "\n",
      "\n",
      "Thread num: 3:  24%|██████████████▌                                             | 25/103 [6:21:01<16:41:51, 770.66s/it]\u001b[A\u001b[A\u001b[A\u001b[A\u001b[A\u001b[A\u001b[A"
     ]
    },
    {
     "name": "stdout",
     "output_type": "stream",
     "text": [
      "completed symbols FLDM: RCKT: BFLY: BBY: VWAGY: ATNF: AVCO: RVP: BBIG: EFOI: FUSE: AGEN: RKDA: GHIV: IAU: PRQR: PT: SPPI: LIZI: PRPL: INSG: ROOT: RSCF: ICON: CYRN - thread num: 3  -  25 / 103\n"
     ]
    },
    {
     "name": "stderr",
     "output_type": "stream",
     "text": [
      "\n",
      "\n",
      "\n",
      "Thread num: 6:  18%|██████████▉                                                | 19/103 [6:21:07<26:13:33, 1123.97s/it]\u001b[A\u001b[A\u001b[A"
     ]
    },
    {
     "name": "stdout",
     "output_type": "stream",
     "text": [
      "completed symbols GPRO: CVAC: IRTC: IRM: RWLK: ACI: MGEN: FMCC: PK: CLX: SCO: TMDI: NBAC: AGNC: ABEO: RAVE: CPPRQ: CHKAQ: CRON - thread num: 6  -  19 / 103\n"
     ]
    },
    {
     "name": "stderr",
     "output_type": "stream",
     "text": [
      "\n",
      "\n",
      "\n",
      "\n",
      "\n",
      "\n",
      "Thread num: 1:  18%|██████████▉                                                | 19/103 [6:22:07<24:00:15, 1028.75s/it]\u001b[A\u001b[A\u001b[A\u001b[A\u001b[A\u001b[A"
     ]
    },
    {
     "name": "stdout",
     "output_type": "stream",
     "text": [
      "completed symbols EGYF: SFIX: NTDOY: SFT: QID: AXP: PSEC: CLPS: KTRA: LC: QD: EKSO: DG: UPRO: THBR: GTHX: ADTX: AUMN: CGIX - thread num: 1  -  19 / 103\n"
     ]
    },
    {
     "name": "stderr",
     "output_type": "stream",
     "text": [
      "\r",
      "Thread num: 0:  16%|█████████▏                                                 | 16/103 [6:30:40<39:16:37, 1625.26s/it]"
     ]
    },
    {
     "name": "stdout",
     "output_type": "stream",
     "text": [
      "completed symbols ENOB: MUDS: IZEA: ONCY: RNET: OVID: LMT: MRK: BIG: SI: VTGN: SVM: THMO: DPZ: KOPN: TIGR - thread num: 0  -  16 / 103\n"
     ]
    },
    {
     "name": "stderr",
     "output_type": "stream",
     "text": [
      "\n",
      "\n",
      "\n",
      "Thread num: 6:  19%|███████████▋                                                | 20/103 [6:32:37<22:54:52, 993.89s/it]\u001b[A\u001b[A\u001b[A"
     ]
    },
    {
     "name": "stdout",
     "output_type": "stream",
     "text": [
      "completed symbols GPRO: CVAC: IRTC: IRM: RWLK: ACI: MGEN: FMCC: PK: CLX: SCO: TMDI: NBAC: AGNC: ABEO: RAVE: CPPRQ: CHKAQ: CRON: GIGM - thread num: 6  -  20 / 103\n"
     ]
    },
    {
     "name": "stderr",
     "output_type": "stream",
     "text": [
      "\n",
      "\n",
      "\n",
      "\n",
      "\n",
      "\n",
      "\n",
      "Thread num: 3:  25%|███████████████▏                                            | 26/103 [6:34:49<16:51:00, 787.80s/it]\u001b[A\u001b[A\u001b[A\u001b[A\u001b[A\u001b[A\u001b[A"
     ]
    },
    {
     "name": "stdout",
     "output_type": "stream",
     "text": [
      "completed symbols FLDM: RCKT: BFLY: BBY: VWAGY: ATNF: AVCO: RVP: BBIG: EFOI: FUSE: AGEN: RKDA: GHIV: IAU: PRQR: PT: SPPI: LIZI: PRPL: INSG: ROOT: RSCF: ICON: CYRN: APTX - thread num: 3  -  26 / 103\n"
     ]
    },
    {
     "name": "stderr",
     "output_type": "stream",
     "text": [
      "\n",
      "\n",
      "\n",
      "\n",
      "\n",
      "\n",
      "Thread num: 1:  19%|███████████▋                                                | 20/103 [6:35:52<22:18:21, 967.49s/it]\u001b[A\u001b[A\u001b[A\u001b[A\u001b[A\u001b[A"
     ]
    },
    {
     "name": "stdout",
     "output_type": "stream",
     "text": [
      "completed symbols EGYF: SFIX: NTDOY: SFT: QID: AXP: PSEC: CLPS: KTRA: LC: QD: EKSO: DG: UPRO: THBR: GTHX: ADTX: AUMN: CGIX: BHR - thread num: 1  -  20 / 103\n"
     ]
    },
    {
     "name": "stderr",
     "output_type": "stream",
     "text": [
      "\n",
      "\n",
      "\n",
      "\n",
      "\n",
      "\n",
      "\n",
      "Thread num: 3:  26%|███████████████▋                                            | 27/103 [6:44:52<15:27:37, 732.33s/it]\u001b[A\u001b[A\u001b[A\u001b[A\u001b[A\u001b[A\u001b[A"
     ]
    },
    {
     "name": "stdout",
     "output_type": "stream",
     "text": [
      "completed symbols FLDM: RCKT: BFLY: BBY: VWAGY: ATNF: AVCO: RVP: BBIG: EFOI: FUSE: AGEN: RKDA: GHIV: IAU: PRQR: PT: SPPI: LIZI: PRPL: INSG: ROOT: RSCF: ICON: CYRN: APTX: IPOD - thread num: 3  -  27 / 103\n"
     ]
    },
    {
     "name": "stderr",
     "output_type": "stream",
     "text": [
      "\n",
      "\n",
      "\n",
      "\n",
      "Thread num: 5:  14%|████████                                                   | 14/103 [6:45:00<79:32:48, 3217.63s/it]\u001b[A\u001b[A\u001b[A\u001b[A"
     ]
    },
    {
     "name": "stdout",
     "output_type": "stream",
     "text": [
      "completed symbols EQ: GRIL: UA: LBYYQ: ITUB: EQOS: XERS: FSM: CSIQ: ASAN: QYLD: MGI: PG: MRVL - thread num: 5  -  14 / 103\n"
     ]
    },
    {
     "name": "stderr",
     "output_type": "stream",
     "text": [
      "\n",
      "\n",
      "\n",
      "Thread num: 6:  20%|████████████                                               | 21/103 [6:53:11<24:16:50, 1065.98s/it]\u001b[A\u001b[A\u001b[A"
     ]
    },
    {
     "name": "stdout",
     "output_type": "stream",
     "text": [
      "completed symbols GPRO: CVAC: IRTC: IRM: RWLK: ACI: MGEN: FMCC: PK: CLX: SCO: TMDI: NBAC: AGNC: ABEO: RAVE: CPPRQ: CHKAQ: CRON: GIGM: WPG - thread num: 6  -  21 / 103\n"
     ]
    },
    {
     "name": "stderr",
     "output_type": "stream",
     "text": [
      "\n",
      "\n",
      "\n",
      "\n",
      "\n",
      "\n",
      "Thread num: 1:  20%|████████████                                               | 21/103 [6:55:52<23:37:34, 1037.25s/it]\u001b[A\u001b[A\u001b[A\u001b[A\u001b[A\u001b[A"
     ]
    },
    {
     "name": "stdout",
     "output_type": "stream",
     "text": [
      "completed symbols EGYF: SFIX: NTDOY: SFT: QID: AXP: PSEC: CLPS: KTRA: LC: QD: EKSO: DG: UPRO: THBR: GTHX: ADTX: AUMN: CGIX: BHR: NETE - thread num: 1  -  21 / 103\n"
     ]
    },
    {
     "name": "stderr",
     "output_type": "stream",
     "text": [
      "\n",
      "\n",
      "\n",
      "\n",
      "\n",
      "\n",
      "\n",
      "Thread num: 3:  27%|████████████████▎                                           | 28/103 [7:01:27<16:53:58, 811.18s/it]\u001b[A\u001b[A\u001b[A\u001b[A\u001b[A\u001b[A\u001b[A"
     ]
    },
    {
     "name": "stdout",
     "output_type": "stream",
     "text": [
      "completed symbols FLDM: RCKT: BFLY: BBY: VWAGY: ATNF: AVCO: RVP: BBIG: EFOI: FUSE: AGEN: RKDA: GHIV: IAU: PRQR: PT: SPPI: LIZI: PRPL: INSG: ROOT: RSCF: ICON: CYRN: APTX: IPOD: ARPO - thread num: 3  -  28 / 103\n"
     ]
    },
    {
     "name": "stderr",
     "output_type": "stream",
     "text": [
      "\n",
      "\n",
      "\n",
      "\n",
      "Thread num: 5:  15%|████████▌                                                  | 15/103 [7:05:56<64:16:01, 2629.10s/it]\u001b[A\u001b[A\u001b[A\u001b[A"
     ]
    },
    {
     "name": "stdout",
     "output_type": "stream",
     "text": [
      "completed symbols EQ: GRIL: UA: LBYYQ: ITUB: EQOS: XERS: FSM: CSIQ: ASAN: QYLD: MGI: PG: MRVL: AESE - thread num: 5  -  15 / 103\n"
     ]
    },
    {
     "name": "stderr",
     "output_type": "stream",
     "text": [
      "\r",
      "Thread num: 0:  17%|█████████▋                                                 | 17/103 [7:07:30<43:01:04, 1800.75s/it]"
     ]
    },
    {
     "name": "stdout",
     "output_type": "stream",
     "text": [
      "completed symbols ENOB: MUDS: IZEA: ONCY: RNET: OVID: LMT: MRK: BIG: SI: VTGN: SVM: THMO: DPZ: KOPN: TIGR: INTU - thread num: 0  -  17 / 103\n",
      "completed symbols GPRO: CVAC: IRTC: IRM: RWLK: ACI: MGEN: FMCC: PK: CLX: SCO: TMDI: NBAC: AGNC: ABEO: RAVE: CPPRQ: CHKAQ: CRON: GIGM: WPG: XELB - thread num: 6  -  22 / 103\n"
     ]
    },
    {
     "name": "stderr",
     "output_type": "stream",
     "text": [
      "\n",
      "\n",
      "\n",
      "Thread num: 6:  21%|████████████▌                                              | 22/103 [7:07:46<22:41:26, 1008.47s/it]\u001b[A\u001b[A\u001b[A\n",
      "Thread num: 2:  17%|█████████▋                                                 | 17/103 [7:09:37<58:46:23, 2460.27s/it]\u001b[A"
     ]
    },
    {
     "name": "stdout",
     "output_type": "stream",
     "text": [
      "completed symbols AREC: NEXT: STNE: STNG: ENVB: VB: HTGM: PFMT: SWN: VRM: ACTC: ZI: NTN: AMRN: AMPY: PCG: DOW - thread num: 2  -  17 / 103\n"
     ]
    },
    {
     "name": "stderr",
     "output_type": "stream",
     "text": [
      "\n",
      "\n",
      "\n",
      "\n",
      "\n",
      "\n",
      "Thread num: 1:  21%|████████████▌                                              | 22/103 [7:14:35<23:55:05, 1063.03s/it]\u001b[A\u001b[A\u001b[A\u001b[A\u001b[A\u001b[A"
     ]
    },
    {
     "name": "stdout",
     "output_type": "stream",
     "text": [
      "completed symbols EGYF: SFIX: NTDOY: SFT: QID: AXP: PSEC: CLPS: KTRA: LC: QD: EKSO: DG: UPRO: THBR: GTHX: ADTX: AUMN: CGIX: BHR: NETE: SPRT - thread num: 1  -  22 / 103\n"
     ]
    },
    {
     "name": "stderr",
     "output_type": "stream",
     "text": [
      "\n",
      "\n",
      "\n",
      "\n",
      "\n",
      "\n",
      "\n",
      "Thread num: 3:  28%|████████████████▉                                           | 29/103 [7:15:03<16:42:15, 812.64s/it]\u001b[A\u001b[A\u001b[A\u001b[A\u001b[A\u001b[A\u001b[A"
     ]
    },
    {
     "name": "stdout",
     "output_type": "stream",
     "text": [
      "completed symbols FLDM: RCKT: BFLY: BBY: VWAGY: ATNF: AVCO: RVP: BBIG: EFOI: FUSE: AGEN: RKDA: GHIV: IAU: PRQR: PT: SPPI: LIZI: PRPL: INSG: ROOT: RSCF: ICON: CYRN: APTX: IPOD: ARPO: ANY - thread num: 3  -  29 / 103\n"
     ]
    },
    {
     "name": "stderr",
     "output_type": "stream",
     "text": [
      "\r",
      "Thread num: 0:  17%|██████████▎                                                | 18/103 [7:24:24<36:56:19, 1564.46s/it]"
     ]
    },
    {
     "name": "stdout",
     "output_type": "stream",
     "text": [
      "completed symbols ENOB: MUDS: IZEA: ONCY: RNET: OVID: LMT: MRK: BIG: SI: VTGN: SVM: THMO: DPZ: KOPN: TIGR: INTU: HUSA - thread num: 0  -  18 / 103\n"
     ]
    },
    {
     "name": "stderr",
     "output_type": "stream",
     "text": [
      "\n",
      "Thread num: 2:  17%|██████████▎                                                | 18/103 [7:27:04<48:04:34, 2036.17s/it]\u001b[A"
     ]
    },
    {
     "name": "stdout",
     "output_type": "stream",
     "text": [
      "completed symbols AREC: NEXT: STNE: STNG: ENVB: VB: HTGM: PFMT: SWN: VRM: ACTC: ZI: NTN: AMRN: AMPY: PCG: DOW: INFI - thread num: 2  -  18 / 103\n"
     ]
    },
    {
     "name": "stderr",
     "output_type": "stream",
     "text": [
      "\n",
      "\n",
      "\n",
      "Thread num: 6:  22%|█████████████▏                                             | 23/103 [7:31:03<25:00:03, 1125.04s/it]\u001b[A\u001b[A\u001b[A"
     ]
    },
    {
     "name": "stdout",
     "output_type": "stream",
     "text": [
      "completed symbols GPRO: CVAC: IRTC: IRM: RWLK: ACI: MGEN: FMCC: PK: CLX: SCO: TMDI: NBAC: AGNC: ABEO: RAVE: CPPRQ: CHKAQ: CRON: GIGM: WPG: XELB: QTT - thread num: 6  -  23 / 103\n"
     ]
    },
    {
     "name": "stderr",
     "output_type": "stream",
     "text": [
      "\n",
      "\n",
      "Thread num: 4:  22%|█████████████▏                                             | 23/103 [7:35:27<54:32:49, 2454.62s/it]\u001b[A\u001b[A"
     ]
    },
    {
     "name": "stdout",
     "output_type": "stream",
     "text": [
      "completed symbols NH: SNCA: TGA: VBK: ATOM: MKD: TRUL: NLSP: SPLK: SCHO: ALRN: DISCB: TMUS: WIX: SDC: CTEK: PEIX: FAZ: SNGX: AIV: BETZ: ELYS: ORCL - thread num: 4  -  23 / 103\n"
     ]
    },
    {
     "name": "stderr",
     "output_type": "stream",
     "text": [
      "\n",
      "\n",
      "\n",
      "\n",
      "\n",
      "\n",
      "\n",
      "Thread num: 3:  29%|█████████████████▍                                          | 30/103 [7:36:50<19:28:56, 960.78s/it]\u001b[A\u001b[A\u001b[A\u001b[A\u001b[A\u001b[A\u001b[A"
     ]
    },
    {
     "name": "stdout",
     "output_type": "stream",
     "text": [
      "completed symbols FLDM: RCKT: BFLY: BBY: VWAGY: ATNF: AVCO: RVP: BBIG: EFOI: FUSE: AGEN: RKDA: GHIV: IAU: PRQR: PT: SPPI: LIZI: PRPL: INSG: ROOT: RSCF: ICON: CYRN: APTX: IPOD: ARPO: ANY: GAN - thread num: 3  -  30 / 103\n"
     ]
    },
    {
     "name": "stderr",
     "output_type": "stream",
     "text": [
      "\n",
      "\n",
      "\n",
      "\n",
      "\n",
      "\n",
      "Thread num: 1:  22%|█████████████▏                                             | 23/103 [7:42:08<27:33:14, 1239.93s/it]\u001b[A\u001b[A\u001b[A\u001b[A\u001b[A\u001b[A"
     ]
    },
    {
     "name": "stdout",
     "output_type": "stream",
     "text": [
      "completed symbols EGYF: SFIX: NTDOY: SFT: QID: AXP: PSEC: CLPS: KTRA: LC: QD: EKSO: DG: UPRO: THBR: GTHX: ADTX: AUMN: CGIX: BHR: NETE: SPRT: EVRI - thread num: 1  -  23 / 103\n"
     ]
    },
    {
     "name": "stderr",
     "output_type": "stream",
     "text": [
      "\n",
      "Thread num: 2:  18%|██████████▉                                                | 19/103 [7:42:49<39:52:31, 1708.94s/it]\u001b[A"
     ]
    },
    {
     "name": "stdout",
     "output_type": "stream",
     "text": [
      "completed symbols AREC: NEXT: STNE: STNG: ENVB: VB: HTGM: PFMT: SWN: VRM: ACTC: ZI: NTN: AMRN: AMPY: PCG: DOW: INFI: YCBD - thread num: 2  -  19 / 103\n"
     ]
    },
    {
     "name": "stderr",
     "output_type": "stream",
     "text": [
      "\n",
      "\n",
      "\n",
      "\n",
      "Thread num: 5:  16%|█████████▏                                                 | 16/103 [7:49:51<63:34:56, 2631.00s/it]\u001b[A\u001b[A\u001b[A\u001b[A"
     ]
    },
    {
     "name": "stdout",
     "output_type": "stream",
     "text": [
      "completed symbols EQ: GRIL: UA: LBYYQ: ITUB: EQOS: XERS: FSM: CSIQ: ASAN: QYLD: MGI: PG: MRVL: AESE: OKE - thread num: 5  -  16 / 103\n"
     ]
    },
    {
     "name": "stderr",
     "output_type": "stream",
     "text": [
      "\n",
      "\n",
      "\n",
      "Thread num: 6:  23%|█████████████▋                                             | 24/103 [7:52:10<25:37:33, 1167.77s/it]\u001b[A\u001b[A\u001b[A"
     ]
    },
    {
     "name": "stdout",
     "output_type": "stream",
     "text": [
      "completed symbols GPRO: CVAC: IRTC: IRM: RWLK: ACI: MGEN: FMCC: PK: CLX: SCO: TMDI: NBAC: AGNC: ABEO: RAVE: CPPRQ: CHKAQ: CRON: GIGM: WPG: XELB: QTT: VXUS - thread num: 6  -  24 / 103\n"
     ]
    },
    {
     "name": "stderr",
     "output_type": "stream",
     "text": [
      "\n",
      "\n",
      "\n",
      "\n",
      "\n",
      "\n",
      "\n",
      "Thread num: 3:  30%|██████████████████                                          | 31/103 [7:53:25<19:25:24, 971.17s/it]\u001b[A\u001b[A\u001b[A\u001b[A\u001b[A\u001b[A\u001b[A"
     ]
    },
    {
     "name": "stdout",
     "output_type": "stream",
     "text": [
      "completed symbols FLDM: RCKT: BFLY: BBY: VWAGY: ATNF: AVCO: RVP: BBIG: EFOI: FUSE: AGEN: RKDA: GHIV: IAU: PRQR: PT: SPPI: LIZI: PRPL: INSG: ROOT: RSCF: ICON: CYRN: APTX: IPOD: ARPO: ANY: GAN: ALNA - thread num: 3  -  31 / 103\n"
     ]
    },
    {
     "name": "stderr",
     "output_type": "stream",
     "text": [
      "\n",
      "\n",
      "Thread num: 4:  23%|█████████████▋                                             | 24/103 [7:53:43<44:55:20, 2047.10s/it]\u001b[A\u001b[A"
     ]
    },
    {
     "name": "stdout",
     "output_type": "stream",
     "text": [
      "completed symbols NH: SNCA: TGA: VBK: ATOM: MKD: TRUL: NLSP: SPLK: SCHO: ALRN: DISCB: TMUS: WIX: SDC: CTEK: PEIX: FAZ: SNGX: AIV: BETZ: ELYS: ORCL: CARV - thread num: 4  -  24 / 103\n"
     ]
    },
    {
     "name": "stderr",
     "output_type": "stream",
     "text": [
      "\n",
      "\n",
      "\n",
      "\n",
      "\n",
      "\n",
      "Thread num: 1:  23%|█████████████▋                                             | 24/103 [7:57:28<25:06:22, 1144.09s/it]\u001b[A\u001b[A\u001b[A\u001b[A\u001b[A\u001b[A"
     ]
    },
    {
     "name": "stdout",
     "output_type": "stream",
     "text": [
      "completed symbols EGYF: SFIX: NTDOY: SFT: QID: AXP: PSEC: CLPS: KTRA: LC: QD: EKSO: DG: UPRO: THBR: GTHX: ADTX: AUMN: CGIX: BHR: NETE: SPRT: EVRI: CORR - thread num: 1  -  24 / 103\n"
     ]
    },
    {
     "name": "stderr",
     "output_type": "stream",
     "text": [
      "\r",
      "Thread num: 0:  18%|██████████▉                                                | 19/103 [7:57:55<39:37:56, 1698.54s/it]"
     ]
    },
    {
     "name": "stdout",
     "output_type": "stream",
     "text": [
      "completed symbols ENOB: MUDS: IZEA: ONCY: RNET: OVID: LMT: MRK: BIG: SI: VTGN: SVM: THMO: DPZ: KOPN: TIGR: INTU: HUSA: DFS - thread num: 0  -  19 / 103\n"
     ]
    },
    {
     "name": "stderr",
     "output_type": "stream",
     "text": [
      "\n",
      "Thread num: 2:  19%|███████████▍                                               | 20/103 [7:58:28<34:04:07, 1477.68s/it]\u001b[A"
     ]
    },
    {
     "name": "stdout",
     "output_type": "stream",
     "text": [
      "completed symbols AREC: NEXT: STNE: STNG: ENVB: VB: HTGM: PFMT: SWN: VRM: ACTC: ZI: NTN: AMRN: AMPY: PCG: DOW: INFI: YCBD: RCON - thread num: 2  -  20 / 103\n"
     ]
    },
    {
     "name": "stderr",
     "output_type": "stream",
     "text": [
      "\r",
      "Thread num: 0:  19%|███████████▍                                               | 20/103 [8:01:52<29:03:17, 1260.21s/it]"
     ]
    },
    {
     "name": "stdout",
     "output_type": "stream",
     "text": [
      "completed symbols ENOB: MUDS: IZEA: ONCY: RNET: OVID: LMT: MRK: BIG: SI: VTGN: SVM: THMO: DPZ: KOPN: TIGR: INTU: HUSA: DFS: VZIO - thread num: 0  -  20 / 103\n"
     ]
    },
    {
     "name": "stderr",
     "output_type": "stream",
     "text": [
      "\n",
      "\n",
      "\n",
      "Thread num: 6:  24%|██████████████▎                                            | 25/103 [8:02:26<21:42:54, 1002.24s/it]\u001b[A\u001b[A\u001b[A"
     ]
    },
    {
     "name": "stdout",
     "output_type": "stream",
     "text": [
      "completed symbols GPRO: CVAC: IRTC: IRM: RWLK: ACI: MGEN: FMCC: PK: CLX: SCO: TMDI: NBAC: AGNC: ABEO: RAVE: CPPRQ: CHKAQ: CRON: GIGM: WPG: XELB: QTT: VXUS: RMG - thread num: 6  -  25 / 103\n"
     ]
    },
    {
     "name": "stderr",
     "output_type": "stream",
     "text": [
      "\n",
      "\n",
      "\n",
      "\n",
      "Thread num: 5:  17%|█████████▋                                                 | 17/103 [8:05:03<50:31:43, 2115.16s/it]\u001b[A\u001b[A\u001b[A\u001b[A"
     ]
    },
    {
     "name": "stdout",
     "output_type": "stream",
     "text": [
      "completed symbols EQ: GRIL: UA: LBYYQ: ITUB: EQOS: XERS: FSM: CSIQ: ASAN: QYLD: MGI: PG: MRVL: AESE: OKE: MESO - thread num: 5  -  17 / 103\n"
     ]
    },
    {
     "name": "stderr",
     "output_type": "stream",
     "text": [
      "\n",
      "\n",
      "\n",
      "\n",
      "\n",
      "\n",
      "\n",
      "Thread num: 3:  31%|██████████████████▋                                         | 32/103 [8:08:28<18:45:07, 950.81s/it]\u001b[A\u001b[A\u001b[A\u001b[A\u001b[A\u001b[A\u001b[A"
     ]
    },
    {
     "name": "stdout",
     "output_type": "stream",
     "text": [
      "completed symbols FLDM: RCKT: BFLY: BBY: VWAGY: ATNF: AVCO: RVP: BBIG: EFOI: FUSE: AGEN: RKDA: GHIV: IAU: PRQR: PT: SPPI: LIZI: PRPL: INSG: ROOT: RSCF: ICON: CYRN: APTX: IPOD: ARPO: ANY: GAN: ALNA: CPHI - thread num: 3  -  32 / 103\n"
     ]
    },
    {
     "name": "stderr",
     "output_type": "stream",
     "text": [
      "\n",
      "\n",
      "\n",
      "\n",
      "\n",
      "\n",
      "Thread num: 1:  24%|██████████████▎                                            | 25/103 [8:12:08<23:04:12, 1064.78s/it]\u001b[A\u001b[A\u001b[A\u001b[A\u001b[A\u001b[A"
     ]
    },
    {
     "name": "stdout",
     "output_type": "stream",
     "text": [
      "completed symbols EGYF: SFIX: NTDOY: SFT: QID: AXP: PSEC: CLPS: KTRA: LC: QD: EKSO: DG: UPRO: THBR: GTHX: ADTX: AUMN: CGIX: BHR: NETE: SPRT: EVRI: CORR: HIBS - thread num: 1  -  25 / 103\n"
     ]
    },
    {
     "name": "stderr",
     "output_type": "stream",
     "text": [
      "\n",
      "Thread num: 2:  20%|████████████                                               | 21/103 [8:14:20<30:03:57, 1319.97s/it]\u001b[A"
     ]
    },
    {
     "name": "stdout",
     "output_type": "stream",
     "text": [
      "completed symbols AREC: NEXT: STNE: STNG: ENVB: VB: HTGM: PFMT: SWN: VRM: ACTC: ZI: NTN: AMRN: AMPY: PCG: DOW: INFI: YCBD: RCON: HGSH - thread num: 2  -  21 / 103\n"
     ]
    },
    {
     "name": "stderr",
     "output_type": "stream",
     "text": [
      "\r",
      "Thread num: 0:  20%|████████████                                               | 21/103 [8:17:32<26:30:57, 1164.11s/it]"
     ]
    },
    {
     "name": "stdout",
     "output_type": "stream",
     "text": [
      "completed symbols ENOB: MUDS: IZEA: ONCY: RNET: OVID: LMT: MRK: BIG: SI: VTGN: SVM: THMO: DPZ: KOPN: TIGR: INTU: HUSA: DFS: VZIO: APOP - thread num: 0  -  21 / 103\n"
     ]
    },
    {
     "name": "stderr",
     "output_type": "stream",
     "text": [
      "\n",
      "\n",
      "\n",
      "\n",
      "Thread num: 5:  17%|██████████▎                                                | 18/103 [8:22:37<42:25:42, 1796.97s/it]\u001b[A\u001b[A\u001b[A\u001b[A"
     ]
    },
    {
     "name": "stdout",
     "output_type": "stream",
     "text": [
      "completed symbols EQ: GRIL: UA: LBYYQ: ITUB: EQOS: XERS: FSM: CSIQ: ASAN: QYLD: MGI: PG: MRVL: AESE: OKE: MESO: MRIN - thread num: 5  -  18 / 103\n"
     ]
    },
    {
     "name": "stderr",
     "output_type": "stream",
     "text": [
      "\n",
      "\n",
      "\n",
      "Thread num: 6:  25%|██████████████▉                                            | 26/103 [8:24:28<23:29:25, 1098.26s/it]\u001b[A\u001b[A\u001b[A"
     ]
    },
    {
     "name": "stdout",
     "output_type": "stream",
     "text": [
      "completed symbols GPRO: CVAC: IRTC: IRM: RWLK: ACI: MGEN: FMCC: PK: CLX: SCO: TMDI: NBAC: AGNC: ABEO: RAVE: CPPRQ: CHKAQ: CRON: GIGM: WPG: XELB: QTT: VXUS: RMG: VTEB - thread num: 6  -  26 / 103\n"
     ]
    },
    {
     "name": "stderr",
     "output_type": "stream",
     "text": [
      "\n",
      "\n",
      "\n",
      "\n",
      "\n",
      "\n",
      "\n"
     ]
    },
    {
     "name": "stdout",
     "output_type": "stream",
     "text": [
      "completed symbols FLDM: RCKT: BFLY: BBY: VWAGY: ATNF: AVCO: RVP: BBIG: EFOI: FUSE: AGEN: RKDA: GHIV: IAU: PRQR: PT: SPPI: LIZI: PRPL: INSG: ROOT: RSCF: ICON: CYRN: APTX: IPOD: ARPO: ANY: GAN: ALNA: CPHI: CCO - thread num: 3  -  33 / 103\n"
     ]
    },
    {
     "name": "stderr",
     "output_type": "stream",
     "text": [
      "Thread num: 3:  32%|███████████████████▏                                        | 33/103 [8:27:02<19:26:09, 999.57s/it]\u001b[A\u001b[A\u001b[A\u001b[A\u001b[A\u001b[A\u001b[A\n",
      "\n",
      "Thread num: 4:  24%|██████████████▎                                            | 25/103 [8:27:28<44:12:37, 2040.48s/it]\u001b[A\u001b[A"
     ]
    },
    {
     "name": "stdout",
     "output_type": "stream",
     "text": [
      "completed symbols NH: SNCA: TGA: VBK: ATOM: MKD: TRUL: NLSP: SPLK: SCHO: ALRN: DISCB: TMUS: WIX: SDC: CTEK: PEIX: FAZ: SNGX: AIV: BETZ: ELYS: ORCL: CARV: CAT - thread num: 4  -  25 / 103\n"
     ]
    },
    {
     "name": "stderr",
     "output_type": "stream",
     "text": [
      "\n",
      "\n",
      "\n",
      "\n",
      "\n",
      "\n",
      "Thread num: 1:  25%|██████████████▉                                            | 26/103 [8:29:49<22:45:11, 1063.79s/it]\u001b[A\u001b[A\u001b[A\u001b[A\u001b[A\u001b[A"
     ]
    },
    {
     "name": "stdout",
     "output_type": "stream",
     "text": [
      "completed symbols EGYF: SFIX: NTDOY: SFT: QID: AXP: PSEC: CLPS: KTRA: LC: QD: EKSO: DG: UPRO: THBR: GTHX: ADTX: AUMN: CGIX: BHR: NETE: SPRT: EVRI: CORR: HIBS: CANF - thread num: 1  -  26 / 103\n"
     ]
    },
    {
     "name": "stderr",
     "output_type": "stream",
     "text": [
      "\n",
      "Thread num: 2:  21%|████████████▌                                              | 22/103 [8:33:01<28:21:26, 1260.33s/it]\u001b[A"
     ]
    },
    {
     "name": "stdout",
     "output_type": "stream",
     "text": [
      "completed symbols AREC: NEXT: STNE: STNG: ENVB: VB: HTGM: PFMT: SWN: VRM: ACTC: ZI: NTN: AMRN: AMPY: PCG: DOW: INFI: YCBD: RCON: HGSH: MNOV - thread num: 2  -  22 / 103\n"
     ]
    },
    {
     "name": "stderr",
     "output_type": "stream",
     "text": [
      "\n",
      "\n",
      "\n",
      "\n",
      "Thread num: 5:  18%|██████████▉                                                | 19/103 [8:38:04<35:50:04, 1535.76s/it]\u001b[A\u001b[A\u001b[A\u001b[A"
     ]
    },
    {
     "name": "stdout",
     "output_type": "stream",
     "text": [
      "completed symbols EQ: GRIL: UA: LBYYQ: ITUB: EQOS: XERS: FSM: CSIQ: ASAN: QYLD: MGI: PG: MRVL: AESE: OKE: MESO: MRIN: HIBL - thread num: 5  -  19 / 103\n"
     ]
    },
    {
     "name": "stderr",
     "output_type": "stream",
     "text": [
      "\n",
      "\n",
      "\n",
      "Thread num: 6:  26%|███████████████▍                                           | 27/103 [8:39:10<21:48:48, 1033.27s/it]\u001b[A\u001b[A\u001b[A"
     ]
    },
    {
     "name": "stdout",
     "output_type": "stream",
     "text": [
      "completed symbols GPRO: CVAC: IRTC: IRM: RWLK: ACI: MGEN: FMCC: PK: CLX: SCO: TMDI: NBAC: AGNC: ABEO: RAVE: CPPRQ: CHKAQ: CRON: GIGM: WPG: XELB: QTT: VXUS: RMG: VTEB: TGC - thread num: 6  -  27 / 103\n"
     ]
    },
    {
     "name": "stderr",
     "output_type": "stream",
     "text": [
      "\n",
      "\n",
      "\n",
      "\n",
      "\n",
      "\n",
      "Thread num: 1:  26%|███████████████▍                                           | 27/103 [8:48:47<22:55:33, 1085.96s/it]\u001b[A\u001b[A\u001b[A\u001b[A\u001b[A\u001b[A"
     ]
    },
    {
     "name": "stdout",
     "output_type": "stream",
     "text": [
      "completed symbols EGYF: SFIX: NTDOY: SFT: QID: AXP: PSEC: CLPS: KTRA: LC: QD: EKSO: DG: UPRO: THBR: GTHX: ADTX: AUMN: CGIX: BHR: NETE: SPRT: EVRI: CORR: HIBS: CANF: RESN - thread num: 1  -  27 / 103\n"
     ]
    },
    {
     "name": "stderr",
     "output_type": "stream",
     "text": [
      "\r",
      "Thread num: 0:  21%|████████████▌                                              | 22/103 [8:51:40<32:09:24, 1429.19s/it]"
     ]
    },
    {
     "name": "stdout",
     "output_type": "stream",
     "text": [
      "completed symbols ENOB: MUDS: IZEA: ONCY: RNET: OVID: LMT: MRK: BIG: SI: VTGN: SVM: THMO: DPZ: KOPN: TIGR: INTU: HUSA: DFS: VZIO: APOP: MCHI - thread num: 0  -  22 / 103\n"
     ]
    },
    {
     "name": "stderr",
     "output_type": "stream",
     "text": [
      "\n",
      "Thread num: 2:  22%|█████████████▏                                             | 23/103 [8:52:28<27:23:10, 1232.38s/it]\u001b[A"
     ]
    },
    {
     "name": "stdout",
     "output_type": "stream",
     "text": [
      "completed symbols AREC: NEXT: STNE: STNG: ENVB: VB: HTGM: PFMT: SWN: VRM: ACTC: ZI: NTN: AMRN: AMPY: PCG: DOW: INFI: YCBD: RCON: HGSH: MNOV: BSV - thread num: 2  -  23 / 103\n"
     ]
    },
    {
     "name": "stderr",
     "output_type": "stream",
     "text": [
      "\n",
      "\n",
      "\n",
      "Thread num: 6:  27%|████████████████                                           | 28/103 [9:04:24<24:31:44, 1177.39s/it]\u001b[A\u001b[A\u001b[A"
     ]
    },
    {
     "name": "stdout",
     "output_type": "stream",
     "text": [
      "completed symbols GPRO: CVAC: IRTC: IRM: RWLK: ACI: MGEN: FMCC: PK: CLX: SCO: TMDI: NBAC: AGNC: ABEO: RAVE: CPPRQ: CHKAQ: CRON: GIGM: WPG: XELB: QTT: VXUS: RMG: VTEB: TGC: NYMT - thread num: 6  -  28 / 103\n"
     ]
    },
    {
     "name": "stderr",
     "output_type": "stream",
     "text": [
      "\n",
      "\n",
      "\n",
      "\n",
      "Thread num: 5:  19%|███████████▍                                               | 20/103 [9:04:55<35:55:39, 1558.31s/it]\u001b[A\u001b[A\u001b[A\u001b[A"
     ]
    },
    {
     "name": "stdout",
     "output_type": "stream",
     "text": [
      "completed symbols EQ: GRIL: UA: LBYYQ: ITUB: EQOS: XERS: FSM: CSIQ: ASAN: QYLD: MGI: PG: MRVL: AESE: OKE: MESO: MRIN: HIBL: SDS - thread num: 5  -  20 / 103\n"
     ]
    },
    {
     "name": "stderr",
     "output_type": "stream",
     "text": [
      "\n",
      "\n",
      "\n",
      "Thread num: 6:  28%|████████████████▉                                           | 29/103 [9:05:27<17:19:45, 843.05s/it]\u001b[A\u001b[A\u001b[A"
     ]
    },
    {
     "name": "stdout",
     "output_type": "stream",
     "text": [
      "completed symbols GPRO: CVAC: IRTC: IRM: RWLK: ACI: MGEN: FMCC: PK: CLX: SCO: TMDI: NBAC: AGNC: ABEO: RAVE: CPPRQ: CHKAQ: CRON: GIGM: WPG: XELB: QTT: VXUS: RMG: VTEB: TGC: NYMT: UGAZF - thread num: 6  -  29 / 103\n"
     ]
    },
    {
     "name": "stderr",
     "output_type": "stream",
     "text": [
      "\n",
      "Thread num: 2:  23%|█████████████▋                                             | 24/103 [9:07:14<24:45:59, 1128.61s/it]\u001b[A"
     ]
    },
    {
     "name": "stdout",
     "output_type": "stream",
     "text": [
      "completed symbols AREC: NEXT: STNE: STNG: ENVB: VB: HTGM: PFMT: SWN: VRM: ACTC: ZI: NTN: AMRN: AMPY: PCG: DOW: INFI: YCBD: RCON: HGSH: MNOV: BSV: GLMD - thread num: 2  -  24 / 103\n"
     ]
    },
    {
     "name": "stderr",
     "output_type": "stream",
     "text": [
      "\n",
      "\n",
      "\n",
      "\n",
      "\n",
      "\n",
      "Thread num: 1:  27%|████████████████                                           | 28/103 [9:08:41<23:17:44, 1118.19s/it]\u001b[A\u001b[A\u001b[A\u001b[A\u001b[A\u001b[A"
     ]
    },
    {
     "name": "stdout",
     "output_type": "stream",
     "text": [
      "completed symbols EGYF: SFIX: NTDOY: SFT: QID: AXP: PSEC: CLPS: KTRA: LC: QD: EKSO: DG: UPRO: THBR: GTHX: ADTX: AUMN: CGIX: BHR: NETE: SPRT: EVRI: CORR: HIBS: CANF: RESN: BOIL - thread num: 1  -  28 / 103\n"
     ]
    },
    {
     "name": "stderr",
     "output_type": "stream",
     "text": [
      "\n",
      "\n",
      "Thread num: 4:  25%|██████████████▉                                            | 26/103 [9:11:08<47:21:57, 2214.51s/it]\u001b[A\u001b[A"
     ]
    },
    {
     "name": "stdout",
     "output_type": "stream",
     "text": [
      "completed symbols NH: SNCA: TGA: VBK: ATOM: MKD: TRUL: NLSP: SPLK: SCHO: ALRN: DISCB: TMUS: WIX: SDC: CTEK: PEIX: FAZ: SNGX: AIV: BETZ: ELYS: ORCL: CARV: CAT: AA - thread num: 4  -  26 / 103\n"
     ]
    },
    {
     "name": "stderr",
     "output_type": "stream",
     "text": [
      "\r",
      "Thread num: 0:  22%|█████████████▏                                             | 23/103 [9:15:02<31:34:51, 1421.14s/it]"
     ]
    },
    {
     "name": "stdout",
     "output_type": "stream",
     "text": [
      "completed symbols ENOB: MUDS: IZEA: ONCY: RNET: OVID: LMT: MRK: BIG: SI: VTGN: SVM: THMO: DPZ: KOPN: TIGR: INTU: HUSA: DFS: VZIO: APOP: MCHI: GOL - thread num: 0  -  23 / 103\n"
     ]
    },
    {
     "name": "stderr",
     "output_type": "stream",
     "text": [
      "\n",
      "\n",
      "\n",
      "\n",
      "\n",
      "\n",
      "Thread num: 1:  28%|████████████████▉                                           | 29/103 [9:15:47<18:42:59, 910.54s/it]\u001b[A\u001b[A\u001b[A\u001b[A\u001b[A\u001b[A"
     ]
    },
    {
     "name": "stdout",
     "output_type": "stream",
     "text": [
      "completed symbols EGYF: SFIX: NTDOY: SFT: QID: AXP: PSEC: CLPS: KTRA: LC: QD: EKSO: DG: UPRO: THBR: GTHX: ADTX: AUMN: CGIX: BHR: NETE: SPRT: EVRI: CORR: HIBS: CANF: RESN: BOIL: MNMD - thread num: 1  -  29 / 103\n"
     ]
    },
    {
     "name": "stderr",
     "output_type": "stream",
     "text": [
      "\n",
      "\n",
      "\n",
      "\n",
      "\n",
      "\n",
      "\n",
      "Thread num: 3:  33%|███████████████████▍                                       | 34/103 [9:20:15<31:46:11, 1657.55s/it]\u001b[A\u001b[A\u001b[A\u001b[A\u001b[A\u001b[A\u001b[A"
     ]
    },
    {
     "name": "stdout",
     "output_type": "stream",
     "text": [
      "completed symbols FLDM: RCKT: BFLY: BBY: VWAGY: ATNF: AVCO: RVP: BBIG: EFOI: FUSE: AGEN: RKDA: GHIV: IAU: PRQR: PT: SPPI: LIZI: PRPL: INSG: ROOT: RSCF: ICON: CYRN: APTX: IPOD: ARPO: ANY: GAN: ALNA: CPHI: CCO: LVS - thread num: 3  -  34 / 103\n"
     ]
    },
    {
     "name": "stderr",
     "output_type": "stream",
     "text": [
      "\n",
      "\n",
      "\n",
      "Thread num: 6:  29%|█████████████████▏                                         | 30/103 [9:28:27<20:21:53, 1004.30s/it]\u001b[A\u001b[A\u001b[A"
     ]
    },
    {
     "name": "stdout",
     "output_type": "stream",
     "text": [
      "completed symbols GPRO: CVAC: IRTC: IRM: RWLK: ACI: MGEN: FMCC: PK: CLX: SCO: TMDI: NBAC: AGNC: ABEO: RAVE: CPPRQ: CHKAQ: CRON: GIGM: WPG: XELB: QTT: VXUS: RMG: VTEB: TGC: NYMT: UGAZF: EXK - thread num: 6  -  30 / 103\n"
     ]
    },
    {
     "name": "stderr",
     "output_type": "stream",
     "text": [
      "\n",
      "\n",
      "Thread num: 4:  26%|███████████████▍                                           | 27/103 [9:29:02<39:31:40, 1872.37s/it]\u001b[A\u001b[A"
     ]
    },
    {
     "name": "stdout",
     "output_type": "stream",
     "text": [
      "completed symbols NH: SNCA: TGA: VBK: ATOM: MKD: TRUL: NLSP: SPLK: SCHO: ALRN: DISCB: TMUS: WIX: SDC: CTEK: PEIX: FAZ: SNGX: AIV: BETZ: ELYS: ORCL: CARV: CAT: AA: CFMS - thread num: 4  -  27 / 103\n"
     ]
    },
    {
     "name": "stderr",
     "output_type": "stream",
     "text": [
      "\n",
      "\n",
      "\n",
      "\n",
      "\n",
      "\n",
      "Thread num: 1:  29%|█████████████████▏                                         | 30/103 [9:36:22<20:26:23, 1008.00s/it]\u001b[A\u001b[A\u001b[A\u001b[A\u001b[A\u001b[A"
     ]
    },
    {
     "name": "stdout",
     "output_type": "stream",
     "text": [
      "completed symbols EGYF: SFIX: NTDOY: SFT: QID: AXP: PSEC: CLPS: KTRA: LC: QD: EKSO: DG: UPRO: THBR: GTHX: ADTX: AUMN: CGIX: BHR: NETE: SPRT: EVRI: CORR: HIBS: CANF: RESN: BOIL: MNMD: SHY - thread num: 1  -  30 / 103\n"
     ]
    },
    {
     "name": "stderr",
     "output_type": "stream",
     "text": [
      "\r",
      "Thread num: 0:  23%|█████████████▋                                             | 24/103 [9:37:02<30:31:10, 1390.76s/it]"
     ]
    },
    {
     "name": "stdout",
     "output_type": "stream",
     "text": [
      "completed symbols ENOB: MUDS: IZEA: ONCY: RNET: OVID: LMT: MRK: BIG: SI: VTGN: SVM: THMO: DPZ: KOPN: TIGR: INTU: HUSA: DFS: VZIO: APOP: MCHI: GOL: TAOP - thread num: 0  -  24 / 103\n"
     ]
    },
    {
     "name": "stderr",
     "output_type": "stream",
     "text": [
      "\n",
      "\n",
      "\n",
      "\n",
      "Thread num: 5:  20%|████████████                                               | 21/103 [9:39:39<39:05:29, 1716.22s/it]\u001b[A\u001b[A\u001b[A\u001b[A"
     ]
    },
    {
     "name": "stdout",
     "output_type": "stream",
     "text": [
      "completed symbols EQ: GRIL: UA: LBYYQ: ITUB: EQOS: XERS: FSM: CSIQ: ASAN: QYLD: MGI: PG: MRVL: AESE: OKE: MESO: MRIN: HIBL: SDS: AG - thread num: 5  -  21 / 103\n"
     ]
    },
    {
     "name": "stderr",
     "output_type": "stream",
     "text": [
      "\n",
      "Thread num: 2:  24%|██████████████▎                                            | 25/103 [9:41:04<30:18:34, 1398.90s/it]\u001b[A"
     ]
    },
    {
     "name": "stdout",
     "output_type": "stream",
     "text": [
      "completed symbols AREC: NEXT: STNE: STNG: ENVB: VB: HTGM: PFMT: SWN: VRM: ACTC: ZI: NTN: AMRN: AMPY: PCG: DOW: INFI: YCBD: RCON: HGSH: MNOV: BSV: GLMD: CHGG - thread num: 2  -  25 / 103\n"
     ]
    },
    {
     "name": "stderr",
     "output_type": "stream",
     "text": [
      "\n",
      "\n",
      "\n",
      "\n",
      "\n",
      "\n",
      "\n",
      "Thread num: 3:  34%|████████████████████                                       | 35/103 [9:41:49<29:15:01, 1548.55s/it]\u001b[A\u001b[A\u001b[A\u001b[A\u001b[A\u001b[A\u001b[A"
     ]
    },
    {
     "name": "stdout",
     "output_type": "stream",
     "text": [
      "completed symbols FLDM: RCKT: BFLY: BBY: VWAGY: ATNF: AVCO: RVP: BBIG: EFOI: FUSE: AGEN: RKDA: GHIV: IAU: PRQR: PT: SPPI: LIZI: PRPL: INSG: ROOT: RSCF: ICON: CYRN: APTX: IPOD: ARPO: ANY: GAN: ALNA: CPHI: CCO: LVS: AIHS - thread num: 3  -  35 / 103\n"
     ]
    },
    {
     "name": "stderr",
     "output_type": "stream",
     "text": [
      "\n",
      "\n",
      "\n",
      "Thread num: 6:  30%|█████████████████▊                                         | 31/103 [9:49:39<21:41:35, 1084.66s/it]\u001b[A\u001b[A\u001b[A"
     ]
    },
    {
     "name": "stdout",
     "output_type": "stream",
     "text": [
      "completed symbols GPRO: CVAC: IRTC: IRM: RWLK: ACI: MGEN: FMCC: PK: CLX: SCO: TMDI: NBAC: AGNC: ABEO: RAVE: CPPRQ: CHKAQ: CRON: GIGM: WPG: XELB: QTT: VXUS: RMG: VTEB: TGC: NYMT: UGAZF: EXK: CLEU - thread num: 6  -  31 / 103\n"
     ]
    },
    {
     "name": "stderr",
     "output_type": "stream",
     "text": [
      "\n",
      "\n",
      "\n",
      "\n",
      "\n",
      "\n",
      "\n",
      "Thread num: 3:  35%|████████████████████▌                                      | 36/103 [9:49:51<22:52:01, 1228.68s/it]\u001b[A\u001b[A\u001b[A\u001b[A\u001b[A\u001b[A\u001b[A"
     ]
    },
    {
     "name": "stdout",
     "output_type": "stream",
     "text": [
      "completed symbols FLDM: RCKT: BFLY: BBY: VWAGY: ATNF: AVCO: RVP: BBIG: EFOI: FUSE: AGEN: RKDA: GHIV: IAU: PRQR: PT: SPPI: LIZI: PRPL: INSG: ROOT: RSCF: ICON: CYRN: APTX: IPOD: ARPO: ANY: GAN: ALNA: CPHI: CCO: LVS: AIHS: BUZZ - thread num: 3  -  36 / 103\n"
     ]
    },
    {
     "name": "stderr",
     "output_type": "stream",
     "text": [
      "\n",
      "\n",
      "Thread num: 4:  27%|████████████████                                           | 28/103 [9:52:58<36:16:37, 1741.30s/it]\u001b[A\u001b[A"
     ]
    },
    {
     "name": "stdout",
     "output_type": "stream",
     "text": [
      "completed symbols NH: SNCA: TGA: VBK: ATOM: MKD: TRUL: NLSP: SPLK: SCHO: ALRN: DISCB: TMUS: WIX: SDC: CTEK: PEIX: FAZ: SNGX: AIV: BETZ: ELYS: ORCL: CARV: CAT: AA: CFMS: AQB - thread num: 4  -  28 / 103\n"
     ]
    },
    {
     "name": "stderr",
     "output_type": "stream",
     "text": [
      "\n",
      "\n",
      "\n",
      "Thread num: 6:  31%|██████████████████▎                                        | 32/103 [10:00:04<18:40:22, 946.80s/it]\u001b[A\u001b[A\u001b[A"
     ]
    },
    {
     "name": "stdout",
     "output_type": "stream",
     "text": [
      "completed symbols GPRO: CVAC: IRTC: IRM: RWLK: ACI: MGEN: FMCC: PK: CLX: SCO: TMDI: NBAC: AGNC: ABEO: RAVE: CPPRQ: CHKAQ: CRON: GIGM: WPG: XELB: QTT: VXUS: RMG: VTEB: TGC: NYMT: UGAZF: EXK: CLEU: APPH - thread num: 6  -  32 / 103\n"
     ]
    },
    {
     "name": "stderr",
     "output_type": "stream",
     "text": [
      "\n",
      "\n",
      "\n",
      "\n",
      "\n",
      "\n",
      "Thread num: 1:  30%|█████████████████▍                                        | 31/103 [10:00:57<22:57:42, 1148.09s/it]\u001b[A\u001b[A\u001b[A\u001b[A\u001b[A\u001b[A"
     ]
    },
    {
     "name": "stdout",
     "output_type": "stream",
     "text": [
      "completed symbols EGYF: SFIX: NTDOY: SFT: QID: AXP: PSEC: CLPS: KTRA: LC: QD: EKSO: DG: UPRO: THBR: GTHX: ADTX: AUMN: CGIX: BHR: NETE: SPRT: EVRI: CORR: HIBS: CANF: RESN: BOIL: MNMD: SHY: VCNX - thread num: 1  -  31 / 103\n"
     ]
    },
    {
     "name": "stderr",
     "output_type": "stream",
     "text": [
      "\n",
      "Thread num: 2:  25%|██████████████▋                                           | 26/103 [10:07:08<30:58:54, 1448.50s/it]\u001b[A"
     ]
    },
    {
     "name": "stdout",
     "output_type": "stream",
     "text": [
      "completed symbols AREC: NEXT: STNE: STNG: ENVB: VB: HTGM: PFMT: SWN: VRM: ACTC: ZI: NTN: AMRN: AMPY: PCG: DOW: INFI: YCBD: RCON: HGSH: MNOV: BSV: GLMD: CHGG: IDXX - thread num: 2  -  26 / 103\n"
     ]
    },
    {
     "name": "stderr",
     "output_type": "stream",
     "text": [
      "\n",
      "\n",
      "\n",
      "\n",
      "Thread num: 5:  21%|████████████▍                                             | 22/103 [10:12:15<40:13:44, 1787.96s/it]"
     ]
    },
    {
     "name": "stdout",
     "output_type": "stream",
     "text": [
      "completed symbols EQ: GRIL: UA: LBYYQ: ITUB: EQOS: XERS: FSM: CSIQ: ASAN: QYLD: MGI: PG: MRVL: AESE: OKE: MESO: MRIN: HIBL: SDS: AG: CRIS - thread num: 5  -  22 / 103\n"
     ]
    },
    {
     "name": "stderr",
     "output_type": "stream",
     "text": [
      "\u001b[A\u001b[A\u001b[A\u001b[A\n",
      "\n",
      "Thread num: 4:  28%|████████████████▎                                         | 29/103 [10:17:25<34:06:14, 1659.11s/it]\u001b[A\u001b[A"
     ]
    },
    {
     "name": "stdout",
     "output_type": "stream",
     "text": [
      "completed symbols NH: SNCA: TGA: VBK: ATOM: MKD: TRUL: NLSP: SPLK: SCHO: ALRN: DISCB: TMUS: WIX: SDC: CTEK: PEIX: FAZ: SNGX: AIV: BETZ: ELYS: ORCL: CARV: CAT: AA: CFMS: AQB: MITT - thread num: 4  -  29 / 103\n"
     ]
    },
    {
     "name": "stderr",
     "output_type": "stream",
     "text": [
      "\n",
      "\n",
      "\n",
      "\n",
      "\n",
      "\n",
      "\n",
      "Thread num: 3:  36%|████████████████████▊                                     | 37/103 [10:18:41<25:16:55, 1379.02s/it]\u001b[A\u001b[A\u001b[A\u001b[A\u001b[A\u001b[A\u001b[A"
     ]
    },
    {
     "name": "stdout",
     "output_type": "stream",
     "text": [
      "completed symbols FLDM: RCKT: BFLY: BBY: VWAGY: ATNF: AVCO: RVP: BBIG: EFOI: FUSE: AGEN: RKDA: GHIV: IAU: PRQR: PT: SPPI: LIZI: PRPL: INSG: ROOT: RSCF: ICON: CYRN: APTX: IPOD: ARPO: ANY: GAN: ALNA: CPHI: CCO: LVS: AIHS: BUZZ: ORI - thread num: 3  -  37 / 103\n"
     ]
    },
    {
     "name": "stderr",
     "output_type": "stream",
     "text": [
      "\n",
      "\n",
      "\n",
      "Thread num: 6:  32%|██████████████████▉                                        | 33/103 [10:18:43<19:24:49, 998.42s/it]\u001b[A\u001b[A\u001b[A"
     ]
    },
    {
     "name": "stdout",
     "output_type": "stream",
     "text": [
      "completed symbols GPRO: CVAC: IRTC: IRM: RWLK: ACI: MGEN: FMCC: PK: CLX: SCO: TMDI: NBAC: AGNC: ABEO: RAVE: CPPRQ: CHKAQ: CRON: GIGM: WPG: XELB: QTT: VXUS: RMG: VTEB: TGC: NYMT: UGAZF: EXK: CLEU: APPH: ANCN - thread num: 6  -  33 / 103\n"
     ]
    },
    {
     "name": "stderr",
     "output_type": "stream",
     "text": [
      "\n",
      "Thread num: 2:  26%|███████████████▏                                          | 27/103 [10:30:59<30:27:59, 1443.15s/it]\u001b[A"
     ]
    },
    {
     "name": "stdout",
     "output_type": "stream",
     "text": [
      "completed symbols AREC: NEXT: STNE: STNG: ENVB: VB: HTGM: PFMT: SWN: VRM: ACTC: ZI: NTN: AMRN: AMPY: PCG: DOW: INFI: YCBD: RCON: HGSH: MNOV: BSV: GLMD: CHGG: IDXX: VO - thread num: 2  -  27 / 103\n"
     ]
    },
    {
     "name": "stderr",
     "output_type": "stream",
     "text": [
      "\n",
      "\n",
      "\n",
      "\n",
      "\n",
      "\n",
      "\n",
      "Thread num: 3:  37%|█████████████████████▍                                    | 38/103 [10:38:32<23:53:00, 1322.78s/it]\u001b[A\u001b[A\u001b[A\u001b[A\u001b[A\u001b[A\u001b[A"
     ]
    },
    {
     "name": "stdout",
     "output_type": "stream",
     "text": [
      "completed symbols FLDM: RCKT: BFLY: BBY: VWAGY: ATNF: AVCO: RVP: BBIG: EFOI: FUSE: AGEN: RKDA: GHIV: IAU: PRQR: PT: SPPI: LIZI: PRPL: INSG: ROOT: RSCF: ICON: CYRN: APTX: IPOD: ARPO: ANY: GAN: ALNA: CPHI: CCO: LVS: AIHS: BUZZ: ORI: ISIG - thread num: 3  -  38 / 103\n"
     ]
    },
    {
     "name": "stderr",
     "output_type": "stream",
     "text": [
      "\n",
      "\n",
      "\n",
      "\n",
      "Thread num: 5:  22%|████████████▉                                             | 23/103 [10:39:47<38:49:50, 1747.38s/it]\u001b[A\u001b[A\u001b[A\u001b[A"
     ]
    },
    {
     "name": "stdout",
     "output_type": "stream",
     "text": [
      "completed symbols EQ: GRIL: UA: LBYYQ: ITUB: EQOS: XERS: FSM: CSIQ: ASAN: QYLD: MGI: PG: MRVL: AESE: OKE: MESO: MRIN: HIBL: SDS: AG: CRIS: CPRX - thread num: 5  -  23 / 103\n"
     ]
    },
    {
     "name": "stderr",
     "output_type": "stream",
     "text": [
      "\n",
      "\n",
      "\n",
      "\n",
      "\n",
      "\n",
      "Thread num: 1:  31%|██████████████████                                        | 32/103 [10:43:59<31:07:43, 1578.36s/it]\u001b[A\u001b[A\u001b[A\u001b[A\u001b[A\u001b[A"
     ]
    },
    {
     "name": "stdout",
     "output_type": "stream",
     "text": [
      "completed symbols EGYF: SFIX: NTDOY: SFT: QID: AXP: PSEC: CLPS: KTRA: LC: QD: EKSO: DG: UPRO: THBR: GTHX: ADTX: AUMN: CGIX: BHR: NETE: SPRT: EVRI: CORR: HIBS: CANF: RESN: BOIL: MNMD: SHY: VCNX: NUGT - thread num: 1  -  32 / 103\n"
     ]
    },
    {
     "name": "stderr",
     "output_type": "stream",
     "text": [
      "\r",
      "Thread num: 0:  24%|██████████████                                            | 25/103 [10:44:34<47:25:45, 2189.05s/it]"
     ]
    },
    {
     "name": "stdout",
     "output_type": "stream",
     "text": [
      "completed symbols ENOB: MUDS: IZEA: ONCY: RNET: OVID: LMT: MRK: BIG: SI: VTGN: SVM: THMO: DPZ: KOPN: TIGR: INTU: HUSA: DFS: VZIO: APOP: MCHI: GOL: TAOP: GILD - thread num: 0  -  25 / 103\n"
     ]
    },
    {
     "name": "stderr",
     "output_type": "stream",
     "text": [
      "\n",
      "\n",
      "\n",
      "\n",
      "\n",
      "\n",
      "Thread num: 1:  32%|██████████████████▌                                       | 33/103 [10:45:05<21:52:09, 1124.71s/it]\u001b[A\u001b[A\u001b[A\u001b[A\u001b[A\u001b[A"
     ]
    },
    {
     "name": "stdout",
     "output_type": "stream",
     "text": [
      "completed symbols EGYF: SFIX: NTDOY: SFT: QID: AXP: PSEC: CLPS: KTRA: LC: QD: EKSO: DG: UPRO: THBR: GTHX: ADTX: AUMN: CGIX: BHR: NETE: SPRT: EVRI: CORR: HIBS: CANF: RESN: BOIL: MNMD: SHY: VCNX: NUGT: TCEHY - thread num: 1  -  33 / 103\n"
     ]
    },
    {
     "name": "stderr",
     "output_type": "stream",
     "text": [
      "\n",
      "\n",
      "Thread num: 4:  29%|████████████████▉                                         | 30/103 [10:48:17<34:49:01, 1717.01s/it]\u001b[A\u001b[A"
     ]
    },
    {
     "name": "stdout",
     "output_type": "stream",
     "text": [
      "completed symbols NH: SNCA: TGA: VBK: ATOM: MKD: TRUL: NLSP: SPLK: SCHO: ALRN: DISCB: TMUS: WIX: SDC: CTEK: PEIX: FAZ: SNGX: AIV: BETZ: ELYS: ORCL: CARV: CAT: AA: CFMS: AQB: MITT: MELI - thread num: 4  -  30 / 103\n"
     ]
    },
    {
     "name": "stderr",
     "output_type": "stream",
     "text": [
      "\n",
      "Thread num: 2:  27%|███████████████▊                                          | 28/103 [10:50:41<28:26:15, 1365.01s/it]\u001b[A"
     ]
    },
    {
     "name": "stdout",
     "output_type": "stream",
     "text": [
      "completed symbols AREC: NEXT: STNE: STNG: ENVB: VB: HTGM: PFMT: SWN: VRM: ACTC: ZI: NTN: AMRN: AMPY: PCG: DOW: INFI: YCBD: RCON: HGSH: MNOV: BSV: GLMD: CHGG: IDXX: VO: HX - thread num: 2  -  28 / 103\n"
     ]
    },
    {
     "name": "stderr",
     "output_type": "stream",
     "text": [
      "\n",
      "\n",
      "\n",
      "Thread num: 6:  33%|███████████████████▏                                      | 34/103 [10:53:23<25:21:21, 1322.91s/it]\u001b[A\u001b[A\u001b[A"
     ]
    },
    {
     "name": "stdout",
     "output_type": "stream",
     "text": [
      "completed symbols GPRO: CVAC: IRTC: IRM: RWLK: ACI: MGEN: FMCC: PK: CLX: SCO: TMDI: NBAC: AGNC: ABEO: RAVE: CPPRQ: CHKAQ: CRON: GIGM: WPG: XELB: QTT: VXUS: RMG: VTEB: TGC: NYMT: UGAZF: EXK: CLEU: APPH: ANCN: SM - thread num: 6  -  34 / 103\n"
     ]
    },
    {
     "name": "stderr",
     "output_type": "stream",
     "text": [
      "\n",
      "\n",
      "\n",
      "\n",
      "\n",
      "\n",
      "Thread num: 1:  33%|███████████████████▍                                       | 34/103 [10:53:56<18:08:32, 946.56s/it]\u001b[A\u001b[A\u001b[A\u001b[A\u001b[A\u001b[A"
     ]
    },
    {
     "name": "stdout",
     "output_type": "stream",
     "text": [
      "completed symbols EGYF: SFIX: NTDOY: SFT: QID: AXP: PSEC: CLPS: KTRA: LC: QD: EKSO: DG: UPRO: THBR: GTHX: ADTX: AUMN: CGIX: BHR: NETE: SPRT: EVRI: CORR: HIBS: CANF: RESN: BOIL: MNMD: SHY: VCNX: NUGT: TCEHY: FTCV - thread num: 1  -  34 / 103\n"
     ]
    },
    {
     "name": "stderr",
     "output_type": "stream",
     "text": [
      "\n",
      "\n",
      "\n",
      "\n",
      "\n",
      "\n",
      "\n",
      "Thread num: 3:  38%|█████████████████████▉                                    | 39/103 [10:59:23<23:07:50, 1301.10s/it]\u001b[A\u001b[A\u001b[A\u001b[A\u001b[A\u001b[A\u001b[A"
     ]
    },
    {
     "name": "stdout",
     "output_type": "stream",
     "text": [
      "completed symbols FLDM: RCKT: BFLY: BBY: VWAGY: ATNF: AVCO: RVP: BBIG: EFOI: FUSE: AGEN: RKDA: GHIV: IAU: PRQR: PT: SPPI: LIZI: PRPL: INSG: ROOT: RSCF: ICON: CYRN: APTX: IPOD: ARPO: ANY: GAN: ALNA: CPHI: CCO: LVS: AIHS: BUZZ: ORI: ISIG: OCX - thread num: 3  -  39 / 103\n"
     ]
    },
    {
     "name": "stderr",
     "output_type": "stream",
     "text": [
      "\r",
      "Thread num: 0:  25%|██████████████▋                                           | 26/103 [11:03:38<40:07:10, 1875.72s/it]"
     ]
    },
    {
     "name": "stdout",
     "output_type": "stream",
     "text": [
      "completed symbols ENOB: MUDS: IZEA: ONCY: RNET: OVID: LMT: MRK: BIG: SI: VTGN: SVM: THMO: DPZ: KOPN: TIGR: INTU: HUSA: DFS: VZIO: APOP: MCHI: GOL: TAOP: GILD: ACCD - thread num: 0  -  26 / 103\n"
     ]
    },
    {
     "name": "stderr",
     "output_type": "stream",
     "text": [
      "\n",
      "\n",
      "\n",
      "\n",
      "Thread num: 5:  23%|█████████████▌                                            | 24/103 [11:05:57<37:10:21, 1693.95s/it]\u001b[A\u001b[A\u001b[A\u001b[A"
     ]
    },
    {
     "name": "stdout",
     "output_type": "stream",
     "text": [
      "completed symbols EQ: GRIL: UA: LBYYQ: ITUB: EQOS: XERS: FSM: CSIQ: ASAN: QYLD: MGI: PG: MRVL: AESE: OKE: MESO: MRIN: HIBL: SDS: AG: CRIS: CPRX: MIK - thread num: 5  -  24 / 103\n"
     ]
    },
    {
     "name": "stderr",
     "output_type": "stream",
     "text": [
      "\n",
      "Thread num: 2:  28%|████████████████▎                                         | 29/103 [11:10:56<27:07:54, 1319.93s/it]\u001b[A"
     ]
    },
    {
     "name": "stdout",
     "output_type": "stream",
     "text": [
      "completed symbols AREC: NEXT: STNE: STNG: ENVB: VB: HTGM: PFMT: SWN: VRM: ACTC: ZI: NTN: AMRN: AMPY: PCG: DOW: INFI: YCBD: RCON: HGSH: MNOV: BSV: GLMD: CHGG: IDXX: VO: HX: BLOK - thread num: 2  -  29 / 103\n"
     ]
    },
    {
     "name": "stderr",
     "output_type": "stream",
     "text": [
      "\n",
      "\n",
      "\n",
      "Thread num: 6:  34%|███████████████████▋                                      | 35/103 [11:12:49<24:06:00, 1275.88s/it]\u001b[A\u001b[A\u001b[A"
     ]
    },
    {
     "name": "stdout",
     "output_type": "stream",
     "text": [
      "completed symbols GPRO: CVAC: IRTC: IRM: RWLK: ACI: MGEN: FMCC: PK: CLX: SCO: TMDI: NBAC: AGNC: ABEO: RAVE: CPPRQ: CHKAQ: CRON: GIGM: WPG: XELB: QTT: VXUS: RMG: VTEB: TGC: NYMT: UGAZF: EXK: CLEU: APPH: ANCN: SM: TH - thread num: 6  -  35 / 103\n"
     ]
    },
    {
     "name": "stderr",
     "output_type": "stream",
     "text": [
      "\n",
      "\n"
     ]
    },
    {
     "name": "stdout",
     "output_type": "stream",
     "text": [
      "completed symbols NH: SNCA: TGA: VBK: ATOM: MKD: TRUL: NLSP: SPLK: SCHO: ALRN: DISCB: TMUS: WIX: SDC: CTEK: PEIX: FAZ: SNGX: AIV: BETZ: ELYS: ORCL: CARV: CAT: AA: CFMS: AQB: MITT: MELI: HMY - thread num: 4  -  31 / 103\n"
     ]
    },
    {
     "name": "stderr",
     "output_type": "stream",
     "text": [
      "Thread num: 4:  30%|█████████████████▍                                        | 31/103 [11:13:02<32:56:50, 1647.37s/it]\u001b[A\u001b[A\n",
      "\n",
      "\n",
      "\n",
      "\n",
      "\n",
      "Thread num: 1:  34%|███████████████████▋                                      | 35/103 [11:17:18<20:27:37, 1083.20s/it]\u001b[A\u001b[A\u001b[A\u001b[A\u001b[A\u001b[A"
     ]
    },
    {
     "name": "stdout",
     "output_type": "stream",
     "text": [
      "completed symbols EGYF: SFIX: NTDOY: SFT: QID: AXP: PSEC: CLPS: KTRA: LC: QD: EKSO: DG: UPRO: THBR: GTHX: ADTX: AUMN: CGIX: BHR: NETE: SPRT: EVRI: CORR: HIBS: CANF: RESN: BOIL: MNMD: SHY: VCNX: NUGT: TCEHY: FTCV: AMTX - thread num: 1  -  35 / 103\n"
     ]
    },
    {
     "name": "stderr",
     "output_type": "stream",
     "text": [
      "\n",
      "\n",
      "\n",
      "\n",
      "\n",
      "\n",
      "\n",
      "Thread num: 3:  39%|██████████████████████▌                                   | 40/103 [11:19:52<22:23:35, 1279.61s/it]\u001b[A\u001b[A\u001b[A\u001b[A\u001b[A\u001b[A\u001b[A"
     ]
    },
    {
     "name": "stdout",
     "output_type": "stream",
     "text": [
      "completed symbols FLDM: RCKT: BFLY: BBY: VWAGY: ATNF: AVCO: RVP: BBIG: EFOI: FUSE: AGEN: RKDA: GHIV: IAU: PRQR: PT: SPPI: LIZI: PRPL: INSG: ROOT: RSCF: ICON: CYRN: APTX: IPOD: ARPO: ANY: GAN: ALNA: CPHI: CCO: LVS: AIHS: BUZZ: ORI: ISIG: OCX: GSM - thread num: 3  -  40 / 103\n"
     ]
    },
    {
     "name": "stderr",
     "output_type": "stream",
     "text": [
      "\r",
      "Thread num: 0:  26%|███████████████▏                                          | 27/103 [11:21:28<34:29:32, 1633.85s/it]"
     ]
    },
    {
     "name": "stdout",
     "output_type": "stream",
     "text": [
      "completed symbols ENOB: MUDS: IZEA: ONCY: RNET: OVID: LMT: MRK: BIG: SI: VTGN: SVM: THMO: DPZ: KOPN: TIGR: INTU: HUSA: DFS: VZIO: APOP: MCHI: GOL: TAOP: GILD: ACCD: GDRX - thread num: 0  -  27 / 103\n"
     ]
    },
    {
     "name": "stderr",
     "output_type": "stream",
     "text": [
      "\n",
      "\n",
      "\n",
      "\n",
      "Thread num: 5:  24%|██████████████                                            | 25/103 [11:24:43<33:00:42, 1523.63s/it]\u001b[A\u001b[A\u001b[A\u001b[A"
     ]
    },
    {
     "name": "stdout",
     "output_type": "stream",
     "text": [
      "completed symbols EQ: GRIL: UA: LBYYQ: ITUB: EQOS: XERS: FSM: CSIQ: ASAN: QYLD: MGI: PG: MRVL: AESE: OKE: MESO: MRIN: HIBL: SDS: AG: CRIS: CPRX: MIK: ASM - thread num: 5  -  25 / 103\n"
     ]
    },
    {
     "name": "stderr",
     "output_type": "stream",
     "text": [
      "\n",
      "Thread num: 2:  29%|████████████████▉                                         | 30/103 [11:29:45<25:36:17, 1262.71s/it]\u001b[A"
     ]
    },
    {
     "name": "stdout",
     "output_type": "stream",
     "text": [
      "completed symbols AREC: NEXT: STNE: STNG: ENVB: VB: HTGM: PFMT: SWN: VRM: ACTC: ZI: NTN: AMRN: AMPY: PCG: DOW: INFI: YCBD: RCON: HGSH: MNOV: BSV: GLMD: CHGG: IDXX: VO: HX: BLOK: VSTM - thread num: 2  -  30 / 103\n"
     ]
    },
    {
     "name": "stderr",
     "output_type": "stream",
     "text": [
      "\n",
      "\n",
      "Thread num: 4:  31%|██████████████████                                        | 32/103 [11:30:24<28:54:23, 1465.68s/it]\u001b[A\u001b[A"
     ]
    },
    {
     "name": "stdout",
     "output_type": "stream",
     "text": [
      "completed symbols NH: SNCA: TGA: VBK: ATOM: MKD: TRUL: NLSP: SPLK: SCHO: ALRN: DISCB: TMUS: WIX: SDC: CTEK: PEIX: FAZ: SNGX: AIV: BETZ: ELYS: ORCL: CARV: CAT: AA: CFMS: AQB: MITT: MELI: HMY: SCYX - thread num: 4  -  32 / 103\n"
     ]
    },
    {
     "name": "stderr",
     "output_type": "stream",
     "text": [
      "\n",
      "\n",
      "\n",
      "Thread num: 6:  35%|████████████████████▎                                     | 36/103 [11:31:20<22:49:23, 1226.33s/it]\u001b[A\u001b[A\u001b[A"
     ]
    },
    {
     "name": "stdout",
     "output_type": "stream",
     "text": [
      "completed symbols GPRO: CVAC: IRTC: IRM: RWLK: ACI: MGEN: FMCC: PK: CLX: SCO: TMDI: NBAC: AGNC: ABEO: RAVE: CPPRQ: CHKAQ: CRON: GIGM: WPG: XELB: QTT: VXUS: RMG: VTEB: TGC: NYMT: UGAZF: EXK: CLEU: APPH: ANCN: SM: TH: BHTG - thread num: 6  -  36 / 103\n"
     ]
    },
    {
     "name": "stderr",
     "output_type": "stream",
     "text": [
      "\n",
      "\n",
      "\n",
      "\n",
      "\n",
      "\n",
      "Thread num: 1:  35%|████████████████████▎                                     | 36/103 [11:35:57<20:21:20, 1093.74s/it]\u001b[A\u001b[A\u001b[A\u001b[A\u001b[A\u001b[A"
     ]
    },
    {
     "name": "stdout",
     "output_type": "stream",
     "text": [
      "completed symbols EGYF: SFIX: NTDOY: SFT: QID: AXP: PSEC: CLPS: KTRA: LC: QD: EKSO: DG: UPRO: THBR: GTHX: ADTX: AUMN: CGIX: BHR: NETE: SPRT: EVRI: CORR: HIBS: CANF: RESN: BOIL: MNMD: SHY: VCNX: NUGT: TCEHY: FTCV: AMTX: FBIO - thread num: 1  -  36 / 103\n"
     ]
    },
    {
     "name": "stderr",
     "output_type": "stream",
     "text": [
      "\n",
      "\n",
      "\n",
      "\n",
      "\n",
      "\n",
      "\n",
      "Thread num: 3:  40%|███████████████████████                                   | 41/103 [11:40:13<21:44:01, 1261.96s/it]\u001b[A\u001b[A\u001b[A\u001b[A\u001b[A\u001b[A\u001b[A"
     ]
    },
    {
     "name": "stdout",
     "output_type": "stream",
     "text": [
      "completed symbols FLDM: RCKT: BFLY: BBY: VWAGY: ATNF: AVCO: RVP: BBIG: EFOI: FUSE: AGEN: RKDA: GHIV: IAU: PRQR: PT: SPPI: LIZI: PRPL: INSG: ROOT: RSCF: ICON: CYRN: APTX: IPOD: ARPO: ANY: GAN: ALNA: CPHI: CCO: LVS: AIHS: BUZZ: ORI: ISIG: OCX: GSM: MSTR - thread num: 3  -  41 / 103\n"
     ]
    },
    {
     "name": "stderr",
     "output_type": "stream",
     "text": [
      "\r",
      "Thread num: 0:  27%|███████████████▊                                          | 28/103 [11:40:19<30:53:46, 1483.02s/it]"
     ]
    },
    {
     "name": "stdout",
     "output_type": "stream",
     "text": [
      "completed symbols ENOB: MUDS: IZEA: ONCY: RNET: OVID: LMT: MRK: BIG: SI: VTGN: SVM: THMO: DPZ: KOPN: TIGR: INTU: HUSA: DFS: VZIO: APOP: MCHI: GOL: TAOP: GILD: ACCD: GDRX: FREQ - thread num: 0  -  28 / 103\n"
     ]
    },
    {
     "name": "stderr",
     "output_type": "stream",
     "text": [
      "\n",
      "\n",
      "\n",
      "\n",
      "Thread num: 5:  25%|██████████████▋                                           | 26/103 [11:44:56<30:35:45, 1430.47s/it]\u001b[A\u001b[A\u001b[A\u001b[A"
     ]
    },
    {
     "name": "stdout",
     "output_type": "stream",
     "text": [
      "completed symbols EQ: GRIL: UA: LBYYQ: ITUB: EQOS: XERS: FSM: CSIQ: ASAN: QYLD: MGI: PG: MRVL: AESE: OKE: MESO: MRIN: HIBL: SDS: AG: CRIS: CPRX: MIK: ASM: AGQ - thread num: 5  -  26 / 103\n"
     ]
    },
    {
     "name": "stderr",
     "output_type": "stream",
     "text": [
      "\n",
      "\n",
      "\n",
      "Thread num: 6:  36%|████████████████████▊                                     | 37/103 [11:46:35<20:46:19, 1133.02s/it]\u001b[A\u001b[A\u001b[A"
     ]
    },
    {
     "name": "stdout",
     "output_type": "stream",
     "text": [
      "completed symbols GPRO: CVAC: IRTC: IRM: RWLK: ACI: MGEN: FMCC: PK: CLX: SCO: TMDI: NBAC: AGNC: ABEO: RAVE: CPPRQ: CHKAQ: CRON: GIGM: WPG: XELB: QTT: VXUS: RMG: VTEB: TGC: NYMT: UGAZF: EXK: CLEU: APPH: ANCN: SM: TH: BHTG: HCDI - thread num: 6  -  37 / 103\n"
     ]
    },
    {
     "name": "stderr",
     "output_type": "stream",
     "text": [
      "\r",
      "Thread num: 0:  28%|████████████████▎                                         | 29/103 [11:49:26<24:42:44, 1202.22s/it]"
     ]
    },
    {
     "name": "stdout",
     "output_type": "stream",
     "text": [
      "completed symbols ENOB: MUDS: IZEA: ONCY: RNET: OVID: LMT: MRK: BIG: SI: VTGN: SVM: THMO: DPZ: KOPN: TIGR: INTU: HUSA: DFS: VZIO: APOP: MCHI: GOL: TAOP: GILD: ACCD: GDRX: FREQ: POSH - thread num: 0  -  29 / 103\n"
     ]
    },
    {
     "name": "stderr",
     "output_type": "stream",
     "text": [
      "\n",
      "\n",
      "Thread num: 4:  32%|██████████████████▌                                       | 33/103 [11:50:38<27:01:52, 1390.18s/it]\u001b[A\u001b[A"
     ]
    },
    {
     "name": "stdout",
     "output_type": "stream",
     "text": [
      "completed symbols NH: SNCA: TGA: VBK: ATOM: MKD: TRUL: NLSP: SPLK: SCHO: ALRN: DISCB: TMUS: WIX: SDC: CTEK: PEIX: FAZ: SNGX: AIV: BETZ: ELYS: ORCL: CARV: CAT: AA: CFMS: AQB: MITT: MELI: HMY: SCYX: OXLC - thread num: 4  -  33 / 103\n"
     ]
    },
    {
     "name": "stderr",
     "output_type": "stream",
     "text": [
      "\n",
      "Thread num: 2:  30%|█████████████████▍                                        | 31/103 [11:53:37<26:16:00, 1313.34s/it]"
     ]
    },
    {
     "name": "stdout",
     "output_type": "stream",
     "text": [
      "completed symbols AREC: NEXT: STNE: STNG: ENVB: VB: HTGM: PFMT: SWN: VRM: ACTC: ZI: NTN: AMRN: AMPY: PCG: DOW: INFI: YCBD: RCON: HGSH: MNOV: BSV: GLMD: CHGG: IDXX: VO: HX: BLOK: VSTM: MAXR - thread num: 2  -  31 / 103\n"
     ]
    },
    {
     "name": "stderr",
     "output_type": "stream",
     "text": [
      "\u001b[A\n",
      "\n",
      "\n",
      "\n",
      "\n",
      "\n",
      "Thread num: 1:  36%|████████████████████▊                                     | 37/103 [11:56:41<20:52:53, 1138.99s/it]\u001b[A\u001b[A\u001b[A\u001b[A\u001b[A\u001b[A"
     ]
    },
    {
     "name": "stdout",
     "output_type": "stream",
     "text": [
      "completed symbols EGYF: SFIX: NTDOY: SFT: QID: AXP: PSEC: CLPS: KTRA: LC: QD: EKSO: DG: UPRO: THBR: GTHX: ADTX: AUMN: CGIX: BHR: NETE: SPRT: EVRI: CORR: HIBS: CANF: RESN: BOIL: MNMD: SHY: VCNX: NUGT: TCEHY: FTCV: AMTX: FBIO: BVXV - thread num: 1  -  37 / 103\n"
     ]
    },
    {
     "name": "stderr",
     "output_type": "stream",
     "text": [
      "\n",
      "\n",
      "\n",
      "\n",
      "\n",
      "\n",
      "Thread num: 1:  37%|█████████████████████▊                                     | 38/103 [11:57:55<14:47:39, 819.38s/it]\u001b[A\u001b[A\u001b[A\u001b[A\u001b[A\u001b[A"
     ]
    },
    {
     "name": "stdout",
     "output_type": "stream",
     "text": [
      "completed symbols EGYF: SFIX: NTDOY: SFT: QID: AXP: PSEC: CLPS: KTRA: LC: QD: EKSO: DG: UPRO: THBR: GTHX: ADTX: AUMN: CGIX: BHR: NETE: SPRT: EVRI: CORR: HIBS: CANF: RESN: BOIL: MNMD: SHY: VCNX: NUGT: TCEHY: FTCV: AMTX: FBIO: BVXV: GEENQ - thread num: 1  -  38 / 103\n"
     ]
    },
    {
     "name": "stderr",
     "output_type": "stream",
     "text": [
      "\n",
      "\n",
      "\n",
      "Thread num: 6:  37%|█████████████████████▍                                    | 38/103 [12:05:13<20:22:19, 1128.30s/it]\u001b[A\u001b[A\u001b[A"
     ]
    },
    {
     "name": "stdout",
     "output_type": "stream",
     "text": [
      "completed symbols GPRO: CVAC: IRTC: IRM: RWLK: ACI: MGEN: FMCC: PK: CLX: SCO: TMDI: NBAC: AGNC: ABEO: RAVE: CPPRQ: CHKAQ: CRON: GIGM: WPG: XELB: QTT: VXUS: RMG: VTEB: TGC: NYMT: UGAZF: EXK: CLEU: APPH: ANCN: SM: TH: BHTG: HCDI: PZC - thread num: 6  -  38 / 103\n"
     ]
    },
    {
     "name": "stderr",
     "output_type": "stream",
     "text": [
      "\r",
      "Thread num: 0:  29%|████████████████▉                                         | 30/103 [12:11:05<24:58:01, 1231.26s/it]"
     ]
    },
    {
     "name": "stdout",
     "output_type": "stream",
     "text": [
      "completed symbols ENOB: MUDS: IZEA: ONCY: RNET: OVID: LMT: MRK: BIG: SI: VTGN: SVM: THMO: DPZ: KOPN: TIGR: INTU: HUSA: DFS: VZIO: APOP: MCHI: GOL: TAOP: GILD: ACCD: GDRX: FREQ: POSH: RMO - thread num: 0  -  30 / 103\n"
     ]
    },
    {
     "name": "stderr",
     "output_type": "stream",
     "text": [
      "\n",
      "\n",
      "\n",
      "\n",
      "\n",
      "\n",
      "\n",
      "Thread num: 3:  41%|███████████████████████▋                                  | 42/103 [12:13:46<25:11:59, 1487.20s/it]\u001b[A\u001b[A\u001b[A\u001b[A\u001b[A\u001b[A\u001b[A"
     ]
    },
    {
     "name": "stdout",
     "output_type": "stream",
     "text": [
      "completed symbols FLDM: RCKT: BFLY: BBY: VWAGY: ATNF: AVCO: RVP: BBIG: EFOI: FUSE: AGEN: RKDA: GHIV: IAU: PRQR: PT: SPPI: LIZI: PRPL: INSG: ROOT: RSCF: ICON: CYRN: APTX: IPOD: ARPO: ANY: GAN: ALNA: CPHI: CCO: LVS: AIHS: BUZZ: ORI: ISIG: OCX: GSM: MSTR: ADT - thread num: 3  -  42 / 103\n"
     ]
    },
    {
     "name": "stderr",
     "output_type": "stream",
     "text": [
      "\n",
      "\n",
      "\n",
      "\n",
      "Thread num: 5:  26%|███████████████▏                                          | 27/103 [12:17:05<33:21:22, 1580.04s/it]\u001b[A\u001b[A\u001b[A\u001b[A"
     ]
    },
    {
     "name": "stdout",
     "output_type": "stream",
     "text": [
      "completed symbols EQ: GRIL: UA: LBYYQ: ITUB: EQOS: XERS: FSM: CSIQ: ASAN: QYLD: MGI: PG: MRVL: AESE: OKE: MESO: MRIN: HIBL: SDS: AG: CRIS: CPRX: MIK: ASM: AGQ: ERX - thread num: 5  -  27 / 103\n"
     ]
    },
    {
     "name": "stderr",
     "output_type": "stream",
     "text": [
      "\n",
      "Thread num: 2:  31%|██████████████████                                        | 32/103 [12:19:48<27:25:32, 1390.60s/it]\u001b[A"
     ]
    },
    {
     "name": "stdout",
     "output_type": "stream",
     "text": [
      "completed symbols AREC: NEXT: STNE: STNG: ENVB: VB: HTGM: PFMT: SWN: VRM: ACTC: ZI: NTN: AMRN: AMPY: PCG: DOW: INFI: YCBD: RCON: HGSH: MNOV: BSV: GLMD: CHGG: IDXX: VO: HX: BLOK: VSTM: MAXR: MTP - thread num: 2  -  32 / 103\n"
     ]
    },
    {
     "name": "stderr",
     "output_type": "stream",
     "text": [
      "\n",
      "\n",
      "\n",
      "\n",
      "\n",
      "\n",
      "Thread num: 1:  38%|██████████████████████▎                                    | 39/103 [12:19:53<17:13:35, 968.99s/it]\u001b[A\u001b[A\u001b[A\u001b[A\u001b[A\u001b[A"
     ]
    },
    {
     "name": "stdout",
     "output_type": "stream",
     "text": [
      "completed symbols EGYF: SFIX: NTDOY: SFT: QID: AXP: PSEC: CLPS: KTRA: LC: QD: EKSO: DG: UPRO: THBR: GTHX: ADTX: AUMN: CGIX: BHR: NETE: SPRT: EVRI: CORR: HIBS: CANF: RESN: BOIL: MNMD: SHY: VCNX: NUGT: TCEHY: FTCV: AMTX: FBIO: BVXV: GEENQ: SNES - thread num: 1  -  39 / 103\n"
     ]
    },
    {
     "name": "stderr",
     "output_type": "stream",
     "text": [
      "\r",
      "Thread num: 0:  30%|█████████████████▍                                        | 31/103 [12:28:31<23:30:49, 1175.68s/it]"
     ]
    },
    {
     "name": "stdout",
     "output_type": "stream",
     "text": [
      "completed symbols ENOB: MUDS: IZEA: ONCY: RNET: OVID: LMT: MRK: BIG: SI: VTGN: SVM: THMO: DPZ: KOPN: TIGR: INTU: HUSA: DFS: VZIO: APOP: MCHI: GOL: TAOP: GILD: ACCD: GDRX: FREQ: POSH: RMO: GLSI - thread num: 0  -  31 / 103\n"
     ]
    },
    {
     "name": "stderr",
     "output_type": "stream",
     "text": [
      "\n",
      "\n",
      "\n",
      "Thread num: 6:  38%|█████████████████████▉                                    | 39/103 [12:36:20<23:59:57, 1349.96s/it]"
     ]
    },
    {
     "name": "stdout",
     "output_type": "stream",
     "text": [
      "completed symbols GPRO: CVAC: IRTC: IRM: RWLK: ACI: MGEN: FMCC: PK: CLX: SCO: TMDI: NBAC: AGNC: ABEO: RAVE: CPPRQ: CHKAQ: CRON: GIGM: WPG: XELB: QTT: VXUS: RMG: VTEB: TGC: NYMT: UGAZF: EXK: CLEU: APPH: ANCN: SM: TH: BHTG: HCDI: PZC: SCHD - thread num: 6  -  39 / 103\n"
     ]
    },
    {
     "name": "stderr",
     "output_type": "stream",
     "text": [
      "\u001b[A\u001b[A\u001b[A\n",
      "\n",
      "\n",
      "\n",
      "\n",
      "\n",
      "Thread num: 1:  39%|██████████████████████▌                                   | 40/103 [12:41:30<18:40:55, 1067.54s/it]\u001b[A\u001b[A\u001b[A\u001b[A\u001b[A\u001b[A"
     ]
    },
    {
     "name": "stdout",
     "output_type": "stream",
     "text": [
      "completed symbols EGYF: SFIX: NTDOY: SFT: QID: AXP: PSEC: CLPS: KTRA: LC: QD: EKSO: DG: UPRO: THBR: GTHX: ADTX: AUMN: CGIX: BHR: NETE: SPRT: EVRI: CORR: HIBS: CANF: RESN: BOIL: MNMD: SHY: VCNX: NUGT: TCEHY: FTCV: AMTX: FBIO: BVXV: GEENQ: SNES: POTX - thread num: 1  -  40 / 103\n"
     ]
    },
    {
     "name": "stderr",
     "output_type": "stream",
     "text": [
      "\n",
      "Thread num: 2:  32%|██████████████████▌                                       | 33/103 [12:46:32<28:17:12, 1454.75s/it]\u001b[A"
     ]
    },
    {
     "name": "stdout",
     "output_type": "stream",
     "text": [
      "completed symbols AREC: NEXT: STNE: STNG: ENVB: VB: HTGM: PFMT: SWN: VRM: ACTC: ZI: NTN: AMRN: AMPY: PCG: DOW: INFI: YCBD: RCON: HGSH: MNOV: BSV: GLMD: CHGG: IDXX: VO: HX: BLOK: VSTM: MAXR: MTP: SLS - thread num: 2  -  33 / 103\n"
     ]
    },
    {
     "name": "stderr",
     "output_type": "stream",
     "text": [
      "\n",
      "\n",
      "Thread num: 4:  33%|███████████████████▏                                      | 34/103 [12:46:54<38:03:41, 1985.82s/it]\u001b[A\u001b[A"
     ]
    },
    {
     "name": "stdout",
     "output_type": "stream",
     "text": [
      "completed symbols NH: SNCA: TGA: VBK: ATOM: MKD: TRUL: NLSP: SPLK: SCHO: ALRN: DISCB: TMUS: WIX: SDC: CTEK: PEIX: FAZ: SNGX: AIV: BETZ: ELYS: ORCL: CARV: CAT: AA: CFMS: AQB: MITT: MELI: HMY: SCYX: OXLC: RTX - thread num: 4  -  34 / 103\n"
     ]
    },
    {
     "name": "stderr",
     "output_type": "stream",
     "text": [
      "\n",
      "\n",
      "\n",
      "\n",
      "\n",
      "\n",
      "\n",
      "Thread num: 3:  42%|████████████████████████▏                                 | 43/103 [12:47:45<27:32:43, 1652.73s/it]\u001b[A\u001b[A\u001b[A\u001b[A\u001b[A\u001b[A\u001b[A"
     ]
    },
    {
     "name": "stdout",
     "output_type": "stream",
     "text": [
      "completed symbols FLDM: RCKT: BFLY: BBY: VWAGY: ATNF: AVCO: RVP: BBIG: EFOI: FUSE: AGEN: RKDA: GHIV: IAU: PRQR: PT: SPPI: LIZI: PRPL: INSG: ROOT: RSCF: ICON: CYRN: APTX: IPOD: ARPO: ANY: GAN: ALNA: CPHI: CCO: LVS: AIHS: BUZZ: ORI: ISIG: OCX: GSM: MSTR: ADT: LTHM - thread num: 3  -  43 / 103\n",
      "completed symbols EQ: GRIL: UA: LBYYQ: ITUB: EQOS: XERS: FSM: CSIQ: ASAN: QYLD: MGI: PG: MRVL: AESE: OKE: MESO: MRIN: HIBL: SDS: AG: CRIS: CPRX: MIK: ASM: AGQ: ERX: VIG - thread num: 5  -  28 / 103\n"
     ]
    },
    {
     "name": "stderr",
     "output_type": "stream",
     "text": [
      "\n",
      "\n",
      "\n",
      "\n",
      "Thread num: 0:  31%|██████████████████                                        | 32/103 [12:51:46<24:29:00, 1241.42s/it]\u001b[A\u001b[A\u001b[A\u001b[A"
     ]
    },
    {
     "name": "stdout",
     "output_type": "stream",
     "text": [
      "completed symbols ENOB: MUDS: IZEA: ONCY: RNET: OVID: LMT: MRK: BIG: SI: VTGN: SVM: THMO: DPZ: KOPN: TIGR: INTU: HUSA: DFS: VZIO: APOP: MCHI: GOL: TAOP: GILD: ACCD: GDRX: FREQ: POSH: RMO: GLSI: AVCT - thread num: 0  -  32 / 103\n"
     ]
    },
    {
     "name": "stderr",
     "output_type": "stream",
     "text": [
      "\n",
      "\n",
      "\n",
      "\n",
      "\n",
      "\n",
      "Thread num: 1:  40%|███████████████████████                                   | 41/103 [13:07:21<20:52:55, 1212.51s/it]\u001b[A\u001b[A\u001b[A\u001b[A\u001b[A\u001b[A"
     ]
    },
    {
     "name": "stdout",
     "output_type": "stream",
     "text": [
      "completed symbols EGYF: SFIX: NTDOY: SFT: QID: AXP: PSEC: CLPS: KTRA: LC: QD: EKSO: DG: UPRO: THBR: GTHX: ADTX: AUMN: CGIX: BHR: NETE: SPRT: EVRI: CORR: HIBS: CANF: RESN: BOIL: MNMD: SHY: VCNX: NUGT: TCEHY: FTCV: AMTX: FBIO: BVXV: GEENQ: SNES: POTX: AACG - thread num: 1  -  41 / 103\n"
     ]
    },
    {
     "name": "stderr",
     "output_type": "stream",
     "text": [
      "\n",
      "\n",
      "\n",
      "\n",
      "\n",
      "\n",
      "Thread num: 1:  41%|████████████████████████                                   | 42/103 [13:08:26<14:42:30, 868.04s/it]\u001b[A\u001b[A\u001b[A\u001b[A\u001b[A\u001b[A"
     ]
    },
    {
     "name": "stdout",
     "output_type": "stream",
     "text": [
      "completed symbols EGYF: SFIX: NTDOY: SFT: QID: AXP: PSEC: CLPS: KTRA: LC: QD: EKSO: DG: UPRO: THBR: GTHX: ADTX: AUMN: CGIX: BHR: NETE: SPRT: EVRI: CORR: HIBS: CANF: RESN: BOIL: MNMD: SHY: VCNX: NUGT: TCEHY: FTCV: AMTX: FBIO: BVXV: GEENQ: SNES: POTX: AACG: HGEND - thread num: 1  -  42 / 103\n"
     ]
    },
    {
     "name": "stderr",
     "output_type": "stream",
     "text": [
      "\n",
      "\n",
      "\n",
      "\n",
      "\n",
      "\n",
      "\n",
      "Thread num: 3:  43%|████████████████████████▊                                 | 44/103 [13:11:27<25:57:04, 1583.46s/it]\u001b[A\u001b[A\u001b[A\u001b[A\u001b[A\u001b[A\u001b[A"
     ]
    },
    {
     "name": "stdout",
     "output_type": "stream",
     "text": [
      "completed symbols FLDM: RCKT: BFLY: BBY: VWAGY: ATNF: AVCO: RVP: BBIG: EFOI: FUSE: AGEN: RKDA: GHIV: IAU: PRQR: PT: SPPI: LIZI: PRPL: INSG: ROOT: RSCF: ICON: CYRN: APTX: IPOD: ARPO: ANY: GAN: ALNA: CPHI: CCO: LVS: AIHS: BUZZ: ORI: ISIG: OCX: GSM: MSTR: ADT: LTHM: DTSS - thread num: 3  -  44 / 103\n"
     ]
    },
    {
     "name": "stderr",
     "output_type": "stream",
     "text": [
      "\r",
      "Thread num: 0:  32%|██████████████████▌                                       | 33/103 [13:19:04<26:27:16, 1360.52s/it]"
     ]
    },
    {
     "name": "stdout",
     "output_type": "stream",
     "text": [
      "completed symbols ENOB: MUDS: IZEA: ONCY: RNET: OVID: LMT: MRK: BIG: SI: VTGN: SVM: THMO: DPZ: KOPN: TIGR: INTU: HUSA: DFS: VZIO: APOP: MCHI: GOL: TAOP: GILD: ACCD: GDRX: FREQ: POSH: RMO: GLSI: AVCT: ZKIN - thread num: 0  -  33 / 103\n"
     ]
    },
    {
     "name": "stderr",
     "output_type": "stream",
     "text": [
      "\n",
      "\n",
      "Thread num: 4:  34%|███████████████████▋                                      | 35/103 [13:20:27<37:39:55, 1994.05s/it]\u001b[A\u001b[A"
     ]
    },
    {
     "name": "stdout",
     "output_type": "stream",
     "text": [
      "completed symbols NH: SNCA: TGA: VBK: ATOM: MKD: TRUL: NLSP: SPLK: SCHO: ALRN: DISCB: TMUS: WIX: SDC: CTEK: PEIX: FAZ: SNGX: AIV: BETZ: ELYS: ORCL: CARV: CAT: AA: CFMS: AQB: MITT: MELI: HMY: SCYX: OXLC: RTX: PBI - thread num: 4  -  35 / 103\n"
     ]
    },
    {
     "name": "stderr",
     "output_type": "stream",
     "text": [
      "\n",
      "\n",
      "\n",
      "\n",
      "\n",
      "\n",
      "Thread num: 1:  42%|████████████████████████▋                                  | 43/103 [13:26:50<15:38:56, 938.94s/it]\u001b[A\u001b[A\u001b[A\u001b[A\u001b[A\u001b[A"
     ]
    },
    {
     "name": "stdout",
     "output_type": "stream",
     "text": [
      "completed symbols EGYF: SFIX: NTDOY: SFT: QID: AXP: PSEC: CLPS: KTRA: LC: QD: EKSO: DG: UPRO: THBR: GTHX: ADTX: AUMN: CGIX: BHR: NETE: SPRT: EVRI: CORR: HIBS: CANF: RESN: BOIL: MNMD: SHY: VCNX: NUGT: TCEHY: FTCV: AMTX: FBIO: BVXV: GEENQ: SNES: POTX: AACG: HGEND: AIRI - thread num: 1  -  43 / 103\n"
     ]
    },
    {
     "name": "stderr",
     "output_type": "stream",
     "text": [
      "\n",
      "\n",
      "\n",
      "Thread num: 6:  39%|██████████████████████▌                                   | 40/103 [13:30:31<33:36:16, 1920.27s/it]"
     ]
    },
    {
     "name": "stdout",
     "output_type": "stream",
     "text": [
      "completed symbols GPRO: CVAC: IRTC: IRM: RWLK: ACI: MGEN: FMCC: PK: CLX: SCO: TMDI: NBAC: AGNC: ABEO: RAVE: CPPRQ: CHKAQ: CRON: GIGM: WPG: XELB: QTT: VXUS: RMG: VTEB: TGC: NYMT: UGAZF: EXK: CLEU: APPH: ANCN: SM: TH: BHTG: HCDI: PZC: SCHD: GS - thread num: 6  -  40 / 103\n"
     ]
    },
    {
     "name": "stderr",
     "output_type": "stream",
     "text": [
      "\u001b[A\u001b[A\u001b[A\n",
      "\n",
      "\n",
      "\n",
      "Thread num: 5:  28%|████████████████▎                                         | 29/103 [13:32:38<40:20:04, 1962.23s/it]\u001b[A\u001b[A\u001b[A\u001b[A"
     ]
    },
    {
     "name": "stdout",
     "output_type": "stream",
     "text": [
      "completed symbols EQ: GRIL: UA: LBYYQ: ITUB: EQOS: XERS: FSM: CSIQ: ASAN: QYLD: MGI: PG: MRVL: AESE: OKE: MESO: MRIN: HIBL: SDS: AG: CRIS: CPRX: MIK: ASM: AGQ: ERX: VIG: CLDR - thread num: 5  -  29 / 103\n"
     ]
    },
    {
     "name": "stderr",
     "output_type": "stream",
     "text": [
      "\n",
      "Thread num: 2:  33%|███████████████████▏                                      | 34/103 [13:40:40<38:11:36, 1992.70s/it]\u001b[A"
     ]
    },
    {
     "name": "stdout",
     "output_type": "stream",
     "text": [
      "completed symbols AREC: NEXT: STNE: STNG: ENVB: VB: HTGM: PFMT: SWN: VRM: ACTC: ZI: NTN: AMRN: AMPY: PCG: DOW: INFI: YCBD: RCON: HGSH: MNOV: BSV: GLMD: CHGG: IDXX: VO: HX: BLOK: VSTM: MAXR: MTP: SLS: WBA - thread num: 2  -  34 / 103\n"
     ]
    },
    {
     "name": "stderr",
     "output_type": "stream",
     "text": [
      "\n",
      "\n",
      "Thread num: 4:  35%|████████████████████▎                                     | 36/103 [13:47:56<35:11:07, 1890.56s/it]\u001b[A\u001b[A"
     ]
    },
    {
     "name": "stdout",
     "output_type": "stream",
     "text": [
      "completed symbols NH: SNCA: TGA: VBK: ATOM: MKD: TRUL: NLSP: SPLK: SCHO: ALRN: DISCB: TMUS: WIX: SDC: CTEK: PEIX: FAZ: SNGX: AIV: BETZ: ELYS: ORCL: CARV: CAT: AA: CFMS: AQB: MITT: MELI: HMY: SCYX: OXLC: RTX: PBI: WAFU - thread num: 4  -  36 / 103\n"
     ]
    },
    {
     "name": "stderr",
     "output_type": "stream",
     "text": [
      "\n",
      "\n",
      "\n",
      "\n",
      "\n",
      "\n",
      "Thread num: 1:  43%|████████████████████████▊                                 | 44/103 [13:49:58<17:35:56, 1073.84s/it]\u001b[A\u001b[A\u001b[A\u001b[A\u001b[A\u001b[A"
     ]
    },
    {
     "name": "stdout",
     "output_type": "stream",
     "text": [
      "completed symbols EGYF: SFIX: NTDOY: SFT: QID: AXP: PSEC: CLPS: KTRA: LC: QD: EKSO: DG: UPRO: THBR: GTHX: ADTX: AUMN: CGIX: BHR: NETE: SPRT: EVRI: CORR: HIBS: CANF: RESN: BOIL: MNMD: SHY: VCNX: NUGT: TCEHY: FTCV: AMTX: FBIO: BVXV: GEENQ: SNES: POTX: AACG: HGEND: AIRI: IEZ - thread num: 1  -  44 / 103\n"
     ]
    },
    {
     "name": "stderr",
     "output_type": "stream",
     "text": [
      "\r",
      "Thread num: 0:  33%|███████████████████▏                                      | 34/103 [13:55:48<30:55:31, 1613.50s/it]"
     ]
    },
    {
     "name": "stdout",
     "output_type": "stream",
     "text": [
      "completed symbols ENOB: MUDS: IZEA: ONCY: RNET: OVID: LMT: MRK: BIG: SI: VTGN: SVM: THMO: DPZ: KOPN: TIGR: INTU: HUSA: DFS: VZIO: APOP: MCHI: GOL: TAOP: GILD: ACCD: GDRX: FREQ: POSH: RMO: GLSI: AVCT: ZKIN: ABEV - thread num: 0  -  34 / 103\n"
     ]
    },
    {
     "name": "stderr",
     "output_type": "stream",
     "text": [
      "\n",
      "\n",
      "\n",
      "\n",
      "\n",
      "\n",
      "\n",
      "Thread num: 3:  44%|█████████████████████████▎                                | 45/103 [13:56:57<31:03:13, 1927.47s/it]\u001b[A\u001b[A\u001b[A\u001b[A\u001b[A\u001b[A\u001b[A"
     ]
    },
    {
     "name": "stdout",
     "output_type": "stream",
     "text": [
      "completed symbols FLDM: RCKT: BFLY: BBY: VWAGY: ATNF: AVCO: RVP: BBIG: EFOI: FUSE: AGEN: RKDA: GHIV: IAU: PRQR: PT: SPPI: LIZI: PRPL: INSG: ROOT: RSCF: ICON: CYRN: APTX: IPOD: ARPO: ANY: GAN: ALNA: CPHI: CCO: LVS: AIHS: BUZZ: ORI: ISIG: OCX: GSM: MSTR: ADT: LTHM: DTSS: FISV - thread num: 3  -  45 / 103\n"
     ]
    },
    {
     "name": "stderr",
     "output_type": "stream",
     "text": [
      "\n",
      "\n",
      "\n",
      "\n",
      "Thread num: 5:  29%|████████████████▉                                         | 30/103 [13:57:31<36:55:45, 1821.17s/it]\u001b[A\u001b[A\u001b[A\u001b[A"
     ]
    },
    {
     "name": "stdout",
     "output_type": "stream",
     "text": [
      "completed symbols EQ: GRIL: UA: LBYYQ: ITUB: EQOS: XERS: FSM: CSIQ: ASAN: QYLD: MGI: PG: MRVL: AESE: OKE: MESO: MRIN: HIBL: SDS: AG: CRIS: CPRX: MIK: ASM: AGQ: ERX: VIG: CLDR: QCLN - thread num: 5  -  30 / 103\n"
     ]
    },
    {
     "name": "stderr",
     "output_type": "stream",
     "text": [
      "\n",
      "\n",
      "\n",
      "Thread num: 6:  40%|███████████████████████                                   | 41/103 [13:58:50<31:55:46, 1853.97s/it]\u001b[A\u001b[A\u001b[A"
     ]
    },
    {
     "name": "stdout",
     "output_type": "stream",
     "text": [
      "completed symbols GPRO: CVAC: IRTC: IRM: RWLK: ACI: MGEN: FMCC: PK: CLX: SCO: TMDI: NBAC: AGNC: ABEO: RAVE: CPPRQ: CHKAQ: CRON: GIGM: WPG: XELB: QTT: VXUS: RMG: VTEB: TGC: NYMT: UGAZF: EXK: CLEU: APPH: ANCN: SM: TH: BHTG: HCDI: PZC: SCHD: GS: NIU - thread num: 6  -  41 / 103\n"
     ]
    },
    {
     "name": "stderr",
     "output_type": "stream",
     "text": [
      "\n",
      "Thread num: 2:  34%|███████████████████▋                                      | 35/103 [14:06:18<35:03:52, 1856.36s/it]\u001b[A"
     ]
    },
    {
     "name": "stdout",
     "output_type": "stream",
     "text": [
      "completed symbols AREC: NEXT: STNE: STNG: ENVB: VB: HTGM: PFMT: SWN: VRM: ACTC: ZI: NTN: AMRN: AMPY: PCG: DOW: INFI: YCBD: RCON: HGSH: MNOV: BSV: GLMD: CHGG: IDXX: VO: HX: BLOK: VSTM: MAXR: MTP: SLS: WBA: FINV - thread num: 2  -  35 / 103\n"
     ]
    },
    {
     "name": "stderr",
     "output_type": "stream",
     "text": [
      "\n",
      "\n",
      "Thread num: 4:  36%|████████████████████▊                                     | 37/103 [14:11:39<32:05:19, 1750.30s/it]\u001b[A\u001b[A"
     ]
    },
    {
     "name": "stdout",
     "output_type": "stream",
     "text": [
      "completed symbols NH: SNCA: TGA: VBK: ATOM: MKD: TRUL: NLSP: SPLK: SCHO: ALRN: DISCB: TMUS: WIX: SDC: CTEK: PEIX: FAZ: SNGX: AIV: BETZ: ELYS: ORCL: CARV: CAT: AA: CFMS: AQB: MITT: MELI: HMY: SCYX: OXLC: RTX: PBI: WAFU: CTIC - thread num: 4  -  37 / 103\n"
     ]
    },
    {
     "name": "stderr",
     "output_type": "stream",
     "text": [
      "\n",
      "\n",
      "\n",
      "\n",
      "\n",
      "\n",
      "Thread num: 1:  44%|█████████████████████████▎                                | 45/103 [14:16:34<19:49:17, 1230.30s/it]\u001b[A\u001b[A\u001b[A\u001b[A\u001b[A\u001b[A"
     ]
    },
    {
     "name": "stdout",
     "output_type": "stream",
     "text": [
      "completed symbols EGYF: SFIX: NTDOY: SFT: QID: AXP: PSEC: CLPS: KTRA: LC: QD: EKSO: DG: UPRO: THBR: GTHX: ADTX: AUMN: CGIX: BHR: NETE: SPRT: EVRI: CORR: HIBS: CANF: RESN: BOIL: MNMD: SHY: VCNX: NUGT: TCEHY: FTCV: AMTX: FBIO: BVXV: GEENQ: SNES: POTX: AACG: HGEND: AIRI: IEZ: ACY - thread num: 1  -  45 / 103\n"
     ]
    },
    {
     "name": "stderr",
     "output_type": "stream",
     "text": [
      "\n",
      "\n",
      "\n",
      "\n",
      "Thread num: 5:  30%|█████████████████▍                                        | 31/103 [14:22:30<34:29:27, 1724.55s/it]\u001b[A\u001b[A\u001b[A\u001b[A"
     ]
    },
    {
     "name": "stdout",
     "output_type": "stream",
     "text": [
      "completed symbols EQ: GRIL: UA: LBYYQ: ITUB: EQOS: XERS: FSM: CSIQ: ASAN: QYLD: MGI: PG: MRVL: AESE: OKE: MESO: MRIN: HIBL: SDS: AG: CRIS: CPRX: MIK: ASM: AGQ: ERX: VIG: CLDR: QCLN: IMV - thread num: 5  -  31 / 103\n"
     ]
    },
    {
     "name": "stderr",
     "output_type": "stream",
     "text": [
      "\r",
      "Thread num: 0:  34%|███████████████████▋                                      | 35/103 [14:22:40<30:27:56, 1612.89s/it]"
     ]
    },
    {
     "name": "stdout",
     "output_type": "stream",
     "text": [
      "completed symbols ENOB: MUDS: IZEA: ONCY: RNET: OVID: LMT: MRK: BIG: SI: VTGN: SVM: THMO: DPZ: KOPN: TIGR: INTU: HUSA: DFS: VZIO: APOP: MCHI: GOL: TAOP: GILD: ACCD: GDRX: FREQ: POSH: RMO: GLSI: AVCT: ZKIN: ABEV: ARLO - thread num: 0  -  35 / 103\n"
     ]
    },
    {
     "name": "stderr",
     "output_type": "stream",
     "text": [
      "\n",
      "Thread num: 2:  35%|████████████████████▎                                     | 36/103 [14:30:02<32:08:01, 1726.59s/it]\u001b[A"
     ]
    },
    {
     "name": "stdout",
     "output_type": "stream",
     "text": [
      "completed symbols AREC: NEXT: STNE: STNG: ENVB: VB: HTGM: PFMT: SWN: VRM: ACTC: ZI: NTN: AMRN: AMPY: PCG: DOW: INFI: YCBD: RCON: HGSH: MNOV: BSV: GLMD: CHGG: IDXX: VO: HX: BLOK: VSTM: MAXR: MTP: SLS: WBA: FINV: EVC - thread num: 2  -  36 / 103\n"
     ]
    },
    {
     "name": "stderr",
     "output_type": "stream",
     "text": [
      "\n",
      "\n",
      "\n",
      "Thread num: 6:  41%|███████████████████████▋                                  | 42/103 [14:37:15<33:42:16, 1989.13s/it]\u001b[A\u001b[A\u001b[A"
     ]
    },
    {
     "name": "stdout",
     "output_type": "stream",
     "text": [
      "completed symbols GPRO: CVAC: IRTC: IRM: RWLK: ACI: MGEN: FMCC: PK: CLX: SCO: TMDI: NBAC: AGNC: ABEO: RAVE: CPPRQ: CHKAQ: CRON: GIGM: WPG: XELB: QTT: VXUS: RMG: VTEB: TGC: NYMT: UGAZF: EXK: CLEU: APPH: ANCN: SM: TH: BHTG: HCDI: PZC: SCHD: GS: NIU: PSX - thread num: 6  -  42 / 103\n"
     ]
    },
    {
     "name": "stderr",
     "output_type": "stream",
     "text": [
      "\n",
      "\n",
      "\n",
      "\n",
      "Thread num: 5:  31%|██████████████████                                        | 32/103 [14:37:56<29:17:17, 1485.04s/it]\u001b[A\u001b[A\u001b[A\u001b[A"
     ]
    },
    {
     "name": "stdout",
     "output_type": "stream",
     "text": [
      "completed symbols EQ: GRIL: UA: LBYYQ: ITUB: EQOS: XERS: FSM: CSIQ: ASAN: QYLD: MGI: PG: MRVL: AESE: OKE: MESO: MRIN: HIBL: SDS: AG: CRIS: CPRX: MIK: ASM: AGQ: ERX: VIG: CLDR: QCLN: IMV: GNOG - thread num: 5  -  32 / 103\n"
     ]
    },
    {
     "name": "stderr",
     "output_type": "stream",
     "text": [
      "\n",
      "\n",
      "\n",
      "\n",
      "\n",
      "\n",
      "\n",
      "Thread num: 3:  45%|█████████████████████████▉                                | 46/103 [14:38:43<33:15:55, 2100.97s/it]\u001b[A\u001b[A\u001b[A\u001b[A\u001b[A\u001b[A\u001b[A"
     ]
    },
    {
     "name": "stdout",
     "output_type": "stream",
     "text": [
      "completed symbols FLDM: RCKT: BFLY: BBY: VWAGY: ATNF: AVCO: RVP: BBIG: EFOI: FUSE: AGEN: RKDA: GHIV: IAU: PRQR: PT: SPPI: LIZI: PRPL: INSG: ROOT: RSCF: ICON: CYRN: APTX: IPOD: ARPO: ANY: GAN: ALNA: CPHI: CCO: LVS: AIHS: BUZZ: ORI: ISIG: OCX: GSM: MSTR: ADT: LTHM: DTSS: FISV: COTY - thread num: 3  -  46 / 103\n"
     ]
    },
    {
     "name": "stderr",
     "output_type": "stream",
     "text": [
      "\n",
      "\n",
      "Thread num: 4:  37%|█████████████████████▍                                    | 38/103 [14:47:40<33:49:36, 1873.48s/it]\u001b[A\u001b[A"
     ]
    },
    {
     "name": "stdout",
     "output_type": "stream",
     "text": [
      "completed symbols NH: SNCA: TGA: VBK: ATOM: MKD: TRUL: NLSP: SPLK: SCHO: ALRN: DISCB: TMUS: WIX: SDC: CTEK: PEIX: FAZ: SNGX: AIV: BETZ: ELYS: ORCL: CARV: CAT: AA: CFMS: AQB: MITT: MELI: HMY: SCYX: OXLC: RTX: PBI: WAFU: CTIC: RAD - thread num: 4  -  38 / 103\n"
     ]
    },
    {
     "name": "stderr",
     "output_type": "stream",
     "text": [
      "\n",
      "\n",
      "\n",
      "\n",
      "\n",
      "\n",
      "Thread num: 1:  45%|█████████████████████████▉                                | 46/103 [14:50:45<23:22:38, 1476.47s/it]\u001b[A\u001b[A\u001b[A\u001b[A\u001b[A\u001b[A"
     ]
    },
    {
     "name": "stdout",
     "output_type": "stream",
     "text": [
      "completed symbols EGYF: SFIX: NTDOY: SFT: QID: AXP: PSEC: CLPS: KTRA: LC: QD: EKSO: DG: UPRO: THBR: GTHX: ADTX: AUMN: CGIX: BHR: NETE: SPRT: EVRI: CORR: HIBS: CANF: RESN: BOIL: MNMD: SHY: VCNX: NUGT: TCEHY: FTCV: AMTX: FBIO: BVXV: GEENQ: SNES: POTX: AACG: HGEND: AIRI: IEZ: ACY: QLD - thread num: 1  -  46 / 103\n"
     ]
    },
    {
     "name": "stderr",
     "output_type": "stream",
     "text": [
      "\r",
      "Thread num: 0:  35%|████████████████████▎                                     | 36/103 [14:52:36<31:02:30, 1667.92s/it]"
     ]
    },
    {
     "name": "stdout",
     "output_type": "stream",
     "text": [
      "completed symbols ENOB: MUDS: IZEA: ONCY: RNET: OVID: LMT: MRK: BIG: SI: VTGN: SVM: THMO: DPZ: KOPN: TIGR: INTU: HUSA: DFS: VZIO: APOP: MCHI: GOL: TAOP: GILD: ACCD: GDRX: FREQ: POSH: RMO: GLSI: AVCT: ZKIN: ABEV: ARLO: MDGS - thread num: 0  -  36 / 103\n"
     ]
    },
    {
     "name": "stderr",
     "output_type": "stream",
     "text": [
      "\n",
      "Thread num: 2:  36%|████████████████████▊                                     | 37/103 [14:59:31<31:53:03, 1739.14s/it]\u001b[A"
     ]
    },
    {
     "name": "stdout",
     "output_type": "stream",
     "text": [
      "completed symbols AREC: NEXT: STNE: STNG: ENVB: VB: HTGM: PFMT: SWN: VRM: ACTC: ZI: NTN: AMRN: AMPY: PCG: DOW: INFI: YCBD: RCON: HGSH: MNOV: BSV: GLMD: CHGG: IDXX: VO: HX: BLOK: VSTM: MAXR: MTP: SLS: WBA: FINV: EVC: LIT - thread num: 2  -  37 / 103\n"
     ]
    },
    {
     "name": "stderr",
     "output_type": "stream",
     "text": [
      "\r",
      "Thread num: 0:  36%|████████████████████▊                                     | 37/103 [15:08:00<26:29:21, 1444.86s/it]"
     ]
    },
    {
     "name": "stdout",
     "output_type": "stream",
     "text": [
      "completed symbols ENOB: MUDS: IZEA: ONCY: RNET: OVID: LMT: MRK: BIG: SI: VTGN: SVM: THMO: DPZ: KOPN: TIGR: INTU: HUSA: DFS: VZIO: APOP: MCHI: GOL: TAOP: GILD: ACCD: GDRX: FREQ: POSH: RMO: GLSI: AVCT: ZKIN: ABEV: ARLO: MDGS: YGMZ - thread num: 0  -  37 / 103\n"
     ]
    },
    {
     "name": "stderr",
     "output_type": "stream",
     "text": [
      "\n",
      "\n",
      "\n",
      "\n",
      "Thread num: 5:  32%|██████████████████▌                                       | 33/103 [15:11:36<32:00:00, 1645.72s/it]\u001b[A\u001b[A\u001b[A\u001b[A"
     ]
    },
    {
     "name": "stdout",
     "output_type": "stream",
     "text": [
      "completed symbols EQ: GRIL: UA: LBYYQ: ITUB: EQOS: XERS: FSM: CSIQ: ASAN: QYLD: MGI: PG: MRVL: AESE: OKE: MESO: MRIN: HIBL: SDS: AG: CRIS: CPRX: MIK: ASM: AGQ: ERX: VIG: CLDR: QCLN: IMV: GNOG: ASML - thread num: 5  -  33 / 103\n"
     ]
    },
    {
     "name": "stderr",
     "output_type": "stream",
     "text": [
      "\n",
      "\n",
      "Thread num: 4:  38%|█████████████████████▉                                    | 39/103 [15:12:46<31:20:57, 1763.40s/it]\u001b[A\u001b[A"
     ]
    },
    {
     "name": "stdout",
     "output_type": "stream",
     "text": [
      "completed symbols NH: SNCA: TGA: VBK: ATOM: MKD: TRUL: NLSP: SPLK: SCHO: ALRN: DISCB: TMUS: WIX: SDC: CTEK: PEIX: FAZ: SNGX: AIV: BETZ: ELYS: ORCL: CARV: CAT: AA: CFMS: AQB: MITT: MELI: HMY: SCYX: OXLC: RTX: PBI: WAFU: CTIC: RAD: NXE - thread num: 4  -  39 / 103\n"
     ]
    },
    {
     "name": "stderr",
     "output_type": "stream",
     "text": [
      "\n",
      "\n",
      "\n",
      "Thread num: 6:  42%|████████████████████████▏                                 | 43/103 [15:14:11<34:17:12, 2057.22s/it]\u001b[A\u001b[A\u001b[A"
     ]
    },
    {
     "name": "stdout",
     "output_type": "stream",
     "text": [
      "completed symbols GPRO: CVAC: IRTC: IRM: RWLK: ACI: MGEN: FMCC: PK: CLX: SCO: TMDI: NBAC: AGNC: ABEO: RAVE: CPPRQ: CHKAQ: CRON: GIGM: WPG: XELB: QTT: VXUS: RMG: VTEB: TGC: NYMT: UGAZF: EXK: CLEU: APPH: ANCN: SM: TH: BHTG: HCDI: PZC: SCHD: GS: NIU: PSX: AUY - thread num: 6  -  43 / 103\n"
     ]
    },
    {
     "name": "stderr",
     "output_type": "stream",
     "text": [
      "\n",
      "\n",
      "\n",
      "Thread num: 6:  43%|████████████████████████▊                                 | 44/103 [15:15:13<23:54:19, 1458.63s/it]\u001b[A\u001b[A\u001b[A"
     ]
    },
    {
     "name": "stdout",
     "output_type": "stream",
     "text": [
      "completed symbols GPRO: CVAC: IRTC: IRM: RWLK: ACI: MGEN: FMCC: PK: CLX: SCO: TMDI: NBAC: AGNC: ABEO: RAVE: CPPRQ: CHKAQ: CRON: GIGM: WPG: XELB: QTT: VXUS: RMG: VTEB: TGC: NYMT: UGAZF: EXK: CLEU: APPH: ANCN: SM: TH: BHTG: HCDI: PZC: SCHD: GS: NIU: PSX: AUY: ZNOG - thread num: 6  -  44 / 103\n"
     ]
    },
    {
     "name": "stderr",
     "output_type": "stream",
     "text": [
      "\n",
      "\n",
      "\n",
      "\n",
      "\n",
      "\n",
      "Thread num: 1:  46%|██████████████████████████▍                               | 47/103 [15:17:41<23:37:14, 1518.48s/it]\u001b[A\u001b[A\u001b[A\u001b[A\u001b[A\u001b[A"
     ]
    },
    {
     "name": "stdout",
     "output_type": "stream",
     "text": [
      "completed symbols EGYF: SFIX: NTDOY: SFT: QID: AXP: PSEC: CLPS: KTRA: LC: QD: EKSO: DG: UPRO: THBR: GTHX: ADTX: AUMN: CGIX: BHR: NETE: SPRT: EVRI: CORR: HIBS: CANF: RESN: BOIL: MNMD: SHY: VCNX: NUGT: TCEHY: FTCV: AMTX: FBIO: BVXV: GEENQ: SNES: POTX: AACG: HGEND: AIRI: IEZ: ACY: QLD: TENX - thread num: 1  -  47 / 103\n"
     ]
    },
    {
     "name": "stderr",
     "output_type": "stream",
     "text": [
      "\n",
      "Thread num: 2:  37%|█████████████████████▍                                    | 38/103 [15:25:14<30:20:35, 1680.55s/it]\u001b[A"
     ]
    },
    {
     "name": "stdout",
     "output_type": "stream",
     "text": [
      "completed symbols AREC: NEXT: STNE: STNG: ENVB: VB: HTGM: PFMT: SWN: VRM: ACTC: ZI: NTN: AMRN: AMPY: PCG: DOW: INFI: YCBD: RCON: HGSH: MNOV: BSV: GLMD: CHGG: IDXX: VO: HX: BLOK: VSTM: MAXR: MTP: SLS: WBA: FINV: EVC: LIT: BEP - thread num: 2  -  38 / 103\n"
     ]
    },
    {
     "name": "stderr",
     "output_type": "stream",
     "text": [
      "\r",
      "Thread num: 0:  37%|█████████████████████▍                                    | 38/103 [15:33:02<26:23:36, 1461.79s/it]"
     ]
    },
    {
     "name": "stdout",
     "output_type": "stream",
     "text": [
      "completed symbols ENOB: MUDS: IZEA: ONCY: RNET: OVID: LMT: MRK: BIG: SI: VTGN: SVM: THMO: DPZ: KOPN: TIGR: INTU: HUSA: DFS: VZIO: APOP: MCHI: GOL: TAOP: GILD: ACCD: GDRX: FREQ: POSH: RMO: GLSI: AVCT: ZKIN: ABEV: ARLO: MDGS: YGMZ: VOOG - thread num: 0  -  38 / 103\n"
     ]
    },
    {
     "name": "stderr",
     "output_type": "stream",
     "text": [
      "\n",
      "\n",
      "\n",
      "\n",
      "\n",
      "\n",
      "\n",
      "Thread num: 3:  46%|██████████████████████████▍                               | 47/103 [15:33:51<38:18:52, 2463.08s/it]\u001b[A\u001b[A\u001b[A\u001b[A\u001b[A\u001b[A\u001b[A"
     ]
    },
    {
     "name": "stdout",
     "output_type": "stream",
     "text": [
      "completed symbols FLDM: RCKT: BFLY: BBY: VWAGY: ATNF: AVCO: RVP: BBIG: EFOI: FUSE: AGEN: RKDA: GHIV: IAU: PRQR: PT: SPPI: LIZI: PRPL: INSG: ROOT: RSCF: ICON: CYRN: APTX: IPOD: ARPO: ANY: GAN: ALNA: CPHI: CCO: LVS: AIHS: BUZZ: ORI: ISIG: OCX: GSM: MSTR: ADT: LTHM: DTSS: FISV: COTY: BMY - thread num: 3  -  47 / 103\n"
     ]
    },
    {
     "name": "stderr",
     "output_type": "stream",
     "text": [
      "\n",
      "\n",
      "Thread num: 4:  39%|██████████████████████▌                                   | 40/103 [15:35:58<28:54:31, 1651.93s/it]\u001b[A\u001b[A"
     ]
    },
    {
     "name": "stdout",
     "output_type": "stream",
     "text": [
      "completed symbols NH: SNCA: TGA: VBK: ATOM: MKD: TRUL: NLSP: SPLK: SCHO: ALRN: DISCB: TMUS: WIX: SDC: CTEK: PEIX: FAZ: SNGX: AIV: BETZ: ELYS: ORCL: CARV: CAT: AA: CFMS: AQB: MITT: MELI: HMY: SCYX: OXLC: RTX: PBI: WAFU: CTIC: RAD: NXE: SRAC - thread num: 4  -  40 / 103\n"
     ]
    },
    {
     "name": "stderr",
     "output_type": "stream",
     "text": [
      "\n",
      "\n",
      "\n",
      "Thread num: 6:  44%|█████████████████████████▎                                | 45/103 [15:41:23<24:02:22, 1492.12s/it]\u001b[A\u001b[A\u001b[A"
     ]
    },
    {
     "name": "stdout",
     "output_type": "stream",
     "text": [
      "completed symbols GPRO: CVAC: IRTC: IRM: RWLK: ACI: MGEN: FMCC: PK: CLX: SCO: TMDI: NBAC: AGNC: ABEO: RAVE: CPPRQ: CHKAQ: CRON: GIGM: WPG: XELB: QTT: VXUS: RMG: VTEB: TGC: NYMT: UGAZF: EXK: CLEU: APPH: ANCN: SM: TH: BHTG: HCDI: PZC: SCHD: GS: NIU: PSX: AUY: ZNOG: BIMI - thread num: 6  -  45 / 103\n"
     ]
    },
    {
     "name": "stderr",
     "output_type": "stream",
     "text": [
      "\n",
      "\n",
      "\n",
      "\n"
     ]
    },
    {
     "name": "stdout",
     "output_type": "stream",
     "text": [
      "completed symbols EQ: GRIL: UA: LBYYQ: ITUB: EQOS: XERS: FSM: CSIQ: ASAN: QYLD: MGI: PG: MRVL: AESE: OKE: MESO: MRIN: HIBL: SDS: AG: CRIS: CPRX: MIK: ASM: AGQ: ERX: VIG: CLDR: QCLN: IMV: GNOG: ASML: REGN - thread num: 5  -  34 / 103\n"
     ]
    },
    {
     "name": "stderr",
     "output_type": "stream",
     "text": [
      "Thread num: 5:  33%|███████████████████▏                                      | 34/103 [15:43:07<32:57:10, 1719.28s/it]\u001b[A\u001b[A\u001b[A\u001b[A\n",
      "\n",
      "\n",
      "\n",
      "\n",
      "\n",
      "Thread num: 1:  47%|███████████████████████████                               | 48/103 [15:45:37<23:55:17, 1565.77s/it]\u001b[A\u001b[A\u001b[A\u001b[A\u001b[A\u001b[A"
     ]
    },
    {
     "name": "stdout",
     "output_type": "stream",
     "text": [
      "completed symbols EGYF: SFIX: NTDOY: SFT: QID: AXP: PSEC: CLPS: KTRA: LC: QD: EKSO: DG: UPRO: THBR: GTHX: ADTX: AUMN: CGIX: BHR: NETE: SPRT: EVRI: CORR: HIBS: CANF: RESN: BOIL: MNMD: SHY: VCNX: NUGT: TCEHY: FTCV: AMTX: FBIO: BVXV: GEENQ: SNES: POTX: AACG: HGEND: AIRI: IEZ: ACY: QLD: TENX: SAN - thread num: 1  -  48 / 103\n"
     ]
    },
    {
     "name": "stderr",
     "output_type": "stream",
     "text": [
      "\n",
      "Thread num: 2:  38%|█████████████████████▉                                    | 39/103 [15:50:10<28:53:17, 1624.96s/it]\u001b[A"
     ]
    },
    {
     "name": "stdout",
     "output_type": "stream",
     "text": [
      "completed symbols AREC: NEXT: STNE: STNG: ENVB: VB: HTGM: PFMT: SWN: VRM: ACTC: ZI: NTN: AMRN: AMPY: PCG: DOW: INFI: YCBD: RCON: HGSH: MNOV: BSV: GLMD: CHGG: IDXX: VO: HX: BLOK: VSTM: MAXR: MTP: SLS: WBA: FINV: EVC: LIT: BEP: BLIN - thread num: 2  -  39 / 103\n"
     ]
    },
    {
     "name": "stderr",
     "output_type": "stream",
     "text": [
      "\r",
      "Thread num: 0:  38%|█████████████████████▉                                    | 39/103 [15:58:17<26:16:19, 1477.80s/it]"
     ]
    },
    {
     "name": "stdout",
     "output_type": "stream",
     "text": [
      "completed symbols ENOB: MUDS: IZEA: ONCY: RNET: OVID: LMT: MRK: BIG: SI: VTGN: SVM: THMO: DPZ: KOPN: TIGR: INTU: HUSA: DFS: VZIO: APOP: MCHI: GOL: TAOP: GILD: ACCD: GDRX: FREQ: POSH: RMO: GLSI: AVCT: ZKIN: ABEV: ARLO: MDGS: YGMZ: VOOG: CKPT - thread num: 0  -  39 / 103\n"
     ]
    },
    {
     "name": "stderr",
     "output_type": "stream",
     "text": [
      "\n",
      "\n",
      "\n",
      "\n",
      "\n",
      "\n",
      "\n",
      "Thread num: 3:  47%|███████████████████████████                               | 48/103 [16:03:52<34:35:44, 2264.44s/it]\u001b[A\u001b[A\u001b[A\u001b[A\u001b[A\u001b[A\u001b[A"
     ]
    },
    {
     "name": "stdout",
     "output_type": "stream",
     "text": [
      "completed symbols FLDM: RCKT: BFLY: BBY: VWAGY: ATNF: AVCO: RVP: BBIG: EFOI: FUSE: AGEN: RKDA: GHIV: IAU: PRQR: PT: SPPI: LIZI: PRPL: INSG: ROOT: RSCF: ICON: CYRN: APTX: IPOD: ARPO: ANY: GAN: ALNA: CPHI: CCO: LVS: AIHS: BUZZ: ORI: ISIG: OCX: GSM: MSTR: ADT: LTHM: DTSS: FISV: COTY: BMY: ACAD - thread num: 3  -  48 / 103\n"
     ]
    },
    {
     "name": "stderr",
     "output_type": "stream",
     "text": [
      "\n",
      "\n",
      "\n",
      "Thread num: 6:  45%|█████████████████████████▉                                | 46/103 [16:07:23<23:56:52, 1512.50s/it]\u001b[A\u001b[A\u001b[A"
     ]
    },
    {
     "name": "stdout",
     "output_type": "stream",
     "text": [
      "completed symbols GPRO: CVAC: IRTC: IRM: RWLK: ACI: MGEN: FMCC: PK: CLX: SCO: TMDI: NBAC: AGNC: ABEO: RAVE: CPPRQ: CHKAQ: CRON: GIGM: WPG: XELB: QTT: VXUS: RMG: VTEB: TGC: NYMT: UGAZF: EXK: CLEU: APPH: ANCN: SM: TH: BHTG: HCDI: PZC: SCHD: GS: NIU: PSX: AUY: ZNOG: BIMI: GAU - thread num: 6  -  46 / 103\n"
     ]
    },
    {
     "name": "stderr",
     "output_type": "stream",
     "text": [
      "\n",
      "\n",
      "\n",
      "\n",
      "Thread num: 5:  34%|███████████████████▋                                      | 35/103 [16:13:29<33:03:23, 1750.05s/it]\u001b[A\u001b[A\u001b[A\u001b[A"
     ]
    },
    {
     "name": "stdout",
     "output_type": "stream",
     "text": [
      "completed symbols EQ: GRIL: UA: LBYYQ: ITUB: EQOS: XERS: FSM: CSIQ: ASAN: QYLD: MGI: PG: MRVL: AESE: OKE: MESO: MRIN: HIBL: SDS: AG: CRIS: CPRX: MIK: ASM: AGQ: ERX: VIG: CLDR: QCLN: IMV: GNOG: ASML: REGN: CATB - thread num: 5  -  35 / 103\n",
      "completed symbols AREC: NEXT: STNE: STNG: ENVB: VB: HTGM: PFMT: SWN: VRM: ACTC: ZI: NTN: AMRN: AMPY: PCG: DOW: INFI: YCBD: RCON: HGSH: MNOV: BSV: GLMD: CHGG: IDXX: VO: HX: BLOK: VSTM: MAXR: MTP: SLS: WBA: FINV: EVC: LIT: BEP: BLIN: CAPR - thread num: 2  -  40 / 103\n"
     ]
    },
    {
     "name": "stderr",
     "output_type": "stream",
     "text": [
      "\n",
      "Thread num: 2:  39%|██████████████████████▌                                   | 40/103 [16:17:24<28:29:07, 1627.74s/it]\u001b[A\n",
      "\n",
      "\n",
      "\n",
      "Thread num: 5:  35%|████████████████████▎                                     | 36/103 [16:20:28<25:08:12, 1350.63s/it]\u001b[A\u001b[A\u001b[A\u001b[A"
     ]
    },
    {
     "name": "stdout",
     "output_type": "stream",
     "text": [
      "completed symbols EQ: GRIL: UA: LBYYQ: ITUB: EQOS: XERS: FSM: CSIQ: ASAN: QYLD: MGI: PG: MRVL: AESE: OKE: MESO: MRIN: HIBL: SDS: AG: CRIS: CPRX: MIK: ASM: AGQ: ERX: VIG: CLDR: QCLN: IMV: GNOG: ASML: REGN: CATB: ARKX - thread num: 5  -  36 / 103\n"
     ]
    },
    {
     "name": "stderr",
     "output_type": "stream",
     "text": [
      "\r",
      "Thread num: 0:  39%|██████████████████████▌                                   | 40/103 [16:25:51<26:47:13, 1530.69s/it]"
     ]
    },
    {
     "name": "stdout",
     "output_type": "stream",
     "text": [
      "completed symbols ENOB: MUDS: IZEA: ONCY: RNET: OVID: LMT: MRK: BIG: SI: VTGN: SVM: THMO: DPZ: KOPN: TIGR: INTU: HUSA: DFS: VZIO: APOP: MCHI: GOL: TAOP: GILD: ACCD: GDRX: FREQ: POSH: RMO: GLSI: AVCT: ZKIN: ABEV: ARLO: MDGS: YGMZ: VOOG: CKPT: DRIV - thread num: 0  -  40 / 103\n"
     ]
    },
    {
     "name": "stderr",
     "output_type": "stream",
     "text": [
      "\n",
      "\n",
      "\n",
      "\n",
      "\n",
      "\n",
      "Thread num: 1:  48%|███████████████████████████▌                              | 49/103 [16:26:48<27:33:25, 1837.14s/it]\u001b[A\u001b[A\u001b[A\u001b[A\u001b[A\u001b[A"
     ]
    },
    {
     "name": "stdout",
     "output_type": "stream",
     "text": [
      "completed symbols EGYF: SFIX: NTDOY: SFT: QID: AXP: PSEC: CLPS: KTRA: LC: QD: EKSO: DG: UPRO: THBR: GTHX: ADTX: AUMN: CGIX: BHR: NETE: SPRT: EVRI: CORR: HIBS: CANF: RESN: BOIL: MNMD: SHY: VCNX: NUGT: TCEHY: FTCV: AMTX: FBIO: BVXV: GEENQ: SNES: POTX: AACG: HGEND: AIRI: IEZ: ACY: QLD: TENX: SAN: EPD - thread num: 1  -  49 / 103\n"
     ]
    },
    {
     "name": "stderr",
     "output_type": "stream",
     "text": [
      "\n",
      "\n",
      "Thread num: 4:  40%|███████████████████████                                   | 41/103 [16:28:39<36:14:36, 2104.46s/it]\u001b[A\u001b[A"
     ]
    },
    {
     "name": "stdout",
     "output_type": "stream",
     "text": [
      "completed symbols NH: SNCA: TGA: VBK: ATOM: MKD: TRUL: NLSP: SPLK: SCHO: ALRN: DISCB: TMUS: WIX: SDC: CTEK: PEIX: FAZ: SNGX: AIV: BETZ: ELYS: ORCL: CARV: CAT: AA: CFMS: AQB: MITT: MELI: HMY: SCYX: OXLC: RTX: PBI: WAFU: CTIC: RAD: NXE: SRAC: AMAT - thread num: 4  -  41 / 103\n",
      "completed symbols FLDM: RCKT: BFLY: BBY: VWAGY: ATNF: AVCO: RVP: BBIG: EFOI: FUSE: AGEN: RKDA: GHIV: IAU: PRQR: PT: SPPI: LIZI: PRPL: INSG: ROOT: RSCF: ICON: CYRN: APTX: IPOD: ARPO: ANY: GAN: ALNA: CPHI: CCO: LVS: AIHS: BUZZ: ORI: ISIG: OCX: GSM: MSTR: ADT: LTHM: DTSS: FISV: COTY: BMY: ACAD: MOGU - thread num: 3  -  49 / 103\n"
     ]
    },
    {
     "name": "stderr",
     "output_type": "stream",
     "text": [
      "\n",
      "\n",
      "\n",
      "\n",
      "\n",
      "\n",
      "\n",
      "Thread num: 3:  48%|███████████████████████████▌                              | 49/103 [16:30:54<31:04:38, 2071.83s/it]\u001b[A\u001b[A\u001b[A\u001b[A\u001b[A\u001b[A\u001b[A\n",
      "\n",
      "\n",
      "Thread num: 6:  46%|██████████████████████████▍                               | 47/103 [16:36:06<24:30:39, 1575.70s/it]\u001b[A\u001b[A\u001b[A"
     ]
    },
    {
     "name": "stdout",
     "output_type": "stream",
     "text": [
      "completed symbols GPRO: CVAC: IRTC: IRM: RWLK: ACI: MGEN: FMCC: PK: CLX: SCO: TMDI: NBAC: AGNC: ABEO: RAVE: CPPRQ: CHKAQ: CRON: GIGM: WPG: XELB: QTT: VXUS: RMG: VTEB: TGC: NYMT: UGAZF: EXK: CLEU: APPH: ANCN: SM: TH: BHTG: HCDI: PZC: SCHD: GS: NIU: PSX: AUY: ZNOG: BIMI: GAU: VERI - thread num: 6  -  47 / 103\n"
     ]
    },
    {
     "name": "stderr",
     "output_type": "stream",
     "text": [
      "\n",
      "Thread num: 2:  40%|███████████████████████                                   | 41/103 [16:43:48<27:48:25, 1614.60s/it]\u001b[A"
     ]
    },
    {
     "name": "stdout",
     "output_type": "stream",
     "text": [
      "completed symbols AREC: NEXT: STNE: STNG: ENVB: VB: HTGM: PFMT: SWN: VRM: ACTC: ZI: NTN: AMRN: AMPY: PCG: DOW: INFI: YCBD: RCON: HGSH: MNOV: BSV: GLMD: CHGG: IDXX: VO: HX: BLOK: VSTM: MAXR: MTP: SLS: WBA: FINV: EVC: LIT: BEP: BLIN: CAPR: PRNT - thread num: 2  -  41 / 103\n"
     ]
    },
    {
     "name": "stderr",
     "output_type": "stream",
     "text": [
      "\n",
      "\n",
      "\n",
      "\n",
      "\n",
      "\n",
      "\n",
      "Thread num: 3:  49%|████████████████████████████▏                             | 50/103 [16:50:07<26:26:31, 1796.06s/it]\u001b[A\u001b[A\u001b[A\u001b[A\u001b[A\u001b[A\u001b[A"
     ]
    },
    {
     "name": "stdout",
     "output_type": "stream",
     "text": [
      "completed symbols FLDM: RCKT: BFLY: BBY: VWAGY: ATNF: AVCO: RVP: BBIG: EFOI: FUSE: AGEN: RKDA: GHIV: IAU: PRQR: PT: SPPI: LIZI: PRPL: INSG: ROOT: RSCF: ICON: CYRN: APTX: IPOD: ARPO: ANY: GAN: ALNA: CPHI: CCO: LVS: AIHS: BUZZ: ORI: ISIG: OCX: GSM: MSTR: ADT: LTHM: DTSS: FISV: COTY: BMY: ACAD: MOGU: STPK - thread num: 3  -  50 / 103\n"
     ]
    },
    {
     "name": "stderr",
     "output_type": "stream",
     "text": [
      "\n",
      "\n",
      "\n",
      "\n",
      "Thread num: 5:  36%|████████████████████▊                                     | 37/103 [16:50:57<27:23:33, 1494.15s/it]"
     ]
    },
    {
     "name": "stdout",
     "output_type": "stream",
     "text": [
      "completed symbols EQ: GRIL: UA: LBYYQ: ITUB: EQOS: XERS: FSM: CSIQ: ASAN: QYLD: MGI: PG: MRVL: AESE: OKE: MESO: MRIN: HIBL: SDS: AG: CRIS: CPRX: MIK: ASM: AGQ: ERX: VIG: CLDR: QCLN: IMV: GNOG: ASML: REGN: CATB: ARKX: CHX - thread num: 5  -  37 / 103\n"
     ]
    },
    {
     "name": "stderr",
     "output_type": "stream",
     "text": [
      "\u001b[A\u001b[A\u001b[A\u001b[A\n",
      "\n",
      "\n",
      "\n",
      "\n",
      "\n",
      "\n",
      "Thread num: 3:  50%|████████████████████████████▋                             | 51/103 [16:51:09<18:25:46, 1275.89s/it]\u001b[A\u001b[A\u001b[A\u001b[A\u001b[A\u001b[A\u001b[A"
     ]
    },
    {
     "name": "stdout",
     "output_type": "stream",
     "text": [
      "completed symbols FLDM: RCKT: BFLY: BBY: VWAGY: ATNF: AVCO: RVP: BBIG: EFOI: FUSE: AGEN: RKDA: GHIV: IAU: PRQR: PT: SPPI: LIZI: PRPL: INSG: ROOT: RSCF: ICON: CYRN: APTX: IPOD: ARPO: ANY: GAN: ALNA: CPHI: CCO: LVS: AIHS: BUZZ: ORI: ISIG: OCX: GSM: MSTR: ADT: LTHM: DTSS: FISV: COTY: BMY: ACAD: MOGU: STPK: SING - thread num: 3  -  51 / 103\n"
     ]
    },
    {
     "name": "stderr",
     "output_type": "stream",
     "text": [
      "\n",
      "\n",
      "Thread num: 4:  41%|███████████████████████▋                                  | 42/103 [16:54:35<32:52:24, 1940.08s/it]\u001b[A\u001b[A"
     ]
    },
    {
     "name": "stdout",
     "output_type": "stream",
     "text": [
      "completed symbols NH: SNCA: TGA: VBK: ATOM: MKD: TRUL: NLSP: SPLK: SCHO: ALRN: DISCB: TMUS: WIX: SDC: CTEK: PEIX: FAZ: SNGX: AIV: BETZ: ELYS: ORCL: CARV: CAT: AA: CFMS: AQB: MITT: MELI: HMY: SCYX: OXLC: RTX: PBI: WAFU: CTIC: RAD: NXE: SRAC: AMAT: MINT - thread num: 4  -  42 / 103\n"
     ]
    },
    {
     "name": "stderr",
     "output_type": "stream",
     "text": [
      "\n",
      "\n",
      "\n",
      "\n",
      "\n",
      "\n",
      "Thread num: 1:  49%|████████████████████████████▏                             | 50/103 [16:54:49<26:21:31, 1790.40s/it]\u001b[A\u001b[A\u001b[A\u001b[A\u001b[A\u001b[A"
     ]
    },
    {
     "name": "stdout",
     "output_type": "stream",
     "text": [
      "completed symbols EGYF: SFIX: NTDOY: SFT: QID: AXP: PSEC: CLPS: KTRA: LC: QD: EKSO: DG: UPRO: THBR: GTHX: ADTX: AUMN: CGIX: BHR: NETE: SPRT: EVRI: CORR: HIBS: CANF: RESN: BOIL: MNMD: SHY: VCNX: NUGT: TCEHY: FTCV: AMTX: FBIO: BVXV: GEENQ: SNES: POTX: AACG: HGEND: AIRI: IEZ: ACY: QLD: TENX: SAN: EPD: XBIO - thread num: 1  -  50 / 103\n"
     ]
    },
    {
     "name": "stderr",
     "output_type": "stream",
     "text": [
      "\r",
      "Thread num: 0:  40%|███████████████████████                                   | 41/103 [17:03:01<29:58:34, 1740.56s/it]"
     ]
    },
    {
     "name": "stdout",
     "output_type": "stream",
     "text": [
      "completed symbols ENOB: MUDS: IZEA: ONCY: RNET: OVID: LMT: MRK: BIG: SI: VTGN: SVM: THMO: DPZ: KOPN: TIGR: INTU: HUSA: DFS: VZIO: APOP: MCHI: GOL: TAOP: GILD: ACCD: GDRX: FREQ: POSH: RMO: GLSI: AVCT: ZKIN: ABEV: ARLO: MDGS: YGMZ: VOOG: CKPT: DRIV: MAR - thread num: 0  -  41 / 103\n"
     ]
    },
    {
     "name": "stderr",
     "output_type": "stream",
     "text": [
      "\n",
      "Thread num: 2:  41%|███████████████████████▋                                  | 42/103 [17:04:48<25:33:29, 1508.35s/it]\u001b[A"
     ]
    },
    {
     "name": "stdout",
     "output_type": "stream",
     "text": [
      "completed symbols AREC: NEXT: STNE: STNG: ENVB: VB: HTGM: PFMT: SWN: VRM: ACTC: ZI: NTN: AMRN: AMPY: PCG: DOW: INFI: YCBD: RCON: HGSH: MNOV: BSV: GLMD: CHGG: IDXX: VO: HX: BLOK: VSTM: MAXR: MTP: SLS: WBA: FINV: EVC: LIT: BEP: BLIN: CAPR: PRNT: AAXN - thread num: 2  -  42 / 103\n"
     ]
    },
    {
     "name": "stderr",
     "output_type": "stream",
     "text": [
      "\n",
      "Thread num: 2:  42%|████████████████████████▏                                 | 43/103 [17:12:12<19:48:57, 1188.96s/it]\u001b[A"
     ]
    },
    {
     "name": "stdout",
     "output_type": "stream",
     "text": [
      "completed symbols AREC: NEXT: STNE: STNG: ENVB: VB: HTGM: PFMT: SWN: VRM: ACTC: ZI: NTN: AMRN: AMPY: PCG: DOW: INFI: YCBD: RCON: HGSH: MNOV: BSV: GLMD: CHGG: IDXX: VO: HX: BLOK: VSTM: MAXR: MTP: SLS: WBA: FINV: EVC: LIT: BEP: BLIN: CAPR: PRNT: AAXN: PSFE - thread num: 2  -  43 / 103\n"
     ]
    },
    {
     "name": "stderr",
     "output_type": "stream",
     "text": [
      "\n",
      "\n",
      "\n",
      "Thread num: 6:  47%|███████████████████████████                               | 48/103 [17:12:28<26:51:06, 1757.56s/it]\u001b[A\u001b[A\u001b[A"
     ]
    },
    {
     "name": "stdout",
     "output_type": "stream",
     "text": [
      "completed symbols GPRO: CVAC: IRTC: IRM: RWLK: ACI: MGEN: FMCC: PK: CLX: SCO: TMDI: NBAC: AGNC: ABEO: RAVE: CPPRQ: CHKAQ: CRON: GIGM: WPG: XELB: QTT: VXUS: RMG: VTEB: TGC: NYMT: UGAZF: EXK: CLEU: APPH: ANCN: SM: TH: BHTG: HCDI: PZC: SCHD: GS: NIU: PSX: AUY: ZNOG: BIMI: GAU: VERI: ALK - thread num: 6  -  48 / 103\n"
     ]
    },
    {
     "name": "stderr",
     "output_type": "stream",
     "text": [
      "\n",
      "\n",
      "\n",
      "\n",
      "\n",
      "\n",
      "Thread num: 1:  50%|████████████████████████████▋                             | 51/103 [17:14:45<23:17:04, 1612.01s/it]\u001b[A\u001b[A\u001b[A\u001b[A\u001b[A\u001b[A"
     ]
    },
    {
     "name": "stdout",
     "output_type": "stream",
     "text": [
      "completed symbols EGYF: SFIX: NTDOY: SFT: QID: AXP: PSEC: CLPS: KTRA: LC: QD: EKSO: DG: UPRO: THBR: GTHX: ADTX: AUMN: CGIX: BHR: NETE: SPRT: EVRI: CORR: HIBS: CANF: RESN: BOIL: MNMD: SHY: VCNX: NUGT: TCEHY: FTCV: AMTX: FBIO: BVXV: GEENQ: SNES: POTX: AACG: HGEND: AIRI: IEZ: ACY: QLD: TENX: SAN: EPD: XBIO: LGVW - thread num: 1  -  51 / 103\n"
     ]
    },
    {
     "name": "stderr",
     "output_type": "stream",
     "text": [
      "\n",
      "\n",
      "\n",
      "\n",
      "Thread num: 5:  37%|█████████████████████▍                                    | 38/103 [17:15:56<27:00:22, 1495.72s/it]\u001b[A\u001b[A\u001b[A\u001b[A"
     ]
    },
    {
     "name": "stdout",
     "output_type": "stream",
     "text": [
      "completed symbols EQ: GRIL: UA: LBYYQ: ITUB: EQOS: XERS: FSM: CSIQ: ASAN: QYLD: MGI: PG: MRVL: AESE: OKE: MESO: MRIN: HIBL: SDS: AG: CRIS: CPRX: MIK: ASM: AGQ: ERX: VIG: CLDR: QCLN: IMV: GNOG: ASML: REGN: CATB: ARKX: CHX: JAMF - thread num: 5  -  38 / 103\n"
     ]
    },
    {
     "name": "stderr",
     "output_type": "stream",
     "text": [
      "\n",
      "\n",
      "\n",
      "\n",
      "\n",
      "\n",
      "\n",
      "Thread num: 3:  50%|█████████████████████████████▎                            | 52/103 [17:23:10<20:48:59, 1469.40s/it]\u001b[A\u001b[A\u001b[A\u001b[A\u001b[A\u001b[A\u001b[A"
     ]
    },
    {
     "name": "stdout",
     "output_type": "stream",
     "text": [
      "completed symbols FLDM: RCKT: BFLY: BBY: VWAGY: ATNF: AVCO: RVP: BBIG: EFOI: FUSE: AGEN: RKDA: GHIV: IAU: PRQR: PT: SPPI: LIZI: PRPL: INSG: ROOT: RSCF: ICON: CYRN: APTX: IPOD: ARPO: ANY: GAN: ALNA: CPHI: CCO: LVS: AIHS: BUZZ: ORI: ISIG: OCX: GSM: MSTR: ADT: LTHM: DTSS: FISV: COTY: BMY: ACAD: MOGU: STPK: SING: CUK - thread num: 3  -  52 / 103\n"
     ]
    },
    {
     "name": "stderr",
     "output_type": "stream",
     "text": [
      "\r",
      "Thread num: 0:  41%|███████████████████████▋                                  | 42/103 [17:32:28<29:37:27, 1748.33s/it]"
     ]
    },
    {
     "name": "stdout",
     "output_type": "stream",
     "text": [
      "completed symbols ENOB: MUDS: IZEA: ONCY: RNET: OVID: LMT: MRK: BIG: SI: VTGN: SVM: THMO: DPZ: KOPN: TIGR: INTU: HUSA: DFS: VZIO: APOP: MCHI: GOL: TAOP: GILD: ACCD: GDRX: FREQ: POSH: RMO: GLSI: AVCT: ZKIN: ABEV: ARLO: MDGS: YGMZ: VOOG: CKPT: DRIV: MAR: FNGD - thread num: 0  -  42 / 103\n"
     ]
    },
    {
     "name": "stderr",
     "output_type": "stream",
     "text": [
      "\n",
      "\n",
      "\n",
      "\n",
      "\n",
      "\n",
      "\n",
      "Thread num: 3:  51%|█████████████████████████████▊                            | 53/103 [17:34:24<17:05:36, 1230.74s/it]\u001b[A\u001b[A\u001b[A\u001b[A\u001b[A\u001b[A\u001b[A"
     ]
    },
    {
     "name": "stdout",
     "output_type": "stream",
     "text": [
      "completed symbols FLDM: RCKT: BFLY: BBY: VWAGY: ATNF: AVCO: RVP: BBIG: EFOI: FUSE: AGEN: RKDA: GHIV: IAU: PRQR: PT: SPPI: LIZI: PRPL: INSG: ROOT: RSCF: ICON: CYRN: APTX: IPOD: ARPO: ANY: GAN: ALNA: CPHI: CCO: LVS: AIHS: BUZZ: ORI: ISIG: OCX: GSM: MSTR: ADT: LTHM: DTSS: FISV: COTY: BMY: ACAD: MOGU: STPK: SING: CUK: ERI - thread num: 3  -  53 / 103\n"
     ]
    },
    {
     "name": "stderr",
     "output_type": "stream",
     "text": [
      "\n",
      "Thread num: 2:  43%|████████████████████████▊                                 | 44/103 [17:38:53<21:30:40, 1312.55s/it]\u001b[A"
     ]
    },
    {
     "name": "stdout",
     "output_type": "stream",
     "text": [
      "completed symbols AREC: NEXT: STNE: STNG: ENVB: VB: HTGM: PFMT: SWN: VRM: ACTC: ZI: NTN: AMRN: AMPY: PCG: DOW: INFI: YCBD: RCON: HGSH: MNOV: BSV: GLMD: CHGG: IDXX: VO: HX: BLOK: VSTM: MAXR: MTP: SLS: WBA: FINV: EVC: LIT: BEP: BLIN: CAPR: PRNT: AAXN: PSFE: KIQ - thread num: 2  -  44 / 103\n"
     ]
    },
    {
     "name": "stderr",
     "output_type": "stream",
     "text": [
      "\n",
      "\n",
      "Thread num: 4:  42%|████████████████████████▏                                 | 43/103 [17:39:56<36:14:11, 2174.19s/it]\u001b[A\u001b[A"
     ]
    },
    {
     "name": "stdout",
     "output_type": "stream",
     "text": [
      "completed symbols NH: SNCA: TGA: VBK: ATOM: MKD: TRUL: NLSP: SPLK: SCHO: ALRN: DISCB: TMUS: WIX: SDC: CTEK: PEIX: FAZ: SNGX: AIV: BETZ: ELYS: ORCL: CARV: CAT: AA: CFMS: AQB: MITT: MELI: HMY: SCYX: OXLC: RTX: PBI: WAFU: CTIC: RAD: NXE: SRAC: AMAT: MINT: SIRI - thread num: 4  -  43 / 103\n"
     ]
    },
    {
     "name": "stderr",
     "output_type": "stream",
     "text": [
      "\n",
      "\n",
      "\n",
      "\n",
      "Thread num: 5:  38%|█████████████████████▉                                    | 39/103 [17:42:52<27:13:57, 1531.84s/it]\u001b[A\u001b[A\u001b[A\u001b[A"
     ]
    },
    {
     "name": "stdout",
     "output_type": "stream",
     "text": [
      "completed symbols EQ: GRIL: UA: LBYYQ: ITUB: EQOS: XERS: FSM: CSIQ: ASAN: QYLD: MGI: PG: MRVL: AESE: OKE: MESO: MRIN: HIBL: SDS: AG: CRIS: CPRX: MIK: ASM: AGQ: ERX: VIG: CLDR: QCLN: IMV: GNOG: ASML: REGN: CATB: ARKX: CHX: JAMF: GPL - thread num: 5  -  39 / 103\n"
     ]
    },
    {
     "name": "stderr",
     "output_type": "stream",
     "text": [
      "\n",
      "\n",
      "\n",
      "\n",
      "\n",
      "\n",
      "Thread num: 1:  50%|█████████████████████████████▎                            | 52/103 [17:46:53<24:10:55, 1706.96s/it]\u001b[A\u001b[A\u001b[A\u001b[A\u001b[A\u001b[A"
     ]
    },
    {
     "name": "stdout",
     "output_type": "stream",
     "text": [
      "completed symbols EGYF: SFIX: NTDOY: SFT: QID: AXP: PSEC: CLPS: KTRA: LC: QD: EKSO: DG: UPRO: THBR: GTHX: ADTX: AUMN: CGIX: BHR: NETE: SPRT: EVRI: CORR: HIBS: CANF: RESN: BOIL: MNMD: SHY: VCNX: NUGT: TCEHY: FTCV: AMTX: FBIO: BVXV: GEENQ: SNES: POTX: AACG: HGEND: AIRI: IEZ: ACY: QLD: TENX: SAN: EPD: XBIO: LGVW: GTEC - thread num: 1  -  52 / 103\n"
     ]
    },
    {
     "name": "stderr",
     "output_type": "stream",
     "text": [
      "\n",
      "\n",
      "\n",
      "Thread num: 6:  48%|███████████████████████████▌                              | 49/103 [17:52:10<29:10:30, 1945.00s/it]\u001b[A\u001b[A\u001b[A"
     ]
    },
    {
     "name": "stdout",
     "output_type": "stream",
     "text": [
      "completed symbols GPRO: CVAC: IRTC: IRM: RWLK: ACI: MGEN: FMCC: PK: CLX: SCO: TMDI: NBAC: AGNC: ABEO: RAVE: CPPRQ: CHKAQ: CRON: GIGM: WPG: XELB: QTT: VXUS: RMG: VTEB: TGC: NYMT: UGAZF: EXK: CLEU: APPH: ANCN: SM: TH: BHTG: HCDI: PZC: SCHD: GS: NIU: PSX: AUY: ZNOG: BIMI: GAU: VERI: ALK: EXPE - thread num: 6  -  49 / 103\n"
     ]
    },
    {
     "name": "stderr",
     "output_type": "stream",
     "text": [
      "\r",
      "Thread num: 0:  42%|████████████████████████▏                                 | 43/103 [17:55:03<27:10:28, 1630.48s/it]"
     ]
    },
    {
     "name": "stdout",
     "output_type": "stream",
     "text": [
      "completed symbols ENOB: MUDS: IZEA: ONCY: RNET: OVID: LMT: MRK: BIG: SI: VTGN: SVM: THMO: DPZ: KOPN: TIGR: INTU: HUSA: DFS: VZIO: APOP: MCHI: GOL: TAOP: GILD: ACCD: GDRX: FREQ: POSH: RMO: GLSI: AVCT: ZKIN: ABEV: ARLO: MDGS: YGMZ: VOOG: CKPT: DRIV: MAR: FNGD: GIK - thread num: 0  -  43 / 103\n"
     ]
    },
    {
     "name": "stderr",
     "output_type": "stream",
     "text": [
      "\n",
      "\n",
      "\n",
      "\n",
      "\n",
      "\n",
      "\n",
      "Thread num: 3:  52%|██████████████████████████████▍                           | 54/103 [18:01:09<18:16:51, 1343.09s/it]\u001b[A\u001b[A\u001b[A\u001b[A\u001b[A\u001b[A\u001b[A"
     ]
    },
    {
     "name": "stdout",
     "output_type": "stream",
     "text": [
      "completed symbols FLDM: RCKT: BFLY: BBY: VWAGY: ATNF: AVCO: RVP: BBIG: EFOI: FUSE: AGEN: RKDA: GHIV: IAU: PRQR: PT: SPPI: LIZI: PRPL: INSG: ROOT: RSCF: ICON: CYRN: APTX: IPOD: ARPO: ANY: GAN: ALNA: CPHI: CCO: LVS: AIHS: BUZZ: ORI: ISIG: OCX: GSM: MSTR: ADT: LTHM: DTSS: FISV: COTY: BMY: ACAD: MOGU: STPK: SING: CUK: ERI: NGL - thread num: 3  -  54 / 103\n"
     ]
    },
    {
     "name": "stderr",
     "output_type": "stream",
     "text": [
      "\n",
      "\n",
      "\n",
      "\n",
      "Thread num: 5:  39%|██████████████████████▌                                   | 40/103 [18:02:27<24:55:56, 1424.71s/it]\u001b[A\u001b[A\u001b[A\u001b[A"
     ]
    },
    {
     "name": "stdout",
     "output_type": "stream",
     "text": [
      "completed symbols EQ: GRIL: UA: LBYYQ: ITUB: EQOS: XERS: FSM: CSIQ: ASAN: QYLD: MGI: PG: MRVL: AESE: OKE: MESO: MRIN: HIBL: SDS: AG: CRIS: CPRX: MIK: ASM: AGQ: ERX: VIG: CLDR: QCLN: IMV: GNOG: ASML: REGN: CATB: ARKX: CHX: JAMF: GPL: XAN - thread num: 5  -  40 / 103\n"
     ]
    },
    {
     "name": "stderr",
     "output_type": "stream",
     "text": [
      "\n",
      "\n",
      "Thread num: 4:  43%|████████████████████████▊                                 | 44/103 [18:05:49<32:34:47, 1987.92s/it]\u001b[A\u001b[A"
     ]
    },
    {
     "name": "stdout",
     "output_type": "stream",
     "text": [
      "completed symbols NH: SNCA: TGA: VBK: ATOM: MKD: TRUL: NLSP: SPLK: SCHO: ALRN: DISCB: TMUS: WIX: SDC: CTEK: PEIX: FAZ: SNGX: AIV: BETZ: ELYS: ORCL: CARV: CAT: AA: CFMS: AQB: MITT: MELI: HMY: SCYX: OXLC: RTX: PBI: WAFU: CTIC: RAD: NXE: SRAC: AMAT: MINT: SIRI: CNSP - thread num: 4  -  44 / 103\n"
     ]
    },
    {
     "name": "stderr",
     "output_type": "stream",
     "text": [
      "\n",
      "\n",
      "\n",
      "\n",
      "\n",
      "\n",
      "Thread num: 1:  51%|█████████████████████████████▊                            | 53/103 [18:13:01<23:07:38, 1665.16s/it]\u001b[A\u001b[A\u001b[A\u001b[A\u001b[A\u001b[A"
     ]
    },
    {
     "name": "stdout",
     "output_type": "stream",
     "text": [
      "completed symbols EGYF: SFIX: NTDOY: SFT: QID: AXP: PSEC: CLPS: KTRA: LC: QD: EKSO: DG: UPRO: THBR: GTHX: ADTX: AUMN: CGIX: BHR: NETE: SPRT: EVRI: CORR: HIBS: CANF: RESN: BOIL: MNMD: SHY: VCNX: NUGT: TCEHY: FTCV: AMTX: FBIO: BVXV: GEENQ: SNES: POTX: AACG: HGEND: AIRI: IEZ: ACY: QLD: TENX: SAN: EPD: XBIO: LGVW: GTEC: RGLS - thread num: 1  -  53 / 103\n"
     ]
    },
    {
     "name": "stderr",
     "output_type": "stream",
     "text": [
      "\n",
      "\n",
      "\n",
      "Thread num: 6:  49%|████████████████████████████▏                             | 50/103 [18:18:05<26:54:39, 1827.92s/it]\u001b[A\u001b[A\u001b[A"
     ]
    },
    {
     "name": "stdout",
     "output_type": "stream",
     "text": [
      "completed symbols GPRO: CVAC: IRTC: IRM: RWLK: ACI: MGEN: FMCC: PK: CLX: SCO: TMDI: NBAC: AGNC: ABEO: RAVE: CPPRQ: CHKAQ: CRON: GIGM: WPG: XELB: QTT: VXUS: RMG: VTEB: TGC: NYMT: UGAZF: EXK: CLEU: APPH: ANCN: SM: TH: BHTG: HCDI: PZC: SCHD: GS: NIU: PSX: AUY: ZNOG: BIMI: GAU: VERI: ALK: EXPE: IFMK - thread num: 6  -  50 / 103\n"
     ]
    },
    {
     "name": "stderr",
     "output_type": "stream",
     "text": [
      "\n",
      "Thread num: 2:  44%|█████████████████████████▎                                | 45/103 [18:19:18<26:31:26, 1646.32s/it]\u001b[A"
     ]
    },
    {
     "name": "stdout",
     "output_type": "stream",
     "text": [
      "completed symbols AREC: NEXT: STNE: STNG: ENVB: VB: HTGM: PFMT: SWN: VRM: ACTC: ZI: NTN: AMRN: AMPY: PCG: DOW: INFI: YCBD: RCON: HGSH: MNOV: BSV: GLMD: CHGG: IDXX: VO: HX: BLOK: VSTM: MAXR: MTP: SLS: WBA: FINV: EVC: LIT: BEP: BLIN: CAPR: PRNT: AAXN: PSFE: KIQ: MPC - thread num: 2  -  45 / 103\n"
     ]
    },
    {
     "name": "stderr",
     "output_type": "stream",
     "text": [
      "\r",
      "Thread num: 0:  43%|████████████████████████▊                                 | 44/103 [18:31:33<29:28:25, 1798.39s/it]"
     ]
    },
    {
     "name": "stdout",
     "output_type": "stream",
     "text": [
      "completed symbols ENOB: MUDS: IZEA: ONCY: RNET: OVID: LMT: MRK: BIG: SI: VTGN: SVM: THMO: DPZ: KOPN: TIGR: INTU: HUSA: DFS: VZIO: APOP: MCHI: GOL: TAOP: GILD: ACCD: GDRX: FREQ: POSH: RMO: GLSI: AVCT: ZKIN: ABEV: ARLO: MDGS: YGMZ: VOOG: CKPT: DRIV: MAR: FNGD: GIK: SONO - thread num: 0  -  44 / 103\n"
     ]
    },
    {
     "name": "stderr",
     "output_type": "stream",
     "text": [
      "\n",
      "\n",
      "\n",
      "\n",
      "Thread num: 5:  40%|███████████████████████                                   | 41/103 [18:32:22<26:26:57, 1535.77s/it]\u001b[A\u001b[A\u001b[A\u001b[A"
     ]
    },
    {
     "name": "stdout",
     "output_type": "stream",
     "text": [
      "completed symbols EQ: GRIL: UA: LBYYQ: ITUB: EQOS: XERS: FSM: CSIQ: ASAN: QYLD: MGI: PG: MRVL: AESE: OKE: MESO: MRIN: HIBL: SDS: AG: CRIS: CPRX: MIK: ASM: AGQ: ERX: VIG: CLDR: QCLN: IMV: GNOG: ASML: REGN: CATB: ARKX: CHX: JAMF: GPL: XAN: AAME - thread num: 5  -  41 / 103\n"
     ]
    },
    {
     "name": "stderr",
     "output_type": "stream",
     "text": [
      "\n",
      "\n",
      "Thread num: 4:  44%|█████████████████████████▎                                | 45/103 [18:34:13<30:39:14, 1902.66s/it]\u001b[A\u001b[A"
     ]
    },
    {
     "name": "stdout",
     "output_type": "stream",
     "text": [
      "completed symbols NH: SNCA: TGA: VBK: ATOM: MKD: TRUL: NLSP: SPLK: SCHO: ALRN: DISCB: TMUS: WIX: SDC: CTEK: PEIX: FAZ: SNGX: AIV: BETZ: ELYS: ORCL: CARV: CAT: AA: CFMS: AQB: MITT: MELI: HMY: SCYX: OXLC: RTX: PBI: WAFU: CTIC: RAD: NXE: SRAC: AMAT: MINT: SIRI: CNSP: MRKR - thread num: 4  -  45 / 103\n"
     ]
    },
    {
     "name": "stderr",
     "output_type": "stream",
     "text": [
      "\n",
      "\n",
      "\n",
      "\n",
      "\n",
      "\n",
      "\n",
      "Thread num: 3:  53%|██████████████████████████████▉                           | 55/103 [18:36:02<20:54:23, 1568.00s/it]\u001b[A\u001b[A\u001b[A\u001b[A\u001b[A\u001b[A\u001b[A"
     ]
    },
    {
     "name": "stdout",
     "output_type": "stream",
     "text": [
      "completed symbols FLDM: RCKT: BFLY: BBY: VWAGY: ATNF: AVCO: RVP: BBIG: EFOI: FUSE: AGEN: RKDA: GHIV: IAU: PRQR: PT: SPPI: LIZI: PRPL: INSG: ROOT: RSCF: ICON: CYRN: APTX: IPOD: ARPO: ANY: GAN: ALNA: CPHI: CCO: LVS: AIHS: BUZZ: ORI: ISIG: OCX: GSM: MSTR: ADT: LTHM: DTSS: FISV: COTY: BMY: ACAD: MOGU: STPK: SING: CUK: ERI: NGL: DOYU - thread num: 3  -  55 / 103\n"
     ]
    },
    {
     "name": "stderr",
     "output_type": "stream",
     "text": [
      "\n",
      "\n",
      "Thread num: 4:  45%|█████████████████████████▉                                | 46/103 [18:47:19<24:49:22, 1567.76s/it]\u001b[A\u001b[A"
     ]
    },
    {
     "name": "stdout",
     "output_type": "stream",
     "text": [
      "completed symbols NH: SNCA: TGA: VBK: ATOM: MKD: TRUL: NLSP: SPLK: SCHO: ALRN: DISCB: TMUS: WIX: SDC: CTEK: PEIX: FAZ: SNGX: AIV: BETZ: ELYS: ORCL: CARV: CAT: AA: CFMS: AQB: MITT: MELI: HMY: SCYX: OXLC: RTX: PBI: WAFU: CTIC: RAD: NXE: SRAC: AMAT: MINT: SIRI: CNSP: MRKR: GHVI - thread num: 4  -  46 / 103\n"
     ]
    },
    {
     "name": "stderr",
     "output_type": "stream",
     "text": [
      "\n",
      "\n",
      "\n",
      "Thread num: 6:  50%|████████████████████████████▋                             | 51/103 [18:48:55<26:29:55, 1834.53s/it]\u001b[A\u001b[A\u001b[A"
     ]
    },
    {
     "name": "stdout",
     "output_type": "stream",
     "text": [
      "completed symbols GPRO: CVAC: IRTC: IRM: RWLK: ACI: MGEN: FMCC: PK: CLX: SCO: TMDI: NBAC: AGNC: ABEO: RAVE: CPPRQ: CHKAQ: CRON: GIGM: WPG: XELB: QTT: VXUS: RMG: VTEB: TGC: NYMT: UGAZF: EXK: CLEU: APPH: ANCN: SM: TH: BHTG: HCDI: PZC: SCHD: GS: NIU: PSX: AUY: ZNOG: BIMI: GAU: VERI: ALK: EXPE: IFMK: GORO - thread num: 6  -  51 / 103\n"
     ]
    },
    {
     "name": "stderr",
     "output_type": "stream",
     "text": [
      "\n",
      "Thread num: 2:  45%|█████████████████████████▉                                | 46/103 [18:59:37<29:44:16, 1878.19s/it]\u001b[A"
     ]
    },
    {
     "name": "stdout",
     "output_type": "stream",
     "text": [
      "completed symbols AREC: NEXT: STNE: STNG: ENVB: VB: HTGM: PFMT: SWN: VRM: ACTC: ZI: NTN: AMRN: AMPY: PCG: DOW: INFI: YCBD: RCON: HGSH: MNOV: BSV: GLMD: CHGG: IDXX: VO: HX: BLOK: VSTM: MAXR: MTP: SLS: WBA: FINV: EVC: LIT: BEP: BLIN: CAPR: PRNT: AAXN: PSFE: KIQ: MPC: BIIB - thread num: 2  -  46 / 103\n"
     ]
    },
    {
     "name": "stderr",
     "output_type": "stream",
     "text": [
      "\r",
      "Thread num: 0:  44%|█████████████████████████▎                                | 45/103 [19:01:02<28:49:43, 1789.38s/it]"
     ]
    },
    {
     "name": "stdout",
     "output_type": "stream",
     "text": [
      "completed symbols ENOB: MUDS: IZEA: ONCY: RNET: OVID: LMT: MRK: BIG: SI: VTGN: SVM: THMO: DPZ: KOPN: TIGR: INTU: HUSA: DFS: VZIO: APOP: MCHI: GOL: TAOP: GILD: ACCD: GDRX: FREQ: POSH: RMO: GLSI: AVCT: ZKIN: ABEV: ARLO: MDGS: YGMZ: VOOG: CKPT: DRIV: MAR: FNGD: GIK: SONO: ODT - thread num: 0  -  45 / 103\n"
     ]
    },
    {
     "name": "stderr",
     "output_type": "stream",
     "text": [
      "\n",
      "\n",
      "\n",
      "\n",
      "Thread num: 5:  41%|███████████████████████▋                                  | 42/103 [19:05:40<28:22:24, 1674.50s/it]\u001b[A\u001b[A\u001b[A\u001b[A"
     ]
    },
    {
     "name": "stdout",
     "output_type": "stream",
     "text": [
      "completed symbols EQ: GRIL: UA: LBYYQ: ITUB: EQOS: XERS: FSM: CSIQ: ASAN: QYLD: MGI: PG: MRVL: AESE: OKE: MESO: MRIN: HIBL: SDS: AG: CRIS: CPRX: MIK: ASM: AGQ: ERX: VIG: CLDR: QCLN: IMV: GNOG: ASML: REGN: CATB: ARKX: CHX: JAMF: GPL: XAN: AAME: MIST - thread num: 5  -  42 / 103\n"
     ]
    },
    {
     "name": "stderr",
     "output_type": "stream",
     "text": [
      "\n",
      "\n",
      "\n",
      "\n",
      "\n",
      "\n",
      "\n",
      "Thread num: 3:  54%|███████████████████████████████▌                          | 56/103 [19:13:18<23:05:22, 1768.56s/it]\u001b[A\u001b[A\u001b[A\u001b[A\u001b[A\u001b[A\u001b[A"
     ]
    },
    {
     "name": "stdout",
     "output_type": "stream",
     "text": [
      "completed symbols FLDM: RCKT: BFLY: BBY: VWAGY: ATNF: AVCO: RVP: BBIG: EFOI: FUSE: AGEN: RKDA: GHIV: IAU: PRQR: PT: SPPI: LIZI: PRPL: INSG: ROOT: RSCF: ICON: CYRN: APTX: IPOD: ARPO: ANY: GAN: ALNA: CPHI: CCO: LVS: AIHS: BUZZ: ORI: ISIG: OCX: GSM: MSTR: ADT: LTHM: DTSS: FISV: COTY: BMY: ACAD: MOGU: STPK: SING: CUK: ERI: NGL: DOYU: FAS - thread num: 3  -  56 / 103\n"
     ]
    },
    {
     "name": "stderr",
     "output_type": "stream",
     "text": [
      "\n",
      "\n",
      "\n",
      "Thread num: 6:  50%|█████████████████████████████▎                            | 52/103 [19:19:39<26:01:42, 1837.30s/it]\u001b[A\u001b[A\u001b[A"
     ]
    },
    {
     "name": "stdout",
     "output_type": "stream",
     "text": [
      "completed symbols GPRO: CVAC: IRTC: IRM: RWLK: ACI: MGEN: FMCC: PK: CLX: SCO: TMDI: NBAC: AGNC: ABEO: RAVE: CPPRQ: CHKAQ: CRON: GIGM: WPG: XELB: QTT: VXUS: RMG: VTEB: TGC: NYMT: UGAZF: EXK: CLEU: APPH: ANCN: SM: TH: BHTG: HCDI: PZC: SCHD: GS: NIU: PSX: AUY: ZNOG: BIMI: GAU: VERI: ALK: EXPE: IFMK: GORO: ANPC - thread num: 6  -  52 / 103\n"
     ]
    },
    {
     "name": "stderr",
     "output_type": "stream",
     "text": [
      "\n",
      "\n",
      "Thread num: 4:  46%|██████████████████████████▍                               | 47/103 [19:20:35<26:23:11, 1696.27s/it]\u001b[A\u001b[A"
     ]
    },
    {
     "name": "stdout",
     "output_type": "stream",
     "text": [
      "completed symbols NH: SNCA: TGA: VBK: ATOM: MKD: TRUL: NLSP: SPLK: SCHO: ALRN: DISCB: TMUS: WIX: SDC: CTEK: PEIX: FAZ: SNGX: AIV: BETZ: ELYS: ORCL: CARV: CAT: AA: CFMS: AQB: MITT: MELI: HMY: SCYX: OXLC: RTX: PBI: WAFU: CTIC: RAD: NXE: SRAC: AMAT: MINT: SIRI: CNSP: MRKR: GHVI: SLDB - thread num: 4  -  47 / 103\n"
     ]
    },
    {
     "name": "stderr",
     "output_type": "stream",
     "text": [
      "\n",
      "\n",
      "\n",
      "\n",
      "\n",
      "\n",
      "Thread num: 1:  52%|██████████████████████████████▍                           | 54/103 [19:21:02<32:31:52, 2390.06s/it]\u001b[A\u001b[A\u001b[A\u001b[A\u001b[A\u001b[A"
     ]
    },
    {
     "name": "stdout",
     "output_type": "stream",
     "text": [
      "completed symbols EGYF: SFIX: NTDOY: SFT: QID: AXP: PSEC: CLPS: KTRA: LC: QD: EKSO: DG: UPRO: THBR: GTHX: ADTX: AUMN: CGIX: BHR: NETE: SPRT: EVRI: CORR: HIBS: CANF: RESN: BOIL: MNMD: SHY: VCNX: NUGT: TCEHY: FTCV: AMTX: FBIO: BVXV: GEENQ: SNES: POTX: AACG: HGEND: AIRI: IEZ: ACY: QLD: TENX: SAN: EPD: XBIO: LGVW: GTEC: RGLS: CVX - thread num: 1  -  54 / 103\n"
     ]
    },
    {
     "name": "stderr",
     "output_type": "stream",
     "text": [
      "\n",
      "Thread num: 2:  46%|██████████████████████████▍                               | 47/103 [19:32:20<29:36:31, 1903.42s/it]\u001b[A"
     ]
    },
    {
     "name": "stdout",
     "output_type": "stream",
     "text": [
      "completed symbols AREC: NEXT: STNE: STNG: ENVB: VB: HTGM: PFMT: SWN: VRM: ACTC: ZI: NTN: AMRN: AMPY: PCG: DOW: INFI: YCBD: RCON: HGSH: MNOV: BSV: GLMD: CHGG: IDXX: VO: HX: BLOK: VSTM: MAXR: MTP: SLS: WBA: FINV: EVC: LIT: BEP: BLIN: CAPR: PRNT: AAXN: PSFE: KIQ: MPC: BIIB: SINO - thread num: 2  -  47 / 103\n"
     ]
    },
    {
     "name": "stderr",
     "output_type": "stream",
     "text": [
      "\n",
      "\n",
      "\n",
      "\n",
      "Thread num: 5:  42%|████████████████████████▏                                 | 43/103 [19:39:49<29:46:51, 1786.85s/it]"
     ]
    },
    {
     "name": "stdout",
     "output_type": "stream",
     "text": [
      "completed symbols EQ: GRIL: UA: LBYYQ: ITUB: EQOS: XERS: FSM: CSIQ: ASAN: QYLD: MGI: PG: MRVL: AESE: OKE: MESO: MRIN: HIBL: SDS: AG: CRIS: CPRX: MIK: ASM: AGQ: ERX: VIG: CLDR: QCLN: IMV: GNOG: ASML: REGN: CATB: ARKX: CHX: JAMF: GPL: XAN: AAME: MIST: TGI - thread num: 5  -  43 / 103\n"
     ]
    },
    {
     "name": "stderr",
     "output_type": "stream",
     "text": [
      "\u001b[A\u001b[A\u001b[A\u001b[A\n",
      "\n",
      "\n",
      "\n",
      "\n",
      "\n",
      "\n"
     ]
    },
    {
     "name": "stdout",
     "output_type": "stream",
     "text": [
      "completed symbols FLDM: RCKT: BFLY: BBY: VWAGY: ATNF: AVCO: RVP: BBIG: EFOI: FUSE: AGEN: RKDA: GHIV: IAU: PRQR: PT: SPPI: LIZI: PRPL: INSG: ROOT: RSCF: ICON: CYRN: APTX: IPOD: ARPO: ANY: GAN: ALNA: CPHI: CCO: LVS: AIHS: BUZZ: ORI: ISIG: OCX: GSM: MSTR: ADT: LTHM: DTSS: FISV: COTY: BMY: ACAD: MOGU: STPK: SING: CUK: ERI: NGL: DOYU: FAS: STMP - thread num: 3  -  57 / 103\n"
     ]
    },
    {
     "name": "stderr",
     "output_type": "stream",
     "text": [
      "Thread num: 0:  45%|█████████████████████████▉                                | 46/103 [19:47:07<32:58:11, 2082.31s/it]\u001b[A\u001b[A\u001b[A\u001b[A\u001b[A\u001b[A\u001b[A"
     ]
    },
    {
     "name": "stdout",
     "output_type": "stream",
     "text": [
      "completed symbols ENOB: MUDS: IZEA: ONCY: RNET: OVID: LMT: MRK: BIG: SI: VTGN: SVM: THMO: DPZ: KOPN: TIGR: INTU: HUSA: DFS: VZIO: APOP: MCHI: GOL: TAOP: GILD: ACCD: GDRX: FREQ: POSH: RMO: GLSI: AVCT: ZKIN: ABEV: ARLO: MDGS: YGMZ: VOOG: CKPT: DRIV: MAR: FNGD: GIK: SONO: ODT: FANG - thread num: 0  -  46 / 103\n"
     ]
    },
    {
     "name": "stderr",
     "output_type": "stream",
     "text": [
      "\n",
      "\n",
      "\n",
      "\n",
      "\n",
      "\n",
      "Thread num: 1:  53%|██████████████████████████████▉                           | 55/103 [19:51:41<29:39:43, 2224.66s/it]"
     ]
    },
    {
     "name": "stdout",
     "output_type": "stream",
     "text": [
      "completed symbols EGYF: SFIX: NTDOY: SFT: QID: AXP: PSEC: CLPS: KTRA: LC: QD: EKSO: DG: UPRO: THBR: GTHX: ADTX: AUMN: CGIX: BHR: NETE: SPRT: EVRI: CORR: HIBS: CANF: RESN: BOIL: MNMD: SHY: VCNX: NUGT: TCEHY: FTCV: AMTX: FBIO: BVXV: GEENQ: SNES: POTX: AACG: HGEND: AIRI: IEZ: ACY: QLD: TENX: SAN: EPD: XBIO: LGVW: GTEC: RGLS: CVX: DYNT - thread num: 1  -  55 / 103\n"
     ]
    },
    {
     "name": "stderr",
     "output_type": "stream",
     "text": [
      "\u001b[A\u001b[A\u001b[A\u001b[A\u001b[A\u001b[A\n",
      "\n",
      "\n",
      "\n",
      "\n",
      "\n",
      "\n",
      "Thread num: 3:  56%|████████████████████████████████▋                         | 58/103 [19:53:50<17:41:53, 1415.85s/it]\u001b[A\u001b[A\u001b[A\u001b[A\u001b[A\u001b[A\u001b[A"
     ]
    },
    {
     "name": "stdout",
     "output_type": "stream",
     "text": [
      "completed symbols FLDM: RCKT: BFLY: BBY: VWAGY: ATNF: AVCO: RVP: BBIG: EFOI: FUSE: AGEN: RKDA: GHIV: IAU: PRQR: PT: SPPI: LIZI: PRPL: INSG: ROOT: RSCF: ICON: CYRN: APTX: IPOD: ARPO: ANY: GAN: ALNA: CPHI: CCO: LVS: AIHS: BUZZ: ORI: ISIG: OCX: GSM: MSTR: ADT: LTHM: DTSS: FISV: COTY: BMY: ACAD: MOGU: STPK: SING: CUK: ERI: NGL: DOYU: FAS: STMP: DMPI - thread num: 3  -  58 / 103\n"
     ]
    },
    {
     "name": "stderr",
     "output_type": "stream",
     "text": [
      "\n",
      "Thread num: 2:  47%|███████████████████████████                               | 48/103 [20:04:43<29:15:55, 1915.55s/it]\u001b[A"
     ]
    },
    {
     "name": "stdout",
     "output_type": "stream",
     "text": [
      "completed symbols AREC: NEXT: STNE: STNG: ENVB: VB: HTGM: PFMT: SWN: VRM: ACTC: ZI: NTN: AMRN: AMPY: PCG: DOW: INFI: YCBD: RCON: HGSH: MNOV: BSV: GLMD: CHGG: IDXX: VO: HX: BLOK: VSTM: MAXR: MTP: SLS: WBA: FINV: EVC: LIT: BEP: BLIN: CAPR: PRNT: AAXN: PSFE: KIQ: MPC: BIIB: SINO: NNVC - thread num: 2  -  48 / 103\n"
     ]
    },
    {
     "name": "stderr",
     "output_type": "stream",
     "text": [
      "\n",
      "\n",
      "\n",
      "\n"
     ]
    },
    {
     "name": "stdout",
     "output_type": "stream",
     "text": [
      "completed symbols EQ: GRIL: UA: LBYYQ: ITUB: EQOS: XERS: FSM: CSIQ: ASAN: QYLD: MGI: PG: MRVL: AESE: OKE: MESO: MRIN: HIBL: SDS: AG: CRIS: CPRX: MIK: ASM: AGQ: ERX: VIG: CLDR: QCLN: IMV: GNOG: ASML: REGN: CATB: ARKX: CHX: JAMF: GPL: XAN: AAME: MIST: TGI: VOE - thread num: 5  -  44 / 103\n"
     ]
    },
    {
     "name": "stderr",
     "output_type": "stream",
     "text": [
      "Thread num: 5:  43%|████████████████████████▊                                 | 44/103 [20:09:36<29:16:57, 1786.74s/it]\u001b[A\u001b[A\u001b[A\u001b[A\n",
      "\n",
      "\n",
      "Thread num: 6:  51%|█████████████████████████████▊                            | 53/103 [20:10:21<30:32:17, 2198.75s/it]\u001b[A\u001b[A\u001b[A"
     ]
    },
    {
     "name": "stdout",
     "output_type": "stream",
     "text": [
      "completed symbols GPRO: CVAC: IRTC: IRM: RWLK: ACI: MGEN: FMCC: PK: CLX: SCO: TMDI: NBAC: AGNC: ABEO: RAVE: CPPRQ: CHKAQ: CRON: GIGM: WPG: XELB: QTT: VXUS: RMG: VTEB: TGC: NYMT: UGAZF: EXK: CLEU: APPH: ANCN: SM: TH: BHTG: HCDI: PZC: SCHD: GS: NIU: PSX: AUY: ZNOG: BIMI: GAU: VERI: ALK: EXPE: IFMK: GORO: ANPC: GDXJ - thread num: 6  -  53 / 103\n"
     ]
    },
    {
     "name": "stderr",
     "output_type": "stream",
     "text": [
      "\n",
      "\n",
      "Thread num: 4:  47%|███████████████████████████                               | 48/103 [20:11:10<32:03:04, 2097.90s/it]\u001b[A\u001b[A"
     ]
    },
    {
     "name": "stdout",
     "output_type": "stream",
     "text": [
      "completed symbols NH: SNCA: TGA: VBK: ATOM: MKD: TRUL: NLSP: SPLK: SCHO: ALRN: DISCB: TMUS: WIX: SDC: CTEK: PEIX: FAZ: SNGX: AIV: BETZ: ELYS: ORCL: CARV: CAT: AA: CFMS: AQB: MITT: MELI: HMY: SCYX: OXLC: RTX: PBI: WAFU: CTIC: RAD: NXE: SRAC: AMAT: MINT: SIRI: CNSP: MRKR: GHVI: SLDB: PEP - thread num: 4  -  48 / 103\n"
     ]
    },
    {
     "name": "stderr",
     "output_type": "stream",
     "text": [
      "\r",
      "Thread num: 0:  46%|██████████████████████████▍                               | 47/103 [20:16:53<31:00:20, 1993.23s/it]"
     ]
    },
    {
     "name": "stdout",
     "output_type": "stream",
     "text": [
      "completed symbols ENOB: MUDS: IZEA: ONCY: RNET: OVID: LMT: MRK: BIG: SI: VTGN: SVM: THMO: DPZ: KOPN: TIGR: INTU: HUSA: DFS: VZIO: APOP: MCHI: GOL: TAOP: GILD: ACCD: GDRX: FREQ: POSH: RMO: GLSI: AVCT: ZKIN: ABEV: ARLO: MDGS: YGMZ: VOOG: CKPT: DRIV: MAR: FNGD: GIK: SONO: ODT: FANG: BNTC - thread num: 0  -  47 / 103\n"
     ]
    },
    {
     "name": "stderr",
     "output_type": "stream",
     "text": [
      "\n",
      "\n",
      "\n",
      "\n",
      "\n",
      "\n",
      "Thread num: 1:  54%|███████████████████████████████▌                          | 56/103 [20:20:20<27:03:49, 2072.96s/it]\u001b[A\u001b[A\u001b[A\u001b[A\u001b[A\u001b[A"
     ]
    },
    {
     "name": "stdout",
     "output_type": "stream",
     "text": [
      "completed symbols EGYF: SFIX: NTDOY: SFT: QID: AXP: PSEC: CLPS: KTRA: LC: QD: EKSO: DG: UPRO: THBR: GTHX: ADTX: AUMN: CGIX: BHR: NETE: SPRT: EVRI: CORR: HIBS: CANF: RESN: BOIL: MNMD: SHY: VCNX: NUGT: TCEHY: FTCV: AMTX: FBIO: BVXV: GEENQ: SNES: POTX: AACG: HGEND: AIRI: IEZ: ACY: QLD: TENX: SAN: EPD: XBIO: LGVW: GTEC: RGLS: CVX: DYNT: STCN - thread num: 1  -  56 / 103\n"
     ]
    },
    {
     "name": "stderr",
     "output_type": "stream",
     "text": [
      "\n",
      "Thread num: 2:  48%|███████████████████████████▌                              | 49/103 [20:32:55<27:43:25, 1848.24s/it]\u001b[A"
     ]
    },
    {
     "name": "stdout",
     "output_type": "stream",
     "text": [
      "completed symbols AREC: NEXT: STNE: STNG: ENVB: VB: HTGM: PFMT: SWN: VRM: ACTC: ZI: NTN: AMRN: AMPY: PCG: DOW: INFI: YCBD: RCON: HGSH: MNOV: BSV: GLMD: CHGG: IDXX: VO: HX: BLOK: VSTM: MAXR: MTP: SLS: WBA: FINV: EVC: LIT: BEP: BLIN: CAPR: PRNT: AAXN: PSFE: KIQ: MPC: BIIB: SINO: NNVC: PLIN - thread num: 2  -  49 / 103\n"
     ]
    },
    {
     "name": "stderr",
     "output_type": "stream",
     "text": [
      "\n",
      "\n",
      "\n",
      "\n",
      "\n",
      "\n",
      "\n",
      "Thread num: 3:  57%|█████████████████████████████████▏                        | 59/103 [20:33:04<20:44:47, 1697.44s/it]\u001b[A\u001b[A\u001b[A\u001b[A\u001b[A\u001b[A\u001b[A"
     ]
    },
    {
     "name": "stdout",
     "output_type": "stream",
     "text": [
      "completed symbols FLDM: RCKT: BFLY: BBY: VWAGY: ATNF: AVCO: RVP: BBIG: EFOI: FUSE: AGEN: RKDA: GHIV: IAU: PRQR: PT: SPPI: LIZI: PRPL: INSG: ROOT: RSCF: ICON: CYRN: APTX: IPOD: ARPO: ANY: GAN: ALNA: CPHI: CCO: LVS: AIHS: BUZZ: ORI: ISIG: OCX: GSM: MSTR: ADT: LTHM: DTSS: FISV: COTY: BMY: ACAD: MOGU: STPK: SING: CUK: ERI: NGL: DOYU: FAS: STMP: DMPI: VNQ - thread num: 3  -  59 / 103\n"
     ]
    },
    {
     "name": "stderr",
     "output_type": "stream",
     "text": [
      "\n",
      "\n",
      "\n",
      "\n",
      "Thread num: 5:  44%|█████████████████████████▎                                | 45/103 [20:37:19<28:11:29, 1749.82s/it]\u001b[A\u001b[A\u001b[A\u001b[A"
     ]
    },
    {
     "name": "stdout",
     "output_type": "stream",
     "text": [
      "completed symbols EQ: GRIL: UA: LBYYQ: ITUB: EQOS: XERS: FSM: CSIQ: ASAN: QYLD: MGI: PG: MRVL: AESE: OKE: MESO: MRIN: HIBL: SDS: AG: CRIS: CPRX: MIK: ASM: AGQ: ERX: VIG: CLDR: QCLN: IMV: GNOG: ASML: REGN: CATB: ARKX: CHX: JAMF: GPL: XAN: AAME: MIST: TGI: VOE: SPYD - thread num: 5  -  45 / 103\n"
     ]
    },
    {
     "name": "stderr",
     "output_type": "stream",
     "text": [
      "\n",
      "\n"
     ]
    },
    {
     "name": "stdout",
     "output_type": "stream",
     "text": [
      "completed symbols NH: SNCA: TGA: VBK: ATOM: MKD: TRUL: NLSP: SPLK: SCHO: ALRN: DISCB: TMUS: WIX: SDC: CTEK: PEIX: FAZ: SNGX: AIV: BETZ: ELYS: ORCL: CARV: CAT: AA: CFMS: AQB: MITT: MELI: HMY: SCYX: OXLC: RTX: PBI: WAFU: CTIC: RAD: NXE: SRAC: AMAT: MINT: SIRI: CNSP: MRKR: GHVI: SLDB: PEP: DRRX - thread num: 4  -  49 / 103\n"
     ]
    },
    {
     "name": "stderr",
     "output_type": "stream",
     "text": [
      "Thread num: 4:  48%|███████████████████████████▌                              | 49/103 [20:38:17<29:20:56, 1956.60s/it]\u001b[A\u001b[A\n",
      "\n",
      "\n",
      "Thread num: 6:  52%|██████████████████████████████▍                           | 54/103 [20:38:20<27:48:21, 2042.89s/it]\u001b[A\u001b[A\u001b[A"
     ]
    },
    {
     "name": "stdout",
     "output_type": "stream",
     "text": [
      "completed symbols GPRO: CVAC: IRTC: IRM: RWLK: ACI: MGEN: FMCC: PK: CLX: SCO: TMDI: NBAC: AGNC: ABEO: RAVE: CPPRQ: CHKAQ: CRON: GIGM: WPG: XELB: QTT: VXUS: RMG: VTEB: TGC: NYMT: UGAZF: EXK: CLEU: APPH: ANCN: SM: TH: BHTG: HCDI: PZC: SCHD: GS: NIU: PSX: AUY: ZNOG: BIMI: GAU: VERI: ALK: EXPE: IFMK: GORO: ANPC: GDXJ: BEST - thread num: 6  -  54 / 103\n"
     ]
    },
    {
     "name": "stderr",
     "output_type": "stream",
     "text": [
      "\r",
      "Thread num: 0:  47%|███████████████████████████                               | 48/103 [20:43:49<28:43:30, 1880.19s/it]"
     ]
    },
    {
     "name": "stdout",
     "output_type": "stream",
     "text": [
      "completed symbols ENOB: MUDS: IZEA: ONCY: RNET: OVID: LMT: MRK: BIG: SI: VTGN: SVM: THMO: DPZ: KOPN: TIGR: INTU: HUSA: DFS: VZIO: APOP: MCHI: GOL: TAOP: GILD: ACCD: GDRX: FREQ: POSH: RMO: GLSI: AVCT: ZKIN: ABEV: ARLO: MDGS: YGMZ: VOOG: CKPT: DRIV: MAR: FNGD: GIK: SONO: ODT: FANG: BNTC: ADIL - thread num: 0  -  48 / 103\n"
     ]
    },
    {
     "name": "stderr",
     "output_type": "stream",
     "text": [
      "\n",
      "\n",
      "\n",
      "\n",
      "\n",
      "\n",
      "Thread num: 1:  55%|████████████████████████████████                          | 57/103 [20:49:12<25:10:47, 1970.59s/it]\u001b[A\u001b[A\u001b[A\u001b[A\u001b[A\u001b[A"
     ]
    },
    {
     "name": "stdout",
     "output_type": "stream",
     "text": [
      "completed symbols EGYF: SFIX: NTDOY: SFT: QID: AXP: PSEC: CLPS: KTRA: LC: QD: EKSO: DG: UPRO: THBR: GTHX: ADTX: AUMN: CGIX: BHR: NETE: SPRT: EVRI: CORR: HIBS: CANF: RESN: BOIL: MNMD: SHY: VCNX: NUGT: TCEHY: FTCV: AMTX: FBIO: BVXV: GEENQ: SNES: POTX: AACG: HGEND: AIRI: IEZ: ACY: QLD: TENX: SAN: EPD: XBIO: LGVW: GTEC: RGLS: CVX: DYNT: STCN: AMRS - thread num: 1  -  57 / 103\n"
     ]
    },
    {
     "name": "stderr",
     "output_type": "stream",
     "text": [
      "\n",
      "\n",
      "\n",
      "\n",
      "\n",
      "\n",
      "\n",
      "Thread num: 3:  58%|█████████████████████████████████▊                        | 60/103 [20:58:28<19:39:12, 1645.41s/it]\u001b[A\u001b[A\u001b[A\u001b[A\u001b[A\u001b[A\u001b[A"
     ]
    },
    {
     "name": "stdout",
     "output_type": "stream",
     "text": [
      "completed symbols FLDM: RCKT: BFLY: BBY: VWAGY: ATNF: AVCO: RVP: BBIG: EFOI: FUSE: AGEN: RKDA: GHIV: IAU: PRQR: PT: SPPI: LIZI: PRPL: INSG: ROOT: RSCF: ICON: CYRN: APTX: IPOD: ARPO: ANY: GAN: ALNA: CPHI: CCO: LVS: AIHS: BUZZ: ORI: ISIG: OCX: GSM: MSTR: ADT: LTHM: DTSS: FISV: COTY: BMY: ACAD: MOGU: STPK: SING: CUK: ERI: NGL: DOYU: FAS: STMP: DMPI: VNQ: YOLO - thread num: 3  -  60 / 103\n"
     ]
    },
    {
     "name": "stderr",
     "output_type": "stream",
     "text": [
      "\n",
      "Thread num: 2:  49%|████████████████████████████▏                             | 50/103 [21:00:35<26:22:55, 1791.99s/it]\u001b[A"
     ]
    },
    {
     "name": "stdout",
     "output_type": "stream",
     "text": [
      "completed symbols AREC: NEXT: STNE: STNG: ENVB: VB: HTGM: PFMT: SWN: VRM: ACTC: ZI: NTN: AMRN: AMPY: PCG: DOW: INFI: YCBD: RCON: HGSH: MNOV: BSV: GLMD: CHGG: IDXX: VO: HX: BLOK: VSTM: MAXR: MTP: SLS: WBA: FINV: EVC: LIT: BEP: BLIN: CAPR: PRNT: AAXN: PSFE: KIQ: MPC: BIIB: SINO: NNVC: PLIN: ILMN - thread num: 2  -  50 / 103\n"
     ]
    },
    {
     "name": "stderr",
     "output_type": "stream",
     "text": [
      "\n",
      "\n",
      "\n",
      "\n",
      "Thread num: 5:  45%|█████████████████████████▉                                | 46/103 [21:02:46<26:38:43, 1682.88s/it]\u001b[A\u001b[A\u001b[A\u001b[A"
     ]
    },
    {
     "name": "stdout",
     "output_type": "stream",
     "text": [
      "completed symbols EQ: GRIL: UA: LBYYQ: ITUB: EQOS: XERS: FSM: CSIQ: ASAN: QYLD: MGI: PG: MRVL: AESE: OKE: MESO: MRIN: HIBL: SDS: AG: CRIS: CPRX: MIK: ASM: AGQ: ERX: VIG: CLDR: QCLN: IMV: GNOG: ASML: REGN: CATB: ARKX: CHX: JAMF: GPL: XAN: AAME: MIST: TGI: VOE: SPYD: ALJJ - thread num: 5  -  46 / 103\n"
     ]
    },
    {
     "name": "stderr",
     "output_type": "stream",
     "text": [
      "\n",
      "\n",
      "\n",
      "Thread num: 6:  53%|██████████████████████████████▉                           | 55/103 [21:03:35<25:07:38, 1884.56s/it]\u001b[A\u001b[A\u001b[A"
     ]
    },
    {
     "name": "stdout",
     "output_type": "stream",
     "text": [
      "completed symbols GPRO: CVAC: IRTC: IRM: RWLK: ACI: MGEN: FMCC: PK: CLX: SCO: TMDI: NBAC: AGNC: ABEO: RAVE: CPPRQ: CHKAQ: CRON: GIGM: WPG: XELB: QTT: VXUS: RMG: VTEB: TGC: NYMT: UGAZF: EXK: CLEU: APPH: ANCN: SM: TH: BHTG: HCDI: PZC: SCHD: GS: NIU: PSX: AUY: ZNOG: BIMI: GAU: VERI: ALK: EXPE: IFMK: GORO: ANPC: GDXJ: BEST: SGOL - thread num: 6  -  55 / 103\n"
     ]
    },
    {
     "name": "stderr",
     "output_type": "stream",
     "text": [
      "\n",
      "\n",
      "Thread num: 4:  49%|████████████████████████████▏                             | 50/103 [21:03:54<26:57:05, 1830.67s/it]\u001b[A\u001b[A"
     ]
    },
    {
     "name": "stdout",
     "output_type": "stream",
     "text": [
      "completed symbols NH: SNCA: TGA: VBK: ATOM: MKD: TRUL: NLSP: SPLK: SCHO: ALRN: DISCB: TMUS: WIX: SDC: CTEK: PEIX: FAZ: SNGX: AIV: BETZ: ELYS: ORCL: CARV: CAT: AA: CFMS: AQB: MITT: MELI: HMY: SCYX: OXLC: RTX: PBI: WAFU: CTIC: RAD: NXE: SRAC: AMAT: MINT: SIRI: CNSP: MRKR: GHVI: SLDB: PEP: DRRX: IIPR - thread num: 4  -  50 / 103\n"
     ]
    },
    {
     "name": "stderr",
     "output_type": "stream",
     "text": [
      "\r",
      "Thread num: 0:  48%|███████████████████████████▌                              | 49/103 [21:09:31<26:40:49, 1778.69s/it]"
     ]
    },
    {
     "name": "stdout",
     "output_type": "stream",
     "text": [
      "completed symbols ENOB: MUDS: IZEA: ONCY: RNET: OVID: LMT: MRK: BIG: SI: VTGN: SVM: THMO: DPZ: KOPN: TIGR: INTU: HUSA: DFS: VZIO: APOP: MCHI: GOL: TAOP: GILD: ACCD: GDRX: FREQ: POSH: RMO: GLSI: AVCT: ZKIN: ABEV: ARLO: MDGS: YGMZ: VOOG: CKPT: DRIV: MAR: FNGD: GIK: SONO: ODT: FANG: BNTC: ADIL: ORTX - thread num: 0  -  49 / 103\n"
     ]
    },
    {
     "name": "stderr",
     "output_type": "stream",
     "text": [
      "\n",
      "\n",
      "\n",
      "\n",
      "\n",
      "\n",
      "Thread num: 1:  56%|████████████████████████████████▋                         | 58/103 [21:12:14<22:25:38, 1794.20s/it]\u001b[A\u001b[A\u001b[A\u001b[A\u001b[A\u001b[A"
     ]
    },
    {
     "name": "stdout",
     "output_type": "stream",
     "text": [
      "completed symbols EGYF: SFIX: NTDOY: SFT: QID: AXP: PSEC: CLPS: KTRA: LC: QD: EKSO: DG: UPRO: THBR: GTHX: ADTX: AUMN: CGIX: BHR: NETE: SPRT: EVRI: CORR: HIBS: CANF: RESN: BOIL: MNMD: SHY: VCNX: NUGT: TCEHY: FTCV: AMTX: FBIO: BVXV: GEENQ: SNES: POTX: AACG: HGEND: AIRI: IEZ: ACY: QLD: TENX: SAN: EPD: XBIO: LGVW: GTEC: RGLS: CVX: DYNT: STCN: AMRS: ETM - thread num: 1  -  58 / 103\n"
     ]
    },
    {
     "name": "stderr",
     "output_type": "stream",
     "text": [
      "\n",
      "\n",
      "\n",
      "\n",
      "\n",
      "\n",
      "Thread num: 1:  57%|█████████████████████████████████▏                        | 59/103 [21:13:17<15:34:49, 1274.77s/it]\u001b[A\u001b[A\u001b[A\u001b[A\u001b[A\u001b[A"
     ]
    },
    {
     "name": "stdout",
     "output_type": "stream",
     "text": [
      "completed symbols EGYF: SFIX: NTDOY: SFT: QID: AXP: PSEC: CLPS: KTRA: LC: QD: EKSO: DG: UPRO: THBR: GTHX: ADTX: AUMN: CGIX: BHR: NETE: SPRT: EVRI: CORR: HIBS: CANF: RESN: BOIL: MNMD: SHY: VCNX: NUGT: TCEHY: FTCV: AMTX: FBIO: BVXV: GEENQ: SNES: POTX: AACG: HGEND: AIRI: IEZ: ACY: QLD: TENX: SAN: EPD: XBIO: LGVW: GTEC: RGLS: CVX: DYNT: STCN: AMRS: ETM: FNMA - thread num: 1  -  59 / 103\n"
     ]
    },
    {
     "name": "stderr",
     "output_type": "stream",
     "text": [
      "\r",
      "Thread num: 0:  49%|████████████████████████████▏                             | 50/103 [21:25:43<22:37:30, 1536.81s/it]"
     ]
    },
    {
     "name": "stdout",
     "output_type": "stream",
     "text": [
      "completed symbols ENOB: MUDS: IZEA: ONCY: RNET: OVID: LMT: MRK: BIG: SI: VTGN: SVM: THMO: DPZ: KOPN: TIGR: INTU: HUSA: DFS: VZIO: APOP: MCHI: GOL: TAOP: GILD: ACCD: GDRX: FREQ: POSH: RMO: GLSI: AVCT: ZKIN: ABEV: ARLO: MDGS: YGMZ: VOOG: CKPT: DRIV: MAR: FNGD: GIK: SONO: ODT: FANG: BNTC: ADIL: ORTX: IPOB - thread num: 0  -  50 / 103\n"
     ]
    },
    {
     "name": "stderr",
     "output_type": "stream",
     "text": [
      "\n",
      "\n",
      "\n",
      "\n",
      "\n",
      "\n",
      "\n",
      "Thread num: 3:  59%|██████████████████████████████████▎                       | 61/103 [21:26:49<19:23:31, 1662.18s/it]\u001b[A\u001b[A\u001b[A\u001b[A\u001b[A\u001b[A\u001b[A"
     ]
    },
    {
     "name": "stdout",
     "output_type": "stream",
     "text": [
      "completed symbols FLDM: RCKT: BFLY: BBY: VWAGY: ATNF: AVCO: RVP: BBIG: EFOI: FUSE: AGEN: RKDA: GHIV: IAU: PRQR: PT: SPPI: LIZI: PRPL: INSG: ROOT: RSCF: ICON: CYRN: APTX: IPOD: ARPO: ANY: GAN: ALNA: CPHI: CCO: LVS: AIHS: BUZZ: ORI: ISIG: OCX: GSM: MSTR: ADT: LTHM: DTSS: FISV: COTY: BMY: ACAD: MOGU: STPK: SING: CUK: ERI: NGL: DOYU: FAS: STMP: DMPI: VNQ: YOLO: NOG - thread num: 3  -  61 / 103\n"
     ]
    },
    {
     "name": "stderr",
     "output_type": "stream",
     "text": [
      "\n",
      "Thread num: 2:  50%|████████████████████████████▋                             | 51/103 [21:27:56<25:13:49, 1746.73s/it]\u001b[A"
     ]
    },
    {
     "name": "stdout",
     "output_type": "stream",
     "text": [
      "completed symbols AREC: NEXT: STNE: STNG: ENVB: VB: HTGM: PFMT: SWN: VRM: ACTC: ZI: NTN: AMRN: AMPY: PCG: DOW: INFI: YCBD: RCON: HGSH: MNOV: BSV: GLMD: CHGG: IDXX: VO: HX: BLOK: VSTM: MAXR: MTP: SLS: WBA: FINV: EVC: LIT: BEP: BLIN: CAPR: PRNT: AAXN: PSFE: KIQ: MPC: BIIB: SINO: NNVC: PLIN: ILMN: DOGZ - thread num: 2  -  51 / 103\n"
     ]
    },
    {
     "name": "stderr",
     "output_type": "stream",
     "text": [
      "\n",
      "\n",
      "\n",
      "\n"
     ]
    },
    {
     "name": "stdout",
     "output_type": "stream",
     "text": [
      "completed symbols EQ: GRIL: UA: LBYYQ: ITUB: EQOS: XERS: FSM: CSIQ: ASAN: QYLD: MGI: PG: MRVL: AESE: OKE: MESO: MRIN: HIBL: SDS: AG: CRIS: CPRX: MIK: ASM: AGQ: ERX: VIG: CLDR: QCLN: IMV: GNOG: ASML: REGN: CATB: ARKX: CHX: JAMF: GPL: XAN: AAME: MIST: TGI: VOE: SPYD: ALJJ: MOXC - thread num: 5  -  47 / 103\n"
     ]
    },
    {
     "name": "stderr",
     "output_type": "stream",
     "text": [
      "Thread num: 5:  46%|██████████████████████████▍                               | 47/103 [21:31:40<26:25:04, 1698.30s/it]\u001b[A\u001b[A\u001b[A\u001b[A\n",
      "\n",
      "\n",
      "Thread num: 6:  54%|███████████████████████████████▌                          | 56/103 [21:39:12<25:35:25, 1960.13s/it]\u001b[A\u001b[A\u001b[A"
     ]
    },
    {
     "name": "stdout",
     "output_type": "stream",
     "text": [
      "completed symbols GPRO: CVAC: IRTC: IRM: RWLK: ACI: MGEN: FMCC: PK: CLX: SCO: TMDI: NBAC: AGNC: ABEO: RAVE: CPPRQ: CHKAQ: CRON: GIGM: WPG: XELB: QTT: VXUS: RMG: VTEB: TGC: NYMT: UGAZF: EXK: CLEU: APPH: ANCN: SM: TH: BHTG: HCDI: PZC: SCHD: GS: NIU: PSX: AUY: ZNOG: BIMI: GAU: VERI: ALK: EXPE: IFMK: GORO: ANPC: GDXJ: BEST: SGOL: HL - thread num: 6  -  56 / 103\n"
     ]
    },
    {
     "name": "stderr",
     "output_type": "stream",
     "text": [
      "\n",
      "\n",
      "Thread num: 4:  50%|████████████████████████████▋                             | 51/103 [21:39:38<27:48:08, 1924.78s/it]\u001b[A\u001b[A"
     ]
    },
    {
     "name": "stdout",
     "output_type": "stream",
     "text": [
      "completed symbols NH: SNCA: TGA: VBK: ATOM: MKD: TRUL: NLSP: SPLK: SCHO: ALRN: DISCB: TMUS: WIX: SDC: CTEK: PEIX: FAZ: SNGX: AIV: BETZ: ELYS: ORCL: CARV: CAT: AA: CFMS: AQB: MITT: MELI: HMY: SCYX: OXLC: RTX: PBI: WAFU: CTIC: RAD: NXE: SRAC: AMAT: MINT: SIRI: CNSP: MRKR: GHVI: SLDB: PEP: DRRX: IIPR: SVXY - thread num: 4  -  51 / 103\n"
     ]
    },
    {
     "name": "stderr",
     "output_type": "stream",
     "text": [
      "\n",
      "\n",
      "\n",
      "\n",
      "\n",
      "\n",
      "Thread num: 1:  58%|█████████████████████████████████▊                        | 60/103 [21:42:11<16:52:18, 1412.53s/it]\u001b[A\u001b[A\u001b[A\u001b[A\u001b[A\u001b[A"
     ]
    },
    {
     "name": "stdout",
     "output_type": "stream",
     "text": [
      "completed symbols EGYF: SFIX: NTDOY: SFT: QID: AXP: PSEC: CLPS: KTRA: LC: QD: EKSO: DG: UPRO: THBR: GTHX: ADTX: AUMN: CGIX: BHR: NETE: SPRT: EVRI: CORR: HIBS: CANF: RESN: BOIL: MNMD: SHY: VCNX: NUGT: TCEHY: FTCV: AMTX: FBIO: BVXV: GEENQ: SNES: POTX: AACG: HGEND: AIRI: IEZ: ACY: QLD: TENX: SAN: EPD: XBIO: LGVW: GTEC: RGLS: CVX: DYNT: STCN: AMRS: ETM: FNMA: MLND - thread num: 1  -  60 / 103\n"
     ]
    },
    {
     "name": "stderr",
     "output_type": "stream",
     "text": [
      "\r",
      "Thread num: 0:  50%|████████████████████████████▋                             | 51/103 [21:56:29<23:32:11, 1629.44s/it]"
     ]
    },
    {
     "name": "stdout",
     "output_type": "stream",
     "text": [
      "completed symbols ENOB: MUDS: IZEA: ONCY: RNET: OVID: LMT: MRK: BIG: SI: VTGN: SVM: THMO: DPZ: KOPN: TIGR: INTU: HUSA: DFS: VZIO: APOP: MCHI: GOL: TAOP: GILD: ACCD: GDRX: FREQ: POSH: RMO: GLSI: AVCT: ZKIN: ABEV: ARLO: MDGS: YGMZ: VOOG: CKPT: DRIV: MAR: FNGD: GIK: SONO: ODT: FANG: BNTC: ADIL: ORTX: IPOB: AQMS - thread num: 0  -  51 / 103\n"
     ]
    },
    {
     "name": "stderr",
     "output_type": "stream",
     "text": [
      "\n",
      "Thread num: 2:  50%|█████████████████████████████▎                            | 52/103 [21:57:46<24:55:42, 1759.65s/it]\u001b[A"
     ]
    },
    {
     "name": "stdout",
     "output_type": "stream",
     "text": [
      "completed symbols AREC: NEXT: STNE: STNG: ENVB: VB: HTGM: PFMT: SWN: VRM: ACTC: ZI: NTN: AMRN: AMPY: PCG: DOW: INFI: YCBD: RCON: HGSH: MNOV: BSV: GLMD: CHGG: IDXX: VO: HX: BLOK: VSTM: MAXR: MTP: SLS: WBA: FINV: EVC: LIT: BEP: BLIN: CAPR: PRNT: AAXN: PSFE: KIQ: MPC: BIIB: SINO: NNVC: PLIN: ILMN: DOGZ: SFTW - thread num: 2  -  52 / 103\n"
     ]
    },
    {
     "name": "stderr",
     "output_type": "stream",
     "text": [
      "\n",
      "\n",
      "\n",
      "\n",
      "Thread num: 5:  47%|███████████████████████████                               | 48/103 [22:01:50<26:27:19, 1731.63s/it]\u001b[A\u001b[A\u001b[A\u001b[A"
     ]
    },
    {
     "name": "stdout",
     "output_type": "stream",
     "text": [
      "completed symbols EQ: GRIL: UA: LBYYQ: ITUB: EQOS: XERS: FSM: CSIQ: ASAN: QYLD: MGI: PG: MRVL: AESE: OKE: MESO: MRIN: HIBL: SDS: AG: CRIS: CPRX: MIK: ASM: AGQ: ERX: VIG: CLDR: QCLN: IMV: GNOG: ASML: REGN: CATB: ARKX: CHX: JAMF: GPL: XAN: AAME: MIST: TGI: VOE: SPYD: ALJJ: MOXC: PETZ - thread num: 5  -  48 / 103\n"
     ]
    },
    {
     "name": "stderr",
     "output_type": "stream",
     "text": [
      "\n",
      "\n"
     ]
    },
    {
     "name": "stdout",
     "output_type": "stream",
     "text": [
      "completed symbols NH: SNCA: TGA: VBK: ATOM: MKD: TRUL: NLSP: SPLK: SCHO: ALRN: DISCB: TMUS: WIX: SDC: CTEK: PEIX: FAZ: SNGX: AIV: BETZ: ELYS: ORCL: CARV: CAT: AA: CFMS: AQB: MITT: MELI: HMY: SCYX: OXLC: RTX: PBI: WAFU: CTIC: RAD: NXE: SRAC: AMAT: MINT: SIRI: CNSP: MRKR: GHVI: SLDB: PEP: DRRX: IIPR: SVXY: PULM - thread num: 4  -  52 / 103\n"
     ]
    },
    {
     "name": "stderr",
     "output_type": "stream",
     "text": [
      "Thread num: 4:  50%|█████████████████████████████▎                            | 52/103 [22:09:35<26:43:22, 1886.32s/it]\u001b[A\u001b[A\n",
      "\n",
      "\n",
      "\n",
      "\n",
      "\n",
      "\n",
      "Thread num: 3:  60%|██████████████████████████████████▉                       | 62/103 [22:13:18<22:46:41, 2000.05s/it]\u001b[A\u001b[A\u001b[A\u001b[A\u001b[A\u001b[A\u001b[A"
     ]
    },
    {
     "name": "stdout",
     "output_type": "stream",
     "text": [
      "completed symbols FLDM: RCKT: BFLY: BBY: VWAGY: ATNF: AVCO: RVP: BBIG: EFOI: FUSE: AGEN: RKDA: GHIV: IAU: PRQR: PT: SPPI: LIZI: PRPL: INSG: ROOT: RSCF: ICON: CYRN: APTX: IPOD: ARPO: ANY: GAN: ALNA: CPHI: CCO: LVS: AIHS: BUZZ: ORI: ISIG: OCX: GSM: MSTR: ADT: LTHM: DTSS: FISV: COTY: BMY: ACAD: MOGU: STPK: SING: CUK: ERI: NGL: DOYU: FAS: STMP: DMPI: VNQ: YOLO: NOG: BILI - thread num: 3  -  62 / 103\n"
     ]
    },
    {
     "name": "stderr",
     "output_type": "stream",
     "text": [
      "\n",
      "\n",
      "\n",
      "Thread num: 6:  55%|████████████████████████████████                          | 57/103 [22:14:32<25:39:38, 2008.22s/it]\u001b[A\u001b[A\u001b[A"
     ]
    },
    {
     "name": "stdout",
     "output_type": "stream",
     "text": [
      "completed symbols GPRO: CVAC: IRTC: IRM: RWLK: ACI: MGEN: FMCC: PK: CLX: SCO: TMDI: NBAC: AGNC: ABEO: RAVE: CPPRQ: CHKAQ: CRON: GIGM: WPG: XELB: QTT: VXUS: RMG: VTEB: TGC: NYMT: UGAZF: EXK: CLEU: APPH: ANCN: SM: TH: BHTG: HCDI: PZC: SCHD: GS: NIU: PSX: AUY: ZNOG: BIMI: GAU: VERI: ALK: EXPE: IFMK: GORO: ANPC: GDXJ: BEST: SGOL: HL: ZYNE - thread num: 6  -  57 / 103\n"
     ]
    },
    {
     "name": "stderr",
     "output_type": "stream",
     "text": [
      "\n",
      "\n",
      "\n",
      "\n",
      "\n",
      "\n",
      "Thread num: 1:  59%|██████████████████████████████████▎                       | 61/103 [22:17:37<18:58:35, 1626.56s/it]\u001b[A\u001b[A\u001b[A\u001b[A\u001b[A\u001b[A"
     ]
    },
    {
     "name": "stdout",
     "output_type": "stream",
     "text": [
      "completed symbols EGYF: SFIX: NTDOY: SFT: QID: AXP: PSEC: CLPS: KTRA: LC: QD: EKSO: DG: UPRO: THBR: GTHX: ADTX: AUMN: CGIX: BHR: NETE: SPRT: EVRI: CORR: HIBS: CANF: RESN: BOIL: MNMD: SHY: VCNX: NUGT: TCEHY: FTCV: AMTX: FBIO: BVXV: GEENQ: SNES: POTX: AACG: HGEND: AIRI: IEZ: ACY: QLD: TENX: SAN: EPD: XBIO: LGVW: GTEC: RGLS: CVX: DYNT: STCN: AMRS: ETM: FNMA: MLND: VIR - thread num: 1  -  61 / 103\n"
     ]
    },
    {
     "name": "stderr",
     "output_type": "stream",
     "text": [
      "\n",
      "\n",
      "\n",
      "Thread num: 6:  56%|████████████████████████████████▋                         | 58/103 [22:20:28<18:54:25, 1512.57s/it]\u001b[A\u001b[A\u001b[A"
     ]
    },
    {
     "name": "stdout",
     "output_type": "stream",
     "text": [
      "completed symbols GPRO: CVAC: IRTC: IRM: RWLK: ACI: MGEN: FMCC: PK: CLX: SCO: TMDI: NBAC: AGNC: ABEO: RAVE: CPPRQ: CHKAQ: CRON: GIGM: WPG: XELB: QTT: VXUS: RMG: VTEB: TGC: NYMT: UGAZF: EXK: CLEU: APPH: ANCN: SM: TH: BHTG: HCDI: PZC: SCHD: GS: NIU: PSX: AUY: ZNOG: BIMI: GAU: VERI: ALK: EXPE: IFMK: GORO: ANPC: GDXJ: BEST: SGOL: HL: ZYNE: SONY - thread num: 6  -  58 / 103\n"
     ]
    },
    {
     "name": "stderr",
     "output_type": "stream",
     "text": [
      "\r",
      "Thread num: 0:  50%|█████████████████████████████▎                            | 52/103 [22:34:57<25:58:07, 1833.08s/it]"
     ]
    },
    {
     "name": "stdout",
     "output_type": "stream",
     "text": [
      "completed symbols ENOB: MUDS: IZEA: ONCY: RNET: OVID: LMT: MRK: BIG: SI: VTGN: SVM: THMO: DPZ: KOPN: TIGR: INTU: HUSA: DFS: VZIO: APOP: MCHI: GOL: TAOP: GILD: ACCD: GDRX: FREQ: POSH: RMO: GLSI: AVCT: ZKIN: ABEV: ARLO: MDGS: YGMZ: VOOG: CKPT: DRIV: MAR: FNGD: GIK: SONO: ODT: FANG: BNTC: ADIL: ORTX: IPOB: AQMS: CNDT - thread num: 0  -  52 / 103\n"
     ]
    },
    {
     "name": "stderr",
     "output_type": "stream",
     "text": [
      "\n",
      "\n",
      "\n",
      "\n",
      "Thread num: 5:  48%|███████████████████████████▌                              | 49/103 [22:40:28<28:36:47, 1907.54s/it]\u001b[A\u001b[A\u001b[A\u001b[A"
     ]
    },
    {
     "name": "stdout",
     "output_type": "stream",
     "text": [
      "completed symbols EQ: GRIL: UA: LBYYQ: ITUB: EQOS: XERS: FSM: CSIQ: ASAN: QYLD: MGI: PG: MRVL: AESE: OKE: MESO: MRIN: HIBL: SDS: AG: CRIS: CPRX: MIK: ASM: AGQ: ERX: VIG: CLDR: QCLN: IMV: GNOG: ASML: REGN: CATB: ARKX: CHX: JAMF: GPL: XAN: AAME: MIST: TGI: VOE: SPYD: ALJJ: MOXC: PETZ: TUP - thread num: 5  -  49 / 103\n",
      "completed symbols NH: SNCA: TGA: VBK: ATOM: MKD: TRUL: NLSP: SPLK: SCHO: ALRN: DISCB: TMUS: WIX: SDC: CTEK: PEIX: FAZ: SNGX: AIV: BETZ: ELYS: ORCL: CARV: CAT: AA: CFMS: AQB: MITT: MELI: HMY: SCYX: OXLC: RTX: PBI: WAFU: CTIC: RAD: NXE: SRAC: AMAT: MINT: SIRI: CNSP: MRKR: GHVI: SLDB: PEP: DRRX: IIPR: SVXY: PULM: EVOL - thread num: 4  - "
     ]
    },
    {
     "name": "stderr",
     "output_type": "stream",
     "text": [
      "\n",
      "\n",
      "Thread num: 4:  51%|█████████████████████████████▊                            | 53/103 [22:41:37<26:20:51, 1897.03s/it]"
     ]
    },
    {
     "name": "stdout",
     "output_type": "stream",
     "text": [
      " 53 / 103\n"
     ]
    },
    {
     "name": "stderr",
     "output_type": "stream",
     "text": [
      "\u001b[A\u001b[A\n",
      "Thread num: 2:  51%|█████████████████████████████▊                            | 53/103 [22:49:22<30:00:21, 2160.43s/it]\u001b[A"
     ]
    },
    {
     "name": "stdout",
     "output_type": "stream",
     "text": [
      "completed symbols AREC: NEXT: STNE: STNG: ENVB: VB: HTGM: PFMT: SWN: VRM: ACTC: ZI: NTN: AMRN: AMPY: PCG: DOW: INFI: YCBD: RCON: HGSH: MNOV: BSV: GLMD: CHGG: IDXX: VO: HX: BLOK: VSTM: MAXR: MTP: SLS: WBA: FINV: EVC: LIT: BEP: BLIN: CAPR: PRNT: AAXN: PSFE: KIQ: MPC: BIIB: SINO: NNVC: PLIN: ILMN: DOGZ: SFTW: GSX - thread num: 2  -  53 / 103\n"
     ]
    },
    {
     "name": "stderr",
     "output_type": "stream",
     "text": [
      "\n",
      "\n",
      "\n",
      "\n",
      "\n",
      "\n",
      "\n",
      "Thread num: 3:  61%|███████████████████████████████████▍                      | 63/103 [22:57:05<24:18:51, 2188.29s/it]\u001b[A\u001b[A\u001b[A\u001b[A\u001b[A\u001b[A\u001b[A"
     ]
    },
    {
     "name": "stdout",
     "output_type": "stream",
     "text": [
      "completed symbols FLDM: RCKT: BFLY: BBY: VWAGY: ATNF: AVCO: RVP: BBIG: EFOI: FUSE: AGEN: RKDA: GHIV: IAU: PRQR: PT: SPPI: LIZI: PRPL: INSG: ROOT: RSCF: ICON: CYRN: APTX: IPOD: ARPO: ANY: GAN: ALNA: CPHI: CCO: LVS: AIHS: BUZZ: ORI: ISIG: OCX: GSM: MSTR: ADT: LTHM: DTSS: FISV: COTY: BMY: ACAD: MOGU: STPK: SING: CUK: ERI: NGL: DOYU: FAS: STMP: DMPI: VNQ: YOLO: NOG: BILI: AM - thread num: 3  -  63 / 103\n"
     ]
    },
    {
     "name": "stderr",
     "output_type": "stream",
     "text": [
      "\n",
      "\n",
      "\n",
      "\n",
      "\n",
      "\n",
      "Thread num: 1:  60%|██████████████████████████████████▉                       | 62/103 [23:03:47<22:25:54, 1969.62s/it]\u001b[A\u001b[A\u001b[A\u001b[A\u001b[A\u001b[A"
     ]
    },
    {
     "name": "stdout",
     "output_type": "stream",
     "text": [
      "completed symbols EGYF: SFIX: NTDOY: SFT: QID: AXP: PSEC: CLPS: KTRA: LC: QD: EKSO: DG: UPRO: THBR: GTHX: ADTX: AUMN: CGIX: BHR: NETE: SPRT: EVRI: CORR: HIBS: CANF: RESN: BOIL: MNMD: SHY: VCNX: NUGT: TCEHY: FTCV: AMTX: FBIO: BVXV: GEENQ: SNES: POTX: AACG: HGEND: AIRI: IEZ: ACY: QLD: TENX: SAN: EPD: XBIO: LGVW: GTEC: RGLS: CVX: DYNT: STCN: AMRS: ETM: FNMA: MLND: VIR: KGC - thread num: 1  -  62 / 103\n"
     ]
    },
    {
     "name": "stderr",
     "output_type": "stream",
     "text": [
      "\r",
      "Thread num: 0:  51%|█████████████████████████████▊                            | 53/103 [23:08:10<26:07:32, 1881.05s/it]"
     ]
    },
    {
     "name": "stdout",
     "output_type": "stream",
     "text": [
      "completed symbols ENOB: MUDS: IZEA: ONCY: RNET: OVID: LMT: MRK: BIG: SI: VTGN: SVM: THMO: DPZ: KOPN: TIGR: INTU: HUSA: DFS: VZIO: APOP: MCHI: GOL: TAOP: GILD: ACCD: GDRX: FREQ: POSH: RMO: GLSI: AVCT: ZKIN: ABEV: ARLO: MDGS: YGMZ: VOOG: CKPT: DRIV: MAR: FNGD: GIK: SONO: ODT: FANG: BNTC: ADIL: ORTX: IPOB: AQMS: CNDT: ABIO - thread num: 0  -  53 / 103\n"
     ]
    },
    {
     "name": "stderr",
     "output_type": "stream",
     "text": [
      "\n",
      "\n",
      "Thread num: 4:  52%|██████████████████████████████▍                           | 54/103 [23:10:02<25:02:17, 1839.53s/it]\u001b[A\u001b[A"
     ]
    },
    {
     "name": "stdout",
     "output_type": "stream",
     "text": [
      "completed symbols NH: SNCA: TGA: VBK: ATOM: MKD: TRUL: NLSP: SPLK: SCHO: ALRN: DISCB: TMUS: WIX: SDC: CTEK: PEIX: FAZ: SNGX: AIV: BETZ: ELYS: ORCL: CARV: CAT: AA: CFMS: AQB: MITT: MELI: HMY: SCYX: OXLC: RTX: PBI: WAFU: CTIC: RAD: NXE: SRAC: AMAT: MINT: SIRI: CNSP: MRKR: GHVI: SLDB: PEP: DRRX: IIPR: SVXY: PULM: EVOL: WORX - thread num: 4  -  54 / 103\n"
     ]
    },
    {
     "name": "stderr",
     "output_type": "stream",
     "text": [
      "\n",
      "\n",
      "\n",
      "\n",
      "Thread num: 5:  49%|████████████████████████████▏                             | 50/103 [23:14:20<28:38:05, 1945.01s/it]\u001b[A\u001b[A\u001b[A\u001b[A"
     ]
    },
    {
     "name": "stdout",
     "output_type": "stream",
     "text": [
      "completed symbols EQ: GRIL: UA: LBYYQ: ITUB: EQOS: XERS: FSM: CSIQ: ASAN: QYLD: MGI: PG: MRVL: AESE: OKE: MESO: MRIN: HIBL: SDS: AG: CRIS: CPRX: MIK: ASM: AGQ: ERX: VIG: CLDR: QCLN: IMV: GNOG: ASML: REGN: CATB: ARKX: CHX: JAMF: GPL: XAN: AAME: MIST: TGI: VOE: SPYD: ALJJ: MOXC: PETZ: TUP: AQST - thread num: 5  -  50 / 103\n"
     ]
    },
    {
     "name": "stderr",
     "output_type": "stream",
     "text": [
      "\n",
      "\n",
      "\n",
      "Thread num: 6:  57%|█████████████████████████████████▏                        | 59/103 [23:22:47<26:39:04, 2180.56s/it]\u001b[A\u001b[A\u001b[A"
     ]
    },
    {
     "name": "stdout",
     "output_type": "stream",
     "text": [
      "completed symbols GPRO: CVAC: IRTC: IRM: RWLK: ACI: MGEN: FMCC: PK: CLX: SCO: TMDI: NBAC: AGNC: ABEO: RAVE: CPPRQ: CHKAQ: CRON: GIGM: WPG: XELB: QTT: VXUS: RMG: VTEB: TGC: NYMT: UGAZF: EXK: CLEU: APPH: ANCN: SM: TH: BHTG: HCDI: PZC: SCHD: GS: NIU: PSX: AUY: ZNOG: BIMI: GAU: VERI: ALK: EXPE: IFMK: GORO: ANPC: GDXJ: BEST: SGOL: HL: ZYNE: SONY: PDD - thread num: 6  -  59 / 103\n"
     ]
    },
    {
     "name": "stderr",
     "output_type": "stream",
     "text": [
      "\n",
      "Thread num: 2:  52%|██████████████████████████████▍                           | 54/103 [23:25:16<29:22:47, 2158.52s/it]\u001b[A"
     ]
    },
    {
     "name": "stdout",
     "output_type": "stream",
     "text": [
      "completed symbols AREC: NEXT: STNE: STNG: ENVB: VB: HTGM: PFMT: SWN: VRM: ACTC: ZI: NTN: AMRN: AMPY: PCG: DOW: INFI: YCBD: RCON: HGSH: MNOV: BSV: GLMD: CHGG: IDXX: VO: HX: BLOK: VSTM: MAXR: MTP: SLS: WBA: FINV: EVC: LIT: BEP: BLIN: CAPR: PRNT: AAXN: PSFE: KIQ: MPC: BIIB: SINO: NNVC: PLIN: ILMN: DOGZ: SFTW: GSX: TECL - thread num: 2  -  54 / 103\n"
     ]
    },
    {
     "name": "stderr",
     "output_type": "stream",
     "text": [
      "\n",
      "\n",
      "\n",
      "\n",
      "\n",
      "\n",
      "\n",
      "Thread num: 3:  62%|████████████████████████████████████                      | 64/103 [23:35:07<24:00:39, 2216.39s/it]\u001b[A\u001b[A\u001b[A\u001b[A\u001b[A\u001b[A\u001b[A"
     ]
    },
    {
     "name": "stdout",
     "output_type": "stream",
     "text": [
      "completed symbols FLDM: RCKT: BFLY: BBY: VWAGY: ATNF: AVCO: RVP: BBIG: EFOI: FUSE: AGEN: RKDA: GHIV: IAU: PRQR: PT: SPPI: LIZI: PRPL: INSG: ROOT: RSCF: ICON: CYRN: APTX: IPOD: ARPO: ANY: GAN: ALNA: CPHI: CCO: LVS: AIHS: BUZZ: ORI: ISIG: OCX: GSM: MSTR: ADT: LTHM: DTSS: FISV: COTY: BMY: ACAD: MOGU: STPK: SING: CUK: ERI: NGL: DOYU: FAS: STMP: DMPI: VNQ: YOLO: NOG: BILI: AM: VFF - thread num: 3  -  64 / 103\n"
     ]
    },
    {
     "name": "stderr",
     "output_type": "stream",
     "text": [
      "\n",
      "\n",
      "\n",
      "\n",
      "\n",
      "\n",
      "Thread num: 1:  61%|███████████████████████████████████▍                      | 63/103 [23:43:26<23:14:51, 2092.28s/it]\u001b[A\u001b[A\u001b[A\u001b[A\u001b[A\u001b[A"
     ]
    },
    {
     "name": "stdout",
     "output_type": "stream",
     "text": [
      "completed symbols EGYF: SFIX: NTDOY: SFT: QID: AXP: PSEC: CLPS: KTRA: LC: QD: EKSO: DG: UPRO: THBR: GTHX: ADTX: AUMN: CGIX: BHR: NETE: SPRT: EVRI: CORR: HIBS: CANF: RESN: BOIL: MNMD: SHY: VCNX: NUGT: TCEHY: FTCV: AMTX: FBIO: BVXV: GEENQ: SNES: POTX: AACG: HGEND: AIRI: IEZ: ACY: QLD: TENX: SAN: EPD: XBIO: LGVW: GTEC: RGLS: CVX: DYNT: STCN: AMRS: ETM: FNMA: MLND: VIR: KGC: CYH - thread num: 1  -  63 / 103\n"
     ]
    },
    {
     "name": "stderr",
     "output_type": "stream",
     "text": [
      "\n",
      "\n",
      "\n",
      "Thread num: 6:  58%|█████████████████████████████████▊                        | 60/103 [23:58:33<25:55:11, 2170.04s/it]\u001b[A\u001b[A\u001b[A"
     ]
    },
    {
     "name": "stdout",
     "output_type": "stream",
     "text": [
      "completed symbols GPRO: CVAC: IRTC: IRM: RWLK: ACI: MGEN: FMCC: PK: CLX: SCO: TMDI: NBAC: AGNC: ABEO: RAVE: CPPRQ: CHKAQ: CRON: GIGM: WPG: XELB: QTT: VXUS: RMG: VTEB: TGC: NYMT: UGAZF: EXK: CLEU: APPH: ANCN: SM: TH: BHTG: HCDI: PZC: SCHD: GS: NIU: PSX: AUY: ZNOG: BIMI: GAU: VERI: ALK: EXPE: IFMK: GORO: ANPC: GDXJ: BEST: SGOL: HL: ZYNE: SONY: PDD: PDSB - thread num: 6  -  60 / 103\n"
     ]
    },
    {
     "name": "stderr",
     "output_type": "stream",
     "text": [
      "\n",
      "\n",
      "Thread num: 4:  53%|██████████████████████████████▉                           | 55/103 [23:58:45<28:51:38, 2164.55s/it]\u001b[A\u001b[A"
     ]
    },
    {
     "name": "stdout",
     "output_type": "stream",
     "text": [
      "completed symbols NH: SNCA: TGA: VBK: ATOM: MKD: TRUL: NLSP: SPLK: SCHO: ALRN: DISCB: TMUS: WIX: SDC: CTEK: PEIX: FAZ: SNGX: AIV: BETZ: ELYS: ORCL: CARV: CAT: AA: CFMS: AQB: MITT: MELI: HMY: SCYX: OXLC: RTX: PBI: WAFU: CTIC: RAD: NXE: SRAC: AMAT: MINT: SIRI: CNSP: MRKR: GHVI: SLDB: PEP: DRRX: IIPR: SVXY: PULM: EVOL: WORX: TEVA - thread num: 4  -  55 / 103\n"
     ]
    },
    {
     "name": "stderr",
     "output_type": "stream",
     "text": [
      "\r",
      "Thread num: 0:  52%|██████████████████████████████▍                           | 54/103 [24:03:26<31:27:44, 2311.53s/it]"
     ]
    },
    {
     "name": "stdout",
     "output_type": "stream",
     "text": [
      "completed symbols ENOB: MUDS: IZEA: ONCY: RNET: OVID: LMT: MRK: BIG: SI: VTGN: SVM: THMO: DPZ: KOPN: TIGR: INTU: HUSA: DFS: VZIO: APOP: MCHI: GOL: TAOP: GILD: ACCD: GDRX: FREQ: POSH: RMO: GLSI: AVCT: ZKIN: ABEV: ARLO: MDGS: YGMZ: VOOG: CKPT: DRIV: MAR: FNGD: GIK: SONO: ODT: FANG: BNTC: ADIL: ORTX: IPOB: AQMS: CNDT: ABIO: KSS - thread num: 0  -  54 / 103\n"
     ]
    },
    {
     "name": "stderr",
     "output_type": "stream",
     "text": [
      "\r",
      "Thread num: 0:  53%|██████████████████████████████▉                           | 55/103 [24:04:31<21:49:53, 1637.36s/it]"
     ]
    },
    {
     "name": "stdout",
     "output_type": "stream",
     "text": [
      "completed symbols ENOB: MUDS: IZEA: ONCY: RNET: OVID: LMT: MRK: BIG: SI: VTGN: SVM: THMO: DPZ: KOPN: TIGR: INTU: HUSA: DFS: VZIO: APOP: MCHI: GOL: TAOP: GILD: ACCD: GDRX: FREQ: POSH: RMO: GLSI: AVCT: ZKIN: ABEV: ARLO: MDGS: YGMZ: VOOG: CKPT: DRIV: MAR: FNGD: GIK: SONO: ODT: FANG: BNTC: ADIL: ORTX: IPOB: AQMS: CNDT: ABIO: KSS: CMPD - thread num: 0  -  55 / 103\n"
     ]
    },
    {
     "name": "stderr",
     "output_type": "stream",
     "text": [
      "\n",
      "Thread num: 2:  53%|██████████████████████████████▉                           | 55/103 [24:07:41<30:19:42, 2274.64s/it]\u001b[A"
     ]
    },
    {
     "name": "stdout",
     "output_type": "stream",
     "text": [
      "completed symbols AREC: NEXT: STNE: STNG: ENVB: VB: HTGM: PFMT: SWN: VRM: ACTC: ZI: NTN: AMRN: AMPY: PCG: DOW: INFI: YCBD: RCON: HGSH: MNOV: BSV: GLMD: CHGG: IDXX: VO: HX: BLOK: VSTM: MAXR: MTP: SLS: WBA: FINV: EVC: LIT: BEP: BLIN: CAPR: PRNT: AAXN: PSFE: KIQ: MPC: BIIB: SINO: NNVC: PLIN: ILMN: DOGZ: SFTW: GSX: TECL: UMC - thread num: 2  -  55 / 103\n"
     ]
    },
    {
     "name": "stderr",
     "output_type": "stream",
     "text": [
      "\n",
      "\n",
      "\n",
      "\n",
      "Thread num: 5:  50%|████████████████████████████▋                             | 51/103 [24:10:13<34:11:49, 2367.49s/it]\u001b[A\u001b[A\u001b[A\u001b[A"
     ]
    },
    {
     "name": "stdout",
     "output_type": "stream",
     "text": [
      "completed symbols EQ: GRIL: UA: LBYYQ: ITUB: EQOS: XERS: FSM: CSIQ: ASAN: QYLD: MGI: PG: MRVL: AESE: OKE: MESO: MRIN: HIBL: SDS: AG: CRIS: CPRX: MIK: ASM: AGQ: ERX: VIG: CLDR: QCLN: IMV: GNOG: ASML: REGN: CATB: ARKX: CHX: JAMF: GPL: XAN: AAME: MIST: TGI: VOE: SPYD: ALJJ: MOXC: PETZ: TUP: AQST: MO - thread num: 5  -  51 / 103\n"
     ]
    },
    {
     "name": "stderr",
     "output_type": "stream",
     "text": [
      "\n",
      "\n",
      "\n",
      "\n",
      "\n",
      "\n",
      "\n",
      "Thread num: 3:  63%|████████████████████████████████████▌                     | 65/103 [24:12:02<23:23:18, 2215.76s/it]\u001b[A\u001b[A\u001b[A\u001b[A\u001b[A\u001b[A\u001b[A"
     ]
    },
    {
     "name": "stdout",
     "output_type": "stream",
     "text": [
      "completed symbols FLDM: RCKT: BFLY: BBY: VWAGY: ATNF: AVCO: RVP: BBIG: EFOI: FUSE: AGEN: RKDA: GHIV: IAU: PRQR: PT: SPPI: LIZI: PRPL: INSG: ROOT: RSCF: ICON: CYRN: APTX: IPOD: ARPO: ANY: GAN: ALNA: CPHI: CCO: LVS: AIHS: BUZZ: ORI: ISIG: OCX: GSM: MSTR: ADT: LTHM: DTSS: FISV: COTY: BMY: ACAD: MOGU: STPK: SING: CUK: ERI: NGL: DOYU: FAS: STMP: DMPI: VNQ: YOLO: NOG: BILI: AM: VFF: AGTC - thread num: 3  -  65 / 103\n"
     ]
    },
    {
     "name": "stderr",
     "output_type": "stream",
     "text": [
      "\n",
      "\n",
      "\n",
      "\n",
      "\n",
      "\n",
      "Thread num: 1:  62%|████████████████████████████████████                      | 64/103 [24:16:54<22:23:30, 2066.95s/it]\u001b[A\u001b[A\u001b[A\u001b[A\u001b[A\u001b[A"
     ]
    },
    {
     "name": "stdout",
     "output_type": "stream",
     "text": [
      "completed symbols EGYF: SFIX: NTDOY: SFT: QID: AXP: PSEC: CLPS: KTRA: LC: QD: EKSO: DG: UPRO: THBR: GTHX: ADTX: AUMN: CGIX: BHR: NETE: SPRT: EVRI: CORR: HIBS: CANF: RESN: BOIL: MNMD: SHY: VCNX: NUGT: TCEHY: FTCV: AMTX: FBIO: BVXV: GEENQ: SNES: POTX: AACG: HGEND: AIRI: IEZ: ACY: QLD: TENX: SAN: EPD: XBIO: LGVW: GTEC: RGLS: CVX: DYNT: STCN: AMRS: ETM: FNMA: MLND: VIR: KGC: CYH: SLVO - thread num: 1  -  64 / 103\n"
     ]
    },
    {
     "name": "stderr",
     "output_type": "stream",
     "text": [
      "\n",
      "\n",
      "\n",
      "\n",
      "\n",
      "\n",
      "\n",
      "Thread num: 3:  64%|█████████████████████████████████████▏                    | 66/103 [24:23:31<18:04:03, 1757.92s/it]\u001b[A\u001b[A\u001b[A\u001b[A\u001b[A\u001b[A\u001b[A"
     ]
    },
    {
     "name": "stdout",
     "output_type": "stream",
     "text": [
      "completed symbols FLDM: RCKT: BFLY: BBY: VWAGY: ATNF: AVCO: RVP: BBIG: EFOI: FUSE: AGEN: RKDA: GHIV: IAU: PRQR: PT: SPPI: LIZI: PRPL: INSG: ROOT: RSCF: ICON: CYRN: APTX: IPOD: ARPO: ANY: GAN: ALNA: CPHI: CCO: LVS: AIHS: BUZZ: ORI: ISIG: OCX: GSM: MSTR: ADT: LTHM: DTSS: FISV: COTY: BMY: ACAD: MOGU: STPK: SING: CUK: ERI: NGL: DOYU: FAS: STMP: DMPI: VNQ: YOLO: NOG: BILI: AM: VFF: AGTC: GRAF - thread num: 3  -  66 / 103\n",
      "completed symbols GPRO: CVAC: IRTC: IRM: RWLK: ACI: MGEN: FMCC: PK: CLX: SCO: TMDI: NBAC: AGNC: ABEO: RAVE: CPPRQ: CHKAQ: CRON: GIGM: WPG: XELB: QTT: VXUS: RMG: VTEB: TGC: NYMT: UGAZF: EXK: CLEU: APPH: ANCN: SM: TH: BHTG: HCDI: PZC: SCHD: GS: NIU: PSX: AUY: ZNOG: BIMI: GAU: VERI: ALK: EXPE: IFMK: GORO: ANPC: GDXJ: BEST: SGOL: HL: ZYNE: SONY: PDD: PDSB: MDRR - thread num: 6  -  61 / 103\n"
     ]
    },
    {
     "name": "stderr",
     "output_type": "stream",
     "text": [
      "\n",
      "\n",
      "\n",
      "Thread num: 6:  59%|██████████████████████████████████▎                       | 61/103 [24:32:17<24:48:23, 2126.27s/it]\u001b[A\u001b[A\u001b[A\n",
      "\n",
      "Thread num: 4:  54%|███████████████████████████████▌                          | 56/103 [24:39:19<29:18:58, 2245.49s/it]\u001b[A\u001b[A"
     ]
    },
    {
     "name": "stdout",
     "output_type": "stream",
     "text": [
      "completed symbols NH: SNCA: TGA: VBK: ATOM: MKD: TRUL: NLSP: SPLK: SCHO: ALRN: DISCB: TMUS: WIX: SDC: CTEK: PEIX: FAZ: SNGX: AIV: BETZ: ELYS: ORCL: CARV: CAT: AA: CFMS: AQB: MITT: MELI: HMY: SCYX: OXLC: RTX: PBI: WAFU: CTIC: RAD: NXE: SRAC: AMAT: MINT: SIRI: CNSP: MRKR: GHVI: SLDB: PEP: DRRX: IIPR: SVXY: PULM: EVOL: WORX: TEVA: SPXU - thread num: 4  -  56 / 103\n"
     ]
    },
    {
     "name": "stderr",
     "output_type": "stream",
     "text": [
      "\n",
      "Thread num: 2:  54%|███████████████████████████████▌                          | 56/103 [24:41:33<28:44:43, 2201.79s/it]\u001b[A"
     ]
    },
    {
     "name": "stdout",
     "output_type": "stream",
     "text": [
      "completed symbols AREC: NEXT: STNE: STNG: ENVB: VB: HTGM: PFMT: SWN: VRM: ACTC: ZI: NTN: AMRN: AMPY: PCG: DOW: INFI: YCBD: RCON: HGSH: MNOV: BSV: GLMD: CHGG: IDXX: VO: HX: BLOK: VSTM: MAXR: MTP: SLS: WBA: FINV: EVC: LIT: BEP: BLIN: CAPR: PRNT: AAXN: PSFE: KIQ: MPC: BIIB: SINO: NNVC: PLIN: ILMN: DOGZ: SFTW: GSX: TECL: UMC: CLRB - thread num: 2  -  56 / 103\n"
     ]
    },
    {
     "name": "stderr",
     "output_type": "stream",
     "text": [
      "\n",
      "\n",
      "\n",
      "\n",
      "\n",
      "\n",
      "\n",
      "Thread num: 3:  65%|█████████████████████████████████████▋                    | 67/103 [24:43:36<15:55:06, 1591.85s/it]\u001b[A\u001b[A\u001b[A\u001b[A\u001b[A\u001b[A\u001b[A"
     ]
    },
    {
     "name": "stdout",
     "output_type": "stream",
     "text": [
      "completed symbols FLDM: RCKT: BFLY: BBY: VWAGY: ATNF: AVCO: RVP: BBIG: EFOI: FUSE: AGEN: RKDA: GHIV: IAU: PRQR: PT: SPPI: LIZI: PRPL: INSG: ROOT: RSCF: ICON: CYRN: APTX: IPOD: ARPO: ANY: GAN: ALNA: CPHI: CCO: LVS: AIHS: BUZZ: ORI: ISIG: OCX: GSM: MSTR: ADT: LTHM: DTSS: FISV: COTY: BMY: ACAD: MOGU: STPK: SING: CUK: ERI: NGL: DOYU: FAS: STMP: DMPI: VNQ: YOLO: NOG: BILI: AM: VFF: AGTC: GRAF: VGAC - thread num: 3  -  67 / 103\n"
     ]
    },
    {
     "name": "stderr",
     "output_type": "stream",
     "text": [
      "\n",
      "\n",
      "\n",
      "\n",
      "Thread num: 5:  50%|█████████████████████████████▎                            | 52/103 [24:43:39<31:59:58, 2258.80s/it]\u001b[A\u001b[A\u001b[A\u001b[A"
     ]
    },
    {
     "name": "stdout",
     "output_type": "stream",
     "text": [
      "completed symbols EQ: GRIL: UA: LBYYQ: ITUB: EQOS: XERS: FSM: CSIQ: ASAN: QYLD: MGI: PG: MRVL: AESE: OKE: MESO: MRIN: HIBL: SDS: AG: CRIS: CPRX: MIK: ASM: AGQ: ERX: VIG: CLDR: QCLN: IMV: GNOG: ASML: REGN: CATB: ARKX: CHX: JAMF: GPL: XAN: AAME: MIST: TGI: VOE: SPYD: ALJJ: MOXC: PETZ: TUP: AQST: MO: VV - thread num: 5  -  52 / 103\n"
     ]
    },
    {
     "name": "stderr",
     "output_type": "stream",
     "text": [
      "\r",
      "Thread num: 0:  54%|███████████████████████████████▌                          | 56/103 [24:54:55<26:48:29, 2053.39s/it]"
     ]
    },
    {
     "name": "stdout",
     "output_type": "stream",
     "text": [
      "completed symbols ENOB: MUDS: IZEA: ONCY: RNET: OVID: LMT: MRK: BIG: SI: VTGN: SVM: THMO: DPZ: KOPN: TIGR: INTU: HUSA: DFS: VZIO: APOP: MCHI: GOL: TAOP: GILD: ACCD: GDRX: FREQ: POSH: RMO: GLSI: AVCT: ZKIN: ABEV: ARLO: MDGS: YGMZ: VOOG: CKPT: DRIV: MAR: FNGD: GIK: SONO: ODT: FANG: BNTC: ADIL: ORTX: IPOB: AQMS: CNDT: ABIO: KSS: CMPD: GPS - thread num: 0  -  56 / 103\n"
     ]
    },
    {
     "name": "stderr",
     "output_type": "stream",
     "text": [
      "\n",
      "\n",
      "\n",
      "\n",
      "\n",
      "\n",
      "Thread num: 1:  63%|████████████████████████████████████▌                     | 65/103 [25:08:21<25:02:51, 2372.94s/it]\u001b[A\u001b[A\u001b[A\u001b[A\u001b[A\u001b[A"
     ]
    },
    {
     "name": "stdout",
     "output_type": "stream",
     "text": [
      "completed symbols EGYF: SFIX: NTDOY: SFT: QID: AXP: PSEC: CLPS: KTRA: LC: QD: EKSO: DG: UPRO: THBR: GTHX: ADTX: AUMN: CGIX: BHR: NETE: SPRT: EVRI: CORR: HIBS: CANF: RESN: BOIL: MNMD: SHY: VCNX: NUGT: TCEHY: FTCV: AMTX: FBIO: BVXV: GEENQ: SNES: POTX: AACG: HGEND: AIRI: IEZ: ACY: QLD: TENX: SAN: EPD: XBIO: LGVW: GTEC: RGLS: CVX: DYNT: STCN: AMRS: ETM: FNMA: MLND: VIR: KGC: CYH: SLVO: FUTU - thread num: 1  -  65 / 103\n"
     ]
    },
    {
     "name": "stderr",
     "output_type": "stream",
     "text": [
      "\n",
      "\n",
      "Thread num: 4:  55%|████████████████████████████████                          | 57/103 [25:16:33<28:38:49, 2241.96s/it]\u001b[A\u001b[A"
     ]
    },
    {
     "name": "stdout",
     "output_type": "stream",
     "text": [
      "completed symbols NH: SNCA: TGA: VBK: ATOM: MKD: TRUL: NLSP: SPLK: SCHO: ALRN: DISCB: TMUS: WIX: SDC: CTEK: PEIX: FAZ: SNGX: AIV: BETZ: ELYS: ORCL: CARV: CAT: AA: CFMS: AQB: MITT: MELI: HMY: SCYX: OXLC: RTX: PBI: WAFU: CTIC: RAD: NXE: SRAC: AMAT: MINT: SIRI: CNSP: MRKR: GHVI: SLDB: PEP: DRRX: IIPR: SVXY: PULM: EVOL: WORX: TEVA: SPXU: VBR - thread num: 4  -  57 / 103\n"
     ]
    },
    {
     "name": "stderr",
     "output_type": "stream",
     "text": [
      "\n"
     ]
    },
    {
     "name": "stdout",
     "output_type": "stream",
     "text": [
      "completed symbols AREC: NEXT: STNE: STNG: ENVB: VB: HTGM: PFMT: SWN: VRM: ACTC: ZI: NTN: AMRN: AMPY: PCG: DOW: INFI: YCBD: RCON: HGSH: MNOV: BSV: GLMD: CHGG: IDXX: VO: HX: BLOK: VSTM: MAXR: MTP: SLS: WBA: FINV: EVC: LIT: BEP: BLIN: CAPR: PRNT: AAXN: PSFE: KIQ: MPC: BIIB: SINO: NNVC: PLIN: ILMN: DOGZ: SFTW: GSX: TECL: UMC: CLRB: MITO - thread num: 2  -  57 / 103\n"
     ]
    },
    {
     "name": "stderr",
     "output_type": "stream",
     "text": [
      "Thread num: 2:  55%|████████████████████████████████                          | 57/103 [25:19:25<28:24:06, 2222.76s/it]\u001b[A\n",
      "\n",
      "\n",
      "\n",
      "Thread num: 5:  51%|█████████████████████████████▊                            | 53/103 [25:19:28<30:54:56, 2225.94s/it]\u001b[A\u001b[A\u001b[A\u001b[A"
     ]
    },
    {
     "name": "stdout",
     "output_type": "stream",
     "text": [
      "completed symbols EQ: GRIL: UA: LBYYQ: ITUB: EQOS: XERS: FSM: CSIQ: ASAN: QYLD: MGI: PG: MRVL: AESE: OKE: MESO: MRIN: HIBL: SDS: AG: CRIS: CPRX: MIK: ASM: AGQ: ERX: VIG: CLDR: QCLN: IMV: GNOG: ASML: REGN: CATB: ARKX: CHX: JAMF: GPL: XAN: AAME: MIST: TGI: VOE: SPYD: ALJJ: MOXC: PETZ: TUP: AQST: MO: VV: CSLT - thread num: 5  -  53 / 103\n"
     ]
    },
    {
     "name": "stderr",
     "output_type": "stream",
     "text": [
      "\n",
      "\n",
      "\n",
      "Thread num: 6:  60%|██████████████████████████████████▉                       | 62/103 [25:23:16<27:24:07, 2406.04s/it]"
     ]
    },
    {
     "name": "stdout",
     "output_type": "stream",
     "text": [
      "completed symbols GPRO: CVAC: IRTC: IRM: RWLK: ACI: MGEN: FMCC: PK: CLX: SCO: TMDI: NBAC: AGNC: ABEO: RAVE: CPPRQ: CHKAQ: CRON: GIGM: WPG: XELB: QTT: VXUS: RMG: VTEB: TGC: NYMT: UGAZF: EXK: CLEU: APPH: ANCN: SM: TH: BHTG: HCDI: PZC: SCHD: GS: NIU: PSX: AUY: ZNOG: BIMI: GAU: VERI: ALK: EXPE: IFMK: GORO: ANPC: GDXJ: BEST: SGOL: HL: ZYNE: SONY: PDD: PDSB: MDRR: COF - thread num: 6  -  62 / 103\n"
     ]
    },
    {
     "name": "stderr",
     "output_type": "stream",
     "text": [
      "\u001b[A\u001b[A\u001b[A\n",
      "\n",
      "\n",
      "\n",
      "\n",
      "\n",
      "\n",
      "Thread num: 3:  66%|██████████████████████████████████████▎                   | 68/103 [25:31:38<19:14:22, 1978.93s/it]\u001b[A\u001b[A\u001b[A\u001b[A\u001b[A\u001b[A\u001b[A"
     ]
    },
    {
     "name": "stdout",
     "output_type": "stream",
     "text": [
      "completed symbols FLDM: RCKT: BFLY: BBY: VWAGY: ATNF: AVCO: RVP: BBIG: EFOI: FUSE: AGEN: RKDA: GHIV: IAU: PRQR: PT: SPPI: LIZI: PRPL: INSG: ROOT: RSCF: ICON: CYRN: APTX: IPOD: ARPO: ANY: GAN: ALNA: CPHI: CCO: LVS: AIHS: BUZZ: ORI: ISIG: OCX: GSM: MSTR: ADT: LTHM: DTSS: FISV: COTY: BMY: ACAD: MOGU: STPK: SING: CUK: ERI: NGL: DOYU: FAS: STMP: DMPI: VNQ: YOLO: NOG: BILI: AM: VFF: AGTC: GRAF: VGAC: BDX - thread num: 3  -  68 / 103\n"
     ]
    },
    {
     "name": "stderr",
     "output_type": "stream",
     "text": [
      "\n",
      "Thread num: 2:  56%|████████████████████████████████▋                         | 58/103 [25:39:56<24:03:54, 1925.22s/it]\u001b[A"
     ]
    },
    {
     "name": "stdout",
     "output_type": "stream",
     "text": [
      "completed symbols AREC: NEXT: STNE: STNG: ENVB: VB: HTGM: PFMT: SWN: VRM: ACTC: ZI: NTN: AMRN: AMPY: PCG: DOW: INFI: YCBD: RCON: HGSH: MNOV: BSV: GLMD: CHGG: IDXX: VO: HX: BLOK: VSTM: MAXR: MTP: SLS: WBA: FINV: EVC: LIT: BEP: BLIN: CAPR: PRNT: AAXN: PSFE: KIQ: MPC: BIIB: SINO: NNVC: PLIN: ILMN: DOGZ: SFTW: GSX: TECL: UMC: CLRB: MITO: POWW - thread num: 2  -  58 / 103\n"
     ]
    },
    {
     "name": "stderr",
     "output_type": "stream",
     "text": [
      "\r",
      "Thread num: 0:  55%|████████████████████████████████                          | 57/103 [25:57:57<32:51:54, 2572.05s/it]"
     ]
    },
    {
     "name": "stdout",
     "output_type": "stream",
     "text": [
      "completed symbols ENOB: MUDS: IZEA: ONCY: RNET: OVID: LMT: MRK: BIG: SI: VTGN: SVM: THMO: DPZ: KOPN: TIGR: INTU: HUSA: DFS: VZIO: APOP: MCHI: GOL: TAOP: GILD: ACCD: GDRX: FREQ: POSH: RMO: GLSI: AVCT: ZKIN: ABEV: ARLO: MDGS: YGMZ: VOOG: CKPT: DRIV: MAR: FNGD: GIK: SONO: ODT: FANG: BNTC: ADIL: ORTX: IPOB: AQMS: CNDT: ABIO: KSS: CMPD: GPS: HAL - thread num: 0  -  57 / 103\n"
     ]
    },
    {
     "name": "stderr",
     "output_type": "stream",
     "text": [
      "\n",
      "\n",
      "\n",
      "\n",
      "Thread num: 5:  52%|██████████████████████████████▍                           | 54/103 [25:59:02<30:54:05, 2270.32s/it]\u001b[A\u001b[A\u001b[A\u001b[A"
     ]
    },
    {
     "name": "stdout",
     "output_type": "stream",
     "text": [
      "completed symbols EQ: GRIL: UA: LBYYQ: ITUB: EQOS: XERS: FSM: CSIQ: ASAN: QYLD: MGI: PG: MRVL: AESE: OKE: MESO: MRIN: HIBL: SDS: AG: CRIS: CPRX: MIK: ASM: AGQ: ERX: VIG: CLDR: QCLN: IMV: GNOG: ASML: REGN: CATB: ARKX: CHX: JAMF: GPL: XAN: AAME: MIST: TGI: VOE: SPYD: ALJJ: MOXC: PETZ: TUP: AQST: MO: VV: CSLT: HUGE - thread num: 5  -  54 / 103\n"
     ]
    },
    {
     "name": "stderr",
     "output_type": "stream",
     "text": [
      "\n",
      "\n",
      "Thread num: 4:  56%|████████████████████████████████▋                         | 58/103 [25:59:38<29:18:42, 2344.94s/it]\u001b[A\u001b[A"
     ]
    },
    {
     "name": "stdout",
     "output_type": "stream",
     "text": [
      "completed symbols NH: SNCA: TGA: VBK: ATOM: MKD: TRUL: NLSP: SPLK: SCHO: ALRN: DISCB: TMUS: WIX: SDC: CTEK: PEIX: FAZ: SNGX: AIV: BETZ: ELYS: ORCL: CARV: CAT: AA: CFMS: AQB: MITT: MELI: HMY: SCYX: OXLC: RTX: PBI: WAFU: CTIC: RAD: NXE: SRAC: AMAT: MINT: SIRI: CNSP: MRKR: GHVI: SLDB: PEP: DRRX: IIPR: SVXY: PULM: EVOL: WORX: TEVA: SPXU: VBR: GLUU - thread num: 4  -  58 / 103\n"
     ]
    },
    {
     "name": "stderr",
     "output_type": "stream",
     "text": [
      "\n",
      "\n",
      "\n",
      "\n",
      "Thread num: 5:  53%|██████████████████████████████▉                           | 55/103 [26:00:03<21:26:03, 1607.58s/it]\u001b[A\u001b[A\u001b[A\u001b[A"
     ]
    },
    {
     "name": "stdout",
     "output_type": "stream",
     "text": [
      "completed symbols EQ: GRIL: UA: LBYYQ: ITUB: EQOS: XERS: FSM: CSIQ: ASAN: QYLD: MGI: PG: MRVL: AESE: OKE: MESO: MRIN: HIBL: SDS: AG: CRIS: CPRX: MIK: ASM: AGQ: ERX: VIG: CLDR: QCLN: IMV: GNOG: ASML: REGN: CATB: ARKX: CHX: JAMF: GPL: XAN: AAME: MIST: TGI: VOE: SPYD: ALJJ: MOXC: PETZ: TUP: AQST: MO: VV: CSLT: HUGE: ZEST - thread num: 5  -  55 / 103\n"
     ]
    },
    {
     "name": "stderr",
     "output_type": "stream",
     "text": [
      "\n",
      "\n",
      "\n",
      "Thread num: 6:  61%|███████████████████████████████████▍                      | 63/103 [26:01:22<26:20:06, 2370.17s/it]\u001b[A\u001b[A\u001b[A"
     ]
    },
    {
     "name": "stdout",
     "output_type": "stream",
     "text": [
      "completed symbols GPRO: CVAC: IRTC: IRM: RWLK: ACI: MGEN: FMCC: PK: CLX: SCO: TMDI: NBAC: AGNC: ABEO: RAVE: CPPRQ: CHKAQ: CRON: GIGM: WPG: XELB: QTT: VXUS: RMG: VTEB: TGC: NYMT: UGAZF: EXK: CLEU: APPH: ANCN: SM: TH: BHTG: HCDI: PZC: SCHD: GS: NIU: PSX: AUY: ZNOG: BIMI: GAU: VERI: ALK: EXPE: IFMK: GORO: ANPC: GDXJ: BEST: SGOL: HL: ZYNE: SONY: PDD: PDSB: MDRR: COF: AEMD - thread num: 6  -  63 / 103\n"
     ]
    },
    {
     "name": "stderr",
     "output_type": "stream",
     "text": [
      "\n",
      "\n",
      "\n",
      "\n",
      "\n",
      "\n",
      "Thread num: 1:  64%|█████████████████████████████████████▏                    | 66/103 [26:02:30<27:05:27, 2635.89s/it]\u001b[A\u001b[A\u001b[A\u001b[A\u001b[A\u001b[A"
     ]
    },
    {
     "name": "stdout",
     "output_type": "stream",
     "text": [
      "completed symbols EGYF: SFIX: NTDOY: SFT: QID: AXP: PSEC: CLPS: KTRA: LC: QD: EKSO: DG: UPRO: THBR: GTHX: ADTX: AUMN: CGIX: BHR: NETE: SPRT: EVRI: CORR: HIBS: CANF: RESN: BOIL: MNMD: SHY: VCNX: NUGT: TCEHY: FTCV: AMTX: FBIO: BVXV: GEENQ: SNES: POTX: AACG: HGEND: AIRI: IEZ: ACY: QLD: TENX: SAN: EPD: XBIO: LGVW: GTEC: RGLS: CVX: DYNT: STCN: AMRS: ETM: FNMA: MLND: VIR: KGC: CYH: SLVO: FUTU: VWO - thread num: 1  -  66 / 103\n"
     ]
    },
    {
     "name": "stderr",
     "output_type": "stream",
     "text": [
      "\n",
      "\n",
      "\n",
      "\n",
      "\n",
      "\n",
      "\n",
      "Thread num: 3:  67%|██████████████████████████████████████▊                   | 69/103 [26:10:58<19:46:18, 2093.49s/it]\u001b[A\u001b[A\u001b[A\u001b[A\u001b[A\u001b[A\u001b[A"
     ]
    },
    {
     "name": "stdout",
     "output_type": "stream",
     "text": [
      "completed symbols FLDM: RCKT: BFLY: BBY: VWAGY: ATNF: AVCO: RVP: BBIG: EFOI: FUSE: AGEN: RKDA: GHIV: IAU: PRQR: PT: SPPI: LIZI: PRPL: INSG: ROOT: RSCF: ICON: CYRN: APTX: IPOD: ARPO: ANY: GAN: ALNA: CPHI: CCO: LVS: AIHS: BUZZ: ORI: ISIG: OCX: GSM: MSTR: ADT: LTHM: DTSS: FISV: COTY: BMY: ACAD: MOGU: STPK: SING: CUK: ERI: NGL: DOYU: FAS: STMP: DMPI: VNQ: YOLO: NOG: BILI: AM: VFF: AGTC: GRAF: VGAC: BDX: DRIP - thread num: 3  -  69 / 103\n"
     ]
    },
    {
     "name": "stderr",
     "output_type": "stream",
     "text": [
      "\r",
      "Thread num: 0:  56%|████████████████████████████████▋                         | 58/103 [26:18:18<27:04:59, 2166.65s/it]"
     ]
    },
    {
     "name": "stdout",
     "output_type": "stream",
     "text": [
      "completed symbols ENOB: MUDS: IZEA: ONCY: RNET: OVID: LMT: MRK: BIG: SI: VTGN: SVM: THMO: DPZ: KOPN: TIGR: INTU: HUSA: DFS: VZIO: APOP: MCHI: GOL: TAOP: GILD: ACCD: GDRX: FREQ: POSH: RMO: GLSI: AVCT: ZKIN: ABEV: ARLO: MDGS: YGMZ: VOOG: CKPT: DRIV: MAR: FNGD: GIK: SONO: ODT: FANG: BNTC: ADIL: ORTX: IPOB: AQMS: CNDT: ABIO: KSS: CMPD: GPS: HAL: ACIC - thread num: 0  -  58 / 103\n"
     ]
    },
    {
     "name": "stderr",
     "output_type": "stream",
     "text": [
      "\n",
      "\n",
      "\n",
      "Thread num: 6:  62%|████████████████████████████████████                      | 64/103 [26:42:55<26:04:31, 2406.97s/it]\u001b[A\u001b[A\u001b[A"
     ]
    },
    {
     "name": "stdout",
     "output_type": "stream",
     "text": [
      "completed symbols GPRO: CVAC: IRTC: IRM: RWLK: ACI: MGEN: FMCC: PK: CLX: SCO: TMDI: NBAC: AGNC: ABEO: RAVE: CPPRQ: CHKAQ: CRON: GIGM: WPG: XELB: QTT: VXUS: RMG: VTEB: TGC: NYMT: UGAZF: EXK: CLEU: APPH: ANCN: SM: TH: BHTG: HCDI: PZC: SCHD: GS: NIU: PSX: AUY: ZNOG: BIMI: GAU: VERI: ALK: EXPE: IFMK: GORO: ANPC: GDXJ: BEST: SGOL: HL: ZYNE: SONY: PDD: PDSB: MDRR: COF: AEMD: SCHB - thread num: 6  -  64 / 103\n"
     ]
    },
    {
     "name": "stderr",
     "output_type": "stream",
     "text": [
      "\n",
      "\n",
      "Thread num: 4:  57%|█████████████████████████████████▏                        | 59/103 [26:46:28<30:21:48, 2484.30s/it]\u001b[A\u001b[A"
     ]
    },
    {
     "name": "stdout",
     "output_type": "stream",
     "text": [
      "completed symbols NH: SNCA: TGA: VBK: ATOM: MKD: TRUL: NLSP: SPLK: SCHO: ALRN: DISCB: TMUS: WIX: SDC: CTEK: PEIX: FAZ: SNGX: AIV: BETZ: ELYS: ORCL: CARV: CAT: AA: CFMS: AQB: MITT: MELI: HMY: SCYX: OXLC: RTX: PBI: WAFU: CTIC: RAD: NXE: SRAC: AMAT: MINT: SIRI: CNSP: MRKR: GHVI: SLDB: PEP: DRRX: IIPR: SVXY: PULM: EVOL: WORX: TEVA: SPXU: VBR: GLUU: SKT - thread num: 4  -  59 / 103\n"
     ]
    },
    {
     "name": "stderr",
     "output_type": "stream",
     "text": [
      "\n",
      "\n",
      "\n",
      "\n",
      "\n",
      "\n",
      "\n",
      "Thread num: 3:  68%|███████████████████████████████████████▍                  | 70/103 [26:47:46<19:30:13, 2127.68s/it]"
     ]
    },
    {
     "name": "stdout",
     "output_type": "stream",
     "text": [
      "completed symbols FLDM: RCKT: BFLY: BBY: VWAGY: ATNF: AVCO: RVP: BBIG: EFOI: FUSE: AGEN: RKDA: GHIV: IAU: PRQR: PT: SPPI: LIZI: PRPL: INSG: ROOT: RSCF: ICON: CYRN: APTX: IPOD: ARPO: ANY: GAN: ALNA: CPHI: CCO: LVS: AIHS: BUZZ: ORI: ISIG: OCX: GSM: MSTR: ADT: LTHM: DTSS: FISV: COTY: BMY: ACAD: MOGU: STPK: SING: CUK: ERI: NGL: DOYU: FAS: STMP: DMPI: VNQ: YOLO: NOG: BILI: AM: VFF: AGTC: GRAF: VGAC: BDX: DRIP: PTY - thread num: 3  -  70 / 103\n"
     ]
    },
    {
     "name": "stderr",
     "output_type": "stream",
     "text": [
      "\u001b[A\u001b[A\u001b[A\u001b[A\u001b[A\u001b[A\u001b[A\n",
      "\n",
      "\n",
      "\n",
      "Thread num: 5:  54%|███████████████████████████████▌                          | 56/103 [26:53:30<27:15:10, 2087.45s/it]\u001b[A\u001b[A\u001b[A\u001b[A"
     ]
    },
    {
     "name": "stdout",
     "output_type": "stream",
     "text": [
      "completed symbols EQ: GRIL: UA: LBYYQ: ITUB: EQOS: XERS: FSM: CSIQ: ASAN: QYLD: MGI: PG: MRVL: AESE: OKE: MESO: MRIN: HIBL: SDS: AG: CRIS: CPRX: MIK: ASM: AGQ: ERX: VIG: CLDR: QCLN: IMV: GNOG: ASML: REGN: CATB: ARKX: CHX: JAMF: GPL: XAN: AAME: MIST: TGI: VOE: SPYD: ALJJ: MOXC: PETZ: TUP: AQST: MO: VV: CSLT: HUGE: ZEST: SPR - thread num: 5  -  56 / 103\n"
     ]
    },
    {
     "name": "stderr",
     "output_type": "stream",
     "text": [
      "\n",
      "\n",
      "\n",
      "\n",
      "\n",
      "\n",
      "Thread num: 1:  65%|█████████████████████████████████████▋                    | 67/103 [26:53:47<27:41:00, 2768.35s/it]\u001b[A\u001b[A\u001b[A\u001b[A\u001b[A\u001b[A"
     ]
    },
    {
     "name": "stdout",
     "output_type": "stream",
     "text": [
      "completed symbols EGYF: SFIX: NTDOY: SFT: QID: AXP: PSEC: CLPS: KTRA: LC: QD: EKSO: DG: UPRO: THBR: GTHX: ADTX: AUMN: CGIX: BHR: NETE: SPRT: EVRI: CORR: HIBS: CANF: RESN: BOIL: MNMD: SHY: VCNX: NUGT: TCEHY: FTCV: AMTX: FBIO: BVXV: GEENQ: SNES: POTX: AACG: HGEND: AIRI: IEZ: ACY: QLD: TENX: SAN: EPD: XBIO: LGVW: GTEC: RGLS: CVX: DYNT: STCN: AMRS: ETM: FNMA: MLND: VIR: KGC: CYH: SLVO: FUTU: VWO: CCI - thread num: 1  -  67 / 103\n"
     ]
    },
    {
     "name": "stderr",
     "output_type": "stream",
     "text": [
      "\n",
      "\n",
      "\n",
      "\n",
      "\n",
      "\n",
      "Thread num: 1:  66%|██████████████████████████████████████▎                   | 68/103 [27:06:01<20:58:49, 2157.98s/it]"
     ]
    },
    {
     "name": "stdout",
     "output_type": "stream",
     "text": [
      "completed symbols EGYF: SFIX: NTDOY: SFT: QID: AXP: PSEC: CLPS: KTRA: LC: QD: EKSO: DG: UPRO: THBR: GTHX: ADTX: AUMN: CGIX: BHR: NETE: SPRT: EVRI: CORR: HIBS: CANF: RESN: BOIL: MNMD: SHY: VCNX: NUGT: TCEHY: FTCV: AMTX: FBIO: BVXV: GEENQ: SNES: POTX: AACG: HGEND: AIRI: IEZ: ACY: QLD: TENX: SAN: EPD: XBIO: LGVW: GTEC: RGLS: CVX: DYNT: STCN: AMRS: ETM: FNMA: MLND: VIR: KGC: CYH: SLVO: FUTU: VWO: CCI: CUEN - thread num: 1  -  68 / 103\n"
     ]
    },
    {
     "name": "stderr",
     "output_type": "stream",
     "text": [
      "\u001b[A\u001b[A\u001b[A\u001b[A\u001b[A\u001b[A\n"
     ]
    },
    {
     "name": "stdout",
     "output_type": "stream",
     "text": [
      "completed symbols AREC: NEXT: STNE: STNG: ENVB: VB: HTGM: PFMT: SWN: VRM: ACTC: ZI: NTN: AMRN: AMPY: PCG: DOW: INFI: YCBD: RCON: HGSH: MNOV: BSV: GLMD: CHGG: IDXX: VO: HX: BLOK: VSTM: MAXR: MTP: SLS: WBA: FINV: EVC: LIT: BEP: BLIN: CAPR: PRNT: AAXN: PSFE: KIQ: MPC: BIIB: SINO: NNVC: PLIN: ILMN: DOGZ: SFTW: GSX: TECL: UMC: CLRB: MITO: POWW: GDX - thread num: 2  -  59 / 103\n"
     ]
    },
    {
     "name": "stderr",
     "output_type": "stream",
     "text": [
      "Thread num: 0:  57%|█████████████████████████████████▏                        | 59/103 [27:08:58<29:41:05, 2428.76s/it]\u001b[A"
     ]
    },
    {
     "name": "stdout",
     "output_type": "stream",
     "text": [
      "completed symbols ENOB: MUDS: IZEA: ONCY: RNET: OVID: LMT: MRK: BIG: SI: VTGN: SVM: THMO: DPZ: KOPN: TIGR: INTU: HUSA: DFS: VZIO: APOP: MCHI: GOL: TAOP: GILD: ACCD: GDRX: FREQ: POSH: RMO: GLSI: AVCT: ZKIN: ABEV: ARLO: MDGS: YGMZ: VOOG: CKPT: DRIV: MAR: FNGD: GIK: SONO: ODT: FANG: BNTC: ADIL: ORTX: IPOB: AQMS: CNDT: ABIO: KSS: CMPD: GPS: HAL: ACIC: TSN - thread num: 0  -  59 / 103\n"
     ]
    },
    {
     "name": "stderr",
     "output_type": "stream",
     "text": [
      "\n",
      "\n",
      "Thread num: 4:  58%|█████████████████████████████████▊                        | 60/103 [27:23:17<28:41:12, 2401.68s/it]\u001b[A\u001b[A"
     ]
    },
    {
     "name": "stdout",
     "output_type": "stream",
     "text": [
      "completed symbols NH: SNCA: TGA: VBK: ATOM: MKD: TRUL: NLSP: SPLK: SCHO: ALRN: DISCB: TMUS: WIX: SDC: CTEK: PEIX: FAZ: SNGX: AIV: BETZ: ELYS: ORCL: CARV: CAT: AA: CFMS: AQB: MITT: MELI: HMY: SCYX: OXLC: RTX: PBI: WAFU: CTIC: RAD: NXE: SRAC: AMAT: MINT: SIRI: CNSP: MRKR: GHVI: SLDB: PEP: DRRX: IIPR: SVXY: PULM: EVOL: WORX: TEVA: SPXU: VBR: GLUU: SKT: BIL - thread num: 4  -  60 / 103\n",
      "completed symbols GPRO: CVAC: IRTC: IRM: RWLK: ACI: MGEN: FMCC: PK: CLX: SCO: TMDI: NBAC: AGNC: ABEO: RAVE: CPPRQ: CHKAQ: CRON: GIGM: WPG: XELB: QTT: VXUS: RMG: VTEB: TGC: NYMT: UGAZF: EXK: CLEU: APPH: ANCN: SM: TH: BHTG: HCDI: PZC: SCHD: GS: NIU: PSX: AUY: ZNOG: BIMI: GAU: VERI: ALK: EXPE: IFMK: GORO: ANPC: GDXJ: BEST: SGOL: HL: ZYNE: SONY: PDD: PDSB: MDRR: COF: AEMD: SCHB: LYV - thread num: 6  -  65 "
     ]
    },
    {
     "name": "stderr",
     "output_type": "stream",
     "text": [
      "\n",
      "\n",
      "\n",
      "Thread num: 6:  63%|████████████████████████████████████▌                     | 65/103 [27:30:05<26:44:46, 2533.86s/it]\u001b[A\u001b[A\u001b[A"
     ]
    },
    {
     "name": "stdout",
     "output_type": "stream",
     "text": [
      "/ 103\n"
     ]
    },
    {
     "name": "stderr",
     "output_type": "stream",
     "text": [
      "\n",
      "\n",
      "\n",
      "\n",
      "\n",
      "\n",
      "\n",
      "Thread num: 3:  69%|███████████████████████████████████████▉                  | 71/103 [27:37:29<21:11:33, 2384.18s/it]\u001b[A\u001b[A\u001b[A\u001b[A\u001b[A\u001b[A\u001b[A"
     ]
    },
    {
     "name": "stdout",
     "output_type": "stream",
     "text": [
      "completed symbols FLDM: RCKT: BFLY: BBY: VWAGY: ATNF: AVCO: RVP: BBIG: EFOI: FUSE: AGEN: RKDA: GHIV: IAU: PRQR: PT: SPPI: LIZI: PRPL: INSG: ROOT: RSCF: ICON: CYRN: APTX: IPOD: ARPO: ANY: GAN: ALNA: CPHI: CCO: LVS: AIHS: BUZZ: ORI: ISIG: OCX: GSM: MSTR: ADT: LTHM: DTSS: FISV: COTY: BMY: ACAD: MOGU: STPK: SING: CUK: ERI: NGL: DOYU: FAS: STMP: DMPI: VNQ: YOLO: NOG: BILI: AM: VFF: AGTC: GRAF: VGAC: BDX: DRIP: PTY: NEE - thread num: 3  -  71 / 103\n"
     ]
    },
    {
     "name": "stderr",
     "output_type": "stream",
     "text": [
      "\n",
      "\n",
      "\n",
      "\n",
      "Thread num: 5:  55%|████████████████████████████████                          | 57/103 [27:40:12<29:24:43, 2301.81s/it]\u001b[A\u001b[A\u001b[A\u001b[A"
     ]
    },
    {
     "name": "stdout",
     "output_type": "stream",
     "text": [
      "completed symbols EQ: GRIL: UA: LBYYQ: ITUB: EQOS: XERS: FSM: CSIQ: ASAN: QYLD: MGI: PG: MRVL: AESE: OKE: MESO: MRIN: HIBL: SDS: AG: CRIS: CPRX: MIK: ASM: AGQ: ERX: VIG: CLDR: QCLN: IMV: GNOG: ASML: REGN: CATB: ARKX: CHX: JAMF: GPL: XAN: AAME: MIST: TGI: VOE: SPYD: ALJJ: MOXC: PETZ: TUP: AQST: MO: VV: CSLT: HUGE: ZEST: SPR: FE - thread num: 5  -  57 / 103\n"
     ]
    },
    {
     "name": "stderr",
     "output_type": "stream",
     "text": [
      "\n",
      "\n",
      "\n",
      "\n",
      "\n",
      "\n",
      "Thread num: 1:  67%|██████████████████████████████████████▊                   | 69/103 [27:40:53<20:11:31, 2138.00s/it]\u001b[A\u001b[A\u001b[A\u001b[A\u001b[A\u001b[A"
     ]
    },
    {
     "name": "stdout",
     "output_type": "stream",
     "text": [
      "completed symbols EGYF: SFIX: NTDOY: SFT: QID: AXP: PSEC: CLPS: KTRA: LC: QD: EKSO: DG: UPRO: THBR: GTHX: ADTX: AUMN: CGIX: BHR: NETE: SPRT: EVRI: CORR: HIBS: CANF: RESN: BOIL: MNMD: SHY: VCNX: NUGT: TCEHY: FTCV: AMTX: FBIO: BVXV: GEENQ: SNES: POTX: AACG: HGEND: AIRI: IEZ: ACY: QLD: TENX: SAN: EPD: XBIO: LGVW: GTEC: RGLS: CVX: DYNT: STCN: AMRS: ETM: FNMA: MLND: VIR: KGC: CYH: SLVO: FUTU: VWO: CCI: CUEN: PSQ - thread num: 1  -  69 / 103\n"
     ]
    },
    {
     "name": "stderr",
     "output_type": "stream",
     "text": [
      "\n",
      "Thread num: 2:  58%|█████████████████████████████████▊                        | 60/103 [27:41:58<31:51:44, 2667.54s/it]\u001b[A"
     ]
    },
    {
     "name": "stdout",
     "output_type": "stream",
     "text": [
      "completed symbols AREC: NEXT: STNE: STNG: ENVB: VB: HTGM: PFMT: SWN: VRM: ACTC: ZI: NTN: AMRN: AMPY: PCG: DOW: INFI: YCBD: RCON: HGSH: MNOV: BSV: GLMD: CHGG: IDXX: VO: HX: BLOK: VSTM: MAXR: MTP: SLS: WBA: FINV: EVC: LIT: BEP: BLIN: CAPR: PRNT: AAXN: PSFE: KIQ: MPC: BIIB: SINO: NNVC: PLIN: ILMN: DOGZ: SFTW: GSX: TECL: UMC: CLRB: MITO: POWW: GDX: PAYS - thread num: 2  -  60 / 103\n"
     ]
    },
    {
     "name": "stderr",
     "output_type": "stream",
     "text": [
      "\r",
      "Thread num: 0:  58%|█████████████████████████████████▊                        | 60/103 [27:42:55<27:36:16, 2311.08s/it]"
     ]
    },
    {
     "name": "stdout",
     "output_type": "stream",
     "text": [
      "completed symbols ENOB: MUDS: IZEA: ONCY: RNET: OVID: LMT: MRK: BIG: SI: VTGN: SVM: THMO: DPZ: KOPN: TIGR: INTU: HUSA: DFS: VZIO: APOP: MCHI: GOL: TAOP: GILD: ACCD: GDRX: FREQ: POSH: RMO: GLSI: AVCT: ZKIN: ABEV: ARLO: MDGS: YGMZ: VOOG: CKPT: DRIV: MAR: FNGD: GIK: SONO: ODT: FANG: BNTC: ADIL: ORTX: IPOB: AQMS: CNDT: ABIO: KSS: CMPD: GPS: HAL: ACIC: TSN: PHIO - thread num: 0  -  60 / 103\n"
     ]
    },
    {
     "name": "stderr",
     "output_type": "stream",
     "text": [
      "\n",
      "\n",
      "\n",
      "\n",
      "\n",
      "\n",
      "\n",
      "Thread num: 3:  70%|████████████████████████████████████████▌                 | 72/103 [27:46:23<15:45:08, 1829.30s/it]\u001b[A\u001b[A\u001b[A\u001b[A\u001b[A\u001b[A\u001b[A"
     ]
    },
    {
     "name": "stdout",
     "output_type": "stream",
     "text": [
      "completed symbols FLDM: RCKT: BFLY: BBY: VWAGY: ATNF: AVCO: RVP: BBIG: EFOI: FUSE: AGEN: RKDA: GHIV: IAU: PRQR: PT: SPPI: LIZI: PRPL: INSG: ROOT: RSCF: ICON: CYRN: APTX: IPOD: ARPO: ANY: GAN: ALNA: CPHI: CCO: LVS: AIHS: BUZZ: ORI: ISIG: OCX: GSM: MSTR: ADT: LTHM: DTSS: FISV: COTY: BMY: ACAD: MOGU: STPK: SING: CUK: ERI: NGL: DOYU: FAS: STMP: DMPI: VNQ: YOLO: NOG: BILI: AM: VFF: AGTC: GRAF: VGAC: BDX: DRIP: PTY: NEE: MNLO - thread num: 3  -  72 / 103\n"
     ]
    },
    {
     "name": "stderr",
     "output_type": "stream",
     "text": [
      "\n",
      "\n",
      "Thread num: 4:  59%|██████████████████████████████████▎                       | 61/103 [27:55:40<26:24:56, 2264.21s/it]\u001b[A\u001b[A"
     ]
    },
    {
     "name": "stdout",
     "output_type": "stream",
     "text": [
      "completed symbols NH: SNCA: TGA: VBK: ATOM: MKD: TRUL: NLSP: SPLK: SCHO: ALRN: DISCB: TMUS: WIX: SDC: CTEK: PEIX: FAZ: SNGX: AIV: BETZ: ELYS: ORCL: CARV: CAT: AA: CFMS: AQB: MITT: MELI: HMY: SCYX: OXLC: RTX: PBI: WAFU: CTIC: RAD: NXE: SRAC: AMAT: MINT: SIRI: CNSP: MRKR: GHVI: SLDB: PEP: DRRX: IIPR: SVXY: PULM: EVOL: WORX: TEVA: SPXU: VBR: GLUU: SKT: BIL: LGND - thread num: 4  -  61 / 103\n"
     ]
    },
    {
     "name": "stderr",
     "output_type": "stream",
     "text": [
      "\n",
      "\n",
      "\n",
      "Thread num: 6:  64%|█████████████████████████████████████▏                    | 66/103 [28:01:17<24:00:07, 2335.34s/it]"
     ]
    },
    {
     "name": "stdout",
     "output_type": "stream",
     "text": [
      "completed symbols GPRO: CVAC: IRTC: IRM: RWLK: ACI: MGEN: FMCC: PK: CLX: SCO: TMDI: NBAC: AGNC: ABEO: RAVE: CPPRQ: CHKAQ: CRON: GIGM: WPG: XELB: QTT: VXUS: RMG: VTEB: TGC: NYMT: UGAZF: EXK: CLEU: APPH: ANCN: SM: TH: BHTG: HCDI: PZC: SCHD: GS: NIU: PSX: AUY: ZNOG: BIMI: GAU: VERI: ALK: EXPE: IFMK: GORO: ANPC: GDXJ: BEST: SGOL: HL: ZYNE: SONY: PDD: PDSB: MDRR: COF: AEMD: SCHB: LYV: DIG - thread num: 6  -  66 / 103\n"
     ]
    },
    {
     "name": "stderr",
     "output_type": "stream",
     "text": [
      "\u001b[A\u001b[A\u001b[A\n",
      "\n",
      "\n",
      "\n",
      "\n",
      "\n",
      "Thread num: 1:  68%|███████████████████████████████████████▍                  | 70/103 [28:14:02<19:11:24, 2093.47s/it]\u001b[A\u001b[A\u001b[A\u001b[A\u001b[A\u001b[A"
     ]
    },
    {
     "name": "stdout",
     "output_type": "stream",
     "text": [
      "completed symbols EGYF: SFIX: NTDOY: SFT: QID: AXP: PSEC: CLPS: KTRA: LC: QD: EKSO: DG: UPRO: THBR: GTHX: ADTX: AUMN: CGIX: BHR: NETE: SPRT: EVRI: CORR: HIBS: CANF: RESN: BOIL: MNMD: SHY: VCNX: NUGT: TCEHY: FTCV: AMTX: FBIO: BVXV: GEENQ: SNES: POTX: AACG: HGEND: AIRI: IEZ: ACY: QLD: TENX: SAN: EPD: XBIO: LGVW: GTEC: RGLS: CVX: DYNT: STCN: AMRS: ETM: FNMA: MLND: VIR: KGC: CYH: SLVO: FUTU: VWO: CCI: CUEN: PSQ: IMTE - thread num: 1  -  70 / 103\n"
     ]
    },
    {
     "name": "stderr",
     "output_type": "stream",
     "text": [
      "\n",
      "Thread num: 2:  59%|██████████████████████████████████▎                       | 61/103 [28:15:29<28:49:25, 2470.60s/it]\u001b[A"
     ]
    },
    {
     "name": "stdout",
     "output_type": "stream",
     "text": [
      "completed symbols AREC: NEXT: STNE: STNG: ENVB: VB: HTGM: PFMT: SWN: VRM: ACTC: ZI: NTN: AMRN: AMPY: PCG: DOW: INFI: YCBD: RCON: HGSH: MNOV: BSV: GLMD: CHGG: IDXX: VO: HX: BLOK: VSTM: MAXR: MTP: SLS: WBA: FINV: EVC: LIT: BEP: BLIN: CAPR: PRNT: AAXN: PSFE: KIQ: MPC: BIIB: SINO: NNVC: PLIN: ILMN: DOGZ: SFTW: GSX: TECL: UMC: CLRB: MITO: POWW: GDX: PAYS: CHNR - thread num: 2  -  61 / 103\n"
     ]
    },
    {
     "name": "stderr",
     "output_type": "stream",
     "text": [
      "\n",
      "\n",
      "\n",
      "\n",
      "Thread num: 5:  56%|████████████████████████████████▋                         | 58/103 [28:19:29<28:58:42, 2318.28s/it]"
     ]
    },
    {
     "name": "stdout",
     "output_type": "stream",
     "text": [
      "completed symbols EQ: GRIL: UA: LBYYQ: ITUB: EQOS: XERS: FSM: CSIQ: ASAN: QYLD: MGI: PG: MRVL: AESE: OKE: MESO: MRIN: HIBL: SDS: AG: CRIS: CPRX: MIK: ASM: AGQ: ERX: VIG: CLDR: QCLN: IMV: GNOG: ASML: REGN: CATB: ARKX: CHX: JAMF: GPL: XAN: AAME: MIST: TGI: VOE: SPYD: ALJJ: MOXC: PETZ: TUP: AQST: MO: VV: CSLT: HUGE: ZEST: SPR: FE: VEA - thread num: 5  -  58 / 103\n"
     ]
    },
    {
     "name": "stderr",
     "output_type": "stream",
     "text": [
      "Thread num: 0:  59%|██████████████████████████████████▎                       | 61/103 [28:23:14<27:20:36, 2343.72s/it]"
     ]
    },
    {
     "name": "stdout",
     "output_type": "stream",
     "text": [
      "completed symbols ENOB: MUDS: IZEA: ONCY: RNET: OVID: LMT: MRK: BIG: SI: VTGN: SVM: THMO: DPZ: KOPN: TIGR: INTU: HUSA: DFS: VZIO: APOP: MCHI: GOL: TAOP: GILD: ACCD: GDRX: FREQ: POSH: RMO: GLSI: AVCT: ZKIN: ABEV: ARLO: MDGS: YGMZ: VOOG: CKPT: DRIV: MAR: FNGD: GIK: SONO: ODT: FANG: BNTC: ADIL: ORTX: IPOB: AQMS: CNDT: ABIO: KSS: CMPD: GPS: HAL: ACIC: TSN: PHIO: VRTX - thread num: 0  -  61 / 103\n"
     ]
    },
    {
     "name": "stderr",
     "output_type": "stream",
     "text": [
      "\n",
      "\n",
      "\n",
      "\n",
      "\n",
      "\n",
      "\n",
      "Thread num: 3:  71%|█████████████████████████████████████████                 | 73/103 [28:27:17<16:48:18, 2016.63s/it]\u001b[A\u001b[A\u001b[A\u001b[A\u001b[A\u001b[A\u001b[A"
     ]
    },
    {
     "name": "stdout",
     "output_type": "stream",
     "text": [
      "completed symbols FLDM: RCKT: BFLY: BBY: VWAGY: ATNF: AVCO: RVP: BBIG: EFOI: FUSE: AGEN: RKDA: GHIV: IAU: PRQR: PT: SPPI: LIZI: PRPL: INSG: ROOT: RSCF: ICON: CYRN: APTX: IPOD: ARPO: ANY: GAN: ALNA: CPHI: CCO: LVS: AIHS: BUZZ: ORI: ISIG: OCX: GSM: MSTR: ADT: LTHM: DTSS: FISV: COTY: BMY: ACAD: MOGU: STPK: SING: CUK: ERI: NGL: DOYU: FAS: STMP: DMPI: VNQ: YOLO: NOG: BILI: AM: VFF: AGTC: GRAF: VGAC: BDX: DRIP: PTY: NEE: MNLO: W - thread num: 3  -  73 / 103\n"
     ]
    },
    {
     "name": "stderr",
     "output_type": "stream",
     "text": [
      "\n",
      "Thread num: 2:  60%|██████████████████████████████████▉                       | 62/103 [28:32:29<23:10:43, 2035.20s/it]\u001b[A"
     ]
    },
    {
     "name": "stdout",
     "output_type": "stream",
     "text": [
      "completed symbols AREC: NEXT: STNE: STNG: ENVB: VB: HTGM: PFMT: SWN: VRM: ACTC: ZI: NTN: AMRN: AMPY: PCG: DOW: INFI: YCBD: RCON: HGSH: MNOV: BSV: GLMD: CHGG: IDXX: VO: HX: BLOK: VSTM: MAXR: MTP: SLS: WBA: FINV: EVC: LIT: BEP: BLIN: CAPR: PRNT: AAXN: PSFE: KIQ: MPC: BIIB: SINO: NNVC: PLIN: ILMN: DOGZ: SFTW: GSX: TECL: UMC: CLRB: MITO: POWW: GDX: PAYS: CHNR: CLII - thread num: 2  -  62 / 103\n"
     ]
    },
    {
     "name": "stderr",
     "output_type": "stream",
     "text": [
      "\n",
      "\n",
      "Thread num: 4:  60%|██████████████████████████████████▉                       | 62/103 [28:33:45<25:51:26, 2270.40s/it]\u001b[A\u001b[A"
     ]
    },
    {
     "name": "stdout",
     "output_type": "stream",
     "text": [
      "completed symbols NH: SNCA: TGA: VBK: ATOM: MKD: TRUL: NLSP: SPLK: SCHO: ALRN: DISCB: TMUS: WIX: SDC: CTEK: PEIX: FAZ: SNGX: AIV: BETZ: ELYS: ORCL: CARV: CAT: AA: CFMS: AQB: MITT: MELI: HMY: SCYX: OXLC: RTX: PBI: WAFU: CTIC: RAD: NXE: SRAC: AMAT: MINT: SIRI: CNSP: MRKR: GHVI: SLDB: PEP: DRRX: IIPR: SVXY: PULM: EVOL: WORX: TEVA: SPXU: VBR: GLUU: SKT: BIL: LGND: SEDG - thread num: 4  -  62 / 103\n"
     ]
    },
    {
     "name": "stderr",
     "output_type": "stream",
     "text": [
      "\n",
      "\n",
      "\n",
      "Thread num: 6:  65%|█████████████████████████████████████▋                    | 67/103 [28:34:58<22:24:32, 2240.89s/it]\u001b[A\u001b[A\u001b[A"
     ]
    },
    {
     "name": "stdout",
     "output_type": "stream",
     "text": [
      "completed symbols GPRO: CVAC: IRTC: IRM: RWLK: ACI: MGEN: FMCC: PK: CLX: SCO: TMDI: NBAC: AGNC: ABEO: RAVE: CPPRQ: CHKAQ: CRON: GIGM: WPG: XELB: QTT: VXUS: RMG: VTEB: TGC: NYMT: UGAZF: EXK: CLEU: APPH: ANCN: SM: TH: BHTG: HCDI: PZC: SCHD: GS: NIU: PSX: AUY: ZNOG: BIMI: GAU: VERI: ALK: EXPE: IFMK: GORO: ANPC: GDXJ: BEST: SGOL: HL: ZYNE: SONY: PDD: PDSB: MDRR: COF: AEMD: SCHB: LYV: DIG: CBLI - thread num: 6  -  67 / 103\n"
     ]
    },
    {
     "name": "stderr",
     "output_type": "stream",
     "text": [
      "\n",
      "\n",
      "\n",
      "\n",
      "\n",
      "\n",
      "Thread num: 1:  69%|███████████████████████████████████████▉                  | 71/103 [28:43:16<17:42:15, 1991.74s/it]\u001b[A\u001b[A\u001b[A\u001b[A\u001b[A\u001b[A"
     ]
    },
    {
     "name": "stdout",
     "output_type": "stream",
     "text": [
      "completed symbols EGYF: SFIX: NTDOY: SFT: QID: AXP: PSEC: CLPS: KTRA: LC: QD: EKSO: DG: UPRO: THBR: GTHX: ADTX: AUMN: CGIX: BHR: NETE: SPRT: EVRI: CORR: HIBS: CANF: RESN: BOIL: MNMD: SHY: VCNX: NUGT: TCEHY: FTCV: AMTX: FBIO: BVXV: GEENQ: SNES: POTX: AACG: HGEND: AIRI: IEZ: ACY: QLD: TENX: SAN: EPD: XBIO: LGVW: GTEC: RGLS: CVX: DYNT: STCN: AMRS: ETM: FNMA: MLND: VIR: KGC: CYH: SLVO: FUTU: VWO: CCI: CUEN: PSQ: IMTE: HSDT - thread num: 1  -  71 / 103\n"
     ]
    },
    {
     "name": "stderr",
     "output_type": "stream",
     "text": [
      "\n",
      "\n",
      "Thread num: 4:  61%|███████████████████████████████████▍                      | 63/103 [28:43:57<19:41:51, 1772.79s/it]\u001b[A\u001b[A"
     ]
    },
    {
     "name": "stdout",
     "output_type": "stream",
     "text": [
      "completed symbols NH: SNCA: TGA: VBK: ATOM: MKD: TRUL: NLSP: SPLK: SCHO: ALRN: DISCB: TMUS: WIX: SDC: CTEK: PEIX: FAZ: SNGX: AIV: BETZ: ELYS: ORCL: CARV: CAT: AA: CFMS: AQB: MITT: MELI: HMY: SCYX: OXLC: RTX: PBI: WAFU: CTIC: RAD: NXE: SRAC: AMAT: MINT: SIRI: CNSP: MRKR: GHVI: SLDB: PEP: DRRX: IIPR: SVXY: PULM: EVOL: WORX: TEVA: SPXU: VBR: GLUU: SKT: BIL: LGND: SEDG: FRX - thread num: 4  -  63 / 103\n"
     ]
    },
    {
     "name": "stderr",
     "output_type": "stream",
     "text": [
      "\n",
      "\n",
      "\n",
      "\n",
      "Thread num: 5:  57%|█████████████████████████████████▏                        | 59/103 [28:49:38<26:27:59, 2165.45s/it]\u001b[A\u001b[A\u001b[A\u001b[A"
     ]
    },
    {
     "name": "stdout",
     "output_type": "stream",
     "text": [
      "completed symbols EQ: GRIL: UA: LBYYQ: ITUB: EQOS: XERS: FSM: CSIQ: ASAN: QYLD: MGI: PG: MRVL: AESE: OKE: MESO: MRIN: HIBL: SDS: AG: CRIS: CPRX: MIK: ASM: AGQ: ERX: VIG: CLDR: QCLN: IMV: GNOG: ASML: REGN: CATB: ARKX: CHX: JAMF: GPL: XAN: AAME: MIST: TGI: VOE: SPYD: ALJJ: MOXC: PETZ: TUP: AQST: MO: VV: CSLT: HUGE: ZEST: SPR: FE: VEA: ARNC - thread num: 5  -  59 / 103\n"
     ]
    },
    {
     "name": "stderr",
     "output_type": "stream",
     "text": [
      "\r",
      "Thread num: 0:  60%|██████████████████████████████████▉                       | 62/103 [28:52:46<24:44:10, 2171.97s/it]"
     ]
    },
    {
     "name": "stdout",
     "output_type": "stream",
     "text": [
      "completed symbols ENOB: MUDS: IZEA: ONCY: RNET: OVID: LMT: MRK: BIG: SI: VTGN: SVM: THMO: DPZ: KOPN: TIGR: INTU: HUSA: DFS: VZIO: APOP: MCHI: GOL: TAOP: GILD: ACCD: GDRX: FREQ: POSH: RMO: GLSI: AVCT: ZKIN: ABEV: ARLO: MDGS: YGMZ: VOOG: CKPT: DRIV: MAR: FNGD: GIK: SONO: ODT: FANG: BNTC: ADIL: ORTX: IPOB: AQMS: CNDT: ABIO: KSS: CMPD: GPS: HAL: ACIC: TSN: PHIO: VRTX: XPEL - thread num: 0  -  62 / 103\n"
     ]
    },
    {
     "name": "stderr",
     "output_type": "stream",
     "text": [
      "\n",
      "\n",
      "\n",
      "\n",
      "\n",
      "\n",
      "\n",
      "Thread num: 3:  72%|█████████████████████████████████████████▋                | 74/103 [28:57:20<15:43:44, 1952.56s/it]\u001b[A\u001b[A\u001b[A\u001b[A\u001b[A\u001b[A\u001b[A"
     ]
    },
    {
     "name": "stdout",
     "output_type": "stream",
     "text": [
      "completed symbols FLDM: RCKT: BFLY: BBY: VWAGY: ATNF: AVCO: RVP: BBIG: EFOI: FUSE: AGEN: RKDA: GHIV: IAU: PRQR: PT: SPPI: LIZI: PRPL: INSG: ROOT: RSCF: ICON: CYRN: APTX: IPOD: ARPO: ANY: GAN: ALNA: CPHI: CCO: LVS: AIHS: BUZZ: ORI: ISIG: OCX: GSM: MSTR: ADT: LTHM: DTSS: FISV: COTY: BMY: ACAD: MOGU: STPK: SING: CUK: ERI: NGL: DOYU: FAS: STMP: DMPI: VNQ: YOLO: NOG: BILI: AM: VFF: AGTC: GRAF: VGAC: BDX: DRIP: PTY: NEE: MNLO: W: WISA - thread num: 3  -  74 / 103\n"
     ]
    },
    {
     "name": "stderr",
     "output_type": "stream",
     "text": [
      "\n",
      "Thread num: 2:  61%|███████████████████████████████████▍                      | 63/103 [29:05:02<22:20:21, 2010.54s/it]\u001b[A"
     ]
    },
    {
     "name": "stdout",
     "output_type": "stream",
     "text": [
      "completed symbols AREC: NEXT: STNE: STNG: ENVB: VB: HTGM: PFMT: SWN: VRM: ACTC: ZI: NTN: AMRN: AMPY: PCG: DOW: INFI: YCBD: RCON: HGSH: MNOV: BSV: GLMD: CHGG: IDXX: VO: HX: BLOK: VSTM: MAXR: MTP: SLS: WBA: FINV: EVC: LIT: BEP: BLIN: CAPR: PRNT: AAXN: PSFE: KIQ: MPC: BIIB: SINO: NNVC: PLIN: ILMN: DOGZ: SFTW: GSX: TECL: UMC: CLRB: MITO: POWW: GDX: PAYS: CHNR: CLII: CTIB - thread num: 2  -  63 / 103\n"
     ]
    },
    {
     "name": "stderr",
     "output_type": "stream",
     "text": [
      "\n",
      "Thread num: 2:  62%|████████████████████████████████████                      | 64/103 [29:06:06<15:27:15, 1426.55s/it]\u001b[A"
     ]
    },
    {
     "name": "stdout",
     "output_type": "stream",
     "text": [
      "completed symbols AREC: NEXT: STNE: STNG: ENVB: VB: HTGM: PFMT: SWN: VRM: ACTC: ZI: NTN: AMRN: AMPY: PCG: DOW: INFI: YCBD: RCON: HGSH: MNOV: BSV: GLMD: CHGG: IDXX: VO: HX: BLOK: VSTM: MAXR: MTP: SLS: WBA: FINV: EVC: LIT: BEP: BLIN: CAPR: PRNT: AAXN: PSFE: KIQ: MPC: BIIB: SINO: NNVC: PLIN: ILMN: DOGZ: SFTW: GSX: TECL: UMC: CLRB: MITO: POWW: GDX: PAYS: CHNR: CLII: CTIB: VVUSQ - thread num: 2  -  64 / 103\n"
     ]
    },
    {
     "name": "stderr",
     "output_type": "stream",
     "text": [
      "\r",
      "Thread num: 0:  61%|███████████████████████████████████▍                      | 63/103 [29:06:48<19:42:08, 1773.20s/it]"
     ]
    },
    {
     "name": "stdout",
     "output_type": "stream",
     "text": [
      "completed symbols ENOB: MUDS: IZEA: ONCY: RNET: OVID: LMT: MRK: BIG: SI: VTGN: SVM: THMO: DPZ: KOPN: TIGR: INTU: HUSA: DFS: VZIO: APOP: MCHI: GOL: TAOP: GILD: ACCD: GDRX: FREQ: POSH: RMO: GLSI: AVCT: ZKIN: ABEV: ARLO: MDGS: YGMZ: VOOG: CKPT: DRIV: MAR: FNGD: GIK: SONO: ODT: FANG: BNTC: ADIL: ORTX: IPOB: AQMS: CNDT: ABIO: KSS: CMPD: GPS: HAL: ACIC: TSN: PHIO: VRTX: XPEL: XM - thread num: 0  -  63 / 103\n"
     ]
    },
    {
     "name": "stderr",
     "output_type": "stream",
     "text": [
      "\n",
      "\n",
      "\n",
      "Thread num: 6:  66%|██████████████████████████████████████▎                   | 68/103 [29:07:02<20:51:48, 2145.96s/it]\u001b[A\u001b[A\u001b[A"
     ]
    },
    {
     "name": "stdout",
     "output_type": "stream",
     "text": [
      "completed symbols GPRO: CVAC: IRTC: IRM: RWLK: ACI: MGEN: FMCC: PK: CLX: SCO: TMDI: NBAC: AGNC: ABEO: RAVE: CPPRQ: CHKAQ: CRON: GIGM: WPG: XELB: QTT: VXUS: RMG: VTEB: TGC: NYMT: UGAZF: EXK: CLEU: APPH: ANCN: SM: TH: BHTG: HCDI: PZC: SCHD: GS: NIU: PSX: AUY: ZNOG: BIMI: GAU: VERI: ALK: EXPE: IFMK: GORO: ANPC: GDXJ: BEST: SGOL: HL: ZYNE: SONY: PDD: PDSB: MDRR: COF: AEMD: SCHB: LYV: DIG: CBLI: ANIX - thread num: 6  -  68 / 103\n"
     ]
    },
    {
     "name": "stderr",
     "output_type": "stream",
     "text": [
      "\n",
      "\n",
      "\n",
      "\n",
      "\n",
      "\n",
      "Thread num: 1:  70%|████████████████████████████████████████▌                 | 72/103 [29:22:15<18:02:53, 2095.91s/it]\u001b[A\u001b[A\u001b[A\u001b[A\u001b[A\u001b[A"
     ]
    },
    {
     "name": "stdout",
     "output_type": "stream",
     "text": [
      "completed symbols EGYF: SFIX: NTDOY: SFT: QID: AXP: PSEC: CLPS: KTRA: LC: QD: EKSO: DG: UPRO: THBR: GTHX: ADTX: AUMN: CGIX: BHR: NETE: SPRT: EVRI: CORR: HIBS: CANF: RESN: BOIL: MNMD: SHY: VCNX: NUGT: TCEHY: FTCV: AMTX: FBIO: BVXV: GEENQ: SNES: POTX: AACG: HGEND: AIRI: IEZ: ACY: QLD: TENX: SAN: EPD: XBIO: LGVW: GTEC: RGLS: CVX: DYNT: STCN: AMRS: ETM: FNMA: MLND: VIR: KGC: CYH: SLVO: FUTU: VWO: CCI: CUEN: PSQ: IMTE: HSDT: SGLB - thread num: 1  -  72 / 103\n"
     ]
    },
    {
     "name": "stderr",
     "output_type": "stream",
     "text": [
      "\n",
      "\n",
      "\n",
      "\n",
      "Thread num: 5:  58%|█████████████████████████████████▊                        | 60/103 [29:29:59<26:46:56, 2242.25s/it]\u001b[A\u001b[A\u001b[A\u001b[A"
     ]
    },
    {
     "name": "stdout",
     "output_type": "stream",
     "text": [
      "completed symbols EQ: GRIL: UA: LBYYQ: ITUB: EQOS: XERS: FSM: CSIQ: ASAN: QYLD: MGI: PG: MRVL: AESE: OKE: MESO: MRIN: HIBL: SDS: AG: CRIS: CPRX: MIK: ASM: AGQ: ERX: VIG: CLDR: QCLN: IMV: GNOG: ASML: REGN: CATB: ARKX: CHX: JAMF: GPL: XAN: AAME: MIST: TGI: VOE: SPYD: ALJJ: MOXC: PETZ: TUP: AQST: MO: VV: CSLT: HUGE: ZEST: SPR: FE: VEA: ARNC: DSS - thread num: 5  -  60 / 103\n"
     ]
    },
    {
     "name": "stderr",
     "output_type": "stream",
     "text": [
      "\n",
      "Thread num: 2:  63%|████████████████████████████████████▌                     | 65/103 [29:47:56<18:29:21, 1751.63s/it]\u001b[A"
     ]
    },
    {
     "name": "stdout",
     "output_type": "stream",
     "text": [
      "completed symbols AREC: NEXT: STNE: STNG: ENVB: VB: HTGM: PFMT: SWN: VRM: ACTC: ZI: NTN: AMRN: AMPY: PCG: DOW: INFI: YCBD: RCON: HGSH: MNOV: BSV: GLMD: CHGG: IDXX: VO: HX: BLOK: VSTM: MAXR: MTP: SLS: WBA: FINV: EVC: LIT: BEP: BLIN: CAPR: PRNT: AAXN: PSFE: KIQ: MPC: BIIB: SINO: NNVC: PLIN: ILMN: DOGZ: SFTW: GSX: TECL: UMC: CLRB: MITO: POWW: GDX: PAYS: CHNR: CLII: CTIB: VVUSQ: KERN - thread num: 2  -  65 / 103\n"
     ]
    },
    {
     "name": "stderr",
     "output_type": "stream",
     "text": [
      "\n",
      "\n",
      "\n",
      "\n",
      "\n",
      "\n",
      "Thread num: 1:  71%|█████████████████████████████████████████                 | 73/103 [29:51:52<16:40:04, 2000.16s/it]\u001b[A\u001b[A\u001b[A\u001b[A\u001b[A\u001b[A"
     ]
    },
    {
     "name": "stdout",
     "output_type": "stream",
     "text": [
      "completed symbols EGYF: SFIX: NTDOY: SFT: QID: AXP: PSEC: CLPS: KTRA: LC: QD: EKSO: DG: UPRO: THBR: GTHX: ADTX: AUMN: CGIX: BHR: NETE: SPRT: EVRI: CORR: HIBS: CANF: RESN: BOIL: MNMD: SHY: VCNX: NUGT: TCEHY: FTCV: AMTX: FBIO: BVXV: GEENQ: SNES: POTX: AACG: HGEND: AIRI: IEZ: ACY: QLD: TENX: SAN: EPD: XBIO: LGVW: GTEC: RGLS: CVX: DYNT: STCN: AMRS: ETM: FNMA: MLND: VIR: KGC: CYH: SLVO: FUTU: VWO: CCI: CUEN: PSQ: IMTE: HSDT: SGLB: MSOS - thread num: 1  -  73 / 103\n"
     ]
    },
    {
     "name": "stderr",
     "output_type": "stream",
     "text": [
      "\r",
      "Thread num: 0:  62%|████████████████████████████████████                      | 64/103 [29:53:47<22:36:23, 2086.75s/it]"
     ]
    },
    {
     "name": "stdout",
     "output_type": "stream",
     "text": [
      "completed symbols ENOB: MUDS: IZEA: ONCY: RNET: OVID: LMT: MRK: BIG: SI: VTGN: SVM: THMO: DPZ: KOPN: TIGR: INTU: HUSA: DFS: VZIO: APOP: MCHI: GOL: TAOP: GILD: ACCD: GDRX: FREQ: POSH: RMO: GLSI: AVCT: ZKIN: ABEV: ARLO: MDGS: YGMZ: VOOG: CKPT: DRIV: MAR: FNGD: GIK: SONO: ODT: FANG: BNTC: ADIL: ORTX: IPOB: AQMS: CNDT: ABIO: KSS: CMPD: GPS: HAL: ACIC: TSN: PHIO: VRTX: XPEL: XM: BTU - thread num: 0  -  64 / 103\n"
     ]
    },
    {
     "name": "stderr",
     "output_type": "stream",
     "text": [
      "\n",
      "Thread num: 2:  64%|█████████████████████████████████████▏                    | 66/103 [29:54:16<13:46:25, 1340.16s/it]\u001b[A"
     ]
    },
    {
     "name": "stdout",
     "output_type": "stream",
     "text": [
      "completed symbols AREC: NEXT: STNE: STNG: ENVB: VB: HTGM: PFMT: SWN: VRM: ACTC: ZI: NTN: AMRN: AMPY: PCG: DOW: INFI: YCBD: RCON: HGSH: MNOV: BSV: GLMD: CHGG: IDXX: VO: HX: BLOK: VSTM: MAXR: MTP: SLS: WBA: FINV: EVC: LIT: BEP: BLIN: CAPR: PRNT: AAXN: PSFE: KIQ: MPC: BIIB: SINO: NNVC: PLIN: ILMN: DOGZ: SFTW: GSX: TECL: UMC: CLRB: MITO: POWW: GDX: PAYS: CHNR: CLII: CTIB: VVUSQ: KERN: EDR - thread num: 2  -  66 / 103\n",
      "completed symbols FLDM: RCKT: BFLY: BBY: VWAGY: ATNF: AVCO: RVP: BBIG: EFOI: FUSE: AGEN: RKDA: GHIV: IAU: PRQR: PT: SPPI: LIZI: PRPL: INSG: ROOT: RSCF: ICON: CYRN: APTX: IPOD: ARPO: ANY: GAN: ALNA: CPHI: CCO: LVS: AIHS: BUZZ: ORI: ISIG: OCX: GSM: MSTR: ADT: LTHM: DTSS: FISV: COTY: BMY: ACAD: MOGU: STPK: SING: CUK: ERI: NGL: DOYU: FAS: STMP: DMPI: VNQ: YOLO: NOG: BILI: AM: VFF: AGTC: GRAF: VGAC: BDX: DRIP: PTY: NEE: MNLO: W: WISA: DBX - thread num: 3  -  75 / 103\n"
     ]
    },
    {
     "name": "stderr",
     "output_type": "stream",
     "text": [
      "\n",
      "\n",
      "\n",
      "\n",
      "\n",
      "\n",
      "\n",
      "Thread num: 3:  73%|██████████████████████████████████████████▏               | 75/103 [29:56:34<18:55:21, 2432.91s/it]\u001b[A\u001b[A\u001b[A\u001b[A\u001b[A\u001b[A\u001b[A\n",
      "\n",
      "\n",
      "\n",
      "Thread num: 5:  59%|██████████████████████████████████▎                       | 61/103 [29:58:59<24:23:59, 2091.41s/it]\u001b[A\u001b[A\u001b[A\u001b[A"
     ]
    },
    {
     "name": "stdout",
     "output_type": "stream",
     "text": [
      "completed symbols EQ: GRIL: UA: LBYYQ: ITUB: EQOS: XERS: FSM: CSIQ: ASAN: QYLD: MGI: PG: MRVL: AESE: OKE: MESO: MRIN: HIBL: SDS: AG: CRIS: CPRX: MIK: ASM: AGQ: ERX: VIG: CLDR: QCLN: IMV: GNOG: ASML: REGN: CATB: ARKX: CHX: JAMF: GPL: XAN: AAME: MIST: TGI: VOE: SPYD: ALJJ: MOXC: PETZ: TUP: AQST: MO: VV: CSLT: HUGE: ZEST: SPR: FE: VEA: ARNC: DSS: NGA - thread num: 5  -  61 / 103\n"
     ]
    },
    {
     "name": "stderr",
     "output_type": "stream",
     "text": [
      "\n",
      "\n",
      "\n",
      "Thread num: 6:  67%|██████████████████████████████████████▊                   | 69/103 [30:02:06<23:32:51, 2493.29s/it]\u001b[A\u001b[A\u001b[A"
     ]
    },
    {
     "name": "stdout",
     "output_type": "stream",
     "text": [
      "completed symbols GPRO: CVAC: IRTC: IRM: RWLK: ACI: MGEN: FMCC: PK: CLX: SCO: TMDI: NBAC: AGNC: ABEO: RAVE: CPPRQ: CHKAQ: CRON: GIGM: WPG: XELB: QTT: VXUS: RMG: VTEB: TGC: NYMT: UGAZF: EXK: CLEU: APPH: ANCN: SM: TH: BHTG: HCDI: PZC: SCHD: GS: NIU: PSX: AUY: ZNOG: BIMI: GAU: VERI: ALK: EXPE: IFMK: GORO: ANPC: GDXJ: BEST: SGOL: HL: ZYNE: SONY: PDD: PDSB: MDRR: COF: AEMD: SCHB: LYV: DIG: CBLI: ANIX: CLVS - thread num: 6  -  69 / 103\n"
     ]
    },
    {
     "name": "stderr",
     "output_type": "stream",
     "text": [
      "\n",
      "\n",
      "Thread num: 4:  62%|████████████████████████████████████                      | 64/103 [30:04:29<29:08:59, 2690.76s/it]\u001b[A\u001b[A"
     ]
    },
    {
     "name": "stdout",
     "output_type": "stream",
     "text": [
      "completed symbols NH: SNCA: TGA: VBK: ATOM: MKD: TRUL: NLSP: SPLK: SCHO: ALRN: DISCB: TMUS: WIX: SDC: CTEK: PEIX: FAZ: SNGX: AIV: BETZ: ELYS: ORCL: CARV: CAT: AA: CFMS: AQB: MITT: MELI: HMY: SCYX: OXLC: RTX: PBI: WAFU: CTIC: RAD: NXE: SRAC: AMAT: MINT: SIRI: CNSP: MRKR: GHVI: SLDB: PEP: DRRX: IIPR: SVXY: PULM: EVOL: WORX: TEVA: SPXU: VBR: GLUU: SKT: BIL: LGND: SEDG: FRX: XLE - thread num: 4  -  64 / 103\n"
     ]
    },
    {
     "name": "stderr",
     "output_type": "stream",
     "text": [
      "\r",
      "Thread num: 0:  63%|████████████████████████████████████▌                     | 65/103 [30:35:37<23:22:03, 2213.78s/it]"
     ]
    },
    {
     "name": "stdout",
     "output_type": "stream",
     "text": [
      "completed symbols ENOB: MUDS: IZEA: ONCY: RNET: OVID: LMT: MRK: BIG: SI: VTGN: SVM: THMO: DPZ: KOPN: TIGR: INTU: HUSA: DFS: VZIO: APOP: MCHI: GOL: TAOP: GILD: ACCD: GDRX: FREQ: POSH: RMO: GLSI: AVCT: ZKIN: ABEV: ARLO: MDGS: YGMZ: VOOG: CKPT: DRIV: MAR: FNGD: GIK: SONO: ODT: FANG: BNTC: ADIL: ORTX: IPOB: AQMS: CNDT: ABIO: KSS: CMPD: GPS: HAL: ACIC: TSN: PHIO: VRTX: XPEL: XM: BTU: CJJD - thread num: 0  -  65 / 103\n"
     ]
    },
    {
     "name": "stderr",
     "output_type": "stream",
     "text": [
      "\n",
      "\n",
      "\n",
      "\n",
      "\n",
      "\n",
      "Thread num: 1:  72%|█████████████████████████████████████████▋                | 74/103 [30:40:42<18:21:30, 2279.00s/it]\u001b[A\u001b[A\u001b[A\u001b[A\u001b[A\u001b[A"
     ]
    },
    {
     "name": "stdout",
     "output_type": "stream",
     "text": [
      "completed symbols EGYF: SFIX: NTDOY: SFT: QID: AXP: PSEC: CLPS: KTRA: LC: QD: EKSO: DG: UPRO: THBR: GTHX: ADTX: AUMN: CGIX: BHR: NETE: SPRT: EVRI: CORR: HIBS: CANF: RESN: BOIL: MNMD: SHY: VCNX: NUGT: TCEHY: FTCV: AMTX: FBIO: BVXV: GEENQ: SNES: POTX: AACG: HGEND: AIRI: IEZ: ACY: QLD: TENX: SAN: EPD: XBIO: LGVW: GTEC: RGLS: CVX: DYNT: STCN: AMRS: ETM: FNMA: MLND: VIR: KGC: CYH: SLVO: FUTU: VWO: CCI: CUEN: PSQ: IMTE: HSDT: SGLB: MSOS: BKNG - thread num: 1  -  74 / 103\n"
     ]
    },
    {
     "name": "stderr",
     "output_type": "stream",
     "text": [
      "\n",
      "\n",
      "\n",
      "Thread num: 6:  68%|███████████████████████████████████████▍                  | 70/103 [30:44:01<22:54:49, 2499.69s/it]\u001b[A\u001b[A\u001b[A"
     ]
    },
    {
     "name": "stdout",
     "output_type": "stream",
     "text": [
      "completed symbols GPRO: CVAC: IRTC: IRM: RWLK: ACI: MGEN: FMCC: PK: CLX: SCO: TMDI: NBAC: AGNC: ABEO: RAVE: CPPRQ: CHKAQ: CRON: GIGM: WPG: XELB: QTT: VXUS: RMG: VTEB: TGC: NYMT: UGAZF: EXK: CLEU: APPH: ANCN: SM: TH: BHTG: HCDI: PZC: SCHD: GS: NIU: PSX: AUY: ZNOG: BIMI: GAU: VERI: ALK: EXPE: IFMK: GORO: ANPC: GDXJ: BEST: SGOL: HL: ZYNE: SONY: PDD: PDSB: MDRR: COF: AEMD: SCHB: LYV: DIG: CBLI: ANIX: CLVS: NDRA - thread num: 6  -  70 / 103\n"
     ]
    },
    {
     "name": "stderr",
     "output_type": "stream",
     "text": [
      "\n",
      "\n",
      "\n",
      "\n",
      "\n",
      "\n",
      "\n",
      "Thread num: 3:  74%|██████████████████████████████████████████▊               | 76/103 [30:44:15<19:12:41, 2561.54s/it]\u001b[A\u001b[A\u001b[A\u001b[A\u001b[A\u001b[A\u001b[A"
     ]
    },
    {
     "name": "stdout",
     "output_type": "stream",
     "text": [
      "completed symbols FLDM: RCKT: BFLY: BBY: VWAGY: ATNF: AVCO: RVP: BBIG: EFOI: FUSE: AGEN: RKDA: GHIV: IAU: PRQR: PT: SPPI: LIZI: PRPL: INSG: ROOT: RSCF: ICON: CYRN: APTX: IPOD: ARPO: ANY: GAN: ALNA: CPHI: CCO: LVS: AIHS: BUZZ: ORI: ISIG: OCX: GSM: MSTR: ADT: LTHM: DTSS: FISV: COTY: BMY: ACAD: MOGU: STPK: SING: CUK: ERI: NGL: DOYU: FAS: STMP: DMPI: VNQ: YOLO: NOG: BILI: AM: VFF: AGTC: GRAF: VGAC: BDX: DRIP: PTY: NEE: MNLO: W: WISA: DBX: CMG - thread num: 3  -  76 / 103\n"
     ]
    },
    {
     "name": "stderr",
     "output_type": "stream",
     "text": [
      "\n",
      "\n",
      "\n",
      "\n",
      "Thread num: 5:  60%|██████████████████████████████████▉                       | 62/103 [30:57:59<28:46:10, 2526.11s/it]\u001b[A\u001b[A\u001b[A\u001b[A"
     ]
    },
    {
     "name": "stdout",
     "output_type": "stream",
     "text": [
      "completed symbols EQ: GRIL: UA: LBYYQ: ITUB: EQOS: XERS: FSM: CSIQ: ASAN: QYLD: MGI: PG: MRVL: AESE: OKE: MESO: MRIN: HIBL: SDS: AG: CRIS: CPRX: MIK: ASM: AGQ: ERX: VIG: CLDR: QCLN: IMV: GNOG: ASML: REGN: CATB: ARKX: CHX: JAMF: GPL: XAN: AAME: MIST: TGI: VOE: SPYD: ALJJ: MOXC: PETZ: TUP: AQST: MO: VV: CSLT: HUGE: ZEST: SPR: FE: VEA: ARNC: DSS: NGA: SMH - thread num: 5  -  62 / 103\n"
     ]
    },
    {
     "name": "stderr",
     "output_type": "stream",
     "text": [
      "\n",
      "Thread num: 2:  65%|█████████████████████████████████████▋                    | 67/103 [30:58:30<20:56:34, 2094.30s/it]\u001b[A"
     ]
    },
    {
     "name": "stdout",
     "output_type": "stream",
     "text": [
      "completed symbols AREC: NEXT: STNE: STNG: ENVB: VB: HTGM: PFMT: SWN: VRM: ACTC: ZI: NTN: AMRN: AMPY: PCG: DOW: INFI: YCBD: RCON: HGSH: MNOV: BSV: GLMD: CHGG: IDXX: VO: HX: BLOK: VSTM: MAXR: MTP: SLS: WBA: FINV: EVC: LIT: BEP: BLIN: CAPR: PRNT: AAXN: PSFE: KIQ: MPC: BIIB: SINO: NNVC: PLIN: ILMN: DOGZ: SFTW: GSX: TECL: UMC: CLRB: MITO: POWW: GDX: PAYS: CHNR: CLII: CTIB: VVUSQ: KERN: EDR: ATVI - thread num: 2  -  67 / 103\n"
     ]
    },
    {
     "name": "stderr",
     "output_type": "stream",
     "text": [
      "\n",
      "\n",
      "Thread num: 4:  63%|████████████████████████████████████▌                     | 65/103 [31:05:13<31:25:14, 2976.71s/it]\u001b[A\u001b[A"
     ]
    },
    {
     "name": "stdout",
     "output_type": "stream",
     "text": [
      "completed symbols NH: SNCA: TGA: VBK: ATOM: MKD: TRUL: NLSP: SPLK: SCHO: ALRN: DISCB: TMUS: WIX: SDC: CTEK: PEIX: FAZ: SNGX: AIV: BETZ: ELYS: ORCL: CARV: CAT: AA: CFMS: AQB: MITT: MELI: HMY: SCYX: OXLC: RTX: PBI: WAFU: CTIC: RAD: NXE: SRAC: AMAT: MINT: SIRI: CNSP: MRKR: GHVI: SLDB: PEP: DRRX: IIPR: SVXY: PULM: EVOL: WORX: TEVA: SPXU: VBR: GLUU: SKT: BIL: LGND: SEDG: FRX: XLE: LYFT - thread num: 4  -  65 / 103\n"
     ]
    },
    {
     "name": "stderr",
     "output_type": "stream",
     "text": [
      "\r",
      "Thread num: 0:  64%|█████████████████████████████████████▏                    | 66/103 [31:10:43<22:25:10, 2181.37s/it]"
     ]
    },
    {
     "name": "stdout",
     "output_type": "stream",
     "text": [
      "completed symbols ENOB: MUDS: IZEA: ONCY: RNET: OVID: LMT: MRK: BIG: SI: VTGN: SVM: THMO: DPZ: KOPN: TIGR: INTU: HUSA: DFS: VZIO: APOP: MCHI: GOL: TAOP: GILD: ACCD: GDRX: FREQ: POSH: RMO: GLSI: AVCT: ZKIN: ABEV: ARLO: MDGS: YGMZ: VOOG: CKPT: DRIV: MAR: FNGD: GIK: SONO: ODT: FANG: BNTC: ADIL: ORTX: IPOB: AQMS: CNDT: ABIO: KSS: CMPD: GPS: HAL: ACIC: TSN: PHIO: VRTX: XPEL: XM: BTU: CJJD: OTRK - thread num: 0  -  66 / 103\n"
     ]
    },
    {
     "name": "stderr",
     "output_type": "stream",
     "text": [
      "\n",
      "\n",
      "\n",
      "\n",
      "\n",
      "\n",
      "Thread num: 1:  73%|██████████████████████████████████████████▏               | 75/103 [31:11:12<16:40:39, 2144.27s/it]\u001b[A\u001b[A\u001b[A\u001b[A\u001b[A\u001b[A"
     ]
    },
    {
     "name": "stdout",
     "output_type": "stream",
     "text": [
      "completed symbols EGYF: SFIX: NTDOY: SFT: QID: AXP: PSEC: CLPS: KTRA: LC: QD: EKSO: DG: UPRO: THBR: GTHX: ADTX: AUMN: CGIX: BHR: NETE: SPRT: EVRI: CORR: HIBS: CANF: RESN: BOIL: MNMD: SHY: VCNX: NUGT: TCEHY: FTCV: AMTX: FBIO: BVXV: GEENQ: SNES: POTX: AACG: HGEND: AIRI: IEZ: ACY: QLD: TENX: SAN: EPD: XBIO: LGVW: GTEC: RGLS: CVX: DYNT: STCN: AMRS: ETM: FNMA: MLND: VIR: KGC: CYH: SLVO: FUTU: VWO: CCI: CUEN: PSQ: IMTE: HSDT: SGLB: MSOS: BKNG: NK - thread num: 1  -  75 / 103\n"
     ]
    },
    {
     "name": "stderr",
     "output_type": "stream",
     "text": [
      "\n",
      "\n",
      "\n",
      "\n",
      "\n",
      "\n",
      "\n",
      "Thread num: 3:  75%|███████████████████████████████████████████▎              | 77/103 [31:19:23<17:31:00, 2425.39s/it]\u001b[A\u001b[A\u001b[A\u001b[A\u001b[A\u001b[A\u001b[A"
     ]
    },
    {
     "name": "stdout",
     "output_type": "stream",
     "text": [
      "completed symbols FLDM: RCKT: BFLY: BBY: VWAGY: ATNF: AVCO: RVP: BBIG: EFOI: FUSE: AGEN: RKDA: GHIV: IAU: PRQR: PT: SPPI: LIZI: PRPL: INSG: ROOT: RSCF: ICON: CYRN: APTX: IPOD: ARPO: ANY: GAN: ALNA: CPHI: CCO: LVS: AIHS: BUZZ: ORI: ISIG: OCX: GSM: MSTR: ADT: LTHM: DTSS: FISV: COTY: BMY: ACAD: MOGU: STPK: SING: CUK: ERI: NGL: DOYU: FAS: STMP: DMPI: VNQ: YOLO: NOG: BILI: AM: VFF: AGTC: GRAF: VGAC: BDX: DRIP: PTY: NEE: MNLO: W: WISA: DBX: CMG: RC - thread num: 3  -  77 / 103\n"
     ]
    },
    {
     "name": "stderr",
     "output_type": "stream",
     "text": [
      "\n",
      "\n",
      "\n",
      "Thread num: 6:  69%|███████████████████████████████████████▉                  | 71/103 [31:19:54<21:17:47, 2395.85s/it]\u001b[A\u001b[A\u001b[A"
     ]
    },
    {
     "name": "stdout",
     "output_type": "stream",
     "text": [
      "completed symbols GPRO: CVAC: IRTC: IRM: RWLK: ACI: MGEN: FMCC: PK: CLX: SCO: TMDI: NBAC: AGNC: ABEO: RAVE: CPPRQ: CHKAQ: CRON: GIGM: WPG: XELB: QTT: VXUS: RMG: VTEB: TGC: NYMT: UGAZF: EXK: CLEU: APPH: ANCN: SM: TH: BHTG: HCDI: PZC: SCHD: GS: NIU: PSX: AUY: ZNOG: BIMI: GAU: VERI: ALK: EXPE: IFMK: GORO: ANPC: GDXJ: BEST: SGOL: HL: ZYNE: SONY: PDD: PDSB: MDRR: COF: AEMD: SCHB: LYV: DIG: CBLI: ANIX: CLVS: NDRA: GCI - thread num: 6  -  71 / 103\n"
     ]
    },
    {
     "name": "stderr",
     "output_type": "stream",
     "text": [
      "\n",
      "Thread num: 2:  66%|██████████████████████████████████████▎                   | 68/103 [31:30:13<19:48:18, 2037.11s/it]\u001b[A"
     ]
    },
    {
     "name": "stdout",
     "output_type": "stream",
     "text": [
      "completed symbols AREC: NEXT: STNE: STNG: ENVB: VB: HTGM: PFMT: SWN: VRM: ACTC: ZI: NTN: AMRN: AMPY: PCG: DOW: INFI: YCBD: RCON: HGSH: MNOV: BSV: GLMD: CHGG: IDXX: VO: HX: BLOK: VSTM: MAXR: MTP: SLS: WBA: FINV: EVC: LIT: BEP: BLIN: CAPR: PRNT: AAXN: PSFE: KIQ: MPC: BIIB: SINO: NNVC: PLIN: ILMN: DOGZ: SFTW: GSX: TECL: UMC: CLRB: MITO: POWW: GDX: PAYS: CHNR: CLII: CTIB: VVUSQ: KERN: EDR: ATVI: RCMT - thread num: 2  -  68 / 103\n"
     ]
    },
    {
     "name": "stderr",
     "output_type": "stream",
     "text": [
      "\n",
      "\n",
      "\n",
      "\n",
      "Thread num: 5:  61%|███████████████████████████████████▍                      | 63/103 [31:30:44<26:11:52, 2357.81s/it]\u001b[A\u001b[A\u001b[A\u001b[A"
     ]
    },
    {
     "name": "stdout",
     "output_type": "stream",
     "text": [
      "completed symbols EQ: GRIL: UA: LBYYQ: ITUB: EQOS: XERS: FSM: CSIQ: ASAN: QYLD: MGI: PG: MRVL: AESE: OKE: MESO: MRIN: HIBL: SDS: AG: CRIS: CPRX: MIK: ASM: AGQ: ERX: VIG: CLDR: QCLN: IMV: GNOG: ASML: REGN: CATB: ARKX: CHX: JAMF: GPL: XAN: AAME: MIST: TGI: VOE: SPYD: ALJJ: MOXC: PETZ: TUP: AQST: MO: VV: CSLT: HUGE: ZEST: SPR: FE: VEA: ARNC: DSS: NGA: SMH: XONE - thread num: 5  -  63 / 103\n"
     ]
    },
    {
     "name": "stderr",
     "output_type": "stream",
     "text": [
      "\n",
      "\n",
      "Thread num: 4:  64%|█████████████████████████████████████▏                    | 66/103 [31:37:06<27:18:42, 2657.37s/it]\u001b[A\u001b[A"
     ]
    },
    {
     "name": "stdout",
     "output_type": "stream",
     "text": [
      "completed symbols NH: SNCA: TGA: VBK: ATOM: MKD: TRUL: NLSP: SPLK: SCHO: ALRN: DISCB: TMUS: WIX: SDC: CTEK: PEIX: FAZ: SNGX: AIV: BETZ: ELYS: ORCL: CARV: CAT: AA: CFMS: AQB: MITT: MELI: HMY: SCYX: OXLC: RTX: PBI: WAFU: CTIC: RAD: NXE: SRAC: AMAT: MINT: SIRI: CNSP: MRKR: GHVI: SLDB: PEP: DRRX: IIPR: SVXY: PULM: EVOL: WORX: TEVA: SPXU: VBR: GLUU: SKT: BIL: LGND: SEDG: FRX: XLE: LYFT: SUN - thread num: 4  -  66 / 103\n"
     ]
    },
    {
     "name": "stderr",
     "output_type": "stream",
     "text": [
      "\r",
      "Thread num: 0:  65%|█████████████████████████████████████▋                    | 67/103 [31:44:47<21:24:11, 2140.33s/it]"
     ]
    },
    {
     "name": "stdout",
     "output_type": "stream",
     "text": [
      "completed symbols ENOB: MUDS: IZEA: ONCY: RNET: OVID: LMT: MRK: BIG: SI: VTGN: SVM: THMO: DPZ: KOPN: TIGR: INTU: HUSA: DFS: VZIO: APOP: MCHI: GOL: TAOP: GILD: ACCD: GDRX: FREQ: POSH: RMO: GLSI: AVCT: ZKIN: ABEV: ARLO: MDGS: YGMZ: VOOG: CKPT: DRIV: MAR: FNGD: GIK: SONO: ODT: FANG: BNTC: ADIL: ORTX: IPOB: AQMS: CNDT: ABIO: KSS: CMPD: GPS: HAL: ACIC: TSN: PHIO: VRTX: XPEL: XM: BTU: CJJD: OTRK: HOTH - thread num: 0  -  67 / 103\n"
     ]
    },
    {
     "name": "stderr",
     "output_type": "stream",
     "text": [
      "\n",
      "\n",
      "\n",
      "\n",
      "\n",
      "\n",
      "Thread num: 1:  74%|██████████████████████████████████████████▊               | 76/103 [31:53:37<16:59:03, 2264.59s/it]\u001b[A\u001b[A\u001b[A\u001b[A\u001b[A\u001b[A"
     ]
    },
    {
     "name": "stdout",
     "output_type": "stream",
     "text": [
      "completed symbols EGYF: SFIX: NTDOY: SFT: QID: AXP: PSEC: CLPS: KTRA: LC: QD: EKSO: DG: UPRO: THBR: GTHX: ADTX: AUMN: CGIX: BHR: NETE: SPRT: EVRI: CORR: HIBS: CANF: RESN: BOIL: MNMD: SHY: VCNX: NUGT: TCEHY: FTCV: AMTX: FBIO: BVXV: GEENQ: SNES: POTX: AACG: HGEND: AIRI: IEZ: ACY: QLD: TENX: SAN: EPD: XBIO: LGVW: GTEC: RGLS: CVX: DYNT: STCN: AMRS: ETM: FNMA: MLND: VIR: KGC: CYH: SLVO: FUTU: VWO: CCI: CUEN: PSQ: IMTE: HSDT: SGLB: MSOS: BKNG: NK: APA - thread num: 1  -  76 / 103\n"
     ]
    },
    {
     "name": "stderr",
     "output_type": "stream",
     "text": [
      "\n",
      "\n",
      "\n",
      "\n",
      "\n",
      "\n",
      "\n",
      "Thread num: 3:  76%|███████████████████████████████████████████▉              | 78/103 [31:54:05<16:07:40, 2322.44s/it]\u001b[A\u001b[A\u001b[A\u001b[A\u001b[A\u001b[A\u001b[A"
     ]
    },
    {
     "name": "stdout",
     "output_type": "stream",
     "text": [
      "completed symbols FLDM: RCKT: BFLY: BBY: VWAGY: ATNF: AVCO: RVP: BBIG: EFOI: FUSE: AGEN: RKDA: GHIV: IAU: PRQR: PT: SPPI: LIZI: PRPL: INSG: ROOT: RSCF: ICON: CYRN: APTX: IPOD: ARPO: ANY: GAN: ALNA: CPHI: CCO: LVS: AIHS: BUZZ: ORI: ISIG: OCX: GSM: MSTR: ADT: LTHM: DTSS: FISV: COTY: BMY: ACAD: MOGU: STPK: SING: CUK: ERI: NGL: DOYU: FAS: STMP: DMPI: VNQ: YOLO: NOG: BILI: AM: VFF: AGTC: GRAF: VGAC: BDX: DRIP: PTY: NEE: MNLO: W: WISA: DBX: CMG: RC: APM - thread num: 3  -  78 / 103\n"
     ]
    },
    {
     "name": "stderr",
     "output_type": "stream",
     "text": [
      "\n",
      "\n",
      "\n",
      "Thread num: 6:  70%|████████████████████████████████████████▌                 | 72/103 [31:55:42<19:59:23, 2321.41s/it]\u001b[A\u001b[A\u001b[A"
     ]
    },
    {
     "name": "stdout",
     "output_type": "stream",
     "text": [
      "completed symbols GPRO: CVAC: IRTC: IRM: RWLK: ACI: MGEN: FMCC: PK: CLX: SCO: TMDI: NBAC: AGNC: ABEO: RAVE: CPPRQ: CHKAQ: CRON: GIGM: WPG: XELB: QTT: VXUS: RMG: VTEB: TGC: NYMT: UGAZF: EXK: CLEU: APPH: ANCN: SM: TH: BHTG: HCDI: PZC: SCHD: GS: NIU: PSX: AUY: ZNOG: BIMI: GAU: VERI: ALK: EXPE: IFMK: GORO: ANPC: GDXJ: BEST: SGOL: HL: ZYNE: SONY: PDD: PDSB: MDRR: COF: AEMD: SCHB: LYV: DIG: CBLI: ANIX: CLVS: NDRA: GCI: SRTY - thread num: 6  -  72 / 103\n"
     ]
    },
    {
     "name": "stderr",
     "output_type": "stream",
     "text": [
      "\n",
      "\n",
      "\n",
      "\n",
      "Thread num: 5:  62%|████████████████████████████████████                      | 64/103 [32:05:51<24:43:37, 2282.49s/it]\u001b[A\u001b[A\u001b[A\u001b[A"
     ]
    },
    {
     "name": "stdout",
     "output_type": "stream",
     "text": [
      "completed symbols EQ: GRIL: UA: LBYYQ: ITUB: EQOS: XERS: FSM: CSIQ: ASAN: QYLD: MGI: PG: MRVL: AESE: OKE: MESO: MRIN: HIBL: SDS: AG: CRIS: CPRX: MIK: ASM: AGQ: ERX: VIG: CLDR: QCLN: IMV: GNOG: ASML: REGN: CATB: ARKX: CHX: JAMF: GPL: XAN: AAME: MIST: TGI: VOE: SPYD: ALJJ: MOXC: PETZ: TUP: AQST: MO: VV: CSLT: HUGE: ZEST: SPR: FE: VEA: ARNC: DSS: NGA: SMH: XONE: JILL - thread num: 5  -  64 / 103\n"
     ]
    },
    {
     "name": "stderr",
     "output_type": "stream",
     "text": [
      "\n",
      "Thread num: 2:  67%|██████████████████████████████████████▊                   | 69/103 [32:07:46<19:50:58, 2101.71s/it]\u001b[A"
     ]
    },
    {
     "name": "stdout",
     "output_type": "stream",
     "text": [
      "completed symbols AREC: NEXT: STNE: STNG: ENVB: VB: HTGM: PFMT: SWN: VRM: ACTC: ZI: NTN: AMRN: AMPY: PCG: DOW: INFI: YCBD: RCON: HGSH: MNOV: BSV: GLMD: CHGG: IDXX: VO: HX: BLOK: VSTM: MAXR: MTP: SLS: WBA: FINV: EVC: LIT: BEP: BLIN: CAPR: PRNT: AAXN: PSFE: KIQ: MPC: BIIB: SINO: NNVC: PLIN: ILMN: DOGZ: SFTW: GSX: TECL: UMC: CLRB: MITO: POWW: GDX: PAYS: CHNR: CLII: CTIB: VVUSQ: KERN: EDR: ATVI: RCMT: QDEL - thread num: 2  -  69 / 103\n"
     ]
    },
    {
     "name": "stderr",
     "output_type": "stream",
     "text": [
      "\n",
      "\n",
      "Thread num: 4:  65%|█████████████████████████████████████▋                    | 67/103 [32:13:03<25:04:29, 2507.49s/it]\u001b[A\u001b[A"
     ]
    },
    {
     "name": "stdout",
     "output_type": "stream",
     "text": [
      "completed symbols NH: SNCA: TGA: VBK: ATOM: MKD: TRUL: NLSP: SPLK: SCHO: ALRN: DISCB: TMUS: WIX: SDC: CTEK: PEIX: FAZ: SNGX: AIV: BETZ: ELYS: ORCL: CARV: CAT: AA: CFMS: AQB: MITT: MELI: HMY: SCYX: OXLC: RTX: PBI: WAFU: CTIC: RAD: NXE: SRAC: AMAT: MINT: SIRI: CNSP: MRKR: GHVI: SLDB: PEP: DRRX: IIPR: SVXY: PULM: EVOL: WORX: TEVA: SPXU: VBR: GLUU: SKT: BIL: LGND: SEDG: FRX: XLE: LYFT: SUN: CNET - thread num: 4  -  67 / 103\n"
     ]
    },
    {
     "name": "stderr",
     "output_type": "stream",
     "text": [
      "\r",
      "Thread num: 0:  66%|██████████████████████████████████████▎                   | 68/103 [32:24:02<21:25:58, 2204.52s/it]"
     ]
    },
    {
     "name": "stdout",
     "output_type": "stream",
     "text": [
      "completed symbols ENOB: MUDS: IZEA: ONCY: RNET: OVID: LMT: MRK: BIG: SI: VTGN: SVM: THMO: DPZ: KOPN: TIGR: INTU: HUSA: DFS: VZIO: APOP: MCHI: GOL: TAOP: GILD: ACCD: GDRX: FREQ: POSH: RMO: GLSI: AVCT: ZKIN: ABEV: ARLO: MDGS: YGMZ: VOOG: CKPT: DRIV: MAR: FNGD: GIK: SONO: ODT: FANG: BNTC: ADIL: ORTX: IPOB: AQMS: CNDT: ABIO: KSS: CMPD: GPS: HAL: ACIC: TSN: PHIO: VRTX: XPEL: XM: BTU: CJJD: OTRK: HOTH: DRI - thread num: 0  -  68 / 103\n"
     ]
    },
    {
     "name": "stderr",
     "output_type": "stream",
     "text": [
      "\n",
      "\n",
      "\n",
      "\n",
      "\n",
      "\n",
      "Thread num: 1:  75%|███████████████████████████████████████████▎              | 77/103 [32:30:18<16:13:04, 2245.56s/it]\u001b[A\u001b[A\u001b[A\u001b[A\u001b[A\u001b[A"
     ]
    },
    {
     "name": "stdout",
     "output_type": "stream",
     "text": [
      "completed symbols EGYF: SFIX: NTDOY: SFT: QID: AXP: PSEC: CLPS: KTRA: LC: QD: EKSO: DG: UPRO: THBR: GTHX: ADTX: AUMN: CGIX: BHR: NETE: SPRT: EVRI: CORR: HIBS: CANF: RESN: BOIL: MNMD: SHY: VCNX: NUGT: TCEHY: FTCV: AMTX: FBIO: BVXV: GEENQ: SNES: POTX: AACG: HGEND: AIRI: IEZ: ACY: QLD: TENX: SAN: EPD: XBIO: LGVW: GTEC: RGLS: CVX: DYNT: STCN: AMRS: ETM: FNMA: MLND: VIR: KGC: CYH: SLVO: FUTU: VWO: CCI: CUEN: PSQ: IMTE: HSDT: SGLB: MSOS: BKNG: NK: APA: BWEN - thread num: 1  -  77 / 103\n"
     ]
    },
    {
     "name": "stderr",
     "output_type": "stream",
     "text": [
      "\n",
      "\n",
      "\n",
      "\n",
      "\n",
      "\n",
      "\n",
      "Thread num: 3:  77%|████████████████████████████████████████████▍             | 79/103 [32:31:31<15:19:48, 2299.53s/it]\u001b[A\u001b[A\u001b[A\u001b[A\u001b[A\u001b[A\u001b[A"
     ]
    },
    {
     "name": "stdout",
     "output_type": "stream",
     "text": [
      "completed symbols FLDM: RCKT: BFLY: BBY: VWAGY: ATNF: AVCO: RVP: BBIG: EFOI: FUSE: AGEN: RKDA: GHIV: IAU: PRQR: PT: SPPI: LIZI: PRPL: INSG: ROOT: RSCF: ICON: CYRN: APTX: IPOD: ARPO: ANY: GAN: ALNA: CPHI: CCO: LVS: AIHS: BUZZ: ORI: ISIG: OCX: GSM: MSTR: ADT: LTHM: DTSS: FISV: COTY: BMY: ACAD: MOGU: STPK: SING: CUK: ERI: NGL: DOYU: FAS: STMP: DMPI: VNQ: YOLO: NOG: BILI: AM: VFF: AGTC: GRAF: VGAC: BDX: DRIP: PTY: NEE: MNLO: W: WISA: DBX: CMG: RC: APM: NBR - thread num: 3  -  79 / 103\n"
     ]
    },
    {
     "name": "stderr",
     "output_type": "stream",
     "text": [
      "\n",
      "\n",
      "\n",
      "Thread num: 6:  71%|█████████████████████████████████████████                 | 73/103 [32:37:05<19:44:56, 2369.90s/it]\u001b[A\u001b[A\u001b[A"
     ]
    },
    {
     "name": "stdout",
     "output_type": "stream",
     "text": [
      "completed symbols GPRO: CVAC: IRTC: IRM: RWLK: ACI: MGEN: FMCC: PK: CLX: SCO: TMDI: NBAC: AGNC: ABEO: RAVE: CPPRQ: CHKAQ: CRON: GIGM: WPG: XELB: QTT: VXUS: RMG: VTEB: TGC: NYMT: UGAZF: EXK: CLEU: APPH: ANCN: SM: TH: BHTG: HCDI: PZC: SCHD: GS: NIU: PSX: AUY: ZNOG: BIMI: GAU: VERI: ALK: EXPE: IFMK: GORO: ANPC: GDXJ: BEST: SGOL: HL: ZYNE: SONY: PDD: PDSB: MDRR: COF: AEMD: SCHB: LYV: DIG: CBLI: ANIX: CLVS: NDRA: GCI: SRTY: NVTA - thread num: 6  -  73 / 103\n"
     ]
    },
    {
     "name": "stderr",
     "output_type": "stream",
     "text": [
      "\n",
      "\n",
      "\n",
      "\n",
      "Thread num: 5:  63%|████████████████████████████████████▌                     | 65/103 [32:43:35<24:01:59, 2276.84s/it]\u001b[A\u001b[A\u001b[A\u001b[A"
     ]
    },
    {
     "name": "stdout",
     "output_type": "stream",
     "text": [
      "completed symbols EQ: GRIL: UA: LBYYQ: ITUB: EQOS: XERS: FSM: CSIQ: ASAN: QYLD: MGI: PG: MRVL: AESE: OKE: MESO: MRIN: HIBL: SDS: AG: CRIS: CPRX: MIK: ASM: AGQ: ERX: VIG: CLDR: QCLN: IMV: GNOG: ASML: REGN: CATB: ARKX: CHX: JAMF: GPL: XAN: AAME: MIST: TGI: VOE: SPYD: ALJJ: MOXC: PETZ: TUP: AQST: MO: VV: CSLT: HUGE: ZEST: SPR: FE: VEA: ARNC: DSS: NGA: SMH: XONE: JILL: DOG - thread num: 5  -  65 / 103\n"
     ]
    },
    {
     "name": "stderr",
     "output_type": "stream",
     "text": [
      "\n"
     ]
    },
    {
     "name": "stdout",
     "output_type": "stream",
     "text": [
      "completed symbols AREC: NEXT: STNE: STNG: ENVB: VB: HTGM: PFMT: SWN: VRM: ACTC: ZI: NTN: AMRN: AMPY: PCG: DOW: INFI: YCBD: RCON: HGSH: MNOV: BSV: GLMD: CHGG: IDXX: VO: HX: BLOK: VSTM: MAXR: MTP: SLS: WBA: FINV: EVC: LIT: BEP: BLIN: CAPR: PRNT: AAXN: PSFE: KIQ: MPC: BIIB: SINO: NNVC: PLIN: ILMN: DOGZ: SFTW: GSX: TECL: UMC: CLRB: MITO: POWW: GDX: PAYS: CHNR: CLII: CTIB: VVUSQ: KERN: EDR: ATVI: RCMT: QDEL: CZR - thread num: 2  -  70 / 103\n"
     ]
    },
    {
     "name": "stderr",
     "output_type": "stream",
     "text": [
      "Thread num: 2:  68%|███████████████████████████████████████▍                  | 70/103 [32:50:37<20:33:27, 2242.64s/it]\u001b[A\n",
      "\n",
      "Thread num: 4:  66%|██████████████████████████████████████▎                   | 68/103 [32:54:26<24:18:17, 2499.94s/it]\u001b[A\u001b[A"
     ]
    },
    {
     "name": "stdout",
     "output_type": "stream",
     "text": [
      "completed symbols NH: SNCA: TGA: VBK: ATOM: MKD: TRUL: NLSP: SPLK: SCHO: ALRN: DISCB: TMUS: WIX: SDC: CTEK: PEIX: FAZ: SNGX: AIV: BETZ: ELYS: ORCL: CARV: CAT: AA: CFMS: AQB: MITT: MELI: HMY: SCYX: OXLC: RTX: PBI: WAFU: CTIC: RAD: NXE: SRAC: AMAT: MINT: SIRI: CNSP: MRKR: GHVI: SLDB: PEP: DRRX: IIPR: SVXY: PULM: EVOL: WORX: TEVA: SPXU: VBR: GLUU: SKT: BIL: LGND: SEDG: FRX: XLE: LYFT: SUN: CNET: ERIC - thread num: 4  -  68 / 103\n"
     ]
    },
    {
     "name": "stderr",
     "output_type": "stream",
     "text": [
      "\r",
      "Thread num: 0:  67%|██████████████████████████████████████▊                   | 69/103 [32:59:57<20:40:55, 2189.86s/it]"
     ]
    },
    {
     "name": "stdout",
     "output_type": "stream",
     "text": [
      "completed symbols ENOB: MUDS: IZEA: ONCY: RNET: OVID: LMT: MRK: BIG: SI: VTGN: SVM: THMO: DPZ: KOPN: TIGR: INTU: HUSA: DFS: VZIO: APOP: MCHI: GOL: TAOP: GILD: ACCD: GDRX: FREQ: POSH: RMO: GLSI: AVCT: ZKIN: ABEV: ARLO: MDGS: YGMZ: VOOG: CKPT: DRIV: MAR: FNGD: GIK: SONO: ODT: FANG: BNTC: ADIL: ORTX: IPOB: AQMS: CNDT: ABIO: KSS: CMPD: GPS: HAL: ACIC: TSN: PHIO: VRTX: XPEL: XM: BTU: CJJD: OTRK: HOTH: DRI: APVO - thread num: 0  -  69 / 103\n"
     ]
    },
    {
     "name": "stderr",
     "output_type": "stream",
     "text": [
      "\n",
      "\n",
      "\n",
      "\n",
      "\n",
      "\n",
      "\n",
      "Thread num: 3:  78%|█████████████████████████████████████████████             | 80/103 [33:07:42<14:26:38, 2260.80s/it]\u001b[A\u001b[A\u001b[A\u001b[A\u001b[A\u001b[A\u001b[A"
     ]
    },
    {
     "name": "stdout",
     "output_type": "stream",
     "text": [
      "completed symbols FLDM: RCKT: BFLY: BBY: VWAGY: ATNF: AVCO: RVP: BBIG: EFOI: FUSE: AGEN: RKDA: GHIV: IAU: PRQR: PT: SPPI: LIZI: PRPL: INSG: ROOT: RSCF: ICON: CYRN: APTX: IPOD: ARPO: ANY: GAN: ALNA: CPHI: CCO: LVS: AIHS: BUZZ: ORI: ISIG: OCX: GSM: MSTR: ADT: LTHM: DTSS: FISV: COTY: BMY: ACAD: MOGU: STPK: SING: CUK: ERI: NGL: DOYU: FAS: STMP: DMPI: VNQ: YOLO: NOG: BILI: AM: VFF: AGTC: GRAF: VGAC: BDX: DRIP: PTY: NEE: MNLO: W: WISA: DBX: CMG: RC: APM: NBR: PLM - thread num: 3  -  80 / 103\n"
     ]
    },
    {
     "name": "stderr",
     "output_type": "stream",
     "text": [
      "\n",
      "\n",
      "\n",
      "\n",
      "\n",
      "\n",
      "Thread num: 1:  76%|███████████████████████████████████████████▉              | 78/103 [33:08:37<15:42:18, 2261.55s/it]\u001b[A\u001b[A\u001b[A\u001b[A\u001b[A\u001b[A"
     ]
    },
    {
     "name": "stdout",
     "output_type": "stream",
     "text": [
      "completed symbols EGYF: SFIX: NTDOY: SFT: QID: AXP: PSEC: CLPS: KTRA: LC: QD: EKSO: DG: UPRO: THBR: GTHX: ADTX: AUMN: CGIX: BHR: NETE: SPRT: EVRI: CORR: HIBS: CANF: RESN: BOIL: MNMD: SHY: VCNX: NUGT: TCEHY: FTCV: AMTX: FBIO: BVXV: GEENQ: SNES: POTX: AACG: HGEND: AIRI: IEZ: ACY: QLD: TENX: SAN: EPD: XBIO: LGVW: GTEC: RGLS: CVX: DYNT: STCN: AMRS: ETM: FNMA: MLND: VIR: KGC: CYH: SLVO: FUTU: VWO: CCI: CUEN: PSQ: IMTE: HSDT: SGLB: MSOS: BKNG: NK: APA: BWEN: BJ - thread num: 1  -  78 / 103\n"
     ]
    },
    {
     "name": "stderr",
     "output_type": "stream",
     "text": [
      "\n",
      "\n",
      "Thread num: 4:  67%|██████████████████████████████████████▊                   | 69/103 [33:09:22<19:03:56, 2018.73s/it]\u001b[A\u001b[A"
     ]
    },
    {
     "name": "stdout",
     "output_type": "stream",
     "text": [
      "completed symbols NH: SNCA: TGA: VBK: ATOM: MKD: TRUL: NLSP: SPLK: SCHO: ALRN: DISCB: TMUS: WIX: SDC: CTEK: PEIX: FAZ: SNGX: AIV: BETZ: ELYS: ORCL: CARV: CAT: AA: CFMS: AQB: MITT: MELI: HMY: SCYX: OXLC: RTX: PBI: WAFU: CTIC: RAD: NXE: SRAC: AMAT: MINT: SIRI: CNSP: MRKR: GHVI: SLDB: PEP: DRRX: IIPR: SVXY: PULM: EVOL: WORX: TEVA: SPXU: VBR: GLUU: SKT: BIL: LGND: SEDG: FRX: XLE: LYFT: SUN: CNET: ERIC: PPBT - thread num: 4  -  69 / 103\n"
     ]
    },
    {
     "name": "stderr",
     "output_type": "stream",
     "text": [
      "\n",
      "\n",
      "\n",
      "Thread num: 6:  72%|█████████████████████████████████████████▋                | 74/103 [33:16:45<19:06:55, 2372.95s/it]\u001b[A\u001b[A\u001b[A"
     ]
    },
    {
     "name": "stdout",
     "output_type": "stream",
     "text": [
      "completed symbols GPRO: CVAC: IRTC: IRM: RWLK: ACI: MGEN: FMCC: PK: CLX: SCO: TMDI: NBAC: AGNC: ABEO: RAVE: CPPRQ: CHKAQ: CRON: GIGM: WPG: XELB: QTT: VXUS: RMG: VTEB: TGC: NYMT: UGAZF: EXK: CLEU: APPH: ANCN: SM: TH: BHTG: HCDI: PZC: SCHD: GS: NIU: PSX: AUY: ZNOG: BIMI: GAU: VERI: ALK: EXPE: IFMK: GORO: ANPC: GDXJ: BEST: SGOL: HL: ZYNE: SONY: PDD: PDSB: MDRR: COF: AEMD: SCHB: LYV: DIG: CBLI: ANIX: CLVS: NDRA: GCI: SRTY: NVTA: LABU - thread num: 6  -  74 / 103\n"
     ]
    },
    {
     "name": "stderr",
     "output_type": "stream",
     "text": [
      "\n",
      "\n",
      "\n",
      "\n",
      "Thread num: 5:  64%|█████████████████████████████████████▏                    | 66/103 [33:19:06<22:57:04, 2233.09s/it]"
     ]
    },
    {
     "name": "stdout",
     "output_type": "stream",
     "text": [
      "completed symbols EQ: GRIL: UA: LBYYQ: ITUB: EQOS: XERS: FSM: CSIQ: ASAN: QYLD: MGI: PG: MRVL: AESE: OKE: MESO: MRIN: HIBL: SDS: AG: CRIS: CPRX: MIK: ASM: AGQ: ERX: VIG: CLDR: QCLN: IMV: GNOG: ASML: REGN: CATB: ARKX: CHX: JAMF: GPL: XAN: AAME: MIST: TGI: VOE: SPYD: ALJJ: MOXC: PETZ: TUP: AQST: MO: VV: CSLT: HUGE: ZEST: SPR: FE: VEA: ARNC: DSS: NGA: SMH: XONE: JILL: DOG: CREX - thread num: 5  -  66 / 103\n"
     ]
    },
    {
     "name": "stderr",
     "output_type": "stream",
     "text": [
      "\u001b[A\u001b[A\u001b[A\u001b[A\n",
      "Thread num: 2:  69%|███████████████████████████████████████▉                  | 71/103 [33:31:11<20:26:42, 2300.08s/it]\u001b[A"
     ]
    },
    {
     "name": "stdout",
     "output_type": "stream",
     "text": [
      "completed symbols AREC: NEXT: STNE: STNG: ENVB: VB: HTGM: PFMT: SWN: VRM: ACTC: ZI: NTN: AMRN: AMPY: PCG: DOW: INFI: YCBD: RCON: HGSH: MNOV: BSV: GLMD: CHGG: IDXX: VO: HX: BLOK: VSTM: MAXR: MTP: SLS: WBA: FINV: EVC: LIT: BEP: BLIN: CAPR: PRNT: AAXN: PSFE: KIQ: MPC: BIIB: SINO: NNVC: PLIN: ILMN: DOGZ: SFTW: GSX: TECL: UMC: CLRB: MITO: POWW: GDX: PAYS: CHNR: CLII: CTIB: VVUSQ: KERN: EDR: ATVI: RCMT: QDEL: CZR: FSLR - thread num: 2  -  71 / 103\n"
     ]
    },
    {
     "name": "stderr",
     "output_type": "stream",
     "text": [
      "\n",
      "\n",
      "\n",
      "Thread num: 6:  73%|██████████████████████████████████████████▏               | 75/103 [33:41:52<16:26:06, 2113.10s/it]\u001b[A\u001b[A\u001b[A"
     ]
    },
    {
     "name": "stdout",
     "output_type": "stream",
     "text": [
      "completed symbols GPRO: CVAC: IRTC: IRM: RWLK: ACI: MGEN: FMCC: PK: CLX: SCO: TMDI: NBAC: AGNC: ABEO: RAVE: CPPRQ: CHKAQ: CRON: GIGM: WPG: XELB: QTT: VXUS: RMG: VTEB: TGC: NYMT: UGAZF: EXK: CLEU: APPH: ANCN: SM: TH: BHTG: HCDI: PZC: SCHD: GS: NIU: PSX: AUY: ZNOG: BIMI: GAU: VERI: ALK: EXPE: IFMK: GORO: ANPC: GDXJ: BEST: SGOL: HL: ZYNE: SONY: PDD: PDSB: MDRR: COF: AEMD: SCHB: LYV: DIG: CBLI: ANIX: CLVS: NDRA: GCI: SRTY: NVTA: LABU: IPOC - thread num: 6  -  75 / 103\n"
     ]
    },
    {
     "name": "stderr",
     "output_type": "stream",
     "text": [
      "\r",
      "Thread num: 0:  68%|███████████████████████████████████████▍                  | 70/103 [33:45:35<21:34:52, 2354.32s/it]"
     ]
    },
    {
     "name": "stdout",
     "output_type": "stream",
     "text": [
      "completed symbols ENOB: MUDS: IZEA: ONCY: RNET: OVID: LMT: MRK: BIG: SI: VTGN: SVM: THMO: DPZ: KOPN: TIGR: INTU: HUSA: DFS: VZIO: APOP: MCHI: GOL: TAOP: GILD: ACCD: GDRX: FREQ: POSH: RMO: GLSI: AVCT: ZKIN: ABEV: ARLO: MDGS: YGMZ: VOOG: CKPT: DRIV: MAR: FNGD: GIK: SONO: ODT: FANG: BNTC: ADIL: ORTX: IPOB: AQMS: CNDT: ABIO: KSS: CMPD: GPS: HAL: ACIC: TSN: PHIO: VRTX: XPEL: XM: BTU: CJJD: OTRK: HOTH: DRI: APVO: Z - thread num: 0  -  70 / 103\n"
     ]
    },
    {
     "name": "stderr",
     "output_type": "stream",
     "text": [
      "\n",
      "\n",
      "\n",
      "\n",
      "\n",
      "\n",
      "Thread num: 1:  77%|████████████████████████████████████████████▍             | 79/103 [33:49:29<15:27:27, 2318.63s/it]\u001b[A\u001b[A\u001b[A\u001b[A\u001b[A\u001b[A"
     ]
    },
    {
     "name": "stdout",
     "output_type": "stream",
     "text": [
      "completed symbols EGYF: SFIX: NTDOY: SFT: QID: AXP: PSEC: CLPS: KTRA: LC: QD: EKSO: DG: UPRO: THBR: GTHX: ADTX: AUMN: CGIX: BHR: NETE: SPRT: EVRI: CORR: HIBS: CANF: RESN: BOIL: MNMD: SHY: VCNX: NUGT: TCEHY: FTCV: AMTX: FBIO: BVXV: GEENQ: SNES: POTX: AACG: HGEND: AIRI: IEZ: ACY: QLD: TENX: SAN: EPD: XBIO: LGVW: GTEC: RGLS: CVX: DYNT: STCN: AMRS: ETM: FNMA: MLND: VIR: KGC: CYH: SLVO: FUTU: VWO: CCI: CUEN: PSQ: IMTE: HSDT: SGLB: MSOS: BKNG: NK: APA: BWEN: BJ: RRD - thread num: 1  -  79 / 103\n"
     ]
    },
    {
     "name": "stderr",
     "output_type": "stream",
     "text": [
      "\n",
      "\n",
      "\n",
      "\n",
      "\n",
      "\n",
      "\n",
      "Thread num: 3:  79%|█████████████████████████████████████████████▌            | 81/103 [33:52:42<14:37:16, 2392.58s/it]\u001b[A\u001b[A\u001b[A\u001b[A\u001b[A\u001b[A\u001b[A"
     ]
    },
    {
     "name": "stdout",
     "output_type": "stream",
     "text": [
      "completed symbols FLDM: RCKT: BFLY: BBY: VWAGY: ATNF: AVCO: RVP: BBIG: EFOI: FUSE: AGEN: RKDA: GHIV: IAU: PRQR: PT: SPPI: LIZI: PRPL: INSG: ROOT: RSCF: ICON: CYRN: APTX: IPOD: ARPO: ANY: GAN: ALNA: CPHI: CCO: LVS: AIHS: BUZZ: ORI: ISIG: OCX: GSM: MSTR: ADT: LTHM: DTSS: FISV: COTY: BMY: ACAD: MOGU: STPK: SING: CUK: ERI: NGL: DOYU: FAS: STMP: DMPI: VNQ: YOLO: NOG: BILI: AM: VFF: AGTC: GRAF: VGAC: BDX: DRIP: PTY: NEE: MNLO: W: WISA: DBX: CMG: RC: APM: NBR: PLM: CHTR - thread num: 3  -  81 / 103\n"
     ]
    },
    {
     "name": "stderr",
     "output_type": "stream",
     "text": [
      "\n",
      "\n",
      "Thread num: 4:  68%|███████████████████████████████████████▍                  | 70/103 [33:55:00<20:29:02, 2234.62s/it]\u001b[A\u001b[A"
     ]
    },
    {
     "name": "stdout",
     "output_type": "stream",
     "text": [
      "completed symbols NH: SNCA: TGA: VBK: ATOM: MKD: TRUL: NLSP: SPLK: SCHO: ALRN: DISCB: TMUS: WIX: SDC: CTEK: PEIX: FAZ: SNGX: AIV: BETZ: ELYS: ORCL: CARV: CAT: AA: CFMS: AQB: MITT: MELI: HMY: SCYX: OXLC: RTX: PBI: WAFU: CTIC: RAD: NXE: SRAC: AMAT: MINT: SIRI: CNSP: MRKR: GHVI: SLDB: PEP: DRRX: IIPR: SVXY: PULM: EVOL: WORX: TEVA: SPXU: VBR: GLUU: SKT: BIL: LGND: SEDG: FRX: XLE: LYFT: SUN: CNET: ERIC: PPBT: BCRX - thread num: 4  -  70 / 103\n"
     ]
    },
    {
     "name": "stderr",
     "output_type": "stream",
     "text": [
      "\r",
      "Thread num: 0:  69%|███████████████████████████████████████▉                  | 71/103 [33:58:26<16:42:16, 1879.25s/it]"
     ]
    },
    {
     "name": "stdout",
     "output_type": "stream",
     "text": [
      "completed symbols ENOB: MUDS: IZEA: ONCY: RNET: OVID: LMT: MRK: BIG: SI: VTGN: SVM: THMO: DPZ: KOPN: TIGR: INTU: HUSA: DFS: VZIO: APOP: MCHI: GOL: TAOP: GILD: ACCD: GDRX: FREQ: POSH: RMO: GLSI: AVCT: ZKIN: ABEV: ARLO: MDGS: YGMZ: VOOG: CKPT: DRIV: MAR: FNGD: GIK: SONO: ODT: FANG: BNTC: ADIL: ORTX: IPOB: AQMS: CNDT: ABIO: KSS: CMPD: GPS: HAL: ACIC: TSN: PHIO: VRTX: XPEL: XM: BTU: CJJD: OTRK: HOTH: DRI: APVO: Z: CPNG - thread num: 0  -  71 / 103\n"
     ]
    },
    {
     "name": "stderr",
     "output_type": "stream",
     "text": [
      "\n",
      "\n",
      "\n",
      "\n",
      "Thread num: 5:  65%|█████████████████████████████████████▋                    | 67/103 [33:58:34<22:44:10, 2273.63s/it]\u001b[A\u001b[A\u001b[A\u001b[A"
     ]
    },
    {
     "name": "stdout",
     "output_type": "stream",
     "text": [
      "completed symbols EQ: GRIL: UA: LBYYQ: ITUB: EQOS: XERS: FSM: CSIQ: ASAN: QYLD: MGI: PG: MRVL: AESE: OKE: MESO: MRIN: HIBL: SDS: AG: CRIS: CPRX: MIK: ASM: AGQ: ERX: VIG: CLDR: QCLN: IMV: GNOG: ASML: REGN: CATB: ARKX: CHX: JAMF: GPL: XAN: AAME: MIST: TGI: VOE: SPYD: ALJJ: MOXC: PETZ: TUP: AQST: MO: VV: CSLT: HUGE: ZEST: SPR: FE: VEA: ARNC: DSS: NGA: SMH: XONE: JILL: DOG: CREX: APRE - thread num: 5  -  67 / 103\n"
     ]
    },
    {
     "name": "stderr",
     "output_type": "stream",
     "text": [
      "\n"
     ]
    },
    {
     "name": "stdout",
     "output_type": "stream",
     "text": [
      "completed symbols AREC: NEXT: STNE: STNG: ENVB: VB: HTGM: PFMT: SWN: VRM: ACTC: ZI: NTN: AMRN: AMPY: PCG: DOW: INFI: YCBD: RCON: HGSH: MNOV: BSV: GLMD: CHGG: IDXX: VO: HX: BLOK: VSTM: MAXR: MTP: SLS: WBA: FINV: EVC: LIT: BEP: BLIN: CAPR: PRNT: AAXN: PSFE: KIQ: MPC: BIIB: SINO: NNVC: PLIN: ILMN: DOGZ: SFTW: GSX: TECL: UMC: CLRB: MITO: POWW: GDX: PAYS: CHNR: CLII: CTIB: VVUSQ: KERN: EDR: ATVI: RCMT: QDEL: CZR: FSLR: XCUR - thread num: 2  -  72 / 103\n"
     ]
    },
    {
     "name": "stderr",
     "output_type": "stream",
     "text": [
      "Thread num: 2:  70%|████████████████████████████████████████▌                 | 72/103 [34:07:46<19:32:00, 2268.40s/it]\u001b[A\n",
      "\n",
      "\n",
      "Thread num: 6:  74%|██████████████████████████████████████████▊               | 76/103 [34:23:15<16:40:54, 2224.25s/it]\u001b[A\u001b[A\u001b[A"
     ]
    },
    {
     "name": "stdout",
     "output_type": "stream",
     "text": [
      "completed symbols GPRO: CVAC: IRTC: IRM: RWLK: ACI: MGEN: FMCC: PK: CLX: SCO: TMDI: NBAC: AGNC: ABEO: RAVE: CPPRQ: CHKAQ: CRON: GIGM: WPG: XELB: QTT: VXUS: RMG: VTEB: TGC: NYMT: UGAZF: EXK: CLEU: APPH: ANCN: SM: TH: BHTG: HCDI: PZC: SCHD: GS: NIU: PSX: AUY: ZNOG: BIMI: GAU: VERI: ALK: EXPE: IFMK: GORO: ANPC: GDXJ: BEST: SGOL: HL: ZYNE: SONY: PDD: PDSB: MDRR: COF: AEMD: SCHB: LYV: DIG: CBLI: ANIX: CLVS: NDRA: GCI: SRTY: NVTA: LABU: IPOC: LRCX - thread num: 6  -  76 / 103\n"
     ]
    },
    {
     "name": "stderr",
     "output_type": "stream",
     "text": [
      "\n",
      "\n",
      "\n",
      "\n",
      "\n",
      "\n",
      "Thread num: 1:  78%|█████████████████████████████████████████████             | 80/103 [34:25:04<14:27:45, 2263.71s/it]\u001b[A\u001b[A\u001b[A\u001b[A\u001b[A\u001b[A"
     ]
    },
    {
     "name": "stdout",
     "output_type": "stream",
     "text": [
      "completed symbols EGYF: SFIX: NTDOY: SFT: QID: AXP: PSEC: CLPS: KTRA: LC: QD: EKSO: DG: UPRO: THBR: GTHX: ADTX: AUMN: CGIX: BHR: NETE: SPRT: EVRI: CORR: HIBS: CANF: RESN: BOIL: MNMD: SHY: VCNX: NUGT: TCEHY: FTCV: AMTX: FBIO: BVXV: GEENQ: SNES: POTX: AACG: HGEND: AIRI: IEZ: ACY: QLD: TENX: SAN: EPD: XBIO: LGVW: GTEC: RGLS: CVX: DYNT: STCN: AMRS: ETM: FNMA: MLND: VIR: KGC: CYH: SLVO: FUTU: VWO: CCI: CUEN: PSQ: IMTE: HSDT: SGLB: MSOS: BKNG: NK: APA: BWEN: BJ: RRD: APTO - thread num: 1  -  80 / 103\n"
     ]
    },
    {
     "name": "stderr",
     "output_type": "stream",
     "text": [
      "\n",
      "\n",
      "\n",
      "\n",
      "\n",
      "\n",
      "\n",
      "Thread num: 3:  80%|██████████████████████████████████████████████▏           | 82/103 [34:27:58<13:28:22, 2309.65s/it]\u001b[A\u001b[A\u001b[A\u001b[A\u001b[A\u001b[A\u001b[A"
     ]
    },
    {
     "name": "stdout",
     "output_type": "stream",
     "text": [
      "completed symbols FLDM: RCKT: BFLY: BBY: VWAGY: ATNF: AVCO: RVP: BBIG: EFOI: FUSE: AGEN: RKDA: GHIV: IAU: PRQR: PT: SPPI: LIZI: PRPL: INSG: ROOT: RSCF: ICON: CYRN: APTX: IPOD: ARPO: ANY: GAN: ALNA: CPHI: CCO: LVS: AIHS: BUZZ: ORI: ISIG: OCX: GSM: MSTR: ADT: LTHM: DTSS: FISV: COTY: BMY: ACAD: MOGU: STPK: SING: CUK: ERI: NGL: DOYU: FAS: STMP: DMPI: VNQ: YOLO: NOG: BILI: AM: VFF: AGTC: GRAF: VGAC: BDX: DRIP: PTY: NEE: MNLO: W: WISA: DBX: CMG: RC: APM: NBR: PLM: CHTR: WATT - thread num: 3  -  82 / 103\n"
     ]
    },
    {
     "name": "stderr",
     "output_type": "stream",
     "text": [
      "\n",
      "\n",
      "Thread num: 4:  69%|███████████████████████████████████████▉                  | 71/103 [34:28:04<19:11:44, 2159.51s/it]\u001b[A\u001b[A"
     ]
    },
    {
     "name": "stdout",
     "output_type": "stream",
     "text": [
      "completed symbols NH: SNCA: TGA: VBK: ATOM: MKD: TRUL: NLSP: SPLK: SCHO: ALRN: DISCB: TMUS: WIX: SDC: CTEK: PEIX: FAZ: SNGX: AIV: BETZ: ELYS: ORCL: CARV: CAT: AA: CFMS: AQB: MITT: MELI: HMY: SCYX: OXLC: RTX: PBI: WAFU: CTIC: RAD: NXE: SRAC: AMAT: MINT: SIRI: CNSP: MRKR: GHVI: SLDB: PEP: DRRX: IIPR: SVXY: PULM: EVOL: WORX: TEVA: SPXU: VBR: GLUU: SKT: BIL: LGND: SEDG: FRX: XLE: LYFT: SUN: CNET: ERIC: PPBT: BCRX: YJ - thread num: 4  -  71 / 103\n"
     ]
    },
    {
     "name": "stderr",
     "output_type": "stream",
     "text": [
      "\r",
      "Thread num: 0:  70%|████████████████████████████████████████▌                 | 72/103 [34:30:43<16:19:54, 1896.60s/it]"
     ]
    },
    {
     "name": "stdout",
     "output_type": "stream",
     "text": [
      "completed symbols ENOB: MUDS: IZEA: ONCY: RNET: OVID: LMT: MRK: BIG: SI: VTGN: SVM: THMO: DPZ: KOPN: TIGR: INTU: HUSA: DFS: VZIO: APOP: MCHI: GOL: TAOP: GILD: ACCD: GDRX: FREQ: POSH: RMO: GLSI: AVCT: ZKIN: ABEV: ARLO: MDGS: YGMZ: VOOG: CKPT: DRIV: MAR: FNGD: GIK: SONO: ODT: FANG: BNTC: ADIL: ORTX: IPOB: AQMS: CNDT: ABIO: KSS: CMPD: GPS: HAL: ACIC: TSN: PHIO: VRTX: XPEL: XM: BTU: CJJD: OTRK: HOTH: DRI: APVO: Z: CPNG: MYSZ - thread num: 0  -  72 / 103\n"
     ]
    },
    {
     "name": "stderr",
     "output_type": "stream",
     "text": [
      "\n",
      "\n",
      "\n",
      "\n",
      "Thread num: 5:  66%|██████████████████████████████████████▎                   | 68/103 [34:31:22<21:12:50, 2182.02s/it]\u001b[A\u001b[A\u001b[A\u001b[A"
     ]
    },
    {
     "name": "stdout",
     "output_type": "stream",
     "text": [
      "completed symbols EQ: GRIL: UA: LBYYQ: ITUB: EQOS: XERS: FSM: CSIQ: ASAN: QYLD: MGI: PG: MRVL: AESE: OKE: MESO: MRIN: HIBL: SDS: AG: CRIS: CPRX: MIK: ASM: AGQ: ERX: VIG: CLDR: QCLN: IMV: GNOG: ASML: REGN: CATB: ARKX: CHX: JAMF: GPL: XAN: AAME: MIST: TGI: VOE: SPYD: ALJJ: MOXC: PETZ: TUP: AQST: MO: VV: CSLT: HUGE: ZEST: SPR: FE: VEA: ARNC: DSS: NGA: SMH: XONE: JILL: DOG: CREX: APRE: ATHE - thread num: 5  -  68 / 103\n"
     ]
    },
    {
     "name": "stderr",
     "output_type": "stream",
     "text": [
      "\n",
      "\n",
      "\n",
      "\n",
      "Thread num: 5:  67%|██████████████████████████████████████▊                   | 69/103 [34:32:18<14:35:02, 1544.18s/it]\u001b[A\u001b[A\u001b[A\u001b[A"
     ]
    },
    {
     "name": "stdout",
     "output_type": "stream",
     "text": [
      "completed symbols EQ: GRIL: UA: LBYYQ: ITUB: EQOS: XERS: FSM: CSIQ: ASAN: QYLD: MGI: PG: MRVL: AESE: OKE: MESO: MRIN: HIBL: SDS: AG: CRIS: CPRX: MIK: ASM: AGQ: ERX: VIG: CLDR: QCLN: IMV: GNOG: ASML: REGN: CATB: ARKX: CHX: JAMF: GPL: XAN: AAME: MIST: TGI: VOE: SPYD: ALJJ: MOXC: PETZ: TUP: AQST: MO: VV: CSLT: HUGE: ZEST: SPR: FE: VEA: ARNC: DSS: NGA: SMH: XONE: JILL: DOG: CREX: APRE: ATHE: FTRCQ - thread num: 5  -  69 / 103\n"
     ]
    },
    {
     "name": "stderr",
     "output_type": "stream",
     "text": [
      "\n",
      "\n",
      "\n",
      "\n",
      "\n",
      "\n",
      "\n",
      "Thread num: 3:  81%|██████████████████████████████████████████████▋           | 83/103 [34:40:35<10:14:36, 1843.81s/it]\u001b[A\u001b[A\u001b[A\u001b[A\u001b[A\u001b[A\u001b[A"
     ]
    },
    {
     "name": "stdout",
     "output_type": "stream",
     "text": [
      "completed symbols FLDM: RCKT: BFLY: BBY: VWAGY: ATNF: AVCO: RVP: BBIG: EFOI: FUSE: AGEN: RKDA: GHIV: IAU: PRQR: PT: SPPI: LIZI: PRPL: INSG: ROOT: RSCF: ICON: CYRN: APTX: IPOD: ARPO: ANY: GAN: ALNA: CPHI: CCO: LVS: AIHS: BUZZ: ORI: ISIG: OCX: GSM: MSTR: ADT: LTHM: DTSS: FISV: COTY: BMY: ACAD: MOGU: STPK: SING: CUK: ERI: NGL: DOYU: FAS: STMP: DMPI: VNQ: YOLO: NOG: BILI: AM: VFF: AGTC: GRAF: VGAC: BDX: DRIP: PTY: NEE: MNLO: W: WISA: DBX: CMG: RC: APM: NBR: PLM: CHTR: WATT: LOTZ - thread num: 3  -  83 / 103\n",
      "completed symbols AREC: NEXT: STNE: STNG: ENVB: VB: HTGM: PFMT: SWN: VRM: ACTC: ZI: NTN: AMRN: AMPY: PCG: DOW: INFI: YCBD: RCON: HGSH: MNOV: BSV: GLMD: CHGG: IDXX: VO: HX: BLOK: VSTM: MAXR: MTP: SLS: WBA: FINV: EVC: LIT: BEP: BLIN: CAPR: PRNT: AAXN: PSFE: KIQ: MPC: BIIB: SINO: NNVC: PLIN: ILMN: DOGZ: SFTW: GSX: TECL: UMC: CLRB: MITO: POWW: GDX: PAYS: CHNR: CLII: CTIB: VVUSQ: KERN: EDR: ATVI: RCMT: QDEL: CZR: FSLR: XCUR: STKL - thread num: 2  -  73"
     ]
    },
    {
     "name": "stderr",
     "output_type": "stream",
     "text": [
      "\n",
      "Thread num: 2:  71%|█████████████████████████████████████████                 | 73/103 [34:40:57<18:12:37, 2185.26s/it]\u001b[A"
     ]
    },
    {
     "name": "stdout",
     "output_type": "stream",
     "text": [
      " / 103\n",
      "completed symbols EGYF: SFIX: NTDOY: SFT: QID: AXP: PSEC: CLPS: KTRA: LC: QD: EKSO: DG: UPRO: THBR: GTHX: ADTX: AUMN: CGIX: BHR: NETE: SPRT: EVRI: CORR: HIBS: CANF: RESN: BOIL: MNMD: SHY: VCNX: NUGT: TCEHY: FTCV: AMTX: FBIO: BVXV: GEENQ: SNES: POTX: AACG: HGEND: AIRI: IEZ: ACY: QLD: TENX: SAN: EPD: XBIO: LGVW: GTEC: RGLS: CVX: DYNT: STCN: AMRS: ETM: FNMA: MLND: VIR: KGC: CYH: SLVO: FUTU: VWO: CCI: CUEN: PSQ: IMTE: HSDT: SGLB: MSOS: BKNG: NK: APA: BWEN: BJ: RRD: APTO: PAVM - thread num: 1  -  81 /"
     ]
    },
    {
     "name": "stderr",
     "output_type": "stream",
     "text": [
      "\n",
      "\n",
      "\n",
      "\n",
      "\n",
      "\n",
      "Thread num: 1:  79%|█████████████████████████████████████████████▌            | 81/103 [35:00:06<13:32:07, 2214.91s/it]\u001b[A\u001b[A\u001b[A\u001b[A\u001b[A\u001b[A"
     ]
    },
    {
     "name": "stdout",
     "output_type": "stream",
     "text": [
      " 103\n"
     ]
    },
    {
     "name": "stderr",
     "output_type": "stream",
     "text": [
      "\n",
      "\n",
      "Thread num: 4:  70%|████████████████████████████████████████▌                 | 72/103 [35:03:30<18:30:33, 2149.47s/it]\u001b[A\u001b[A"
     ]
    },
    {
     "name": "stdout",
     "output_type": "stream",
     "text": [
      "completed symbols NH: SNCA: TGA: VBK: ATOM: MKD: TRUL: NLSP: SPLK: SCHO: ALRN: DISCB: TMUS: WIX: SDC: CTEK: PEIX: FAZ: SNGX: AIV: BETZ: ELYS: ORCL: CARV: CAT: AA: CFMS: AQB: MITT: MELI: HMY: SCYX: OXLC: RTX: PBI: WAFU: CTIC: RAD: NXE: SRAC: AMAT: MINT: SIRI: CNSP: MRKR: GHVI: SLDB: PEP: DRRX: IIPR: SVXY: PULM: EVOL: WORX: TEVA: SPXU: VBR: GLUU: SKT: BIL: LGND: SEDG: FRX: XLE: LYFT: SUN: CNET: ERIC: PPBT: BCRX: YJ: ANTE - thread num: 4  -  72 / 103\n"
     ]
    },
    {
     "name": "stderr",
     "output_type": "stream",
     "text": [
      "\n",
      "\n",
      "\n",
      "Thread num: 6:  75%|███████████████████████████████████████████▎              | 77/103 [35:03:44<16:30:25, 2285.61s/it]\u001b[A\u001b[A\u001b[A"
     ]
    },
    {
     "name": "stdout",
     "output_type": "stream",
     "text": [
      "completed symbols GPRO: CVAC: IRTC: IRM: RWLK: ACI: MGEN: FMCC: PK: CLX: SCO: TMDI: NBAC: AGNC: ABEO: RAVE: CPPRQ: CHKAQ: CRON: GIGM: WPG: XELB: QTT: VXUS: RMG: VTEB: TGC: NYMT: UGAZF: EXK: CLEU: APPH: ANCN: SM: TH: BHTG: HCDI: PZC: SCHD: GS: NIU: PSX: AUY: ZNOG: BIMI: GAU: VERI: ALK: EXPE: IFMK: GORO: ANPC: GDXJ: BEST: SGOL: HL: ZYNE: SONY: PDD: PDSB: MDRR: COF: AEMD: SCHB: LYV: DIG: CBLI: ANIX: CLVS: NDRA: GCI: SRTY: NVTA: LABU: IPOC: LRCX: IVV - thread num: 6  -  77 / 103\n"
     ]
    },
    {
     "name": "stderr",
     "output_type": "stream",
     "text": [
      "\r",
      "Thread num: 0:  71%|█████████████████████████████████████████                 | 73/103 [35:06:05<16:22:06, 1964.23s/it]"
     ]
    },
    {
     "name": "stdout",
     "output_type": "stream",
     "text": [
      "completed symbols ENOB: MUDS: IZEA: ONCY: RNET: OVID: LMT: MRK: BIG: SI: VTGN: SVM: THMO: DPZ: KOPN: TIGR: INTU: HUSA: DFS: VZIO: APOP: MCHI: GOL: TAOP: GILD: ACCD: GDRX: FREQ: POSH: RMO: GLSI: AVCT: ZKIN: ABEV: ARLO: MDGS: YGMZ: VOOG: CKPT: DRIV: MAR: FNGD: GIK: SONO: ODT: FANG: BNTC: ADIL: ORTX: IPOB: AQMS: CNDT: ABIO: KSS: CMPD: GPS: HAL: ACIC: TSN: PHIO: VRTX: XPEL: XM: BTU: CJJD: OTRK: HOTH: DRI: APVO: Z: CPNG: MYSZ: HDSN - thread num: 0  -  73 / 103\n"
     ]
    },
    {
     "name": "stderr",
     "output_type": "stream",
     "text": [
      "\n",
      "\n",
      "\n",
      "\n",
      "Thread num: 5:  68%|███████████████████████████████████████▍                  | 70/103 [35:09:21<16:01:16, 1747.77s/it]\u001b[A\u001b[A\u001b[A\u001b[A"
     ]
    },
    {
     "name": "stdout",
     "output_type": "stream",
     "text": [
      "completed symbols EQ: GRIL: UA: LBYYQ: ITUB: EQOS: XERS: FSM: CSIQ: ASAN: QYLD: MGI: PG: MRVL: AESE: OKE: MESO: MRIN: HIBL: SDS: AG: CRIS: CPRX: MIK: ASM: AGQ: ERX: VIG: CLDR: QCLN: IMV: GNOG: ASML: REGN: CATB: ARKX: CHX: JAMF: GPL: XAN: AAME: MIST: TGI: VOE: SPYD: ALJJ: MOXC: PETZ: TUP: AQST: MO: VV: CSLT: HUGE: ZEST: SPR: FE: VEA: ARNC: DSS: NGA: SMH: XONE: JILL: DOG: CREX: APRE: ATHE: FTRCQ: LAIX - thread num: 5  -  70 / 103\n"
     ]
    },
    {
     "name": "stderr",
     "output_type": "stream",
     "text": [
      "\n",
      "\n",
      "\n",
      "\n",
      "\n",
      "\n",
      "\n",
      "Thread num: 3:  82%|███████████████████████████████████████████████▎          | 84/103 [35:20:54<10:38:30, 2016.33s/it]\u001b[A\u001b[A\u001b[A\u001b[A\u001b[A\u001b[A\u001b[A"
     ]
    },
    {
     "name": "stdout",
     "output_type": "stream",
     "text": [
      "completed symbols FLDM: RCKT: BFLY: BBY: VWAGY: ATNF: AVCO: RVP: BBIG: EFOI: FUSE: AGEN: RKDA: GHIV: IAU: PRQR: PT: SPPI: LIZI: PRPL: INSG: ROOT: RSCF: ICON: CYRN: APTX: IPOD: ARPO: ANY: GAN: ALNA: CPHI: CCO: LVS: AIHS: BUZZ: ORI: ISIG: OCX: GSM: MSTR: ADT: LTHM: DTSS: FISV: COTY: BMY: ACAD: MOGU: STPK: SING: CUK: ERI: NGL: DOYU: FAS: STMP: DMPI: VNQ: YOLO: NOG: BILI: AM: VFF: AGTC: GRAF: VGAC: BDX: DRIP: PTY: NEE: MNLO: W: WISA: DBX: CMG: RC: APM: NBR: PLM: CHTR: WATT: LOTZ: TGB - thread num: 3  -  84 / 103\n"
     ]
    },
    {
     "name": "stderr",
     "output_type": "stream",
     "text": [
      "\n",
      "Thread num: 2:  72%|█████████████████████████████████████████▋                | 74/103 [35:31:38<19:40:14, 2441.86s/it]\u001b[A"
     ]
    },
    {
     "name": "stdout",
     "output_type": "stream",
     "text": [
      "completed symbols AREC: NEXT: STNE: STNG: ENVB: VB: HTGM: PFMT: SWN: VRM: ACTC: ZI: NTN: AMRN: AMPY: PCG: DOW: INFI: YCBD: RCON: HGSH: MNOV: BSV: GLMD: CHGG: IDXX: VO: HX: BLOK: VSTM: MAXR: MTP: SLS: WBA: FINV: EVC: LIT: BEP: BLIN: CAPR: PRNT: AAXN: PSFE: KIQ: MPC: BIIB: SINO: NNVC: PLIN: ILMN: DOGZ: SFTW: GSX: TECL: UMC: CLRB: MITO: POWW: GDX: PAYS: CHNR: CLII: CTIB: VVUSQ: KERN: EDR: ATVI: RCMT: QDEL: CZR: FSLR: XCUR: STKL: LLY - thread num: 2  -  74 / 103\n"
     ]
    },
    {
     "name": "stderr",
     "output_type": "stream",
     "text": [
      "\n",
      "\n",
      "\n",
      "\n",
      "\n",
      "\n",
      "Thread num: 1:  80%|██████████████████████████████████████████████▏           | 82/103 [35:46:40<13:56:02, 2388.69s/it]\u001b[A\u001b[A\u001b[A\u001b[A\u001b[A\u001b[A"
     ]
    },
    {
     "name": "stdout",
     "output_type": "stream",
     "text": [
      "completed symbols EGYF: SFIX: NTDOY: SFT: QID: AXP: PSEC: CLPS: KTRA: LC: QD: EKSO: DG: UPRO: THBR: GTHX: ADTX: AUMN: CGIX: BHR: NETE: SPRT: EVRI: CORR: HIBS: CANF: RESN: BOIL: MNMD: SHY: VCNX: NUGT: TCEHY: FTCV: AMTX: FBIO: BVXV: GEENQ: SNES: POTX: AACG: HGEND: AIRI: IEZ: ACY: QLD: TENX: SAN: EPD: XBIO: LGVW: GTEC: RGLS: CVX: DYNT: STCN: AMRS: ETM: FNMA: MLND: VIR: KGC: CYH: SLVO: FUTU: VWO: CCI: CUEN: PSQ: IMTE: HSDT: SGLB: MSOS: BKNG: NK: APA: BWEN: BJ: RRD: APTO: PAVM: GLBS - thread num: 1  -  82 / 103\n"
     ]
    },
    {
     "name": "stderr",
     "output_type": "stream",
     "text": [
      "\n",
      "\n",
      "\n",
      "\n",
      "\n",
      "\n",
      "Thread num: 1:  81%|███████████████████████████████████████████████▌           | 83/103 [35:47:47<9:24:06, 1692.34s/it]\u001b[A\u001b[A\u001b[A\u001b[A\u001b[A\u001b[A"
     ]
    },
    {
     "name": "stdout",
     "output_type": "stream",
     "text": [
      "completed symbols EGYF: SFIX: NTDOY: SFT: QID: AXP: PSEC: CLPS: KTRA: LC: QD: EKSO: DG: UPRO: THBR: GTHX: ADTX: AUMN: CGIX: BHR: NETE: SPRT: EVRI: CORR: HIBS: CANF: RESN: BOIL: MNMD: SHY: VCNX: NUGT: TCEHY: FTCV: AMTX: FBIO: BVXV: GEENQ: SNES: POTX: AACG: HGEND: AIRI: IEZ: ACY: QLD: TENX: SAN: EPD: XBIO: LGVW: GTEC: RGLS: CVX: DYNT: STCN: AMRS: ETM: FNMA: MLND: VIR: KGC: CYH: SLVO: FUTU: VWO: CCI: CUEN: PSQ: IMTE: HSDT: SGLB: MSOS: BKNG: NK: APA: BWEN: BJ: RRD: APTO: PAVM: GLBS: QUBT - thread num: 1  -  83 / 103\n"
     ]
    },
    {
     "name": "stderr",
     "output_type": "stream",
     "text": [
      "\n",
      "\n",
      "Thread num: 4:  71%|█████████████████████████████████████████                 | 73/103 [35:57:02<20:34:01, 2468.06s/it]\u001b[A\u001b[A"
     ]
    },
    {
     "name": "stdout",
     "output_type": "stream",
     "text": [
      "completed symbols NH: SNCA: TGA: VBK: ATOM: MKD: TRUL: NLSP: SPLK: SCHO: ALRN: DISCB: TMUS: WIX: SDC: CTEK: PEIX: FAZ: SNGX: AIV: BETZ: ELYS: ORCL: CARV: CAT: AA: CFMS: AQB: MITT: MELI: HMY: SCYX: OXLC: RTX: PBI: WAFU: CTIC: RAD: NXE: SRAC: AMAT: MINT: SIRI: CNSP: MRKR: GHVI: SLDB: PEP: DRRX: IIPR: SVXY: PULM: EVOL: WORX: TEVA: SPXU: VBR: GLUU: SKT: BIL: LGND: SEDG: FRX: XLE: LYFT: SUN: CNET: ERIC: PPBT: BCRX: YJ: ANTE: NOW - thread num: 4  -  73 / 103\n"
     ]
    },
    {
     "name": "stderr",
     "output_type": "stream",
     "text": [
      "\r",
      "Thread num: 0:  72%|█████████████████████████████████████████▋                | 74/103 [35:57:41<18:33:25, 2303.62s/it]"
     ]
    },
    {
     "name": "stdout",
     "output_type": "stream",
     "text": [
      "completed symbols ENOB: MUDS: IZEA: ONCY: RNET: OVID: LMT: MRK: BIG: SI: VTGN: SVM: THMO: DPZ: KOPN: TIGR: INTU: HUSA: DFS: VZIO: APOP: MCHI: GOL: TAOP: GILD: ACCD: GDRX: FREQ: POSH: RMO: GLSI: AVCT: ZKIN: ABEV: ARLO: MDGS: YGMZ: VOOG: CKPT: DRIV: MAR: FNGD: GIK: SONO: ODT: FANG: BNTC: ADIL: ORTX: IPOB: AQMS: CNDT: ABIO: KSS: CMPD: GPS: HAL: ACIC: TSN: PHIO: VRTX: XPEL: XM: BTU: CJJD: OTRK: HOTH: DRI: APVO: Z: CPNG: MYSZ: HDSN: LLNW - thread num: 0  -  74 / 103\n"
     ]
    },
    {
     "name": "stderr",
     "output_type": "stream",
     "text": [
      "\n",
      "\n",
      "\n",
      "Thread num: 6:  76%|███████████████████████████████████████████▉              | 78/103 [35:58:38<17:58:22, 2588.08s/it]\u001b[A\u001b[A\u001b[A"
     ]
    },
    {
     "name": "stdout",
     "output_type": "stream",
     "text": [
      "completed symbols GPRO: CVAC: IRTC: IRM: RWLK: ACI: MGEN: FMCC: PK: CLX: SCO: TMDI: NBAC: AGNC: ABEO: RAVE: CPPRQ: CHKAQ: CRON: GIGM: WPG: XELB: QTT: VXUS: RMG: VTEB: TGC: NYMT: UGAZF: EXK: CLEU: APPH: ANCN: SM: TH: BHTG: HCDI: PZC: SCHD: GS: NIU: PSX: AUY: ZNOG: BIMI: GAU: VERI: ALK: EXPE: IFMK: GORO: ANPC: GDXJ: BEST: SGOL: HL: ZYNE: SONY: PDD: PDSB: MDRR: COF: AEMD: SCHB: LYV: DIG: CBLI: ANIX: CLVS: NDRA: GCI: SRTY: NVTA: LABU: IPOC: LRCX: IVV: UNH - thread num: 6  -  78 / 103\n"
     ]
    },
    {
     "name": "stderr",
     "output_type": "stream",
     "text": [
      "\n"
     ]
    },
    {
     "name": "stdout",
     "output_type": "stream",
     "text": [
      "completed symbols AREC: NEXT: STNE: STNG: ENVB: VB: HTGM: PFMT: SWN: VRM: ACTC: ZI: NTN: AMRN: AMPY: PCG: DOW: INFI: YCBD: RCON: HGSH: MNOV: BSV: GLMD: CHGG: IDXX: VO: HX: BLOK: VSTM: MAXR: MTP: SLS: WBA: FINV: EVC: LIT: BEP: BLIN: CAPR: PRNT: AAXN: PSFE: KIQ: MPC: BIIB: SINO: NNVC: PLIN: ILMN: DOGZ: SFTW: GSX: TECL: UMC: CLRB: MITO: POWW: GDX: PAYS: CHNR: CLII: CTIB: VVUSQ: KERN: EDR: ATVI: RCMT: QDEL: CZR: FSLR: XCUR: STKL: LLY: PECK - thread num: 2  -  75 / 103\n"
     ]
    },
    {
     "name": "stderr",
     "output_type": "stream",
     "text": [
      "Thread num: 2:  73%|██████████████████████████████████████████▏               | 75/103 [36:01:35<17:29:12, 2248.31s/it]\u001b[A\n",
      "\n",
      "\n",
      "\n",
      "Thread num: 5:  69%|███████████████████████████████████████▉                  | 71/103 [36:03:31<19:32:35, 2198.62s/it]\u001b[A\u001b[A\u001b[A\u001b[A"
     ]
    },
    {
     "name": "stdout",
     "output_type": "stream",
     "text": [
      "completed symbols EQ: GRIL: UA: LBYYQ: ITUB: EQOS: XERS: FSM: CSIQ: ASAN: QYLD: MGI: PG: MRVL: AESE: OKE: MESO: MRIN: HIBL: SDS: AG: CRIS: CPRX: MIK: ASM: AGQ: ERX: VIG: CLDR: QCLN: IMV: GNOG: ASML: REGN: CATB: ARKX: CHX: JAMF: GPL: XAN: AAME: MIST: TGI: VOE: SPYD: ALJJ: MOXC: PETZ: TUP: AQST: MO: VV: CSLT: HUGE: ZEST: SPR: FE: VEA: ARNC: DSS: NGA: SMH: XONE: JILL: DOG: CREX: APRE: ATHE: FTRCQ: LAIX: LB - thread num: 5  -  71 / 103\n"
     ]
    },
    {
     "name": "stderr",
     "output_type": "stream",
     "text": [
      "\n",
      "\n",
      "\n",
      "\n",
      "\n",
      "\n",
      "\n",
      "Thread num: 3:  83%|███████████████████████████████████████████████▊          | 85/103 [36:08:38<11:21:12, 2270.67s/it]\u001b[A\u001b[A\u001b[A\u001b[A\u001b[A\u001b[A\u001b[A"
     ]
    },
    {
     "name": "stdout",
     "output_type": "stream",
     "text": [
      "completed symbols FLDM: RCKT: BFLY: BBY: VWAGY: ATNF: AVCO: RVP: BBIG: EFOI: FUSE: AGEN: RKDA: GHIV: IAU: PRQR: PT: SPPI: LIZI: PRPL: INSG: ROOT: RSCF: ICON: CYRN: APTX: IPOD: ARPO: ANY: GAN: ALNA: CPHI: CCO: LVS: AIHS: BUZZ: ORI: ISIG: OCX: GSM: MSTR: ADT: LTHM: DTSS: FISV: COTY: BMY: ACAD: MOGU: STPK: SING: CUK: ERI: NGL: DOYU: FAS: STMP: DMPI: VNQ: YOLO: NOG: BILI: AM: VFF: AGTC: GRAF: VGAC: BDX: DRIP: PTY: NEE: MNLO: W: WISA: DBX: CMG: RC: APM: NBR: PLM: CHTR: WATT: LOTZ: TGB: NLY - thread num: 3  -  85 / 103\n"
     ]
    },
    {
     "name": "stderr",
     "output_type": "stream",
     "text": [
      "\r",
      "Thread num: 0:  73%|██████████████████████████████████████████▏               | 75/103 [36:14:57<14:57:34, 1923.37s/it]"
     ]
    },
    {
     "name": "stdout",
     "output_type": "stream",
     "text": [
      "completed symbols ENOB: MUDS: IZEA: ONCY: RNET: OVID: LMT: MRK: BIG: SI: VTGN: SVM: THMO: DPZ: KOPN: TIGR: INTU: HUSA: DFS: VZIO: APOP: MCHI: GOL: TAOP: GILD: ACCD: GDRX: FREQ: POSH: RMO: GLSI: AVCT: ZKIN: ABEV: ARLO: MDGS: YGMZ: VOOG: CKPT: DRIV: MAR: FNGD: GIK: SONO: ODT: FANG: BNTC: ADIL: ORTX: IPOB: AQMS: CNDT: ABIO: KSS: CMPD: GPS: HAL: ACIC: TSN: PHIO: VRTX: XPEL: XM: BTU: CJJD: OTRK: HOTH: DRI: APVO: Z: CPNG: MYSZ: HDSN: LLNW: BTE - thread num: 0  -  75 / 103\n"
     ]
    },
    {
     "name": "stderr",
     "output_type": "stream",
     "text": [
      "\n",
      "\n",
      "\n",
      "\n",
      "\n",
      "\n",
      "Thread num: 1:  82%|████████████████████████████████████████████████           | 84/103 [36:19:38<9:16:39, 1757.88s/it]\u001b[A\u001b[A\u001b[A\u001b[A\u001b[A\u001b[A"
     ]
    },
    {
     "name": "stdout",
     "output_type": "stream",
     "text": [
      "completed symbols EGYF: SFIX: NTDOY: SFT: QID: AXP: PSEC: CLPS: KTRA: LC: QD: EKSO: DG: UPRO: THBR: GTHX: ADTX: AUMN: CGIX: BHR: NETE: SPRT: EVRI: CORR: HIBS: CANF: RESN: BOIL: MNMD: SHY: VCNX: NUGT: TCEHY: FTCV: AMTX: FBIO: BVXV: GEENQ: SNES: POTX: AACG: HGEND: AIRI: IEZ: ACY: QLD: TENX: SAN: EPD: XBIO: LGVW: GTEC: RGLS: CVX: DYNT: STCN: AMRS: ETM: FNMA: MLND: VIR: KGC: CYH: SLVO: FUTU: VWO: CCI: CUEN: PSQ: IMTE: HSDT: SGLB: MSOS: BKNG: NK: APA: BWEN: BJ: RRD: APTO: PAVM: GLBS: QUBT: AKER - thread num: 1  -  84 / 103\n"
     ]
    },
    {
     "name": "stderr",
     "output_type": "stream",
     "text": [
      "\n",
      "\n",
      "\n",
      "Thread num: 6:  77%|████████████████████████████████████████████▍             | 79/103 [36:21:03<14:46:04, 2215.20s/it]\u001b[A\u001b[A\u001b[A"
     ]
    },
    {
     "name": "stdout",
     "output_type": "stream",
     "text": [
      "completed symbols GPRO: CVAC: IRTC: IRM: RWLK: ACI: MGEN: FMCC: PK: CLX: SCO: TMDI: NBAC: AGNC: ABEO: RAVE: CPPRQ: CHKAQ: CRON: GIGM: WPG: XELB: QTT: VXUS: RMG: VTEB: TGC: NYMT: UGAZF: EXK: CLEU: APPH: ANCN: SM: TH: BHTG: HCDI: PZC: SCHD: GS: NIU: PSX: AUY: ZNOG: BIMI: GAU: VERI: ALK: EXPE: IFMK: GORO: ANPC: GDXJ: BEST: SGOL: HL: ZYNE: SONY: PDD: PDSB: MDRR: COF: AEMD: SCHB: LYV: DIG: CBLI: ANIX: CLVS: NDRA: GCI: SRTY: NVTA: LABU: IPOC: LRCX: IVV: UNH: ESGC - thread num: 6  -  79 / 103\n"
     ]
    },
    {
     "name": "stderr",
     "output_type": "stream",
     "text": [
      "\n",
      "\n",
      "Thread num: 4:  72%|█████████████████████████████████████████▋                | 74/103 [36:30:53<18:49:32, 2336.98s/it]\u001b[A\u001b[A"
     ]
    },
    {
     "name": "stdout",
     "output_type": "stream",
     "text": [
      "completed symbols NH: SNCA: TGA: VBK: ATOM: MKD: TRUL: NLSP: SPLK: SCHO: ALRN: DISCB: TMUS: WIX: SDC: CTEK: PEIX: FAZ: SNGX: AIV: BETZ: ELYS: ORCL: CARV: CAT: AA: CFMS: AQB: MITT: MELI: HMY: SCYX: OXLC: RTX: PBI: WAFU: CTIC: RAD: NXE: SRAC: AMAT: MINT: SIRI: CNSP: MRKR: GHVI: SLDB: PEP: DRRX: IIPR: SVXY: PULM: EVOL: WORX: TEVA: SPXU: VBR: GLUU: SKT: BIL: LGND: SEDG: FRX: XLE: LYFT: SUN: CNET: ERIC: PPBT: BCRX: YJ: ANTE: NOW: RAIL - thread num: 4  -  74 / 103\n"
     ]
    },
    {
     "name": "stderr",
     "output_type": "stream",
     "text": [
      "\r",
      "Thread num: 0:  74%|██████████████████████████████████████████▊               | 76/103 [36:32:43<12:29:51, 1666.35s/it]"
     ]
    },
    {
     "name": "stdout",
     "output_type": "stream",
     "text": [
      "completed symbols ENOB: MUDS: IZEA: ONCY: RNET: OVID: LMT: MRK: BIG: SI: VTGN: SVM: THMO: DPZ: KOPN: TIGR: INTU: HUSA: DFS: VZIO: APOP: MCHI: GOL: TAOP: GILD: ACCD: GDRX: FREQ: POSH: RMO: GLSI: AVCT: ZKIN: ABEV: ARLO: MDGS: YGMZ: VOOG: CKPT: DRIV: MAR: FNGD: GIK: SONO: ODT: FANG: BNTC: ADIL: ORTX: IPOB: AQMS: CNDT: ABIO: KSS: CMPD: GPS: HAL: ACIC: TSN: PHIO: VRTX: XPEL: XM: BTU: CJJD: OTRK: HOTH: DRI: APVO: Z: CPNG: MYSZ: HDSN: LLNW: BTE: GOEV - thread num: 0  -  76 / 103\n"
     ]
    },
    {
     "name": "stderr",
     "output_type": "stream",
     "text": [
      "\n",
      "Thread num: 2:  74%|██████████████████████████████████████████▊               | 76/103 [36:35:21<16:21:48, 2181.79s/it]\u001b[A"
     ]
    },
    {
     "name": "stdout",
     "output_type": "stream",
     "text": [
      "completed symbols AREC: NEXT: STNE: STNG: ENVB: VB: HTGM: PFMT: SWN: VRM: ACTC: ZI: NTN: AMRN: AMPY: PCG: DOW: INFI: YCBD: RCON: HGSH: MNOV: BSV: GLMD: CHGG: IDXX: VO: HX: BLOK: VSTM: MAXR: MTP: SLS: WBA: FINV: EVC: LIT: BEP: BLIN: CAPR: PRNT: AAXN: PSFE: KIQ: MPC: BIIB: SINO: NNVC: PLIN: ILMN: DOGZ: SFTW: GSX: TECL: UMC: CLRB: MITO: POWW: GDX: PAYS: CHNR: CLII: CTIB: VVUSQ: KERN: EDR: ATVI: RCMT: QDEL: CZR: FSLR: XCUR: STKL: LLY: PECK: DMTK - thread num: 2  -  76 / 103\n"
     ]
    },
    {
     "name": "stderr",
     "output_type": "stream",
     "text": [
      "\n",
      "\n",
      "\n",
      "\n",
      "Thread num: 5:  70%|████████████████████████████████████████▌                 | 72/103 [36:37:37<18:32:13, 2152.71s/it]\u001b[A\u001b[A\u001b[A\u001b[A"
     ]
    },
    {
     "name": "stdout",
     "output_type": "stream",
     "text": [
      "completed symbols EQ: GRIL: UA: LBYYQ: ITUB: EQOS: XERS: FSM: CSIQ: ASAN: QYLD: MGI: PG: MRVL: AESE: OKE: MESO: MRIN: HIBL: SDS: AG: CRIS: CPRX: MIK: ASM: AGQ: ERX: VIG: CLDR: QCLN: IMV: GNOG: ASML: REGN: CATB: ARKX: CHX: JAMF: GPL: XAN: AAME: MIST: TGI: VOE: SPYD: ALJJ: MOXC: PETZ: TUP: AQST: MO: VV: CSLT: HUGE: ZEST: SPR: FE: VEA: ARNC: DSS: NGA: SMH: XONE: JILL: DOG: CREX: APRE: ATHE: FTRCQ: LAIX: LB: WPRT - thread num: 5  -  72 / 103\n"
     ]
    },
    {
     "name": "stderr",
     "output_type": "stream",
     "text": [
      "\n",
      "Thread num: 2:  75%|███████████████████████████████████████████▎              | 77/103 [36:39:08<11:31:17, 1595.28s/it]\u001b[A"
     ]
    },
    {
     "name": "stdout",
     "output_type": "stream",
     "text": [
      "completed symbols AREC: NEXT: STNE: STNG: ENVB: VB: HTGM: PFMT: SWN: VRM: ACTC: ZI: NTN: AMRN: AMPY: PCG: DOW: INFI: YCBD: RCON: HGSH: MNOV: BSV: GLMD: CHGG: IDXX: VO: HX: BLOK: VSTM: MAXR: MTP: SLS: WBA: FINV: EVC: LIT: BEP: BLIN: CAPR: PRNT: AAXN: PSFE: KIQ: MPC: BIIB: SINO: NNVC: PLIN: ILMN: DOGZ: SFTW: GSX: TECL: UMC: CLRB: MITO: POWW: GDX: PAYS: CHNR: CLII: CTIB: VVUSQ: KERN: EDR: ATVI: RCMT: QDEL: CZR: FSLR: XCUR: STKL: LLY: PECK: DMTK: TRPX - thread num: 2  -  77 / 103\n"
     ]
    },
    {
     "name": "stderr",
     "output_type": "stream",
     "text": [
      "\n",
      "Thread num: 2:  76%|████████████████████████████████████████████▋              | 78/103 [36:39:58<7:51:34, 1131.80s/it]\u001b[A"
     ]
    },
    {
     "name": "stdout",
     "output_type": "stream",
     "text": [
      "completed symbols AREC: NEXT: STNE: STNG: ENVB: VB: HTGM: PFMT: SWN: VRM: ACTC: ZI: NTN: AMRN: AMPY: PCG: DOW: INFI: YCBD: RCON: HGSH: MNOV: BSV: GLMD: CHGG: IDXX: VO: HX: BLOK: VSTM: MAXR: MTP: SLS: WBA: FINV: EVC: LIT: BEP: BLIN: CAPR: PRNT: AAXN: PSFE: KIQ: MPC: BIIB: SINO: NNVC: PLIN: ILMN: DOGZ: SFTW: GSX: TECL: UMC: CLRB: MITO: POWW: GDX: PAYS: CHNR: CLII: CTIB: VVUSQ: KERN: EDR: ATVI: RCMT: QDEL: CZR: FSLR: XCUR: STKL: LLY: PECK: DMTK: TRPX: JENGQ - thread num: 2  -  78 / 103\n"
     ]
    },
    {
     "name": "stderr",
     "output_type": "stream",
     "text": [
      "\n",
      "\n",
      "\n",
      "\n",
      "\n",
      "\n",
      "\n",
      "Thread num: 3:  83%|████████████████████████████████████████████████▍         | 86/103 [36:42:28<10:22:55, 2198.54s/it]\u001b[A\u001b[A\u001b[A\u001b[A\u001b[A\u001b[A\u001b[A"
     ]
    },
    {
     "name": "stdout",
     "output_type": "stream",
     "text": [
      "completed symbols FLDM: RCKT: BFLY: BBY: VWAGY: ATNF: AVCO: RVP: BBIG: EFOI: FUSE: AGEN: RKDA: GHIV: IAU: PRQR: PT: SPPI: LIZI: PRPL: INSG: ROOT: RSCF: ICON: CYRN: APTX: IPOD: ARPO: ANY: GAN: ALNA: CPHI: CCO: LVS: AIHS: BUZZ: ORI: ISIG: OCX: GSM: MSTR: ADT: LTHM: DTSS: FISV: COTY: BMY: ACAD: MOGU: STPK: SING: CUK: ERI: NGL: DOYU: FAS: STMP: DMPI: VNQ: YOLO: NOG: BILI: AM: VFF: AGTC: GRAF: VGAC: BDX: DRIP: PTY: NEE: MNLO: W: WISA: DBX: CMG: RC: APM: NBR: PLM: CHTR: WATT: LOTZ: TGB: NLY: CELH - thread num: 3  -  86 / 103\n"
     ]
    },
    {
     "name": "stderr",
     "output_type": "stream",
     "text": [
      "\n",
      "\n",
      "Thread num: 4:  73%|██████████████████████████████████████████▏               | 75/103 [36:45:48<14:48:47, 1904.55s/it]\u001b[A\u001b[A"
     ]
    },
    {
     "name": "stdout",
     "output_type": "stream",
     "text": [
      "completed symbols NH: SNCA: TGA: VBK: ATOM: MKD: TRUL: NLSP: SPLK: SCHO: ALRN: DISCB: TMUS: WIX: SDC: CTEK: PEIX: FAZ: SNGX: AIV: BETZ: ELYS: ORCL: CARV: CAT: AA: CFMS: AQB: MITT: MELI: HMY: SCYX: OXLC: RTX: PBI: WAFU: CTIC: RAD: NXE: SRAC: AMAT: MINT: SIRI: CNSP: MRKR: GHVI: SLDB: PEP: DRRX: IIPR: SVXY: PULM: EVOL: WORX: TEVA: SPXU: VBR: GLUU: SKT: BIL: LGND: SEDG: FRX: XLE: LYFT: SUN: CNET: ERIC: PPBT: BCRX: YJ: ANTE: NOW: RAIL: WNW - thread num: 4  -  75 / 103\n"
     ]
    },
    {
     "name": "stderr",
     "output_type": "stream",
     "text": [
      "\n",
      "\n",
      "\n",
      "\n",
      "\n",
      "\n",
      "Thread num: 1:  83%|████████████████████████████████████████████████▋          | 85/103 [36:52:14<9:05:12, 1817.34s/it]\u001b[A\u001b[A\u001b[A\u001b[A\u001b[A\u001b[A"
     ]
    },
    {
     "name": "stdout",
     "output_type": "stream",
     "text": [
      "completed symbols EGYF: SFIX: NTDOY: SFT: QID: AXP: PSEC: CLPS: KTRA: LC: QD: EKSO: DG: UPRO: THBR: GTHX: ADTX: AUMN: CGIX: BHR: NETE: SPRT: EVRI: CORR: HIBS: CANF: RESN: BOIL: MNMD: SHY: VCNX: NUGT: TCEHY: FTCV: AMTX: FBIO: BVXV: GEENQ: SNES: POTX: AACG: HGEND: AIRI: IEZ: ACY: QLD: TENX: SAN: EPD: XBIO: LGVW: GTEC: RGLS: CVX: DYNT: STCN: AMRS: ETM: FNMA: MLND: VIR: KGC: CYH: SLVO: FUTU: VWO: CCI: CUEN: PSQ: IMTE: HSDT: SGLB: MSOS: BKNG: NK: APA: BWEN: BJ: RRD: APTO: PAVM: GLBS: QUBT: AKER: GILT - thread num: 1  -  85 / 103\n"
     ]
    },
    {
     "name": "stderr",
     "output_type": "stream",
     "text": [
      "\n",
      "\n",
      "\n",
      "Thread num: 6:  78%|█████████████████████████████████████████████             | 80/103 [36:53:25<13:37:43, 2133.20s/it]\u001b[A\u001b[A\u001b[A"
     ]
    },
    {
     "name": "stdout",
     "output_type": "stream",
     "text": [
      "completed symbols GPRO: CVAC: IRTC: IRM: RWLK: ACI: MGEN: FMCC: PK: CLX: SCO: TMDI: NBAC: AGNC: ABEO: RAVE: CPPRQ: CHKAQ: CRON: GIGM: WPG: XELB: QTT: VXUS: RMG: VTEB: TGC: NYMT: UGAZF: EXK: CLEU: APPH: ANCN: SM: TH: BHTG: HCDI: PZC: SCHD: GS: NIU: PSX: AUY: ZNOG: BIMI: GAU: VERI: ALK: EXPE: IFMK: GORO: ANPC: GDXJ: BEST: SGOL: HL: ZYNE: SONY: PDD: PDSB: MDRR: COF: AEMD: SCHB: LYV: DIG: CBLI: ANIX: CLVS: NDRA: GCI: SRTY: NVTA: LABU: IPOC: LRCX: IVV: UNH: ESGC: SNMP - thread num: 6  -  80 / 103\n"
     ]
    },
    {
     "name": "stderr",
     "output_type": "stream",
     "text": [
      "\r",
      "Thread num: 0:  75%|███████████████████████████████████████████▎              | 77/103 [37:02:52<12:20:32, 1708.95s/it]"
     ]
    },
    {
     "name": "stdout",
     "output_type": "stream",
     "text": [
      "completed symbols ENOB: MUDS: IZEA: ONCY: RNET: OVID: LMT: MRK: BIG: SI: VTGN: SVM: THMO: DPZ: KOPN: TIGR: INTU: HUSA: DFS: VZIO: APOP: MCHI: GOL: TAOP: GILD: ACCD: GDRX: FREQ: POSH: RMO: GLSI: AVCT: ZKIN: ABEV: ARLO: MDGS: YGMZ: VOOG: CKPT: DRIV: MAR: FNGD: GIK: SONO: ODT: FANG: BNTC: ADIL: ORTX: IPOB: AQMS: CNDT: ABIO: KSS: CMPD: GPS: HAL: ACIC: TSN: PHIO: VRTX: XPEL: XM: BTU: CJJD: OTRK: HOTH: DRI: APVO: Z: CPNG: MYSZ: HDSN: LLNW: BTE: GOEV: PED - thread num: 0  -  77 / 103\n"
     ]
    },
    {
     "name": "stderr",
     "output_type": "stream",
     "text": [
      "\n",
      "\n",
      "\n",
      "\n",
      "Thread num: 5:  71%|█████████████████████████████████████████                 | 73/103 [37:07:23<17:01:21, 2042.72s/it]\u001b[A\u001b[A\u001b[A\u001b[A"
     ]
    },
    {
     "name": "stdout",
     "output_type": "stream",
     "text": [
      "completed symbols EQ: GRIL: UA: LBYYQ: ITUB: EQOS: XERS: FSM: CSIQ: ASAN: QYLD: MGI: PG: MRVL: AESE: OKE: MESO: MRIN: HIBL: SDS: AG: CRIS: CPRX: MIK: ASM: AGQ: ERX: VIG: CLDR: QCLN: IMV: GNOG: ASML: REGN: CATB: ARKX: CHX: JAMF: GPL: XAN: AAME: MIST: TGI: VOE: SPYD: ALJJ: MOXC: PETZ: TUP: AQST: MO: VV: CSLT: HUGE: ZEST: SPR: FE: VEA: ARNC: DSS: NGA: SMH: XONE: JILL: DOG: CREX: APRE: ATHE: FTRCQ: LAIX: LB: WPRT: GBR - thread num: 5  -  73 / 103\n"
     ]
    },
    {
     "name": "stderr",
     "output_type": "stream",
     "text": [
      "\n",
      "Thread num: 2:  77%|█████████████████████████████████████████████▎             | 79/103 [37:09:44<8:51:12, 1328.04s/it]\u001b[A"
     ]
    },
    {
     "name": "stdout",
     "output_type": "stream",
     "text": [
      "completed symbols AREC: NEXT: STNE: STNG: ENVB: VB: HTGM: PFMT: SWN: VRM: ACTC: ZI: NTN: AMRN: AMPY: PCG: DOW: INFI: YCBD: RCON: HGSH: MNOV: BSV: GLMD: CHGG: IDXX: VO: HX: BLOK: VSTM: MAXR: MTP: SLS: WBA: FINV: EVC: LIT: BEP: BLIN: CAPR: PRNT: AAXN: PSFE: KIQ: MPC: BIIB: SINO: NNVC: PLIN: ILMN: DOGZ: SFTW: GSX: TECL: UMC: CLRB: MITO: POWW: GDX: PAYS: CHNR: CLII: CTIB: VVUSQ: KERN: EDR: ATVI: RCMT: QDEL: CZR: FSLR: XCUR: STKL: LLY: PECK: DMTK: TRPX: JENGQ: GECC - thread num: 2  -  79 / 103\n"
     ]
    },
    {
     "name": "stderr",
     "output_type": "stream",
     "text": [
      "\n",
      "\n",
      "\n",
      "Thread num: 6:  79%|█████████████████████████████████████████████▌            | 81/103 [37:10:44<11:01:50, 1805.02s/it]\u001b[A\u001b[A\u001b[A"
     ]
    },
    {
     "name": "stdout",
     "output_type": "stream",
     "text": [
      "completed symbols GPRO: CVAC: IRTC: IRM: RWLK: ACI: MGEN: FMCC: PK: CLX: SCO: TMDI: NBAC: AGNC: ABEO: RAVE: CPPRQ: CHKAQ: CRON: GIGM: WPG: XELB: QTT: VXUS: RMG: VTEB: TGC: NYMT: UGAZF: EXK: CLEU: APPH: ANCN: SM: TH: BHTG: HCDI: PZC: SCHD: GS: NIU: PSX: AUY: ZNOG: BIMI: GAU: VERI: ALK: EXPE: IFMK: GORO: ANPC: GDXJ: BEST: SGOL: HL: ZYNE: SONY: PDD: PDSB: MDRR: COF: AEMD: SCHB: LYV: DIG: CBLI: ANIX: CLVS: NDRA: GCI: SRTY: NVTA: LABU: IPOC: LRCX: IVV: UNH: ESGC: SNMP: SNPR - thread num: 6  -  81 / 103\n"
     ]
    },
    {
     "name": "stderr",
     "output_type": "stream",
     "text": [
      "\n",
      "\n",
      "\n",
      "\n",
      "\n",
      "\n",
      "\n",
      "Thread num: 3:  84%|█████████████████████████████████████████████████▊         | 87/103 [37:12:38<9:15:09, 2081.82s/it]\u001b[A\u001b[A\u001b[A\u001b[A\u001b[A\u001b[A\u001b[A"
     ]
    },
    {
     "name": "stdout",
     "output_type": "stream",
     "text": [
      "completed symbols FLDM: RCKT: BFLY: BBY: VWAGY: ATNF: AVCO: RVP: BBIG: EFOI: FUSE: AGEN: RKDA: GHIV: IAU: PRQR: PT: SPPI: LIZI: PRPL: INSG: ROOT: RSCF: ICON: CYRN: APTX: IPOD: ARPO: ANY: GAN: ALNA: CPHI: CCO: LVS: AIHS: BUZZ: ORI: ISIG: OCX: GSM: MSTR: ADT: LTHM: DTSS: FISV: COTY: BMY: ACAD: MOGU: STPK: SING: CUK: ERI: NGL: DOYU: FAS: STMP: DMPI: VNQ: YOLO: NOG: BILI: AM: VFF: AGTC: GRAF: VGAC: BDX: DRIP: PTY: NEE: MNLO: W: WISA: DBX: CMG: RC: APM: NBR: PLM: CHTR: WATT: LOTZ: TGB: NLY: CELH: LABD - thread num: 3  -  87 / 103\n"
     ]
    },
    {
     "name": "stderr",
     "output_type": "stream",
     "text": [
      "\n",
      "\n",
      "\n",
      "\n",
      "Thread num: 5:  72%|█████████████████████████████████████████▋                | 74/103 [37:13:42<12:26:04, 1543.61s/it]\u001b[A\u001b[A\u001b[A\u001b[A"
     ]
    },
    {
     "name": "stdout",
     "output_type": "stream",
     "text": [
      "completed symbols EQ: GRIL: UA: LBYYQ: ITUB: EQOS: XERS: FSM: CSIQ: ASAN: QYLD: MGI: PG: MRVL: AESE: OKE: MESO: MRIN: HIBL: SDS: AG: CRIS: CPRX: MIK: ASM: AGQ: ERX: VIG: CLDR: QCLN: IMV: GNOG: ASML: REGN: CATB: ARKX: CHX: JAMF: GPL: XAN: AAME: MIST: TGI: VOE: SPYD: ALJJ: MOXC: PETZ: TUP: AQST: MO: VV: CSLT: HUGE: ZEST: SPR: FE: VEA: ARNC: DSS: NGA: SMH: XONE: JILL: DOG: CREX: APRE: ATHE: FTRCQ: LAIX: LB: WPRT: GBR: UPC - thread num: 5  -  74 / 103\n"
     ]
    },
    {
     "name": "stderr",
     "output_type": "stream",
     "text": [
      "\n",
      "\n",
      "Thread num: 4:  74%|██████████████████████████████████████████▊               | 76/103 [37:14:59<13:56:14, 1858.33s/it]\u001b[A\u001b[A"
     ]
    },
    {
     "name": "stdout",
     "output_type": "stream",
     "text": [
      "completed symbols NH: SNCA: TGA: VBK: ATOM: MKD: TRUL: NLSP: SPLK: SCHO: ALRN: DISCB: TMUS: WIX: SDC: CTEK: PEIX: FAZ: SNGX: AIV: BETZ: ELYS: ORCL: CARV: CAT: AA: CFMS: AQB: MITT: MELI: HMY: SCYX: OXLC: RTX: PBI: WAFU: CTIC: RAD: NXE: SRAC: AMAT: MINT: SIRI: CNSP: MRKR: GHVI: SLDB: PEP: DRRX: IIPR: SVXY: PULM: EVOL: WORX: TEVA: SPXU: VBR: GLUU: SKT: BIL: LGND: SEDG: FRX: XLE: LYFT: SUN: CNET: ERIC: PPBT: BCRX: YJ: ANTE: NOW: RAIL: WNW: GNLN - thread num: 4  -  76 / 103\n"
     ]
    },
    {
     "name": "stderr",
     "output_type": "stream",
     "text": [
      "\n",
      "\n",
      "\n",
      "\n",
      "Thread num: 5:  73%|██████████████████████████████████████████▉                | 75/103 [37:21:19<9:28:12, 1217.58s/it]\u001b[A\u001b[A\u001b[A\u001b[A"
     ]
    },
    {
     "name": "stdout",
     "output_type": "stream",
     "text": [
      "completed symbols EQ: GRIL: UA: LBYYQ: ITUB: EQOS: XERS: FSM: CSIQ: ASAN: QYLD: MGI: PG: MRVL: AESE: OKE: MESO: MRIN: HIBL: SDS: AG: CRIS: CPRX: MIK: ASM: AGQ: ERX: VIG: CLDR: QCLN: IMV: GNOG: ASML: REGN: CATB: ARKX: CHX: JAMF: GPL: XAN: AAME: MIST: TGI: VOE: SPYD: ALJJ: MOXC: PETZ: TUP: AQST: MO: VV: CSLT: HUGE: ZEST: SPR: FE: VEA: ARNC: DSS: NGA: SMH: XONE: JILL: DOG: CREX: APRE: ATHE: FTRCQ: LAIX: LB: WPRT: GBR: UPC: SRNGU - thread num: 5  -  75 / 103\n"
     ]
    },
    {
     "name": "stderr",
     "output_type": "stream",
     "text": [
      "\n",
      "\n",
      "\n",
      "\n",
      "\n",
      "\n",
      "Thread num: 1:  83%|█████████████████████████████████████████████████▎         | 86/103 [37:21:24<8:29:11, 1797.13s/it]\u001b[A\u001b[A\u001b[A\u001b[A\u001b[A\u001b[A"
     ]
    },
    {
     "name": "stdout",
     "output_type": "stream",
     "text": [
      "completed symbols EGYF: SFIX: NTDOY: SFT: QID: AXP: PSEC: CLPS: KTRA: LC: QD: EKSO: DG: UPRO: THBR: GTHX: ADTX: AUMN: CGIX: BHR: NETE: SPRT: EVRI: CORR: HIBS: CANF: RESN: BOIL: MNMD: SHY: VCNX: NUGT: TCEHY: FTCV: AMTX: FBIO: BVXV: GEENQ: SNES: POTX: AACG: HGEND: AIRI: IEZ: ACY: QLD: TENX: SAN: EPD: XBIO: LGVW: GTEC: RGLS: CVX: DYNT: STCN: AMRS: ETM: FNMA: MLND: VIR: KGC: CYH: SLVO: FUTU: VWO: CCI: CUEN: PSQ: IMTE: HSDT: SGLB: MSOS: BKNG: NK: APA: BWEN: BJ: RRD: APTO: PAVM: GLBS: QUBT: AKER: GILT: NEAR - thread num: 1  -  86 / 103\n"
     ]
    },
    {
     "name": "stderr",
     "output_type": "stream",
     "text": [
      "\r",
      "Thread num: 0:  76%|███████████████████████████████████████████▉              | 78/103 [37:35:12<12:21:00, 1778.42s/it]"
     ]
    },
    {
     "name": "stdout",
     "output_type": "stream",
     "text": [
      "completed symbols ENOB: MUDS: IZEA: ONCY: RNET: OVID: LMT: MRK: BIG: SI: VTGN: SVM: THMO: DPZ: KOPN: TIGR: INTU: HUSA: DFS: VZIO: APOP: MCHI: GOL: TAOP: GILD: ACCD: GDRX: FREQ: POSH: RMO: GLSI: AVCT: ZKIN: ABEV: ARLO: MDGS: YGMZ: VOOG: CKPT: DRIV: MAR: FNGD: GIK: SONO: ODT: FANG: BNTC: ADIL: ORTX: IPOB: AQMS: CNDT: ABIO: KSS: CMPD: GPS: HAL: ACIC: TSN: PHIO: VRTX: XPEL: XM: BTU: CJJD: OTRK: HOTH: DRI: APVO: Z: CPNG: MYSZ: HDSN: LLNW: BTE: GOEV: PED: SFET - thread num: 0  -  78 / 103\n"
     ]
    },
    {
     "name": "stderr",
     "output_type": "stream",
     "text": [
      "\n",
      "Thread num: 2:  78%|█████████████████████████████████████████████▊             | 80/103 [37:43:19<9:48:01, 1533.99s/it]\u001b[A"
     ]
    },
    {
     "name": "stdout",
     "output_type": "stream",
     "text": [
      "completed symbols AREC: NEXT: STNE: STNG: ENVB: VB: HTGM: PFMT: SWN: VRM: ACTC: ZI: NTN: AMRN: AMPY: PCG: DOW: INFI: YCBD: RCON: HGSH: MNOV: BSV: GLMD: CHGG: IDXX: VO: HX: BLOK: VSTM: MAXR: MTP: SLS: WBA: FINV: EVC: LIT: BEP: BLIN: CAPR: PRNT: AAXN: PSFE: KIQ: MPC: BIIB: SINO: NNVC: PLIN: ILMN: DOGZ: SFTW: GSX: TECL: UMC: CLRB: MITO: POWW: GDX: PAYS: CHNR: CLII: CTIB: VVUSQ: KERN: EDR: ATVI: RCMT: QDEL: CZR: FSLR: XCUR: STKL: LLY: PECK: DMTK: TRPX: JENGQ: GECC: PMF - thread num: 2  -  80 / 103\n"
     ]
    },
    {
     "name": "stderr",
     "output_type": "stream",
     "text": [
      "\n",
      "\n",
      "\n",
      "Thread num: 6:  80%|██████████████████████████████████████████████▏           | 82/103 [37:46:31<11:07:35, 1907.42s/it]\u001b[A\u001b[A\u001b[A"
     ]
    },
    {
     "name": "stdout",
     "output_type": "stream",
     "text": [
      "completed symbols GPRO: CVAC: IRTC: IRM: RWLK: ACI: MGEN: FMCC: PK: CLX: SCO: TMDI: NBAC: AGNC: ABEO: RAVE: CPPRQ: CHKAQ: CRON: GIGM: WPG: XELB: QTT: VXUS: RMG: VTEB: TGC: NYMT: UGAZF: EXK: CLEU: APPH: ANCN: SM: TH: BHTG: HCDI: PZC: SCHD: GS: NIU: PSX: AUY: ZNOG: BIMI: GAU: VERI: ALK: EXPE: IFMK: GORO: ANPC: GDXJ: BEST: SGOL: HL: ZYNE: SONY: PDD: PDSB: MDRR: COF: AEMD: SCHB: LYV: DIG: CBLI: ANIX: CLVS: NDRA: GCI: SRTY: NVTA: LABU: IPOC: LRCX: IVV: UNH: ESGC: SNMP: SNPR: ARCT - thread num: 6  -  82 / 103\n"
     ]
    },
    {
     "name": "stderr",
     "output_type": "stream",
     "text": [
      "\n",
      "\n",
      "\n",
      "\n",
      "\n",
      "\n",
      "\n",
      "Thread num: 3:  85%|██████████████████████████████████████████████████▍        | 88/103 [37:47:14<8:40:00, 2080.05s/it]\u001b[A\u001b[A\u001b[A\u001b[A\u001b[A\u001b[A\u001b[A"
     ]
    },
    {
     "name": "stdout",
     "output_type": "stream",
     "text": [
      "completed symbols FLDM: RCKT: BFLY: BBY: VWAGY: ATNF: AVCO: RVP: BBIG: EFOI: FUSE: AGEN: RKDA: GHIV: IAU: PRQR: PT: SPPI: LIZI: PRPL: INSG: ROOT: RSCF: ICON: CYRN: APTX: IPOD: ARPO: ANY: GAN: ALNA: CPHI: CCO: LVS: AIHS: BUZZ: ORI: ISIG: OCX: GSM: MSTR: ADT: LTHM: DTSS: FISV: COTY: BMY: ACAD: MOGU: STPK: SING: CUK: ERI: NGL: DOYU: FAS: STMP: DMPI: VNQ: YOLO: NOG: BILI: AM: VFF: AGTC: GRAF: VGAC: BDX: DRIP: PTY: NEE: MNLO: W: WISA: DBX: CMG: RC: APM: NBR: PLM: CHTR: WATT: LOTZ: TGB: NLY: CELH: LABD: IVH - thread num: 3  -  88 / 103\n"
     ]
    },
    {
     "name": "stderr",
     "output_type": "stream",
     "text": [
      "\n",
      "\n",
      "Thread num: 4:  75%|███████████████████████████████████████████▎              | 77/103 [37:51:09<14:05:50, 1951.94s/it]\u001b[A\u001b[A"
     ]
    },
    {
     "name": "stdout",
     "output_type": "stream",
     "text": [
      "completed symbols NH: SNCA: TGA: VBK: ATOM: MKD: TRUL: NLSP: SPLK: SCHO: ALRN: DISCB: TMUS: WIX: SDC: CTEK: PEIX: FAZ: SNGX: AIV: BETZ: ELYS: ORCL: CARV: CAT: AA: CFMS: AQB: MITT: MELI: HMY: SCYX: OXLC: RTX: PBI: WAFU: CTIC: RAD: NXE: SRAC: AMAT: MINT: SIRI: CNSP: MRKR: GHVI: SLDB: PEP: DRRX: IIPR: SVXY: PULM: EVOL: WORX: TEVA: SPXU: VBR: GLUU: SKT: BIL: LGND: SEDG: FRX: XLE: LYFT: SUN: CNET: ERIC: PPBT: BCRX: YJ: ANTE: NOW: RAIL: WNW: GNLN: BCDA - thread num: 4  -  77 / 103\n"
     ]
    },
    {
     "name": "stderr",
     "output_type": "stream",
     "text": [
      "\n",
      "\n",
      "\n",
      "\n",
      "\n",
      "\n",
      "Thread num: 1:  84%|█████████████████████████████████████████████████▊         | 87/103 [38:00:18<8:42:11, 1958.20s/it]\u001b[A\u001b[A\u001b[A\u001b[A\u001b[A\u001b[A"
     ]
    },
    {
     "name": "stdout",
     "output_type": "stream",
     "text": [
      "completed symbols EGYF: SFIX: NTDOY: SFT: QID: AXP: PSEC: CLPS: KTRA: LC: QD: EKSO: DG: UPRO: THBR: GTHX: ADTX: AUMN: CGIX: BHR: NETE: SPRT: EVRI: CORR: HIBS: CANF: RESN: BOIL: MNMD: SHY: VCNX: NUGT: TCEHY: FTCV: AMTX: FBIO: BVXV: GEENQ: SNES: POTX: AACG: HGEND: AIRI: IEZ: ACY: QLD: TENX: SAN: EPD: XBIO: LGVW: GTEC: RGLS: CVX: DYNT: STCN: AMRS: ETM: FNMA: MLND: VIR: KGC: CYH: SLVO: FUTU: VWO: CCI: CUEN: PSQ: IMTE: HSDT: SGLB: MSOS: BKNG: NK: APA: BWEN: BJ: RRD: APTO: PAVM: GLBS: QUBT: AKER: GILT: NEAR: NBEV - thread num: 1  -  87 / 103\n"
     ]
    },
    {
     "name": "stderr",
     "output_type": "stream",
     "text": [
      "\r",
      "Thread num: 0:  77%|████████████████████████████████████████████▍             | 79/103 [38:01:58<11:30:38, 1726.59s/it]"
     ]
    },
    {
     "name": "stdout",
     "output_type": "stream",
     "text": [
      "completed symbols ENOB: MUDS: IZEA: ONCY: RNET: OVID: LMT: MRK: BIG: SI: VTGN: SVM: THMO: DPZ: KOPN: TIGR: INTU: HUSA: DFS: VZIO: APOP: MCHI: GOL: TAOP: GILD: ACCD: GDRX: FREQ: POSH: RMO: GLSI: AVCT: ZKIN: ABEV: ARLO: MDGS: YGMZ: VOOG: CKPT: DRIV: MAR: FNGD: GIK: SONO: ODT: FANG: BNTC: ADIL: ORTX: IPOB: AQMS: CNDT: ABIO: KSS: CMPD: GPS: HAL: ACIC: TSN: PHIO: VRTX: XPEL: XM: BTU: CJJD: OTRK: HOTH: DRI: APVO: Z: CPNG: MYSZ: HDSN: LLNW: BTE: GOEV: PED: SFET: GOVX - thread num: 0  -  79 / 103\n"
     ]
    },
    {
     "name": "stderr",
     "output_type": "stream",
     "text": [
      "\n",
      "Thread num: 2:  79%|██████████████████████████████████████████████▍            | 81/103 [38:11:41<9:41:02, 1584.64s/it]\u001b[A"
     ]
    },
    {
     "name": "stdout",
     "output_type": "stream",
     "text": [
      "completed symbols AREC: NEXT: STNE: STNG: ENVB: VB: HTGM: PFMT: SWN: VRM: ACTC: ZI: NTN: AMRN: AMPY: PCG: DOW: INFI: YCBD: RCON: HGSH: MNOV: BSV: GLMD: CHGG: IDXX: VO: HX: BLOK: VSTM: MAXR: MTP: SLS: WBA: FINV: EVC: LIT: BEP: BLIN: CAPR: PRNT: AAXN: PSFE: KIQ: MPC: BIIB: SINO: NNVC: PLIN: ILMN: DOGZ: SFTW: GSX: TECL: UMC: CLRB: MITO: POWW: GDX: PAYS: CHNR: CLII: CTIB: VVUSQ: KERN: EDR: ATVI: RCMT: QDEL: CZR: FSLR: XCUR: STKL: LLY: PECK: DMTK: TRPX: JENGQ: GECC: PMF: ARRY - thread num: 2  -  81 / 103\n"
     ]
    },
    {
     "name": "stderr",
     "output_type": "stream",
     "text": [
      "\n",
      "\n",
      "\n",
      "\n",
      "Thread num: 5:  74%|██████████████████████████████████████████▊               | 76/103 [38:16:14<13:48:23, 1840.88s/it]\u001b[A\u001b[A\u001b[A\u001b[A"
     ]
    },
    {
     "name": "stdout",
     "output_type": "stream",
     "text": [
      "completed symbols EQ: GRIL: UA: LBYYQ: ITUB: EQOS: XERS: FSM: CSIQ: ASAN: QYLD: MGI: PG: MRVL: AESE: OKE: MESO: MRIN: HIBL: SDS: AG: CRIS: CPRX: MIK: ASM: AGQ: ERX: VIG: CLDR: QCLN: IMV: GNOG: ASML: REGN: CATB: ARKX: CHX: JAMF: GPL: XAN: AAME: MIST: TGI: VOE: SPYD: ALJJ: MOXC: PETZ: TUP: AQST: MO: VV: CSLT: HUGE: ZEST: SPR: FE: VEA: ARNC: DSS: NGA: SMH: XONE: JILL: DOG: CREX: APRE: ATHE: FTRCQ: LAIX: LB: WPRT: GBR: UPC: SRNGU: XLK - thread num: 5  -  76 / 103\n"
     ]
    },
    {
     "name": "stderr",
     "output_type": "stream",
     "text": [
      "\n",
      "\n",
      "\n",
      "Thread num: 6:  81%|██████████████████████████████████████████████▋           | 83/103 [38:27:14<11:29:26, 2068.30s/it]\u001b[A\u001b[A\u001b[A"
     ]
    },
    {
     "name": "stdout",
     "output_type": "stream",
     "text": [
      "completed symbols GPRO: CVAC: IRTC: IRM: RWLK: ACI: MGEN: FMCC: PK: CLX: SCO: TMDI: NBAC: AGNC: ABEO: RAVE: CPPRQ: CHKAQ: CRON: GIGM: WPG: XELB: QTT: VXUS: RMG: VTEB: TGC: NYMT: UGAZF: EXK: CLEU: APPH: ANCN: SM: TH: BHTG: HCDI: PZC: SCHD: GS: NIU: PSX: AUY: ZNOG: BIMI: GAU: VERI: ALK: EXPE: IFMK: GORO: ANPC: GDXJ: BEST: SGOL: HL: ZYNE: SONY: PDD: PDSB: MDRR: COF: AEMD: SCHB: LYV: DIG: CBLI: ANIX: CLVS: NDRA: GCI: SRTY: NVTA: LABU: IPOC: LRCX: IVV: UNH: ESGC: SNMP: SNPR: ARCT: SSY - thread num: 6  -  83 / 103\n"
     ]
    },
    {
     "name": "stderr",
     "output_type": "stream",
     "text": [
      "\n",
      "\n",
      "\n",
      "\n",
      "\n",
      "\n",
      "\n",
      "Thread num: 3:  86%|██████████████████████████████████████████████████▉        | 89/103 [38:27:18<8:28:03, 2177.39s/it]\u001b[A\u001b[A\u001b[A\u001b[A\u001b[A\u001b[A\u001b[A"
     ]
    },
    {
     "name": "stdout",
     "output_type": "stream",
     "text": [
      "completed symbols FLDM: RCKT: BFLY: BBY: VWAGY: ATNF: AVCO: RVP: BBIG: EFOI: FUSE: AGEN: RKDA: GHIV: IAU: PRQR: PT: SPPI: LIZI: PRPL: INSG: ROOT: RSCF: ICON: CYRN: APTX: IPOD: ARPO: ANY: GAN: ALNA: CPHI: CCO: LVS: AIHS: BUZZ: ORI: ISIG: OCX: GSM: MSTR: ADT: LTHM: DTSS: FISV: COTY: BMY: ACAD: MOGU: STPK: SING: CUK: ERI: NGL: DOYU: FAS: STMP: DMPI: VNQ: YOLO: NOG: BILI: AM: VFF: AGTC: GRAF: VGAC: BDX: DRIP: PTY: NEE: MNLO: W: WISA: DBX: CMG: RC: APM: NBR: PLM: CHTR: WATT: LOTZ: TGB: NLY: CELH: LABD: IVH: PLG - thread num: 3  -  89 / 103\n"
     ]
    },
    {
     "name": "stderr",
     "output_type": "stream",
     "text": [
      "\n",
      "\n",
      "Thread num: 4:  76%|███████████████████████████████████████████▉              | 78/103 [38:32:53<14:42:18, 2117.56s/it]\u001b[A\u001b[A"
     ]
    },
    {
     "name": "stdout",
     "output_type": "stream",
     "text": [
      "completed symbols NH: SNCA: TGA: VBK: ATOM: MKD: TRUL: NLSP: SPLK: SCHO: ALRN: DISCB: TMUS: WIX: SDC: CTEK: PEIX: FAZ: SNGX: AIV: BETZ: ELYS: ORCL: CARV: CAT: AA: CFMS: AQB: MITT: MELI: HMY: SCYX: OXLC: RTX: PBI: WAFU: CTIC: RAD: NXE: SRAC: AMAT: MINT: SIRI: CNSP: MRKR: GHVI: SLDB: PEP: DRRX: IIPR: SVXY: PULM: EVOL: WORX: TEVA: SPXU: VBR: GLUU: SKT: BIL: LGND: SEDG: FRX: XLE: LYFT: SUN: CNET: ERIC: PPBT: BCRX: YJ: ANTE: NOW: RAIL: WNW: GNLN: BCDA: BAM - thread num: 4  -  78 / 103\n"
     ]
    },
    {
     "name": "stderr",
     "output_type": "stream",
     "text": [
      "\n",
      "\n",
      "\n",
      "\n",
      "\n",
      "\n",
      "Thread num: 1:  85%|██████████████████████████████████████████████████▍        | 88/103 [38:40:08<8:41:54, 2087.67s/it]\u001b[A\u001b[A\u001b[A\u001b[A\u001b[A\u001b[A"
     ]
    },
    {
     "name": "stdout",
     "output_type": "stream",
     "text": [
      "completed symbols EGYF: SFIX: NTDOY: SFT: QID: AXP: PSEC: CLPS: KTRA: LC: QD: EKSO: DG: UPRO: THBR: GTHX: ADTX: AUMN: CGIX: BHR: NETE: SPRT: EVRI: CORR: HIBS: CANF: RESN: BOIL: MNMD: SHY: VCNX: NUGT: TCEHY: FTCV: AMTX: FBIO: BVXV: GEENQ: SNES: POTX: AACG: HGEND: AIRI: IEZ: ACY: QLD: TENX: SAN: EPD: XBIO: LGVW: GTEC: RGLS: CVX: DYNT: STCN: AMRS: ETM: FNMA: MLND: VIR: KGC: CYH: SLVO: FUTU: VWO: CCI: CUEN: PSQ: IMTE: HSDT: SGLB: MSOS: BKNG: NK: APA: BWEN: BJ: RRD: APTO: PAVM: GLBS: QUBT: AKER: GILT: NEAR: NBEV: ENDP - thread num: 1  -  88 / 103\n"
     ]
    },
    {
     "name": "stderr",
     "output_type": "stream",
     "text": [
      "\r",
      "Thread num: 0:  78%|█████████████████████████████████████████████             | 80/103 [38:41:42<12:17:30, 1923.92s/it]"
     ]
    },
    {
     "name": "stdout",
     "output_type": "stream",
     "text": [
      "completed symbols ENOB: MUDS: IZEA: ONCY: RNET: OVID: LMT: MRK: BIG: SI: VTGN: SVM: THMO: DPZ: KOPN: TIGR: INTU: HUSA: DFS: VZIO: APOP: MCHI: GOL: TAOP: GILD: ACCD: GDRX: FREQ: POSH: RMO: GLSI: AVCT: ZKIN: ABEV: ARLO: MDGS: YGMZ: VOOG: CKPT: DRIV: MAR: FNGD: GIK: SONO: ODT: FANG: BNTC: ADIL: ORTX: IPOB: AQMS: CNDT: ABIO: KSS: CMPD: GPS: HAL: ACIC: TSN: PHIO: VRTX: XPEL: XM: BTU: CJJD: OTRK: HOTH: DRI: APVO: Z: CPNG: MYSZ: HDSN: LLNW: BTE: GOEV: PED: SFET: GOVX: TWO - thread num: 0  -  80 / 103\n"
     ]
    },
    {
     "name": "stderr",
     "output_type": "stream",
     "text": [
      "\n",
      "Thread num: 2:  80%|██████████████████████████████████████████████▏           | 82/103 [38:47:32<10:13:59, 1754.26s/it]\u001b[A"
     ]
    },
    {
     "name": "stdout",
     "output_type": "stream",
     "text": [
      "completed symbols AREC: NEXT: STNE: STNG: ENVB: VB: HTGM: PFMT: SWN: VRM: ACTC: ZI: NTN: AMRN: AMPY: PCG: DOW: INFI: YCBD: RCON: HGSH: MNOV: BSV: GLMD: CHGG: IDXX: VO: HX: BLOK: VSTM: MAXR: MTP: SLS: WBA: FINV: EVC: LIT: BEP: BLIN: CAPR: PRNT: AAXN: PSFE: KIQ: MPC: BIIB: SINO: NNVC: PLIN: ILMN: DOGZ: SFTW: GSX: TECL: UMC: CLRB: MITO: POWW: GDX: PAYS: CHNR: CLII: CTIB: VVUSQ: KERN: EDR: ATVI: RCMT: QDEL: CZR: FSLR: XCUR: STKL: LLY: PECK: DMTK: TRPX: JENGQ: GECC: PMF: ARRY: IMRN - thread num: 2  -  82 / 103\n"
     ]
    },
    {
     "name": "stderr",
     "output_type": "stream",
     "text": [
      "\n",
      "\n",
      "\n",
      "\n",
      "Thread num: 5:  75%|███████████████████████████████████████████▎              | 77/103 [38:50:25<13:45:02, 1903.94s/it]\u001b[A\u001b[A\u001b[A\u001b[A"
     ]
    },
    {
     "name": "stdout",
     "output_type": "stream",
     "text": [
      "completed symbols EQ: GRIL: UA: LBYYQ: ITUB: EQOS: XERS: FSM: CSIQ: ASAN: QYLD: MGI: PG: MRVL: AESE: OKE: MESO: MRIN: HIBL: SDS: AG: CRIS: CPRX: MIK: ASM: AGQ: ERX: VIG: CLDR: QCLN: IMV: GNOG: ASML: REGN: CATB: ARKX: CHX: JAMF: GPL: XAN: AAME: MIST: TGI: VOE: SPYD: ALJJ: MOXC: PETZ: TUP: AQST: MO: VV: CSLT: HUGE: ZEST: SPR: FE: VEA: ARNC: DSS: NGA: SMH: XONE: JILL: DOG: CREX: APRE: ATHE: FTRCQ: LAIX: LB: WPRT: GBR: UPC: SRNGU: XLK: EVOK - thread num: 5  -  77 / 103\n"
     ]
    },
    {
     "name": "stderr",
     "output_type": "stream",
     "text": [
      "\n",
      "\n",
      "Thread num: 4:  77%|████████████████████████████████████████████▍             | 79/103 [38:57:24<12:49:26, 1923.60s/it]\u001b[A\u001b[A"
     ]
    },
    {
     "name": "stdout",
     "output_type": "stream",
     "text": [
      "completed symbols NH: SNCA: TGA: VBK: ATOM: MKD: TRUL: NLSP: SPLK: SCHO: ALRN: DISCB: TMUS: WIX: SDC: CTEK: PEIX: FAZ: SNGX: AIV: BETZ: ELYS: ORCL: CARV: CAT: AA: CFMS: AQB: MITT: MELI: HMY: SCYX: OXLC: RTX: PBI: WAFU: CTIC: RAD: NXE: SRAC: AMAT: MINT: SIRI: CNSP: MRKR: GHVI: SLDB: PEP: DRRX: IIPR: SVXY: PULM: EVOL: WORX: TEVA: SPXU: VBR: GLUU: SKT: BIL: LGND: SEDG: FRX: XLE: LYFT: SUN: CNET: ERIC: PPBT: BCRX: YJ: ANTE: NOW: RAIL: WNW: GNLN: BCDA: BAM: YRCW - thread num: 4  -  79 / 103\n"
     ]
    },
    {
     "name": "stderr",
     "output_type": "stream",
     "text": [
      "\n",
      "\n",
      "\n",
      "\n",
      "\n",
      "\n",
      "\n",
      "Thread num: 3:  87%|███████████████████████████████████████████████████▌       | 90/103 [39:01:50<7:44:55, 2145.78s/it]\u001b[A\u001b[A\u001b[A\u001b[A\u001b[A\u001b[A\u001b[A"
     ]
    },
    {
     "name": "stdout",
     "output_type": "stream",
     "text": [
      "completed symbols FLDM: RCKT: BFLY: BBY: VWAGY: ATNF: AVCO: RVP: BBIG: EFOI: FUSE: AGEN: RKDA: GHIV: IAU: PRQR: PT: SPPI: LIZI: PRPL: INSG: ROOT: RSCF: ICON: CYRN: APTX: IPOD: ARPO: ANY: GAN: ALNA: CPHI: CCO: LVS: AIHS: BUZZ: ORI: ISIG: OCX: GSM: MSTR: ADT: LTHM: DTSS: FISV: COTY: BMY: ACAD: MOGU: STPK: SING: CUK: ERI: NGL: DOYU: FAS: STMP: DMPI: VNQ: YOLO: NOG: BILI: AM: VFF: AGTC: GRAF: VGAC: BDX: DRIP: PTY: NEE: MNLO: W: WISA: DBX: CMG: RC: APM: NBR: PLM: CHTR: WATT: LOTZ: TGB: NLY: CELH: LABD: IVH: PLG: CNTY - thread num: 3  -  90 / 103\n"
     ]
    },
    {
     "name": "stderr",
     "output_type": "stream",
     "text": [
      "\n",
      "\n",
      "\n",
      "Thread num: 6:  82%|███████████████████████████████████████████████▎          | 84/103 [39:02:32<10:59:38, 2083.07s/it]\u001b[A\u001b[A\u001b[A"
     ]
    },
    {
     "name": "stdout",
     "output_type": "stream",
     "text": [
      "completed symbols GPRO: CVAC: IRTC: IRM: RWLK: ACI: MGEN: FMCC: PK: CLX: SCO: TMDI: NBAC: AGNC: ABEO: RAVE: CPPRQ: CHKAQ: CRON: GIGM: WPG: XELB: QTT: VXUS: RMG: VTEB: TGC: NYMT: UGAZF: EXK: CLEU: APPH: ANCN: SM: TH: BHTG: HCDI: PZC: SCHD: GS: NIU: PSX: AUY: ZNOG: BIMI: GAU: VERI: ALK: EXPE: IFMK: GORO: ANPC: GDXJ: BEST: SGOL: HL: ZYNE: SONY: PDD: PDSB: MDRR: COF: AEMD: SCHB: LYV: DIG: CBLI: ANIX: CLVS: NDRA: GCI: SRTY: NVTA: LABU: IPOC: LRCX: IVV: UNH: ESGC: SNMP: SNPR: ARCT: SSY: CRNT - thread num: 6  -  84 / 103\n"
     ]
    },
    {
     "name": "stderr",
     "output_type": "stream",
     "text": [
      "\n",
      "\n",
      "\n",
      "\n",
      "Thread num: 5:  76%|███████████████████████████████████████████▉              | 78/103 [39:05:03<11:04:59, 1595.98s/it]\u001b[A\u001b[A\u001b[A\u001b[A"
     ]
    },
    {
     "name": "stdout",
     "output_type": "stream",
     "text": [
      "completed symbols EQ: GRIL: UA: LBYYQ: ITUB: EQOS: XERS: FSM: CSIQ: ASAN: QYLD: MGI: PG: MRVL: AESE: OKE: MESO: MRIN: HIBL: SDS: AG: CRIS: CPRX: MIK: ASM: AGQ: ERX: VIG: CLDR: QCLN: IMV: GNOG: ASML: REGN: CATB: ARKX: CHX: JAMF: GPL: XAN: AAME: MIST: TGI: VOE: SPYD: ALJJ: MOXC: PETZ: TUP: AQST: MO: VV: CSLT: HUGE: ZEST: SPR: FE: VEA: ARNC: DSS: NGA: SMH: XONE: JILL: DOG: CREX: APRE: ATHE: FTRCQ: LAIX: LB: WPRT: GBR: UPC: SRNGU: XLK: EVOK: TIRX - thread num: 5  -  78 / 103\n"
     ]
    },
    {
     "name": "stderr",
     "output_type": "stream",
     "text": [
      "\r",
      "Thread num: 0:  79%|█████████████████████████████████████████████▌            | 81/103 [39:24:07<12:53:41, 2110.05s/it]"
     ]
    },
    {
     "name": "stdout",
     "output_type": "stream",
     "text": [
      "completed symbols ENOB: MUDS: IZEA: ONCY: RNET: OVID: LMT: MRK: BIG: SI: VTGN: SVM: THMO: DPZ: KOPN: TIGR: INTU: HUSA: DFS: VZIO: APOP: MCHI: GOL: TAOP: GILD: ACCD: GDRX: FREQ: POSH: RMO: GLSI: AVCT: ZKIN: ABEV: ARLO: MDGS: YGMZ: VOOG: CKPT: DRIV: MAR: FNGD: GIK: SONO: ODT: FANG: BNTC: ADIL: ORTX: IPOB: AQMS: CNDT: ABIO: KSS: CMPD: GPS: HAL: ACIC: TSN: PHIO: VRTX: XPEL: XM: BTU: CJJD: OTRK: HOTH: DRI: APVO: Z: CPNG: MYSZ: HDSN: LLNW: BTE: GOEV: PED: SFET: GOVX: TWO: EHTH - thread num: 0  -  81 / 103\n"
     ]
    },
    {
     "name": "stderr",
     "output_type": "stream",
     "text": [
      "\n",
      "\n",
      "\n",
      "\n",
      "\n",
      "\n",
      "Thread num: 1:  86%|██████████████████████████████████████████████████▉        | 89/103 [39:26:04<8:53:55, 2288.27s/it]\u001b[A\u001b[A\u001b[A\u001b[A\u001b[A\u001b[A"
     ]
    },
    {
     "name": "stdout",
     "output_type": "stream",
     "text": [
      "completed symbols EGYF: SFIX: NTDOY: SFT: QID: AXP: PSEC: CLPS: KTRA: LC: QD: EKSO: DG: UPRO: THBR: GTHX: ADTX: AUMN: CGIX: BHR: NETE: SPRT: EVRI: CORR: HIBS: CANF: RESN: BOIL: MNMD: SHY: VCNX: NUGT: TCEHY: FTCV: AMTX: FBIO: BVXV: GEENQ: SNES: POTX: AACG: HGEND: AIRI: IEZ: ACY: QLD: TENX: SAN: EPD: XBIO: LGVW: GTEC: RGLS: CVX: DYNT: STCN: AMRS: ETM: FNMA: MLND: VIR: KGC: CYH: SLVO: FUTU: VWO: CCI: CUEN: PSQ: IMTE: HSDT: SGLB: MSOS: BKNG: NK: APA: BWEN: BJ: RRD: APTO: PAVM: GLBS: QUBT: AKER: GILT: NEAR: NBEV: ENDP: DQ - thread num: 1  -  89 / 103\n"
     ]
    },
    {
     "name": "stderr",
     "output_type": "stream",
     "text": [
      "\n",
      "\n",
      "Thread num: 4:  78%|█████████████████████████████████████████████             | 80/103 [39:40:52<13:36:07, 2129.02s/it]\u001b[A\u001b[A"
     ]
    },
    {
     "name": "stdout",
     "output_type": "stream",
     "text": [
      "completed symbols NH: SNCA: TGA: VBK: ATOM: MKD: TRUL: NLSP: SPLK: SCHO: ALRN: DISCB: TMUS: WIX: SDC: CTEK: PEIX: FAZ: SNGX: AIV: BETZ: ELYS: ORCL: CARV: CAT: AA: CFMS: AQB: MITT: MELI: HMY: SCYX: OXLC: RTX: PBI: WAFU: CTIC: RAD: NXE: SRAC: AMAT: MINT: SIRI: CNSP: MRKR: GHVI: SLDB: PEP: DRRX: IIPR: SVXY: PULM: EVOL: WORX: TEVA: SPXU: VBR: GLUU: SKT: BIL: LGND: SEDG: FRX: XLE: LYFT: SUN: CNET: ERIC: PPBT: BCRX: YJ: ANTE: NOW: RAIL: WNW: GNLN: BCDA: BAM: YRCW: CVEO - thread num: 4  -  80 / 103\n"
     ]
    },
    {
     "name": "stderr",
     "output_type": "stream",
     "text": [
      "\n",
      "Thread num: 2:  81%|██████████████████████████████████████████████▋           | 83/103 [39:45:03<12:34:26, 2263.34s/it]\u001b[A"
     ]
    },
    {
     "name": "stdout",
     "output_type": "stream",
     "text": [
      "completed symbols AREC: NEXT: STNE: STNG: ENVB: VB: HTGM: PFMT: SWN: VRM: ACTC: ZI: NTN: AMRN: AMPY: PCG: DOW: INFI: YCBD: RCON: HGSH: MNOV: BSV: GLMD: CHGG: IDXX: VO: HX: BLOK: VSTM: MAXR: MTP: SLS: WBA: FINV: EVC: LIT: BEP: BLIN: CAPR: PRNT: AAXN: PSFE: KIQ: MPC: BIIB: SINO: NNVC: PLIN: ILMN: DOGZ: SFTW: GSX: TECL: UMC: CLRB: MITO: POWW: GDX: PAYS: CHNR: CLII: CTIB: VVUSQ: KERN: EDR: ATVI: RCMT: QDEL: CZR: FSLR: XCUR: STKL: LLY: PECK: DMTK: TRPX: JENGQ: GECC: PMF: ARRY: IMRN: COP - thread num: 2  -  83 / 103\n"
     ]
    },
    {
     "name": "stderr",
     "output_type": "stream",
     "text": [
      "\n",
      "\n",
      "\n",
      "Thread num: 6:  83%|███████████████████████████████████████████████▊          | 85/103 [39:46:16<11:13:35, 2245.31s/it]\u001b[A\u001b[A\u001b[A"
     ]
    },
    {
     "name": "stdout",
     "output_type": "stream",
     "text": [
      "completed symbols GPRO: CVAC: IRTC: IRM: RWLK: ACI: MGEN: FMCC: PK: CLX: SCO: TMDI: NBAC: AGNC: ABEO: RAVE: CPPRQ: CHKAQ: CRON: GIGM: WPG: XELB: QTT: VXUS: RMG: VTEB: TGC: NYMT: UGAZF: EXK: CLEU: APPH: ANCN: SM: TH: BHTG: HCDI: PZC: SCHD: GS: NIU: PSX: AUY: ZNOG: BIMI: GAU: VERI: ALK: EXPE: IFMK: GORO: ANPC: GDXJ: BEST: SGOL: HL: ZYNE: SONY: PDD: PDSB: MDRR: COF: AEMD: SCHB: LYV: DIG: CBLI: ANIX: CLVS: NDRA: GCI: SRTY: NVTA: LABU: IPOC: LRCX: IVV: UNH: ESGC: SNMP: SNPR: ARCT: SSY: CRNT: AUTO - thread num: 6  -  85 / 103\n"
     ]
    },
    {
     "name": "stderr",
     "output_type": "stream",
     "text": [
      "\n",
      "\n",
      "\n",
      "\n",
      "Thread num: 5:  77%|████████████████████████████████████████████▍             | 79/103 [39:47:49<12:34:50, 1887.12s/it]\u001b[A\u001b[A\u001b[A\u001b[A"
     ]
    },
    {
     "name": "stdout",
     "output_type": "stream",
     "text": [
      "completed symbols EQ: GRIL: UA: LBYYQ: ITUB: EQOS: XERS: FSM: CSIQ: ASAN: QYLD: MGI: PG: MRVL: AESE: OKE: MESO: MRIN: HIBL: SDS: AG: CRIS: CPRX: MIK: ASM: AGQ: ERX: VIG: CLDR: QCLN: IMV: GNOG: ASML: REGN: CATB: ARKX: CHX: JAMF: GPL: XAN: AAME: MIST: TGI: VOE: SPYD: ALJJ: MOXC: PETZ: TUP: AQST: MO: VV: CSLT: HUGE: ZEST: SPR: FE: VEA: ARNC: DSS: NGA: SMH: XONE: JILL: DOG: CREX: APRE: ATHE: FTRCQ: LAIX: LB: WPRT: GBR: UPC: SRNGU: XLK: EVOK: TIRX: LAKE - thread num: 5  -  79 / 103\n"
     ]
    },
    {
     "name": "stderr",
     "output_type": "stream",
     "text": [
      "\n",
      "\n",
      "\n",
      "\n",
      "\n",
      "\n",
      "\n",
      "Thread num: 3:  88%|████████████████████████████████████████████████████▏      | 91/103 [39:57:15<8:19:53, 2499.42s/it]\u001b[A\u001b[A\u001b[A\u001b[A\u001b[A\u001b[A\u001b[A"
     ]
    },
    {
     "name": "stdout",
     "output_type": "stream",
     "text": [
      "completed symbols FLDM: RCKT: BFLY: BBY: VWAGY: ATNF: AVCO: RVP: BBIG: EFOI: FUSE: AGEN: RKDA: GHIV: IAU: PRQR: PT: SPPI: LIZI: PRPL: INSG: ROOT: RSCF: ICON: CYRN: APTX: IPOD: ARPO: ANY: GAN: ALNA: CPHI: CCO: LVS: AIHS: BUZZ: ORI: ISIG: OCX: GSM: MSTR: ADT: LTHM: DTSS: FISV: COTY: BMY: ACAD: MOGU: STPK: SING: CUK: ERI: NGL: DOYU: FAS: STMP: DMPI: VNQ: YOLO: NOG: BILI: AM: VFF: AGTC: GRAF: VGAC: BDX: DRIP: PTY: NEE: MNLO: W: WISA: DBX: CMG: RC: APM: NBR: PLM: CHTR: WATT: LOTZ: TGB: NLY: CELH: LABD: IVH: PLG: CNTY: KMI - thread num: 3  -  91 / 103\n"
     ]
    },
    {
     "name": "stderr",
     "output_type": "stream",
     "text": [
      "\r",
      "Thread num: 0:  80%|██████████████████████████████████████████████▏           | 82/103 [40:03:38<12:45:58, 2188.49s/it]"
     ]
    },
    {
     "name": "stdout",
     "output_type": "stream",
     "text": [
      "completed symbols ENOB: MUDS: IZEA: ONCY: RNET: OVID: LMT: MRK: BIG: SI: VTGN: SVM: THMO: DPZ: KOPN: TIGR: INTU: HUSA: DFS: VZIO: APOP: MCHI: GOL: TAOP: GILD: ACCD: GDRX: FREQ: POSH: RMO: GLSI: AVCT: ZKIN: ABEV: ARLO: MDGS: YGMZ: VOOG: CKPT: DRIV: MAR: FNGD: GIK: SONO: ODT: FANG: BNTC: ADIL: ORTX: IPOB: AQMS: CNDT: ABIO: KSS: CMPD: GPS: HAL: ACIC: TSN: PHIO: VRTX: XPEL: XM: BTU: CJJD: OTRK: HOTH: DRI: APVO: Z: CPNG: MYSZ: HDSN: LLNW: BTE: GOEV: PED: SFET: GOVX: TWO: EHTH: JG - thread num: 0  -  82 / 103\n"
     ]
    },
    {
     "name": "stderr",
     "output_type": "stream",
     "text": [
      "\n",
      "\n",
      "\n",
      "\n",
      "\n",
      "\n",
      "Thread num: 1:  87%|███████████████████████████████████████████████████▌       | 90/103 [40:04:24<8:16:31, 2291.67s/it]\u001b[A\u001b[A\u001b[A\u001b[A\u001b[A\u001b[A"
     ]
    },
    {
     "name": "stdout",
     "output_type": "stream",
     "text": [
      "completed symbols EGYF: SFIX: NTDOY: SFT: QID: AXP: PSEC: CLPS: KTRA: LC: QD: EKSO: DG: UPRO: THBR: GTHX: ADTX: AUMN: CGIX: BHR: NETE: SPRT: EVRI: CORR: HIBS: CANF: RESN: BOIL: MNMD: SHY: VCNX: NUGT: TCEHY: FTCV: AMTX: FBIO: BVXV: GEENQ: SNES: POTX: AACG: HGEND: AIRI: IEZ: ACY: QLD: TENX: SAN: EPD: XBIO: LGVW: GTEC: RGLS: CVX: DYNT: STCN: AMRS: ETM: FNMA: MLND: VIR: KGC: CYH: SLVO: FUTU: VWO: CCI: CUEN: PSQ: IMTE: HSDT: SGLB: MSOS: BKNG: NK: APA: BWEN: BJ: RRD: APTO: PAVM: GLBS: QUBT: AKER: GILT: NEAR: NBEV: ENDP: DQ: MESA - thread num: 1  -  90 / 103\n"
     ]
    },
    {
     "name": "stderr",
     "output_type": "stream",
     "text": [
      "\n",
      "\n",
      "Thread num: 4:  79%|█████████████████████████████████████████████▌            | 81/103 [40:17:23<13:07:25, 2147.51s/it]\u001b[A\u001b[A"
     ]
    },
    {
     "name": "stdout",
     "output_type": "stream",
     "text": [
      "completed symbols NH: SNCA: TGA: VBK: ATOM: MKD: TRUL: NLSP: SPLK: SCHO: ALRN: DISCB: TMUS: WIX: SDC: CTEK: PEIX: FAZ: SNGX: AIV: BETZ: ELYS: ORCL: CARV: CAT: AA: CFMS: AQB: MITT: MELI: HMY: SCYX: OXLC: RTX: PBI: WAFU: CTIC: RAD: NXE: SRAC: AMAT: MINT: SIRI: CNSP: MRKR: GHVI: SLDB: PEP: DRRX: IIPR: SVXY: PULM: EVOL: WORX: TEVA: SPXU: VBR: GLUU: SKT: BIL: LGND: SEDG: FRX: XLE: LYFT: SUN: CNET: ERIC: PPBT: BCRX: YJ: ANTE: NOW: RAIL: WNW: GNLN: BCDA: BAM: YRCW: CVEO: VOC - thread num: 4  -  81 / 103\n"
     ]
    },
    {
     "name": "stderr",
     "output_type": "stream",
     "text": [
      "\n",
      "Thread num: 2:  82%|███████████████████████████████████████████████▎          | 84/103 [40:21:22<11:48:46, 2238.22s/it]\u001b[A"
     ]
    },
    {
     "name": "stdout",
     "output_type": "stream",
     "text": [
      "completed symbols AREC: NEXT: STNE: STNG: ENVB: VB: HTGM: PFMT: SWN: VRM: ACTC: ZI: NTN: AMRN: AMPY: PCG: DOW: INFI: YCBD: RCON: HGSH: MNOV: BSV: GLMD: CHGG: IDXX: VO: HX: BLOK: VSTM: MAXR: MTP: SLS: WBA: FINV: EVC: LIT: BEP: BLIN: CAPR: PRNT: AAXN: PSFE: KIQ: MPC: BIIB: SINO: NNVC: PLIN: ILMN: DOGZ: SFTW: GSX: TECL: UMC: CLRB: MITO: POWW: GDX: PAYS: CHNR: CLII: CTIB: VVUSQ: KERN: EDR: ATVI: RCMT: QDEL: CZR: FSLR: XCUR: STKL: LLY: PECK: DMTK: TRPX: JENGQ: GECC: PMF: ARRY: IMRN: COP: EVGN - thread num: 2  -  84 / 103\n"
     ]
    },
    {
     "name": "stderr",
     "output_type": "stream",
     "text": [
      "\n",
      "\n",
      "\n",
      "Thread num: 6:  83%|████████████████████████████████████████████████▍         | 86/103 [40:24:49<10:41:55, 2265.63s/it]\u001b[A\u001b[A\u001b[A"
     ]
    },
    {
     "name": "stdout",
     "output_type": "stream",
     "text": [
      "completed symbols GPRO: CVAC: IRTC: IRM: RWLK: ACI: MGEN: FMCC: PK: CLX: SCO: TMDI: NBAC: AGNC: ABEO: RAVE: CPPRQ: CHKAQ: CRON: GIGM: WPG: XELB: QTT: VXUS: RMG: VTEB: TGC: NYMT: UGAZF: EXK: CLEU: APPH: ANCN: SM: TH: BHTG: HCDI: PZC: SCHD: GS: NIU: PSX: AUY: ZNOG: BIMI: GAU: VERI: ALK: EXPE: IFMK: GORO: ANPC: GDXJ: BEST: SGOL: HL: ZYNE: SONY: PDD: PDSB: MDRR: COF: AEMD: SCHB: LYV: DIG: CBLI: ANIX: CLVS: NDRA: GCI: SRTY: NVTA: LABU: IPOC: LRCX: IVV: UNH: ESGC: SNMP: SNPR: ARCT: SSY: CRNT: AUTO: ATNX - thread num: 6  -  86 / 103\n"
     ]
    },
    {
     "name": "stderr",
     "output_type": "stream",
     "text": [
      "\n",
      "\n",
      "\n",
      "\n",
      "Thread num: 5:  78%|█████████████████████████████████████████████             | 80/103 [40:26:52<12:55:52, 2024.03s/it]\u001b[A\u001b[A\u001b[A\u001b[A"
     ]
    },
    {
     "name": "stdout",
     "output_type": "stream",
     "text": [
      "completed symbols EQ: GRIL: UA: LBYYQ: ITUB: EQOS: XERS: FSM: CSIQ: ASAN: QYLD: MGI: PG: MRVL: AESE: OKE: MESO: MRIN: HIBL: SDS: AG: CRIS: CPRX: MIK: ASM: AGQ: ERX: VIG: CLDR: QCLN: IMV: GNOG: ASML: REGN: CATB: ARKX: CHX: JAMF: GPL: XAN: AAME: MIST: TGI: VOE: SPYD: ALJJ: MOXC: PETZ: TUP: AQST: MO: VV: CSLT: HUGE: ZEST: SPR: FE: VEA: ARNC: DSS: NGA: SMH: XONE: JILL: DOG: CREX: APRE: ATHE: FTRCQ: LAIX: LB: WPRT: GBR: UPC: SRNGU: XLK: EVOK: TIRX: LAKE: SOXS - thread num: 5  -  80 / 103\n"
     ]
    },
    {
     "name": "stderr",
     "output_type": "stream",
     "text": [
      "\n",
      "\n",
      "\n",
      "\n",
      "\n",
      "\n",
      "\n",
      "Thread num: 3:  89%|████████████████████████████████████████████████████▋      | 92/103 [40:28:50<7:05:01, 2318.31s/it]\u001b[A\u001b[A\u001b[A\u001b[A\u001b[A\u001b[A\u001b[A"
     ]
    },
    {
     "name": "stdout",
     "output_type": "stream",
     "text": [
      "completed symbols FLDM: RCKT: BFLY: BBY: VWAGY: ATNF: AVCO: RVP: BBIG: EFOI: FUSE: AGEN: RKDA: GHIV: IAU: PRQR: PT: SPPI: LIZI: PRPL: INSG: ROOT: RSCF: ICON: CYRN: APTX: IPOD: ARPO: ANY: GAN: ALNA: CPHI: CCO: LVS: AIHS: BUZZ: ORI: ISIG: OCX: GSM: MSTR: ADT: LTHM: DTSS: FISV: COTY: BMY: ACAD: MOGU: STPK: SING: CUK: ERI: NGL: DOYU: FAS: STMP: DMPI: VNQ: YOLO: NOG: BILI: AM: VFF: AGTC: GRAF: VGAC: BDX: DRIP: PTY: NEE: MNLO: W: WISA: DBX: CMG: RC: APM: NBR: PLM: CHTR: WATT: LOTZ: TGB: NLY: CELH: LABD: IVH: PLG: CNTY: KMI: RXT - thread num: 3  -  92 / 103\n"
     ]
    },
    {
     "name": "stderr",
     "output_type": "stream",
     "text": [
      "\r",
      "Thread num: 0:  81%|██████████████████████████████████████████████▋           | 83/103 [40:44:06<12:33:24, 2260.25s/it]"
     ]
    },
    {
     "name": "stdout",
     "output_type": "stream",
     "text": [
      "completed symbols ENOB: MUDS: IZEA: ONCY: RNET: OVID: LMT: MRK: BIG: SI: VTGN: SVM: THMO: DPZ: KOPN: TIGR: INTU: HUSA: DFS: VZIO: APOP: MCHI: GOL: TAOP: GILD: ACCD: GDRX: FREQ: POSH: RMO: GLSI: AVCT: ZKIN: ABEV: ARLO: MDGS: YGMZ: VOOG: CKPT: DRIV: MAR: FNGD: GIK: SONO: ODT: FANG: BNTC: ADIL: ORTX: IPOB: AQMS: CNDT: ABIO: KSS: CMPD: GPS: HAL: ACIC: TSN: PHIO: VRTX: XPEL: XM: BTU: CJJD: OTRK: HOTH: DRI: APVO: Z: CPNG: MYSZ: HDSN: LLNW: BTE: GOEV: PED: SFET: GOVX: TWO: EHTH: JG: BGI - thread num: 0  -  83 / 103\n"
     ]
    },
    {
     "name": "stderr",
     "output_type": "stream",
     "text": [
      "\r",
      "Thread num: 0:  82%|████████████████████████████████████████████████           | 84/103 [40:45:10<8:27:08, 1601.49s/it]"
     ]
    },
    {
     "name": "stdout",
     "output_type": "stream",
     "text": [
      "completed symbols ENOB: MUDS: IZEA: ONCY: RNET: OVID: LMT: MRK: BIG: SI: VTGN: SVM: THMO: DPZ: KOPN: TIGR: INTU: HUSA: DFS: VZIO: APOP: MCHI: GOL: TAOP: GILD: ACCD: GDRX: FREQ: POSH: RMO: GLSI: AVCT: ZKIN: ABEV: ARLO: MDGS: YGMZ: VOOG: CKPT: DRIV: MAR: FNGD: GIK: SONO: ODT: FANG: BNTC: ADIL: ORTX: IPOB: AQMS: CNDT: ABIO: KSS: CMPD: GPS: HAL: ACIC: TSN: PHIO: VRTX: XPEL: XM: BTU: CJJD: OTRK: HOTH: DRI: APVO: Z: CPNG: MYSZ: HDSN: LLNW: BTE: GOEV: PED: SFET: GOVX: TWO: EHTH: JG: BGI: RDSA - thread num: 0  -  84 / 103\n"
     ]
    },
    {
     "name": "stderr",
     "output_type": "stream",
     "text": [
      "\n",
      "\n",
      "\n",
      "\n",
      "\n",
      "\n",
      "\n",
      "Thread num: 3:  90%|█████████████████████████████████████████████████████▎     | 93/103 [40:47:07<5:25:17, 1951.79s/it]\u001b[A\u001b[A\u001b[A\u001b[A\u001b[A\u001b[A\u001b[A"
     ]
    },
    {
     "name": "stdout",
     "output_type": "stream",
     "text": [
      "completed symbols FLDM: RCKT: BFLY: BBY: VWAGY: ATNF: AVCO: RVP: BBIG: EFOI: FUSE: AGEN: RKDA: GHIV: IAU: PRQR: PT: SPPI: LIZI: PRPL: INSG: ROOT: RSCF: ICON: CYRN: APTX: IPOD: ARPO: ANY: GAN: ALNA: CPHI: CCO: LVS: AIHS: BUZZ: ORI: ISIG: OCX: GSM: MSTR: ADT: LTHM: DTSS: FISV: COTY: BMY: ACAD: MOGU: STPK: SING: CUK: ERI: NGL: DOYU: FAS: STMP: DMPI: VNQ: YOLO: NOG: BILI: AM: VFF: AGTC: GRAF: VGAC: BDX: DRIP: PTY: NEE: MNLO: W: WISA: DBX: CMG: RC: APM: NBR: PLM: CHTR: WATT: LOTZ: TGB: NLY: CELH: LABD: IVH: PLG: CNTY: KMI: RXT: FMCI - thread num: 3  -  93 / 103\n"
     ]
    },
    {
     "name": "stderr",
     "output_type": "stream",
     "text": [
      "\n",
      "\n",
      "\n",
      "\n",
      "\n",
      "\n",
      "Thread num: 1:  88%|████████████████████████████████████████████████████▏      | 91/103 [40:47:10<7:54:46, 2373.90s/it]\u001b[A\u001b[A\u001b[A\u001b[A\u001b[A\u001b[A"
     ]
    },
    {
     "name": "stdout",
     "output_type": "stream",
     "text": [
      "completed symbols EGYF: SFIX: NTDOY: SFT: QID: AXP: PSEC: CLPS: KTRA: LC: QD: EKSO: DG: UPRO: THBR: GTHX: ADTX: AUMN: CGIX: BHR: NETE: SPRT: EVRI: CORR: HIBS: CANF: RESN: BOIL: MNMD: SHY: VCNX: NUGT: TCEHY: FTCV: AMTX: FBIO: BVXV: GEENQ: SNES: POTX: AACG: HGEND: AIRI: IEZ: ACY: QLD: TENX: SAN: EPD: XBIO: LGVW: GTEC: RGLS: CVX: DYNT: STCN: AMRS: ETM: FNMA: MLND: VIR: KGC: CYH: SLVO: FUTU: VWO: CCI: CUEN: PSQ: IMTE: HSDT: SGLB: MSOS: BKNG: NK: APA: BWEN: BJ: RRD: APTO: PAVM: GLBS: QUBT: AKER: GILT: NEAR: NBEV: ENDP: DQ: MESA: RDFN - thread num: 1  -  91 / 103\n"
     ]
    },
    {
     "name": "stderr",
     "output_type": "stream",
     "text": [
      "\n",
      "\n",
      "Thread num: 4:  80%|██████████████████████████████████████████████▏           | 82/103 [41:04:24<13:42:22, 2349.63s/it]\u001b[A\u001b[A"
     ]
    },
    {
     "name": "stdout",
     "output_type": "stream",
     "text": [
      "completed symbols NH: SNCA: TGA: VBK: ATOM: MKD: TRUL: NLSP: SPLK: SCHO: ALRN: DISCB: TMUS: WIX: SDC: CTEK: PEIX: FAZ: SNGX: AIV: BETZ: ELYS: ORCL: CARV: CAT: AA: CFMS: AQB: MITT: MELI: HMY: SCYX: OXLC: RTX: PBI: WAFU: CTIC: RAD: NXE: SRAC: AMAT: MINT: SIRI: CNSP: MRKR: GHVI: SLDB: PEP: DRRX: IIPR: SVXY: PULM: EVOL: WORX: TEVA: SPXU: VBR: GLUU: SKT: BIL: LGND: SEDG: FRX: XLE: LYFT: SUN: CNET: ERIC: PPBT: BCRX: YJ: ANTE: NOW: RAIL: WNW: GNLN: BCDA: BAM: YRCW: CVEO: VOC: SWKS - thread num: 4  -  82 / 103\n"
     ]
    },
    {
     "name": "stderr",
     "output_type": "stream",
     "text": [
      "\n",
      "\n",
      "\n",
      "Thread num: 6:  84%|████████████████████████████████████████████████▉         | 87/103 [41:07:38<10:28:29, 2356.81s/it]\u001b[A\u001b[A\u001b[A"
     ]
    },
    {
     "name": "stdout",
     "output_type": "stream",
     "text": [
      "completed symbols GPRO: CVAC: IRTC: IRM: RWLK: ACI: MGEN: FMCC: PK: CLX: SCO: TMDI: NBAC: AGNC: ABEO: RAVE: CPPRQ: CHKAQ: CRON: GIGM: WPG: XELB: QTT: VXUS: RMG: VTEB: TGC: NYMT: UGAZF: EXK: CLEU: APPH: ANCN: SM: TH: BHTG: HCDI: PZC: SCHD: GS: NIU: PSX: AUY: ZNOG: BIMI: GAU: VERI: ALK: EXPE: IFMK: GORO: ANPC: GDXJ: BEST: SGOL: HL: ZYNE: SONY: PDD: PDSB: MDRR: COF: AEMD: SCHB: LYV: DIG: CBLI: ANIX: CLVS: NDRA: GCI: SRTY: NVTA: LABU: IPOC: LRCX: IVV: UNH: ESGC: SNMP: SNPR: ARCT: SSY: CRNT: AUTO: ATNX: MBIO - thread num: 6  -  87 / 103\n"
     ]
    },
    {
     "name": "stderr",
     "output_type": "stream",
     "text": [
      "\n",
      "\n",
      "\n",
      "\n",
      "Thread num: 5:  79%|█████████████████████████████████████████████▌            | 81/103 [41:08:33<13:14:34, 2167.01s/it]\u001b[A\u001b[A\u001b[A\u001b[A"
     ]
    },
    {
     "name": "stdout",
     "output_type": "stream",
     "text": [
      "completed symbols EQ: GRIL: UA: LBYYQ: ITUB: EQOS: XERS: FSM: CSIQ: ASAN: QYLD: MGI: PG: MRVL: AESE: OKE: MESO: MRIN: HIBL: SDS: AG: CRIS: CPRX: MIK: ASM: AGQ: ERX: VIG: CLDR: QCLN: IMV: GNOG: ASML: REGN: CATB: ARKX: CHX: JAMF: GPL: XAN: AAME: MIST: TGI: VOE: SPYD: ALJJ: MOXC: PETZ: TUP: AQST: MO: VV: CSLT: HUGE: ZEST: SPR: FE: VEA: ARNC: DSS: NGA: SMH: XONE: JILL: DOG: CREX: APRE: ATHE: FTRCQ: LAIX: LB: WPRT: GBR: UPC: SRNGU: XLK: EVOK: TIRX: LAKE: SOXS: HYD - thread num: 5  -  81 / 103\n"
     ]
    },
    {
     "name": "stderr",
     "output_type": "stream",
     "text": [
      "\n",
      "\n",
      "\n",
      "\n",
      "Thread num: 5:  80%|██████████████████████████████████████████████▉            | 82/103 [41:09:33<8:57:11, 1534.81s/it]\u001b[A\u001b[A\u001b[A\u001b[A"
     ]
    },
    {
     "name": "stdout",
     "output_type": "stream",
     "text": [
      "completed symbols EQ: GRIL: UA: LBYYQ: ITUB: EQOS: XERS: FSM: CSIQ: ASAN: QYLD: MGI: PG: MRVL: AESE: OKE: MESO: MRIN: HIBL: SDS: AG: CRIS: CPRX: MIK: ASM: AGQ: ERX: VIG: CLDR: QCLN: IMV: GNOG: ASML: REGN: CATB: ARKX: CHX: JAMF: GPL: XAN: AAME: MIST: TGI: VOE: SPYD: ALJJ: MOXC: PETZ: TUP: AQST: MO: VV: CSLT: HUGE: ZEST: SPR: FE: VEA: ARNC: DSS: NGA: SMH: XONE: JILL: DOG: CREX: APRE: ATHE: FTRCQ: LAIX: LB: WPRT: GBR: UPC: SRNGU: XLK: EVOK: TIRX: LAKE: SOXS: HYD: ADYX - thread num: 5  -  82 / 103\n"
     ]
    },
    {
     "name": "stderr",
     "output_type": "stream",
     "text": [
      "\n",
      "Thread num: 2:  83%|███████████████████████████████████████████████▊          | 85/103 [41:12:25<12:25:39, 2485.53s/it]\u001b[A"
     ]
    },
    {
     "name": "stdout",
     "output_type": "stream",
     "text": [
      "completed symbols AREC: NEXT: STNE: STNG: ENVB: VB: HTGM: PFMT: SWN: VRM: ACTC: ZI: NTN: AMRN: AMPY: PCG: DOW: INFI: YCBD: RCON: HGSH: MNOV: BSV: GLMD: CHGG: IDXX: VO: HX: BLOK: VSTM: MAXR: MTP: SLS: WBA: FINV: EVC: LIT: BEP: BLIN: CAPR: PRNT: AAXN: PSFE: KIQ: MPC: BIIB: SINO: NNVC: PLIN: ILMN: DOGZ: SFTW: GSX: TECL: UMC: CLRB: MITO: POWW: GDX: PAYS: CHNR: CLII: CTIB: VVUSQ: KERN: EDR: ATVI: RCMT: QDEL: CZR: FSLR: XCUR: STKL: LLY: PECK: DMTK: TRPX: JENGQ: GECC: PMF: ARRY: IMRN: COP: EVGN: IQ - thread num: 2  -  85 / 103\n"
     ]
    },
    {
     "name": "stderr",
     "output_type": "stream",
     "text": [
      "\n",
      "\n",
      "\n",
      "\n",
      "\n",
      "\n",
      "\n",
      "Thread num: 3:  91%|█████████████████████████████████████████████████████▊     | 94/103 [41:22:35<5:00:41, 2004.57s/it]\u001b[A\u001b[A\u001b[A\u001b[A\u001b[A\u001b[A\u001b[A"
     ]
    },
    {
     "name": "stdout",
     "output_type": "stream",
     "text": [
      "completed symbols FLDM: RCKT: BFLY: BBY: VWAGY: ATNF: AVCO: RVP: BBIG: EFOI: FUSE: AGEN: RKDA: GHIV: IAU: PRQR: PT: SPPI: LIZI: PRPL: INSG: ROOT: RSCF: ICON: CYRN: APTX: IPOD: ARPO: ANY: GAN: ALNA: CPHI: CCO: LVS: AIHS: BUZZ: ORI: ISIG: OCX: GSM: MSTR: ADT: LTHM: DTSS: FISV: COTY: BMY: ACAD: MOGU: STPK: SING: CUK: ERI: NGL: DOYU: FAS: STMP: DMPI: VNQ: YOLO: NOG: BILI: AM: VFF: AGTC: GRAF: VGAC: BDX: DRIP: PTY: NEE: MNLO: W: WISA: DBX: CMG: RC: APM: NBR: PLM: CHTR: WATT: LOTZ: TGB: NLY: CELH: LABD: IVH: PLG: CNTY: KMI: RXT: FMCI: IPDN - thread num: 3  -  94 / 103\n"
     ]
    },
    {
     "name": "stderr",
     "output_type": "stream",
     "text": [
      "\r",
      "Thread num: 0:  83%|████████████████████████████████████████████████▋          | 85/103 [41:22:49<8:59:34, 1798.61s/it]"
     ]
    },
    {
     "name": "stdout",
     "output_type": "stream",
     "text": [
      "completed symbols ENOB: MUDS: IZEA: ONCY: RNET: OVID: LMT: MRK: BIG: SI: VTGN: SVM: THMO: DPZ: KOPN: TIGR: INTU: HUSA: DFS: VZIO: APOP: MCHI: GOL: TAOP: GILD: ACCD: GDRX: FREQ: POSH: RMO: GLSI: AVCT: ZKIN: ABEV: ARLO: MDGS: YGMZ: VOOG: CKPT: DRIV: MAR: FNGD: GIK: SONO: ODT: FANG: BNTC: ADIL: ORTX: IPOB: AQMS: CNDT: ABIO: KSS: CMPD: GPS: HAL: ACIC: TSN: PHIO: VRTX: XPEL: XM: BTU: CJJD: OTRK: HOTH: DRI: APVO: Z: CPNG: MYSZ: HDSN: LLNW: BTE: GOEV: PED: SFET: GOVX: TWO: EHTH: JG: BGI: RDSA: SHV - thread num: 0  -  85 / 103\n"
     ]
    },
    {
     "name": "stderr",
     "output_type": "stream",
     "text": [
      "\n",
      "\n",
      "\n",
      "\n",
      "\n",
      "\n",
      "Thread num: 1:  89%|████████████████████████████████████████████████████▋      | 92/103 [41:24:23<7:07:29, 2331.77s/it]\u001b[A\u001b[A\u001b[A\u001b[A\u001b[A\u001b[A"
     ]
    },
    {
     "name": "stdout",
     "output_type": "stream",
     "text": [
      "completed symbols EGYF: SFIX: NTDOY: SFT: QID: AXP: PSEC: CLPS: KTRA: LC: QD: EKSO: DG: UPRO: THBR: GTHX: ADTX: AUMN: CGIX: BHR: NETE: SPRT: EVRI: CORR: HIBS: CANF: RESN: BOIL: MNMD: SHY: VCNX: NUGT: TCEHY: FTCV: AMTX: FBIO: BVXV: GEENQ: SNES: POTX: AACG: HGEND: AIRI: IEZ: ACY: QLD: TENX: SAN: EPD: XBIO: LGVW: GTEC: RGLS: CVX: DYNT: STCN: AMRS: ETM: FNMA: MLND: VIR: KGC: CYH: SLVO: FUTU: VWO: CCI: CUEN: PSQ: IMTE: HSDT: SGLB: MSOS: BKNG: NK: APA: BWEN: BJ: RRD: APTO: PAVM: GLBS: QUBT: AKER: GILT: NEAR: NBEV: ENDP: DQ: MESA: RDFN: CWBR - thread num: 1  -  92 / 103\n"
     ]
    },
    {
     "name": "stderr",
     "output_type": "stream",
     "text": [
      "\n",
      "\n",
      "Thread num: 4:  81%|██████████████████████████████████████████████▋           | 83/103 [41:39:04<12:36:10, 2268.52s/it]\u001b[A\u001b[A"
     ]
    },
    {
     "name": "stdout",
     "output_type": "stream",
     "text": [
      "completed symbols NH: SNCA: TGA: VBK: ATOM: MKD: TRUL: NLSP: SPLK: SCHO: ALRN: DISCB: TMUS: WIX: SDC: CTEK: PEIX: FAZ: SNGX: AIV: BETZ: ELYS: ORCL: CARV: CAT: AA: CFMS: AQB: MITT: MELI: HMY: SCYX: OXLC: RTX: PBI: WAFU: CTIC: RAD: NXE: SRAC: AMAT: MINT: SIRI: CNSP: MRKR: GHVI: SLDB: PEP: DRRX: IIPR: SVXY: PULM: EVOL: WORX: TEVA: SPXU: VBR: GLUU: SKT: BIL: LGND: SEDG: FRX: XLE: LYFT: SUN: CNET: ERIC: PPBT: BCRX: YJ: ANTE: NOW: RAIL: WNW: GNLN: BCDA: BAM: YRCW: CVEO: VOC: SWKS: OBSV - thread num: 4  -  83 / 103\n"
     ]
    },
    {
     "name": "stderr",
     "output_type": "stream",
     "text": [
      "\n",
      "\n",
      "\n",
      "Thread num: 6:  85%|██████████████████████████████████████████████████▍        | 88/103 [41:41:57<9:26:50, 2267.34s/it]\u001b[A\u001b[A\u001b[A"
     ]
    },
    {
     "name": "stdout",
     "output_type": "stream",
     "text": [
      "completed symbols GPRO: CVAC: IRTC: IRM: RWLK: ACI: MGEN: FMCC: PK: CLX: SCO: TMDI: NBAC: AGNC: ABEO: RAVE: CPPRQ: CHKAQ: CRON: GIGM: WPG: XELB: QTT: VXUS: RMG: VTEB: TGC: NYMT: UGAZF: EXK: CLEU: APPH: ANCN: SM: TH: BHTG: HCDI: PZC: SCHD: GS: NIU: PSX: AUY: ZNOG: BIMI: GAU: VERI: ALK: EXPE: IFMK: GORO: ANPC: GDXJ: BEST: SGOL: HL: ZYNE: SONY: PDD: PDSB: MDRR: COF: AEMD: SCHB: LYV: DIG: CBLI: ANIX: CLVS: NDRA: GCI: SRTY: NVTA: LABU: IPOC: LRCX: IVV: UNH: ESGC: SNMP: SNPR: ARCT: SSY: CRNT: AUTO: ATNX: MBIO: NLS - thread num: 6  -  88 / 103\n"
     ]
    },
    {
     "name": "stderr",
     "output_type": "stream",
     "text": [
      "\n",
      "\n",
      "\n",
      "\n",
      "Thread num: 5:  81%|███████████████████████████████████████████████▌           | 83/103 [41:42:07<9:13:35, 1660.76s/it]\u001b[A\u001b[A\u001b[A\u001b[A"
     ]
    },
    {
     "name": "stdout",
     "output_type": "stream",
     "text": [
      "completed symbols EQ: GRIL: UA: LBYYQ: ITUB: EQOS: XERS: FSM: CSIQ: ASAN: QYLD: MGI: PG: MRVL: AESE: OKE: MESO: MRIN: HIBL: SDS: AG: CRIS: CPRX: MIK: ASM: AGQ: ERX: VIG: CLDR: QCLN: IMV: GNOG: ASML: REGN: CATB: ARKX: CHX: JAMF: GPL: XAN: AAME: MIST: TGI: VOE: SPYD: ALJJ: MOXC: PETZ: TUP: AQST: MO: VV: CSLT: HUGE: ZEST: SPR: FE: VEA: ARNC: DSS: NGA: SMH: XONE: JILL: DOG: CREX: APRE: ATHE: FTRCQ: LAIX: LB: WPRT: GBR: UPC: SRNGU: XLK: EVOK: TIRX: LAKE: SOXS: HYD: ADYX: AZEK - thread num: 5  -  83 / 103\n"
     ]
    },
    {
     "name": "stderr",
     "output_type": "stream",
     "text": [
      "\n",
      "Thread num: 2:  83%|████████████████████████████████████████████████▍         | 86/103 [41:45:42<11:02:41, 2338.92s/it]\u001b[A"
     ]
    },
    {
     "name": "stdout",
     "output_type": "stream",
     "text": [
      "completed symbols AREC: NEXT: STNE: STNG: ENVB: VB: HTGM: PFMT: SWN: VRM: ACTC: ZI: NTN: AMRN: AMPY: PCG: DOW: INFI: YCBD: RCON: HGSH: MNOV: BSV: GLMD: CHGG: IDXX: VO: HX: BLOK: VSTM: MAXR: MTP: SLS: WBA: FINV: EVC: LIT: BEP: BLIN: CAPR: PRNT: AAXN: PSFE: KIQ: MPC: BIIB: SINO: NNVC: PLIN: ILMN: DOGZ: SFTW: GSX: TECL: UMC: CLRB: MITO: POWW: GDX: PAYS: CHNR: CLII: CTIB: VVUSQ: KERN: EDR: ATVI: RCMT: QDEL: CZR: FSLR: XCUR: STKL: LLY: PECK: DMTK: TRPX: JENGQ: GECC: PMF: ARRY: IMRN: COP: EVGN: IQ: RUBY - thread num: 2  -  86 / 103\n"
     ]
    },
    {
     "name": "stderr",
     "output_type": "stream",
     "text": [
      "\r",
      "Thread num: 0:  83%|█████████████████████████████████████████████████▎         | 86/103 [41:46:26<7:57:12, 1684.27s/it]"
     ]
    },
    {
     "name": "stdout",
     "output_type": "stream",
     "text": [
      "completed symbols ENOB: MUDS: IZEA: ONCY: RNET: OVID: LMT: MRK: BIG: SI: VTGN: SVM: THMO: DPZ: KOPN: TIGR: INTU: HUSA: DFS: VZIO: APOP: MCHI: GOL: TAOP: GILD: ACCD: GDRX: FREQ: POSH: RMO: GLSI: AVCT: ZKIN: ABEV: ARLO: MDGS: YGMZ: VOOG: CKPT: DRIV: MAR: FNGD: GIK: SONO: ODT: FANG: BNTC: ADIL: ORTX: IPOB: AQMS: CNDT: ABIO: KSS: CMPD: GPS: HAL: ACIC: TSN: PHIO: VRTX: XPEL: XM: BTU: CJJD: OTRK: HOTH: DRI: APVO: Z: CPNG: MYSZ: HDSN: LLNW: BTE: GOEV: PED: SFET: GOVX: TWO: EHTH: JG: BGI: RDSA: SHV: CRTD - thread num: 0  -  86 / 103\n"
     ]
    },
    {
     "name": "stderr",
     "output_type": "stream",
     "text": [
      "\n",
      "\n",
      "\n",
      "\n",
      "\n",
      "\n",
      "\n",
      "Thread num: 3:  92%|██████████████████████████████████████████████████████▍    | 95/103 [41:55:57<4:27:11, 2003.88s/it]\u001b[A\u001b[A\u001b[A\u001b[A\u001b[A\u001b[A\u001b[A"
     ]
    },
    {
     "name": "stdout",
     "output_type": "stream",
     "text": [
      "completed symbols FLDM: RCKT: BFLY: BBY: VWAGY: ATNF: AVCO: RVP: BBIG: EFOI: FUSE: AGEN: RKDA: GHIV: IAU: PRQR: PT: SPPI: LIZI: PRPL: INSG: ROOT: RSCF: ICON: CYRN: APTX: IPOD: ARPO: ANY: GAN: ALNA: CPHI: CCO: LVS: AIHS: BUZZ: ORI: ISIG: OCX: GSM: MSTR: ADT: LTHM: DTSS: FISV: COTY: BMY: ACAD: MOGU: STPK: SING: CUK: ERI: NGL: DOYU: FAS: STMP: DMPI: VNQ: YOLO: NOG: BILI: AM: VFF: AGTC: GRAF: VGAC: BDX: DRIP: PTY: NEE: MNLO: W: WISA: DBX: CMG: RC: APM: NBR: PLM: CHTR: WATT: LOTZ: TGB: NLY: CELH: LABD: IVH: PLG: CNTY: KMI: RXT: FMCI: IPDN: REV - thread num: 3  -  95 / 103\n"
     ]
    },
    {
     "name": "stderr",
     "output_type": "stream",
     "text": [
      "\n",
      "\n",
      "Thread num: 4:  82%|███████████████████████████████████████████████▎          | 84/103 [41:57:04<10:05:27, 1911.95s/it]\u001b[A\u001b[A"
     ]
    },
    {
     "name": "stdout",
     "output_type": "stream",
     "text": [
      "completed symbols NH: SNCA: TGA: VBK: ATOM: MKD: TRUL: NLSP: SPLK: SCHO: ALRN: DISCB: TMUS: WIX: SDC: CTEK: PEIX: FAZ: SNGX: AIV: BETZ: ELYS: ORCL: CARV: CAT: AA: CFMS: AQB: MITT: MELI: HMY: SCYX: OXLC: RTX: PBI: WAFU: CTIC: RAD: NXE: SRAC: AMAT: MINT: SIRI: CNSP: MRKR: GHVI: SLDB: PEP: DRRX: IIPR: SVXY: PULM: EVOL: WORX: TEVA: SPXU: VBR: GLUU: SKT: BIL: LGND: SEDG: FRX: XLE: LYFT: SUN: CNET: ERIC: PPBT: BCRX: YJ: ANTE: NOW: RAIL: WNW: GNLN: BCDA: BAM: YRCW: CVEO: VOC: SWKS: OBSV: MOON - thread num: 4  -  84 / 103\n"
     ]
    },
    {
     "name": "stderr",
     "output_type": "stream",
     "text": [
      "\n",
      "\n",
      "\n",
      "\n",
      "\n",
      "\n",
      "Thread num: 1:  90%|█████████████████████████████████████████████████████▎     | 93/103 [41:58:26<6:14:11, 2245.12s/it]\u001b[A\u001b[A\u001b[A\u001b[A\u001b[A\u001b[A"
     ]
    },
    {
     "name": "stdout",
     "output_type": "stream",
     "text": [
      "completed symbols EGYF: SFIX: NTDOY: SFT: QID: AXP: PSEC: CLPS: KTRA: LC: QD: EKSO: DG: UPRO: THBR: GTHX: ADTX: AUMN: CGIX: BHR: NETE: SPRT: EVRI: CORR: HIBS: CANF: RESN: BOIL: MNMD: SHY: VCNX: NUGT: TCEHY: FTCV: AMTX: FBIO: BVXV: GEENQ: SNES: POTX: AACG: HGEND: AIRI: IEZ: ACY: QLD: TENX: SAN: EPD: XBIO: LGVW: GTEC: RGLS: CVX: DYNT: STCN: AMRS: ETM: FNMA: MLND: VIR: KGC: CYH: SLVO: FUTU: VWO: CCI: CUEN: PSQ: IMTE: HSDT: SGLB: MSOS: BKNG: NK: APA: BWEN: BJ: RRD: APTO: PAVM: GLBS: QUBT: AKER: GILT: NEAR: NBEV: ENDP: DQ: MESA: RDFN: CWBR: MTSL - thread num: 1  -  93 / 103\n"
     ]
    },
    {
     "name": "stderr",
     "output_type": "stream",
     "text": [
      "\n",
      "\n",
      "\n",
      "\n",
      "Thread num: 5:  82%|████████████████████████████████████████████████           | 84/103 [42:09:14<8:42:39, 1650.51s/it]\u001b[A\u001b[A\u001b[A\u001b[A"
     ]
    },
    {
     "name": "stdout",
     "output_type": "stream",
     "text": [
      "completed symbols EQ: GRIL: UA: LBYYQ: ITUB: EQOS: XERS: FSM: CSIQ: ASAN: QYLD: MGI: PG: MRVL: AESE: OKE: MESO: MRIN: HIBL: SDS: AG: CRIS: CPRX: MIK: ASM: AGQ: ERX: VIG: CLDR: QCLN: IMV: GNOG: ASML: REGN: CATB: ARKX: CHX: JAMF: GPL: XAN: AAME: MIST: TGI: VOE: SPYD: ALJJ: MOXC: PETZ: TUP: AQST: MO: VV: CSLT: HUGE: ZEST: SPR: FE: VEA: ARNC: DSS: NGA: SMH: XONE: JILL: DOG: CREX: APRE: ATHE: FTRCQ: LAIX: LB: WPRT: GBR: UPC: SRNGU: XLK: EVOK: TIRX: LAKE: SOXS: HYD: ADYX: AZEK: VYNE - thread num: 5  -  84 / 103\n"
     ]
    },
    {
     "name": "stderr",
     "output_type": "stream",
     "text": [
      "\n",
      "\n",
      "\n",
      "\n",
      "\n",
      "\n",
      "Thread num: 1:  91%|█████████████████████████████████████████████████████▊     | 94/103 [42:15:01<4:40:31, 1870.14s/it]\u001b[A\u001b[A\u001b[A\u001b[A\u001b[A\u001b[A"
     ]
    },
    {
     "name": "stdout",
     "output_type": "stream",
     "text": [
      "completed symbols EGYF: SFIX: NTDOY: SFT: QID: AXP: PSEC: CLPS: KTRA: LC: QD: EKSO: DG: UPRO: THBR: GTHX: ADTX: AUMN: CGIX: BHR: NETE: SPRT: EVRI: CORR: HIBS: CANF: RESN: BOIL: MNMD: SHY: VCNX: NUGT: TCEHY: FTCV: AMTX: FBIO: BVXV: GEENQ: SNES: POTX: AACG: HGEND: AIRI: IEZ: ACY: QLD: TENX: SAN: EPD: XBIO: LGVW: GTEC: RGLS: CVX: DYNT: STCN: AMRS: ETM: FNMA: MLND: VIR: KGC: CYH: SLVO: FUTU: VWO: CCI: CUEN: PSQ: IMTE: HSDT: SGLB: MSOS: BKNG: NK: APA: BWEN: BJ: RRD: APTO: PAVM: GLBS: QUBT: AKER: GILT: NEAR: NBEV: ENDP: DQ: MESA: RDFN: CWBR: MTSL: VSLR - thread num: 1  -  94 / 103\n"
     ]
    },
    {
     "name": "stderr",
     "output_type": "stream",
     "text": [
      "\n",
      "\n",
      "\n",
      "Thread num: 6:  86%|██████████████████████████████████████████████████▉        | 89/103 [42:18:49<8:45:12, 2250.91s/it]\u001b[A\u001b[A\u001b[A"
     ]
    },
    {
     "name": "stdout",
     "output_type": "stream",
     "text": [
      "completed symbols GPRO: CVAC: IRTC: IRM: RWLK: ACI: MGEN: FMCC: PK: CLX: SCO: TMDI: NBAC: AGNC: ABEO: RAVE: CPPRQ: CHKAQ: CRON: GIGM: WPG: XELB: QTT: VXUS: RMG: VTEB: TGC: NYMT: UGAZF: EXK: CLEU: APPH: ANCN: SM: TH: BHTG: HCDI: PZC: SCHD: GS: NIU: PSX: AUY: ZNOG: BIMI: GAU: VERI: ALK: EXPE: IFMK: GORO: ANPC: GDXJ: BEST: SGOL: HL: ZYNE: SONY: PDD: PDSB: MDRR: COF: AEMD: SCHB: LYV: DIG: CBLI: ANIX: CLVS: NDRA: GCI: SRTY: NVTA: LABU: IPOC: LRCX: IVV: UNH: ESGC: SNMP: SNPR: ARCT: SSY: CRNT: AUTO: ATNX: MBIO: NLS: RNWK - thread num: 6  -  89 / 103\n"
     ]
    },
    {
     "name": "stderr",
     "output_type": "stream",
     "text": [
      "\n",
      "Thread num: 2:  84%|████████████████████████████████████████████████▉         | 87/103 [42:23:11<10:16:33, 2312.10s/it]\u001b[A"
     ]
    },
    {
     "name": "stdout",
     "output_type": "stream",
     "text": [
      "completed symbols AREC: NEXT: STNE: STNG: ENVB: VB: HTGM: PFMT: SWN: VRM: ACTC: ZI: NTN: AMRN: AMPY: PCG: DOW: INFI: YCBD: RCON: HGSH: MNOV: BSV: GLMD: CHGG: IDXX: VO: HX: BLOK: VSTM: MAXR: MTP: SLS: WBA: FINV: EVC: LIT: BEP: BLIN: CAPR: PRNT: AAXN: PSFE: KIQ: MPC: BIIB: SINO: NNVC: PLIN: ILMN: DOGZ: SFTW: GSX: TECL: UMC: CLRB: MITO: POWW: GDX: PAYS: CHNR: CLII: CTIB: VVUSQ: KERN: EDR: ATVI: RCMT: QDEL: CZR: FSLR: XCUR: STKL: LLY: PECK: DMTK: TRPX: JENGQ: GECC: PMF: ARRY: IMRN: COP: EVGN: IQ: RUBY: VGZ - thread num: 2  -  87 / 103\n"
     ]
    },
    {
     "name": "stderr",
     "output_type": "stream",
     "text": [
      "\r",
      "Thread num: 0:  84%|█████████████████████████████████████████████████▊         | 87/103 [42:26:15<8:25:27, 1895.50s/it]"
     ]
    },
    {
     "name": "stdout",
     "output_type": "stream",
     "text": [
      "completed symbols ENOB: MUDS: IZEA: ONCY: RNET: OVID: LMT: MRK: BIG: SI: VTGN: SVM: THMO: DPZ: KOPN: TIGR: INTU: HUSA: DFS: VZIO: APOP: MCHI: GOL: TAOP: GILD: ACCD: GDRX: FREQ: POSH: RMO: GLSI: AVCT: ZKIN: ABEV: ARLO: MDGS: YGMZ: VOOG: CKPT: DRIV: MAR: FNGD: GIK: SONO: ODT: FANG: BNTC: ADIL: ORTX: IPOB: AQMS: CNDT: ABIO: KSS: CMPD: GPS: HAL: ACIC: TSN: PHIO: VRTX: XPEL: XM: BTU: CJJD: OTRK: HOTH: DRI: APVO: Z: CPNG: MYSZ: HDSN: LLNW: BTE: GOEV: PED: SFET: GOVX: TWO: EHTH: JG: BGI: RDSA: SHV: CRTD: UNM - thread num: 0  -  87 / 103\n"
     ]
    },
    {
     "name": "stderr",
     "output_type": "stream",
     "text": [
      "\n",
      "\n",
      "\n",
      "\n",
      "\n",
      "\n",
      "\n",
      "Thread num: 3:  93%|██████████████████████████████████████████████████████▉    | 96/103 [42:37:18<4:10:29, 2147.12s/it]\u001b[A\u001b[A\u001b[A\u001b[A\u001b[A\u001b[A\u001b[A"
     ]
    },
    {
     "name": "stdout",
     "output_type": "stream",
     "text": [
      "completed symbols FLDM: RCKT: BFLY: BBY: VWAGY: ATNF: AVCO: RVP: BBIG: EFOI: FUSE: AGEN: RKDA: GHIV: IAU: PRQR: PT: SPPI: LIZI: PRPL: INSG: ROOT: RSCF: ICON: CYRN: APTX: IPOD: ARPO: ANY: GAN: ALNA: CPHI: CCO: LVS: AIHS: BUZZ: ORI: ISIG: OCX: GSM: MSTR: ADT: LTHM: DTSS: FISV: COTY: BMY: ACAD: MOGU: STPK: SING: CUK: ERI: NGL: DOYU: FAS: STMP: DMPI: VNQ: YOLO: NOG: BILI: AM: VFF: AGTC: GRAF: VGAC: BDX: DRIP: PTY: NEE: MNLO: W: WISA: DBX: CMG: RC: APM: NBR: PLM: CHTR: WATT: LOTZ: TGB: NLY: CELH: LABD: IVH: PLG: CNTY: KMI: RXT: FMCI: IPDN: REV: GT - thread num: 3  -  96 / 103\n"
     ]
    },
    {
     "name": "stderr",
     "output_type": "stream",
     "text": [
      "\n",
      "\n",
      "Thread num: 4:  83%|███████████████████████████████████████████████▊          | 85/103 [42:37:52<10:21:50, 2072.79s/it]\u001b[A\u001b[A"
     ]
    },
    {
     "name": "stdout",
     "output_type": "stream",
     "text": [
      "completed symbols NH: SNCA: TGA: VBK: ATOM: MKD: TRUL: NLSP: SPLK: SCHO: ALRN: DISCB: TMUS: WIX: SDC: CTEK: PEIX: FAZ: SNGX: AIV: BETZ: ELYS: ORCL: CARV: CAT: AA: CFMS: AQB: MITT: MELI: HMY: SCYX: OXLC: RTX: PBI: WAFU: CTIC: RAD: NXE: SRAC: AMAT: MINT: SIRI: CNSP: MRKR: GHVI: SLDB: PEP: DRRX: IIPR: SVXY: PULM: EVOL: WORX: TEVA: SPXU: VBR: GLUU: SKT: BIL: LGND: SEDG: FRX: XLE: LYFT: SUN: CNET: ERIC: PPBT: BCRX: YJ: ANTE: NOW: RAIL: WNW: GNLN: BCDA: BAM: YRCW: CVEO: VOC: SWKS: OBSV: MOON: BTG - thread num: 4  -  85 / 103\n"
     ]
    },
    {
     "name": "stderr",
     "output_type": "stream",
     "text": [
      "\n",
      "\n",
      "\n",
      "\n"
     ]
    },
    {
     "name": "stdout",
     "output_type": "stream",
     "text": [
      "completed symbols EQ: GRIL: UA: LBYYQ: ITUB: EQOS: XERS: FSM: CSIQ: ASAN: QYLD: MGI: PG: MRVL: AESE: OKE: MESO: MRIN: HIBL: SDS: AG: CRIS: CPRX: MIK: ASM: AGQ: ERX: VIG: CLDR: QCLN: IMV: GNOG: ASML: REGN: CATB: ARKX: CHX: JAMF: GPL: XAN: AAME: MIST: TGI: VOE: SPYD: ALJJ: MOXC: PETZ: TUP: AQST: MO: VV: CSLT: HUGE: ZEST: SPR: FE: VEA: ARNC: DSS: NGA: SMH: XONE: JILL: DOG: CREX: APRE: ATHE: FTRCQ: LAIX: LB: WPRT: GBR: UPC: SRNGU: XLK: EVOK: TIRX: LAKE: SOXS: HYD: ADYX: AZEK: VYNE: VERB - thread num: 5  -  85 / 103\n"
     ]
    },
    {
     "name": "stderr",
     "output_type": "stream",
     "text": [
      "Thread num: 5:  83%|████████████████████████████████████████████████▋          | 85/103 [42:48:53<9:20:39, 1868.89s/it]\u001b[A\u001b[A\u001b[A\u001b[A\n",
      "\n",
      "\n",
      "\n",
      "\n",
      "\n",
      "Thread num: 1:  92%|██████████████████████████████████████████████████████▍    | 95/103 [42:56:26<4:33:57, 2054.65s/it]\u001b[A\u001b[A\u001b[A\u001b[A\u001b[A\u001b[A"
     ]
    },
    {
     "name": "stdout",
     "output_type": "stream",
     "text": [
      "completed symbols EGYF: SFIX: NTDOY: SFT: QID: AXP: PSEC: CLPS: KTRA: LC: QD: EKSO: DG: UPRO: THBR: GTHX: ADTX: AUMN: CGIX: BHR: NETE: SPRT: EVRI: CORR: HIBS: CANF: RESN: BOIL: MNMD: SHY: VCNX: NUGT: TCEHY: FTCV: AMTX: FBIO: BVXV: GEENQ: SNES: POTX: AACG: HGEND: AIRI: IEZ: ACY: QLD: TENX: SAN: EPD: XBIO: LGVW: GTEC: RGLS: CVX: DYNT: STCN: AMRS: ETM: FNMA: MLND: VIR: KGC: CYH: SLVO: FUTU: VWO: CCI: CUEN: PSQ: IMTE: HSDT: SGLB: MSOS: BKNG: NK: APA: BWEN: BJ: RRD: APTO: PAVM: GLBS: QUBT: AKER: GILT: NEAR: NBEV: ENDP: DQ: MESA: RDFN: CWBR: MTSL: VSLR: UUUU - thread num: 1  -  95 / 103\n"
     ]
    },
    {
     "name": "stderr",
     "output_type": "stream",
     "text": [
      "\n",
      "\n",
      "\n",
      "Thread num: 6:  87%|███████████████████████████████████████████████████▌       | 90/103 [42:59:24<8:19:36, 2305.92s/it]\u001b[A\u001b[A\u001b[A"
     ]
    },
    {
     "name": "stdout",
     "output_type": "stream",
     "text": [
      "completed symbols GPRO: CVAC: IRTC: IRM: RWLK: ACI: MGEN: FMCC: PK: CLX: SCO: TMDI: NBAC: AGNC: ABEO: RAVE: CPPRQ: CHKAQ: CRON: GIGM: WPG: XELB: QTT: VXUS: RMG: VTEB: TGC: NYMT: UGAZF: EXK: CLEU: APPH: ANCN: SM: TH: BHTG: HCDI: PZC: SCHD: GS: NIU: PSX: AUY: ZNOG: BIMI: GAU: VERI: ALK: EXPE: IFMK: GORO: ANPC: GDXJ: BEST: SGOL: HL: ZYNE: SONY: PDD: PDSB: MDRR: COF: AEMD: SCHB: LYV: DIG: CBLI: ANIX: CLVS: NDRA: GCI: SRTY: NVTA: LABU: IPOC: LRCX: IVV: UNH: ESGC: SNMP: SNPR: ARCT: SSY: CRNT: AUTO: ATNX: MBIO: NLS: RNWK: EGY - thread num: 6  -  90 / 103\n"
     ]
    },
    {
     "name": "stderr",
     "output_type": "stream",
     "text": [
      "\n",
      "Thread num: 2:  85%|█████████████████████████████████████████████████▌        | 88/103 [43:06:52<10:01:11, 2404.77s/it]\u001b[A"
     ]
    },
    {
     "name": "stdout",
     "output_type": "stream",
     "text": [
      "completed symbols AREC: NEXT: STNE: STNG: ENVB: VB: HTGM: PFMT: SWN: VRM: ACTC: ZI: NTN: AMRN: AMPY: PCG: DOW: INFI: YCBD: RCON: HGSH: MNOV: BSV: GLMD: CHGG: IDXX: VO: HX: BLOK: VSTM: MAXR: MTP: SLS: WBA: FINV: EVC: LIT: BEP: BLIN: CAPR: PRNT: AAXN: PSFE: KIQ: MPC: BIIB: SINO: NNVC: PLIN: ILMN: DOGZ: SFTW: GSX: TECL: UMC: CLRB: MITO: POWW: GDX: PAYS: CHNR: CLII: CTIB: VVUSQ: KERN: EDR: ATVI: RCMT: QDEL: CZR: FSLR: XCUR: STKL: LLY: PECK: DMTK: TRPX: JENGQ: GECC: PMF: ARRY: IMRN: COP: EVGN: IQ: RUBY: VGZ: COUP - thread num: 2  -  88 / 103\n"
     ]
    },
    {
     "name": "stderr",
     "output_type": "stream",
     "text": [
      "\r",
      "Thread num: 0:  85%|██████████████████████████████████████████████████▍        | 88/103 [43:06:56<8:34:47, 2059.15s/it]"
     ]
    },
    {
     "name": "stdout",
     "output_type": "stream",
     "text": [
      "completed symbols ENOB: MUDS: IZEA: ONCY: RNET: OVID: LMT: MRK: BIG: SI: VTGN: SVM: THMO: DPZ: KOPN: TIGR: INTU: HUSA: DFS: VZIO: APOP: MCHI: GOL: TAOP: GILD: ACCD: GDRX: FREQ: POSH: RMO: GLSI: AVCT: ZKIN: ABEV: ARLO: MDGS: YGMZ: VOOG: CKPT: DRIV: MAR: FNGD: GIK: SONO: ODT: FANG: BNTC: ADIL: ORTX: IPOB: AQMS: CNDT: ABIO: KSS: CMPD: GPS: HAL: ACIC: TSN: PHIO: VRTX: XPEL: XM: BTU: CJJD: OTRK: HOTH: DRI: APVO: Z: CPNG: MYSZ: HDSN: LLNW: BTE: GOEV: PED: SFET: GOVX: TWO: EHTH: JG: BGI: RDSA: SHV: CRTD: UNM: LCTX - thread num: 0  -  88 / 103\n"
     ]
    },
    {
     "name": "stderr",
     "output_type": "stream",
     "text": [
      "\n",
      "\n",
      "Thread num: 4:  83%|████████████████████████████████████████████████▍         | 86/103 [43:21:47<10:35:05, 2241.50s/it]\u001b[A\u001b[A"
     ]
    },
    {
     "name": "stdout",
     "output_type": "stream",
     "text": [
      "completed symbols NH: SNCA: TGA: VBK: ATOM: MKD: TRUL: NLSP: SPLK: SCHO: ALRN: DISCB: TMUS: WIX: SDC: CTEK: PEIX: FAZ: SNGX: AIV: BETZ: ELYS: ORCL: CARV: CAT: AA: CFMS: AQB: MITT: MELI: HMY: SCYX: OXLC: RTX: PBI: WAFU: CTIC: RAD: NXE: SRAC: AMAT: MINT: SIRI: CNSP: MRKR: GHVI: SLDB: PEP: DRRX: IIPR: SVXY: PULM: EVOL: WORX: TEVA: SPXU: VBR: GLUU: SKT: BIL: LGND: SEDG: FRX: XLE: LYFT: SUN: CNET: ERIC: PPBT: BCRX: YJ: ANTE: NOW: RAIL: WNW: GNLN: BCDA: BAM: YRCW: CVEO: VOC: SWKS: OBSV: MOON: BTG: UPWK - thread num: 4  -  86 / 103\n"
     ]
    },
    {
     "name": "stderr",
     "output_type": "stream",
     "text": [
      "\n",
      "\n",
      "\n",
      "\n",
      "\n",
      "\n",
      "\n",
      "Thread num: 3:  94%|███████████████████████████████████████████████████████▌   | 97/103 [43:24:26<3:55:07, 2351.26s/it]\u001b[A\u001b[A\u001b[A\u001b[A\u001b[A\u001b[A\u001b[A"
     ]
    },
    {
     "name": "stdout",
     "output_type": "stream",
     "text": [
      "completed symbols FLDM: RCKT: BFLY: BBY: VWAGY: ATNF: AVCO: RVP: BBIG: EFOI: FUSE: AGEN: RKDA: GHIV: IAU: PRQR: PT: SPPI: LIZI: PRPL: INSG: ROOT: RSCF: ICON: CYRN: APTX: IPOD: ARPO: ANY: GAN: ALNA: CPHI: CCO: LVS: AIHS: BUZZ: ORI: ISIG: OCX: GSM: MSTR: ADT: LTHM: DTSS: FISV: COTY: BMY: ACAD: MOGU: STPK: SING: CUK: ERI: NGL: DOYU: FAS: STMP: DMPI: VNQ: YOLO: NOG: BILI: AM: VFF: AGTC: GRAF: VGAC: BDX: DRIP: PTY: NEE: MNLO: W: WISA: DBX: CMG: RC: APM: NBR: PLM: CHTR: WATT: LOTZ: TGB: NLY: CELH: LABD: IVH: PLG: CNTY: KMI: RXT: FMCI: IPDN: REV: GT: WDC - thread num: 3  -  97 / 103\n"
     ]
    },
    {
     "name": "stderr",
     "output_type": "stream",
     "text": [
      "\n",
      "\n",
      "\n",
      "\n",
      "Thread num: 5:  83%|█████████████████████████████████████████████████▎         | 86/103 [43:29:13<9:36:23, 2034.32s/it]\u001b[A\u001b[A\u001b[A\u001b[A"
     ]
    },
    {
     "name": "stdout",
     "output_type": "stream",
     "text": [
      "completed symbols EQ: GRIL: UA: LBYYQ: ITUB: EQOS: XERS: FSM: CSIQ: ASAN: QYLD: MGI: PG: MRVL: AESE: OKE: MESO: MRIN: HIBL: SDS: AG: CRIS: CPRX: MIK: ASM: AGQ: ERX: VIG: CLDR: QCLN: IMV: GNOG: ASML: REGN: CATB: ARKX: CHX: JAMF: GPL: XAN: AAME: MIST: TGI: VOE: SPYD: ALJJ: MOXC: PETZ: TUP: AQST: MO: VV: CSLT: HUGE: ZEST: SPR: FE: VEA: ARNC: DSS: NGA: SMH: XONE: JILL: DOG: CREX: APRE: ATHE: FTRCQ: LAIX: LB: WPRT: GBR: UPC: SRNGU: XLK: EVOK: TIRX: LAKE: SOXS: HYD: ADYX: AZEK: VYNE: VERB: FORD - thread num: 5  -  86 / 103\n"
     ]
    },
    {
     "name": "stderr",
     "output_type": "stream",
     "text": [
      "\n",
      "\n",
      "\n",
      "\n",
      "\n",
      "\n",
      "Thread num: 1:  93%|██████████████████████████████████████████████████████▉    | 96/103 [43:36:24<4:11:43, 2157.67s/it]\u001b[A\u001b[A\u001b[A\u001b[A\u001b[A\u001b[A"
     ]
    },
    {
     "name": "stdout",
     "output_type": "stream",
     "text": [
      "completed symbols EGYF: SFIX: NTDOY: SFT: QID: AXP: PSEC: CLPS: KTRA: LC: QD: EKSO: DG: UPRO: THBR: GTHX: ADTX: AUMN: CGIX: BHR: NETE: SPRT: EVRI: CORR: HIBS: CANF: RESN: BOIL: MNMD: SHY: VCNX: NUGT: TCEHY: FTCV: AMTX: FBIO: BVXV: GEENQ: SNES: POTX: AACG: HGEND: AIRI: IEZ: ACY: QLD: TENX: SAN: EPD: XBIO: LGVW: GTEC: RGLS: CVX: DYNT: STCN: AMRS: ETM: FNMA: MLND: VIR: KGC: CYH: SLVO: FUTU: VWO: CCI: CUEN: PSQ: IMTE: HSDT: SGLB: MSOS: BKNG: NK: APA: BWEN: BJ: RRD: APTO: PAVM: GLBS: QUBT: AKER: GILT: NEAR: NBEV: ENDP: DQ: MESA: RDFN: CWBR: MTSL: VSLR: UUUU: SLNO - thread num: 1  -  96 / 103\n"
     ]
    },
    {
     "name": "stderr",
     "output_type": "stream",
     "text": [
      "\n",
      "\n",
      "\n",
      "Thread num: 6:  88%|████████████████████████████████████████████████████▏      | 91/103 [43:39:47<7:48:15, 2341.26s/it]\u001b[A\u001b[A\u001b[A"
     ]
    },
    {
     "name": "stdout",
     "output_type": "stream",
     "text": [
      "completed symbols GPRO: CVAC: IRTC: IRM: RWLK: ACI: MGEN: FMCC: PK: CLX: SCO: TMDI: NBAC: AGNC: ABEO: RAVE: CPPRQ: CHKAQ: CRON: GIGM: WPG: XELB: QTT: VXUS: RMG: VTEB: TGC: NYMT: UGAZF: EXK: CLEU: APPH: ANCN: SM: TH: BHTG: HCDI: PZC: SCHD: GS: NIU: PSX: AUY: ZNOG: BIMI: GAU: VERI: ALK: EXPE: IFMK: GORO: ANPC: GDXJ: BEST: SGOL: HL: ZYNE: SONY: PDD: PDSB: MDRR: COF: AEMD: SCHB: LYV: DIG: CBLI: ANIX: CLVS: NDRA: GCI: SRTY: NVTA: LABU: IPOC: LRCX: IVV: UNH: ESGC: SNMP: SNPR: ARCT: SSY: CRNT: AUTO: ATNX: MBIO: NLS: RNWK: EGY: HIMX - thread num: 6  -  91 / 103\n"
     ]
    },
    {
     "name": "stderr",
     "output_type": "stream",
     "text": [
      "\r",
      "Thread num: 0:  86%|██████████████████████████████████████████████████▉        | 89/103 [43:47:01<8:24:42, 2163.04s/it]"
     ]
    },
    {
     "name": "stdout",
     "output_type": "stream",
     "text": [
      "completed symbols ENOB: MUDS: IZEA: ONCY: RNET: OVID: LMT: MRK: BIG: SI: VTGN: SVM: THMO: DPZ: KOPN: TIGR: INTU: HUSA: DFS: VZIO: APOP: MCHI: GOL: TAOP: GILD: ACCD: GDRX: FREQ: POSH: RMO: GLSI: AVCT: ZKIN: ABEV: ARLO: MDGS: YGMZ: VOOG: CKPT: DRIV: MAR: FNGD: GIK: SONO: ODT: FANG: BNTC: ADIL: ORTX: IPOB: AQMS: CNDT: ABIO: KSS: CMPD: GPS: HAL: ACIC: TSN: PHIO: VRTX: XPEL: XM: BTU: CJJD: OTRK: HOTH: DRI: APVO: Z: CPNG: MYSZ: HDSN: LLNW: BTE: GOEV: PED: SFET: GOVX: TWO: EHTH: JG: BGI: RDSA: SHV: CRTD: UNM: LCTX: WTER - thread num: 0  -  89 / 103\n"
     ]
    },
    {
     "name": "stderr",
     "output_type": "stream",
     "text": [
      "\n",
      "Thread num: 2:  86%|██████████████████████████████████████████████████▉        | 89/103 [43:48:51<9:29:05, 2438.99s/it]"
     ]
    },
    {
     "name": "stdout",
     "output_type": "stream",
     "text": [
      "completed symbols AREC: NEXT: STNE: STNG: ENVB: VB: HTGM: PFMT: SWN: VRM: ACTC: ZI: NTN: AMRN: AMPY: PCG: DOW: INFI: YCBD: RCON: HGSH: MNOV: BSV: GLMD: CHGG: IDXX: VO: HX: BLOK: VSTM: MAXR: MTP: SLS: WBA: FINV: EVC: LIT: BEP: BLIN: CAPR: PRNT: AAXN: PSFE: KIQ: MPC: BIIB: SINO: NNVC: PLIN: ILMN: DOGZ: SFTW: GSX: TECL: UMC: CLRB: MITO: POWW: GDX: PAYS: CHNR: CLII: CTIB: VVUSQ: KERN: EDR: ATVI: RCMT: QDEL: CZR: FSLR: XCUR: STKL: LLY: PECK: DMTK: TRPX: JENGQ: GECC: PMF: ARRY: IMRN: COP: EVGN: IQ: RUBY: VGZ: COUP: EXPI - thread num: 2  -  89 / 103\n"
     ]
    },
    {
     "name": "stderr",
     "output_type": "stream",
     "text": [
      "\u001b[A\n",
      "Thread num: 2:  87%|███████████████████████████████████████████████████▌       | 90/103 [44:04:39<7:11:30, 1991.54s/it]\u001b[A"
     ]
    },
    {
     "name": "stdout",
     "output_type": "stream",
     "text": [
      "completed symbols AREC: NEXT: STNE: STNG: ENVB: VB: HTGM: PFMT: SWN: VRM: ACTC: ZI: NTN: AMRN: AMPY: PCG: DOW: INFI: YCBD: RCON: HGSH: MNOV: BSV: GLMD: CHGG: IDXX: VO: HX: BLOK: VSTM: MAXR: MTP: SLS: WBA: FINV: EVC: LIT: BEP: BLIN: CAPR: PRNT: AAXN: PSFE: KIQ: MPC: BIIB: SINO: NNVC: PLIN: ILMN: DOGZ: SFTW: GSX: TECL: UMC: CLRB: MITO: POWW: GDX: PAYS: CHNR: CLII: CTIB: VVUSQ: KERN: EDR: ATVI: RCMT: QDEL: CZR: FSLR: XCUR: STKL: LLY: PECK: DMTK: TRPX: JENGQ: GECC: PMF: ARRY: IMRN: COP: EVGN: IQ: RUBY: VGZ: COUP: EXPI: UMRX - thread num: 2  -  90 / 103\n"
     ]
    },
    {
     "name": "stderr",
     "output_type": "stream",
     "text": [
      "\n",
      "\n",
      "\n",
      "\n",
      "\n",
      "\n",
      "\n",
      "Thread num: 3:  95%|████████████████████████████████████████████████████████▏  | 98/103 [44:05:08<3:18:12, 2378.50s/it]\u001b[A\u001b[A\u001b[A\u001b[A\u001b[A\u001b[A\u001b[A"
     ]
    },
    {
     "name": "stdout",
     "output_type": "stream",
     "text": [
      "completed symbols FLDM: RCKT: BFLY: BBY: VWAGY: ATNF: AVCO: RVP: BBIG: EFOI: FUSE: AGEN: RKDA: GHIV: IAU: PRQR: PT: SPPI: LIZI: PRPL: INSG: ROOT: RSCF: ICON: CYRN: APTX: IPOD: ARPO: ANY: GAN: ALNA: CPHI: CCO: LVS: AIHS: BUZZ: ORI: ISIG: OCX: GSM: MSTR: ADT: LTHM: DTSS: FISV: COTY: BMY: ACAD: MOGU: STPK: SING: CUK: ERI: NGL: DOYU: FAS: STMP: DMPI: VNQ: YOLO: NOG: BILI: AM: VFF: AGTC: GRAF: VGAC: BDX: DRIP: PTY: NEE: MNLO: W: WISA: DBX: CMG: RC: APM: NBR: PLM: CHTR: WATT: LOTZ: TGB: NLY: CELH: LABD: IVH: PLG: CNTY: KMI: RXT: FMCI: IPDN: REV: GT: WDC: IMAC - thread num: 3  -  98 / 103\n"
     ]
    },
    {
     "name": "stderr",
     "output_type": "stream",
     "text": [
      "\n",
      "\n",
      "Thread num: 4:  84%|████████████████████████████████████████████████▉         | 87/103 [44:09:35<10:47:50, 2429.40s/it]\u001b[A\u001b[A"
     ]
    },
    {
     "name": "stdout",
     "output_type": "stream",
     "text": [
      "completed symbols NH: SNCA: TGA: VBK: ATOM: MKD: TRUL: NLSP: SPLK: SCHO: ALRN: DISCB: TMUS: WIX: SDC: CTEK: PEIX: FAZ: SNGX: AIV: BETZ: ELYS: ORCL: CARV: CAT: AA: CFMS: AQB: MITT: MELI: HMY: SCYX: OXLC: RTX: PBI: WAFU: CTIC: RAD: NXE: SRAC: AMAT: MINT: SIRI: CNSP: MRKR: GHVI: SLDB: PEP: DRRX: IIPR: SVXY: PULM: EVOL: WORX: TEVA: SPXU: VBR: GLUU: SKT: BIL: LGND: SEDG: FRX: XLE: LYFT: SUN: CNET: ERIC: PPBT: BCRX: YJ: ANTE: NOW: RAIL: WNW: GNLN: BCDA: BAM: YRCW: CVEO: VOC: SWKS: OBSV: MOON: BTG: UPWK: HON - thread num: 4  -  87 / 103\n"
     ]
    },
    {
     "name": "stderr",
     "output_type": "stream",
     "text": [
      "\n",
      "\n",
      "\n",
      "\n",
      "Thread num: 5:  84%|█████████████████████████████████████████████████▊         | 87/103 [44:10:02<9:35:40, 2158.78s/it]\u001b[A\u001b[A\u001b[A\u001b[A"
     ]
    },
    {
     "name": "stdout",
     "output_type": "stream",
     "text": [
      "completed symbols EQ: GRIL: UA: LBYYQ: ITUB: EQOS: XERS: FSM: CSIQ: ASAN: QYLD: MGI: PG: MRVL: AESE: OKE: MESO: MRIN: HIBL: SDS: AG: CRIS: CPRX: MIK: ASM: AGQ: ERX: VIG: CLDR: QCLN: IMV: GNOG: ASML: REGN: CATB: ARKX: CHX: JAMF: GPL: XAN: AAME: MIST: TGI: VOE: SPYD: ALJJ: MOXC: PETZ: TUP: AQST: MO: VV: CSLT: HUGE: ZEST: SPR: FE: VEA: ARNC: DSS: NGA: SMH: XONE: JILL: DOG: CREX: APRE: ATHE: FTRCQ: LAIX: LB: WPRT: GBR: UPC: SRNGU: XLK: EVOK: TIRX: LAKE: SOXS: HYD: ADYX: AZEK: VYNE: VERB: FORD: APWC - thread num: 5  -  87 / 103\n"
     ]
    },
    {
     "name": "stderr",
     "output_type": "stream",
     "text": [
      "\n",
      "\n",
      "\n",
      "\n",
      "\n",
      "\n",
      "Thread num: 1:  94%|███████████████████████████████████████████████████████▌   | 97/103 [44:19:02<3:47:45, 2277.55s/it]\u001b[A\u001b[A\u001b[A\u001b[A\u001b[A\u001b[A"
     ]
    },
    {
     "name": "stdout",
     "output_type": "stream",
     "text": [
      "completed symbols EGYF: SFIX: NTDOY: SFT: QID: AXP: PSEC: CLPS: KTRA: LC: QD: EKSO: DG: UPRO: THBR: GTHX: ADTX: AUMN: CGIX: BHR: NETE: SPRT: EVRI: CORR: HIBS: CANF: RESN: BOIL: MNMD: SHY: VCNX: NUGT: TCEHY: FTCV: AMTX: FBIO: BVXV: GEENQ: SNES: POTX: AACG: HGEND: AIRI: IEZ: ACY: QLD: TENX: SAN: EPD: XBIO: LGVW: GTEC: RGLS: CVX: DYNT: STCN: AMRS: ETM: FNMA: MLND: VIR: KGC: CYH: SLVO: FUTU: VWO: CCI: CUEN: PSQ: IMTE: HSDT: SGLB: MSOS: BKNG: NK: APA: BWEN: BJ: RRD: APTO: PAVM: GLBS: QUBT: AKER: GILT: NEAR: NBEV: ENDP: DQ: MESA: RDFN: CWBR: MTSL: VSLR: UUUU: SLNO: AGE - thread num: 1  -  97 / 103\n"
     ]
    },
    {
     "name": "stderr",
     "output_type": "stream",
     "text": [
      "\r",
      "Thread num: 0:  87%|███████████████████████████████████████████████████▌       | 90/103 [44:29:19<8:13:02, 2275.61s/it]"
     ]
    },
    {
     "name": "stdout",
     "output_type": "stream",
     "text": [
      "completed symbols ENOB: MUDS: IZEA: ONCY: RNET: OVID: LMT: MRK: BIG: SI: VTGN: SVM: THMO: DPZ: KOPN: TIGR: INTU: HUSA: DFS: VZIO: APOP: MCHI: GOL: TAOP: GILD: ACCD: GDRX: FREQ: POSH: RMO: GLSI: AVCT: ZKIN: ABEV: ARLO: MDGS: YGMZ: VOOG: CKPT: DRIV: MAR: FNGD: GIK: SONO: ODT: FANG: BNTC: ADIL: ORTX: IPOB: AQMS: CNDT: ABIO: KSS: CMPD: GPS: HAL: ACIC: TSN: PHIO: VRTX: XPEL: XM: BTU: CJJD: OTRK: HOTH: DRI: APVO: Z: CPNG: MYSZ: HDSN: LLNW: BTE: GOEV: PED: SFET: GOVX: TWO: EHTH: JG: BGI: RDSA: SHV: CRTD: UNM: LCTX: WTER: CPSH - thread num: 0  -  90 / 103\n"
     ]
    },
    {
     "name": "stderr",
     "output_type": "stream",
     "text": [
      "\n",
      "\n",
      "\n",
      "Thread num: 6:  89%|████████████████████████████████████████████████████▋      | 92/103 [44:30:04<7:46:23, 2543.94s/it]\u001b[A\u001b[A\u001b[A"
     ]
    },
    {
     "name": "stdout",
     "output_type": "stream",
     "text": [
      "completed symbols GPRO: CVAC: IRTC: IRM: RWLK: ACI: MGEN: FMCC: PK: CLX: SCO: TMDI: NBAC: AGNC: ABEO: RAVE: CPPRQ: CHKAQ: CRON: GIGM: WPG: XELB: QTT: VXUS: RMG: VTEB: TGC: NYMT: UGAZF: EXK: CLEU: APPH: ANCN: SM: TH: BHTG: HCDI: PZC: SCHD: GS: NIU: PSX: AUY: ZNOG: BIMI: GAU: VERI: ALK: EXPE: IFMK: GORO: ANPC: GDXJ: BEST: SGOL: HL: ZYNE: SONY: PDD: PDSB: MDRR: COF: AEMD: SCHB: LYV: DIG: CBLI: ANIX: CLVS: NDRA: GCI: SRTY: NVTA: LABU: IPOC: LRCX: IVV: UNH: ESGC: SNMP: SNPR: ARCT: SSY: CRNT: AUTO: ATNX: MBIO: NLS: RNWK: EGY: HIMX: ABT - thread num: 6  -  92 / 103\n"
     ]
    },
    {
     "name": "stderr",
     "output_type": "stream",
     "text": [
      "\n",
      "Thread num: 2:  88%|████████████████████████████████████████████████████▏      | 91/103 [44:44:19<7:01:37, 2108.11s/it]\u001b[A"
     ]
    },
    {
     "name": "stdout",
     "output_type": "stream",
     "text": [
      "completed symbols AREC: NEXT: STNE: STNG: ENVB: VB: HTGM: PFMT: SWN: VRM: ACTC: ZI: NTN: AMRN: AMPY: PCG: DOW: INFI: YCBD: RCON: HGSH: MNOV: BSV: GLMD: CHGG: IDXX: VO: HX: BLOK: VSTM: MAXR: MTP: SLS: WBA: FINV: EVC: LIT: BEP: BLIN: CAPR: PRNT: AAXN: PSFE: KIQ: MPC: BIIB: SINO: NNVC: PLIN: ILMN: DOGZ: SFTW: GSX: TECL: UMC: CLRB: MITO: POWW: GDX: PAYS: CHNR: CLII: CTIB: VVUSQ: KERN: EDR: ATVI: RCMT: QDEL: CZR: FSLR: XCUR: STKL: LLY: PECK: DMTK: TRPX: JENGQ: GECC: PMF: ARRY: IMRN: COP: EVGN: IQ: RUBY: VGZ: COUP: EXPI: UMRX: THCX - thread num: 2  -  91 / 103\n"
     ]
    },
    {
     "name": "stderr",
     "output_type": "stream",
     "text": [
      "\n",
      "\n",
      "\n",
      "\n",
      "\n",
      "\n",
      "\n",
      "Thread num: 3:  96%|████████████████████████████████████████████████████████▋  | 99/103 [44:46:01<2:40:03, 2400.98s/it]\u001b[A\u001b[A\u001b[A\u001b[A\u001b[A\u001b[A\u001b[A"
     ]
    },
    {
     "name": "stdout",
     "output_type": "stream",
     "text": [
      "completed symbols FLDM: RCKT: BFLY: BBY: VWAGY: ATNF: AVCO: RVP: BBIG: EFOI: FUSE: AGEN: RKDA: GHIV: IAU: PRQR: PT: SPPI: LIZI: PRPL: INSG: ROOT: RSCF: ICON: CYRN: APTX: IPOD: ARPO: ANY: GAN: ALNA: CPHI: CCO: LVS: AIHS: BUZZ: ORI: ISIG: OCX: GSM: MSTR: ADT: LTHM: DTSS: FISV: COTY: BMY: ACAD: MOGU: STPK: SING: CUK: ERI: NGL: DOYU: FAS: STMP: DMPI: VNQ: YOLO: NOG: BILI: AM: VFF: AGTC: GRAF: VGAC: BDX: DRIP: PTY: NEE: MNLO: W: WISA: DBX: CMG: RC: APM: NBR: PLM: CHTR: WATT: LOTZ: TGB: NLY: CELH: LABD: IVH: PLG: CNTY: KMI: RXT: FMCI: IPDN: REV: GT: WDC: IMAC: HLX - thread num: 3  -  99 / 103\n"
     ]
    },
    {
     "name": "stderr",
     "output_type": "stream",
     "text": [
      "\n",
      "\n",
      "\n",
      "\n",
      "Thread num: 5:  85%|██████████████████████████████████████████████████▍        | 88/103 [44:49:33<9:15:36, 2222.44s/it]\u001b[A\u001b[A\u001b[A\u001b[A"
     ]
    },
    {
     "name": "stdout",
     "output_type": "stream",
     "text": [
      "completed symbols EQ: GRIL: UA: LBYYQ: ITUB: EQOS: XERS: FSM: CSIQ: ASAN: QYLD: MGI: PG: MRVL: AESE: OKE: MESO: MRIN: HIBL: SDS: AG: CRIS: CPRX: MIK: ASM: AGQ: ERX: VIG: CLDR: QCLN: IMV: GNOG: ASML: REGN: CATB: ARKX: CHX: JAMF: GPL: XAN: AAME: MIST: TGI: VOE: SPYD: ALJJ: MOXC: PETZ: TUP: AQST: MO: VV: CSLT: HUGE: ZEST: SPR: FE: VEA: ARNC: DSS: NGA: SMH: XONE: JILL: DOG: CREX: APRE: ATHE: FTRCQ: LAIX: LB: WPRT: GBR: UPC: SRNGU: XLK: EVOK: TIRX: LAKE: SOXS: HYD: ADYX: AZEK: VYNE: VERB: FORD: APWC: SGBX - thread num: 5  -  88 / 103\n"
     ]
    },
    {
     "name": "stderr",
     "output_type": "stream",
     "text": [
      "\n",
      "\n",
      "Thread num: 4:  85%|█████████████████████████████████████████████████▌        | 88/103 [44:52:15<10:17:11, 2468.76s/it]\u001b[A\u001b[A"
     ]
    },
    {
     "name": "stdout",
     "output_type": "stream",
     "text": [
      "completed symbols NH: SNCA: TGA: VBK: ATOM: MKD: TRUL: NLSP: SPLK: SCHO: ALRN: DISCB: TMUS: WIX: SDC: CTEK: PEIX: FAZ: SNGX: AIV: BETZ: ELYS: ORCL: CARV: CAT: AA: CFMS: AQB: MITT: MELI: HMY: SCYX: OXLC: RTX: PBI: WAFU: CTIC: RAD: NXE: SRAC: AMAT: MINT: SIRI: CNSP: MRKR: GHVI: SLDB: PEP: DRRX: IIPR: SVXY: PULM: EVOL: WORX: TEVA: SPXU: VBR: GLUU: SKT: BIL: LGND: SEDG: FRX: XLE: LYFT: SUN: CNET: ERIC: PPBT: BCRX: YJ: ANTE: NOW: RAIL: WNW: GNLN: BCDA: BAM: YRCW: CVEO: VOC: SWKS: OBSV: MOON: BTG: UPWK: HON: OKTA - thread num: 4  -  88 / 103\n"
     ]
    },
    {
     "name": "stderr",
     "output_type": "stream",
     "text": [
      "\n",
      "\n",
      "\n",
      "\n",
      "\n",
      "\n",
      "Thread num: 1:  95%|████████████████████████████████████████████████████████▏  | 98/103 [44:56:40<3:09:18, 2271.77s/it]\u001b[A\u001b[A\u001b[A\u001b[A\u001b[A\u001b[A"
     ]
    },
    {
     "name": "stdout",
     "output_type": "stream",
     "text": [
      "completed symbols EGYF: SFIX: NTDOY: SFT: QID: AXP: PSEC: CLPS: KTRA: LC: QD: EKSO: DG: UPRO: THBR: GTHX: ADTX: AUMN: CGIX: BHR: NETE: SPRT: EVRI: CORR: HIBS: CANF: RESN: BOIL: MNMD: SHY: VCNX: NUGT: TCEHY: FTCV: AMTX: FBIO: BVXV: GEENQ: SNES: POTX: AACG: HGEND: AIRI: IEZ: ACY: QLD: TENX: SAN: EPD: XBIO: LGVW: GTEC: RGLS: CVX: DYNT: STCN: AMRS: ETM: FNMA: MLND: VIR: KGC: CYH: SLVO: FUTU: VWO: CCI: CUEN: PSQ: IMTE: HSDT: SGLB: MSOS: BKNG: NK: APA: BWEN: BJ: RRD: APTO: PAVM: GLBS: QUBT: AKER: GILT: NEAR: NBEV: ENDP: DQ: MESA: RDFN: CWBR: MTSL: VSLR: UUUU: SLNO: AGE: YTRA - thread num: 1  -  98 / 103\n"
     ]
    },
    {
     "name": "stderr",
     "output_type": "stream",
     "text": [
      "\r",
      "Thread num: 0:  88%|████████████████████████████████████████████████████▏      | 91/103 [45:06:32<7:32:33, 2262.82s/it]"
     ]
    },
    {
     "name": "stdout",
     "output_type": "stream",
     "text": [
      "completed symbols ENOB: MUDS: IZEA: ONCY: RNET: OVID: LMT: MRK: BIG: SI: VTGN: SVM: THMO: DPZ: KOPN: TIGR: INTU: HUSA: DFS: VZIO: APOP: MCHI: GOL: TAOP: GILD: ACCD: GDRX: FREQ: POSH: RMO: GLSI: AVCT: ZKIN: ABEV: ARLO: MDGS: YGMZ: VOOG: CKPT: DRIV: MAR: FNGD: GIK: SONO: ODT: FANG: BNTC: ADIL: ORTX: IPOB: AQMS: CNDT: ABIO: KSS: CMPD: GPS: HAL: ACIC: TSN: PHIO: VRTX: XPEL: XM: BTU: CJJD: OTRK: HOTH: DRI: APVO: Z: CPNG: MYSZ: HDSN: LLNW: BTE: GOEV: PED: SFET: GOVX: TWO: EHTH: JG: BGI: RDSA: SHV: CRTD: UNM: LCTX: WTER: CPSH: GTT - thread num: 0  -  91 / 103\n"
     ]
    },
    {
     "name": "stderr",
     "output_type": "stream",
     "text": [
      "\n",
      "\n",
      "\n",
      "Thread num: 6:  90%|█████████████████████████████████████████████████████▎     | 93/103 [45:07:05<6:47:49, 2446.95s/it]\u001b[A\u001b[A\u001b[A"
     ]
    },
    {
     "name": "stdout",
     "output_type": "stream",
     "text": [
      "completed symbols GPRO: CVAC: IRTC: IRM: RWLK: ACI: MGEN: FMCC: PK: CLX: SCO: TMDI: NBAC: AGNC: ABEO: RAVE: CPPRQ: CHKAQ: CRON: GIGM: WPG: XELB: QTT: VXUS: RMG: VTEB: TGC: NYMT: UGAZF: EXK: CLEU: APPH: ANCN: SM: TH: BHTG: HCDI: PZC: SCHD: GS: NIU: PSX: AUY: ZNOG: BIMI: GAU: VERI: ALK: EXPE: IFMK: GORO: ANPC: GDXJ: BEST: SGOL: HL: ZYNE: SONY: PDD: PDSB: MDRR: COF: AEMD: SCHB: LYV: DIG: CBLI: ANIX: CLVS: NDRA: GCI: SRTY: NVTA: LABU: IPOC: LRCX: IVV: UNH: ESGC: SNMP: SNPR: ARCT: SSY: CRNT: AUTO: ATNX: MBIO: NLS: RNWK: EGY: HIMX: ABT: BNED - thread num: 6  -  93 / 103\n"
     ]
    },
    {
     "name": "stderr",
     "output_type": "stream",
     "text": [
      "\n",
      "Thread num: 2:  89%|████████████████████████████████████████████████████▋      | 92/103 [45:25:33<6:46:38, 2218.04s/it]\u001b[A"
     ]
    },
    {
     "name": "stdout",
     "output_type": "stream",
     "text": [
      "completed symbols AREC: NEXT: STNE: STNG: ENVB: VB: HTGM: PFMT: SWN: VRM: ACTC: ZI: NTN: AMRN: AMPY: PCG: DOW: INFI: YCBD: RCON: HGSH: MNOV: BSV: GLMD: CHGG: IDXX: VO: HX: BLOK: VSTM: MAXR: MTP: SLS: WBA: FINV: EVC: LIT: BEP: BLIN: CAPR: PRNT: AAXN: PSFE: KIQ: MPC: BIIB: SINO: NNVC: PLIN: ILMN: DOGZ: SFTW: GSX: TECL: UMC: CLRB: MITO: POWW: GDX: PAYS: CHNR: CLII: CTIB: VVUSQ: KERN: EDR: ATVI: RCMT: QDEL: CZR: FSLR: XCUR: STKL: LLY: PECK: DMTK: TRPX: JENGQ: GECC: PMF: ARRY: IMRN: COP: EVGN: IQ: RUBY: VGZ: COUP: EXPI: UMRX: THCX: SNCR - thread num: 2  -  92 / 103\n"
     ]
    },
    {
     "name": "stderr",
     "output_type": "stream",
     "text": [
      "\n",
      "\n",
      "\n",
      "\n",
      "\n",
      "\n",
      "\n",
      "Thread num: 3:  97%|████████████████████████████████████████████████████████▎ | 100/103 [45:28:05<2:01:53, 2437.74s/it]\u001b[A\u001b[A\u001b[A\u001b[A\u001b[A\u001b[A\u001b[A"
     ]
    },
    {
     "name": "stdout",
     "output_type": "stream",
     "text": [
      "completed symbols FLDM: RCKT: BFLY: BBY: VWAGY: ATNF: AVCO: RVP: BBIG: EFOI: FUSE: AGEN: RKDA: GHIV: IAU: PRQR: PT: SPPI: LIZI: PRPL: INSG: ROOT: RSCF: ICON: CYRN: APTX: IPOD: ARPO: ANY: GAN: ALNA: CPHI: CCO: LVS: AIHS: BUZZ: ORI: ISIG: OCX: GSM: MSTR: ADT: LTHM: DTSS: FISV: COTY: BMY: ACAD: MOGU: STPK: SING: CUK: ERI: NGL: DOYU: FAS: STMP: DMPI: VNQ: YOLO: NOG: BILI: AM: VFF: AGTC: GRAF: VGAC: BDX: DRIP: PTY: NEE: MNLO: W: WISA: DBX: CMG: RC: APM: NBR: PLM: CHTR: WATT: LOTZ: TGB: NLY: CELH: LABD: IVH: PLG: CNTY: KMI: RXT: FMCI: IPDN: REV: GT: WDC: IMAC: HLX: STRM - thread num: 3  -  100 / 103\n"
     ]
    },
    {
     "name": "stderr",
     "output_type": "stream",
     "text": [
      "\n",
      "\n",
      "Thread num: 4:  86%|██████████████████████████████████████████████████▉        | 89/103 [45:36:49<9:50:23, 2530.22s/it]\u001b[A\u001b[A"
     ]
    },
    {
     "name": "stdout",
     "output_type": "stream",
     "text": [
      "completed symbols NH: SNCA: TGA: VBK: ATOM: MKD: TRUL: NLSP: SPLK: SCHO: ALRN: DISCB: TMUS: WIX: SDC: CTEK: PEIX: FAZ: SNGX: AIV: BETZ: ELYS: ORCL: CARV: CAT: AA: CFMS: AQB: MITT: MELI: HMY: SCYX: OXLC: RTX: PBI: WAFU: CTIC: RAD: NXE: SRAC: AMAT: MINT: SIRI: CNSP: MRKR: GHVI: SLDB: PEP: DRRX: IIPR: SVXY: PULM: EVOL: WORX: TEVA: SPXU: VBR: GLUU: SKT: BIL: LGND: SEDG: FRX: XLE: LYFT: SUN: CNET: ERIC: PPBT: BCRX: YJ: ANTE: NOW: RAIL: WNW: GNLN: BCDA: BAM: YRCW: CVEO: VOC: SWKS: OBSV: MOON: BTG: UPWK: HON: OKTA: CHS - thread num: 4  -  89 / 103\n",
      "completed symbols EQ: GRIL: UA: LBYYQ: ITUB: EQOS: XERS: FSM: CSIQ: ASAN: QYLD: MGI: PG: MRVL: AESE: OKE: MESO: MRIN: HIBL: SDS: AG: CRIS: CPRX: MIK: ASM: AGQ: ERX: VIG: CLDR: QCLN: IMV: GNOG: ASML: REGN: CATB: ARKX: CHX: JAMF: GPL: XAN: AAME: MIST: TGI: VOE: SPYD: ALJJ: MOXC: PETZ: TUP: AQST: MO: VV: CSLT: HUGE: ZEST: SPR: FE: VEA: ARNC: DSS: NGA: SMH: XONE: JILL: DOG: CREX: APRE: ATHE: FTRCQ: LAIX: LB: WPRT: GBR: UPC: SRNGU: XLK: EVOK: TIRX: LAKE: SOXS: HYD: ADYX: AZEK: VYNE: VERB: FORD: APWC: SGBX: SABR - thread num: 5  - "
     ]
    },
    {
     "name": "stderr",
     "output_type": "stream",
     "text": [
      "\n",
      "\n",
      "\n",
      "\n",
      "Thread num: 5:  86%|██████████████████████████████████████████████████▉        | 89/103 [45:39:43<9:33:40, 2458.59s/it]\u001b[A\u001b[A\u001b[A\u001b[A"
     ]
    },
    {
     "name": "stdout",
     "output_type": "stream",
     "text": [
      " 89 / 103\n"
     ]
    },
    {
     "name": "stderr",
     "output_type": "stream",
     "text": [
      "\r",
      "Thread num: 0:  89%|████████████████████████████████████████████████████▋      | 92/103 [45:41:46<6:46:38, 2218.00s/it]"
     ]
    },
    {
     "name": "stdout",
     "output_type": "stream",
     "text": [
      "completed symbols ENOB: MUDS: IZEA: ONCY: RNET: OVID: LMT: MRK: BIG: SI: VTGN: SVM: THMO: DPZ: KOPN: TIGR: INTU: HUSA: DFS: VZIO: APOP: MCHI: GOL: TAOP: GILD: ACCD: GDRX: FREQ: POSH: RMO: GLSI: AVCT: ZKIN: ABEV: ARLO: MDGS: YGMZ: VOOG: CKPT: DRIV: MAR: FNGD: GIK: SONO: ODT: FANG: BNTC: ADIL: ORTX: IPOB: AQMS: CNDT: ABIO: KSS: CMPD: GPS: HAL: ACIC: TSN: PHIO: VRTX: XPEL: XM: BTU: CJJD: OTRK: HOTH: DRI: APVO: Z: CPNG: MYSZ: HDSN: LLNW: BTE: GOEV: PED: SFET: GOVX: TWO: EHTH: JG: BGI: RDSA: SHV: CRTD: UNM: LCTX: WTER: CPSH: GTT: FROG - thread num: 0  -  92 / 103\n"
     ]
    },
    {
     "name": "stderr",
     "output_type": "stream",
     "text": [
      "\n",
      "\n",
      "\n",
      "\n",
      "\n",
      "\n",
      "Thread num: 1:  96%|████████████████████████████████████████████████████████▋  | 99/103 [45:48:57<2:48:45, 2531.31s/it]\u001b[A\u001b[A\u001b[A\u001b[A\u001b[A\u001b[A"
     ]
    },
    {
     "name": "stdout",
     "output_type": "stream",
     "text": [
      "completed symbols EGYF: SFIX: NTDOY: SFT: QID: AXP: PSEC: CLPS: KTRA: LC: QD: EKSO: DG: UPRO: THBR: GTHX: ADTX: AUMN: CGIX: BHR: NETE: SPRT: EVRI: CORR: HIBS: CANF: RESN: BOIL: MNMD: SHY: VCNX: NUGT: TCEHY: FTCV: AMTX: FBIO: BVXV: GEENQ: SNES: POTX: AACG: HGEND: AIRI: IEZ: ACY: QLD: TENX: SAN: EPD: XBIO: LGVW: GTEC: RGLS: CVX: DYNT: STCN: AMRS: ETM: FNMA: MLND: VIR: KGC: CYH: SLVO: FUTU: VWO: CCI: CUEN: PSQ: IMTE: HSDT: SGLB: MSOS: BKNG: NK: APA: BWEN: BJ: RRD: APTO: PAVM: GLBS: QUBT: AKER: GILT: NEAR: NBEV: ENDP: DQ: MESA: RDFN: CWBR: MTSL: VSLR: UUUU: SLNO: AGE: YTRA: MAC - thread num: 1  -  99 / 103\n"
     ]
    },
    {
     "name": "stderr",
     "output_type": "stream",
     "text": [
      "\n",
      "\n",
      "Thread num: 4:  87%|███████████████████████████████████████████████████▌       | 90/103 [46:06:34<8:19:47, 2306.72s/it]\u001b[A\u001b[A"
     ]
    },
    {
     "name": "stdout",
     "output_type": "stream",
     "text": [
      "completed symbols NH: SNCA: TGA: VBK: ATOM: MKD: TRUL: NLSP: SPLK: SCHO: ALRN: DISCB: TMUS: WIX: SDC: CTEK: PEIX: FAZ: SNGX: AIV: BETZ: ELYS: ORCL: CARV: CAT: AA: CFMS: AQB: MITT: MELI: HMY: SCYX: OXLC: RTX: PBI: WAFU: CTIC: RAD: NXE: SRAC: AMAT: MINT: SIRI: CNSP: MRKR: GHVI: SLDB: PEP: DRRX: IIPR: SVXY: PULM: EVOL: WORX: TEVA: SPXU: VBR: GLUU: SKT: BIL: LGND: SEDG: FRX: XLE: LYFT: SUN: CNET: ERIC: PPBT: BCRX: YJ: ANTE: NOW: RAIL: WNW: GNLN: BCDA: BAM: YRCW: CVEO: VOC: SWKS: OBSV: MOON: BTG: UPWK: HON: OKTA: CHS: PIC - thread num: 4  -  90 / 103\n"
     ]
    },
    {
     "name": "stderr",
     "output_type": "stream",
     "text": [
      "\n",
      "\n",
      "\n",
      "Thread num: 6:  91%|█████████████████████████████████████████████████████▊     | 94/103 [46:06:40<6:57:47, 2785.31s/it]\u001b[A\u001b[A\u001b[A"
     ]
    },
    {
     "name": "stdout",
     "output_type": "stream",
     "text": [
      "completed symbols GPRO: CVAC: IRTC: IRM: RWLK: ACI: MGEN: FMCC: PK: CLX: SCO: TMDI: NBAC: AGNC: ABEO: RAVE: CPPRQ: CHKAQ: CRON: GIGM: WPG: XELB: QTT: VXUS: RMG: VTEB: TGC: NYMT: UGAZF: EXK: CLEU: APPH: ANCN: SM: TH: BHTG: HCDI: PZC: SCHD: GS: NIU: PSX: AUY: ZNOG: BIMI: GAU: VERI: ALK: EXPE: IFMK: GORO: ANPC: GDXJ: BEST: SGOL: HL: ZYNE: SONY: PDD: PDSB: MDRR: COF: AEMD: SCHB: LYV: DIG: CBLI: ANIX: CLVS: NDRA: GCI: SRTY: NVTA: LABU: IPOC: LRCX: IVV: UNH: ESGC: SNMP: SNPR: ARCT: SSY: CRNT: AUTO: ATNX: MBIO: NLS: RNWK: EGY: HIMX: ABT: BNED: JWN - thread num: 6  -  94 / 103\n"
     ]
    },
    {
     "name": "stderr",
     "output_type": "stream",
     "text": [
      "\n",
      "Thread num: 2:  90%|█████████████████████████████████████████████████████▎     | 93/103 [46:15:33<6:48:44, 2452.50s/it]\u001b[A"
     ]
    },
    {
     "name": "stdout",
     "output_type": "stream",
     "text": [
      "completed symbols AREC: NEXT: STNE: STNG: ENVB: VB: HTGM: PFMT: SWN: VRM: ACTC: ZI: NTN: AMRN: AMPY: PCG: DOW: INFI: YCBD: RCON: HGSH: MNOV: BSV: GLMD: CHGG: IDXX: VO: HX: BLOK: VSTM: MAXR: MTP: SLS: WBA: FINV: EVC: LIT: BEP: BLIN: CAPR: PRNT: AAXN: PSFE: KIQ: MPC: BIIB: SINO: NNVC: PLIN: ILMN: DOGZ: SFTW: GSX: TECL: UMC: CLRB: MITO: POWW: GDX: PAYS: CHNR: CLII: CTIB: VVUSQ: KERN: EDR: ATVI: RCMT: QDEL: CZR: FSLR: XCUR: STKL: LLY: PECK: DMTK: TRPX: JENGQ: GECC: PMF: ARRY: IMRN: COP: EVGN: IQ: RUBY: VGZ: COUP: EXPI: UMRX: THCX: SNCR: CASI - thread num: 2  -  93 / 103\n"
     ]
    },
    {
     "name": "stderr",
     "output_type": "stream",
     "text": [
      "\n",
      "\n",
      "\n",
      "\n",
      "\n",
      "\n",
      "\n",
      "Thread num: 3:  98%|████████████████████████████████████████████████████████▊ | 101/103 [46:18:23<1:27:03, 2611.92s/it]\u001b[A\u001b[A\u001b[A\u001b[A\u001b[A\u001b[A\u001b[A"
     ]
    },
    {
     "name": "stdout",
     "output_type": "stream",
     "text": [
      "completed symbols FLDM: RCKT: BFLY: BBY: VWAGY: ATNF: AVCO: RVP: BBIG: EFOI: FUSE: AGEN: RKDA: GHIV: IAU: PRQR: PT: SPPI: LIZI: PRPL: INSG: ROOT: RSCF: ICON: CYRN: APTX: IPOD: ARPO: ANY: GAN: ALNA: CPHI: CCO: LVS: AIHS: BUZZ: ORI: ISIG: OCX: GSM: MSTR: ADT: LTHM: DTSS: FISV: COTY: BMY: ACAD: MOGU: STPK: SING: CUK: ERI: NGL: DOYU: FAS: STMP: DMPI: VNQ: YOLO: NOG: BILI: AM: VFF: AGTC: GRAF: VGAC: BDX: DRIP: PTY: NEE: MNLO: W: WISA: DBX: CMG: RC: APM: NBR: PLM: CHTR: WATT: LOTZ: TGB: NLY: CELH: LABD: IVH: PLG: CNTY: KMI: RXT: FMCI: IPDN: REV: GT: WDC: IMAC: HLX: STRM: MFH - thread num: 3  -  101 / 103\n"
     ]
    },
    {
     "name": "stderr",
     "output_type": "stream",
     "text": [
      "\r",
      "Thread num: 0:  90%|█████████████████████████████████████████████████████▎     | 93/103 [46:45:18<7:29:22, 2696.27s/it]"
     ]
    },
    {
     "name": "stdout",
     "output_type": "stream",
     "text": [
      "completed symbols ENOB: MUDS: IZEA: ONCY: RNET: OVID: LMT: MRK: BIG: SI: VTGN: SVM: THMO: DPZ: KOPN: TIGR: INTU: HUSA: DFS: VZIO: APOP: MCHI: GOL: TAOP: GILD: ACCD: GDRX: FREQ: POSH: RMO: GLSI: AVCT: ZKIN: ABEV: ARLO: MDGS: YGMZ: VOOG: CKPT: DRIV: MAR: FNGD: GIK: SONO: ODT: FANG: BNTC: ADIL: ORTX: IPOB: AQMS: CNDT: ABIO: KSS: CMPD: GPS: HAL: ACIC: TSN: PHIO: VRTX: XPEL: XM: BTU: CJJD: OTRK: HOTH: DRI: APVO: Z: CPNG: MYSZ: HDSN: LLNW: BTE: GOEV: PED: SFET: GOVX: TWO: EHTH: JG: BGI: RDSA: SHV: CRTD: UNM: LCTX: WTER: CPSH: GTT: FROG: WM - thread num: 0  -  93 / 103\n"
     ]
    },
    {
     "name": "stderr",
     "output_type": "stream",
     "text": [
      "\n",
      "\n",
      "\n",
      "\n",
      "\n",
      "\n",
      "Thread num: 1:  97%|████████████████████████████████████████████████████████▎ | 100/103 [46:57:45<2:30:31, 3010.38s/it]\u001b[A\u001b[A\u001b[A\u001b[A\u001b[A\u001b[A"
     ]
    },
    {
     "name": "stdout",
     "output_type": "stream",
     "text": [
      "completed symbols EGYF: SFIX: NTDOY: SFT: QID: AXP: PSEC: CLPS: KTRA: LC: QD: EKSO: DG: UPRO: THBR: GTHX: ADTX: AUMN: CGIX: BHR: NETE: SPRT: EVRI: CORR: HIBS: CANF: RESN: BOIL: MNMD: SHY: VCNX: NUGT: TCEHY: FTCV: AMTX: FBIO: BVXV: GEENQ: SNES: POTX: AACG: HGEND: AIRI: IEZ: ACY: QLD: TENX: SAN: EPD: XBIO: LGVW: GTEC: RGLS: CVX: DYNT: STCN: AMRS: ETM: FNMA: MLND: VIR: KGC: CYH: SLVO: FUTU: VWO: CCI: CUEN: PSQ: IMTE: HSDT: SGLB: MSOS: BKNG: NK: APA: BWEN: BJ: RRD: APTO: PAVM: GLBS: QUBT: AKER: GILT: NEAR: NBEV: ENDP: DQ: MESA: RDFN: CWBR: MTSL: VSLR: UUUU: SLNO: AGE: YTRA: MAC: BLDP - thread num: 1  -  100 / 103\n"
     ]
    },
    {
     "name": "stderr",
     "output_type": "stream",
     "text": [
      "\n",
      "\n",
      "\n",
      "Thread num: 6:  92%|██████████████████████████████████████████████████████▍    | 95/103 [47:14:19<7:02:20, 3167.57s/it]\u001b[A\u001b[A\u001b[A"
     ]
    },
    {
     "name": "stdout",
     "output_type": "stream",
     "text": [
      "completed symbols GPRO: CVAC: IRTC: IRM: RWLK: ACI: MGEN: FMCC: PK: CLX: SCO: TMDI: NBAC: AGNC: ABEO: RAVE: CPPRQ: CHKAQ: CRON: GIGM: WPG: XELB: QTT: VXUS: RMG: VTEB: TGC: NYMT: UGAZF: EXK: CLEU: APPH: ANCN: SM: TH: BHTG: HCDI: PZC: SCHD: GS: NIU: PSX: AUY: ZNOG: BIMI: GAU: VERI: ALK: EXPE: IFMK: GORO: ANPC: GDXJ: BEST: SGOL: HL: ZYNE: SONY: PDD: PDSB: MDRR: COF: AEMD: SCHB: LYV: DIG: CBLI: ANIX: CLVS: NDRA: GCI: SRTY: NVTA: LABU: IPOC: LRCX: IVV: UNH: ESGC: SNMP: SNPR: ARCT: SSY: CRNT: AUTO: ATNX: MBIO: NLS: RNWK: EGY: HIMX: ABT: BNED: JWN: ZS - thread num: 6  -  95 / 103\n"
     ]
    },
    {
     "name": "stderr",
     "output_type": "stream",
     "text": [
      "\n",
      "\n",
      "\n",
      "\n",
      "Thread num: 5:  87%|██████████████████████████████████████████████████▋       | 90/103 [47:14:28<12:22:25, 3426.58s/it]\u001b[A\u001b[A\u001b[A\u001b[A"
     ]
    },
    {
     "name": "stdout",
     "output_type": "stream",
     "text": [
      "completed symbols EQ: GRIL: UA: LBYYQ: ITUB: EQOS: XERS: FSM: CSIQ: ASAN: QYLD: MGI: PG: MRVL: AESE: OKE: MESO: MRIN: HIBL: SDS: AG: CRIS: CPRX: MIK: ASM: AGQ: ERX: VIG: CLDR: QCLN: IMV: GNOG: ASML: REGN: CATB: ARKX: CHX: JAMF: GPL: XAN: AAME: MIST: TGI: VOE: SPYD: ALJJ: MOXC: PETZ: TUP: AQST: MO: VV: CSLT: HUGE: ZEST: SPR: FE: VEA: ARNC: DSS: NGA: SMH: XONE: JILL: DOG: CREX: APRE: ATHE: FTRCQ: LAIX: LB: WPRT: GBR: UPC: SRNGU: XLK: EVOK: TIRX: LAKE: SOXS: HYD: ADYX: AZEK: VYNE: VERB: FORD: APWC: SGBX: SABR: CSCO - thread num: 5  -  90 / 103\n"
     ]
    },
    {
     "name": "stderr",
     "output_type": "stream",
     "text": [
      "\n",
      "\n",
      "\n",
      "Thread num: 6:  93%|██████████████████████████████████████████████████████▉    | 96/103 [47:15:17<4:20:41, 2234.55s/it]\u001b[A\u001b[A\u001b[A"
     ]
    },
    {
     "name": "stdout",
     "output_type": "stream",
     "text": [
      "completed symbols GPRO: CVAC: IRTC: IRM: RWLK: ACI: MGEN: FMCC: PK: CLX: SCO: TMDI: NBAC: AGNC: ABEO: RAVE: CPPRQ: CHKAQ: CRON: GIGM: WPG: XELB: QTT: VXUS: RMG: VTEB: TGC: NYMT: UGAZF: EXK: CLEU: APPH: ANCN: SM: TH: BHTG: HCDI: PZC: SCHD: GS: NIU: PSX: AUY: ZNOG: BIMI: GAU: VERI: ALK: EXPE: IFMK: GORO: ANPC: GDXJ: BEST: SGOL: HL: ZYNE: SONY: PDD: PDSB: MDRR: COF: AEMD: SCHB: LYV: DIG: CBLI: ANIX: CLVS: NDRA: GCI: SRTY: NVTA: LABU: IPOC: LRCX: IVV: UNH: ESGC: SNMP: SNPR: ARCT: SSY: CRNT: AUTO: ATNX: MBIO: NLS: RNWK: EGY: HIMX: ABT: BNED: JWN: ZS: FRFR - thread num: 6  -  96 / 103\n"
     ]
    },
    {
     "name": "stderr",
     "output_type": "stream",
     "text": [
      "\n",
      "\n",
      "Thread num: 4:  88%|████████████████████████████████████████████████████▏      | 91/103 [47:16:04<9:33:06, 2865.52s/it]\u001b[A\u001b[A"
     ]
    },
    {
     "name": "stdout",
     "output_type": "stream",
     "text": [
      "completed symbols NH: SNCA: TGA: VBK: ATOM: MKD: TRUL: NLSP: SPLK: SCHO: ALRN: DISCB: TMUS: WIX: SDC: CTEK: PEIX: FAZ: SNGX: AIV: BETZ: ELYS: ORCL: CARV: CAT: AA: CFMS: AQB: MITT: MELI: HMY: SCYX: OXLC: RTX: PBI: WAFU: CTIC: RAD: NXE: SRAC: AMAT: MINT: SIRI: CNSP: MRKR: GHVI: SLDB: PEP: DRRX: IIPR: SVXY: PULM: EVOL: WORX: TEVA: SPXU: VBR: GLUU: SKT: BIL: LGND: SEDG: FRX: XLE: LYFT: SUN: CNET: ERIC: PPBT: BCRX: YJ: ANTE: NOW: RAIL: WNW: GNLN: BCDA: BAM: YRCW: CVEO: VOC: SWKS: OBSV: MOON: BTG: UPWK: HON: OKTA: CHS: PIC: AVGO - thread num: 4  -  91 / 103\n"
     ]
    },
    {
     "name": "stderr",
     "output_type": "stream",
     "text": [
      "\n",
      "Thread num: 2:  91%|█████████████████████████████████████████████████████▊     | 94/103 [47:16:38<7:02:26, 2816.26s/it]\u001b[A"
     ]
    },
    {
     "name": "stdout",
     "output_type": "stream",
     "text": [
      "completed symbols AREC: NEXT: STNE: STNG: ENVB: VB: HTGM: PFMT: SWN: VRM: ACTC: ZI: NTN: AMRN: AMPY: PCG: DOW: INFI: YCBD: RCON: HGSH: MNOV: BSV: GLMD: CHGG: IDXX: VO: HX: BLOK: VSTM: MAXR: MTP: SLS: WBA: FINV: EVC: LIT: BEP: BLIN: CAPR: PRNT: AAXN: PSFE: KIQ: MPC: BIIB: SINO: NNVC: PLIN: ILMN: DOGZ: SFTW: GSX: TECL: UMC: CLRB: MITO: POWW: GDX: PAYS: CHNR: CLII: CTIB: VVUSQ: KERN: EDR: ATVI: RCMT: QDEL: CZR: FSLR: XCUR: STKL: LLY: PECK: DMTK: TRPX: JENGQ: GECC: PMF: ARRY: IMRN: COP: EVGN: IQ: RUBY: VGZ: COUP: EXPI: UMRX: THCX: SNCR: CASI: DFEN - thread num: 2  -  94 / 103\n"
     ]
    },
    {
     "name": "stderr",
     "output_type": "stream",
     "text": [
      "\n",
      "\n",
      "\n",
      "\n",
      "\n",
      "\n",
      "\n",
      "Thread num: 3:  99%|███████████████████████████████████████████████████████████▍| 102/103 [47:27:56<51:20, 3080.16s/it]\u001b[A\u001b[A\u001b[A\u001b[A\u001b[A\u001b[A\u001b[A"
     ]
    },
    {
     "name": "stdout",
     "output_type": "stream",
     "text": [
      "completed symbols FLDM: RCKT: BFLY: BBY: VWAGY: ATNF: AVCO: RVP: BBIG: EFOI: FUSE: AGEN: RKDA: GHIV: IAU: PRQR: PT: SPPI: LIZI: PRPL: INSG: ROOT: RSCF: ICON: CYRN: APTX: IPOD: ARPO: ANY: GAN: ALNA: CPHI: CCO: LVS: AIHS: BUZZ: ORI: ISIG: OCX: GSM: MSTR: ADT: LTHM: DTSS: FISV: COTY: BMY: ACAD: MOGU: STPK: SING: CUK: ERI: NGL: DOYU: FAS: STMP: DMPI: VNQ: YOLO: NOG: BILI: AM: VFF: AGTC: GRAF: VGAC: BDX: DRIP: PTY: NEE: MNLO: W: WISA: DBX: CMG: RC: APM: NBR: PLM: CHTR: WATT: LOTZ: TGB: NLY: CELH: LABD: IVH: PLG: CNTY: KMI: RXT: FMCI: IPDN: REV: GT: WDC: IMAC: HLX: STRM: MFH: MCD - thread num: 3  -  102 / 103\n"
     ]
    },
    {
     "name": "stderr",
     "output_type": "stream",
     "text": [
      "\n",
      "Thread num: 2:  92%|██████████████████████████████████████████████████████▍    | 95/103 [47:34:41<5:06:09, 2296.25s/it]\u001b[A"
     ]
    },
    {
     "name": "stdout",
     "output_type": "stream",
     "text": [
      "completed symbols AREC: NEXT: STNE: STNG: ENVB: VB: HTGM: PFMT: SWN: VRM: ACTC: ZI: NTN: AMRN: AMPY: PCG: DOW: INFI: YCBD: RCON: HGSH: MNOV: BSV: GLMD: CHGG: IDXX: VO: HX: BLOK: VSTM: MAXR: MTP: SLS: WBA: FINV: EVC: LIT: BEP: BLIN: CAPR: PRNT: AAXN: PSFE: KIQ: MPC: BIIB: SINO: NNVC: PLIN: ILMN: DOGZ: SFTW: GSX: TECL: UMC: CLRB: MITO: POWW: GDX: PAYS: CHNR: CLII: CTIB: VVUSQ: KERN: EDR: ATVI: RCMT: QDEL: CZR: FSLR: XCUR: STKL: LLY: PECK: DMTK: TRPX: JENGQ: GECC: PMF: ARRY: IMRN: COP: EVGN: IQ: RUBY: VGZ: COUP: EXPI: UMRX: THCX: SNCR: CASI: DFEN: KCAC - thread num: 2  -  95 / 103\n"
     ]
    },
    {
     "name": "stderr",
     "output_type": "stream",
     "text": [
      "\r",
      "Thread num: 0:  91%|█████████████████████████████████████████████████████▊     | 94/103 [47:36:18<7:00:47, 2805.26s/it]"
     ]
    },
    {
     "name": "stdout",
     "output_type": "stream",
     "text": [
      "completed symbols ENOB: MUDS: IZEA: ONCY: RNET: OVID: LMT: MRK: BIG: SI: VTGN: SVM: THMO: DPZ: KOPN: TIGR: INTU: HUSA: DFS: VZIO: APOP: MCHI: GOL: TAOP: GILD: ACCD: GDRX: FREQ: POSH: RMO: GLSI: AVCT: ZKIN: ABEV: ARLO: MDGS: YGMZ: VOOG: CKPT: DRIV: MAR: FNGD: GIK: SONO: ODT: FANG: BNTC: ADIL: ORTX: IPOB: AQMS: CNDT: ABIO: KSS: CMPD: GPS: HAL: ACIC: TSN: PHIO: VRTX: XPEL: XM: BTU: CJJD: OTRK: HOTH: DRI: APVO: Z: CPNG: MYSZ: HDSN: LLNW: BTE: GOEV: PED: SFET: GOVX: TWO: EHTH: JG: BGI: RDSA: SHV: CRTD: UNM: LCTX: WTER: CPSH: GTT: FROG: WM: SIVB - thread num: 0  -  94 / 103\n"
     ]
    },
    {
     "name": "stderr",
     "output_type": "stream",
     "text": [
      "\n",
      "\n",
      "\n",
      "\n",
      "\n",
      "\n",
      "Thread num: 1:  98%|████████████████████████████████████████████████████████▊ | 101/103 [47:42:36<1:37:09, 2914.57s/it]\u001b[A\u001b[A\u001b[A\u001b[A\u001b[A\u001b[A"
     ]
    },
    {
     "name": "stdout",
     "output_type": "stream",
     "text": [
      "completed symbols EGYF: SFIX: NTDOY: SFT: QID: AXP: PSEC: CLPS: KTRA: LC: QD: EKSO: DG: UPRO: THBR: GTHX: ADTX: AUMN: CGIX: BHR: NETE: SPRT: EVRI: CORR: HIBS: CANF: RESN: BOIL: MNMD: SHY: VCNX: NUGT: TCEHY: FTCV: AMTX: FBIO: BVXV: GEENQ: SNES: POTX: AACG: HGEND: AIRI: IEZ: ACY: QLD: TENX: SAN: EPD: XBIO: LGVW: GTEC: RGLS: CVX: DYNT: STCN: AMRS: ETM: FNMA: MLND: VIR: KGC: CYH: SLVO: FUTU: VWO: CCI: CUEN: PSQ: IMTE: HSDT: SGLB: MSOS: BKNG: NK: APA: BWEN: BJ: RRD: APTO: PAVM: GLBS: QUBT: AKER: GILT: NEAR: NBEV: ENDP: DQ: MESA: RDFN: CWBR: MTSL: VSLR: UUUU: SLNO: AGE: YTRA: MAC: BLDP: MGNI - thread num: 1  -  101 / 103\n"
     ]
    },
    {
     "name": "stderr",
     "output_type": "stream",
     "text": [
      "\n",
      "\n",
      "\n",
      "\n",
      "\n",
      "\n",
      "\n",
      "Thread num: 3: 100%|████████████████████████████████████████████████████████████| 103/103 [47:46:36<00:00, 1669.87s/it]\u001b[A\u001b[A\u001b[A\u001b[A\u001b[A\u001b[A\u001b[A"
     ]
    },
    {
     "name": "stdout",
     "output_type": "stream",
     "text": [
      "completed symbols FLDM: RCKT: BFLY: BBY: VWAGY: ATNF: AVCO: RVP: BBIG: EFOI: FUSE: AGEN: RKDA: GHIV: IAU: PRQR: PT: SPPI: LIZI: PRPL: INSG: ROOT: RSCF: ICON: CYRN: APTX: IPOD: ARPO: ANY: GAN: ALNA: CPHI: CCO: LVS: AIHS: BUZZ: ORI: ISIG: OCX: GSM: MSTR: ADT: LTHM: DTSS: FISV: COTY: BMY: ACAD: MOGU: STPK: SING: CUK: ERI: NGL: DOYU: FAS: STMP: DMPI: VNQ: YOLO: NOG: BILI: AM: VFF: AGTC: GRAF: VGAC: BDX: DRIP: PTY: NEE: MNLO: W: WISA: DBX: CMG: RC: APM: NBR: PLM: CHTR: WATT: LOTZ: TGB: NLY: CELH: LABD: IVH: PLG: CNTY: KMI: RXT: FMCI: IPDN: REV: GT: WDC: IMAC: HLX: STRM: MFH: MCD: TEUM - thread num: 3  -  103 / 103\n"
     ]
    },
    {
     "name": "stderr",
     "output_type": "stream",
     "text": [
      "\n",
      "\n",
      "\n",
      "\n",
      "\n",
      "Thread num: 5:  88%|███████████████████████████████████████████████████▏      | 91/103 [47:52:47<10:17:42, 3088.51s/it]\u001b[A\u001b[A\u001b[A\u001b[A"
     ]
    },
    {
     "name": "stdout",
     "output_type": "stream",
     "text": [
      "completed symbols EQ: GRIL: UA: LBYYQ: ITUB: EQOS: XERS: FSM: CSIQ: ASAN: QYLD: MGI: PG: MRVL: AESE: OKE: MESO: MRIN: HIBL: SDS: AG: CRIS: CPRX: MIK: ASM: AGQ: ERX: VIG: CLDR: QCLN: IMV: GNOG: ASML: REGN: CATB: ARKX: CHX: JAMF: GPL: XAN: AAME: MIST: TGI: VOE: SPYD: ALJJ: MOXC: PETZ: TUP: AQST: MO: VV: CSLT: HUGE: ZEST: SPR: FE: VEA: ARNC: DSS: NGA: SMH: XONE: JILL: DOG: CREX: APRE: ATHE: FTRCQ: LAIX: LB: WPRT: GBR: UPC: SRNGU: XLK: EVOK: TIRX: LAKE: SOXS: HYD: ADYX: AZEK: VYNE: VERB: FORD: APWC: SGBX: SABR: CSCO: BSQR - thread num: 5  -  91 / 103\n"
     ]
    },
    {
     "name": "stderr",
     "output_type": "stream",
     "text": [
      "\n",
      "\n",
      "\n",
      "Thread num: 6:  94%|███████████████████████████████████████████████████████▌   | 97/103 [47:53:05<3:44:27, 2244.53s/it]\u001b[A\u001b[A\u001b[A"
     ]
    },
    {
     "name": "stdout",
     "output_type": "stream",
     "text": [
      "completed symbols GPRO: CVAC: IRTC: IRM: RWLK: ACI: MGEN: FMCC: PK: CLX: SCO: TMDI: NBAC: AGNC: ABEO: RAVE: CPPRQ: CHKAQ: CRON: GIGM: WPG: XELB: QTT: VXUS: RMG: VTEB: TGC: NYMT: UGAZF: EXK: CLEU: APPH: ANCN: SM: TH: BHTG: HCDI: PZC: SCHD: GS: NIU: PSX: AUY: ZNOG: BIMI: GAU: VERI: ALK: EXPE: IFMK: GORO: ANPC: GDXJ: BEST: SGOL: HL: ZYNE: SONY: PDD: PDSB: MDRR: COF: AEMD: SCHB: LYV: DIG: CBLI: ANIX: CLVS: NDRA: GCI: SRTY: NVTA: LABU: IPOC: LRCX: IVV: UNH: ESGC: SNMP: SNPR: ARCT: SSY: CRNT: AUTO: ATNX: MBIO: NLS: RNWK: EGY: HIMX: ABT: BNED: JWN: ZS: FRFR: ARVN - thread num: 6  -  97 / 103\n"
     ]
    },
    {
     "name": "stderr",
     "output_type": "stream",
     "text": [
      "\n",
      "\n",
      "Thread num: 4:  89%|████████████████████████████████████████████████████▋      | 92/103 [47:53:27<8:11:06, 2678.76s/it]\u001b[A\u001b[A"
     ]
    },
    {
     "name": "stdout",
     "output_type": "stream",
     "text": [
      "completed symbols NH: SNCA: TGA: VBK: ATOM: MKD: TRUL: NLSP: SPLK: SCHO: ALRN: DISCB: TMUS: WIX: SDC: CTEK: PEIX: FAZ: SNGX: AIV: BETZ: ELYS: ORCL: CARV: CAT: AA: CFMS: AQB: MITT: MELI: HMY: SCYX: OXLC: RTX: PBI: WAFU: CTIC: RAD: NXE: SRAC: AMAT: MINT: SIRI: CNSP: MRKR: GHVI: SLDB: PEP: DRRX: IIPR: SVXY: PULM: EVOL: WORX: TEVA: SPXU: VBR: GLUU: SKT: BIL: LGND: SEDG: FRX: XLE: LYFT: SUN: CNET: ERIC: PPBT: BCRX: YJ: ANTE: NOW: RAIL: WNW: GNLN: BCDA: BAM: YRCW: CVEO: VOC: SWKS: OBSV: MOON: BTG: UPWK: HON: OKTA: CHS: PIC: AVGO: LYL - thread num: 4  -  92 / 103\n"
     ]
    },
    {
     "name": "stderr",
     "output_type": "stream",
     "text": [
      "\n",
      "Thread num: 2:  93%|██████████████████████████████████████████████████████▉    | 96/103 [48:07:51<4:17:10, 2204.35s/it]\u001b[A"
     ]
    },
    {
     "name": "stdout",
     "output_type": "stream",
     "text": [
      "completed symbols AREC: NEXT: STNE: STNG: ENVB: VB: HTGM: PFMT: SWN: VRM: ACTC: ZI: NTN: AMRN: AMPY: PCG: DOW: INFI: YCBD: RCON: HGSH: MNOV: BSV: GLMD: CHGG: IDXX: VO: HX: BLOK: VSTM: MAXR: MTP: SLS: WBA: FINV: EVC: LIT: BEP: BLIN: CAPR: PRNT: AAXN: PSFE: KIQ: MPC: BIIB: SINO: NNVC: PLIN: ILMN: DOGZ: SFTW: GSX: TECL: UMC: CLRB: MITO: POWW: GDX: PAYS: CHNR: CLII: CTIB: VVUSQ: KERN: EDR: ATVI: RCMT: QDEL: CZR: FSLR: XCUR: STKL: LLY: PECK: DMTK: TRPX: JENGQ: GECC: PMF: ARRY: IMRN: COP: EVGN: IQ: RUBY: VGZ: COUP: EXPI: UMRX: THCX: SNCR: CASI: DFEN: KCAC: MREO - thread num: 2  -  96 / 103\n"
     ]
    },
    {
     "name": "stderr",
     "output_type": "stream",
     "text": [
      "\r",
      "Thread num: 0:  92%|██████████████████████████████████████████████████████▍    | 95/103 [48:09:16<5:40:57, 2557.19s/it]"
     ]
    },
    {
     "name": "stdout",
     "output_type": "stream",
     "text": [
      "completed symbols ENOB: MUDS: IZEA: ONCY: RNET: OVID: LMT: MRK: BIG: SI: VTGN: SVM: THMO: DPZ: KOPN: TIGR: INTU: HUSA: DFS: VZIO: APOP: MCHI: GOL: TAOP: GILD: ACCD: GDRX: FREQ: POSH: RMO: GLSI: AVCT: ZKIN: ABEV: ARLO: MDGS: YGMZ: VOOG: CKPT: DRIV: MAR: FNGD: GIK: SONO: ODT: FANG: BNTC: ADIL: ORTX: IPOB: AQMS: CNDT: ABIO: KSS: CMPD: GPS: HAL: ACIC: TSN: PHIO: VRTX: XPEL: XM: BTU: CJJD: OTRK: HOTH: DRI: APVO: Z: CPNG: MYSZ: HDSN: LLNW: BTE: GOEV: PED: SFET: GOVX: TWO: EHTH: JG: BGI: RDSA: SHV: CRTD: UNM: LCTX: WTER: CPSH: GTT: FROG: WM: SIVB: UEC - thread num: 0  -  95 / 103\n"
     ]
    },
    {
     "name": "stderr",
     "output_type": "stream",
     "text": [
      "\n",
      "\n",
      "\n",
      "\n",
      "\n",
      "\n",
      "Thread num: 1:  99%|███████████████████████████████████████████████████████████▍| 102/103 [48:10:52<42:28, 2548.98s/it]\u001b[A\u001b[A\u001b[A\u001b[A\u001b[A\u001b[A"
     ]
    },
    {
     "name": "stdout",
     "output_type": "stream",
     "text": [
      "completed symbols EGYF: SFIX: NTDOY: SFT: QID: AXP: PSEC: CLPS: KTRA: LC: QD: EKSO: DG: UPRO: THBR: GTHX: ADTX: AUMN: CGIX: BHR: NETE: SPRT: EVRI: CORR: HIBS: CANF: RESN: BOIL: MNMD: SHY: VCNX: NUGT: TCEHY: FTCV: AMTX: FBIO: BVXV: GEENQ: SNES: POTX: AACG: HGEND: AIRI: IEZ: ACY: QLD: TENX: SAN: EPD: XBIO: LGVW: GTEC: RGLS: CVX: DYNT: STCN: AMRS: ETM: FNMA: MLND: VIR: KGC: CYH: SLVO: FUTU: VWO: CCI: CUEN: PSQ: IMTE: HSDT: SGLB: MSOS: BKNG: NK: APA: BWEN: BJ: RRD: APTO: PAVM: GLBS: QUBT: AKER: GILT: NEAR: NBEV: ENDP: DQ: MESA: RDFN: CWBR: MTSL: VSLR: UUUU: SLNO: AGE: YTRA: MAC: BLDP: MGNI: NCNO - thread num: 1  -  102 / 103\n"
     ]
    },
    {
     "name": "stderr",
     "output_type": "stream",
     "text": [
      "\n",
      "\n",
      "\n",
      "\n",
      "Thread num: 5:  89%|████████████████████████████████████████████████████▋      | 92/103 [48:24:02<8:19:27, 2724.29s/it]\u001b[A\u001b[A\u001b[A\u001b[A"
     ]
    },
    {
     "name": "stdout",
     "output_type": "stream",
     "text": [
      "completed symbols EQ: GRIL: UA: LBYYQ: ITUB: EQOS: XERS: FSM: CSIQ: ASAN: QYLD: MGI: PG: MRVL: AESE: OKE: MESO: MRIN: HIBL: SDS: AG: CRIS: CPRX: MIK: ASM: AGQ: ERX: VIG: CLDR: QCLN: IMV: GNOG: ASML: REGN: CATB: ARKX: CHX: JAMF: GPL: XAN: AAME: MIST: TGI: VOE: SPYD: ALJJ: MOXC: PETZ: TUP: AQST: MO: VV: CSLT: HUGE: ZEST: SPR: FE: VEA: ARNC: DSS: NGA: SMH: XONE: JILL: DOG: CREX: APRE: ATHE: FTRCQ: LAIX: LB: WPRT: GBR: UPC: SRNGU: XLK: EVOK: TIRX: LAKE: SOXS: HYD: ADYX: AZEK: VYNE: VERB: FORD: APWC: SGBX: SABR: CSCO: BSQR: SAM - thread num: 5  -  92 / 103\n"
     ]
    },
    {
     "name": "stderr",
     "output_type": "stream",
     "text": [
      "\n",
      "\n",
      "\n",
      "Thread num: 6:  95%|████████████████████████████████████████████████████████▏  | 98/103 [48:24:26<2:57:58, 2135.62s/it]\u001b[A\u001b[A\u001b[A"
     ]
    },
    {
     "name": "stdout",
     "output_type": "stream",
     "text": [
      "completed symbols GPRO: CVAC: IRTC: IRM: RWLK: ACI: MGEN: FMCC: PK: CLX: SCO: TMDI: NBAC: AGNC: ABEO: RAVE: CPPRQ: CHKAQ: CRON: GIGM: WPG: XELB: QTT: VXUS: RMG: VTEB: TGC: NYMT: UGAZF: EXK: CLEU: APPH: ANCN: SM: TH: BHTG: HCDI: PZC: SCHD: GS: NIU: PSX: AUY: ZNOG: BIMI: GAU: VERI: ALK: EXPE: IFMK: GORO: ANPC: GDXJ: BEST: SGOL: HL: ZYNE: SONY: PDD: PDSB: MDRR: COF: AEMD: SCHB: LYV: DIG: CBLI: ANIX: CLVS: NDRA: GCI: SRTY: NVTA: LABU: IPOC: LRCX: IVV: UNH: ESGC: SNMP: SNPR: ARCT: SSY: CRNT: AUTO: ATNX: MBIO: NLS: RNWK: EGY: HIMX: ABT: BNED: JWN: ZS: FRFR: ARVN: MDLY - thread num: 6  -  98 / 103\n"
     ]
    },
    {
     "name": "stderr",
     "output_type": "stream",
     "text": [
      "\n",
      "\n",
      "Thread num: 4:  90%|█████████████████████████████████████████████████████▎     | 93/103 [48:25:12<6:47:48, 2446.83s/it]\u001b[A\u001b[A"
     ]
    },
    {
     "name": "stdout",
     "output_type": "stream",
     "text": [
      "completed symbols NH: SNCA: TGA: VBK: ATOM: MKD: TRUL: NLSP: SPLK: SCHO: ALRN: DISCB: TMUS: WIX: SDC: CTEK: PEIX: FAZ: SNGX: AIV: BETZ: ELYS: ORCL: CARV: CAT: AA: CFMS: AQB: MITT: MELI: HMY: SCYX: OXLC: RTX: PBI: WAFU: CTIC: RAD: NXE: SRAC: AMAT: MINT: SIRI: CNSP: MRKR: GHVI: SLDB: PEP: DRRX: IIPR: SVXY: PULM: EVOL: WORX: TEVA: SPXU: VBR: GLUU: SKT: BIL: LGND: SEDG: FRX: XLE: LYFT: SUN: CNET: ERIC: PPBT: BCRX: YJ: ANTE: NOW: RAIL: WNW: GNLN: BCDA: BAM: YRCW: CVEO: VOC: SWKS: OBSV: MOON: BTG: UPWK: HON: OKTA: CHS: PIC: AVGO: LYL: AVXL - thread num: 4  -  93 / 103\n"
     ]
    },
    {
     "name": "stderr",
     "output_type": "stream",
     "text": [
      "\n",
      "\n",
      "\n",
      "Thread num: 6:  96%|████████████████████████████████████████████████████████▋  | 99/103 [48:25:22<1:40:46, 1511.58s/it]\u001b[A\u001b[A\u001b[A"
     ]
    },
    {
     "name": "stdout",
     "output_type": "stream",
     "text": [
      "completed symbols GPRO: CVAC: IRTC: IRM: RWLK: ACI: MGEN: FMCC: PK: CLX: SCO: TMDI: NBAC: AGNC: ABEO: RAVE: CPPRQ: CHKAQ: CRON: GIGM: WPG: XELB: QTT: VXUS: RMG: VTEB: TGC: NYMT: UGAZF: EXK: CLEU: APPH: ANCN: SM: TH: BHTG: HCDI: PZC: SCHD: GS: NIU: PSX: AUY: ZNOG: BIMI: GAU: VERI: ALK: EXPE: IFMK: GORO: ANPC: GDXJ: BEST: SGOL: HL: ZYNE: SONY: PDD: PDSB: MDRR: COF: AEMD: SCHB: LYV: DIG: CBLI: ANIX: CLVS: NDRA: GCI: SRTY: NVTA: LABU: IPOC: LRCX: IVV: UNH: ESGC: SNMP: SNPR: ARCT: SSY: CRNT: AUTO: ATNX: MBIO: NLS: RNWK: EGY: HIMX: ABT: BNED: JWN: ZS: FRFR: ARVN: MDLY: IVST - thread num: 6  -  99 / 103\n"
     ]
    },
    {
     "name": "stderr",
     "output_type": "stream",
     "text": [
      "\n",
      "Thread num: 2:  94%|███████████████████████████████████████████████████████▌   | 97/103 [48:38:52<3:30:08, 2101.40s/it]\u001b[A"
     ]
    },
    {
     "name": "stdout",
     "output_type": "stream",
     "text": [
      "completed symbols AREC: NEXT: STNE: STNG: ENVB: VB: HTGM: PFMT: SWN: VRM: ACTC: ZI: NTN: AMRN: AMPY: PCG: DOW: INFI: YCBD: RCON: HGSH: MNOV: BSV: GLMD: CHGG: IDXX: VO: HX: BLOK: VSTM: MAXR: MTP: SLS: WBA: FINV: EVC: LIT: BEP: BLIN: CAPR: PRNT: AAXN: PSFE: KIQ: MPC: BIIB: SINO: NNVC: PLIN: ILMN: DOGZ: SFTW: GSX: TECL: UMC: CLRB: MITO: POWW: GDX: PAYS: CHNR: CLII: CTIB: VVUSQ: KERN: EDR: ATVI: RCMT: QDEL: CZR: FSLR: XCUR: STKL: LLY: PECK: DMTK: TRPX: JENGQ: GECC: PMF: ARRY: IMRN: COP: EVGN: IQ: RUBY: VGZ: COUP: EXPI: UMRX: THCX: SNCR: CASI: DFEN: KCAC: MREO: REML - thread num: 2  -  97 / 103\n"
     ]
    },
    {
     "name": "stderr",
     "output_type": "stream",
     "text": [
      "\r",
      "Thread num: 0:  93%|██████████████████████████████████████████████████████▉    | 96/103 [48:40:37<4:34:40, 2354.33s/it]"
     ]
    },
    {
     "name": "stdout",
     "output_type": "stream",
     "text": [
      "completed symbols ENOB: MUDS: IZEA: ONCY: RNET: OVID: LMT: MRK: BIG: SI: VTGN: SVM: THMO: DPZ: KOPN: TIGR: INTU: HUSA: DFS: VZIO: APOP: MCHI: GOL: TAOP: GILD: ACCD: GDRX: FREQ: POSH: RMO: GLSI: AVCT: ZKIN: ABEV: ARLO: MDGS: YGMZ: VOOG: CKPT: DRIV: MAR: FNGD: GIK: SONO: ODT: FANG: BNTC: ADIL: ORTX: IPOB: AQMS: CNDT: ABIO: KSS: CMPD: GPS: HAL: ACIC: TSN: PHIO: VRTX: XPEL: XM: BTU: CJJD: OTRK: HOTH: DRI: APVO: Z: CPNG: MYSZ: HDSN: LLNW: BTE: GOEV: PED: SFET: GOVX: TWO: EHTH: JG: BGI: RDSA: SHV: CRTD: UNM: LCTX: WTER: CPSH: GTT: FROG: WM: SIVB: UEC: UBX - thread num: 0  -  96 / 103\n"
     ]
    },
    {
     "name": "stderr",
     "output_type": "stream",
     "text": [
      "\n",
      "\n",
      "Thread num: 4:  91%|█████████████████████████████████████████████████████▊     | 94/103 [48:41:47<5:01:41, 2011.29s/it]\u001b[A\u001b[A"
     ]
    },
    {
     "name": "stdout",
     "output_type": "stream",
     "text": [
      "completed symbols NH: SNCA: TGA: VBK: ATOM: MKD: TRUL: NLSP: SPLK: SCHO: ALRN: DISCB: TMUS: WIX: SDC: CTEK: PEIX: FAZ: SNGX: AIV: BETZ: ELYS: ORCL: CARV: CAT: AA: CFMS: AQB: MITT: MELI: HMY: SCYX: OXLC: RTX: PBI: WAFU: CTIC: RAD: NXE: SRAC: AMAT: MINT: SIRI: CNSP: MRKR: GHVI: SLDB: PEP: DRRX: IIPR: SVXY: PULM: EVOL: WORX: TEVA: SPXU: VBR: GLUU: SKT: BIL: LGND: SEDG: FRX: XLE: LYFT: SUN: CNET: ERIC: PPBT: BCRX: YJ: ANTE: NOW: RAIL: WNW: GNLN: BCDA: BAM: YRCW: CVEO: VOC: SWKS: OBSV: MOON: BTG: UPWK: HON: OKTA: CHS: PIC: AVGO: LYL: AVXL: UPST - thread num: 4  -  94 / 103\n"
     ]
    },
    {
     "name": "stderr",
     "output_type": "stream",
     "text": [
      "\n",
      "\n",
      "\n",
      "\n",
      "\n",
      "\n",
      "Thread num: 1: 100%|████████████████████████████████████████████████████████████| 103/103 [48:42:50<00:00, 1702.62s/it]\u001b[A\u001b[A\u001b[A\u001b[A\u001b[A\u001b[A"
     ]
    },
    {
     "name": "stdout",
     "output_type": "stream",
     "text": [
      "completed symbols EGYF: SFIX: NTDOY: SFT: QID: AXP: PSEC: CLPS: KTRA: LC: QD: EKSO: DG: UPRO: THBR: GTHX: ADTX: AUMN: CGIX: BHR: NETE: SPRT: EVRI: CORR: HIBS: CANF: RESN: BOIL: MNMD: SHY: VCNX: NUGT: TCEHY: FTCV: AMTX: FBIO: BVXV: GEENQ: SNES: POTX: AACG: HGEND: AIRI: IEZ: ACY: QLD: TENX: SAN: EPD: XBIO: LGVW: GTEC: RGLS: CVX: DYNT: STCN: AMRS: ETM: FNMA: MLND: VIR: KGC: CYH: SLVO: FUTU: VWO: CCI: CUEN: PSQ: IMTE: HSDT: SGLB: MSOS: BKNG: NK: APA: BWEN: BJ: RRD: APTO: PAVM: GLBS: QUBT: AKER: GILT: NEAR: NBEV: ENDP: DQ: MESA: RDFN: CWBR: MTSL: VSLR: UUUU: SLNO: AGE: YTRA: MAC: BLDP: MGNI: NCNO: SONM - thread num: 1  -  103 / 103\n"
     ]
    },
    {
     "name": "stderr",
     "output_type": "stream",
     "text": [
      "\n",
      "\n",
      "\n",
      "\n",
      "\n",
      "Thread num: 5:  90%|█████████████████████████████████████████████████████▎     | 93/103 [48:44:34<6:19:26, 2276.67s/it]\u001b[A\u001b[A\u001b[A\u001b[A"
     ]
    },
    {
     "name": "stdout",
     "output_type": "stream",
     "text": [
      "completed symbols EQ: GRIL: UA: LBYYQ: ITUB: EQOS: XERS: FSM: CSIQ: ASAN: QYLD: MGI: PG: MRVL: AESE: OKE: MESO: MRIN: HIBL: SDS: AG: CRIS: CPRX: MIK: ASM: AGQ: ERX: VIG: CLDR: QCLN: IMV: GNOG: ASML: REGN: CATB: ARKX: CHX: JAMF: GPL: XAN: AAME: MIST: TGI: VOE: SPYD: ALJJ: MOXC: PETZ: TUP: AQST: MO: VV: CSLT: HUGE: ZEST: SPR: FE: VEA: ARNC: DSS: NGA: SMH: XONE: JILL: DOG: CREX: APRE: ATHE: FTRCQ: LAIX: LB: WPRT: GBR: UPC: SRNGU: XLK: EVOK: TIRX: LAKE: SOXS: HYD: ADYX: AZEK: VYNE: VERB: FORD: APWC: SGBX: SABR: CSCO: BSQR: SAM: NVUS - thread num: 5  -  93 / 103\n"
     ]
    },
    {
     "name": "stderr",
     "output_type": "stream",
     "text": [
      "\n",
      "Thread num: 2:  95%|████████████████████████████████████████████████████████▏  | 98/103 [48:55:07<2:26:57, 1763.40s/it]\u001b[A"
     ]
    },
    {
     "name": "stdout",
     "output_type": "stream",
     "text": [
      "completed symbols AREC: NEXT: STNE: STNG: ENVB: VB: HTGM: PFMT: SWN: VRM: ACTC: ZI: NTN: AMRN: AMPY: PCG: DOW: INFI: YCBD: RCON: HGSH: MNOV: BSV: GLMD: CHGG: IDXX: VO: HX: BLOK: VSTM: MAXR: MTP: SLS: WBA: FINV: EVC: LIT: BEP: BLIN: CAPR: PRNT: AAXN: PSFE: KIQ: MPC: BIIB: SINO: NNVC: PLIN: ILMN: DOGZ: SFTW: GSX: TECL: UMC: CLRB: MITO: POWW: GDX: PAYS: CHNR: CLII: CTIB: VVUSQ: KERN: EDR: ATVI: RCMT: QDEL: CZR: FSLR: XCUR: STKL: LLY: PECK: DMTK: TRPX: JENGQ: GECC: PMF: ARRY: IMRN: COP: EVGN: IQ: RUBY: VGZ: COUP: EXPI: UMRX: THCX: SNCR: CASI: DFEN: KCAC: MREO: REML: BTWN - thread num: 2  -  98 / 103\n"
     ]
    },
    {
     "name": "stderr",
     "output_type": "stream",
     "text": [
      "\n",
      "\n",
      "\n",
      "Thread num: 6:  97%|████████████████████████████████████████████████████████▎ | 100/103 [48:58:28<1:22:42, 1654.12s/it]\u001b[A\u001b[A\u001b[A"
     ]
    },
    {
     "name": "stdout",
     "output_type": "stream",
     "text": [
      "completed symbols GPRO: CVAC: IRTC: IRM: RWLK: ACI: MGEN: FMCC: PK: CLX: SCO: TMDI: NBAC: AGNC: ABEO: RAVE: CPPRQ: CHKAQ: CRON: GIGM: WPG: XELB: QTT: VXUS: RMG: VTEB: TGC: NYMT: UGAZF: EXK: CLEU: APPH: ANCN: SM: TH: BHTG: HCDI: PZC: SCHD: GS: NIU: PSX: AUY: ZNOG: BIMI: GAU: VERI: ALK: EXPE: IFMK: GORO: ANPC: GDXJ: BEST: SGOL: HL: ZYNE: SONY: PDD: PDSB: MDRR: COF: AEMD: SCHB: LYV: DIG: CBLI: ANIX: CLVS: NDRA: GCI: SRTY: NVTA: LABU: IPOC: LRCX: IVV: UNH: ESGC: SNMP: SNPR: ARCT: SSY: CRNT: AUTO: ATNX: MBIO: NLS: RNWK: EGY: HIMX: ABT: BNED: JWN: ZS: FRFR: ARVN: MDLY: IVST: BAND - thread num: 6  -  100 / 103\n"
     ]
    },
    {
     "name": "stderr",
     "output_type": "stream",
     "text": [
      "\r",
      "Thread num: 0:  94%|███████████████████████████████████████████████████████▌   | 97/103 [49:03:10<3:25:23, 2053.99s/it]"
     ]
    },
    {
     "name": "stdout",
     "output_type": "stream",
     "text": [
      "completed symbols ENOB: MUDS: IZEA: ONCY: RNET: OVID: LMT: MRK: BIG: SI: VTGN: SVM: THMO: DPZ: KOPN: TIGR: INTU: HUSA: DFS: VZIO: APOP: MCHI: GOL: TAOP: GILD: ACCD: GDRX: FREQ: POSH: RMO: GLSI: AVCT: ZKIN: ABEV: ARLO: MDGS: YGMZ: VOOG: CKPT: DRIV: MAR: FNGD: GIK: SONO: ODT: FANG: BNTC: ADIL: ORTX: IPOB: AQMS: CNDT: ABIO: KSS: CMPD: GPS: HAL: ACIC: TSN: PHIO: VRTX: XPEL: XM: BTU: CJJD: OTRK: HOTH: DRI: APVO: Z: CPNG: MYSZ: HDSN: LLNW: BTE: GOEV: PED: SFET: GOVX: TWO: EHTH: JG: BGI: RDSA: SHV: CRTD: UNM: LCTX: WTER: CPSH: GTT: FROG: WM: SIVB: UEC: UBX: ASO - thread num: 0  -  97 / 103\n"
     ]
    },
    {
     "name": "stderr",
     "output_type": "stream",
     "text": [
      "\n",
      "\n",
      "\n",
      "\n",
      "Thread num: 5:  91%|█████████████████████████████████████████████████████▊     | 94/103 [49:16:30<5:25:15, 2168.42s/it]\u001b[A\u001b[A\u001b[A\u001b[A"
     ]
    },
    {
     "name": "stdout",
     "output_type": "stream",
     "text": [
      "completed symbols EQ: GRIL: UA: LBYYQ: ITUB: EQOS: XERS: FSM: CSIQ: ASAN: QYLD: MGI: PG: MRVL: AESE: OKE: MESO: MRIN: HIBL: SDS: AG: CRIS: CPRX: MIK: ASM: AGQ: ERX: VIG: CLDR: QCLN: IMV: GNOG: ASML: REGN: CATB: ARKX: CHX: JAMF: GPL: XAN: AAME: MIST: TGI: VOE: SPYD: ALJJ: MOXC: PETZ: TUP: AQST: MO: VV: CSLT: HUGE: ZEST: SPR: FE: VEA: ARNC: DSS: NGA: SMH: XONE: JILL: DOG: CREX: APRE: ATHE: FTRCQ: LAIX: LB: WPRT: GBR: UPC: SRNGU: XLK: EVOK: TIRX: LAKE: SOXS: HYD: ADYX: AZEK: VYNE: VERB: FORD: APWC: SGBX: SABR: CSCO: BSQR: SAM: NVUS: ZVO - thread num: 5  -  94 / 103\n"
     ]
    },
    {
     "name": "stderr",
     "output_type": "stream",
     "text": [
      "\n",
      "\n",
      "Thread num: 4:  92%|██████████████████████████████████████████████████████▍    | 95/103 [49:26:01<4:53:53, 2204.16s/it]\u001b[A\u001b[A"
     ]
    },
    {
     "name": "stdout",
     "output_type": "stream",
     "text": [
      "completed symbols NH: SNCA: TGA: VBK: ATOM: MKD: TRUL: NLSP: SPLK: SCHO: ALRN: DISCB: TMUS: WIX: SDC: CTEK: PEIX: FAZ: SNGX: AIV: BETZ: ELYS: ORCL: CARV: CAT: AA: CFMS: AQB: MITT: MELI: HMY: SCYX: OXLC: RTX: PBI: WAFU: CTIC: RAD: NXE: SRAC: AMAT: MINT: SIRI: CNSP: MRKR: GHVI: SLDB: PEP: DRRX: IIPR: SVXY: PULM: EVOL: WORX: TEVA: SPXU: VBR: GLUU: SKT: BIL: LGND: SEDG: FRX: XLE: LYFT: SUN: CNET: ERIC: PPBT: BCRX: YJ: ANTE: NOW: RAIL: WNW: GNLN: BCDA: BAM: YRCW: CVEO: VOC: SWKS: OBSV: MOON: BTG: UPWK: HON: OKTA: CHS: PIC: AVGO: LYL: AVXL: UPST: KR - thread num: 4  -  95 / 103\n"
     ]
    },
    {
     "name": "stderr",
     "output_type": "stream",
     "text": [
      "\n",
      "Thread num: 2:  96%|████████████████████████████████████████████████████████▋  | 99/103 [49:31:09<2:05:32, 1883.05s/it]\u001b[A"
     ]
    },
    {
     "name": "stdout",
     "output_type": "stream",
     "text": [
      "completed symbols AREC: NEXT: STNE: STNG: ENVB: VB: HTGM: PFMT: SWN: VRM: ACTC: ZI: NTN: AMRN: AMPY: PCG: DOW: INFI: YCBD: RCON: HGSH: MNOV: BSV: GLMD: CHGG: IDXX: VO: HX: BLOK: VSTM: MAXR: MTP: SLS: WBA: FINV: EVC: LIT: BEP: BLIN: CAPR: PRNT: AAXN: PSFE: KIQ: MPC: BIIB: SINO: NNVC: PLIN: ILMN: DOGZ: SFTW: GSX: TECL: UMC: CLRB: MITO: POWW: GDX: PAYS: CHNR: CLII: CTIB: VVUSQ: KERN: EDR: ATVI: RCMT: QDEL: CZR: FSLR: XCUR: STKL: LLY: PECK: DMTK: TRPX: JENGQ: GECC: PMF: ARRY: IMRN: COP: EVGN: IQ: RUBY: VGZ: COUP: EXPI: UMRX: THCX: SNCR: CASI: DFEN: KCAC: MREO: REML: BTWN: HUYA - thread num: 2  -  99 / 103\n"
     ]
    },
    {
     "name": "stderr",
     "output_type": "stream",
     "text": [
      "\n",
      "\n",
      "\n",
      "Thread num: 6:  98%|██████████████████████████████████████████████████████████▊ | 101/103 [49:31:43<58:32, 1756.11s/it]\u001b[A\u001b[A\u001b[A"
     ]
    },
    {
     "name": "stdout",
     "output_type": "stream",
     "text": [
      "completed symbols GPRO: CVAC: IRTC: IRM: RWLK: ACI: MGEN: FMCC: PK: CLX: SCO: TMDI: NBAC: AGNC: ABEO: RAVE: CPPRQ: CHKAQ: CRON: GIGM: WPG: XELB: QTT: VXUS: RMG: VTEB: TGC: NYMT: UGAZF: EXK: CLEU: APPH: ANCN: SM: TH: BHTG: HCDI: PZC: SCHD: GS: NIU: PSX: AUY: ZNOG: BIMI: GAU: VERI: ALK: EXPE: IFMK: GORO: ANPC: GDXJ: BEST: SGOL: HL: ZYNE: SONY: PDD: PDSB: MDRR: COF: AEMD: SCHB: LYV: DIG: CBLI: ANIX: CLVS: NDRA: GCI: SRTY: NVTA: LABU: IPOC: LRCX: IVV: UNH: ESGC: SNMP: SNPR: ARCT: SSY: CRNT: AUTO: ATNX: MBIO: NLS: RNWK: EGY: HIMX: ABT: BNED: JWN: ZS: FRFR: ARVN: MDLY: IVST: BAND: SPHD - thread num: 6  -  101 / 103\n"
     ]
    },
    {
     "name": "stderr",
     "output_type": "stream",
     "text": [
      "\n",
      "Thread num: 2:  97%|████████████████████████████████████████████████████████▎ | 100/103 [49:32:05<1:06:44, 1334.99s/it]\u001b[A"
     ]
    },
    {
     "name": "stdout",
     "output_type": "stream",
     "text": [
      "completed symbols AREC: NEXT: STNE: STNG: ENVB: VB: HTGM: PFMT: SWN: VRM: ACTC: ZI: NTN: AMRN: AMPY: PCG: DOW: INFI: YCBD: RCON: HGSH: MNOV: BSV: GLMD: CHGG: IDXX: VO: HX: BLOK: VSTM: MAXR: MTP: SLS: WBA: FINV: EVC: LIT: BEP: BLIN: CAPR: PRNT: AAXN: PSFE: KIQ: MPC: BIIB: SINO: NNVC: PLIN: ILMN: DOGZ: SFTW: GSX: TECL: UMC: CLRB: MITO: POWW: GDX: PAYS: CHNR: CLII: CTIB: VVUSQ: KERN: EDR: ATVI: RCMT: QDEL: CZR: FSLR: XCUR: STKL: LLY: PECK: DMTK: TRPX: JENGQ: GECC: PMF: ARRY: IMRN: COP: EVGN: IQ: RUBY: VGZ: COUP: EXPI: UMRX: THCX: SNCR: CASI: DFEN: KCAC: MREO: REML: BTWN: HUYA: PIR - thread num: 2  -  100 / 103\n"
     ]
    },
    {
     "name": "stderr",
     "output_type": "stream",
     "text": [
      "\r",
      "Thread num: 0:  95%|████████████████████████████████████████████████████████▏  | 98/103 [49:34:53<2:47:23, 2008.69s/it]"
     ]
    },
    {
     "name": "stdout",
     "output_type": "stream",
     "text": [
      "completed symbols ENOB: MUDS: IZEA: ONCY: RNET: OVID: LMT: MRK: BIG: SI: VTGN: SVM: THMO: DPZ: KOPN: TIGR: INTU: HUSA: DFS: VZIO: APOP: MCHI: GOL: TAOP: GILD: ACCD: GDRX: FREQ: POSH: RMO: GLSI: AVCT: ZKIN: ABEV: ARLO: MDGS: YGMZ: VOOG: CKPT: DRIV: MAR: FNGD: GIK: SONO: ODT: FANG: BNTC: ADIL: ORTX: IPOB: AQMS: CNDT: ABIO: KSS: CMPD: GPS: HAL: ACIC: TSN: PHIO: VRTX: XPEL: XM: BTU: CJJD: OTRK: HOTH: DRI: APVO: Z: CPNG: MYSZ: HDSN: LLNW: BTE: GOEV: PED: SFET: GOVX: TWO: EHTH: JG: BGI: RDSA: SHV: CRTD: UNM: LCTX: WTER: CPSH: GTT: FROG: WM: SIVB: UEC: UBX: ASO: OIIM - thread num: 0  -  98 / 103\n"
     ]
    }
   ],
   "source": [
    "for allt in allthreads:\n",
    "    allt.start()\n",
    "    \n",
    "for index, thread in enumerate(allthreads):\n",
    "    logging.info(\"Main    : before joining thread %d.\", index)\n",
    "    thread.join()\n",
    "    logging.info(\"Main    : thread %d done\", index)"
   ]
  },
  {
   "cell_type": "code",
   "execution_count": null,
   "metadata": {},
   "outputs": [],
   "source": []
  },
  {
   "cell_type": "code",
   "execution_count": null,
   "metadata": {},
   "outputs": [],
   "source": []
  },
  {
   "cell_type": "code",
   "execution_count": null,
   "metadata": {},
   "outputs": [],
   "source": []
  },
  {
   "cell_type": "code",
   "execution_count": null,
   "metadata": {},
   "outputs": [],
   "source": []
  },
  {
   "cell_type": "code",
   "execution_count": 28,
   "metadata": {},
   "outputs": [
    {
     "data": {
      "text/plain": [
       "'j'"
      ]
     },
     "execution_count": 28,
     "metadata": {},
     "output_type": "execute_result"
    }
   ],
   "source": [
    "\"j\""
   ]
  },
  {
   "cell_type": "code",
   "execution_count": null,
   "metadata": {},
   "outputs": [],
   "source": []
  },
  {
   "cell_type": "code",
   "execution_count": null,
   "metadata": {},
   "outputs": [],
   "source": []
  },
  {
   "cell_type": "code",
   "execution_count": null,
   "metadata": {},
   "outputs": [],
   "source": []
  },
  {
   "cell_type": "code",
   "execution_count": null,
   "metadata": {},
   "outputs": [],
   "source": []
  },
  {
   "cell_type": "code",
   "execution_count": null,
   "metadata": {},
   "outputs": [],
   "source": []
  },
  {
   "cell_type": "code",
   "execution_count": null,
   "metadata": {},
   "outputs": [],
   "source": []
  },
  {
   "cell_type": "code",
   "execution_count": null,
   "metadata": {},
   "outputs": [],
   "source": []
  },
  {
   "cell_type": "code",
   "execution_count": null,
   "metadata": {},
   "outputs": [],
   "source": []
  },
  {
   "cell_type": "code",
   "execution_count": null,
   "metadata": {},
   "outputs": [],
   "source": []
  },
  {
   "cell_type": "code",
   "execution_count": null,
   "metadata": {},
   "outputs": [],
   "source": []
  },
  {
   "cell_type": "code",
   "execution_count": null,
   "metadata": {},
   "outputs": [],
   "source": []
  },
  {
   "cell_type": "code",
   "execution_count": null,
   "metadata": {},
   "outputs": [],
   "source": []
  },
  {
   "cell_type": "code",
   "execution_count": null,
   "metadata": {},
   "outputs": [],
   "source": []
  },
  {
   "cell_type": "code",
   "execution_count": null,
   "metadata": {},
   "outputs": [],
   "source": []
  },
  {
   "cell_type": "code",
   "execution_count": null,
   "metadata": {},
   "outputs": [],
   "source": []
  },
  {
   "cell_type": "code",
   "execution_count": null,
   "metadata": {},
   "outputs": [],
   "source": []
  },
  {
   "cell_type": "code",
   "execution_count": null,
   "metadata": {},
   "outputs": [],
   "source": []
  },
  {
   "cell_type": "code",
   "execution_count": null,
   "metadata": {},
   "outputs": [],
   "source": []
  },
  {
   "cell_type": "code",
   "execution_count": null,
   "metadata": {},
   "outputs": [],
   "source": []
  },
  {
   "cell_type": "code",
   "execution_count": null,
   "metadata": {},
   "outputs": [],
   "source": []
  },
  {
   "cell_type": "code",
   "execution_count": null,
   "metadata": {},
   "outputs": [],
   "source": []
  },
  {
   "cell_type": "code",
   "execution_count": null,
   "metadata": {},
   "outputs": [],
   "source": []
  },
  {
   "cell_type": "code",
   "execution_count": null,
   "metadata": {},
   "outputs": [],
   "source": []
  },
  {
   "cell_type": "code",
   "execution_count": null,
   "metadata": {},
   "outputs": [],
   "source": []
  },
  {
   "cell_type": "code",
   "execution_count": null,
   "metadata": {},
   "outputs": [],
   "source": []
  },
  {
   "cell_type": "code",
   "execution_count": null,
   "metadata": {},
   "outputs": [],
   "source": []
  },
  {
   "cell_type": "code",
   "execution_count": null,
   "metadata": {},
   "outputs": [],
   "source": []
  },
  {
   "cell_type": "code",
   "execution_count": null,
   "metadata": {},
   "outputs": [],
   "source": []
  },
  {
   "cell_type": "code",
   "execution_count": null,
   "metadata": {},
   "outputs": [],
   "source": []
  },
  {
   "cell_type": "code",
   "execution_count": null,
   "metadata": {},
   "outputs": [],
   "source": []
  },
  {
   "cell_type": "code",
   "execution_count": null,
   "metadata": {},
   "outputs": [],
   "source": []
  },
  {
   "cell_type": "code",
   "execution_count": null,
   "metadata": {},
   "outputs": [],
   "source": []
  },
  {
   "cell_type": "code",
   "execution_count": null,
   "metadata": {},
   "outputs": [],
   "source": []
  },
  {
   "cell_type": "code",
   "execution_count": null,
   "metadata": {},
   "outputs": [],
   "source": []
  },
  {
   "cell_type": "code",
   "execution_count": null,
   "metadata": {},
   "outputs": [],
   "source": []
  },
  {
   "cell_type": "code",
   "execution_count": null,
   "metadata": {},
   "outputs": [],
   "source": []
  },
  {
   "cell_type": "code",
   "execution_count": null,
   "metadata": {},
   "outputs": [],
   "source": []
  },
  {
   "cell_type": "code",
   "execution_count": null,
   "metadata": {},
   "outputs": [],
   "source": []
  },
  {
   "cell_type": "code",
   "execution_count": null,
   "metadata": {},
   "outputs": [],
   "source": []
  },
  {
   "cell_type": "code",
   "execution_count": null,
   "metadata": {},
   "outputs": [],
   "source": []
  },
  {
   "cell_type": "code",
   "execution_count": null,
   "metadata": {},
   "outputs": [],
   "source": []
  },
  {
   "cell_type": "code",
   "execution_count": null,
   "metadata": {},
   "outputs": [],
   "source": []
  },
  {
   "cell_type": "code",
   "execution_count": null,
   "metadata": {},
   "outputs": [],
   "source": []
  },
  {
   "cell_type": "code",
   "execution_count": null,
   "metadata": {},
   "outputs": [],
   "source": []
  },
  {
   "cell_type": "code",
   "execution_count": null,
   "metadata": {},
   "outputs": [],
   "source": []
  },
  {
   "cell_type": "code",
   "execution_count": null,
   "metadata": {},
   "outputs": [],
   "source": []
  },
  {
   "cell_type": "code",
   "execution_count": null,
   "metadata": {},
   "outputs": [],
   "source": []
  },
  {
   "cell_type": "code",
   "execution_count": null,
   "metadata": {},
   "outputs": [],
   "source": []
  },
  {
   "cell_type": "code",
   "execution_count": null,
   "metadata": {},
   "outputs": [],
   "source": []
  },
  {
   "cell_type": "code",
   "execution_count": null,
   "metadata": {},
   "outputs": [],
   "source": []
  },
  {
   "cell_type": "code",
   "execution_count": null,
   "metadata": {},
   "outputs": [],
   "source": []
  },
  {
   "cell_type": "code",
   "execution_count": null,
   "metadata": {},
   "outputs": [],
   "source": []
  },
  {
   "cell_type": "code",
   "execution_count": null,
   "metadata": {},
   "outputs": [],
   "source": []
  },
  {
   "cell_type": "code",
   "execution_count": null,
   "metadata": {},
   "outputs": [],
   "source": []
  },
  {
   "cell_type": "code",
   "execution_count": null,
   "metadata": {},
   "outputs": [],
   "source": []
  },
  {
   "cell_type": "code",
   "execution_count": null,
   "metadata": {},
   "outputs": [],
   "source": []
  },
  {
   "cell_type": "code",
   "execution_count": null,
   "metadata": {},
   "outputs": [],
   "source": []
  },
  {
   "cell_type": "code",
   "execution_count": null,
   "metadata": {},
   "outputs": [],
   "source": []
  },
  {
   "cell_type": "code",
   "execution_count": null,
   "metadata": {},
   "outputs": [],
   "source": []
  },
  {
   "cell_type": "code",
   "execution_count": null,
   "metadata": {},
   "outputs": [],
   "source": []
  },
  {
   "cell_type": "code",
   "execution_count": null,
   "metadata": {},
   "outputs": [],
   "source": []
  },
  {
   "cell_type": "code",
   "execution_count": null,
   "metadata": {},
   "outputs": [],
   "source": []
  },
  {
   "cell_type": "code",
   "execution_count": null,
   "metadata": {},
   "outputs": [],
   "source": []
  },
  {
   "cell_type": "code",
   "execution_count": null,
   "metadata": {},
   "outputs": [],
   "source": []
  },
  {
   "cell_type": "code",
   "execution_count": null,
   "metadata": {},
   "outputs": [],
   "source": []
  },
  {
   "cell_type": "code",
   "execution_count": null,
   "metadata": {},
   "outputs": [],
   "source": []
  },
  {
   "cell_type": "code",
   "execution_count": null,
   "metadata": {},
   "outputs": [],
   "source": []
  },
  {
   "cell_type": "code",
   "execution_count": null,
   "metadata": {},
   "outputs": [],
   "source": []
  },
  {
   "cell_type": "code",
   "execution_count": null,
   "metadata": {},
   "outputs": [],
   "source": []
  },
  {
   "cell_type": "code",
   "execution_count": null,
   "metadata": {},
   "outputs": [],
   "source": []
  },
  {
   "cell_type": "code",
   "execution_count": null,
   "metadata": {},
   "outputs": [],
   "source": []
  },
  {
   "cell_type": "code",
   "execution_count": null,
   "metadata": {},
   "outputs": [],
   "source": []
  },
  {
   "cell_type": "code",
   "execution_count": null,
   "metadata": {},
   "outputs": [],
   "source": []
  }
 ],
 "metadata": {
  "kernelspec": {
   "display_name": "Python 3",
   "language": "python",
   "name": "python3"
  },
  "language_info": {
   "codemirror_mode": {
    "name": "ipython",
    "version": 3
   },
   "file_extension": ".py",
   "mimetype": "text/x-python",
   "name": "python",
   "nbconvert_exporter": "python",
   "pygments_lexer": "ipython3",
   "version": "3.8.5"
  }
 },
 "nbformat": 4,
 "nbformat_minor": 4
}
