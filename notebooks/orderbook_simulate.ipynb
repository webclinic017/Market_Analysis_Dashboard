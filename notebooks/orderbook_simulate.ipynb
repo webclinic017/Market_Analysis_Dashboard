{
 "cells": [
  {
   "cell_type": "code",
   "execution_count": 1,
   "source": [
    "from alpaca_trade_api.rest import REST, TimeFrame\n",
    "from alpaca_trade_api.entity import (\n",
    "    Bar, Entity, Account, AccountConfigurations, AccountActivity,\n",
    "    Asset, Order, Position, BarSet, Clock, Calendar,\n",
    "    Aggs, Trade, Quote, Watchlist, PortfolioHistory\n",
    ")\n",
    "\n",
    "api = REST(key_id=\"PKX7NWBTMYXT2JU5FBVS\", secret_key=\"FgzjEqmnoHXtDQ1vBHjGCArd1khau7Q868VkJrGA\")\n",
    "#api = REST()\n",
    "import pandas as pd\n",
    "import numpy as np\n",
    "import matplotlib.pyplot as plt\n",
    "\n"
   ],
   "outputs": [],
   "metadata": {}
  },
  {
   "cell_type": "code",
   "execution_count": 2,
   "source": [
    "class AlpacaDownloader:\n",
    "    \n",
    "    def __init__(self):\n",
    "        pass\n",
    "    \n",
    "    def get_quotes(self, symbol, start, end, limit=10000):\n",
    "        return api.get_quotes(symbol, start, end, limit=limit).df\n",
    "\n",
    "    \n",
    "    def get_trades(self, symbol, start, end, limit=10000):\n",
    "        return api.get_trades(symbol, start, end, limit = limit).df\n",
    "\n",
    "\n",
    "    def get_bars(self, symbol, start, end, interval=TimeFrame.Minute, limit=10000):\n",
    "        return api.get_bars(symbol, interval, start, end, limit=limit).df\n",
    "\n",
    "ad = AlpacaDownloader()"
   ],
   "outputs": [],
   "metadata": {}
  },
  {
   "cell_type": "code",
   "execution_count": null,
   "source": [
    "aapl_trades = ad.get_trades(\"AAPL\", \"2021-08-01\", \"2021-08-31\", limit=30000000)\n",
    "aapl_quotes = ad.get_quotes(\"AAPL\", \"2021-08-01\", \"2021-08-31\", limit=30000000)\n",
    "aapl_bars = ad.get_bars(\"AAPL\", \"2021-08-01\", \"2021-08-31\", limit=30000000)\n"
   ],
   "outputs": [],
   "metadata": {}
  }
 ],
 "metadata": {
  "orig_nbformat": 4,
  "language_info": {
   "name": "python",
   "version": "3.8.5",
   "mimetype": "text/x-python",
   "codemirror_mode": {
    "name": "ipython",
    "version": 3
   },
   "pygments_lexer": "ipython3",
   "nbconvert_exporter": "python",
   "file_extension": ".py"
  },
  "kernelspec": {
   "name": "python3",
   "display_name": "Python 3.8.5 64-bit ('base': conda)"
  },
  "interpreter": {
   "hash": "af39edf3f863786b3dce9c1c59f83c4cf48373310ad92ed85d8f8a1741430cbd"
  }
 },
 "nbformat": 4,
 "nbformat_minor": 2
}