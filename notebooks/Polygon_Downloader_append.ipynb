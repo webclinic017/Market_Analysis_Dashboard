{
 "cells": [
  {
   "cell_type": "code",
   "execution_count": 1,
   "metadata": {},
   "outputs": [],
   "source": [
    "from tqdm import tqdm\n",
    "import sys\n",
    "sys.path.append(\"../\")\n",
    "from threading import Thread\n",
    "import numpy as np\n",
    "import os\n",
    "import time\n",
    "import datetime\n",
    "import pandas as pd\n",
    "import pandas_market_calendars as mcal\n",
    "from polygon import RESTClient\n",
    "#from tqdm.notebook import tqdm\n",
    "import time\n",
    "import pytz\n",
    "eastern = 'US/Eastern'"
   ]
  },
  {
   "cell_type": "code",
   "execution_count": 2,
   "metadata": {},
   "outputs": [],
   "source": [
    "import threading\n",
    "import time\n",
    "import logging\n",
    "import random\n",
    "from multiprocessing import Queue\n",
    "pd.options.mode.chained_assignment = None  # default='warn'\n"
   ]
  },
  {
   "cell_type": "code",
   "execution_count": 3,
   "metadata": {},
   "outputs": [],
   "source": [
    "done = False\n",
    "lck = threading.Lock()\n"
   ]
  },
  {
   "cell_type": "code",
   "execution_count": 4,
   "metadata": {},
   "outputs": [],
   "source": [
    "trade_map={\"I\":\"orig_id\",\"x\":\"exchange\",\"p\":\"price\",\"i\":\"id\",\"e\":\"correction\",\"r\":\"trf_id\",\"t\":\"sip_timestamp\",\"y\":\"participant_timestamp\",\"f\":\"trf_timestamp\",\"q\":\"sequence_number\",\"c\":\"conditions\",\"s\":\"size\",\"z\":\"tape\"\n",
    "}\n",
    "\n",
    "trade_conditions = {'0': 'Regular', '1': 'Acquisition', '2': 'AveragePrice', '3': 'AutomaticExecution', '4': 'Bunched', '5': 'BunchSold', '6': 'CAPElection', '7': 'CashTrade', '8': 'Closing', '9': 'Cross', '10': 'DerivativelyPriced', '11': 'Distribution', '12': 'FormT(ExtendedHours)', '13': 'FormTOutOfSequence', '14': 'InterMarketSweep', '15': 'MarketCenterOfficialClose', '16': 'MarketCenterOfficialOpen', '17': 'MarketCenterOpening', '18': 'MarketCenterReOpenning', '19': 'MarketCenterClosing', '20': 'NextDay', '21': 'PriceVariation', '22': 'PriorReferencePrice', '23': 'Rule155Amex', '24': 'Rule127Nyse', '25': 'Opening', '26': 'Opened', '27': 'RegularStoppedStock', '28': 'ReOpening', '29': 'Seller', '30': 'SoldLast', '31': 'SoldLastStoppedStock', '32': 'SoldOutOfSequence', '33': 'SoldOutOfSequenceStoppedStock', '34': 'Split', '35': 'StockOption', '36': 'YellowFlag', '37': 'OddLot', '38': 'CorrectedConsolidatedClosePrice', '39': 'Unknown', '40': 'Held', '41': 'TradeThruExempt', '42': 'NonEligible', '43': 'NonEligible-extended', '44': 'Cancelled', '45': 'Recovery', '46': 'Correction', '47': 'AsOf', '48': 'AsOfCorrection', '49': 'AsOfCancel', '50': 'OOB', '51': 'Summary', '52': 'Contingent', '53': 'Contingent(Qualified)', '54': 'Errored'}\n"
   ]
  },
  {
   "cell_type": "code",
   "execution_count": 5,
   "metadata": {},
   "outputs": [],
   "source": [
    "key = \"qRFktbNL6A_WzaFhqR80IllApsmjPY6a\"\n",
    "def convert_conditions(obj):\n",
    "    the_list = obj\n",
    "    the_list = [str(intt) for intt in the_list]\n",
    "    \n",
    "    for l in the_list:\n",
    "        if l.strip() == \"\":\n",
    "            l = '-999'\n",
    "    return ', '.join(the_list)\n",
    "def ts_to_datetime(ts) -> str:\n",
    "    return datetime.datetime.fromtimestamp(ts / 1000.0).strftime('%Y-%m-%d %H:%M')\n",
    "\n",
    "def get_list_of_Exchanges():\n",
    "\n",
    "    with RESTClient(key) as client:\n",
    "        respex = client.stocks_equities_exchanges()\n",
    "\n",
    "        stock_exchanges = respex.exchange\n",
    "        exchange_list_dict = {}\n",
    "\n",
    "        for i in stock_exchanges:\n",
    "            the_dict = {}\n",
    "            the_dict[i.i_d_of_the_exchange] = i.name\n",
    "            #exchange_list_dict.append(the_dict)\n",
    "            exchange_list_dict[i.i_d_of_the_exchange] = i.name\n",
    "        return exchange_list_dict\n",
    "\n",
    "def get_list_of_trade_conditions():\n",
    "\n",
    "    with RESTClient(key) as client:\n",
    "        respex = client.stocks_equities_condition_mappings()\n",
    "\n",
    "        stock_exchanges = respex.exchange\n",
    "        exchange_list_dict = {}\n",
    "\n",
    "        for i in stock_exchanges:\n",
    "            the_dict = {}\n",
    "            the_dict[i.i_d_of_the_exchange] = i.name\n",
    "            #exchange_list_dict.append(the_dict)\n",
    "            exchange_list_dict[i.i_d_of_the_exchange] = i.name\n",
    "        return exchange_list_dict\n",
    "    \n",
    "def update_condition_labels(keyFunction, values):\n",
    "    k =  list(keyFunction[str(v)] for v in list(values))\n",
    "    return \", \".join(k)"
   ]
  },
  {
   "cell_type": "code",
   "execution_count": 6,
   "metadata": {},
   "outputs": [],
   "source": [
    "def etf_save_aggregate_data(symbol, df, date, url, group):\n",
    "    #global lck\n",
    "    \n",
    "    file_path = os.path.join(url,'aggregated_1000_th'+str(group)+'.csv')\n",
    "    \n",
    "    if os.path.exists(file_path):\n",
    "        #lck.acquire()\n",
    "        \n",
    "        \n",
    "#         tmp_df = pd.read_csv(file_path)\n",
    "\n",
    "#         tmpdf2 = tmp_df.append(df)\n",
    "    \n",
    "#         tmpdf2.to_csv(file_path, index=False)\n",
    "\n",
    "        with open(file_path, mode = 'a') as f:\n",
    "            df.to_csv(f, header=f.tell()==0)\n",
    "        \n",
    "        #lck.release()\n",
    "    else:\n",
    "        #df = df.iloc[: , 1:]\n",
    "        df.to_csv(file_path)      \n"
   ]
  },
  {
   "cell_type": "code",
   "execution_count": 7,
   "metadata": {},
   "outputs": [],
   "source": [
    "def calculate_group_vwap(df):\n",
    "    \n",
    "    df['pxs']= df['price'] * df['size']\n",
    "    numerator=df['pxs'].sum()\n",
    "    denom = df['size'].sum()\n",
    "    vwap= numerator/denom\n",
    "    return vwap"
   ]
  },
  {
   "cell_type": "code",
   "execution_count": 8,
   "metadata": {},
   "outputs": [],
   "source": [
    "def data_preprocessing(trades, day):\n",
    "    \n",
    "    trades_data = trades\n",
    "    \n",
    "    for tr in trades_data:\n",
    "        keys = tr.keys()\n",
    "        if 'c' in keys:\n",
    "            tr['c'] = convert_conditions(tr['c'])\n",
    "    \n",
    "    trades_df = pd.DataFrame(trades_data).rename(columns=trade_map)\n",
    "    \n",
    "    trades_df['date'] = day\n",
    "    trades_df['raw_sip_timestamp'] = trades_df['sip_timestamp']\n",
    "    trades_df['raw_participant_timestamp'] =trades_df['participant_timestamp']\n",
    "\n",
    "    trades_df['sip_timestamp'] =pd.to_datetime(trades_df['sip_timestamp']).dt.tz_localize('utc').dt.tz_convert(eastern)\n",
    "    trades_df['participant_timestamp'] =pd.to_datetime(trades_df['participant_timestamp']).dt.tz_localize('utc').dt.tz_convert(eastern)\n",
    "\n",
    "    trades_df['hours'] = trades_df['sip_timestamp'].apply(lambda x: x.hour)\n",
    "    trades_df['minutes'] = trades_df['sip_timestamp'].apply(lambda x: x.minute)\n",
    "    trades_df['seconds'] = trades_df['sip_timestamp'].apply(lambda x: x.second)\n",
    "    trades_df['time']=trades_df['sip_timestamp'].dt.time\n",
    "    trades_df['time_string']=trades_df['sip_timestamp'].apply(lambda x: str(x.hour)+':'+str(x.minute)+':'+str(x.second))\n",
    "    trades_df['conditions_string'] = trades_df['conditions']\n",
    "    \n",
    "    return trades_df\n",
    "\n",
    "def get_trades_all(ticker, date, size):\n",
    "    total_data = []\n",
    "    lasttimestamp = 0\n",
    "    while True:\n",
    "        try:\n",
    "            with RESTClient(key) as client:\n",
    "                if lasttimestamp == 0:\n",
    "                    resp = client.historic_trades_v2(ticker=str(ticker).upper(), date=date, limit=size, reverse=False)\n",
    "                else:\n",
    "                    resp = client.historic_trades_v2(ticker=str(ticker).upper(), date=date, timestamp = lasttimestamp, limit=size, reverse=False)\n",
    "                result = resp.__dict__\n",
    "                if \"results\" in result:\n",
    "                    result = result['results']\n",
    "                else:\n",
    "                    break\n",
    "                \n",
    "                try:\n",
    "                    lasttimestamp = result[-1]['t']\n",
    "                    total_data.extend(result)\n",
    "                except:\n",
    "                    #print(\"error last timestamp - \"+ ticker)\n",
    "                    break\n",
    "                    \n",
    "                if len(result) == 50000:\n",
    "                    continue\n",
    "                else:\n",
    "                    break\n",
    "        except:\n",
    "            #print(\"error get all - \"+ ticker)\n",
    "            break\n",
    "                \n",
    "    return total_data"
   ]
  },
  {
   "cell_type": "code",
   "execution_count": 9,
   "metadata": {},
   "outputs": [],
   "source": [
    "def chunks(lst, n):\n",
    "    \"\"\"Yield successive n-sized chunks from lst.\"\"\"\n",
    "    for i in range(0, len(lst), n):\n",
    "        yield lst[i:i + n]\n",
    "\n",
    "def get_valid_trading_days_for_range(start, end, n):\n",
    "    nyse = mcal.get_calendar('NYSE')\n",
    "    days = nyse.valid_days(start_date=start, end_date=end)\n",
    "    days = [x.strftime('%Y-%m-%d') for x in days]\n",
    "    \n",
    "    if n > len(days):\n",
    "        return list(days)\n",
    "    nn = n-1\n",
    "    return list(days)[-nn:]"
   ]
  },
  {
   "cell_type": "code",
   "execution_count": 10,
   "metadata": {},
   "outputs": [],
   "source": [
    "\n",
    "def extract_qualified_symbols(df, plvl, advlvl):\n",
    "    qualified = df[(df.p_lvl == plvl) & (df.adv_lvl == advlvl)]\n",
    "    return qualified\n",
    "\n",
    "\n",
    "\n",
    "def extract_opening_data(trades_df):\n",
    "    trades_df['conditions_string'] = trades_df['conditions'].astype(str)\n",
    "    open_= trades_df[trades_df.conditions_string.str.contains(\"16\")]\n",
    "\n",
    "    open_ = open_.sort_values('size',ascending=False)\n",
    "\n",
    "    open_price= list(open_['price'])[0]\n",
    "    open_size= list(open_['size'])[0]\n",
    "    open_datetime = list(open_['sip_timestamp'])\n",
    "    open_time = list(open_['sip_timestamp'].dt.time)[0]\n",
    "\n",
    "    to_return = {\n",
    "        'open_price':open_price,\n",
    "        'open_time':open_time,\n",
    "        'open_time_string':str(open_time.strftime(\"%H:%M:%S\")),\n",
    "        'open_size':open_size\n",
    "    }\n",
    "    \n",
    "    return to_return\n",
    "\n",
    "def extract_closing_data(trades_df):\n",
    "    \n",
    "    close= trades_df[trades_df.conditions_string.str.contains(\"15\")]\n",
    "    \n",
    "    \n",
    "    close = close.sort_values('size',ascending=False)\n",
    "    close_price= list(close['price'])[0]\n",
    "    close_size= list(close['size'])[0]\n",
    "    close_datetime = list(close['sip_timestamp'])[0]\n",
    "    close_time = list(close['sip_timestamp'].dt.time)[0]\n",
    "    day = list(close['sip_timestamp'].dt.date)[0]\n",
    "\n",
    "    to_return = {\n",
    "        'close_price':close_price,\n",
    "        'close_time': close_time,\n",
    "        'close_time_string':str(close_time.strftime(\"%H:%M:%S\")),\n",
    "        'close_size':close_size,\n",
    "        'day':day\n",
    "    }\n",
    "    return to_return\n",
    "\n",
    "def aggregate_premarket_data(trades_df, open_time):\n",
    "    premarket= trades_df[trades_df.time < open_time]\n",
    "    pre_max_price = premarket.price.max()\n",
    "    pre_min_price = premarket.price.min()\n",
    "    pre_std_price = premarket.price.std()\n",
    "    pre_median_price = premarket.price.quantile(0.5)\n",
    "    pre_volume = premarket.size.sum()\n",
    "    out = calculate_group_vwap(premarket)\n",
    "    #df = df.assign(VWAP=((volume * price).cumsum() / vol.cumsum()).ffill())\n",
    "\n",
    "    \n",
    "    to_return = {\n",
    "        'pre_max_price':pre_max_price,\n",
    "        'pre_min_price': pre_min_price,\n",
    "        'pre_std_price': pre_std_price,\n",
    "        'pre_median_price': pre_median_price,\n",
    "        'pre_volume':pre_volume,\n",
    "        'pre_total_trades': len(premarket),\n",
    "        'pre_vwap': out\n",
    "    }\n",
    "    \n",
    "    return to_return\n",
    "\n",
    "def aggregate_intraday_data(trades_df, open_time, close_time):\n",
    "    regmarket= trades_df[(trades_df.time >= open_time) & (trades_df.time <= close_time)]\n",
    "    reg_max_price = regmarket.price.max()\n",
    "    reg_min_price = regmarket.price.min()\n",
    "    reg_std_price = regmarket.price.std()\n",
    "    reg_median_price = regmarket.price.quantile(0.5)\n",
    "    reg_volume = regmarket.size.sum()\n",
    "    out = calculate_group_vwap(regmarket)\n",
    "\n",
    "    to_return = {\n",
    "        'intraday_max_price':reg_max_price,\n",
    "        'intraday_min_price':reg_min_price, \n",
    "        'intraday_std_price':reg_std_price,\n",
    "        'intraday_median_price':reg_median_price, \n",
    "        'intraday_volume':reg_volume,\n",
    "        'intraday_total_trades': len(regmarket),\n",
    "        'intraday_vwap': out\n",
    "    }\n",
    "    return to_return    \n",
    "\n",
    "def aggregate_postmarket_data(trades_df, close_time):\n",
    "    postmarket= trades_df[trades_df.time > close_time]\n",
    "    post_max_price = postmarket.price.max()\n",
    "    post_min_price = postmarket.price.min()\n",
    "    post_std_price = postmarket.price.std()\n",
    "    post_median_price = postmarket.price.quantile(0.5)\n",
    "    post_volume = postmarket.size.sum()\n",
    "    out = calculate_group_vwap(postmarket)\n",
    "    \n",
    "    to_return = {\n",
    "        'post_max_price':post_max_price,\n",
    "        'post_min_price':post_min_price, \n",
    "        'post_std_price':post_std_price,\n",
    "        'post_median_price':post_median_price, \n",
    "        'post_volume':post_volume,\n",
    "        'post_total_trades': len(postmarket),\n",
    "        'post_vwap': out\n",
    "    }\n",
    "    return to_return"
   ]
  },
  {
   "cell_type": "code",
   "execution_count": null,
   "metadata": {},
   "outputs": [],
   "source": []
  },
  {
   "cell_type": "code",
   "execution_count": 11,
   "metadata": {},
   "outputs": [],
   "source": [
    "def aggregate_data(resp_df, sym):\n",
    "    final_result = []\n",
    "\n",
    "    open_data_extract = extract_opening_data(resp_df)\n",
    "    close_data_extract = extract_closing_data(resp_df)\n",
    "\n",
    "    premarket_aggregate = aggregate_premarket_data(resp_df, open_data_extract['open_time'])\n",
    "    postmarket_aggregate = aggregate_postmarket_data(resp_df, close_data_extract['close_time'])\n",
    "\n",
    "    intraday_aggregate = aggregate_intraday_data(resp_df, open_data_extract['open_time'], close_data_extract['close_time'])\n",
    "\n",
    "    merged_data = {**open_data_extract, **close_data_extract, **premarket_aggregate, **intraday_aggregate, **postmarket_aggregate, **{\"symbol\":sym}}\n",
    "\n",
    "    final_result.append(merged_data)\n",
    "\n",
    "    return pd.DataFrame(final_result)"
   ]
  },
  {
   "cell_type": "code",
   "execution_count": 12,
   "metadata": {},
   "outputs": [],
   "source": [
    "\n",
    "\n",
    "valid_days = get_valid_trading_days_for_range('2020-06-01', '2021-05-20', 1000)"
   ]
  },
  {
   "cell_type": "code",
   "execution_count": 13,
   "metadata": {},
   "outputs": [],
   "source": [
    "completed_symbols = []"
   ]
  },
  {
   "cell_type": "code",
   "execution_count": null,
   "metadata": {},
   "outputs": [],
   "source": []
  },
  {
   "cell_type": "code",
   "execution_count": 14,
   "metadata": {},
   "outputs": [],
   "source": [
    "def run_for_data(symbols, dates, url, tnum, thread_num):\n",
    "    completed = []\n",
    "    for symbol in tqdm(symbols, desc=\"Thread num: \"+str(thread_num)):\n",
    "        for day in dates:\n",
    "            \n",
    "            data = get_trades_all(symbol, day, 500000)\n",
    "            try:\n",
    "                df = data_preprocessing(data, day)\n",
    "                aggregate = aggregate_data(df, symbol)\n",
    "                etf_save_aggregate_data(symbol, aggregate, day, url, tnum)\n",
    "\n",
    "            except:\n",
    "                pass\n",
    "                #print(\"Could not process symbol \", symbol,  \" so skipping\")\n",
    "            time.sleep(0.08)\n",
    "        completed.append(symbol)\n",
    "        print(\"completed symbols\", \": \".join(completed), '- thread num:', str(thread_num), ' - ', str(len(completed)), '/', str(len(symbols)))"
   ]
  },
  {
   "cell_type": "code",
   "execution_count": null,
   "metadata": {},
   "outputs": [],
   "source": []
  },
  {
   "cell_type": "code",
   "execution_count": null,
   "metadata": {},
   "outputs": [],
   "source": []
  },
  {
   "cell_type": "markdown",
   "metadata": {},
   "source": [
    "##### URL PATH"
   ]
  },
  {
   "cell_type": "code",
   "execution_count": 15,
   "metadata": {},
   "outputs": [],
   "source": [
    "url = os.path.join(os.getcwd(), 'output')\n"
   ]
  },
  {
   "cell_type": "code",
   "execution_count": null,
   "metadata": {},
   "outputs": [],
   "source": []
  },
  {
   "cell_type": "code",
   "execution_count": 16,
   "metadata": {},
   "outputs": [],
   "source": [
    "orders_df = pd.read_excel('orders_symbols.xlsx')\n",
    "dollars_df = pd.read_excel('dollar_symbols.xlsx')\n",
    "orders_df = orders_df.sort_values(by='share_filled', ascending=False)\n",
    "dollars_df = dollars_df.sort_values(by='dollars_filled', ascending=False)\n",
    "orders_sym_list = set(list(orders_df['symbol'].head(1000)))\n",
    "dollars_sym_list = set(list(dollars_df['symbol'].head(1000)))\n",
    "list_union = orders_sym_list.union(dollars_sym_list)\n"
   ]
  },
  {
   "cell_type": "code",
   "execution_count": null,
   "metadata": {},
   "outputs": [],
   "source": []
  },
  {
   "cell_type": "markdown",
   "metadata": {},
   "source": [
    "#### filter out 168"
   ]
  },
  {
   "cell_type": "code",
   "execution_count": 17,
   "metadata": {},
   "outputs": [],
   "source": [
    "_orders_sym_list = set(list(orders_df['symbol'].head(2000)))\n",
    "_dollars_sym_list = set(list(dollars_df['symbol'].head(200)))\n",
    "_list_union = _orders_sym_list.union(_dollars_sym_list)"
   ]
  },
  {
   "cell_type": "code",
   "execution_count": 18,
   "metadata": {},
   "outputs": [],
   "source": [
    "_list_union_list = list(_list_union)\n",
    "list_union_list = list(list_union)"
   ]
  },
  {
   "cell_type": "code",
   "execution_count": 19,
   "metadata": {},
   "outputs": [],
   "source": [
    "main_list = []\n",
    "for item in _list_union_list:\n",
    "    if item not in list_union_list:\n",
    "        main_list.append(item)\n",
    "    \n",
    "        "
   ]
  },
  {
   "cell_type": "code",
   "execution_count": 20,
   "metadata": {},
   "outputs": [
    {
     "name": "stdout",
     "output_type": "stream",
     "text": [
      "1329 2001 753\n"
     ]
    }
   ],
   "source": [
    "print(len(list_union_list), len(_list_union_list), len(main_list))"
   ]
  },
  {
   "cell_type": "code",
   "execution_count": 21,
   "metadata": {},
   "outputs": [],
   "source": [
    "total_threads = 7"
   ]
  },
  {
   "cell_type": "code",
   "execution_count": 22,
   "metadata": {},
   "outputs": [
    {
     "data": {
      "text/plain": [
       "107"
      ]
     },
     "execution_count": 22,
     "metadata": {},
     "output_type": "execute_result"
    }
   ],
   "source": [
    "chunk_per_thread = int(len(main_list) / total_threads)\n",
    "chunk_per_thread"
   ]
  },
  {
   "cell_type": "code",
   "execution_count": null,
   "metadata": {},
   "outputs": [],
   "source": []
  },
  {
   "cell_type": "code",
   "execution_count": 23,
   "metadata": {},
   "outputs": [
    {
     "data": {
      "text/plain": [
       "8"
      ]
     },
     "execution_count": 23,
     "metadata": {},
     "output_type": "execute_result"
    }
   ],
   "source": [
    "total_chunks = list(chunks(main_list, chunk_per_thread))\n",
    "len(total_chunks)"
   ]
  },
  {
   "cell_type": "code",
   "execution_count": null,
   "metadata": {},
   "outputs": [],
   "source": []
  },
  {
   "cell_type": "code",
   "execution_count": 24,
   "metadata": {},
   "outputs": [],
   "source": [
    "file_group = 0"
   ]
  },
  {
   "cell_type": "code",
   "execution_count": 27,
   "metadata": {},
   "outputs": [],
   "source": [
    "count = 0"
   ]
  },
  {
   "cell_type": "code",
   "execution_count": 28,
   "metadata": {
    "scrolled": false
   },
   "outputs": [],
   "source": [
    "allthreads = []\n",
    "for l in range(len(total_chunks)):\n",
    "    allthreads.append(Thread(target=run_for_data, args=(total_chunks[l], valid_days, url, file_group, l)))\n",
    "        \n",
    "    file_group = file_group + 1        \n",
    "\n"
   ]
  },
  {
   "cell_type": "code",
   "execution_count": 29,
   "metadata": {
    "scrolled": true
   },
   "outputs": [
    {
     "name": "stderr",
     "output_type": "stream",
     "text": [
      "Thread num: 2:   0%|                                                                           | 0/107 [00:00<?, ?it/s]\n",
      "Thread num: 3:   0%|                                                                           | 0/107 [00:00<?, ?it/s]\u001b[A\n",
      "\n",
      "Thread num: 0:   0%|                                                                           | 0/107 [00:00<?, ?it/s]\u001b[A\u001b[A\n",
      "\n",
      "\n",
      "Thread num: 6:   0%|                                                                           | 0/107 [00:00<?, ?it/s]\u001b[A\u001b[A\u001b[A\n",
      "\n",
      "\n",
      "\n",
      "Thread num: 7:   0%|                                                                             | 0/4 [00:00<?, ?it/s]\u001b[A\u001b[A\u001b[A\u001b[A\n",
      "\n",
      "\n",
      "\n",
      "\n",
      "Thread num: 1:   0%|                                                                           | 0/107 [00:00<?, ?it/s]\u001b[A\u001b[A\u001b[A\u001b[A\u001b[A\n",
      "\n",
      "\n",
      "\n",
      "\n",
      "\n",
      "Thread num: 5:   0%|                                                                           | 0/107 [00:00<?, ?it/s]\u001b[A\u001b[A\u001b[A\u001b[A\u001b[A\u001b[A\n",
      "\n",
      "\n",
      "\n",
      "\n",
      "\n",
      "\n",
      "Thread num: 4:   0%|                                                                           | 0/107 [00:00<?, ?it/s]\u001b[A\u001b[A\u001b[A\u001b[A\u001b[A\u001b[A\u001b[A<ipython-input-7-f555145416aa>:6: RuntimeWarning: invalid value encountered in double_scalars\n",
      "  vwap= numerator/denom\n",
      "Thread num: 2:   1%|▌                                                               | 1/107 [04:01<7:05:58, 241.12s/it]"
     ]
    },
    {
     "name": "stdout",
     "output_type": "stream",
     "text": [
      "completed symbols OMP - thread num: 2  -  1 / 107\n"
     ]
    },
    {
     "name": "stderr",
     "output_type": "stream",
     "text": [
      "\n",
      "\n",
      "\n",
      "\n",
      "\n",
      "Thread num: 1:   1%|▌                                                               | 1/107 [04:45<8:24:17, 285.45s/it]\u001b[A\u001b[A\u001b[A\u001b[A\u001b[A"
     ]
    },
    {
     "name": "stdout",
     "output_type": "stream",
     "text": [
      "completed symbols OSS - thread num: 1  -  1 / 107\n"
     ]
    },
    {
     "name": "stderr",
     "output_type": "stream",
     "text": [
      "\n",
      "\n",
      "\n",
      "Thread num: 6:   1%|▌                                                               | 1/107 [05:05<8:58:50, 305.00s/it]\u001b[A\u001b[A\u001b[A"
     ]
    },
    {
     "name": "stdout",
     "output_type": "stream",
     "text": [
      "completed symbols FAX - thread num: 6  -  1 / 107\n"
     ]
    },
    {
     "name": "stderr",
     "output_type": "stream",
     "text": [
      "\n",
      "\n",
      "\n",
      "\n",
      "\n",
      "\n",
      "Thread num: 5:   1%|▌                                                              | 1/107 [06:03<10:42:05, 363.45s/it]\u001b[A\u001b[A\u001b[A\u001b[A\u001b[A\u001b[A"
     ]
    },
    {
     "name": "stdout",
     "output_type": "stream",
     "text": [
      "completed symbols QQQJ - thread num: 5  -  1 / 107\n"
     ]
    },
    {
     "name": "stderr",
     "output_type": "stream",
     "text": [
      "\n",
      "\n",
      "\n",
      "\n",
      "Thread num: 7:  25%|█████████████████                                                   | 1/4 [07:04<21:13, 424.60s/it]\u001b[A\u001b[A\u001b[A\u001b[A"
     ]
    },
    {
     "name": "stdout",
     "output_type": "stream",
     "text": [
      "completed symbols SSP - thread num: 7  -  1 / 4\n"
     ]
    },
    {
     "name": "stderr",
     "output_type": "stream",
     "text": [
      "\n",
      "Thread num: 3:   1%|▌                                                              | 1/107 [07:07<12:36:04, 427.97s/it]\u001b[A"
     ]
    },
    {
     "name": "stdout",
     "output_type": "stream",
     "text": [
      "completed symbols AACQ - thread num: 3  -  1 / 107\n"
     ]
    },
    {
     "name": "stderr",
     "output_type": "stream",
     "text": [
      "\n",
      "\n",
      "\n",
      "\n",
      "\n",
      "\n",
      "Thread num: 5:   2%|█▏                                                              | 2/107 [07:48<8:20:19, 285.90s/it]\u001b[A\u001b[A\u001b[A\u001b[A\u001b[A\u001b[A"
     ]
    },
    {
     "name": "stdout",
     "output_type": "stream",
     "text": [
      "completed symbols QQQJ: CFFA - thread num: 5  -  2 / 107\n"
     ]
    },
    {
     "name": "stderr",
     "output_type": "stream",
     "text": [
      "\n",
      "\n",
      "\n",
      "\n",
      "Thread num: 7:  50%|██████████████████████████████████                                  | 2/4 [08:00<10:28, 314.07s/it]\u001b[A\u001b[A\u001b[A\u001b[A"
     ]
    },
    {
     "name": "stdout",
     "output_type": "stream",
     "text": [
      "completed symbols SSP: WNDW - thread num: 7  -  2 / 4\n"
     ]
    },
    {
     "name": "stderr",
     "output_type": "stream",
     "text": [
      "<ipython-input-7-f555145416aa>:6: RuntimeWarning: invalid value encountered in longlong_scalars\n",
      "  vwap= numerator/denom\n",
      "\n",
      "\n",
      "\n",
      "Thread num: 6:   2%|█▏                                                              | 2/107 [08:22<7:57:20, 272.77s/it]\u001b[A\u001b[A\u001b[A"
     ]
    },
    {
     "name": "stdout",
     "output_type": "stream",
     "text": [
      "completed symbols FAX: APEN - thread num: 6  -  2 / 107\n"
     ]
    },
    {
     "name": "stderr",
     "output_type": "stream",
     "text": [
      "\r",
      "Thread num: 2:   2%|█▏                                                              | 2/107 [08:39<7:21:46, 252.44s/it]"
     ]
    },
    {
     "name": "stdout",
     "output_type": "stream",
     "text": [
      "completed symbols OMP: APLT - thread num: 2  -  2 / 107\n"
     ]
    },
    {
     "name": "stderr",
     "output_type": "stream",
     "text": [
      "Thread num: 0:   0%|                                                                           | 0/107 [09:22<?, ?it/s]\n",
      "Exception in thread Thread-14:\n",
      "Traceback (most recent call last):\n",
      "  File \"C:\\ProgramData\\Anaconda3\\lib\\threading.py\", line 932, in _bootstrap_inner\n",
      "    self.run()\n",
      "  File \"C:\\ProgramData\\Anaconda3\\lib\\threading.py\", line 870, in run\n",
      "    self._target(*self._args, **self._kwargs)\n",
      "  File \"<ipython-input-14-df1938f87439>\", line 17, in run_for_data\n",
      "TypeError: sequence item 0: expected str instance, bool found\n",
      "\n",
      "Thread num: 3:   2%|█▏                                                             | 2/107 [10:03<10:16:28, 352.27s/it]\u001b[A"
     ]
    },
    {
     "name": "stdout",
     "output_type": "stream",
     "text": [
      "completed symbols AACQ: CTK - thread num: 3  -  2 / 107\n"
     ]
    },
    {
     "name": "stderr",
     "output_type": "stream",
     "text": [
      "\n",
      "\n",
      "\n",
      "Thread num: 6:   3%|█▊                                                              | 3/107 [11:08<6:57:16, 240.73s/it]\u001b[A\u001b[A\u001b[A"
     ]
    },
    {
     "name": "stdout",
     "output_type": "stream",
     "text": [
      "completed symbols FAX: APEN: JUPW - thread num: 6  -  3 / 107\n"
     ]
    },
    {
     "name": "stderr",
     "output_type": "stream",
     "text": [
      "\n",
      "\n",
      "\n",
      "\n",
      "\n",
      "\n",
      "Thread num: 5:   3%|█▊                                                              | 3/107 [11:21<7:37:53, 264.17s/it]\u001b[A\u001b[A\u001b[A\u001b[A\u001b[A\u001b[A"
     ]
    },
    {
     "name": "stdout",
     "output_type": "stream",
     "text": [
      "completed symbols QQQJ: CFFA: ACEV - thread num: 5  -  3 / 107\n"
     ]
    },
    {
     "name": "stderr",
     "output_type": "stream",
     "text": [
      "\n",
      "\n",
      "\n",
      "\n",
      "\n",
      "Thread num: 1:   2%|█▏                                                              | 2/107 [11:25<9:19:38, 319.80s/it]\u001b[A\u001b[A\u001b[A\u001b[A\u001b[A"
     ]
    },
    {
     "name": "stdout",
     "output_type": "stream",
     "text": [
      "completed symbols OSS: VHC - thread num: 1  -  2 / 107\n"
     ]
    },
    {
     "name": "stderr",
     "output_type": "stream",
     "text": [
      "\r",
      "Thread num: 2:   3%|█▊                                                              | 3/107 [11:43<6:41:35, 231.69s/it]"
     ]
    },
    {
     "name": "stdout",
     "output_type": "stream",
     "text": [
      "completed symbols OMP: APLT: NRO - thread num: 2  -  3 / 107\n"
     ]
    },
    {
     "name": "stderr",
     "output_type": "stream",
     "text": [
      "\n",
      "\n",
      "\n",
      "\n",
      "\n",
      "Thread num: 1:   3%|█▊                                                              | 3/107 [13:49<7:42:45, 266.98s/it]\u001b[A\u001b[A\u001b[A\u001b[A\u001b[A"
     ]
    },
    {
     "name": "stdout",
     "output_type": "stream",
     "text": [
      "completed symbols OSS: VHC: FSI - thread num: 1  -  3 / 107\n"
     ]
    },
    {
     "name": "stderr",
     "output_type": "stream",
     "text": [
      "\n",
      "\n",
      "\n",
      "\n",
      "\n",
      "\n",
      "Thread num: 5:   4%|██▍                                                             | 4/107 [13:51<6:34:28, 229.79s/it]\u001b[A\u001b[A\u001b[A\u001b[A\u001b[A\u001b[A"
     ]
    },
    {
     "name": "stdout",
     "output_type": "stream",
     "text": [
      "completed symbols QQQJ: CFFA: ACEV: USL - thread num: 5  -  4 / 107\n"
     ]
    },
    {
     "name": "stderr",
     "output_type": "stream",
     "text": [
      "\r",
      "Thread num: 2:   4%|██▍                                                             | 4/107 [14:11<5:54:46, 206.66s/it]"
     ]
    },
    {
     "name": "stdout",
     "output_type": "stream",
     "text": [
      "completed symbols OMP: APLT: NRO: IMH - thread num: 2  -  4 / 107\n"
     ]
    },
    {
     "name": "stderr",
     "output_type": "stream",
     "text": [
      "\n",
      "\n",
      "\n",
      "Thread num: 6:   4%|██▍                                                             | 4/107 [15:05<6:51:04, 239.47s/it]\u001b[A\u001b[A\u001b[A"
     ]
    },
    {
     "name": "stdout",
     "output_type": "stream",
     "text": [
      "completed symbols FAX: APEN: JUPW: IPI - thread num: 6  -  4 / 107\n"
     ]
    },
    {
     "name": "stderr",
     "output_type": "stream",
     "text": [
      "\n",
      "\n",
      "\n",
      "\n",
      "\n",
      "\n",
      "\n",
      "Thread num: 4:   1%|▌                                                             | 1/107 [16:46<29:38:42, 1006.81s/it]\u001b[A\u001b[A\u001b[A\u001b[A\u001b[A\u001b[A\u001b[A"
     ]
    },
    {
     "name": "stdout",
     "output_type": "stream",
     "text": [
      "completed symbols CIM - thread num: 4  -  1 / 107\n"
     ]
    },
    {
     "name": "stderr",
     "output_type": "stream",
     "text": [
      "\r",
      "Thread num: 2:   5%|██▉                                                             | 5/107 [17:33<5:48:40, 205.11s/it]"
     ]
    },
    {
     "name": "stdout",
     "output_type": "stream",
     "text": [
      "completed symbols OMP: APLT: NRO: IMH: THM - thread num: 2  -  5 / 107\n"
     ]
    },
    {
     "name": "stderr",
     "output_type": "stream",
     "text": [
      "\n",
      "\n",
      "\n",
      "\n",
      "\n",
      "\n",
      "Thread num: 5:   5%|██▉                                                             | 5/107 [19:20<7:21:02, 259.43s/it]\u001b[A\u001b[A\u001b[A\u001b[A\u001b[A\u001b[A"
     ]
    },
    {
     "name": "stdout",
     "output_type": "stream",
     "text": [
      "completed symbols QQQJ: CFFA: ACEV: USL: ORGO - thread num: 5  -  5 / 107\n"
     ]
    },
    {
     "name": "stderr",
     "output_type": "stream",
     "text": [
      "\n",
      "\n",
      "\n",
      "\n",
      "Thread num: 7:  75%|███████████████████████████████████████████████████                 | 3/4 [19:51<07:13, 433.15s/it]\u001b[A\u001b[A\u001b[A\u001b[A"
     ]
    },
    {
     "name": "stdout",
     "output_type": "stream",
     "text": [
      "completed symbols SSP: WNDW: LX - thread num: 7  -  3 / 4\n"
     ]
    },
    {
     "name": "stderr",
     "output_type": "stream",
     "text": [
      "\n",
      "\n",
      "\n",
      "\n",
      "\n",
      "Thread num: 1:   4%|██▍                                                             | 4/107 [21:58<9:32:52, 333.71s/it]\u001b[A\u001b[A\u001b[A\u001b[A\u001b[A"
     ]
    },
    {
     "name": "stdout",
     "output_type": "stream",
     "text": [
      "completed symbols OSS: VHC: FSI: SYRS - thread num: 1  -  4 / 107\n"
     ]
    },
    {
     "name": "stderr",
     "output_type": "stream",
     "text": [
      "\n",
      "Thread num: 3:   3%|█▊                                                             | 3/107 [22:03<13:21:51, 462.61s/it]\u001b[A"
     ]
    },
    {
     "name": "stdout",
     "output_type": "stream",
     "text": [
      "completed symbols AACQ: CTK: SVC - thread num: 3  -  3 / 107\n"
     ]
    },
    {
     "name": "stderr",
     "output_type": "stream",
     "text": [
      "\n",
      "\n",
      "\n",
      "\n",
      "\n",
      "\n",
      "\n",
      "Thread num: 4:   2%|█▏                                                             | 2/107 [22:42<23:39:54, 811.37s/it]\u001b[A\u001b[A\u001b[A\u001b[A\u001b[A\u001b[A\u001b[A"
     ]
    },
    {
     "name": "stdout",
     "output_type": "stream",
     "text": [
      "completed symbols CIM: VTSI - thread num: 4  -  2 / 107\n"
     ]
    },
    {
     "name": "stderr",
     "output_type": "stream",
     "text": [
      "\r",
      "Thread num: 2:   6%|███▌                                                            | 6/107 [23:08<6:51:07, 244.23s/it]"
     ]
    },
    {
     "name": "stdout",
     "output_type": "stream",
     "text": [
      "completed symbols OMP: APLT: NRO: IMH: THM: WHLM - thread num: 2  -  6 / 107\n"
     ]
    },
    {
     "name": "stderr",
     "output_type": "stream",
     "text": [
      "\n",
      "\n",
      "\n",
      "\n",
      "\n",
      "\n",
      "Thread num: 5:   6%|███▌                                                            | 6/107 [23:39<7:16:50, 259.51s/it]\u001b[A\u001b[A\u001b[A\u001b[A\u001b[A\u001b[A"
     ]
    },
    {
     "name": "stdout",
     "output_type": "stream",
     "text": [
      "completed symbols QQQJ: CFFA: ACEV: USL: ORGO: BBW - thread num: 5  -  6 / 107\n"
     ]
    },
    {
     "name": "stderr",
     "output_type": "stream",
     "text": [
      "\r",
      "Thread num: 2:   7%|████▏                                                           | 7/107 [25:37<5:59:21, 215.62s/it]"
     ]
    },
    {
     "name": "stdout",
     "output_type": "stream",
     "text": [
      "completed symbols OMP: APLT: NRO: IMH: THM: WHLM: EBET - thread num: 2  -  7 / 107\n"
     ]
    },
    {
     "name": "stderr",
     "output_type": "stream",
     "text": [
      "\n",
      "\n",
      "\n",
      "\n",
      "\n",
      "\n",
      "\n",
      "Thread num: 4:   3%|█▊                                                             | 3/107 [25:41<17:57:32, 621.66s/it]\u001b[A\u001b[A\u001b[A\u001b[A\u001b[A\u001b[A\u001b[A"
     ]
    },
    {
     "name": "stdout",
     "output_type": "stream",
     "text": [
      "completed symbols CIM: VTSI: BTN - thread num: 4  -  3 / 107\n"
     ]
    },
    {
     "name": "stderr",
     "output_type": "stream",
     "text": [
      "\n",
      "Thread num: 3:   4%|██▎                                                            | 4/107 [27:06<11:52:01, 414.77s/it]\u001b[A"
     ]
    },
    {
     "name": "stdout",
     "output_type": "stream",
     "text": [
      "completed symbols AACQ: CTK: SVC: EGAN - thread num: 3  -  4 / 107\n"
     ]
    },
    {
     "name": "stderr",
     "output_type": "stream",
     "text": [
      "\n",
      "\n",
      "\n",
      "\n",
      "Thread num: 7: 100%|████████████████████████████████████████████████████████████████████| 4/4 [27:23<00:00, 411.00s/it]\u001b[A\u001b[A\u001b[A\u001b[A"
     ]
    },
    {
     "name": "stdout",
     "output_type": "stream",
     "text": [
      "completed symbols SSP: WNDW: LX: MFGP - thread num: 7  -  4 / 4\n"
     ]
    },
    {
     "name": "stderr",
     "output_type": "stream",
     "text": [
      "\n",
      "\n",
      "\n",
      "\n",
      "Thread num: 6:   5%|██▉                                                            | 5/107 [27:26<11:02:52, 389.93s/it]\u001b[A\u001b[A\u001b[A"
     ]
    },
    {
     "name": "stdout",
     "output_type": "stream",
     "text": [
      "completed symbols FAX: APEN: JUPW: IPI: ENLC - thread num: 6  -  5 / 107\n",
      "completed symbols OSS: VHC: FSI: SYRS: STIM - thread num: 1  -  5 /"
     ]
    },
    {
     "name": "stderr",
     "output_type": "stream",
     "text": [
      "\n",
      "\n",
      "\n",
      "\n",
      "\n",
      "Thread num: 1:   5%|██▉                                                             | 5/107 [27:29<9:25:59, 332.94s/it]\u001b[A\u001b[A\u001b[A\u001b[A\u001b[A"
     ]
    },
    {
     "name": "stdout",
     "output_type": "stream",
     "text": [
      " 107\n"
     ]
    },
    {
     "name": "stderr",
     "output_type": "stream",
     "text": [
      "\n",
      "\n",
      "\n",
      "\n",
      "\n",
      "\n",
      "Thread num: 5:   7%|████▏                                                           | 7/107 [28:10<7:18:08, 262.88s/it]\u001b[A\u001b[A\u001b[A\u001b[A\u001b[A\u001b[A"
     ]
    },
    {
     "name": "stdout",
     "output_type": "stream",
     "text": [
      "completed symbols QQQJ: CFFA: ACEV: USL: ORGO: BBW: SYBX - thread num: 5  -  7 / 107\n"
     ]
    },
    {
     "name": "stderr",
     "output_type": "stream",
     "text": [
      "\r",
      "Thread num: 2:   7%|████▊                                                           | 8/107 [29:24<6:01:31, 219.11s/it]"
     ]
    },
    {
     "name": "stdout",
     "output_type": "stream",
     "text": [
      "completed symbols OMP: APLT: NRO: IMH: THM: WHLM: EBET: VNRX - thread num: 2  -  8 / 107\n"
     ]
    },
    {
     "name": "stderr",
     "output_type": "stream",
     "text": [
      "\n",
      "\n",
      "\n",
      "\n",
      "\n",
      "\n",
      "Thread num: 5:   7%|████▊                                                           | 8/107 [30:35<6:15:19, 227.47s/it]\u001b[A\u001b[A\u001b[A\u001b[A\u001b[A\u001b[A"
     ]
    },
    {
     "name": "stdout",
     "output_type": "stream",
     "text": [
      "completed symbols QQQJ: CFFA: ACEV: USL: ORGO: BBW: SYBX: ECC - thread num: 5  -  8 / 107\n"
     ]
    },
    {
     "name": "stderr",
     "output_type": "stream",
     "text": [
      "\n",
      "\n",
      "\n",
      "\n",
      "\n",
      "\n",
      "\n",
      "Thread num: 4:   4%|██▎                                                            | 4/107 [30:55<15:08:44, 529.36s/it]\u001b[A\u001b[A\u001b[A\u001b[A\u001b[A\u001b[A\u001b[A"
     ]
    },
    {
     "name": "stdout",
     "output_type": "stream",
     "text": [
      "completed symbols CIM: VTSI: BTN: GP - thread num: 4  -  4 / 107\n"
     ]
    },
    {
     "name": "stderr",
     "output_type": "stream",
     "text": [
      "\n",
      "\n",
      "\n",
      "Thread num: 6:   6%|███▌                                                            | 6/107 [31:13<9:34:27, 341.26s/it]\u001b[A\u001b[A\u001b[A"
     ]
    },
    {
     "name": "stdout",
     "output_type": "stream",
     "text": [
      "completed symbols FAX: APEN: JUPW: IPI: ENLC: WRTC - thread num: 6  -  6 / 107\n"
     ]
    },
    {
     "name": "stderr",
     "output_type": "stream",
     "text": [
      "\n",
      "Thread num: 3:   5%|██▉                                                            | 5/107 [31:15<10:20:13, 364.84s/it]\u001b[A"
     ]
    },
    {
     "name": "stdout",
     "output_type": "stream",
     "text": [
      "completed symbols AACQ: CTK: SVC: EGAN: PSTI - thread num: 3  -  5 / 107\n"
     ]
    },
    {
     "name": "stderr",
     "output_type": "stream",
     "text": [
      "\n",
      "\n",
      "\n",
      "\n",
      "\n",
      "Thread num: 1:   6%|███▌                                                            | 6/107 [31:19<8:28:32, 302.11s/it]\u001b[A\u001b[A\u001b[A\u001b[A\u001b[A"
     ]
    },
    {
     "name": "stdout",
     "output_type": "stream",
     "text": [
      "completed symbols OSS: VHC: FSI: SYRS: STIM: LMNL - thread num: 1  -  6 / 107\n"
     ]
    },
    {
     "name": "stderr",
     "output_type": "stream",
     "text": [
      "\n",
      "\n",
      "\n",
      "\n",
      "\n",
      "\n",
      "Thread num: 5:   8%|█████▍                                                          | 9/107 [32:08<5:05:38, 187.13s/it]\u001b[A\u001b[A\u001b[A\u001b[A\u001b[A\u001b[A"
     ]
    },
    {
     "name": "stdout",
     "output_type": "stream",
     "text": [
      "completed symbols QQQJ: CFFA: ACEV: USL: ORGO: BBW: SYBX: ECC: WSTL - thread num: 5  -  9 / 107\n"
     ]
    },
    {
     "name": "stderr",
     "output_type": "stream",
     "text": [
      "\n",
      "Thread num: 3:   6%|███▌                                                            | 6/107 [32:17<7:41:09, 273.95s/it]\u001b[A"
     ]
    },
    {
     "name": "stdout",
     "output_type": "stream",
     "text": [
      "completed symbols AACQ: CTK: SVC: EGAN: PSTI: SAEXQ - thread num: 3  -  6 / 107\n"
     ]
    },
    {
     "name": "stderr",
     "output_type": "stream",
     "text": [
      "\n",
      "\n",
      "\n",
      "\n",
      "\n",
      "\n",
      "\n",
      "Thread num: 4:   5%|██▉                                                            | 5/107 [34:06<12:07:31, 427.96s/it]\u001b[A\u001b[A\u001b[A\u001b[A\u001b[A\u001b[A\u001b[A"
     ]
    },
    {
     "name": "stdout",
     "output_type": "stream",
     "text": [
      "completed symbols CIM: VTSI: BTN: GP: ETTX - thread num: 4  -  5 / 107\n"
     ]
    },
    {
     "name": "stderr",
     "output_type": "stream",
     "text": [
      "\n",
      "\n",
      "\n",
      "\n",
      "\n",
      "Thread num: 1:   7%|████▏                                                           | 7/107 [34:12<7:18:48, 263.28s/it]\u001b[A\u001b[A\u001b[A\u001b[A\u001b[A"
     ]
    },
    {
     "name": "stdout",
     "output_type": "stream",
     "text": [
      "completed symbols OSS: VHC: FSI: SYRS: STIM: LMNL: CTHR - thread num: 1  -  7 / 107\n"
     ]
    },
    {
     "name": "stderr",
     "output_type": "stream",
     "text": [
      "\n",
      "\n",
      "\n",
      "Thread num: 6:   7%|████▏                                                           | 7/107 [35:10<8:36:20, 309.80s/it]\u001b[A\u001b[A\u001b[A"
     ]
    },
    {
     "name": "stdout",
     "output_type": "stream",
     "text": [
      "completed symbols FAX: APEN: JUPW: IPI: ENLC: WRTC: RMBL - thread num: 6  -  7 / 107\n"
     ]
    },
    {
     "name": "stderr",
     "output_type": "stream",
     "text": [
      "\n",
      "\n",
      "\n",
      "\n",
      "\n",
      "\n",
      "Thread num: 5:   9%|█████▉                                                         | 10/107 [35:38<5:13:46, 194.08s/it]\u001b[A\u001b[A\u001b[A\u001b[A\u001b[A\u001b[A"
     ]
    },
    {
     "name": "stdout",
     "output_type": "stream",
     "text": [
      "completed symbols QQQJ: CFFA: ACEV: USL: ORGO: BBW: SYBX: ECC: WSTL: CDR - thread num: 5  -  10 / 107\n"
     ]
    },
    {
     "name": "stderr",
     "output_type": "stream",
     "text": [
      "\n",
      "\n",
      "\n",
      "\n",
      "\n",
      "\n",
      "\n",
      "Thread num: 4:   6%|███▌                                                            | 6/107 [36:34<9:39:06, 344.03s/it]\u001b[A\u001b[A\u001b[A\u001b[A\u001b[A\u001b[A\u001b[A"
     ]
    },
    {
     "name": "stdout",
     "output_type": "stream",
     "text": [
      "completed symbols CIM: VTSI: BTN: GP: ETTX: RUHN - thread num: 4  -  6 / 107\n"
     ]
    },
    {
     "name": "stderr",
     "output_type": "stream",
     "text": [
      "\n",
      "\n",
      "\n",
      "\n",
      "\n",
      "Thread num: 1:   7%|████▊                                                           | 8/107 [37:21<6:37:51, 241.13s/it]\u001b[A\u001b[A\u001b[A\u001b[A\u001b[A"
     ]
    },
    {
     "name": "stdout",
     "output_type": "stream",
     "text": [
      "completed symbols OSS: VHC: FSI: SYRS: STIM: LMNL: CTHR: TDAC - thread num: 1  -  8 / 107\n"
     ]
    },
    {
     "name": "stderr",
     "output_type": "stream",
     "text": [
      "\n",
      "\n",
      "\n",
      "Thread num: 6:   7%|████▊                                                           | 8/107 [38:05<7:24:37, 269.47s/it]\u001b[A\u001b[A\u001b[A"
     ]
    },
    {
     "name": "stdout",
     "output_type": "stream",
     "text": [
      "completed symbols FAX: APEN: JUPW: IPI: ENLC: WRTC: RMBL: PHX - thread num: 6  -  8 / 107\n"
     ]
    },
    {
     "name": "stderr",
     "output_type": "stream",
     "text": [
      "\n",
      "\n",
      "\n",
      "\n",
      "\n",
      "\n",
      "Thread num: 5:  10%|██████▍                                                        | 11/107 [39:27<5:27:15, 204.54s/it]\u001b[A\u001b[A\u001b[A\u001b[A\u001b[A\u001b[A"
     ]
    },
    {
     "name": "stdout",
     "output_type": "stream",
     "text": [
      "completed symbols QQQJ: CFFA: ACEV: USL: ORGO: BBW: SYBX: ECC: WSTL: CDR: IFRX - thread num: 5  -  11 / 107\n"
     ]
    },
    {
     "name": "stderr",
     "output_type": "stream",
     "text": [
      "\n",
      "\n",
      "\n",
      "\n",
      "\n",
      "Thread num: 1:   8%|█████▍                                                          | 9/107 [40:19<6:02:48, 222.13s/it]\u001b[A\u001b[A\u001b[A\u001b[A\u001b[A"
     ]
    },
    {
     "name": "stdout",
     "output_type": "stream",
     "text": [
      "completed symbols OSS: VHC: FSI: SYRS: STIM: LMNL: CTHR: TDAC: MARPS - thread num: 1  -  9 / 107\n"
     ]
    },
    {
     "name": "stderr",
     "output_type": "stream",
     "text": [
      "\r",
      "Thread num: 2:   8%|█████▍                                                          | 9/107 [40:38<9:40:47, 355.58s/it]"
     ]
    },
    {
     "name": "stdout",
     "output_type": "stream",
     "text": [
      "completed symbols OMP: APLT: NRO: IMH: THM: WHLM: EBET: VNRX: RLX - thread num: 2  -  9 / 107\n"
     ]
    },
    {
     "name": "stderr",
     "output_type": "stream",
     "text": [
      "\n",
      "\n",
      "\n",
      "\n",
      "\n",
      "\n",
      "\n",
      "Thread num: 4:   7%|████▏                                                           | 7/107 [41:48<9:18:06, 334.86s/it]\u001b[A\u001b[A\u001b[A\u001b[A\u001b[A\u001b[A\u001b[A"
     ]
    },
    {
     "name": "stdout",
     "output_type": "stream",
     "text": [
      "completed symbols CIM: VTSI: BTN: GP: ETTX: RUHN: GLDM - thread num: 4  -  7 / 107\n"
     ]
    },
    {
     "name": "stderr",
     "output_type": "stream",
     "text": [
      "\n",
      "Thread num: 3:   7%|████                                                           | 7/107 [43:02<10:42:11, 385.32s/it]\u001b[A"
     ]
    },
    {
     "name": "stdout",
     "output_type": "stream",
     "text": [
      "completed symbols AACQ: CTK: SVC: EGAN: PSTI: SAEXQ: EB - thread num: 3  -  7 / 107\n"
     ]
    },
    {
     "name": "stderr",
     "output_type": "stream",
     "text": [
      "\n",
      "\n",
      "\n",
      "Thread num: 6:   8%|█████▎                                                         | 9/107 [50:19<11:07:36, 408.74s/it]\u001b[A\u001b[A\u001b[A"
     ]
    },
    {
     "name": "stdout",
     "output_type": "stream",
     "text": [
      "completed symbols FAX: APEN: JUPW: IPI: ENLC: WRTC: RMBL: PHX: KDMN - thread num: 6  -  9 / 107\n"
     ]
    },
    {
     "name": "stderr",
     "output_type": "stream",
     "text": [
      "\n",
      "Thread num: 3:   7%|████▋                                                          | 8/107 [50:58<11:20:57, 412.70s/it]\u001b[A"
     ]
    },
    {
     "name": "stdout",
     "output_type": "stream",
     "text": [
      "completed symbols AACQ: CTK: SVC: EGAN: PSTI: SAEXQ: EB: ATEN - thread num: 3  -  8 / 107\n"
     ]
    },
    {
     "name": "stderr",
     "output_type": "stream",
     "text": [
      "\n",
      "\n",
      "\n",
      "\n",
      "\n",
      "\n",
      "Thread num: 5:  11%|███████                                                        | 12/107 [51:04<9:17:39, 352.20s/it]\u001b[A\u001b[A\u001b[A\u001b[A\u001b[A\u001b[A"
     ]
    },
    {
     "name": "stdout",
     "output_type": "stream",
     "text": [
      "completed symbols QQQJ: CFFA: ACEV: USL: ORGO: BBW: SYBX: ECC: WSTL: CDR: IFRX: TRIL - thread num: 5  -  12 / 107\n"
     ]
    },
    {
     "name": "stderr",
     "output_type": "stream",
     "text": [
      "\n",
      "\n",
      "\n",
      "\n",
      "\n",
      "\n",
      "\n",
      "Thread num: 4:   7%|████▋                                                          | 8/107 [51:05<11:02:51, 401.73s/it]\u001b[A\u001b[A\u001b[A\u001b[A\u001b[A\u001b[A\u001b[A"
     ]
    },
    {
     "name": "stdout",
     "output_type": "stream",
     "text": [
      "completed symbols CIM: VTSI: BTN: GP: ETTX: RUHN: GLDM: ALDX - thread num: 4  -  8 / 107\n"
     ]
    },
    {
     "name": "stderr",
     "output_type": "stream",
     "text": [
      "\n",
      "\n",
      "\n",
      "\n",
      "\n",
      "\n",
      "Thread num: 5:  12%|███████▋                                                       | 13/107 [53:51<7:45:01, 296.82s/it]\u001b[A\u001b[A\u001b[A\u001b[A\u001b[A\u001b[A"
     ]
    },
    {
     "name": "stdout",
     "output_type": "stream",
     "text": [
      "completed symbols QQQJ: CFFA: ACEV: USL: ORGO: BBW: SYBX: ECC: WSTL: CDR: IFRX: TRIL: DMYI - thread num: 5  -  13 / 107\n"
     ]
    },
    {
     "name": "stderr",
     "output_type": "stream",
     "text": [
      "\n",
      "\n",
      "\n",
      "\n",
      "\n",
      "\n",
      "\n",
      "Thread num: 4:   8%|█████▍                                                          | 9/107 [53:59<9:04:27, 333.34s/it]\u001b[A\u001b[A\u001b[A\u001b[A\u001b[A\u001b[A\u001b[A"
     ]
    },
    {
     "name": "stdout",
     "output_type": "stream",
     "text": [
      "completed symbols CIM: VTSI: BTN: GP: ETTX: RUHN: GLDM: ALDX: EMX - thread num: 4  -  9 / 107\n"
     ]
    },
    {
     "name": "stderr",
     "output_type": "stream",
     "text": [
      "\n",
      "\n",
      "\n",
      "Thread num: 6:   9%|█████▊                                                        | 10/107 [55:24<10:10:31, 377.65s/it]\u001b[A\u001b[A\u001b[A"
     ]
    },
    {
     "name": "stdout",
     "output_type": "stream",
     "text": [
      "completed symbols FAX: APEN: JUPW: IPI: ENLC: WRTC: RMBL: PHX: KDMN: SSPK - thread num: 6  -  10 / 107\n"
     ]
    },
    {
     "name": "stderr",
     "output_type": "stream",
     "text": [
      "\r",
      "Thread num: 2:   9%|█████▊                                                        | 10/107 [55:39<13:59:30, 519.29s/it]"
     ]
    },
    {
     "name": "stdout",
     "output_type": "stream",
     "text": [
      "completed symbols OMP: APLT: NRO: IMH: THM: WHLM: EBET: VNRX: RLX: LEVI - thread num: 2  -  10 / 107\n"
     ]
    },
    {
     "name": "stderr",
     "output_type": "stream",
     "text": [
      "\n",
      "\n",
      "\n",
      "\n",
      "\n",
      "\n",
      "\n",
      "Thread num: 4:   9%|█████▉                                                         | 10/107 [56:36<7:33:07, 280.28s/it]\u001b[A\u001b[A\u001b[A\u001b[A\u001b[A\u001b[A\u001b[A"
     ]
    },
    {
     "name": "stdout",
     "output_type": "stream",
     "text": [
      "completed symbols CIM: VTSI: BTN: GP: ETTX: RUHN: GLDM: ALDX: EMX: MIND - thread num: 4  -  10 / 107\n"
     ]
    },
    {
     "name": "stderr",
     "output_type": "stream",
     "text": [
      "\r",
      "Thread num: 2:  10%|██████▎                                                       | 11/107 [57:49<10:43:49, 402.39s/it]"
     ]
    },
    {
     "name": "stdout",
     "output_type": "stream",
     "text": [
      "completed symbols OMP: APLT: NRO: IMH: THM: WHLM: EBET: VNRX: RLX: LEVI: ASTS - thread num: 2  -  11 / 107\n"
     ]
    },
    {
     "name": "stderr",
     "output_type": "stream",
     "text": [
      "\n",
      "Thread num: 3:   8%|█████▎                                                         | 9/107 [58:05<11:20:56, 416.91s/it]\u001b[A"
     ]
    },
    {
     "name": "stdout",
     "output_type": "stream",
     "text": [
      "completed symbols AACQ: CTK: SVC: EGAN: PSTI: SAEXQ: EB: ATEN: CDXC - thread num: 3  -  9 / 107\n"
     ]
    },
    {
     "name": "stderr",
     "output_type": "stream",
     "text": [
      "\n",
      "\n",
      "\n",
      "\n",
      "\n",
      "\n",
      "Thread num: 5:  13%|████████▏                                                      | 14/107 [58:40<7:36:22, 294.44s/it]\u001b[A\u001b[A\u001b[A\u001b[A\u001b[A\u001b[A"
     ]
    },
    {
     "name": "stdout",
     "output_type": "stream",
     "text": [
      "completed symbols QQQJ: CFFA: ACEV: USL: ORGO: BBW: SYBX: ECC: WSTL: CDR: IFRX: TRIL: DMYI: OSW - thread num: 5  -  14 / 107\n"
     ]
    },
    {
     "name": "stderr",
     "output_type": "stream",
     "text": [
      "\n",
      "Thread num: 3:   9%|█████▋                                                       | 10/107 [1:00:23<8:58:57, 333.37s/it]\u001b[A"
     ]
    },
    {
     "name": "stdout",
     "output_type": "stream",
     "text": [
      "completed symbols AACQ: CTK: SVC: EGAN: PSTI: SAEXQ: EB: ATEN: CDXC: PVL - thread num: 3  -  10 / 107\n"
     ]
    },
    {
     "name": "stderr",
     "output_type": "stream",
     "text": [
      "\n",
      "\n",
      "\n",
      "\n",
      "\n",
      "\n",
      "\n",
      "Thread num: 4:  10%|██████▎                                                      | 11/107 [1:00:29<7:05:45, 266.10s/it]\u001b[A\u001b[A\u001b[A\u001b[A\u001b[A\u001b[A\u001b[A"
     ]
    },
    {
     "name": "stdout",
     "output_type": "stream",
     "text": [
      "completed symbols CIM: VTSI: BTN: GP: ETTX: RUHN: GLDM: ALDX: EMX: MIND: BMRA - thread num: 4  -  11 / 107\n"
     ]
    },
    {
     "name": "stderr",
     "output_type": "stream",
     "text": [
      "\n",
      "\n",
      "\n",
      "Thread num: 6:  10%|██████▏                                                     | 11/107 [1:01:55<10:10:34, 381.61s/it]\u001b[A\u001b[A\u001b[A"
     ]
    },
    {
     "name": "stdout",
     "output_type": "stream",
     "text": [
      "completed symbols FAX: APEN: JUPW: IPI: ENLC: WRTC: RMBL: PHX: KDMN: SSPK: EBR - thread num: 6  -  11 / 107\n"
     ]
    },
    {
     "name": "stderr",
     "output_type": "stream",
     "text": [
      "\n",
      "\n",
      "\n",
      "\n",
      "\n",
      "\n",
      "\n",
      "Thread num: 4:  11%|██████▊                                                      | 12/107 [1:03:02<6:07:32, 232.13s/it]\u001b[A\u001b[A\u001b[A\u001b[A\u001b[A\u001b[A\u001b[A"
     ]
    },
    {
     "name": "stdout",
     "output_type": "stream",
     "text": [
      "completed symbols CIM: VTSI: BTN: GP: ETTX: RUHN: GLDM: ALDX: EMX: MIND: BMRA: INSE - thread num: 4  -  12 / 107\n"
     ]
    },
    {
     "name": "stderr",
     "output_type": "stream",
     "text": [
      "\n",
      "\n",
      "\n",
      "\n",
      "\n",
      "\n",
      "Thread num: 5:  14%|████████▌                                                    | 15/107 [1:03:23<7:26:03, 290.91s/it]\u001b[A\u001b[A\u001b[A\u001b[A\u001b[A\u001b[A"
     ]
    },
    {
     "name": "stdout",
     "output_type": "stream",
     "text": [
      "completed symbols QQQJ: CFFA: ACEV: USL: ORGO: BBW: SYBX: ECC: WSTL: CDR: IFRX: TRIL: DMYI: OSW: SMSI - thread num: 5  -  15 / 107\n"
     ]
    },
    {
     "name": "stderr",
     "output_type": "stream",
     "text": [
      "\n",
      "\n",
      "\n",
      "\n",
      "\n",
      "\n",
      "\n",
      "Thread num: 4:  12%|███████▍                                                     | 13/107 [1:03:59<4:41:20, 179.58s/it]\u001b[A\u001b[A\u001b[A\u001b[A\u001b[A\u001b[A\u001b[A"
     ]
    },
    {
     "name": "stdout",
     "output_type": "stream",
     "text": [
      "completed symbols CIM: VTSI: BTN: GP: ETTX: RUHN: GLDM: ALDX: EMX: MIND: BMRA: INSE: CHKR - thread num: 4  -  13 / 107\n"
     ]
    },
    {
     "name": "stderr",
     "output_type": "stream",
     "text": [
      "\r",
      "Thread num: 2:  11%|██████▋                                                     | 12/107 [1:04:26<10:34:27, 400.71s/it]"
     ]
    },
    {
     "name": "stdout",
     "output_type": "stream",
     "text": [
      "completed symbols OMP: APLT: NRO: IMH: THM: WHLM: EBET: VNRX: RLX: LEVI: ASTS: IMMR - thread num: 2  -  12 / 107\n"
     ]
    },
    {
     "name": "stderr",
     "output_type": "stream",
     "text": [
      "\n",
      "\n",
      "\n",
      "Thread num: 6:  11%|██████▊                                                      | 12/107 [1:05:04<8:33:03, 324.03s/it]\u001b[A\u001b[A\u001b[A"
     ]
    },
    {
     "name": "stdout",
     "output_type": "stream",
     "text": [
      "completed symbols FAX: APEN: JUPW: IPI: ENLC: WRTC: RMBL: PHX: KDMN: SSPK: EBR: BKCC - thread num: 6  -  12 / 107\n"
     ]
    },
    {
     "name": "stderr",
     "output_type": "stream",
     "text": [
      "\n",
      "\n",
      "\n",
      "\n",
      "\n",
      "\n",
      "\n",
      "Thread num: 4:  13%|███████▉                                                     | 14/107 [1:06:08<4:15:12, 164.65s/it]\u001b[A\u001b[A\u001b[A\u001b[A\u001b[A\u001b[A\u001b[A"
     ]
    },
    {
     "name": "stdout",
     "output_type": "stream",
     "text": [
      "completed symbols CIM: VTSI: BTN: GP: ETTX: RUHN: GLDM: ALDX: EMX: MIND: BMRA: INSE: CHKR: SV - thread num: 4  -  14 / 107\n"
     ]
    },
    {
     "name": "stderr",
     "output_type": "stream",
     "text": [
      "\n"
     ]
    },
    {
     "name": "stdout",
     "output_type": "stream",
     "text": [
      "completed symbols AACQ: CTK: SVC: EGAN: PSTI: SAEXQ: EB: ATEN: CDXC: PVL: SILV - thread num: 3  -  11 / 107\n"
     ]
    },
    {
     "name": "stderr",
     "output_type": "stream",
     "text": [
      "Thread num: 3:  10%|██████▎                                                      | 11/107 [1:07:20<9:33:23, 358.37s/it]\u001b[A\n",
      "\n",
      "\n",
      "\n",
      "\n",
      "\n",
      "Thread num: 5:  15%|█████████                                                    | 16/107 [1:07:25<6:59:06, 276.34s/it]\u001b[A\u001b[A\u001b[A\u001b[A\u001b[A\u001b[A"
     ]
    },
    {
     "name": "stdout",
     "output_type": "stream",
     "text": [
      "completed symbols QQQJ: CFFA: ACEV: USL: ORGO: BBW: SYBX: ECC: WSTL: CDR: IFRX: TRIL: DMYI: OSW: SMSI: ZDGE - thread num: 5  -  16 / 107\n"
     ]
    },
    {
     "name": "stderr",
     "output_type": "stream",
     "text": [
      "\r",
      "Thread num: 2:  12%|███████▍                                                     | 13/107 [1:08:35<9:16:31, 355.23s/it]"
     ]
    },
    {
     "name": "stdout",
     "output_type": "stream",
     "text": [
      "completed symbols OMP: APLT: NRO: IMH: THM: WHLM: EBET: VNRX: RLX: LEVI: ASTS: IMMR: DSX - thread num: 2  -  13 / 107\n"
     ]
    },
    {
     "name": "stderr",
     "output_type": "stream",
     "text": [
      "\n",
      "\n",
      "\n",
      "\n",
      "\n",
      "\n",
      "Thread num: 5:  16%|█████████▋                                                   | 17/107 [1:12:27<7:05:53, 283.92s/it]\u001b[A\u001b[A\u001b[A\u001b[A\u001b[A\u001b[A"
     ]
    },
    {
     "name": "stdout",
     "output_type": "stream",
     "text": [
      "completed symbols QQQJ: CFFA: ACEV: USL: ORGO: BBW: SYBX: ECC: WSTL: CDR: IFRX: TRIL: DMYI: OSW: SMSI: ZDGE: SDIV - thread num: 5  -  17 / 107\n"
     ]
    },
    {
     "name": "stderr",
     "output_type": "stream",
     "text": [
      "\n",
      "Thread num: 3:  11%|██████▊                                                      | 12/107 [1:14:17<9:55:20, 376.01s/it]"
     ]
    },
    {
     "name": "stdout",
     "output_type": "stream",
     "text": [
      "completed symbols AACQ: CTK: SVC: EGAN: PSTI: SAEXQ: EB: ATEN: CDXC: PVL: SILV: SILJ - thread num: 3  -  12 / 107\n"
     ]
    },
    {
     "name": "stderr",
     "output_type": "stream",
     "text": [
      "\u001b[A\n",
      "\n",
      "\n",
      "\n",
      "\n",
      "\n",
      "Thread num: 5:  17%|██████████▎                                                  | 18/107 [1:16:01<6:30:00, 262.93s/it]\u001b[A\u001b[A\u001b[A\u001b[A\u001b[A\u001b[A"
     ]
    },
    {
     "name": "stdout",
     "output_type": "stream",
     "text": [
      "completed symbols QQQJ: CFFA: ACEV: USL: ORGO: BBW: SYBX: ECC: WSTL: CDR: IFRX: TRIL: DMYI: OSW: SMSI: ZDGE: SDIV: VBLT - thread num: 5  -  18 / 107\n"
     ]
    },
    {
     "name": "stderr",
     "output_type": "stream",
     "text": [
      "\n",
      "\n",
      "\n",
      "Thread num: 6:  12%|███████▎                                                    | 13/107 [1:16:12<11:08:57, 426.99s/it]\u001b[A\u001b[A\u001b[A"
     ]
    },
    {
     "name": "stdout",
     "output_type": "stream",
     "text": [
      "completed symbols FAX: APEN: JUPW: IPI: ENLC: WRTC: RMBL: PHX: KDMN: SSPK: EBR: BKCC: RWT - thread num: 6  -  13 / 107\n"
     ]
    },
    {
     "name": "stderr",
     "output_type": "stream",
     "text": [
      "\n",
      "Thread num: 3:  12%|███████▍                                                     | 13/107 [1:17:18<8:17:02, 317.27s/it]\u001b[A"
     ]
    },
    {
     "name": "stdout",
     "output_type": "stream",
     "text": [
      "completed symbols AACQ: CTK: SVC: EGAN: PSTI: SAEXQ: EB: ATEN: CDXC: PVL: SILV: SILJ: NRBO - thread num: 3  -  13 / 107\n"
     ]
    },
    {
     "name": "stderr",
     "output_type": "stream",
     "text": [
      "\n",
      "\n",
      "\n"
     ]
    },
    {
     "name": "stdout",
     "output_type": "stream",
     "text": [
      "completed symbols FAX: APEN: JUPW: IPI: ENLC: WRTC: RMBL: PHX: KDMN: SSPK: EBR: BKCC: RWT: GSUM - thread num: 6  -  14 / 107\n"
     ]
    },
    {
     "name": "stderr",
     "output_type": "stream",
     "text": [
      "Thread num: 6:  13%|███████▉                                                     | 14/107 [1:18:33<8:49:13, 341.44s/it]\u001b[A\u001b[A\u001b[A\n",
      "\n",
      "\n",
      "Thread num: 6:  14%|████████▌                                                    | 15/107 [1:19:34<6:34:24, 257.22s/it]\u001b[A\u001b[A\u001b[A"
     ]
    },
    {
     "name": "stdout",
     "output_type": "stream",
     "text": [
      "completed symbols FAX: APEN: JUPW: IPI: ENLC: WRTC: RMBL: PHX: KDMN: SSPK: EBR: BKCC: RWT: GSUM: FGPR - thread num: 6  -  15 / 107\n"
     ]
    },
    {
     "name": "stderr",
     "output_type": "stream",
     "text": [
      "\n",
      "\n",
      "\n",
      "\n",
      "\n",
      "\n",
      "Thread num: 5:  18%|██████████▊                                                  | 19/107 [1:22:26<7:19:12, 299.46s/it]\u001b[A\u001b[A\u001b[A\u001b[A\u001b[A\u001b[A"
     ]
    },
    {
     "name": "stdout",
     "output_type": "stream",
     "text": [
      "completed symbols QQQJ: CFFA: ACEV: USL: ORGO: BBW: SYBX: ECC: WSTL: CDR: IFRX: TRIL: DMYI: OSW: SMSI: ZDGE: SDIV: VBLT: SOGO - thread num: 5  -  19 / 107\n"
     ]
    },
    {
     "name": "stderr",
     "output_type": "stream",
     "text": [
      "\n",
      "\n",
      "\n",
      "Thread num: 6:  15%|█████████                                                    | 16/107 [1:23:46<6:27:39, 255.60s/it]\u001b[A\u001b[A\u001b[A"
     ]
    },
    {
     "name": "stdout",
     "output_type": "stream",
     "text": [
      "completed symbols FAX: APEN: JUPW: IPI: ENLC: WRTC: RMBL: PHX: KDMN: SSPK: EBR: BKCC: RWT: GSUM: FGPR: MXC - thread num: 6  -  16 / 107\n"
     ]
    },
    {
     "name": "stderr",
     "output_type": "stream",
     "text": [
      "\n",
      "\n",
      "\n",
      "\n",
      "\n",
      "\n",
      "\n",
      "Thread num: 4:  14%|████████▍                                                   | 15/107 [1:24:11<11:14:39, 439.99s/it]\u001b[A\u001b[A\u001b[A\u001b[A\u001b[A\u001b[A\u001b[A"
     ]
    },
    {
     "name": "stdout",
     "output_type": "stream",
     "text": [
      "completed symbols CIM: VTSI: BTN: GP: ETTX: RUHN: GLDM: ALDX: EMX: MIND: BMRA: INSE: CHKR: SV: BLMN - thread num: 4  -  15 / 107\n"
     ]
    },
    {
     "name": "stderr",
     "output_type": "stream",
     "text": [
      "\n",
      "Thread num: 3:  13%|███████▉                                                     | 14/107 [1:24:40<9:10:05, 354.90s/it]\u001b[A"
     ]
    },
    {
     "name": "stdout",
     "output_type": "stream",
     "text": [
      "completed symbols AACQ: CTK: SVC: EGAN: PSTI: SAEXQ: EB: ATEN: CDXC: PVL: SILV: SILJ: NRBO: CARA - thread num: 3  -  14 / 107\n"
     ]
    },
    {
     "name": "stderr",
     "output_type": "stream",
     "text": [
      "\n",
      "\n",
      "\n",
      "Thread num: 6:  16%|█████████▋                                                   | 17/107 [1:24:49<4:56:51, 197.91s/it]\u001b[A\u001b[A\u001b[A"
     ]
    },
    {
     "name": "stdout",
     "output_type": "stream",
     "text": [
      "completed symbols FAX: APEN: JUPW: IPI: ENLC: WRTC: RMBL: PHX: KDMN: SSPK: EBR: BKCC: RWT: GSUM: FGPR: MXC: IGXT - thread num: 6  -  17 / 107\n"
     ]
    },
    {
     "name": "stderr",
     "output_type": "stream",
     "text": [
      "\n",
      "\n",
      "\n",
      "\n",
      "\n",
      "\n",
      "Thread num: 5:  19%|███████████▍                                                 | 20/107 [1:25:05<6:13:06, 257.32s/it]\u001b[A\u001b[A\u001b[A\u001b[A\u001b[A\u001b[A"
     ]
    },
    {
     "name": "stdout",
     "output_type": "stream",
     "text": [
      "completed symbols QQQJ: CFFA: ACEV: USL: ORGO: BBW: SYBX: ECC: WSTL: CDR: IFRX: TRIL: DMYI: OSW: SMSI: ZDGE: SDIV: VBLT: SOGO: JT - thread num: 5  -  20 / 107\n"
     ]
    },
    {
     "name": "stderr",
     "output_type": "stream",
     "text": [
      "\n",
      "\n",
      "\n",
      "\n",
      "\n",
      "\n",
      "\n",
      "Thread num: 4:  15%|█████████                                                    | 16/107 [1:27:07<9:07:14, 360.81s/it]\u001b[A\u001b[A\u001b[A\u001b[A\u001b[A\u001b[A\u001b[A"
     ]
    },
    {
     "name": "stdout",
     "output_type": "stream",
     "text": [
      "completed symbols CIM: VTSI: BTN: GP: ETTX: RUHN: GLDM: ALDX: EMX: MIND: BMRA: INSE: CHKR: SV: BLMN: QUIK - thread num: 4  -  16 / 107\n"
     ]
    },
    {
     "name": "stderr",
     "output_type": "stream",
     "text": [
      "\n",
      "\n",
      "\n",
      "\n",
      "\n",
      "\n",
      "Thread num: 5:  20%|███████████▉                                                 | 21/107 [1:27:30<5:20:48, 223.82s/it]\u001b[A\u001b[A\u001b[A\u001b[A\u001b[A\u001b[A"
     ]
    },
    {
     "name": "stdout",
     "output_type": "stream",
     "text": [
      "completed symbols QQQJ: CFFA: ACEV: USL: ORGO: BBW: SYBX: ECC: WSTL: CDR: IFRX: TRIL: DMYI: OSW: SMSI: ZDGE: SDIV: VBLT: SOGO: JT: SPNV - thread num: 5  -  21 / 107\n"
     ]
    },
    {
     "name": "stderr",
     "output_type": "stream",
     "text": [
      "\n",
      "Thread num: 3:  14%|████████▌                                                    | 15/107 [1:28:44<8:13:09, 321.63s/it]\u001b[A"
     ]
    },
    {
     "name": "stdout",
     "output_type": "stream",
     "text": [
      "completed symbols AACQ: CTK: SVC: EGAN: PSTI: SAEXQ: EB: ATEN: CDXC: PVL: SILV: SILJ: NRBO: CARA: RTLR - thread num: 3  -  15 / 107\n"
     ]
    },
    {
     "name": "stderr",
     "output_type": "stream",
     "text": [
      "\r",
      "Thread num: 2:  13%|███████▊                                                    | 14/107 [1:29:42<16:14:46, 628.88s/it]"
     ]
    },
    {
     "name": "stdout",
     "output_type": "stream",
     "text": [
      "completed symbols OMP: APLT: NRO: IMH: THM: WHLM: EBET: VNRX: RLX: LEVI: ASTS: IMMR: DSX: CDE - thread num: 2  -  14 / 107\n"
     ]
    },
    {
     "name": "stderr",
     "output_type": "stream",
     "text": [
      "\n",
      "\n",
      "\n",
      "Thread num: 6:  17%|██████████▎                                                  | 18/107 [1:31:13<6:16:21, 253.73s/it]\u001b[A\u001b[A\u001b[A"
     ]
    },
    {
     "name": "stdout",
     "output_type": "stream",
     "text": [
      "completed symbols FAX: APEN: JUPW: IPI: ENLC: WRTC: RMBL: PHX: KDMN: SSPK: EBR: BKCC: RWT: GSUM: FGPR: MXC: IGXT: GSKY - thread num: 6  -  18 / 107\n"
     ]
    },
    {
     "name": "stderr",
     "output_type": "stream",
     "text": [
      "\n",
      "\n",
      "\n",
      "\n",
      "\n",
      "\n",
      "Thread num: 5:  21%|████████████▌                                                | 22/107 [1:32:41<5:53:52, 249.79s/it]\u001b[A\u001b[A\u001b[A\u001b[A\u001b[A\u001b[A"
     ]
    },
    {
     "name": "stdout",
     "output_type": "stream",
     "text": [
      "completed symbols QQQJ: CFFA: ACEV: USL: ORGO: BBW: SYBX: ECC: WSTL: CDR: IFRX: TRIL: DMYI: OSW: SMSI: ZDGE: SDIV: VBLT: SOGO: JT: SPNV: IDRA - thread num: 5  -  22 / 107\n"
     ]
    },
    {
     "name": "stderr",
     "output_type": "stream",
     "text": [
      "\r",
      "Thread num: 2:  14%|████████▍                                                   | 15/107 [1:34:48<13:35:36, 531.92s/it]"
     ]
    },
    {
     "name": "stdout",
     "output_type": "stream",
     "text": [
      "completed symbols OMP: APLT: NRO: IMH: THM: WHLM: EBET: VNRX: RLX: LEVI: ASTS: IMMR: DSX: CDE: YI - thread num: 2  -  15 / 107\n"
     ]
    },
    {
     "name": "stderr",
     "output_type": "stream",
     "text": [
      "\n",
      "\n",
      "\n",
      "Thread num: 6:  18%|██████████▊                                                  | 19/107 [1:36:53<6:49:56, 279.51s/it]\u001b[A\u001b[A\u001b[A"
     ]
    },
    {
     "name": "stdout",
     "output_type": "stream",
     "text": [
      "completed symbols FAX: APEN: JUPW: IPI: ENLC: WRTC: RMBL: PHX: KDMN: SSPK: EBR: BKCC: RWT: GSUM: FGPR: MXC: IGXT: GSKY: RTP - thread num: 6  -  19 / 107\n"
     ]
    },
    {
     "name": "stderr",
     "output_type": "stream",
     "text": [
      "\n",
      "\n",
      "\n",
      "\n",
      "\n",
      "\n",
      "\n",
      "Thread num: 4:  16%|█████████▌                                                  | 17/107 [1:36:59<10:45:17, 430.19s/it]\u001b[A\u001b[A\u001b[A\u001b[A\u001b[A\u001b[A\u001b[A"
     ]
    },
    {
     "name": "stdout",
     "output_type": "stream",
     "text": [
      "completed symbols CIM: VTSI: BTN: GP: ETTX: RUHN: GLDM: ALDX: EMX: MIND: BMRA: INSE: CHKR: SV: BLMN: QUIK: FPRX - thread num: 4  -  17 / 107\n"
     ]
    },
    {
     "name": "stderr",
     "output_type": "stream",
     "text": [
      "\r",
      "Thread num: 2:  15%|████████▉                                                   | 16/107 [1:38:53<11:16:24, 445.98s/it]"
     ]
    },
    {
     "name": "stdout",
     "output_type": "stream",
     "text": [
      "completed symbols OMP: APLT: NRO: IMH: THM: WHLM: EBET: VNRX: RLX: LEVI: ASTS: IMMR: DSX: CDE: YI: TRIB - thread num: 2  -  16 / 107\n"
     ]
    },
    {
     "name": "stderr",
     "output_type": "stream",
     "text": [
      "\n",
      "\n",
      "\n",
      "\n",
      "\n",
      "\n",
      "\n",
      "Thread num: 4:  17%|██████████▎                                                  | 18/107 [1:40:10<8:51:52, 358.57s/it]\u001b[A\u001b[A\u001b[A\u001b[A\u001b[A\u001b[A\u001b[A"
     ]
    },
    {
     "name": "stdout",
     "output_type": "stream",
     "text": [
      "completed symbols CIM: VTSI: BTN: GP: ETTX: RUHN: GLDM: ALDX: EMX: MIND: BMRA: INSE: CHKR: SV: BLMN: QUIK: FPRX: PHCF - thread num: 4  -  18 / 107\n"
     ]
    },
    {
     "name": "stderr",
     "output_type": "stream",
     "text": [
      "\r",
      "Thread num: 2:  16%|█████████▋                                                   | 17/107 [1:41:06<8:47:48, 351.87s/it]"
     ]
    },
    {
     "name": "stdout",
     "output_type": "stream",
     "text": [
      "completed symbols OMP: APLT: NRO: IMH: THM: WHLM: EBET: VNRX: RLX: LEVI: ASTS: IMMR: DSX: CDE: YI: TRIB: ROCH - thread num: 2  -  17 / 107\n"
     ]
    },
    {
     "name": "stderr",
     "output_type": "stream",
     "text": [
      "\n",
      "Thread num: 3:  15%|████████▉                                                   | 16/107 [1:41:50<11:39:04, 460.93s/it]\u001b[A"
     ]
    },
    {
     "name": "stdout",
     "output_type": "stream",
     "text": [
      "completed symbols AACQ: CTK: SVC: EGAN: PSTI: SAEXQ: EB: ATEN: CDXC: PVL: SILV: SILJ: NRBO: CARA: RTLR: CXW - thread num: 3  -  16 / 107\n"
     ]
    },
    {
     "name": "stderr",
     "output_type": "stream",
     "text": [
      "\n",
      "\n",
      "\n",
      "Thread num: 6:  19%|███████████▍                                                 | 20/107 [1:43:04<7:25:00, 306.91s/it]\u001b[A\u001b[A\u001b[A"
     ]
    },
    {
     "name": "stdout",
     "output_type": "stream",
     "text": [
      "completed symbols FAX: APEN: JUPW: IPI: ENLC: WRTC: RMBL: PHX: KDMN: SSPK: EBR: BKCC: RWT: GSUM: FGPR: MXC: IGXT: GSKY: RTP: MEIP - thread num: 6  -  20 / 107\n"
     ]
    },
    {
     "name": "stderr",
     "output_type": "stream",
     "text": [
      "\r",
      "Thread num: 2:  17%|██████████▎                                                  | 18/107 [1:44:16<7:29:59, 303.37s/it]"
     ]
    },
    {
     "name": "stdout",
     "output_type": "stream",
     "text": [
      "completed symbols OMP: APLT: NRO: IMH: THM: WHLM: EBET: VNRX: RLX: LEVI: ASTS: IMMR: DSX: CDE: YI: TRIB: ROCH: HZON - thread num: 2  -  18 / 107\n"
     ]
    },
    {
     "name": "stderr",
     "output_type": "stream",
     "text": [
      "\n",
      "\n",
      "\n",
      "\n",
      "\n",
      "\n",
      "Thread num: 5:  21%|█████████████                                                | 23/107 [1:44:21<8:58:50, 384.89s/it]\u001b[A\u001b[A\u001b[A\u001b[A\u001b[A\u001b[A"
     ]
    },
    {
     "name": "stdout",
     "output_type": "stream",
     "text": [
      "completed symbols QQQJ: CFFA: ACEV: USL: ORGO: BBW: SYBX: ECC: WSTL: CDR: IFRX: TRIL: DMYI: OSW: SMSI: ZDGE: SDIV: VBLT: SOGO: JT: SPNV: IDRA: UNG - thread num: 5  -  23 / 107\n"
     ]
    },
    {
     "name": "stderr",
     "output_type": "stream",
     "text": [
      "\n",
      "\n",
      "\n",
      "\n",
      "\n",
      "Thread num: 1:   9%|█████▌                                                     | 10/107 [1:44:49<35:28:08, 1316.38s/it]\u001b[A\u001b[A\u001b[A\u001b[A\u001b[A"
     ]
    },
    {
     "name": "stdout",
     "output_type": "stream",
     "text": [
      "completed symbols OSS: VHC: FSI: SYRS: STIM: LMNL: CTHR: TDAC: MARPS: SLB - thread num: 1  -  10 / 107\n"
     ]
    },
    {
     "name": "stderr",
     "output_type": "stream",
     "text": [
      "\n",
      "\n",
      "\n",
      "\n",
      "\n",
      "\n",
      "\n",
      "Thread num: 4:  18%|██████████▊                                                  | 19/107 [1:44:58<8:14:29, 337.16s/it]\u001b[A\u001b[A\u001b[A\u001b[A\u001b[A\u001b[A\u001b[A"
     ]
    },
    {
     "name": "stdout",
     "output_type": "stream",
     "text": [
      "completed symbols CIM: VTSI: BTN: GP: ETTX: RUHN: GLDM: ALDX: EMX: MIND: BMRA: INSE: CHKR: SV: BLMN: QUIK: FPRX: PHCF: TWI - thread num: 4  -  19 / 107\n"
     ]
    },
    {
     "name": "stderr",
     "output_type": "stream",
     "text": [
      "\n",
      "\n",
      "\n",
      "Thread num: 6:  20%|███████████▉                                                 | 21/107 [1:45:03<5:59:03, 250.51s/it]\u001b[A\u001b[A\u001b[A"
     ]
    },
    {
     "name": "stdout",
     "output_type": "stream",
     "text": [
      "completed symbols FAX: APEN: JUPW: IPI: ENLC: WRTC: RMBL: PHX: KDMN: SSPK: EBR: BKCC: RWT: GSUM: FGPR: MXC: IGXT: GSKY: RTP: MEIP: PUYI - thread num: 6  -  21 / 107\n",
      "completed symbols OSS: VHC: FSI: SYRS: STIM: LMNL: CTHR: TDAC: MARPS: SLB: VVOS - thread num: 1 "
     ]
    },
    {
     "name": "stderr",
     "output_type": "stream",
     "text": [
      "\n",
      "\n",
      "\n",
      "\n",
      "\n",
      "Thread num: 1:  10%|██████▏                                                     | 11/107 [1:47:25<25:49:24, 968.38s/it]\u001b[A\u001b[A\u001b[A\u001b[A\u001b[A"
     ]
    },
    {
     "name": "stdout",
     "output_type": "stream",
     "text": [
      " -  11 / 107\n"
     ]
    },
    {
     "name": "stderr",
     "output_type": "stream",
     "text": [
      "\n",
      "\n",
      "\n",
      "\n",
      "\n",
      "\n",
      "Thread num: 5:  22%|█████████████▋                                               | 24/107 [1:49:48<8:28:24, 367.53s/it]\u001b[A\u001b[A\u001b[A\u001b[A\u001b[A\u001b[A"
     ]
    },
    {
     "name": "stdout",
     "output_type": "stream",
     "text": [
      "completed symbols QQQJ: CFFA: ACEV: USL: ORGO: BBW: SYBX: ECC: WSTL: CDR: IFRX: TRIL: DMYI: OSW: SMSI: ZDGE: SDIV: VBLT: SOGO: JT: SPNV: IDRA: UNG: MYOS - thread num: 5  -  24 / 107\n"
     ]
    },
    {
     "name": "stderr",
     "output_type": "stream",
     "text": [
      "\n",
      "\n",
      "\n",
      "Thread num: 6:  21%|████████████▌                                                | 22/107 [1:50:35<6:29:41, 275.08s/it]\u001b[A\u001b[A\u001b[A"
     ]
    },
    {
     "name": "stdout",
     "output_type": "stream",
     "text": [
      "completed symbols FAX: APEN: JUPW: IPI: ENLC: WRTC: RMBL: PHX: KDMN: SSPK: EBR: BKCC: RWT: GSUM: FGPR: MXC: IGXT: GSKY: RTP: MEIP: PUYI: MYT - thread num: 6  -  22 / 107\n"
     ]
    },
    {
     "name": "stderr",
     "output_type": "stream",
     "text": [
      "\r",
      "Thread num: 2:  18%|██████████▊                                                  | 19/107 [1:50:46<8:03:16, 329.50s/it]"
     ]
    },
    {
     "name": "stdout",
     "output_type": "stream",
     "text": [
      "completed symbols OMP: APLT: NRO: IMH: THM: WHLM: EBET: VNRX: RLX: LEVI: ASTS: IMMR: DSX: CDE: YI: TRIB: ROCH: HZON: TNK - thread num: 2  -  19 / 107\n"
     ]
    },
    {
     "name": "stderr",
     "output_type": "stream",
     "text": [
      "\n",
      "\n",
      "\n",
      "\n",
      "\n",
      "\n",
      "\n",
      "Thread num: 4:  19%|███████████▍                                                 | 20/107 [1:51:09<8:23:52, 347.50s/it]\u001b[A\u001b[A\u001b[A\u001b[A\u001b[A\u001b[A\u001b[A"
     ]
    },
    {
     "name": "stdout",
     "output_type": "stream",
     "text": [
      "completed symbols CIM: VTSI: BTN: GP: ETTX: RUHN: GLDM: ALDX: EMX: MIND: BMRA: INSE: CHKR: SV: BLMN: QUIK: FPRX: PHCF: TWI: MUFG - thread num: 4  -  20 / 107\n"
     ]
    },
    {
     "name": "stderr",
     "output_type": "stream",
     "text": [
      "\n",
      "\n",
      "\n",
      "\n",
      "\n",
      "\n",
      "Thread num: 5:  23%|██████████████▎                                              | 25/107 [1:52:54<7:08:07, 313.26s/it]\u001b[A\u001b[A\u001b[A\u001b[A\u001b[A\u001b[A"
     ]
    },
    {
     "name": "stdout",
     "output_type": "stream",
     "text": [
      "completed symbols QQQJ: CFFA: ACEV: USL: ORGO: BBW: SYBX: ECC: WSTL: CDR: IFRX: TRIL: DMYI: OSW: SMSI: ZDGE: SDIV: VBLT: SOGO: JT: SPNV: IDRA: UNG: MYOS: ALYA - thread num: 5  -  25 / 107\n"
     ]
    },
    {
     "name": "stderr",
     "output_type": "stream",
     "text": [
      "\n",
      "Thread num: 3:  16%|█████████▌                                                  | 17/107 [1:53:39<13:23:07, 535.42s/it]\u001b[A"
     ]
    },
    {
     "name": "stdout",
     "output_type": "stream",
     "text": [
      "completed symbols AACQ: CTK: SVC: EGAN: PSTI: SAEXQ: EB: ATEN: CDXC: PVL: SILV: SILJ: NRBO: CARA: RTLR: CXW: FRO - thread num: 3  -  17 / 107\n"
     ]
    },
    {
     "name": "stderr",
     "output_type": "stream",
     "text": [
      "\n",
      "\n",
      "\n",
      "\n",
      "\n",
      "\n",
      "Thread num: 5:  24%|██████████████▊                                              | 26/107 [1:55:33<6:00:13, 266.84s/it]\u001b[A\u001b[A\u001b[A\u001b[A\u001b[A\u001b[A"
     ]
    },
    {
     "name": "stdout",
     "output_type": "stream",
     "text": [
      "completed symbols QQQJ: CFFA: ACEV: USL: ORGO: BBW: SYBX: ECC: WSTL: CDR: IFRX: TRIL: DMYI: OSW: SMSI: ZDGE: SDIV: VBLT: SOGO: JT: SPNV: IDRA: UNG: MYOS: ALYA: HNRG - thread num: 5  -  26 / 107\n"
     ]
    },
    {
     "name": "stderr",
     "output_type": "stream",
     "text": [
      "\n",
      "\n",
      "\n",
      "\n",
      "\n",
      "\n",
      "\n",
      "Thread num: 4:  20%|███████████▉                                                 | 21/107 [1:55:48<7:48:24, 326.79s/it]\u001b[A\u001b[A\u001b[A\u001b[A\u001b[A\u001b[A\u001b[A"
     ]
    },
    {
     "name": "stdout",
     "output_type": "stream",
     "text": [
      "completed symbols CIM: VTSI: BTN: GP: ETTX: RUHN: GLDM: ALDX: EMX: MIND: BMRA: INSE: CHKR: SV: BLMN: QUIK: FPRX: PHCF: TWI: MUFG: JAKK - thread num: 4  -  21 / 107\n"
     ]
    },
    {
     "name": "stderr",
     "output_type": "stream",
     "text": [
      "\n",
      "Thread num: 3:  17%|██████████                                                  | 18/107 [1:56:12<10:24:02, 420.70s/it]\u001b[A"
     ]
    },
    {
     "name": "stdout",
     "output_type": "stream",
     "text": [
      "completed symbols AACQ: CTK: SVC: EGAN: PSTI: SAEXQ: EB: ATEN: CDXC: PVL: SILV: SILJ: NRBO: CARA: RTLR: CXW: FRO: EAST - thread num: 3  -  18 / 107\n"
     ]
    },
    {
     "name": "stderr",
     "output_type": "stream",
     "text": [
      "\n",
      "\n",
      "\n",
      "\n",
      "\n",
      "Thread num: 1:  11%|██████▋                                                     | 12/107 [1:56:30<22:11:54, 841.21s/it]\u001b[A\u001b[A\u001b[A\u001b[A\u001b[A"
     ]
    },
    {
     "name": "stdout",
     "output_type": "stream",
     "text": [
      "completed symbols OSS: VHC: FSI: SYRS: STIM: LMNL: CTHR: TDAC: MARPS: SLB: VVOS: MPLN - thread num: 1  -  12 / 107\n"
     ]
    },
    {
     "name": "stderr",
     "output_type": "stream",
     "text": [
      "\n",
      "\n",
      "\n",
      "Thread num: 6:  21%|█████████████                                                | 23/107 [1:58:15<7:42:43, 330.51s/it]\u001b[A\u001b[A\u001b[A"
     ]
    },
    {
     "name": "stdout",
     "output_type": "stream",
     "text": [
      "completed symbols FAX: APEN: JUPW: IPI: ENLC: WRTC: RMBL: PHX: KDMN: SSPK: EBR: BKCC: RWT: GSUM: FGPR: MXC: IGXT: GSKY: RTP: MEIP: PUYI: MYT: EXTR - thread num: 6  -  23 / 107\n"
     ]
    },
    {
     "name": "stderr",
     "output_type": "stream",
     "text": [
      "\n",
      "\n",
      "\n",
      "\n",
      "\n",
      "\n",
      "Thread num: 5:  25%|███████████████▍                                             | 27/107 [1:58:22<5:16:43, 237.55s/it]\u001b[A\u001b[A\u001b[A\u001b[A\u001b[A\u001b[A"
     ]
    },
    {
     "name": "stdout",
     "output_type": "stream",
     "text": [
      "completed symbols QQQJ: CFFA: ACEV: USL: ORGO: BBW: SYBX: ECC: WSTL: CDR: IFRX: TRIL: DMYI: OSW: SMSI: ZDGE: SDIV: VBLT: SOGO: JT: SPNV: IDRA: UNG: MYOS: ALYA: HNRG: ARC - thread num: 5  -  27 / 107\n"
     ]
    },
    {
     "name": "stderr",
     "output_type": "stream",
     "text": [
      "\n",
      "\n",
      "\n",
      "\n",
      "\n",
      "\n",
      "\n",
      "Thread num: 4:  21%|████████████▌                                                | 22/107 [1:59:27<6:57:12, 294.50s/it]\u001b[A\u001b[A\u001b[A\u001b[A\u001b[A\u001b[A\u001b[A"
     ]
    },
    {
     "name": "stdout",
     "output_type": "stream",
     "text": [
      "completed symbols CIM: VTSI: BTN: GP: ETTX: RUHN: GLDM: ALDX: EMX: MIND: BMRA: INSE: CHKR: SV: BLMN: QUIK: FPRX: PHCF: TWI: MUFG: JAKK: IPWR - thread num: 4  -  22 / 107\n"
     ]
    },
    {
     "name": "stderr",
     "output_type": "stream",
     "text": [
      "\n",
      "\n",
      "\n",
      "Thread num: 6:  22%|█████████████▋                                               | 24/107 [2:02:08<6:56:58, 301.42s/it]\u001b[A\u001b[A\u001b[A"
     ]
    },
    {
     "name": "stdout",
     "output_type": "stream",
     "text": [
      "completed symbols FAX: APEN: JUPW: IPI: ENLC: WRTC: RMBL: PHX: KDMN: SSPK: EBR: BKCC: RWT: GSUM: FGPR: MXC: IGXT: GSKY: RTP: MEIP: PUYI: MYT: EXTR: ELVT - thread num: 6  -  24 / 107\n"
     ]
    },
    {
     "name": "stderr",
     "output_type": "stream",
     "text": [
      "\n",
      "\n",
      "\n",
      "\n",
      "\n",
      "\n",
      "\n",
      "Thread num: 4:  21%|█████████████                                                | 23/107 [2:03:39<6:34:37, 281.88s/it]\u001b[A\u001b[A\u001b[A\u001b[A\u001b[A\u001b[A\u001b[A"
     ]
    },
    {
     "name": "stdout",
     "output_type": "stream",
     "text": [
      "completed symbols CIM: VTSI: BTN: GP: ETTX: RUHN: GLDM: ALDX: EMX: MIND: BMRA: INSE: CHKR: SV: BLMN: QUIK: FPRX: PHCF: TWI: MUFG: JAKK: IPWR: WBAI - thread num: 4  -  23 / 107\n"
     ]
    },
    {
     "name": "stderr",
     "output_type": "stream",
     "text": [
      "\n",
      "\n",
      "\n",
      "\n",
      "\n",
      "\n",
      "Thread num: 5:  26%|███████████████▉                                             | 28/107 [2:06:02<6:40:39, 304.29s/it]\u001b[A\u001b[A\u001b[A\u001b[A\u001b[A\u001b[A"
     ]
    },
    {
     "name": "stdout",
     "output_type": "stream",
     "text": [
      "completed symbols QQQJ: CFFA: ACEV: USL: ORGO: BBW: SYBX: ECC: WSTL: CDR: IFRX: TRIL: DMYI: OSW: SMSI: ZDGE: SDIV: VBLT: SOGO: JT: SPNV: IDRA: UNG: MYOS: ALYA: HNRG: ARC: CHMA - thread num: 5  -  28 / 107\n"
     ]
    },
    {
     "name": "stderr",
     "output_type": "stream",
     "text": [
      "\n",
      "Thread num: 3:  18%|██████████▋                                                 | 19/107 [2:08:06<12:25:39, 508.40s/it]\u001b[A"
     ]
    },
    {
     "name": "stdout",
     "output_type": "stream",
     "text": [
      "completed symbols AACQ: CTK: SVC: EGAN: PSTI: SAEXQ: EB: ATEN: CDXC: PVL: SILV: SILJ: NRBO: CARA: RTLR: CXW: FRO: EAST: PING - thread num: 3  -  19 / 107\n"
     ]
    },
    {
     "name": "stderr",
     "output_type": "stream",
     "text": [
      "\r",
      "Thread num: 2:  19%|███████████▏                                                | 20/107 [2:08:40<13:21:17, 552.62s/it]"
     ]
    },
    {
     "name": "stdout",
     "output_type": "stream",
     "text": [
      "completed symbols OMP: APLT: NRO: IMH: THM: WHLM: EBET: VNRX: RLX: LEVI: ASTS: IMMR: DSX: CDE: YI: TRIB: ROCH: HZON: TNK: GNW - thread num: 2  -  20 / 107\n"
     ]
    },
    {
     "name": "stderr",
     "output_type": "stream",
     "text": [
      "\n",
      "\n",
      "\n",
      "\n",
      "\n",
      "Thread num: 1:  12%|███████▎                                                    | 13/107 [2:09:58<21:42:24, 831.33s/it]\u001b[A\u001b[A\u001b[A\u001b[A\u001b[A"
     ]
    },
    {
     "name": "stdout",
     "output_type": "stream",
     "text": [
      "completed symbols OSS: VHC: FSI: SYRS: STIM: LMNL: CTHR: TDAC: MARPS: SLB: VVOS: MPLN: BLUE - thread num: 1  -  13 / 107\n"
     ]
    },
    {
     "name": "stderr",
     "output_type": "stream",
     "text": [
      "\n",
      "\n",
      "\n",
      "Thread num: 6:  23%|██████████████▎                                              | 25/107 [2:10:44<8:19:50, 365.73s/it]\u001b[A\u001b[A\u001b[A"
     ]
    },
    {
     "name": "stdout",
     "output_type": "stream",
     "text": [
      "completed symbols FAX: APEN: JUPW: IPI: ENLC: WRTC: RMBL: PHX: KDMN: SSPK: EBR: BKCC: RWT: GSUM: FGPR: MXC: IGXT: GSKY: RTP: MEIP: PUYI: MYT: EXTR: ELVT: VRAY - thread num: 6  -  25 / 107\n"
     ]
    },
    {
     "name": "stderr",
     "output_type": "stream",
     "text": [
      "\n",
      "\n",
      "\n",
      "\n",
      "\n",
      "\n",
      "Thread num: 5:  27%|████████████████▌                                            | 29/107 [2:12:09<6:59:50, 322.95s/it]\u001b[A\u001b[A\u001b[A\u001b[A\u001b[A\u001b[A"
     ]
    },
    {
     "name": "stdout",
     "output_type": "stream",
     "text": [
      "completed symbols QQQJ: CFFA: ACEV: USL: ORGO: BBW: SYBX: ECC: WSTL: CDR: IFRX: TRIL: DMYI: OSW: SMSI: ZDGE: SDIV: VBLT: SOGO: JT: SPNV: IDRA: UNG: MYOS: ALYA: HNRG: ARC: CHMA: MCF - thread num: 5  -  29 / 107\n"
     ]
    },
    {
     "name": "stderr",
     "output_type": "stream",
     "text": [
      "\n",
      "\n",
      "\n",
      "\n",
      "\n",
      "Thread num: 1:  13%|███████▊                                                    | 14/107 [2:12:15<16:05:49, 623.11s/it]\u001b[A\u001b[A\u001b[A\u001b[A\u001b[A"
     ]
    },
    {
     "name": "stdout",
     "output_type": "stream",
     "text": [
      "completed symbols OSS: VHC: FSI: SYRS: STIM: LMNL: CTHR: TDAC: MARPS: SLB: VVOS: MPLN: BLUE: FPAC - thread num: 1  -  14 / 107\n"
     ]
    },
    {
     "name": "stderr",
     "output_type": "stream",
     "text": [
      "\r",
      "Thread num: 2:  20%|███████████▊                                                | 21/107 [2:12:47<11:00:39, 460.93s/it]"
     ]
    },
    {
     "name": "stdout",
     "output_type": "stream",
     "text": [
      "completed symbols OMP: APLT: NRO: IMH: THM: WHLM: EBET: VNRX: RLX: LEVI: ASTS: IMMR: DSX: CDE: YI: TRIB: ROCH: HZON: TNK: GNW: MILE - thread num: 2  -  21 / 107\n"
     ]
    },
    {
     "name": "stderr",
     "output_type": "stream",
     "text": [
      "\n",
      "\n",
      "\n",
      "Thread num: 6:  24%|██████████████▊                                              | 26/107 [2:13:52<7:01:48, 312.45s/it]\u001b[A\u001b[A\u001b[A"
     ]
    },
    {
     "name": "stdout",
     "output_type": "stream",
     "text": [
      "completed symbols FAX: APEN: JUPW: IPI: ENLC: WRTC: RMBL: PHX: KDMN: SSPK: EBR: BKCC: RWT: GSUM: FGPR: MXC: IGXT: GSKY: RTP: MEIP: PUYI: MYT: EXTR: ELVT: VRAY: HAPP - thread num: 6  -  26 / 107\n"
     ]
    },
    {
     "name": "stderr",
     "output_type": "stream",
     "text": [
      "\n",
      "Thread num: 3:  19%|███████████▏                                                | 20/107 [2:14:13<11:15:53, 466.13s/it]\u001b[A"
     ]
    },
    {
     "name": "stdout",
     "output_type": "stream",
     "text": [
      "completed symbols AACQ: CTK: SVC: EGAN: PSTI: SAEXQ: EB: ATEN: CDXC: PVL: SILV: SILJ: NRBO: CARA: RTLR: CXW: FRO: EAST: PING: JPST - thread num: 3  -  20 / 107\n"
     ]
    },
    {
     "name": "stderr",
     "output_type": "stream",
     "text": [
      "\r",
      "Thread num: 2:  21%|████████████▌                                                | 22/107 [2:14:21<8:17:04, 350.88s/it]"
     ]
    },
    {
     "name": "stdout",
     "output_type": "stream",
     "text": [
      "completed symbols OMP: APLT: NRO: IMH: THM: WHLM: EBET: VNRX: RLX: LEVI: ASTS: IMMR: DSX: CDE: YI: TRIB: ROCH: HZON: TNK: GNW: MILE: TSIAU - thread num: 2  -  22 / 107\n"
     ]
    },
    {
     "name": "stderr",
     "output_type": "stream",
     "text": [
      "\n",
      "\n",
      "\n",
      "\n",
      "\n",
      "\n",
      "Thread num: 5:  28%|█████████████████                                            | 30/107 [2:14:48<5:51:20, 273.77s/it]\u001b[A\u001b[A\u001b[A\u001b[A\u001b[A\u001b[A"
     ]
    },
    {
     "name": "stdout",
     "output_type": "stream",
     "text": [
      "completed symbols QQQJ: CFFA: ACEV: USL: ORGO: BBW: SYBX: ECC: WSTL: CDR: IFRX: TRIL: DMYI: OSW: SMSI: ZDGE: SDIV: VBLT: SOGO: JT: SPNV: IDRA: UNG: MYOS: ALYA: HNRG: ARC: CHMA: MCF: USIO - thread num: 5  -  30 / 107\n"
     ]
    },
    {
     "name": "stderr",
     "output_type": "stream",
     "text": [
      "\n",
      "\n",
      "\n",
      "Thread num: 6:  25%|███████████████▍                                             | 27/107 [2:16:38<5:58:03, 268.55s/it]\u001b[A\u001b[A\u001b[A"
     ]
    },
    {
     "name": "stdout",
     "output_type": "stream",
     "text": [
      "completed symbols FAX: APEN: JUPW: IPI: ENLC: WRTC: RMBL: PHX: KDMN: SSPK: EBR: BKCC: RWT: GSUM: FGPR: MXC: IGXT: GSKY: RTP: MEIP: PUYI: MYT: EXTR: ELVT: VRAY: HAPP: AAAU - thread num: 6  -  27 / 107\n"
     ]
    },
    {
     "name": "stderr",
     "output_type": "stream",
     "text": [
      "\n",
      "\n",
      "\n",
      "\n",
      "\n"
     ]
    },
    {
     "name": "stdout",
     "output_type": "stream",
     "text": [
      "completed symbols OSS: VHC: FSI: SYRS: STIM: LMNL: CTHR: TDAC: MARPS: SLB: VVOS: MPLN: BLUE: FPAC: EDSA - thread num: 1  -  15 / 107\n"
     ]
    },
    {
     "name": "stderr",
     "output_type": "stream",
     "text": [
      "Thread num: 1:  14%|████████▍                                                   | 15/107 [2:17:33<13:34:41, 531.32s/it]\u001b[A\u001b[A\u001b[A\u001b[A\u001b[A\n",
      "\n",
      "\n",
      "Thread num: 6:  26%|███████████████▉                                             | 28/107 [2:19:18<5:10:23, 235.74s/it]\u001b[A\u001b[A\u001b[A"
     ]
    },
    {
     "name": "stdout",
     "output_type": "stream",
     "text": [
      "completed symbols FAX: APEN: JUPW: IPI: ENLC: WRTC: RMBL: PHX: KDMN: SSPK: EBR: BKCC: RWT: GSUM: FGPR: MXC: IGXT: GSKY: RTP: MEIP: PUYI: MYT: EXTR: ELVT: VRAY: HAPP: AAAU: PACE - thread num: 6  -  28 / 107\n"
     ]
    },
    {
     "name": "stderr",
     "output_type": "stream",
     "text": [
      "\r",
      "Thread num: 2:  21%|█████████████                                                | 23/107 [2:19:27<7:52:26, 337.46s/it]"
     ]
    },
    {
     "name": "stdout",
     "output_type": "stream",
     "text": [
      "completed symbols OMP: APLT: NRO: IMH: THM: WHLM: EBET: VNRX: RLX: LEVI: ASTS: IMMR: DSX: CDE: YI: TRIB: ROCH: HZON: TNK: GNW: MILE: TSIAU: TOUR - thread num: 2  -  23 / 107\n"
     ]
    },
    {
     "name": "stderr",
     "output_type": "stream",
     "text": [
      "\n",
      "\n",
      "\n",
      "\n",
      "\n",
      "Thread num: 1:  15%|████████▉                                                   | 16/107 [2:21:43<11:17:52, 446.95s/it]\u001b[A\u001b[A\u001b[A\u001b[A\u001b[A"
     ]
    },
    {
     "name": "stdout",
     "output_type": "stream",
     "text": [
      "completed symbols OSS: VHC: FSI: SYRS: STIM: LMNL: CTHR: TDAC: MARPS: SLB: VVOS: MPLN: BLUE: FPAC: EDSA: ORMP - thread num: 1  -  16 / 107\n"
     ]
    },
    {
     "name": "stderr",
     "output_type": "stream",
     "text": [
      "\n",
      "\n",
      "\n",
      "\n",
      "\n",
      "\n",
      "Thread num: 5:  29%|█████████████████▋                                           | 31/107 [2:21:49<6:42:51, 318.05s/it]\u001b[A\u001b[A\u001b[A\u001b[A\u001b[A\u001b[A"
     ]
    },
    {
     "name": "stdout",
     "output_type": "stream",
     "text": [
      "completed symbols QQQJ: CFFA: ACEV: USL: ORGO: BBW: SYBX: ECC: WSTL: CDR: IFRX: TRIL: DMYI: OSW: SMSI: ZDGE: SDIV: VBLT: SOGO: JT: SPNV: IDRA: UNG: MYOS: ALYA: HNRG: ARC: CHMA: MCF: USIO: AVEO - thread num: 5  -  31 / 107\n"
     ]
    },
    {
     "name": "stderr",
     "output_type": "stream",
     "text": [
      "\n",
      "\n",
      "\n",
      "Thread num: 6:  27%|████████████████▌                                            | 29/107 [2:25:04<5:49:43, 269.01s/it]\u001b[A\u001b[A\u001b[A"
     ]
    },
    {
     "name": "stdout",
     "output_type": "stream",
     "text": [
      "completed symbols FAX: APEN: JUPW: IPI: ENLC: WRTC: RMBL: PHX: KDMN: SSPK: EBR: BKCC: RWT: GSUM: FGPR: MXC: IGXT: GSKY: RTP: MEIP: PUYI: MYT: EXTR: ELVT: VRAY: HAPP: AAAU: PACE: CSPR - thread num: 6  -  29 / 107\n"
     ]
    },
    {
     "name": "stderr",
     "output_type": "stream",
     "text": [
      "\r",
      "Thread num: 2:  22%|█████████████▋                                               | 24/107 [2:25:05<7:47:13, 337.75s/it]"
     ]
    },
    {
     "name": "stdout",
     "output_type": "stream",
     "text": [
      "completed symbols OMP: APLT: NRO: IMH: THM: WHLM: EBET: VNRX: RLX: LEVI: ASTS: IMMR: DSX: CDE: YI: TRIB: ROCH: HZON: TNK: GNW: MILE: TSIAU: TOUR: ACIU - thread num: 2  -  24 / 107\n"
     ]
    },
    {
     "name": "stderr",
     "output_type": "stream",
     "text": [
      "\n",
      "\n",
      "\n",
      "\n",
      "\n",
      "\n",
      "Thread num: 5:  30%|██████████████████▏                                          | 32/107 [2:25:35<6:02:55, 290.34s/it]\u001b[A\u001b[A\u001b[A\u001b[A\u001b[A\u001b[A"
     ]
    },
    {
     "name": "stdout",
     "output_type": "stream",
     "text": [
      "completed symbols QQQJ: CFFA: ACEV: USL: ORGO: BBW: SYBX: ECC: WSTL: CDR: IFRX: TRIL: DMYI: OSW: SMSI: ZDGE: SDIV: VBLT: SOGO: JT: SPNV: IDRA: UNG: MYOS: ALYA: HNRG: ARC: CHMA: MCF: USIO: AVEO: KLDO - thread num: 5  -  32 / 107\n"
     ]
    },
    {
     "name": "stderr",
     "output_type": "stream",
     "text": [
      "\n",
      "\n",
      "\n",
      "\n",
      "\n",
      "Thread num: 1:  16%|█████████▋                                                   | 17/107 [2:25:54<9:42:17, 388.19s/it]\u001b[A\u001b[A\u001b[A\u001b[A\u001b[A"
     ]
    },
    {
     "name": "stdout",
     "output_type": "stream",
     "text": [
      "completed symbols OSS: VHC: FSI: SYRS: STIM: LMNL: CTHR: TDAC: MARPS: SLB: VVOS: MPLN: BLUE: FPAC: EDSA: ORMP: LAND - thread num: 1  -  17 / 107\n"
     ]
    },
    {
     "name": "stderr",
     "output_type": "stream",
     "text": [
      "\n",
      "\n",
      "\n",
      "\n",
      "\n",
      "\n",
      "\n",
      "Thread num: 4:  22%|█████████████▍                                              | 24/107 [2:26:42<14:06:43, 612.09s/it]\u001b[A\u001b[A\u001b[A\u001b[A\u001b[A\u001b[A\u001b[A"
     ]
    },
    {
     "name": "stdout",
     "output_type": "stream",
     "text": [
      "completed symbols CIM: VTSI: BTN: GP: ETTX: RUHN: GLDM: ALDX: EMX: MIND: BMRA: INSE: CHKR: SV: BLMN: QUIK: FPRX: PHCF: TWI: MUFG: JAKK: IPWR: WBAI: MUR - thread num: 4  -  24 / 107\n"
     ]
    },
    {
     "name": "stderr",
     "output_type": "stream",
     "text": [
      "\n",
      "\n",
      "\n",
      "\n",
      "\n",
      "Thread num: 1:  17%|██████████▎                                                  | 18/107 [2:27:50<7:34:45, 306.57s/it]\u001b[A\u001b[A\u001b[A\u001b[A\u001b[A"
     ]
    },
    {
     "name": "stdout",
     "output_type": "stream",
     "text": [
      "completed symbols OSS: VHC: FSI: SYRS: STIM: LMNL: CTHR: TDAC: MARPS: SLB: VVOS: MPLN: BLUE: FPAC: EDSA: ORMP: LAND: AMST - thread num: 1  -  18 / 107\n"
     ]
    },
    {
     "name": "stderr",
     "output_type": "stream",
     "text": [
      "\n",
      "\n",
      "\n",
      "Thread num: 6:  28%|█████████████████                                            | 30/107 [2:27:59<5:08:46, 240.60s/it]\u001b[A\u001b[A\u001b[A"
     ]
    },
    {
     "name": "stdout",
     "output_type": "stream",
     "text": [
      "completed symbols FAX: APEN: JUPW: IPI: ENLC: WRTC: RMBL: PHX: KDMN: SSPK: EBR: BKCC: RWT: GSUM: FGPR: MXC: IGXT: GSKY: RTP: MEIP: PUYI: MYT: EXTR: ELVT: VRAY: HAPP: AAAU: PACE: CSPR: WRN - thread num: 6  -  30 / 107\n"
     ]
    },
    {
     "name": "stderr",
     "output_type": "stream",
     "text": [
      "\n",
      "\n",
      "\n",
      "\n",
      "\n",
      "\n",
      "Thread num: 5:  31%|██████████████████▊                                          | 33/107 [2:28:26<5:13:55, 254.54s/it]\u001b[A\u001b[A\u001b[A\u001b[A\u001b[A\u001b[A"
     ]
    },
    {
     "name": "stdout",
     "output_type": "stream",
     "text": [
      "completed symbols QQQJ: CFFA: ACEV: USL: ORGO: BBW: SYBX: ECC: WSTL: CDR: IFRX: TRIL: DMYI: OSW: SMSI: ZDGE: SDIV: VBLT: SOGO: JT: SPNV: IDRA: UNG: MYOS: ALYA: HNRG: ARC: CHMA: MCF: USIO: AVEO: KLDO: INVE - thread num: 5  -  33 / 107\n"
     ]
    },
    {
     "name": "stderr",
     "output_type": "stream",
     "text": [
      "\n",
      "\n",
      "\n",
      "\n",
      "\n",
      "Thread num: 1:  18%|██████████▊                                                  | 19/107 [2:30:22<6:21:46, 260.31s/it]\u001b[A\u001b[A\u001b[A\u001b[A\u001b[A"
     ]
    },
    {
     "name": "stdout",
     "output_type": "stream",
     "text": [
      "completed symbols OSS: VHC: FSI: SYRS: STIM: LMNL: CTHR: TDAC: MARPS: SLB: VVOS: MPLN: BLUE: FPAC: EDSA: ORMP: LAND: AMST: ELA - thread num: 1  -  19 / 107\n"
     ]
    },
    {
     "name": "stderr",
     "output_type": "stream",
     "text": [
      "\n",
      "\n",
      "\n",
      "\n",
      "\n",
      "\n",
      "\n",
      "Thread num: 4:  23%|██████████████                                              | 25/107 [2:30:32<11:19:46, 497.40s/it]\u001b[A\u001b[A\u001b[A\u001b[A\u001b[A\u001b[A\u001b[A"
     ]
    },
    {
     "name": "stdout",
     "output_type": "stream",
     "text": [
      "completed symbols CIM: VTSI: BTN: GP: ETTX: RUHN: GLDM: ALDX: EMX: MIND: BMRA: INSE: CHKR: SV: BLMN: QUIK: FPRX: PHCF: TWI: MUFG: JAKK: IPWR: WBAI: MUR: PIRS - thread num: 4  -  25 / 107\n"
     ]
    },
    {
     "name": "stderr",
     "output_type": "stream",
     "text": [
      "\n",
      "\n",
      "\n",
      "Thread num: 6:  29%|█████████████████▋                                           | 31/107 [2:32:22<5:13:37, 247.59s/it]\u001b[A\u001b[A\u001b[A"
     ]
    },
    {
     "name": "stdout",
     "output_type": "stream",
     "text": [
      "completed symbols FAX: APEN: JUPW: IPI: ENLC: WRTC: RMBL: PHX: KDMN: SSPK: EBR: BKCC: RWT: GSUM: FGPR: MXC: IGXT: GSKY: RTP: MEIP: PUYI: MYT: EXTR: ELVT: VRAY: HAPP: AAAU: PACE: CSPR: WRN: CEF - thread num: 6  -  31 / 107\n"
     ]
    },
    {
     "name": "stderr",
     "output_type": "stream",
     "text": [
      "\n",
      "\n",
      "\n",
      "\n",
      "\n",
      "\n",
      "Thread num: 5:  32%|███████████████████▍                                         | 34/107 [2:32:50<5:13:07, 257.36s/it]\u001b[A\u001b[A\u001b[A\u001b[A\u001b[A\u001b[A"
     ]
    },
    {
     "name": "stdout",
     "output_type": "stream",
     "text": [
      "completed symbols QQQJ: CFFA: ACEV: USL: ORGO: BBW: SYBX: ECC: WSTL: CDR: IFRX: TRIL: DMYI: OSW: SMSI: ZDGE: SDIV: VBLT: SOGO: JT: SPNV: IDRA: UNG: MYOS: ALYA: HNRG: ARC: CHMA: MCF: USIO: AVEO: KLDO: INVE: ACTG - thread num: 5  -  34 / 107\n"
     ]
    },
    {
     "name": "stderr",
     "output_type": "stream",
     "text": [
      "\r",
      "Thread num: 2:  23%|██████████████▎                                              | 25/107 [2:33:11<8:42:09, 382.07s/it]"
     ]
    },
    {
     "name": "stdout",
     "output_type": "stream",
     "text": [
      "completed symbols OMP: APLT: NRO: IMH: THM: WHLM: EBET: VNRX: RLX: LEVI: ASTS: IMMR: DSX: CDE: YI: TRIB: ROCH: HZON: TNK: GNW: MILE: TSIAU: TOUR: ACIU: CLOU - thread num: 2  -  25 / 107\n"
     ]
    },
    {
     "name": "stderr",
     "output_type": "stream",
     "text": [
      "\n",
      "\n",
      "\n",
      "Thread num: 6:  30%|██████████████████▏                                          | 32/107 [2:33:19<3:58:01, 190.41s/it]\u001b[A\u001b[A\u001b[A"
     ]
    },
    {
     "name": "stdout",
     "output_type": "stream",
     "text": [
      "completed symbols FAX: APEN: JUPW: IPI: ENLC: WRTC: RMBL: PHX: KDMN: SSPK: EBR: BKCC: RWT: GSUM: FGPR: MXC: IGXT: GSKY: RTP: MEIP: PUYI: MYT: EXTR: ELVT: VRAY: HAPP: AAAU: PACE: CSPR: WRN: CEF: SBUM - thread num: 6  -  32 / 107\n"
     ]
    },
    {
     "name": "stderr",
     "output_type": "stream",
     "text": [
      "\n",
      "\n",
      "\n",
      "\n",
      "\n",
      "Thread num: 1:  19%|███████████▍                                                 | 20/107 [2:34:01<5:59:23, 247.86s/it]\u001b[A\u001b[A\u001b[A\u001b[A\u001b[A"
     ]
    },
    {
     "name": "stdout",
     "output_type": "stream",
     "text": [
      "completed symbols OSS: VHC: FSI: SYRS: STIM: LMNL: CTHR: TDAC: MARPS: SLB: VVOS: MPLN: BLUE: FPAC: EDSA: ORMP: LAND: AMST: ELA: SOAC - thread num: 1  -  20 / 107\n"
     ]
    },
    {
     "name": "stderr",
     "output_type": "stream",
     "text": [
      "\n",
      "\n",
      "\n",
      "\n",
      "\n",
      "\n",
      "Thread num: 5:  33%|███████████████████▉                                         | 35/107 [2:35:04<4:24:38, 220.53s/it]\u001b[A\u001b[A\u001b[A\u001b[A\u001b[A\u001b[A"
     ]
    },
    {
     "name": "stdout",
     "output_type": "stream",
     "text": [
      "completed symbols QQQJ: CFFA: ACEV: USL: ORGO: BBW: SYBX: ECC: WSTL: CDR: IFRX: TRIL: DMYI: OSW: SMSI: ZDGE: SDIV: VBLT: SOGO: JT: SPNV: IDRA: UNG: MYOS: ALYA: HNRG: ARC: CHMA: MCF: USIO: AVEO: KLDO: INVE: ACTG: AMPG - thread num: 5  -  35 / 107\n"
     ]
    },
    {
     "name": "stderr",
     "output_type": "stream",
     "text": [
      "\r",
      "Thread num: 2:  24%|██████████████▊                                              | 26/107 [2:35:33<6:58:41, 310.14s/it]"
     ]
    },
    {
     "name": "stdout",
     "output_type": "stream",
     "text": [
      "completed symbols OMP: APLT: NRO: IMH: THM: WHLM: EBET: VNRX: RLX: LEVI: ASTS: IMMR: DSX: CDE: YI: TRIB: ROCH: HZON: TNK: GNW: MILE: TSIAU: TOUR: ACIU: CLOU: XYF - thread num: 2  -  26 / 107\n"
     ]
    },
    {
     "name": "stderr",
     "output_type": "stream",
     "text": [
      "\n",
      "\n",
      "\n",
      "Thread num: 6:  31%|██████████████████▊                                          | 33/107 [2:35:37<3:35:23, 174.64s/it]\u001b[A\u001b[A\u001b[A"
     ]
    },
    {
     "name": "stdout",
     "output_type": "stream",
     "text": [
      "completed symbols FAX: APEN: JUPW: IPI: ENLC: WRTC: RMBL: PHX: KDMN: SSPK: EBR: BKCC: RWT: GSUM: FGPR: MXC: IGXT: GSKY: RTP: MEIP: PUYI: MYT: EXTR: ELVT: VRAY: HAPP: AAAU: PACE: CSPR: WRN: CEF: SBUM: DXYN - thread num: 6  -  33 / 107\n"
     ]
    },
    {
     "name": "stderr",
     "output_type": "stream",
     "text": [
      "\n",
      "\n",
      "\n",
      "\n",
      "\n",
      "\n",
      "Thread num: 5:  34%|████████████████████▌                                        | 36/107 [2:36:54<3:41:28, 187.16s/it]\u001b[A\u001b[A\u001b[A\u001b[A\u001b[A\u001b[A"
     ]
    },
    {
     "name": "stdout",
     "output_type": "stream",
     "text": [
      "completed symbols QQQJ: CFFA: ACEV: USL: ORGO: BBW: SYBX: ECC: WSTL: CDR: IFRX: TRIL: DMYI: OSW: SMSI: ZDGE: SDIV: VBLT: SOGO: JT: SPNV: IDRA: UNG: MYOS: ALYA: HNRG: ARC: CHMA: MCF: USIO: AVEO: KLDO: INVE: ACTG: AMPG: EDNT - thread num: 5  -  36 / 107\n"
     ]
    },
    {
     "name": "stderr",
     "output_type": "stream",
     "text": [
      "\n",
      "\n",
      "\n",
      "\n",
      "\n",
      "Thread num: 1:  20%|███████████▉                                                 | 21/107 [2:38:36<6:07:06, 256.13s/it]\u001b[A\u001b[A\u001b[A\u001b[A\u001b[A"
     ]
    },
    {
     "name": "stdout",
     "output_type": "stream",
     "text": [
      "completed symbols OSS: VHC: FSI: SYRS: STIM: LMNL: CTHR: TDAC: MARPS: SLB: VVOS: MPLN: BLUE: FPAC: EDSA: ORMP: LAND: AMST: ELA: SOAC: PSAC - thread num: 1  -  21 / 107\n"
     ]
    },
    {
     "name": "stderr",
     "output_type": "stream",
     "text": [
      "\n",
      "\n",
      "\n",
      "\n",
      "\n",
      "\n",
      "\n",
      "Thread num: 4:  24%|██████████████▌                                             | 26/107 [2:39:31<11:28:34, 510.05s/it]\u001b[A\u001b[A\u001b[A\u001b[A\u001b[A\u001b[A\u001b[A"
     ]
    },
    {
     "name": "stdout",
     "output_type": "stream",
     "text": [
      "completed symbols CIM: VTSI: BTN: GP: ETTX: RUHN: GLDM: ALDX: EMX: MIND: BMRA: INSE: CHKR: SV: BLMN: QUIK: FPRX: PHCF: TWI: MUFG: JAKK: IPWR: WBAI: MUR: PIRS: CALX - thread num: 4  -  26 / 107\n"
     ]
    },
    {
     "name": "stderr",
     "output_type": "stream",
     "text": [
      "\n",
      "\n",
      "\n",
      "\n",
      "\n",
      "Thread num: 1:  21%|████████████▌                                                | 22/107 [2:41:01<5:15:39, 222.82s/it]\u001b[A\u001b[A\u001b[A\u001b[A\u001b[A"
     ]
    },
    {
     "name": "stdout",
     "output_type": "stream",
     "text": [
      "completed symbols OSS: VHC: FSI: SYRS: STIM: LMNL: CTHR: TDAC: MARPS: SLB: VVOS: MPLN: BLUE: FPAC: EDSA: ORMP: LAND: AMST: ELA: SOAC: PSAC: LWAY - thread num: 1  -  22 / 107\n"
     ]
    },
    {
     "name": "stderr",
     "output_type": "stream",
     "text": [
      "\r",
      "Thread num: 2:  25%|███████████████▍                                             | 27/107 [2:43:11<7:52:29, 354.37s/it]"
     ]
    },
    {
     "name": "stdout",
     "output_type": "stream",
     "text": [
      "completed symbols OMP: APLT: NRO: IMH: THM: WHLM: EBET: VNRX: RLX: LEVI: ASTS: IMMR: DSX: CDE: YI: TRIB: ROCH: HZON: TNK: GNW: MILE: TSIAU: TOUR: ACIU: CLOU: XYF: TPGY - thread num: 2  -  27 / 107\n"
     ]
    },
    {
     "name": "stderr",
     "output_type": "stream",
     "text": [
      "\n",
      "Thread num: 3:  20%|███████████▊                                                | 21/107 [2:43:15<20:16:42, 848.86s/it]\u001b[A"
     ]
    },
    {
     "name": "stdout",
     "output_type": "stream",
     "text": [
      "completed symbols AACQ: CTK: SVC: EGAN: PSTI: SAEXQ: EB: ATEN: CDXC: PVL: SILV: SILJ: NRBO: CARA: RTLR: CXW: FRO: EAST: PING: JPST: EQT - thread num: 3  -  21 / 107\n"
     ]
    },
    {
     "name": "stderr",
     "output_type": "stream",
     "text": [
      "\n",
      "\n",
      "\n",
      "\n",
      "\n",
      "\n",
      "\n",
      "Thread num: 4:  25%|███████████████▍                                             | 27/107 [2:43:33<9:32:57, 429.72s/it]\u001b[A\u001b[A\u001b[A\u001b[A\u001b[A\u001b[A\u001b[A"
     ]
    },
    {
     "name": "stdout",
     "output_type": "stream",
     "text": [
      "completed symbols CIM: VTSI: BTN: GP: ETTX: RUHN: GLDM: ALDX: EMX: MIND: BMRA: INSE: CHKR: SV: BLMN: QUIK: FPRX: PHCF: TWI: MUFG: JAKK: IPWR: WBAI: MUR: PIRS: CALX: ESTE - thread num: 4  -  27 / 107\n"
     ]
    },
    {
     "name": "stderr",
     "output_type": "stream",
     "text": [
      "\n",
      "Thread num: 3:  21%|████████████▎                                               | 22/107 [2:47:12<15:42:31, 665.31s/it]\u001b[A"
     ]
    },
    {
     "name": "stdout",
     "output_type": "stream",
     "text": [
      "completed symbols AACQ: CTK: SVC: EGAN: PSTI: SAEXQ: EB: ATEN: CDXC: PVL: SILV: SILJ: NRBO: CARA: RTLR: CXW: FRO: EAST: PING: JPST: EQT: IDN - thread num: 3  -  22 / 107\n"
     ]
    },
    {
     "name": "stderr",
     "output_type": "stream",
     "text": [
      "\n",
      "\n",
      "\n",
      "\n",
      "\n",
      "Thread num: 1:  21%|█████████████                                                | 23/107 [2:48:42<6:51:35, 293.99s/it]\u001b[A\u001b[A\u001b[A\u001b[A\u001b[A"
     ]
    },
    {
     "name": "stdout",
     "output_type": "stream",
     "text": [
      "completed symbols OSS: VHC: FSI: SYRS: STIM: LMNL: CTHR: TDAC: MARPS: SLB: VVOS: MPLN: BLUE: FPAC: EDSA: ORMP: LAND: AMST: ELA: SOAC: PSAC: LWAY: ARDX - thread num: 1  -  23 / 107\n"
     ]
    },
    {
     "name": "stderr",
     "output_type": "stream",
     "text": [
      "\n",
      "\n",
      "\n",
      "\n",
      "\n",
      "\n",
      "Thread num: 5:  35%|█████████████████████                                        | 37/107 [2:49:36<6:59:41, 359.73s/it]\u001b[A\u001b[A\u001b[A\u001b[A\u001b[A\u001b[A"
     ]
    },
    {
     "name": "stdout",
     "output_type": "stream",
     "text": [
      "completed symbols QQQJ: CFFA: ACEV: USL: ORGO: BBW: SYBX: ECC: WSTL: CDR: IFRX: TRIL: DMYI: OSW: SMSI: ZDGE: SDIV: VBLT: SOGO: JT: SPNV: IDRA: UNG: MYOS: ALYA: HNRG: ARC: CHMA: MCF: USIO: AVEO: KLDO: INVE: ACTG: AMPG: EDNT: VSTO - thread num: 5  -  37 / 107\n"
     ]
    },
    {
     "name": "stderr",
     "output_type": "stream",
     "text": [
      "\n",
      "\n",
      "\n",
      "\n",
      "\n",
      "\n",
      "\n",
      "Thread num: 4:  26%|███████████████▉                                             | 28/107 [2:50:22<9:17:27, 423.38s/it]\u001b[A\u001b[A\u001b[A\u001b[A\u001b[A\u001b[A\u001b[A"
     ]
    },
    {
     "name": "stdout",
     "output_type": "stream",
     "text": [
      "completed symbols CIM: VTSI: BTN: GP: ETTX: RUHN: GLDM: ALDX: EMX: MIND: BMRA: INSE: CHKR: SV: BLMN: QUIK: FPRX: PHCF: TWI: MUFG: JAKK: IPWR: WBAI: MUR: PIRS: CALX: ESTE: CTMX - thread num: 4  -  28 / 107\n"
     ]
    },
    {
     "name": "stderr",
     "output_type": "stream",
     "text": [
      "\n",
      "Thread num: 3:  21%|████████████▉                                               | 23/107 [2:50:36<12:17:48, 527.01s/it]\u001b[A"
     ]
    },
    {
     "name": "stdout",
     "output_type": "stream",
     "text": [
      "completed symbols AACQ: CTK: SVC: EGAN: PSTI: SAEXQ: EB: ATEN: CDXC: PVL: SILV: SILJ: NRBO: CARA: RTLR: CXW: FRO: EAST: PING: JPST: EQT: IDN: KBSF - thread num: 3  -  23 / 107\n"
     ]
    },
    {
     "name": "stderr",
     "output_type": "stream",
     "text": [
      "\n",
      "\n",
      "\n",
      "\n",
      "\n",
      "\n",
      "Thread num: 5:  36%|█████████████████████▋                                       | 38/107 [2:52:45<5:54:52, 308.59s/it]\u001b[A\u001b[A\u001b[A\u001b[A\u001b[A\u001b[A"
     ]
    },
    {
     "name": "stdout",
     "output_type": "stream",
     "text": [
      "completed symbols QQQJ: CFFA: ACEV: USL: ORGO: BBW: SYBX: ECC: WSTL: CDR: IFRX: TRIL: DMYI: OSW: SMSI: ZDGE: SDIV: VBLT: SOGO: JT: SPNV: IDRA: UNG: MYOS: ALYA: HNRG: ARC: CHMA: MCF: USIO: AVEO: KLDO: INVE: ACTG: AMPG: EDNT: VSTO: NAVB - thread num: 5  -  38 / 107\n"
     ]
    },
    {
     "name": "stderr",
     "output_type": "stream",
     "text": [
      "\n",
      "\n",
      "\n",
      "\n",
      "\n",
      "\n",
      "Thread num: 5:  36%|██████████████████████▏                                      | 39/107 [2:56:55<5:29:37, 290.85s/it]\u001b[A\u001b[A\u001b[A\u001b[A\u001b[A\u001b[A"
     ]
    },
    {
     "name": "stdout",
     "output_type": "stream",
     "text": [
      "completed symbols QQQJ: CFFA: ACEV: USL: ORGO: BBW: SYBX: ECC: WSTL: CDR: IFRX: TRIL: DMYI: OSW: SMSI: ZDGE: SDIV: VBLT: SOGO: JT: SPNV: IDRA: UNG: MYOS: ALYA: HNRG: ARC: CHMA: MCF: USIO: AVEO: KLDO: INVE: ACTG: AMPG: EDNT: VSTO: NAVB: GNCA - thread num: 5  -  39 / 107\n"
     ]
    },
    {
     "name": "stderr",
     "output_type": "stream",
     "text": [
      "\n",
      "Thread num: 3:  22%|█████████████▍                                              | 24/107 [2:59:26<12:10:19, 527.95s/it]\u001b[A"
     ]
    },
    {
     "name": "stdout",
     "output_type": "stream",
     "text": [
      "completed symbols AACQ: CTK: SVC: EGAN: PSTI: SAEXQ: EB: ATEN: CDXC: PVL: SILV: SILJ: NRBO: CARA: RTLR: CXW: FRO: EAST: PING: JPST: EQT: IDN: KBSF: FCAU - thread num: 3  -  24 / 107\n"
     ]
    },
    {
     "name": "stderr",
     "output_type": "stream",
     "text": [
      "\r",
      "Thread num: 2:  26%|███████████████▋                                            | 28/107 [2:59:30<11:53:26, 541.85s/it]"
     ]
    },
    {
     "name": "stdout",
     "output_type": "stream",
     "text": [
      "completed symbols OMP: APLT: NRO: IMH: THM: WHLM: EBET: VNRX: RLX: LEVI: ASTS: IMMR: DSX: CDE: YI: TRIB: ROCH: HZON: TNK: GNW: MILE: TSIAU: TOUR: ACIU: CLOU: XYF: TPGY: CAKE - thread num: 2  -  28 / 107\n"
     ]
    },
    {
     "name": "stderr",
     "output_type": "stream",
     "text": [
      "\n",
      "\n",
      "\n",
      "\n",
      "\n",
      "\n",
      "\n",
      "Thread num: 4:  27%|████████████████▎                                           | 29/107 [3:00:05<10:12:46, 471.36s/it]\u001b[A\u001b[A\u001b[A\u001b[A\u001b[A\u001b[A\u001b[A"
     ]
    },
    {
     "name": "stdout",
     "output_type": "stream",
     "text": [
      "completed symbols CIM: VTSI: BTN: GP: ETTX: RUHN: GLDM: ALDX: EMX: MIND: BMRA: INSE: CHKR: SV: BLMN: QUIK: FPRX: PHCF: TWI: MUFG: JAKK: IPWR: WBAI: MUR: PIRS: CALX: ESTE: CTMX: ZIOP - thread num: 4  -  29 / 107\n"
     ]
    },
    {
     "name": "stderr",
     "output_type": "stream",
     "text": [
      "\n",
      "\n",
      "\n",
      "\n",
      "\n",
      "\n",
      "Thread num: 5:  37%|██████████████████████▊                                      | 40/107 [3:01:35<5:21:18, 287.74s/it]\u001b[A\u001b[A\u001b[A\u001b[A\u001b[A\u001b[A"
     ]
    },
    {
     "name": "stdout",
     "output_type": "stream",
     "text": [
      "completed symbols QQQJ: CFFA: ACEV: USL: ORGO: BBW: SYBX: ECC: WSTL: CDR: IFRX: TRIL: DMYI: OSW: SMSI: ZDGE: SDIV: VBLT: SOGO: JT: SPNV: IDRA: UNG: MYOS: ALYA: HNRG: ARC: CHMA: MCF: USIO: AVEO: KLDO: INVE: ACTG: AMPG: EDNT: VSTO: NAVB: GNCA: VIOT - thread num: 5  -  40 / 107\n"
     ]
    },
    {
     "name": "stderr",
     "output_type": "stream",
     "text": [
      "\n",
      "\n",
      "\n",
      "\n",
      "\n",
      "\n",
      "\n",
      "Thread num: 4:  28%|█████████████████                                            | 30/107 [3:03:55<8:31:46, 398.78s/it]\u001b[A\u001b[A\u001b[A\u001b[A\u001b[A\u001b[A\u001b[A"
     ]
    },
    {
     "name": "stdout",
     "output_type": "stream",
     "text": [
      "completed symbols CIM: VTSI: BTN: GP: ETTX: RUHN: GLDM: ALDX: EMX: MIND: BMRA: INSE: CHKR: SV: BLMN: QUIK: FPRX: PHCF: TWI: MUFG: JAKK: IPWR: WBAI: MUR: PIRS: CALX: ESTE: CTMX: ZIOP: CIK - thread num: 4  -  30 / 107\n"
     ]
    },
    {
     "name": "stderr",
     "output_type": "stream",
     "text": [
      "\r",
      "Thread num: 2:  27%|████████████████▎                                           | 29/107 [3:05:03<10:23:03, 479.28s/it]"
     ]
    },
    {
     "name": "stdout",
     "output_type": "stream",
     "text": [
      "completed symbols OMP: APLT: NRO: IMH: THM: WHLM: EBET: VNRX: RLX: LEVI: ASTS: IMMR: DSX: CDE: YI: TRIB: ROCH: HZON: TNK: GNW: MILE: TSIAU: TOUR: ACIU: CLOU: XYF: TPGY: CAKE: CMPS - thread num: 2  -  29 / 107\n"
     ]
    },
    {
     "name": "stderr",
     "output_type": "stream",
     "text": [
      "\n",
      "Thread num: 3:  23%|██████████████                                              | 25/107 [3:08:10<11:59:53, 526.76s/it]\u001b[A"
     ]
    },
    {
     "name": "stdout",
     "output_type": "stream",
     "text": [
      "completed symbols AACQ: CTK: SVC: EGAN: PSTI: SAEXQ: EB: ATEN: CDXC: PVL: SILV: SILJ: NRBO: CARA: RTLR: CXW: FRO: EAST: PING: JPST: EQT: IDN: KBSF: FCAU: CLDX - thread num: 3  -  25 / 107\n"
     ]
    },
    {
     "name": "stderr",
     "output_type": "stream",
     "text": [
      "\n",
      "\n",
      "\n",
      "\n",
      "\n",
      "\n",
      "\n",
      "Thread num: 4:  29%|█████████████████▋                                           | 31/107 [3:09:06<7:51:57, 372.60s/it]\u001b[A\u001b[A\u001b[A\u001b[A\u001b[A\u001b[A\u001b[A"
     ]
    },
    {
     "name": "stdout",
     "output_type": "stream",
     "text": [
      "completed symbols CIM: VTSI: BTN: GP: ETTX: RUHN: GLDM: ALDX: EMX: MIND: BMRA: INSE: CHKR: SV: BLMN: QUIK: FPRX: PHCF: TWI: MUFG: JAKK: IPWR: WBAI: MUR: PIRS: CALX: ESTE: CTMX: ZIOP: CIK: CLM - thread num: 4  -  31 / 107\n"
     ]
    },
    {
     "name": "stderr",
     "output_type": "stream",
     "text": [
      "\n",
      "\n",
      "\n",
      "\n",
      "\n",
      "\n",
      "Thread num: 5:  38%|███████████████████████▎                                     | 41/107 [3:12:31<7:17:51, 398.05s/it]\u001b[A\u001b[A\u001b[A\u001b[A\u001b[A\u001b[A"
     ]
    },
    {
     "name": "stdout",
     "output_type": "stream",
     "text": [
      "completed symbols QQQJ: CFFA: ACEV: USL: ORGO: BBW: SYBX: ECC: WSTL: CDR: IFRX: TRIL: DMYI: OSW: SMSI: ZDGE: SDIV: VBLT: SOGO: JT: SPNV: IDRA: UNG: MYOS: ALYA: HNRG: ARC: CHMA: MCF: USIO: AVEO: KLDO: INVE: ACTG: AMPG: EDNT: VSTO: NAVB: GNCA: VIOT: SWI - thread num: 5  -  41 / 107\n"
     ]
    },
    {
     "name": "stderr",
     "output_type": "stream",
     "text": [
      "\n",
      "Thread num: 3:  24%|██████████████▌                                             | 26/107 [3:13:09<10:18:43, 458.32s/it]\u001b[A"
     ]
    },
    {
     "name": "stdout",
     "output_type": "stream",
     "text": [
      "completed symbols AACQ: CTK: SVC: EGAN: PSTI: SAEXQ: EB: ATEN: CDXC: PVL: SILV: SILJ: NRBO: CARA: RTLR: CXW: FRO: EAST: PING: JPST: EQT: IDN: KBSF: FCAU: CLDX: TRNE - thread num: 3  -  26 / 107\n"
     ]
    },
    {
     "name": "stderr",
     "output_type": "stream",
     "text": [
      "\r",
      "Thread num: 2:  28%|████████████████▊                                           | 30/107 [3:16:00<11:23:25, 532.53s/it]"
     ]
    },
    {
     "name": "stdout",
     "output_type": "stream",
     "text": [
      "completed symbols OMP: APLT: NRO: IMH: THM: WHLM: EBET: VNRX: RLX: LEVI: ASTS: IMMR: DSX: CDE: YI: TRIB: ROCH: HZON: TNK: GNW: MILE: TSIAU: TOUR: ACIU: CLOU: XYF: TPGY: CAKE: CMPS: KALA - thread num: 2  -  30 / 107\n"
     ]
    },
    {
     "name": "stderr",
     "output_type": "stream",
     "text": [
      "\r",
      "Thread num: 2:  29%|█████████████████▋                                           | 31/107 [3:21:03<9:47:19, 463.68s/it]"
     ]
    },
    {
     "name": "stdout",
     "output_type": "stream",
     "text": [
      "completed symbols OMP: APLT: NRO: IMH: THM: WHLM: EBET: VNRX: RLX: LEVI: ASTS: IMMR: DSX: CDE: YI: TRIB: ROCH: HZON: TNK: GNW: MILE: TSIAU: TOUR: ACIU: CLOU: XYF: TPGY: CAKE: CMPS: KALA: KLR - thread num: 2  -  31 / 107\n"
     ]
    },
    {
     "name": "stderr",
     "output_type": "stream",
     "text": [
      "\n",
      "\n",
      "\n",
      "Thread num: 6:  32%|███████████████████                                         | 34/107 [3:21:46<19:19:16, 952.83s/it]\u001b[A\u001b[A\u001b[A"
     ]
    },
    {
     "name": "stdout",
     "output_type": "stream",
     "text": [
      "completed symbols FAX: APEN: JUPW: IPI: ENLC: WRTC: RMBL: PHX: KDMN: SSPK: EBR: BKCC: RWT: GSUM: FGPR: MXC: IGXT: GSKY: RTP: MEIP: PUYI: MYT: EXTR: ELVT: VRAY: HAPP: AAAU: PACE: CSPR: WRN: CEF: SBUM: DXYN: VIPS - thread num: 6  -  34 / 107\n"
     ]
    },
    {
     "name": "stderr",
     "output_type": "stream",
     "text": [
      "\r",
      "Thread num: 2:  30%|██████████████████▏                                          | 32/107 [3:26:17<8:43:31, 418.82s/it]"
     ]
    },
    {
     "name": "stdout",
     "output_type": "stream",
     "text": [
      "completed symbols OMP: APLT: NRO: IMH: THM: WHLM: EBET: VNRX: RLX: LEVI: ASTS: IMMR: DSX: CDE: YI: TRIB: ROCH: HZON: TNK: GNW: MILE: TSIAU: TOUR: ACIU: CLOU: XYF: TPGY: CAKE: CMPS: KALA: KLR: CDTX - thread num: 2  -  32 / 107\n"
     ]
    },
    {
     "name": "stderr",
     "output_type": "stream",
     "text": [
      "\n",
      "\n",
      "\n",
      "\n",
      "\n",
      "Thread num: 1:  22%|█████████████▍                                              | 24/107 [3:28:54<21:25:52, 929.55s/it]\u001b[A\u001b[A\u001b[A\u001b[A\u001b[A"
     ]
    },
    {
     "name": "stdout",
     "output_type": "stream",
     "text": [
      "completed symbols OSS: VHC: FSI: SYRS: STIM: LMNL: CTHR: TDAC: MARPS: SLB: VVOS: MPLN: BLUE: FPAC: EDSA: ORMP: LAND: AMST: ELA: SOAC: PSAC: LWAY: ARDX: UAA - thread num: 1  -  24 / 107\n"
     ]
    },
    {
     "name": "stderr",
     "output_type": "stream",
     "text": [
      "\r",
      "Thread num: 2:  31%|██████████████████▊                                          | 33/107 [3:29:13<7:06:27, 345.78s/it]"
     ]
    },
    {
     "name": "stdout",
     "output_type": "stream",
     "text": [
      "completed symbols OMP: APLT: NRO: IMH: THM: WHLM: EBET: VNRX: RLX: LEVI: ASTS: IMMR: DSX: CDE: YI: TRIB: ROCH: HZON: TNK: GNW: MILE: TSIAU: TOUR: ACIU: CLOU: XYF: TPGY: CAKE: CMPS: KALA: KLR: CDTX: ACP - thread num: 2  -  33 / 107\n"
     ]
    },
    {
     "name": "stderr",
     "output_type": "stream",
     "text": [
      "\n",
      "\n",
      "\n",
      "\n",
      "\n",
      "\n",
      "Thread num: 5:  39%|███████████████████████▌                                    | 42/107 [3:29:19<10:29:29, 581.07s/it]\u001b[A\u001b[A\u001b[A\u001b[A\u001b[A\u001b[A"
     ]
    },
    {
     "name": "stdout",
     "output_type": "stream",
     "text": [
      "completed symbols QQQJ: CFFA: ACEV: USL: ORGO: BBW: SYBX: ECC: WSTL: CDR: IFRX: TRIL: DMYI: OSW: SMSI: ZDGE: SDIV: VBLT: SOGO: JT: SPNV: IDRA: UNG: MYOS: ALYA: HNRG: ARC: CHMA: MCF: USIO: AVEO: KLDO: INVE: ACTG: AMPG: EDNT: VSTO: NAVB: GNCA: VIOT: SWI: ERJ - thread num: 5  -  42 / 107\n"
     ]
    },
    {
     "name": "stderr",
     "output_type": "stream",
     "text": [
      "\r",
      "Thread num: 2:  32%|███████████████████▍                                         | 34/107 [3:31:15<5:39:02, 278.66s/it]"
     ]
    },
    {
     "name": "stdout",
     "output_type": "stream",
     "text": [
      "completed symbols OMP: APLT: NRO: IMH: THM: WHLM: EBET: VNRX: RLX: LEVI: ASTS: IMMR: DSX: CDE: YI: TRIB: ROCH: HZON: TNK: GNW: MILE: TSIAU: TOUR: ACIU: CLOU: XYF: TPGY: CAKE: CMPS: KALA: KLR: CDTX: ACP: CMMB - thread num: 2  -  34 / 107\n"
     ]
    },
    {
     "name": "stderr",
     "output_type": "stream",
     "text": [
      "\n",
      "Thread num: 3:  25%|███████████████▏                                            | 27/107 [3:31:45<14:34:19, 655.74s/it]\u001b[A"
     ]
    },
    {
     "name": "stdout",
     "output_type": "stream",
     "text": [
      "completed symbols AACQ: CTK: SVC: EGAN: PSTI: SAEXQ: EB: ATEN: CDXC: PVL: SILV: SILJ: NRBO: CARA: RTLR: CXW: FRO: EAST: PING: JPST: EQT: IDN: KBSF: FCAU: CLDX: TRNE: NBL - thread num: 3  -  27 / 107\n"
     ]
    },
    {
     "name": "stderr",
     "output_type": "stream",
     "text": [
      "\n",
      "\n",
      "\n",
      "\n",
      "\n",
      "Thread num: 1:  23%|██████████████                                              | 25/107 [3:32:49<16:25:26, 721.05s/it]\u001b[A\u001b[A\u001b[A\u001b[A\u001b[A"
     ]
    },
    {
     "name": "stdout",
     "output_type": "stream",
     "text": [
      "completed symbols OSS: VHC: FSI: SYRS: STIM: LMNL: CTHR: TDAC: MARPS: SLB: VVOS: MPLN: BLUE: FPAC: EDSA: ORMP: LAND: AMST: ELA: SOAC: PSAC: LWAY: ARDX: UAA: IDXG - thread num: 1  -  25 / 107\n"
     ]
    },
    {
     "name": "stderr",
     "output_type": "stream",
     "text": [
      "\n",
      "\n",
      "\n",
      "\n",
      "\n",
      "\n",
      "\n",
      "Thread num: 4:  30%|█████████████████▉                                          | 32/107 [3:33:00<14:23:47, 691.04s/it]\u001b[A\u001b[A\u001b[A\u001b[A\u001b[A\u001b[A\u001b[A"
     ]
    },
    {
     "name": "stdout",
     "output_type": "stream",
     "text": [
      "completed symbols CIM: VTSI: BTN: GP: ETTX: RUHN: GLDM: ALDX: EMX: MIND: BMRA: INSE: CHKR: SV: BLMN: QUIK: FPRX: PHCF: TWI: MUFG: JAKK: IPWR: WBAI: MUR: PIRS: CALX: ESTE: CTMX: ZIOP: CIK: CLM: PBCT - thread num: 4  -  32 / 107\n"
     ]
    },
    {
     "name": "stderr",
     "output_type": "stream",
     "text": [
      "\r",
      "Thread num: 2:  33%|███████████████████▉                                         | 35/107 [3:33:26<4:41:16, 234.39s/it]"
     ]
    },
    {
     "name": "stdout",
     "output_type": "stream",
     "text": [
      "completed symbols OMP: APLT: NRO: IMH: THM: WHLM: EBET: VNRX: RLX: LEVI: ASTS: IMMR: DSX: CDE: YI: TRIB: ROCH: HZON: TNK: GNW: MILE: TSIAU: TOUR: ACIU: CLOU: XYF: TPGY: CAKE: CMPS: KALA: KLR: CDTX: ACP: CMMB: HGBL - thread num: 2  -  35 / 107\n"
     ]
    },
    {
     "name": "stderr",
     "output_type": "stream",
     "text": [
      "\n",
      "\n",
      "\n",
      "Thread num: 6:  33%|███████████████████▋                                        | 35/107 [3:34:25<17:53:43, 894.77s/it]\u001b[A\u001b[A\u001b[A"
     ]
    },
    {
     "name": "stdout",
     "output_type": "stream",
     "text": [
      "completed symbols FAX: APEN: JUPW: IPI: ENLC: WRTC: RMBL: PHX: KDMN: SSPK: EBR: BKCC: RWT: GSUM: FGPR: MXC: IGXT: GSKY: RTP: MEIP: PUYI: MYT: EXTR: ELVT: VRAY: HAPP: AAAU: PACE: CSPR: WRN: CEF: SBUM: DXYN: VIPS: MCRB - thread num: 6  -  35 / 107\n"
     ]
    },
    {
     "name": "stderr",
     "output_type": "stream",
     "text": [
      "\n",
      "\n",
      "\n",
      "\n",
      "\n",
      "Thread num: 1:  24%|██████████████▌                                             | 26/107 [3:34:45<12:08:38, 539.74s/it]\u001b[A\u001b[A\u001b[A\u001b[A\u001b[A"
     ]
    },
    {
     "name": "stdout",
     "output_type": "stream",
     "text": [
      "completed symbols OSS: VHC: FSI: SYRS: STIM: LMNL: CTHR: TDAC: MARPS: SLB: VVOS: MPLN: BLUE: FPAC: EDSA: ORMP: LAND: AMST: ELA: SOAC: PSAC: LWAY: ARDX: UAA: IDXG: BNKD - thread num: 1  -  26 / 107\n"
     ]
    },
    {
     "name": "stderr",
     "output_type": "stream",
     "text": [
      "\n",
      "\n",
      "\n",
      "\n",
      "\n",
      "\n",
      "Thread num: 5:  40%|████████████████████████▌                                    | 43/107 [3:36:20<9:28:32, 533.01s/it]\u001b[A\u001b[A\u001b[A\u001b[A\u001b[A\u001b[A"
     ]
    },
    {
     "name": "stdout",
     "output_type": "stream",
     "text": [
      "completed symbols QQQJ: CFFA: ACEV: USL: ORGO: BBW: SYBX: ECC: WSTL: CDR: IFRX: TRIL: DMYI: OSW: SMSI: ZDGE: SDIV: VBLT: SOGO: JT: SPNV: IDRA: UNG: MYOS: ALYA: HNRG: ARC: CHMA: MCF: USIO: AVEO: KLDO: INVE: ACTG: AMPG: EDNT: VSTO: NAVB: GNCA: VIOT: SWI: ERJ: EMAN - thread num: 5  -  43 / 107\n"
     ]
    },
    {
     "name": "stderr",
     "output_type": "stream",
     "text": [
      "\n",
      "\n",
      "\n",
      "\n",
      "\n",
      "Thread num: 1:  25%|███████████████▍                                             | 27/107 [3:36:43<9:10:53, 413.17s/it]\u001b[A\u001b[A\u001b[A\u001b[A\u001b[A"
     ]
    },
    {
     "name": "stdout",
     "output_type": "stream",
     "text": [
      "completed symbols OSS: VHC: FSI: SYRS: STIM: LMNL: CTHR: TDAC: MARPS: SLB: VVOS: MPLN: BLUE: FPAC: EDSA: ORMP: LAND: AMST: ELA: SOAC: PSAC: LWAY: ARDX: UAA: IDXG: BNKD: GTIM - thread num: 1  -  27 / 107\n"
     ]
    },
    {
     "name": "stderr",
     "output_type": "stream",
     "text": [
      "\n",
      "\n",
      "\n",
      "Thread num: 6:  34%|████████████████████▏                                       | 36/107 [3:36:56<13:14:43, 671.59s/it]\u001b[A\u001b[A\u001b[A"
     ]
    },
    {
     "name": "stdout",
     "output_type": "stream",
     "text": [
      "completed symbols FAX: APEN: JUPW: IPI: ENLC: WRTC: RMBL: PHX: KDMN: SSPK: EBR: BKCC: RWT: GSUM: FGPR: MXC: IGXT: GSKY: RTP: MEIP: PUYI: MYT: EXTR: ELVT: VRAY: HAPP: AAAU: PACE: CSPR: WRN: CEF: SBUM: DXYN: VIPS: MCRB: IEC - thread num: 6  -  36 / 107\n"
     ]
    },
    {
     "name": "stderr",
     "output_type": "stream",
     "text": [
      "\r",
      "Thread num: 2:  34%|████████████████████▌                                        | 36/107 [3:37:23<4:38:31, 235.37s/it]"
     ]
    },
    {
     "name": "stdout",
     "output_type": "stream",
     "text": [
      "completed symbols OMP: APLT: NRO: IMH: THM: WHLM: EBET: VNRX: RLX: LEVI: ASTS: IMMR: DSX: CDE: YI: TRIB: ROCH: HZON: TNK: GNW: MILE: TSIAU: TOUR: ACIU: CLOU: XYF: TPGY: CAKE: CMPS: KALA: KLR: CDTX: ACP: CMMB: HGBL: SALM - thread num: 2  -  36 / 107\n"
     ]
    },
    {
     "name": "stderr",
     "output_type": "stream",
     "text": [
      "\n",
      "Thread num: 3:  26%|███████████████▋                                            | 28/107 [3:38:32<12:45:10, 581.15s/it]\u001b[A"
     ]
    },
    {
     "name": "stdout",
     "output_type": "stream",
     "text": [
      "completed symbols AACQ: CTK: SVC: EGAN: PSTI: SAEXQ: EB: ATEN: CDXC: PVL: SILV: SILJ: NRBO: CARA: RTLR: CXW: FRO: EAST: PING: JPST: EQT: IDN: KBSF: FCAU: CLDX: TRNE: NBL: MAIN - thread num: 3  -  28 / 107\n"
     ]
    },
    {
     "name": "stderr",
     "output_type": "stream",
     "text": [
      "\n",
      "\n",
      "\n",
      "\n",
      "\n",
      "\n",
      "Thread num: 5:  41%|█████████████████████████                                    | 44/107 [3:39:51<7:38:15, 436.43s/it]\u001b[A\u001b[A\u001b[A\u001b[A\u001b[A\u001b[A"
     ]
    },
    {
     "name": "stdout",
     "output_type": "stream",
     "text": [
      "completed symbols QQQJ: CFFA: ACEV: USL: ORGO: BBW: SYBX: ECC: WSTL: CDR: IFRX: TRIL: DMYI: OSW: SMSI: ZDGE: SDIV: VBLT: SOGO: JT: SPNV: IDRA: UNG: MYOS: ALYA: HNRG: ARC: CHMA: MCF: USIO: AVEO: KLDO: INVE: ACTG: AMPG: EDNT: VSTO: NAVB: GNCA: VIOT: SWI: ERJ: EMAN: AWP - thread num: 5  -  44 / 107\n"
     ]
    },
    {
     "name": "stderr",
     "output_type": "stream",
     "text": [
      "\n",
      "\n",
      "\n",
      "Thread num: 6:  35%|████████████████████▋                                       | 37/107 [3:40:40<10:26:47, 537.25s/it]\u001b[A\u001b[A\u001b[A"
     ]
    },
    {
     "name": "stdout",
     "output_type": "stream",
     "text": [
      "completed symbols FAX: APEN: JUPW: IPI: ENLC: WRTC: RMBL: PHX: KDMN: SSPK: EBR: BKCC: RWT: GSUM: FGPR: MXC: IGXT: GSKY: RTP: MEIP: PUYI: MYT: EXTR: ELVT: VRAY: HAPP: AAAU: PACE: CSPR: WRN: CEF: SBUM: DXYN: VIPS: MCRB: IEC: STIC - thread num: 6  -  37 / 107\n"
     ]
    },
    {
     "name": "stderr",
     "output_type": "stream",
     "text": [
      "\n",
      "\n",
      "\n",
      "\n",
      "\n",
      "\n",
      "Thread num: 5:  42%|█████████████████████████▋                                   | 45/107 [3:44:06<6:34:43, 381.99s/it]\u001b[A\u001b[A\u001b[A\u001b[A\u001b[A\u001b[A"
     ]
    },
    {
     "name": "stdout",
     "output_type": "stream",
     "text": [
      "completed symbols QQQJ: CFFA: ACEV: USL: ORGO: BBW: SYBX: ECC: WSTL: CDR: IFRX: TRIL: DMYI: OSW: SMSI: ZDGE: SDIV: VBLT: SOGO: JT: SPNV: IDRA: UNG: MYOS: ALYA: HNRG: ARC: CHMA: MCF: USIO: AVEO: KLDO: INVE: ACTG: AMPG: EDNT: VSTO: NAVB: GNCA: VIOT: SWI: ERJ: EMAN: AWP: SIEB - thread num: 5  -  45 / 107\n"
     ]
    },
    {
     "name": "stderr",
     "output_type": "stream",
     "text": [
      "\n",
      "\n",
      "\n",
      "Thread num: 6:  36%|█████████████████████▋                                       | 38/107 [3:45:09<8:45:15, 456.74s/it]\u001b[A\u001b[A\u001b[A"
     ]
    },
    {
     "name": "stdout",
     "output_type": "stream",
     "text": [
      "completed symbols FAX: APEN: JUPW: IPI: ENLC: WRTC: RMBL: PHX: KDMN: SSPK: EBR: BKCC: RWT: GSUM: FGPR: MXC: IGXT: GSKY: RTP: MEIP: PUYI: MYT: EXTR: ELVT: VRAY: HAPP: AAAU: PACE: CSPR: WRN: CEF: SBUM: DXYN: VIPS: MCRB: IEC: STIC: HUSN - thread num: 6  -  38 / 107\n"
     ]
    },
    {
     "name": "stderr",
     "output_type": "stream",
     "text": [
      "\n",
      "\n",
      "\n",
      "\n",
      "\n",
      "\n",
      "\n",
      "Thread num: 4:  31%|██████████████████▌                                         | 33/107 [3:45:36<14:36:17, 710.51s/it]\u001b[A\u001b[A\u001b[A\u001b[A\u001b[A\u001b[A\u001b[A"
     ]
    },
    {
     "name": "stdout",
     "output_type": "stream",
     "text": [
      "completed symbols CIM: VTSI: BTN: GP: ETTX: RUHN: GLDM: ALDX: EMX: MIND: BMRA: INSE: CHKR: SV: BLMN: QUIK: FPRX: PHCF: TWI: MUFG: JAKK: IPWR: WBAI: MUR: PIRS: CALX: ESTE: CTMX: ZIOP: CIK: CLM: PBCT: PRTS - thread num: 4  -  33 / 107\n"
     ]
    },
    {
     "name": "stderr",
     "output_type": "stream",
     "text": [
      "\n",
      "\n",
      "\n",
      "\n",
      "\n",
      "Thread num: 1:  26%|███████████████▋                                            | 28/107 [3:47:21<10:32:40, 480.51s/it]\u001b[A\u001b[A\u001b[A\u001b[A\u001b[A"
     ]
    },
    {
     "name": "stdout",
     "output_type": "stream",
     "text": [
      "completed symbols OSS: VHC: FSI: SYRS: STIM: LMNL: CTHR: TDAC: MARPS: SLB: VVOS: MPLN: BLUE: FPAC: EDSA: ORMP: LAND: AMST: ELA: SOAC: PSAC: LWAY: ARDX: UAA: IDXG: BNKD: GTIM: ABR - thread num: 1  -  28 / 107\n"
     ]
    },
    {
     "name": "stderr",
     "output_type": "stream",
     "text": [
      "\n",
      "\n",
      "\n",
      "\n",
      "\n",
      "\n",
      "Thread num: 5:  43%|██████████████████████████▏                                  | 46/107 [3:48:08<5:45:39, 339.99s/it]\u001b[A\u001b[A\u001b[A\u001b[A\u001b[A\u001b[A"
     ]
    },
    {
     "name": "stdout",
     "output_type": "stream",
     "text": [
      "completed symbols QQQJ: CFFA: ACEV: USL: ORGO: BBW: SYBX: ECC: WSTL: CDR: IFRX: TRIL: DMYI: OSW: SMSI: ZDGE: SDIV: VBLT: SOGO: JT: SPNV: IDRA: UNG: MYOS: ALYA: HNRG: ARC: CHMA: MCF: USIO: AVEO: KLDO: INVE: ACTG: AMPG: EDNT: VSTO: NAVB: GNCA: VIOT: SWI: ERJ: EMAN: AWP: SIEB: AHPI - thread num: 5  -  46 / 107\n"
     ]
    },
    {
     "name": "stderr",
     "output_type": "stream",
     "text": [
      "\n",
      "\n",
      "\n",
      "\n",
      "\n",
      "\n",
      "\n",
      "Thread num: 4:  32%|███████████████████                                         | 34/107 [3:49:16<11:25:11, 563.18s/it]\u001b[A\u001b[A\u001b[A\u001b[A\u001b[A\u001b[A\u001b[A"
     ]
    },
    {
     "name": "stdout",
     "output_type": "stream",
     "text": [
      "completed symbols CIM: VTSI: BTN: GP: ETTX: RUHN: GLDM: ALDX: EMX: MIND: BMRA: INSE: CHKR: SV: BLMN: QUIK: FPRX: PHCF: TWI: MUFG: JAKK: IPWR: WBAI: MUR: PIRS: CALX: ESTE: CTMX: ZIOP: CIK: CLM: PBCT: PRTS: FTK - thread num: 4  -  34 / 107\n"
     ]
    },
    {
     "name": "stderr",
     "output_type": "stream",
     "text": [
      "\n",
      "\n",
      "\n",
      "Thread num: 6:  36%|██████████████████████▏                                      | 39/107 [3:49:19<7:27:24, 394.77s/it]\u001b[A\u001b[A\u001b[A"
     ]
    },
    {
     "name": "stdout",
     "output_type": "stream",
     "text": [
      "completed symbols FAX: APEN: JUPW: IPI: ENLC: WRTC: RMBL: PHX: KDMN: SSPK: EBR: BKCC: RWT: GSUM: FGPR: MXC: IGXT: GSKY: RTP: MEIP: PUYI: MYT: EXTR: ELVT: VRAY: HAPP: AAAU: PACE: CSPR: WRN: CEF: SBUM: DXYN: VIPS: MCRB: IEC: STIC: HUSN: INMB - thread num: 6  -  39 / 107\n"
     ]
    },
    {
     "name": "stderr",
     "output_type": "stream",
     "text": [
      "\n",
      "\n",
      "\n",
      "\n",
      "\n",
      "\n",
      "Thread num: 5:  44%|██████████████████████████▊                                  | 47/107 [3:50:48<4:45:59, 285.99s/it]\u001b[A\u001b[A\u001b[A\u001b[A\u001b[A\u001b[A"
     ]
    },
    {
     "name": "stdout",
     "output_type": "stream",
     "text": [
      "completed symbols QQQJ: CFFA: ACEV: USL: ORGO: BBW: SYBX: ECC: WSTL: CDR: IFRX: TRIL: DMYI: OSW: SMSI: ZDGE: SDIV: VBLT: SOGO: JT: SPNV: IDRA: UNG: MYOS: ALYA: HNRG: ARC: CHMA: MCF: USIO: AVEO: KLDO: INVE: ACTG: AMPG: EDNT: VSTO: NAVB: GNCA: VIOT: SWI: ERJ: EMAN: AWP: SIEB: AHPI: PIPP - thread num: 5  -  47 / 107\n"
     ]
    },
    {
     "name": "stderr",
     "output_type": "stream",
     "text": [
      "\n",
      "\n",
      "\n",
      "\n",
      "\n",
      "Thread num: 1:  27%|████████████████▌                                            | 29/107 [3:51:43<8:59:21, 414.90s/it]\u001b[A\u001b[A\u001b[A\u001b[A\u001b[A"
     ]
    },
    {
     "name": "stdout",
     "output_type": "stream",
     "text": [
      "completed symbols OSS: VHC: FSI: SYRS: STIM: LMNL: CTHR: TDAC: MARPS: SLB: VVOS: MPLN: BLUE: FPAC: EDSA: ORMP: LAND: AMST: ELA: SOAC: PSAC: LWAY: ARDX: UAA: IDXG: BNKD: GTIM: ABR: PSTV - thread num: 1  -  29 / 107\n"
     ]
    },
    {
     "name": "stderr",
     "output_type": "stream",
     "text": [
      "\n",
      "\n",
      "\n",
      "\n",
      "\n",
      "\n",
      "\n",
      "Thread num: 4:  33%|███████████████████▉                                         | 35/107 [3:52:13<8:56:55, 447.44s/it]\u001b[A\u001b[A\u001b[A\u001b[A\u001b[A\u001b[A\u001b[A"
     ]
    },
    {
     "name": "stdout",
     "output_type": "stream",
     "text": [
      "completed symbols CIM: VTSI: BTN: GP: ETTX: RUHN: GLDM: ALDX: EMX: MIND: BMRA: INSE: CHKR: SV: BLMN: QUIK: FPRX: PHCF: TWI: MUFG: JAKK: IPWR: WBAI: MUR: PIRS: CALX: ESTE: CTMX: ZIOP: CIK: CLM: PBCT: PRTS: FTK: SDPI - thread num: 4  -  35 / 107\n"
     ]
    },
    {
     "name": "stderr",
     "output_type": "stream",
     "text": [
      "\n",
      "Thread num: 3:  27%|████████████████▎                                           | 29/107 [3:53:34<14:40:35, 677.38s/it]\u001b[A"
     ]
    },
    {
     "name": "stdout",
     "output_type": "stream",
     "text": [
      "completed symbols AACQ: CTK: SVC: EGAN: PSTI: SAEXQ: EB: ATEN: CDXC: PVL: SILV: SILJ: NRBO: CARA: RTLR: CXW: FRO: EAST: PING: JPST: EQT: IDN: KBSF: FCAU: CLDX: TRNE: NBL: MAIN: ELY - thread num: 3  -  29 / 107\n",
      "completed symbols OMP: APLT: NRO: IMH: THM: WHLM: EBET: VNRX: RLX: LEVI: ASTS: IMMR: DSX: CDE: YI: TRIB: ROCH: HZON: TNK: GNW: MILE: TSIAU: TOUR: ACIU: CLOU: XYF: TPGY: CAKE: CMPS: KALA: KLR: CDTX: ACP: CMMB: HGBL: SALM: STM - thread num: 2  -  37 / 107\n"
     ]
    },
    {
     "name": "stderr",
     "output_type": "stream",
     "text": [
      "Thread num: 2:  35%|█████████████████████                                        | 37/107 [3:54:37<9:14:01, 474.88s/it]\n",
      "\n",
      "\n",
      "\n",
      "\n",
      "\n",
      "\n",
      "Thread num: 4:  34%|████████████████████▌                                        | 36/107 [3:54:44<7:04:18, 358.57s/it]\u001b[A\u001b[A\u001b[A\u001b[A\u001b[A\u001b[A\u001b[A"
     ]
    },
    {
     "name": "stdout",
     "output_type": "stream",
     "text": [
      "completed symbols CIM: VTSI: BTN: GP: ETTX: RUHN: GLDM: ALDX: EMX: MIND: BMRA: INSE: CHKR: SV: BLMN: QUIK: FPRX: PHCF: TWI: MUFG: JAKK: IPWR: WBAI: MUR: PIRS: CALX: ESTE: CTMX: ZIOP: CIK: CLM: PBCT: PRTS: FTK: SDPI: SRTS - thread num: 4  -  36 / 107\n"
     ]
    },
    {
     "name": "stderr",
     "output_type": "stream",
     "text": [
      "\n",
      "Thread num: 3:  28%|████████████████▊                                           | 30/107 [3:57:09<11:31:14, 538.63s/it]\u001b[A"
     ]
    },
    {
     "name": "stdout",
     "output_type": "stream",
     "text": [
      "completed symbols AACQ: CTK: SVC: EGAN: PSTI: SAEXQ: EB: ATEN: CDXC: PVL: SILV: SILJ: NRBO: CARA: RTLR: CXW: FRO: EAST: PING: JPST: EQT: IDN: KBSF: FCAU: CLDX: TRNE: NBL: MAIN: ELY: PRCP - thread num: 3  -  30 / 107\n"
     ]
    },
    {
     "name": "stderr",
     "output_type": "stream",
     "text": [
      "\r",
      "Thread num: 2:  36%|█████████████████████▋                                       | 38/107 [3:58:09<7:35:27, 396.05s/it]"
     ]
    },
    {
     "name": "stdout",
     "output_type": "stream",
     "text": [
      "completed symbols OMP: APLT: NRO: IMH: THM: WHLM: EBET: VNRX: RLX: LEVI: ASTS: IMMR: DSX: CDE: YI: TRIB: ROCH: HZON: TNK: GNW: MILE: TSIAU: TOUR: ACIU: CLOU: XYF: TPGY: CAKE: CMPS: KALA: KLR: CDTX: ACP: CMMB: HGBL: SALM: STM: OXSQ - thread num: 2  -  38 / 107\n"
     ]
    },
    {
     "name": "stderr",
     "output_type": "stream",
     "text": [
      "\n",
      "\n",
      "\n",
      "Thread num: 6:  37%|██████████████████████▊                                      | 40/107 [3:58:40<8:16:40, 444.78s/it]\u001b[A\u001b[A\u001b[A"
     ]
    },
    {
     "name": "stdout",
     "output_type": "stream",
     "text": [
      "completed symbols FAX: APEN: JUPW: IPI: ENLC: WRTC: RMBL: PHX: KDMN: SSPK: EBR: BKCC: RWT: GSUM: FGPR: MXC: IGXT: GSKY: RTP: MEIP: PUYI: MYT: EXTR: ELVT: VRAY: HAPP: AAAU: PACE: CSPR: WRN: CEF: SBUM: DXYN: VIPS: MCRB: IEC: STIC: HUSN: INMB: GOCO - thread num: 6  -  40 / 107\n"
     ]
    },
    {
     "name": "stderr",
     "output_type": "stream",
     "text": [
      "\n",
      "\n",
      "\n",
      "\n",
      "\n",
      "\n",
      "Thread num: 5:  45%|███████████████████████████▎                                 | 48/107 [3:58:58<5:41:38, 347.43s/it]\u001b[A\u001b[A\u001b[A\u001b[A\u001b[A\u001b[A"
     ]
    },
    {
     "name": "stdout",
     "output_type": "stream",
     "text": [
      "completed symbols QQQJ: CFFA: ACEV: USL: ORGO: BBW: SYBX: ECC: WSTL: CDR: IFRX: TRIL: DMYI: OSW: SMSI: ZDGE: SDIV: VBLT: SOGO: JT: SPNV: IDRA: UNG: MYOS: ALYA: HNRG: ARC: CHMA: MCF: USIO: AVEO: KLDO: INVE: ACTG: AMPG: EDNT: VSTO: NAVB: GNCA: VIOT: SWI: ERJ: EMAN: AWP: SIEB: AHPI: PIPP: RUTH - thread num: 5  -  48 / 107\n"
     ]
    },
    {
     "name": "stderr",
     "output_type": "stream",
     "text": [
      "\n",
      "\n",
      "\n",
      "\n",
      "\n",
      "\n",
      "\n",
      "Thread num: 4:  35%|█████████████████████                                        | 37/107 [3:59:09<6:25:31, 330.46s/it]\u001b[A\u001b[A\u001b[A\u001b[A\u001b[A\u001b[A\u001b[A"
     ]
    },
    {
     "name": "stdout",
     "output_type": "stream",
     "text": [
      "completed symbols CIM: VTSI: BTN: GP: ETTX: RUHN: GLDM: ALDX: EMX: MIND: BMRA: INSE: CHKR: SV: BLMN: QUIK: FPRX: PHCF: TWI: MUFG: JAKK: IPWR: WBAI: MUR: PIRS: CALX: ESTE: CTMX: ZIOP: CIK: CLM: PBCT: PRTS: FTK: SDPI: SRTS: OSMT - thread num: 4  -  37 / 107\n"
     ]
    },
    {
     "name": "stderr",
     "output_type": "stream",
     "text": [
      "\n",
      "\n",
      "\n",
      "\n",
      "\n",
      "Thread num: 1:  28%|█████████████████                                            | 30/107 [3:59:32<9:13:25, 431.24s/it]\u001b[A\u001b[A\u001b[A\u001b[A\u001b[A"
     ]
    },
    {
     "name": "stdout",
     "output_type": "stream",
     "text": [
      "completed symbols OSS: VHC: FSI: SYRS: STIM: LMNL: CTHR: TDAC: MARPS: SLB: VVOS: MPLN: BLUE: FPAC: EDSA: ORMP: LAND: AMST: ELA: SOAC: PSAC: LWAY: ARDX: UAA: IDXG: BNKD: GTIM: ABR: PSTV: WOOF - thread num: 1  -  30 / 107\n"
     ]
    },
    {
     "name": "stderr",
     "output_type": "stream",
     "text": [
      "\n",
      "\n",
      "\n",
      "Thread num: 6:  38%|███████████████████████▎                                     | 41/107 [3:59:35<6:00:37, 327.85s/it]\u001b[A\u001b[A\u001b[A"
     ]
    },
    {
     "name": "stdout",
     "output_type": "stream",
     "text": [
      "completed symbols FAX: APEN: JUPW: IPI: ENLC: WRTC: RMBL: PHX: KDMN: SSPK: EBR: BKCC: RWT: GSUM: FGPR: MXC: IGXT: GSKY: RTP: MEIP: PUYI: MYT: EXTR: ELVT: VRAY: HAPP: AAAU: PACE: CSPR: WRN: CEF: SBUM: DXYN: VIPS: MCRB: IEC: STIC: HUSN: INMB: GOCO: QHC - thread num: 6  -  41 / 107\n"
     ]
    },
    {
     "name": "stderr",
     "output_type": "stream",
     "text": [
      "\n",
      "Thread num: 3:  29%|█████████████████▋                                           | 31/107 [4:00:41<9:18:10, 440.66s/it]\u001b[A"
     ]
    },
    {
     "name": "stdout",
     "output_type": "stream",
     "text": [
      "completed symbols AACQ: CTK: SVC: EGAN: PSTI: SAEXQ: EB: ATEN: CDXC: PVL: SILV: SILJ: NRBO: CARA: RTLR: CXW: FRO: EAST: PING: JPST: EQT: IDN: KBSF: FCAU: CLDX: TRNE: NBL: MAIN: ELY: PRCP: BRN - thread num: 3  -  31 / 107\n"
     ]
    },
    {
     "name": "stderr",
     "output_type": "stream",
     "text": [
      "\n",
      "\n",
      "\n",
      "\n",
      "\n",
      "\n",
      "\n",
      "Thread num: 4:  36%|█████████████████████▋                                       | 38/107 [4:02:28<5:34:37, 290.98s/it]\u001b[A\u001b[A\u001b[A\u001b[A\u001b[A\u001b[A\u001b[A"
     ]
    },
    {
     "name": "stdout",
     "output_type": "stream",
     "text": [
      "completed symbols CIM: VTSI: BTN: GP: ETTX: RUHN: GLDM: ALDX: EMX: MIND: BMRA: INSE: CHKR: SV: BLMN: QUIK: FPRX: PHCF: TWI: MUFG: JAKK: IPWR: WBAI: MUR: PIRS: CALX: ESTE: CTMX: ZIOP: CIK: CLM: PBCT: PRTS: FTK: SDPI: SRTS: OSMT: FLMN - thread num: 4  -  38 / 107\n"
     ]
    },
    {
     "name": "stderr",
     "output_type": "stream",
     "text": [
      "\n",
      "\n",
      "\n",
      "\n",
      "\n",
      "Thread num: 1:  29%|█████████████████▋                                           | 31/107 [4:03:35<7:54:54, 374.93s/it]\u001b[A\u001b[A\u001b[A\u001b[A\u001b[A"
     ]
    },
    {
     "name": "stdout",
     "output_type": "stream",
     "text": [
      "completed symbols OSS: VHC: FSI: SYRS: STIM: LMNL: CTHR: TDAC: MARPS: SLB: VVOS: MPLN: BLUE: FPAC: EDSA: ORMP: LAND: AMST: ELA: SOAC: PSAC: LWAY: ARDX: UAA: IDXG: BNKD: GTIM: ABR: PSTV: WOOF: GAIN - thread num: 1  -  31 / 107\n"
     ]
    },
    {
     "name": "stderr",
     "output_type": "stream",
     "text": [
      "\n",
      "\n",
      "\n",
      "\n",
      "\n",
      "\n",
      "\n",
      "Thread num: 4:  36%|██████████████████████▏                                      | 39/107 [4:05:33<4:53:52, 259.31s/it]\u001b[A\u001b[A\u001b[A\u001b[A\u001b[A\u001b[A\u001b[A"
     ]
    },
    {
     "name": "stdout",
     "output_type": "stream",
     "text": [
      "completed symbols CIM: VTSI: BTN: GP: ETTX: RUHN: GLDM: ALDX: EMX: MIND: BMRA: INSE: CHKR: SV: BLMN: QUIK: FPRX: PHCF: TWI: MUFG: JAKK: IPWR: WBAI: MUR: PIRS: CALX: ESTE: CTMX: ZIOP: CIK: CLM: PBCT: PRTS: FTK: SDPI: SRTS: OSMT: FLMN: CVU - thread num: 4  -  39 / 107\n"
     ]
    },
    {
     "name": "stderr",
     "output_type": "stream",
     "text": [
      "\n",
      "\n",
      "\n",
      "\n",
      "\n",
      "Thread num: 1:  30%|██████████████████▏                                          | 32/107 [4:05:50<6:18:40, 302.95s/it]\u001b[A\u001b[A\u001b[A\u001b[A\u001b[A"
     ]
    },
    {
     "name": "stdout",
     "output_type": "stream",
     "text": [
      "completed symbols OSS: VHC: FSI: SYRS: STIM: LMNL: CTHR: TDAC: MARPS: SLB: VVOS: MPLN: BLUE: FPAC: EDSA: ORMP: LAND: AMST: ELA: SOAC: PSAC: LWAY: ARDX: UAA: IDXG: BNKD: GTIM: ABR: PSTV: WOOF: GAIN: CCV - thread num: 1  -  32 / 107\n"
     ]
    },
    {
     "name": "stderr",
     "output_type": "stream",
     "text": [
      "\n",
      "Thread num: 3:  30%|██████████████████▏                                          | 32/107 [4:07:26<8:57:21, 429.89s/it]\u001b[A"
     ]
    },
    {
     "name": "stdout",
     "output_type": "stream",
     "text": [
      "completed symbols AACQ: CTK: SVC: EGAN: PSTI: SAEXQ: EB: ATEN: CDXC: PVL: SILV: SILJ: NRBO: CARA: RTLR: CXW: FRO: EAST: PING: JPST: EQT: IDN: KBSF: FCAU: CLDX: TRNE: NBL: MAIN: ELY: PRCP: BRN: HJLI - thread num: 3  -  32 / 107\n"
     ]
    },
    {
     "name": "stderr",
     "output_type": "stream",
     "text": [
      "\r",
      "Thread num: 2:  36%|██████████████████████▏                                      | 39/107 [4:08:21<8:42:10, 460.75s/it]"
     ]
    },
    {
     "name": "stdout",
     "output_type": "stream",
     "text": [
      "completed symbols OMP: APLT: NRO: IMH: THM: WHLM: EBET: VNRX: RLX: LEVI: ASTS: IMMR: DSX: CDE: YI: TRIB: ROCH: HZON: TNK: GNW: MILE: TSIAU: TOUR: ACIU: CLOU: XYF: TPGY: CAKE: CMPS: KALA: KLR: CDTX: ACP: CMMB: HGBL: SALM: STM: OXSQ: FGEN - thread num: 2  -  39 / 107\n"
     ]
    },
    {
     "name": "stderr",
     "output_type": "stream",
     "text": [
      "\r",
      "Thread num: 2:  37%|██████████████████████▊                                      | 40/107 [4:10:51<6:50:32, 367.66s/it]"
     ]
    },
    {
     "name": "stdout",
     "output_type": "stream",
     "text": [
      "completed symbols OMP: APLT: NRO: IMH: THM: WHLM: EBET: VNRX: RLX: LEVI: ASTS: IMMR: DSX: CDE: YI: TRIB: ROCH: HZON: TNK: GNW: MILE: TSIAU: TOUR: ACIU: CLOU: XYF: TPGY: CAKE: CMPS: KALA: KLR: CDTX: ACP: CMMB: HGBL: SALM: STM: OXSQ: FGEN: TCCO - thread num: 2  -  40 / 107\n"
     ]
    },
    {
     "name": "stderr",
     "output_type": "stream",
     "text": [
      "\n",
      "\n",
      "\n",
      "\n",
      "\n",
      "\n",
      "Thread num: 5:  46%|███████████████████████████▉                                 | 49/107 [4:16:24<8:58:27, 557.02s/it]\u001b[A\u001b[A\u001b[A\u001b[A\u001b[A\u001b[A"
     ]
    },
    {
     "name": "stdout",
     "output_type": "stream",
     "text": [
      "completed symbols QQQJ: CFFA: ACEV: USL: ORGO: BBW: SYBX: ECC: WSTL: CDR: IFRX: TRIL: DMYI: OSW: SMSI: ZDGE: SDIV: VBLT: SOGO: JT: SPNV: IDRA: UNG: MYOS: ALYA: HNRG: ARC: CHMA: MCF: USIO: AVEO: KLDO: INVE: ACTG: AMPG: EDNT: VSTO: NAVB: GNCA: VIOT: SWI: ERJ: EMAN: AWP: SIEB: AHPI: PIPP: RUTH: IGT - thread num: 5  -  49 / 107\n"
     ]
    },
    {
     "name": "stderr",
     "output_type": "stream",
     "text": [
      "\n",
      "\n",
      "\n",
      "\n",
      "\n",
      "Thread num: 1:  31%|██████████████████▊                                          | 33/107 [4:16:56<8:27:53, 411.81s/it]\u001b[A\u001b[A\u001b[A\u001b[A\u001b[A"
     ]
    },
    {
     "name": "stdout",
     "output_type": "stream",
     "text": [
      "completed symbols OSS: VHC: FSI: SYRS: STIM: LMNL: CTHR: TDAC: MARPS: SLB: VVOS: MPLN: BLUE: FPAC: EDSA: ORMP: LAND: AMST: ELA: SOAC: PSAC: LWAY: ARDX: UAA: IDXG: BNKD: GTIM: ABR: PSTV: WOOF: GAIN: CCV: CGEN - thread num: 1  -  33 / 107\n"
     ]
    },
    {
     "name": "stderr",
     "output_type": "stream",
     "text": [
      "\n",
      "Thread num: 3:  31%|██████████████████▌                                         | 33/107 [4:18:24<10:14:34, 498.30s/it]\u001b[A"
     ]
    },
    {
     "name": "stdout",
     "output_type": "stream",
     "text": [
      "completed symbols AACQ: CTK: SVC: EGAN: PSTI: SAEXQ: EB: ATEN: CDXC: PVL: SILV: SILJ: NRBO: CARA: RTLR: CXW: FRO: EAST: PING: JPST: EQT: IDN: KBSF: FCAU: CLDX: TRNE: NBL: MAIN: ELY: PRCP: BRN: HJLI: DENN - thread num: 3  -  33 / 107\n"
     ]
    },
    {
     "name": "stderr",
     "output_type": "stream",
     "text": [
      "\r",
      "Thread num: 2:  38%|███████████████████████▎                                     | 41/107 [4:18:39<7:17:30, 397.74s/it]"
     ]
    },
    {
     "name": "stdout",
     "output_type": "stream",
     "text": [
      "completed symbols OMP: APLT: NRO: IMH: THM: WHLM: EBET: VNRX: RLX: LEVI: ASTS: IMMR: DSX: CDE: YI: TRIB: ROCH: HZON: TNK: GNW: MILE: TSIAU: TOUR: ACIU: CLOU: XYF: TPGY: CAKE: CMPS: KALA: KLR: CDTX: ACP: CMMB: HGBL: SALM: STM: OXSQ: FGEN: TCCO: DTIL - thread num: 2  -  41 / 107\n"
     ]
    },
    {
     "name": "stderr",
     "output_type": "stream",
     "text": [
      "\n",
      "\n",
      "\n",
      "\n",
      "\n",
      "\n",
      "Thread num: 5:  47%|████████████████████████████▌                                | 50/107 [4:19:16<6:59:26, 441.52s/it]\u001b[A\u001b[A\u001b[A\u001b[A\u001b[A\u001b[A"
     ]
    },
    {
     "name": "stdout",
     "output_type": "stream",
     "text": [
      "completed symbols QQQJ: CFFA: ACEV: USL: ORGO: BBW: SYBX: ECC: WSTL: CDR: IFRX: TRIL: DMYI: OSW: SMSI: ZDGE: SDIV: VBLT: SOGO: JT: SPNV: IDRA: UNG: MYOS: ALYA: HNRG: ARC: CHMA: MCF: USIO: AVEO: KLDO: INVE: ACTG: AMPG: EDNT: VSTO: NAVB: GNCA: VIOT: SWI: ERJ: EMAN: AWP: SIEB: AHPI: PIPP: RUTH: IGT: ONDK - thread num: 5  -  50 / 107\n"
     ]
    },
    {
     "name": "stderr",
     "output_type": "stream",
     "text": [
      "\n",
      "\n",
      "\n",
      "\n",
      "\n",
      "\n",
      "\n",
      "Thread num: 4:  37%|██████████████████████▊                                      | 40/107 [4:19:39<8:06:01, 435.24s/it]\u001b[A\u001b[A\u001b[A\u001b[A\u001b[A\u001b[A\u001b[A"
     ]
    },
    {
     "name": "stdout",
     "output_type": "stream",
     "text": [
      "completed symbols CIM: VTSI: BTN: GP: ETTX: RUHN: GLDM: ALDX: EMX: MIND: BMRA: INSE: CHKR: SV: BLMN: QUIK: FPRX: PHCF: TWI: MUFG: JAKK: IPWR: WBAI: MUR: PIRS: CALX: ESTE: CTMX: ZIOP: CIK: CLM: PBCT: PRTS: FTK: SDPI: SRTS: OSMT: FLMN: CVU: CIT - thread num: 4  -  40 / 107\n"
     ]
    },
    {
     "name": "stderr",
     "output_type": "stream",
     "text": [
      "\n",
      "\n",
      "\n",
      "\n",
      "\n",
      "\n",
      "Thread num: 5:  48%|█████████████████████████████                                | 51/107 [4:22:06<5:35:57, 359.96s/it]\u001b[A\u001b[A\u001b[A\u001b[A\u001b[A\u001b[A"
     ]
    },
    {
     "name": "stdout",
     "output_type": "stream",
     "text": [
      "completed symbols QQQJ: CFFA: ACEV: USL: ORGO: BBW: SYBX: ECC: WSTL: CDR: IFRX: TRIL: DMYI: OSW: SMSI: ZDGE: SDIV: VBLT: SOGO: JT: SPNV: IDRA: UNG: MYOS: ALYA: HNRG: ARC: CHMA: MCF: USIO: AVEO: KLDO: INVE: ACTG: AMPG: EDNT: VSTO: NAVB: GNCA: VIOT: SWI: ERJ: EMAN: AWP: SIEB: AHPI: PIPP: RUTH: IGT: ONDK: NKLAW - thread num: 5  -  51 / 107\n"
     ]
    },
    {
     "name": "stderr",
     "output_type": "stream",
     "text": [
      "\n",
      "\n",
      "\n",
      "\n",
      "\n",
      "\n",
      "\n",
      "Thread num: 4:  38%|███████████████████████▎                                     | 41/107 [4:22:44<6:36:13, 360.20s/it]\u001b[A\u001b[A\u001b[A\u001b[A\u001b[A\u001b[A\u001b[A"
     ]
    },
    {
     "name": "stdout",
     "output_type": "stream",
     "text": [
      "completed symbols CIM: VTSI: BTN: GP: ETTX: RUHN: GLDM: ALDX: EMX: MIND: BMRA: INSE: CHKR: SV: BLMN: QUIK: FPRX: PHCF: TWI: MUFG: JAKK: IPWR: WBAI: MUR: PIRS: CALX: ESTE: CTMX: ZIOP: CIK: CLM: PBCT: PRTS: FTK: SDPI: SRTS: OSMT: FLMN: CVU: CIT: SND - thread num: 4  -  41 / 107\n"
     ]
    },
    {
     "name": "stderr",
     "output_type": "stream",
     "text": [
      "\r",
      "Thread num: 2:  39%|███████████████████████▉                                     | 42/107 [4:23:19<6:32:26, 362.26s/it]"
     ]
    },
    {
     "name": "stdout",
     "output_type": "stream",
     "text": [
      "completed symbols OMP: APLT: NRO: IMH: THM: WHLM: EBET: VNRX: RLX: LEVI: ASTS: IMMR: DSX: CDE: YI: TRIB: ROCH: HZON: TNK: GNW: MILE: TSIAU: TOUR: ACIU: CLOU: XYF: TPGY: CAKE: CMPS: KALA: KLR: CDTX: ACP: CMMB: HGBL: SALM: STM: OXSQ: FGEN: TCCO: DTIL: CMLF - thread num: 2  -  42 / 107\n"
     ]
    },
    {
     "name": "stderr",
     "output_type": "stream",
     "text": [
      "\n",
      "Thread num: 3:  32%|███████████████████▍                                         | 34/107 [4:23:41<9:00:01, 443.85s/it]\u001b[A"
     ]
    },
    {
     "name": "stdout",
     "output_type": "stream",
     "text": [
      "completed symbols AACQ: CTK: SVC: EGAN: PSTI: SAEXQ: EB: ATEN: CDXC: PVL: SILV: SILJ: NRBO: CARA: RTLR: CXW: FRO: EAST: PING: JPST: EQT: IDN: KBSF: FCAU: CLDX: TRNE: NBL: MAIN: ELY: PRCP: BRN: HJLI: DENN: RSI - thread num: 3  -  34 / 107\n"
     ]
    },
    {
     "name": "stderr",
     "output_type": "stream",
     "text": [
      "\r",
      "Thread num: 2:  40%|████████████████████████▌                                    | 43/107 [4:27:36<5:52:56, 330.88s/it]"
     ]
    },
    {
     "name": "stdout",
     "output_type": "stream",
     "text": [
      "completed symbols OMP: APLT: NRO: IMH: THM: WHLM: EBET: VNRX: RLX: LEVI: ASTS: IMMR: DSX: CDE: YI: TRIB: ROCH: HZON: TNK: GNW: MILE: TSIAU: TOUR: ACIU: CLOU: XYF: TPGY: CAKE: CMPS: KALA: KLR: CDTX: ACP: CMMB: HGBL: SALM: STM: OXSQ: FGEN: TCCO: DTIL: CMLF: SMTS - thread num: 2  -  43 / 107\n"
     ]
    },
    {
     "name": "stderr",
     "output_type": "stream",
     "text": [
      "\r",
      "Thread num: 2:  41%|█████████████████████████                                    | 44/107 [4:28:50<4:26:14, 253.56s/it]"
     ]
    },
    {
     "name": "stdout",
     "output_type": "stream",
     "text": [
      "completed symbols OMP: APLT: NRO: IMH: THM: WHLM: EBET: VNRX: RLX: LEVI: ASTS: IMMR: DSX: CDE: YI: TRIB: ROCH: HZON: TNK: GNW: MILE: TSIAU: TOUR: ACIU: CLOU: XYF: TPGY: CAKE: CMPS: KALA: KLR: CDTX: ACP: CMMB: HGBL: SALM: STM: OXSQ: FGEN: TCCO: DTIL: CMLF: SMTS: BYRN - thread num: 2  -  44 / 107\n"
     ]
    },
    {
     "name": "stderr",
     "output_type": "stream",
     "text": [
      "\n",
      "Thread num: 3:  33%|███████████████████▉                                         | 35/107 [4:30:10<8:32:57, 427.47s/it]\u001b[A"
     ]
    },
    {
     "name": "stdout",
     "output_type": "stream",
     "text": [
      "completed symbols AACQ: CTK: SVC: EGAN: PSTI: SAEXQ: EB: ATEN: CDXC: PVL: SILV: SILJ: NRBO: CARA: RTLR: CXW: FRO: EAST: PING: JPST: EQT: IDN: KBSF: FCAU: CLDX: TRNE: NBL: MAIN: ELY: PRCP: BRN: HJLI: DENN: RSI: IHT - thread num: 3  -  35 / 107\n"
     ]
    },
    {
     "name": "stderr",
     "output_type": "stream",
     "text": [
      "\n",
      "\n",
      "\n",
      "\n",
      "\n",
      "\n",
      "Thread num: 5:  49%|█████████████████████████████▋                               | 52/107 [4:30:37<6:11:30, 405.29s/it]\u001b[A\u001b[A\u001b[A\u001b[A\u001b[A\u001b[A"
     ]
    },
    {
     "name": "stdout",
     "output_type": "stream",
     "text": [
      "completed symbols QQQJ: CFFA: ACEV: USL: ORGO: BBW: SYBX: ECC: WSTL: CDR: IFRX: TRIL: DMYI: OSW: SMSI: ZDGE: SDIV: VBLT: SOGO: JT: SPNV: IDRA: UNG: MYOS: ALYA: HNRG: ARC: CHMA: MCF: USIO: AVEO: KLDO: INVE: ACTG: AMPG: EDNT: VSTO: NAVB: GNCA: VIOT: SWI: ERJ: EMAN: AWP: SIEB: AHPI: PIPP: RUTH: IGT: ONDK: NKLAW: TCS - thread num: 5  -  52 / 107\n"
     ]
    },
    {
     "name": "stderr",
     "output_type": "stream",
     "text": [
      "\n",
      "\n",
      "\n",
      "\n",
      "\n",
      "\n",
      "Thread num: 5:  50%|██████████████████████████████▏                              | 53/107 [4:34:15<5:14:08, 349.04s/it]\u001b[A\u001b[A\u001b[A\u001b[A\u001b[A\u001b[A"
     ]
    },
    {
     "name": "stdout",
     "output_type": "stream",
     "text": [
      "completed symbols QQQJ: CFFA: ACEV: USL: ORGO: BBW: SYBX: ECC: WSTL: CDR: IFRX: TRIL: DMYI: OSW: SMSI: ZDGE: SDIV: VBLT: SOGO: JT: SPNV: IDRA: UNG: MYOS: ALYA: HNRG: ARC: CHMA: MCF: USIO: AVEO: KLDO: INVE: ACTG: AMPG: EDNT: VSTO: NAVB: GNCA: VIOT: SWI: ERJ: EMAN: AWP: SIEB: AHPI: PIPP: RUTH: IGT: ONDK: NKLAW: TCS: III - thread num: 5  -  53 / 107\n"
     ]
    },
    {
     "name": "stderr",
     "output_type": "stream",
     "text": [
      "\r",
      "Thread num: 2:  42%|█████████████████████████▋                                   | 45/107 [4:34:17<4:45:01, 275.83s/it]"
     ]
    },
    {
     "name": "stdout",
     "output_type": "stream",
     "text": [
      "completed symbols OMP: APLT: NRO: IMH: THM: WHLM: EBET: VNRX: RLX: LEVI: ASTS: IMMR: DSX: CDE: YI: TRIB: ROCH: HZON: TNK: GNW: MILE: TSIAU: TOUR: ACIU: CLOU: XYF: TPGY: CAKE: CMPS: KALA: KLR: CDTX: ACP: CMMB: HGBL: SALM: STM: OXSQ: FGEN: TCCO: DTIL: CMLF: SMTS: BYRN: LIFE - thread num: 2  -  45 / 107\n"
     ]
    },
    {
     "name": "stderr",
     "output_type": "stream",
     "text": [
      "\n",
      "\n",
      "\n",
      "\n",
      "\n",
      "\n",
      "\n",
      "Thread num: 4:  39%|███████████████████████▉                                     | 42/107 [4:36:59<9:11:02, 508.66s/it]\u001b[A\u001b[A\u001b[A\u001b[A\u001b[A\u001b[A\u001b[A"
     ]
    },
    {
     "name": "stdout",
     "output_type": "stream",
     "text": [
      "completed symbols CIM: VTSI: BTN: GP: ETTX: RUHN: GLDM: ALDX: EMX: MIND: BMRA: INSE: CHKR: SV: BLMN: QUIK: FPRX: PHCF: TWI: MUFG: JAKK: IPWR: WBAI: MUR: PIRS: CALX: ESTE: CTMX: ZIOP: CIK: CLM: PBCT: PRTS: FTK: SDPI: SRTS: OSMT: FLMN: CVU: CIT: SND: AUPH - thread num: 4  -  42 / 107\n"
     ]
    },
    {
     "name": "stderr",
     "output_type": "stream",
     "text": [
      "\n",
      "Thread num: 3:  34%|████████████████████▌                                        | 36/107 [4:38:24<8:49:16, 447.28s/it]\u001b[A"
     ]
    },
    {
     "name": "stdout",
     "output_type": "stream",
     "text": [
      "completed symbols AACQ: CTK: SVC: EGAN: PSTI: SAEXQ: EB: ATEN: CDXC: PVL: SILV: SILJ: NRBO: CARA: RTLR: CXW: FRO: EAST: PING: JPST: EQT: IDN: KBSF: FCAU: CLDX: TRNE: NBL: MAIN: ELY: PRCP: BRN: HJLI: DENN: RSI: IHT: TRQ - thread num: 3  -  36 / 107\n"
     ]
    },
    {
     "name": "stderr",
     "output_type": "stream",
     "text": [
      "\n",
      "\n",
      "\n",
      "Thread num: 6:  39%|███████████████████████▌                                    | 42/107 [4:39:01<16:57:18, 939.05s/it]\u001b[A\u001b[A\u001b[A"
     ]
    },
    {
     "name": "stdout",
     "output_type": "stream",
     "text": [
      "completed symbols FAX: APEN: JUPW: IPI: ENLC: WRTC: RMBL: PHX: KDMN: SSPK: EBR: BKCC: RWT: GSUM: FGPR: MXC: IGXT: GSKY: RTP: MEIP: PUYI: MYT: EXTR: ELVT: VRAY: HAPP: AAAU: PACE: CSPR: WRN: CEF: SBUM: DXYN: VIPS: MCRB: IEC: STIC: HUSN: INMB: GOCO: QHC: PBR - thread num: 6  -  42 / 107\n"
     ]
    },
    {
     "name": "stderr",
     "output_type": "stream",
     "text": [
      "\n",
      "\n",
      "\n",
      "\n",
      "\n",
      "\n",
      "\n",
      "Thread num: 4:  40%|████████████████████████▌                                    | 43/107 [4:39:46<7:13:10, 406.10s/it]\u001b[A\u001b[A\u001b[A\u001b[A\u001b[A\u001b[A\u001b[A"
     ]
    },
    {
     "name": "stdout",
     "output_type": "stream",
     "text": [
      "completed symbols CIM: VTSI: BTN: GP: ETTX: RUHN: GLDM: ALDX: EMX: MIND: BMRA: INSE: CHKR: SV: BLMN: QUIK: FPRX: PHCF: TWI: MUFG: JAKK: IPWR: WBAI: MUR: PIRS: CALX: ESTE: CTMX: ZIOP: CIK: CLM: PBCT: PRTS: FTK: SDPI: SRTS: OSMT: FLMN: CVU: CIT: SND: AUPH: FAII - thread num: 4  -  43 / 107\n"
     ]
    },
    {
     "name": "stderr",
     "output_type": "stream",
     "text": [
      "\n",
      "\n",
      "\n",
      "Thread num: 6:  40%|████████████████████████                                    | 43/107 [4:39:56<11:58:59, 674.06s/it]\u001b[A\u001b[A\u001b[A"
     ]
    },
    {
     "name": "stdout",
     "output_type": "stream",
     "text": [
      "completed symbols FAX: APEN: JUPW: IPI: ENLC: WRTC: RMBL: PHX: KDMN: SSPK: EBR: BKCC: RWT: GSUM: FGPR: MXC: IGXT: GSKY: RTP: MEIP: PUYI: MYT: EXTR: ELVT: VRAY: HAPP: AAAU: PACE: CSPR: WRN: CEF: SBUM: DXYN: VIPS: MCRB: IEC: STIC: HUSN: INMB: GOCO: QHC: PBR: EADSY - thread num: 6  -  43 / 107\n"
     ]
    },
    {
     "name": "stderr",
     "output_type": "stream",
     "text": [
      "\n",
      "\n",
      "\n",
      "\n",
      "\n",
      "\n",
      "Thread num: 5:  50%|██████████████████████████████▊                              | 54/107 [4:41:33<5:32:01, 375.88s/it]\u001b[A\u001b[A\u001b[A\u001b[A\u001b[A\u001b[A"
     ]
    },
    {
     "name": "stdout",
     "output_type": "stream",
     "text": [
      "completed symbols QQQJ: CFFA: ACEV: USL: ORGO: BBW: SYBX: ECC: WSTL: CDR: IFRX: TRIL: DMYI: OSW: SMSI: ZDGE: SDIV: VBLT: SOGO: JT: SPNV: IDRA: UNG: MYOS: ALYA: HNRG: ARC: CHMA: MCF: USIO: AVEO: KLDO: INVE: ACTG: AMPG: EDNT: VSTO: NAVB: GNCA: VIOT: SWI: ERJ: EMAN: AWP: SIEB: AHPI: PIPP: RUTH: IGT: ONDK: NKLAW: TCS: III: MDP - thread num: 5  -  54 / 107\n"
     ]
    },
    {
     "name": "stderr",
     "output_type": "stream",
     "text": [
      "\n",
      "Thread num: 3:  35%|█████████████████████                                        | 37/107 [4:42:14<7:25:47, 382.10s/it]\u001b[A"
     ]
    },
    {
     "name": "stdout",
     "output_type": "stream",
     "text": [
      "completed symbols AACQ: CTK: SVC: EGAN: PSTI: SAEXQ: EB: ATEN: CDXC: PVL: SILV: SILJ: NRBO: CARA: RTLR: CXW: FRO: EAST: PING: JPST: EQT: IDN: KBSF: FCAU: CLDX: TRNE: NBL: MAIN: ELY: PRCP: BRN: HJLI: DENN: RSI: IHT: TRQ: KIN - thread num: 3  -  37 / 107\n"
     ]
    },
    {
     "name": "stderr",
     "output_type": "stream",
     "text": [
      "\n",
      "\n",
      "\n",
      "\n",
      "\n",
      "\n",
      "\n",
      "Thread num: 4:  41%|█████████████████████████                                    | 44/107 [4:42:47<5:55:32, 338.61s/it]\u001b[A\u001b[A\u001b[A\u001b[A\u001b[A\u001b[A\u001b[A"
     ]
    },
    {
     "name": "stdout",
     "output_type": "stream",
     "text": [
      "completed symbols CIM: VTSI: BTN: GP: ETTX: RUHN: GLDM: ALDX: EMX: MIND: BMRA: INSE: CHKR: SV: BLMN: QUIK: FPRX: PHCF: TWI: MUFG: JAKK: IPWR: WBAI: MUR: PIRS: CALX: ESTE: CTMX: ZIOP: CIK: CLM: PBCT: PRTS: FTK: SDPI: SRTS: OSMT: FLMN: CVU: CIT: SND: AUPH: FAII: TUSK - thread num: 4  -  44 / 107\n"
     ]
    },
    {
     "name": "stderr",
     "output_type": "stream",
     "text": [
      "\n",
      "\n",
      "\n",
      "\n",
      "\n",
      "\n",
      "\n",
      "Thread num: 4:  42%|█████████████████████████▋                                   | 45/107 [4:43:44<4:22:36, 254.14s/it]\u001b[A\u001b[A\u001b[A\u001b[A\u001b[A\u001b[A\u001b[A"
     ]
    },
    {
     "name": "stdout",
     "output_type": "stream",
     "text": [
      "completed symbols CIM: VTSI: BTN: GP: ETTX: RUHN: GLDM: ALDX: EMX: MIND: BMRA: INSE: CHKR: SV: BLMN: QUIK: FPRX: PHCF: TWI: MUFG: JAKK: IPWR: WBAI: MUR: PIRS: CALX: ESTE: CTMX: ZIOP: CIK: CLM: PBCT: PRTS: FTK: SDPI: SRTS: OSMT: FLMN: CVU: CIT: SND: AUPH: FAII: TUSK: SHLDQ - thread num: 4  -  45 / 107\n"
     ]
    },
    {
     "name": "stderr",
     "output_type": "stream",
     "text": [
      "\n",
      "\n",
      "\n",
      "Thread num: 6:  41%|████████████████████████▋                                   | 44/107 [4:45:36<10:02:20, 573.66s/it]\u001b[A\u001b[A\u001b[A"
     ]
    },
    {
     "name": "stdout",
     "output_type": "stream",
     "text": [
      "completed symbols FAX: APEN: JUPW: IPI: ENLC: WRTC: RMBL: PHX: KDMN: SSPK: EBR: BKCC: RWT: GSUM: FGPR: MXC: IGXT: GSKY: RTP: MEIP: PUYI: MYT: EXTR: ELVT: VRAY: HAPP: AAAU: PACE: CSPR: WRN: CEF: SBUM: DXYN: VIPS: MCRB: IEC: STIC: HUSN: INMB: GOCO: QHC: PBR: EADSY: AKTS - thread num: 6  -  44 / 107\n"
     ]
    },
    {
     "name": "stderr",
     "output_type": "stream",
     "text": [
      "\n",
      "Thread num: 3:  36%|█████████████████████▋                                       | 38/107 [4:45:58<6:24:56, 334.74s/it]\u001b[A"
     ]
    },
    {
     "name": "stdout",
     "output_type": "stream",
     "text": [
      "completed symbols AACQ: CTK: SVC: EGAN: PSTI: SAEXQ: EB: ATEN: CDXC: PVL: SILV: SILJ: NRBO: CARA: RTLR: CXW: FRO: EAST: PING: JPST: EQT: IDN: KBSF: FCAU: CLDX: TRNE: NBL: MAIN: ELY: PRCP: BRN: HJLI: DENN: RSI: IHT: TRQ: KIN: UUP - thread num: 3  -  38 / 107\n"
     ]
    },
    {
     "name": "stderr",
     "output_type": "stream",
     "text": [
      "\r",
      "Thread num: 2:  43%|██████████████████████████▏                                  | 46/107 [4:47:04<7:09:58, 422.93s/it]"
     ]
    },
    {
     "name": "stdout",
     "output_type": "stream",
     "text": [
      "completed symbols OMP: APLT: NRO: IMH: THM: WHLM: EBET: VNRX: RLX: LEVI: ASTS: IMMR: DSX: CDE: YI: TRIB: ROCH: HZON: TNK: GNW: MILE: TSIAU: TOUR: ACIU: CLOU: XYF: TPGY: CAKE: CMPS: KALA: KLR: CDTX: ACP: CMMB: HGBL: SALM: STM: OXSQ: FGEN: TCCO: DTIL: CMLF: SMTS: BYRN: LIFE: DHT - thread num: 2  -  46 / 107\n"
     ]
    },
    {
     "name": "stderr",
     "output_type": "stream",
     "text": [
      "\n",
      "\n",
      "\n",
      "\n",
      "\n",
      "\n",
      "\n",
      "Thread num: 4:  43%|██████████████████████████▏                                  | 46/107 [4:47:56<4:17:42, 253.49s/it]\u001b[A\u001b[A\u001b[A\u001b[A\u001b[A\u001b[A\u001b[A"
     ]
    },
    {
     "name": "stdout",
     "output_type": "stream",
     "text": [
      "completed symbols CIM: VTSI: BTN: GP: ETTX: RUHN: GLDM: ALDX: EMX: MIND: BMRA: INSE: CHKR: SV: BLMN: QUIK: FPRX: PHCF: TWI: MUFG: JAKK: IPWR: WBAI: MUR: PIRS: CALX: ESTE: CTMX: ZIOP: CIK: CLM: PBCT: PRTS: FTK: SDPI: SRTS: OSMT: FLMN: CVU: CIT: SND: AUPH: FAII: TUSK: SHLDQ: ZCMD - thread num: 4  -  46 / 107\n"
     ]
    },
    {
     "name": "stderr",
     "output_type": "stream",
     "text": [
      "\n",
      "\n",
      "\n",
      "\n",
      "\n",
      "Thread num: 1:  32%|███████████████████                                         | 34/107 [4:48:17<17:17:07, 852.43s/it]\u001b[A\u001b[A\u001b[A\u001b[A\u001b[A"
     ]
    },
    {
     "name": "stdout",
     "output_type": "stream",
     "text": [
      "completed symbols OSS: VHC: FSI: SYRS: STIM: LMNL: CTHR: TDAC: MARPS: SLB: VVOS: MPLN: BLUE: FPAC: EDSA: ORMP: LAND: AMST: ELA: SOAC: PSAC: LWAY: ARDX: UAA: IDXG: BNKD: GTIM: ABR: PSTV: WOOF: GAIN: CCV: CGEN: CARR - thread num: 1  -  34 / 107\n"
     ]
    },
    {
     "name": "stderr",
     "output_type": "stream",
     "text": [
      "\n",
      "Thread num: 3:  36%|██████████████████████▏                                      | 39/107 [4:49:11<5:31:15, 292.29s/it]\u001b[A"
     ]
    },
    {
     "name": "stdout",
     "output_type": "stream",
     "text": [
      "completed symbols AACQ: CTK: SVC: EGAN: PSTI: SAEXQ: EB: ATEN: CDXC: PVL: SILV: SILJ: NRBO: CARA: RTLR: CXW: FRO: EAST: PING: JPST: EQT: IDN: KBSF: FCAU: CLDX: TRNE: NBL: MAIN: ELY: PRCP: BRN: HJLI: DENN: RSI: IHT: TRQ: KIN: UUP: AMS - thread num: 3  -  39 / 107\n"
     ]
    },
    {
     "name": "stderr",
     "output_type": "stream",
     "text": [
      "\n",
      "\n",
      "\n",
      "\n",
      "\n",
      "\n",
      "Thread num: 5:  51%|███████████████████████████████▎                             | 55/107 [4:49:12<5:47:10, 400.59s/it]\u001b[A\u001b[A\u001b[A\u001b[A\u001b[A\u001b[A"
     ]
    },
    {
     "name": "stdout",
     "output_type": "stream",
     "text": [
      "completed symbols QQQJ: CFFA: ACEV: USL: ORGO: BBW: SYBX: ECC: WSTL: CDR: IFRX: TRIL: DMYI: OSW: SMSI: ZDGE: SDIV: VBLT: SOGO: JT: SPNV: IDRA: UNG: MYOS: ALYA: HNRG: ARC: CHMA: MCF: USIO: AVEO: KLDO: INVE: ACTG: AMPG: EDNT: VSTO: NAVB: GNCA: VIOT: SWI: ERJ: EMAN: AWP: SIEB: AHPI: PIPP: RUTH: IGT: ONDK: NKLAW: TCS: III: MDP: TMF - thread num: 5  -  55 / 107\n"
     ]
    },
    {
     "name": "stderr",
     "output_type": "stream",
     "text": [
      "\n",
      "\n",
      "\n",
      "\n",
      "\n",
      "\n",
      "\n",
      "Thread num: 4:  44%|██████████████████████████▊                                  | 47/107 [4:50:19<3:40:21, 220.36s/it]\u001b[A\u001b[A\u001b[A\u001b[A\u001b[A\u001b[A\u001b[A"
     ]
    },
    {
     "name": "stdout",
     "output_type": "stream",
     "text": [
      "completed symbols CIM: VTSI: BTN: GP: ETTX: RUHN: GLDM: ALDX: EMX: MIND: BMRA: INSE: CHKR: SV: BLMN: QUIK: FPRX: PHCF: TWI: MUFG: JAKK: IPWR: WBAI: MUR: PIRS: CALX: ESTE: CTMX: ZIOP: CIK: CLM: PBCT: PRTS: FTK: SDPI: SRTS: OSMT: FLMN: CVU: CIT: SND: AUPH: FAII: TUSK: SHLDQ: ZCMD: MTL - thread num: 4  -  47 / 107\n"
     ]
    },
    {
     "name": "stderr",
     "output_type": "stream",
     "text": [
      "\n",
      "\n",
      "\n",
      "Thread num: 6:  42%|█████████████████████████▋                                   | 45/107 [4:50:53<8:33:24, 496.84s/it]\u001b[A\u001b[A\u001b[A"
     ]
    },
    {
     "name": "stdout",
     "output_type": "stream",
     "text": [
      "completed symbols FAX: APEN: JUPW: IPI: ENLC: WRTC: RMBL: PHX: KDMN: SSPK: EBR: BKCC: RWT: GSUM: FGPR: MXC: IGXT: GSKY: RTP: MEIP: PUYI: MYT: EXTR: ELVT: VRAY: HAPP: AAAU: PACE: CSPR: WRN: CEF: SBUM: DXYN: VIPS: MCRB: IEC: STIC: HUSN: INMB: GOCO: QHC: PBR: EADSY: AKTS: FEAC - thread num: 6  -  45 / 107\n"
     ]
    },
    {
     "name": "stderr",
     "output_type": "stream",
     "text": [
      "\n",
      "\n",
      "\n",
      "\n",
      "\n",
      "\n",
      "Thread num: 5:  52%|███████████████████████████████▉                             | 56/107 [4:52:05<4:42:39, 332.54s/it]\u001b[A\u001b[A\u001b[A\u001b[A\u001b[A\u001b[A"
     ]
    },
    {
     "name": "stdout",
     "output_type": "stream",
     "text": [
      "completed symbols QQQJ: CFFA: ACEV: USL: ORGO: BBW: SYBX: ECC: WSTL: CDR: IFRX: TRIL: DMYI: OSW: SMSI: ZDGE: SDIV: VBLT: SOGO: JT: SPNV: IDRA: UNG: MYOS: ALYA: HNRG: ARC: CHMA: MCF: USIO: AVEO: KLDO: INVE: ACTG: AMPG: EDNT: VSTO: NAVB: GNCA: VIOT: SWI: ERJ: EMAN: AWP: SIEB: AHPI: PIPP: RUTH: IGT: ONDK: NKLAW: TCS: III: MDP: TMF: BTAQ - thread num: 5  -  56 / 107\n"
     ]
    },
    {
     "name": "stderr",
     "output_type": "stream",
     "text": [
      "\n",
      "\n",
      "\n",
      "\n",
      "\n",
      "Thread num: 1:  33%|███████████████████▋                                        | 35/107 [4:52:56<13:36:35, 680.49s/it]\u001b[A\u001b[A\u001b[A\u001b[A\u001b[A"
     ]
    },
    {
     "name": "stdout",
     "output_type": "stream",
     "text": [
      "completed symbols OSS: VHC: FSI: SYRS: STIM: LMNL: CTHR: TDAC: MARPS: SLB: VVOS: MPLN: BLUE: FPAC: EDSA: ORMP: LAND: AMST: ELA: SOAC: PSAC: LWAY: ARDX: UAA: IDXG: BNKD: GTIM: ABR: PSTV: WOOF: GAIN: CCV: CGEN: CARR: CURI - thread num: 1  -  35 / 107\n"
     ]
    },
    {
     "name": "stderr",
     "output_type": "stream",
     "text": [
      "\n",
      "\n",
      "\n",
      "\n",
      "\n",
      "\n",
      "\n",
      "Thread num: 4:  45%|███████████████████████████▎                                 | 48/107 [4:54:56<3:53:09, 237.11s/it]\u001b[A\u001b[A\u001b[A\u001b[A\u001b[A\u001b[A\u001b[A"
     ]
    },
    {
     "name": "stdout",
     "output_type": "stream",
     "text": [
      "completed symbols CIM: VTSI: BTN: GP: ETTX: RUHN: GLDM: ALDX: EMX: MIND: BMRA: INSE: CHKR: SV: BLMN: QUIK: FPRX: PHCF: TWI: MUFG: JAKK: IPWR: WBAI: MUR: PIRS: CALX: ESTE: CTMX: ZIOP: CIK: CLM: PBCT: PRTS: FTK: SDPI: SRTS: OSMT: FLMN: CVU: CIT: SND: AUPH: FAII: TUSK: SHLDQ: ZCMD: MTL: DAC - thread num: 4  -  48 / 107\n"
     ]
    },
    {
     "name": "stderr",
     "output_type": "stream",
     "text": [
      "\n",
      "\n",
      "\n",
      "\n",
      "\n",
      "Thread num: 1:  34%|████████████████████▏                                       | 36/107 [4:55:01<10:08:08, 513.92s/it]\u001b[A\u001b[A\u001b[A\u001b[A\u001b[A"
     ]
    },
    {
     "name": "stdout",
     "output_type": "stream",
     "text": [
      "completed symbols OSS: VHC: FSI: SYRS: STIM: LMNL: CTHR: TDAC: MARPS: SLB: VVOS: MPLN: BLUE: FPAC: EDSA: ORMP: LAND: AMST: ELA: SOAC: PSAC: LWAY: ARDX: UAA: IDXG: BNKD: GTIM: ABR: PSTV: WOOF: GAIN: CCV: CGEN: CARR: CURI: CXDC - thread num: 1  -  36 / 107\n"
     ]
    },
    {
     "name": "stderr",
     "output_type": "stream",
     "text": [
      "\r",
      "Thread num: 2:  44%|██████████████████████████▊                                  | 47/107 [4:55:07<7:20:58, 440.97s/it]"
     ]
    },
    {
     "name": "stdout",
     "output_type": "stream",
     "text": [
      "completed symbols OMP: APLT: NRO: IMH: THM: WHLM: EBET: VNRX: RLX: LEVI: ASTS: IMMR: DSX: CDE: YI: TRIB: ROCH: HZON: TNK: GNW: MILE: TSIAU: TOUR: ACIU: CLOU: XYF: TPGY: CAKE: CMPS: KALA: KLR: CDTX: ACP: CMMB: HGBL: SALM: STM: OXSQ: FGEN: TCCO: DTIL: CMLF: SMTS: BYRN: LIFE: DHT: EURN - thread num: 2  -  47 / 107\n"
     ]
    },
    {
     "name": "stderr",
     "output_type": "stream",
     "text": [
      "\n",
      "\n",
      "\n",
      "Thread num: 6:  43%|██████████████████████████▏                                  | 46/107 [4:55:38<7:20:33, 433.34s/it]\u001b[A\u001b[A\u001b[A"
     ]
    },
    {
     "name": "stdout",
     "output_type": "stream",
     "text": [
      "completed symbols FAX: APEN: JUPW: IPI: ENLC: WRTC: RMBL: PHX: KDMN: SSPK: EBR: BKCC: RWT: GSUM: FGPR: MXC: IGXT: GSKY: RTP: MEIP: PUYI: MYT: EXTR: ELVT: VRAY: HAPP: AAAU: PACE: CSPR: WRN: CEF: SBUM: DXYN: VIPS: MCRB: IEC: STIC: HUSN: INMB: GOCO: QHC: PBR: EADSY: AKTS: FEAC: ENSV - thread num: 6  -  46 / 107\n"
     ]
    },
    {
     "name": "stderr",
     "output_type": "stream",
     "text": [
      "\n",
      "Thread num: 3:  37%|██████████████████████▊                                      | 40/107 [4:56:17<6:11:13, 332.44s/it]\u001b[A"
     ]
    },
    {
     "name": "stdout",
     "output_type": "stream",
     "text": [
      "completed symbols AACQ: CTK: SVC: EGAN: PSTI: SAEXQ: EB: ATEN: CDXC: PVL: SILV: SILJ: NRBO: CARA: RTLR: CXW: FRO: EAST: PING: JPST: EQT: IDN: KBSF: FCAU: CLDX: TRNE: NBL: MAIN: ELY: PRCP: BRN: HJLI: DENN: RSI: IHT: TRQ: KIN: UUP: AMS: PSXP - thread num: 3  -  40 / 107\n"
     ]
    },
    {
     "name": "stderr",
     "output_type": "stream",
     "text": [
      "\n",
      "\n",
      "\n",
      "\n",
      "\n",
      "\n",
      "\n",
      "Thread num: 4:  46%|███████████████████████████▉                                 | 49/107 [4:56:29<3:07:27, 193.92s/it]\u001b[A\u001b[A\u001b[A\u001b[A\u001b[A\u001b[A\u001b[A"
     ]
    },
    {
     "name": "stdout",
     "output_type": "stream",
     "text": [
      "completed symbols CIM: VTSI: BTN: GP: ETTX: RUHN: GLDM: ALDX: EMX: MIND: BMRA: INSE: CHKR: SV: BLMN: QUIK: FPRX: PHCF: TWI: MUFG: JAKK: IPWR: WBAI: MUR: PIRS: CALX: ESTE: CTMX: ZIOP: CIK: CLM: PBCT: PRTS: FTK: SDPI: SRTS: OSMT: FLMN: CVU: CIT: SND: AUPH: FAII: TUSK: SHLDQ: ZCMD: MTL: DAC: XRF - thread num: 4  -  49 / 107\n"
     ]
    },
    {
     "name": "stderr",
     "output_type": "stream",
     "text": [
      "\n",
      "Thread num: 3:  38%|███████████████████████▎                                     | 41/107 [4:57:15<4:35:00, 250.00s/it]\u001b[A"
     ]
    },
    {
     "name": "stdout",
     "output_type": "stream",
     "text": [
      "completed symbols AACQ: CTK: SVC: EGAN: PSTI: SAEXQ: EB: ATEN: CDXC: PVL: SILV: SILJ: NRBO: CARA: RTLR: CXW: FRO: EAST: PING: JPST: EQT: IDN: KBSF: FCAU: CLDX: TRNE: NBL: MAIN: ELY: PRCP: BRN: HJLI: DENN: RSI: IHT: TRQ: KIN: UUP: AMS: PSXP: TGEN - thread num: 3  -  41 / 107\n"
     ]
    },
    {
     "name": "stderr",
     "output_type": "stream",
     "text": [
      "\r",
      "Thread num: 2:  45%|███████████████████████████▎                                 | 48/107 [4:57:17<5:42:00, 347.80s/it]"
     ]
    },
    {
     "name": "stdout",
     "output_type": "stream",
     "text": [
      "completed symbols OMP: APLT: NRO: IMH: THM: WHLM: EBET: VNRX: RLX: LEVI: ASTS: IMMR: DSX: CDE: YI: TRIB: ROCH: HZON: TNK: GNW: MILE: TSIAU: TOUR: ACIU: CLOU: XYF: TPGY: CAKE: CMPS: KALA: KLR: CDTX: ACP: CMMB: HGBL: SALM: STM: OXSQ: FGEN: TCCO: DTIL: CMLF: SMTS: BYRN: LIFE: DHT: EURN: SEAH - thread num: 2  -  48 / 107\n"
     ]
    },
    {
     "name": "stderr",
     "output_type": "stream",
     "text": [
      "\n",
      "Thread num: 3:  39%|███████████████████████▉                                     | 42/107 [4:59:21<3:50:38, 212.90s/it]\u001b[A"
     ]
    },
    {
     "name": "stdout",
     "output_type": "stream",
     "text": [
      "completed symbols AACQ: CTK: SVC: EGAN: PSTI: SAEXQ: EB: ATEN: CDXC: PVL: SILV: SILJ: NRBO: CARA: RTLR: CXW: FRO: EAST: PING: JPST: EQT: IDN: KBSF: FCAU: CLDX: TRNE: NBL: MAIN: ELY: PRCP: BRN: HJLI: DENN: RSI: IHT: TRQ: KIN: UUP: AMS: PSXP: TGEN: PMM - thread num: 3  -  42 / 107\n"
     ]
    },
    {
     "name": "stderr",
     "output_type": "stream",
     "text": [
      "\n",
      "\n",
      "\n",
      "Thread num: 6:  44%|██████████████████████████▊                                  | 47/107 [5:00:06<6:23:30, 383.51s/it]\u001b[A\u001b[A\u001b[A"
     ]
    },
    {
     "name": "stdout",
     "output_type": "stream",
     "text": [
      "completed symbols FAX: APEN: JUPW: IPI: ENLC: WRTC: RMBL: PHX: KDMN: SSPK: EBR: BKCC: RWT: GSUM: FGPR: MXC: IGXT: GSKY: RTP: MEIP: PUYI: MYT: EXTR: ELVT: VRAY: HAPP: AAAU: PACE: CSPR: WRN: CEF: SBUM: DXYN: VIPS: MCRB: IEC: STIC: HUSN: INMB: GOCO: QHC: PBR: EADSY: AKTS: FEAC: ENSV: AFIN - thread num: 6  -  47 / 107\n"
     ]
    },
    {
     "name": "stderr",
     "output_type": "stream",
     "text": [
      "\n",
      "\n",
      "\n",
      "\n",
      "\n",
      "\n",
      "Thread num: 5:  53%|████████████████████████████████▍                            | 57/107 [5:00:15<5:16:16, 379.54s/it]\u001b[A\u001b[A\u001b[A\u001b[A\u001b[A\u001b[A"
     ]
    },
    {
     "name": "stdout",
     "output_type": "stream",
     "text": [
      "completed symbols QQQJ: CFFA: ACEV: USL: ORGO: BBW: SYBX: ECC: WSTL: CDR: IFRX: TRIL: DMYI: OSW: SMSI: ZDGE: SDIV: VBLT: SOGO: JT: SPNV: IDRA: UNG: MYOS: ALYA: HNRG: ARC: CHMA: MCF: USIO: AVEO: KLDO: INVE: ACTG: AMPG: EDNT: VSTO: NAVB: GNCA: VIOT: SWI: ERJ: EMAN: AWP: SIEB: AHPI: PIPP: RUTH: IGT: ONDK: NKLAW: TCS: III: MDP: TMF: BTAQ: SPWH - thread num: 5  -  57 / 107\n"
     ]
    },
    {
     "name": "stderr",
     "output_type": "stream",
     "text": [
      "\n",
      "\n",
      "\n",
      "\n",
      "\n",
      "\n",
      "\n",
      "Thread num: 4:  47%|████████████████████████████▌                                | 50/107 [5:00:29<3:17:20, 207.73s/it]\u001b[A\u001b[A\u001b[A\u001b[A\u001b[A\u001b[A\u001b[A"
     ]
    },
    {
     "name": "stdout",
     "output_type": "stream",
     "text": [
      "completed symbols CIM: VTSI: BTN: GP: ETTX: RUHN: GLDM: ALDX: EMX: MIND: BMRA: INSE: CHKR: SV: BLMN: QUIK: FPRX: PHCF: TWI: MUFG: JAKK: IPWR: WBAI: MUR: PIRS: CALX: ESTE: CTMX: ZIOP: CIK: CLM: PBCT: PRTS: FTK: SDPI: SRTS: OSMT: FLMN: CVU: CIT: SND: AUPH: FAII: TUSK: SHLDQ: ZCMD: MTL: DAC: XRF: QELL - thread num: 4  -  50 / 107\n"
     ]
    },
    {
     "name": "stderr",
     "output_type": "stream",
     "text": [
      "\n",
      "\n",
      "\n",
      "\n",
      "\n",
      "\n",
      "Thread num: 5:  54%|█████████████████████████████████                            | 58/107 [5:02:19<4:07:32, 303.11s/it]\u001b[A\u001b[A\u001b[A\u001b[A\u001b[A\u001b[A"
     ]
    },
    {
     "name": "stdout",
     "output_type": "stream",
     "text": [
      "completed symbols QQQJ: CFFA: ACEV: USL: ORGO: BBW: SYBX: ECC: WSTL: CDR: IFRX: TRIL: DMYI: OSW: SMSI: ZDGE: SDIV: VBLT: SOGO: JT: SPNV: IDRA: UNG: MYOS: ALYA: HNRG: ARC: CHMA: MCF: USIO: AVEO: KLDO: INVE: ACTG: AMPG: EDNT: VSTO: NAVB: GNCA: VIOT: SWI: ERJ: EMAN: AWP: SIEB: AHPI: PIPP: RUTH: IGT: ONDK: NKLAW: TCS: III: MDP: TMF: BTAQ: SPWH: SPCX - thread num: 5  -  58 / 107\n"
     ]
    },
    {
     "name": "stderr",
     "output_type": "stream",
     "text": [
      "\n",
      "\n",
      "\n",
      "\n",
      "\n",
      "Thread num: 1:  35%|█████████████████████                                        | 37/107 [5:02:53<9:44:43, 501.19s/it]\u001b[A\u001b[A\u001b[A\u001b[A\u001b[A"
     ]
    },
    {
     "name": "stdout",
     "output_type": "stream",
     "text": [
      "completed symbols OSS: VHC: FSI: SYRS: STIM: LMNL: CTHR: TDAC: MARPS: SLB: VVOS: MPLN: BLUE: FPAC: EDSA: ORMP: LAND: AMST: ELA: SOAC: PSAC: LWAY: ARDX: UAA: IDXG: BNKD: GTIM: ABR: PSTV: WOOF: GAIN: CCV: CGEN: CARR: CURI: CXDC: TECS - thread num: 1  -  37 / 107\n"
     ]
    },
    {
     "name": "stderr",
     "output_type": "stream",
     "text": [
      "\n",
      "\n",
      "\n",
      "\n",
      "\n",
      "Thread num: 1:  36%|█████████████████████▋                                       | 38/107 [5:03:53<7:04:03, 368.75s/it]\u001b[A\u001b[A\u001b[A\u001b[A\u001b[A"
     ]
    },
    {
     "name": "stdout",
     "output_type": "stream",
     "text": [
      "completed symbols OSS: VHC: FSI: SYRS: STIM: LMNL: CTHR: TDAC: MARPS: SLB: VVOS: MPLN: BLUE: FPAC: EDSA: ORMP: LAND: AMST: ELA: SOAC: PSAC: LWAY: ARDX: UAA: IDXG: BNKD: GTIM: ABR: PSTV: WOOF: GAIN: CCV: CGEN: CARR: CURI: CXDC: TECS: ETCG - thread num: 1  -  38 / 107\n"
     ]
    },
    {
     "name": "stderr",
     "output_type": "stream",
     "text": [
      "\n",
      "\n",
      "\n",
      "\n",
      "\n",
      "\n",
      "Thread num: 5:  55%|█████████████████████████████████▋                           | 59/107 [5:04:20<3:18:44, 248.43s/it]\u001b[A\u001b[A\u001b[A\u001b[A\u001b[A\u001b[A"
     ]
    },
    {
     "name": "stdout",
     "output_type": "stream",
     "text": [
      "completed symbols QQQJ: CFFA: ACEV: USL: ORGO: BBW: SYBX: ECC: WSTL: CDR: IFRX: TRIL: DMYI: OSW: SMSI: ZDGE: SDIV: VBLT: SOGO: JT: SPNV: IDRA: UNG: MYOS: ALYA: HNRG: ARC: CHMA: MCF: USIO: AVEO: KLDO: INVE: ACTG: AMPG: EDNT: VSTO: NAVB: GNCA: VIOT: SWI: ERJ: EMAN: AWP: SIEB: AHPI: PIPP: RUTH: IGT: ONDK: NKLAW: TCS: III: MDP: TMF: BTAQ: SPWH: SPCX: USAT - thread num: 5  -  59 / 107\n"
     ]
    },
    {
     "name": "stderr",
     "output_type": "stream",
     "text": [
      "\n",
      "\n",
      "\n",
      "Thread num: 6:  45%|███████████████████████████▎                                 | 48/107 [5:04:49<5:47:29, 353.39s/it]\u001b[A\u001b[A\u001b[A"
     ]
    },
    {
     "name": "stdout",
     "output_type": "stream",
     "text": [
      "completed symbols FAX: APEN: JUPW: IPI: ENLC: WRTC: RMBL: PHX: KDMN: SSPK: EBR: BKCC: RWT: GSUM: FGPR: MXC: IGXT: GSKY: RTP: MEIP: PUYI: MYT: EXTR: ELVT: VRAY: HAPP: AAAU: PACE: CSPR: WRN: CEF: SBUM: DXYN: VIPS: MCRB: IEC: STIC: HUSN: INMB: GOCO: QHC: PBR: EADSY: AKTS: FEAC: ENSV: AFIN: FLNT - thread num: 6  -  48 / 107\n"
     ]
    },
    {
     "name": "stderr",
     "output_type": "stream",
     "text": [
      "\n",
      "\n",
      "\n",
      "\n",
      "\n",
      "Thread num: 1:  36%|██████████████████████▏                                      | 39/107 [5:06:20<5:42:36, 302.30s/it]\u001b[A\u001b[A\u001b[A\u001b[A\u001b[A"
     ]
    },
    {
     "name": "stdout",
     "output_type": "stream",
     "text": [
      "completed symbols OSS: VHC: FSI: SYRS: STIM: LMNL: CTHR: TDAC: MARPS: SLB: VVOS: MPLN: BLUE: FPAC: EDSA: ORMP: LAND: AMST: ELA: SOAC: PSAC: LWAY: ARDX: UAA: IDXG: BNKD: GTIM: ABR: PSTV: WOOF: GAIN: CCV: CGEN: CARR: CURI: CXDC: TECS: ETCG: PLAG - thread num: 1  -  39 / 107\n"
     ]
    },
    {
     "name": "stderr",
     "output_type": "stream",
     "text": [
      "\n",
      "\n",
      "\n",
      "Thread num: 6:  46%|███████████████████████████▉                                 | 49/107 [5:07:04<4:38:24, 288.01s/it]\u001b[A\u001b[A\u001b[A"
     ]
    },
    {
     "name": "stdout",
     "output_type": "stream",
     "text": [
      "completed symbols FAX: APEN: JUPW: IPI: ENLC: WRTC: RMBL: PHX: KDMN: SSPK: EBR: BKCC: RWT: GSUM: FGPR: MXC: IGXT: GSKY: RTP: MEIP: PUYI: MYT: EXTR: ELVT: VRAY: HAPP: AAAU: PACE: CSPR: WRN: CEF: SBUM: DXYN: VIPS: MCRB: IEC: STIC: HUSN: INMB: GOCO: QHC: PBR: EADSY: AKTS: FEAC: ENSV: AFIN: FLNT: SPFR - thread num: 6  -  49 / 107\n"
     ]
    },
    {
     "name": "stderr",
     "output_type": "stream",
     "text": [
      "\n",
      "Thread num: 3:  40%|████████████████████████▌                                    | 43/107 [5:08:47<5:40:03, 318.81s/it]\u001b[A"
     ]
    },
    {
     "name": "stdout",
     "output_type": "stream",
     "text": [
      "completed symbols AACQ: CTK: SVC: EGAN: PSTI: SAEXQ: EB: ATEN: CDXC: PVL: SILV: SILJ: NRBO: CARA: RTLR: CXW: FRO: EAST: PING: JPST: EQT: IDN: KBSF: FCAU: CLDX: TRNE: NBL: MAIN: ELY: PRCP: BRN: HJLI: DENN: RSI: IHT: TRQ: KIN: UUP: AMS: PSXP: TGEN: PMM: OII - thread num: 3  -  43 / 107\n"
     ]
    },
    {
     "name": "stderr",
     "output_type": "stream",
     "text": [
      "\n",
      "\n",
      "\n",
      "\n",
      "\n",
      "\n",
      "\n",
      "Thread num: 4:  48%|█████████████████████████████                                | 51/107 [5:09:27<4:46:23, 306.85s/it]\u001b[A\u001b[A\u001b[A\u001b[A\u001b[A\u001b[A\u001b[A"
     ]
    },
    {
     "name": "stdout",
     "output_type": "stream",
     "text": [
      "completed symbols CIM: VTSI: BTN: GP: ETTX: RUHN: GLDM: ALDX: EMX: MIND: BMRA: INSE: CHKR: SV: BLMN: QUIK: FPRX: PHCF: TWI: MUFG: JAKK: IPWR: WBAI: MUR: PIRS: CALX: ESTE: CTMX: ZIOP: CIK: CLM: PBCT: PRTS: FTK: SDPI: SRTS: OSMT: FLMN: CVU: CIT: SND: AUPH: FAII: TUSK: SHLDQ: ZCMD: MTL: DAC: XRF: QELL: FBP - thread num: 4  -  51 / 107\n"
     ]
    },
    {
     "name": "stderr",
     "output_type": "stream",
     "text": [
      "\n",
      "\n",
      "\n",
      "\n",
      "\n",
      "Thread num: 1:  37%|██████████████████████▊                                      | 40/107 [5:11:05<5:31:40, 297.03s/it]\u001b[A\u001b[A\u001b[A\u001b[A\u001b[A"
     ]
    },
    {
     "name": "stdout",
     "output_type": "stream",
     "text": [
      "completed symbols OSS: VHC: FSI: SYRS: STIM: LMNL: CTHR: TDAC: MARPS: SLB: VVOS: MPLN: BLUE: FPAC: EDSA: ORMP: LAND: AMST: ELA: SOAC: PSAC: LWAY: ARDX: UAA: IDXG: BNKD: GTIM: ABR: PSTV: WOOF: GAIN: CCV: CGEN: CARR: CURI: CXDC: TECS: ETCG: PLAG: OTIC - thread num: 1  -  40 / 107\n"
     ]
    },
    {
     "name": "stderr",
     "output_type": "stream",
     "text": [
      "\n",
      "\n",
      "\n",
      "\n",
      "\n",
      "Thread num: 1:  38%|███████████████████████▎                                     | 41/107 [5:13:59<4:46:23, 260.35s/it]\u001b[A\u001b[A\u001b[A\u001b[A\u001b[A"
     ]
    },
    {
     "name": "stdout",
     "output_type": "stream",
     "text": [
      "completed symbols OSS: VHC: FSI: SYRS: STIM: LMNL: CTHR: TDAC: MARPS: SLB: VVOS: MPLN: BLUE: FPAC: EDSA: ORMP: LAND: AMST: ELA: SOAC: PSAC: LWAY: ARDX: UAA: IDXG: BNKD: GTIM: ABR: PSTV: WOOF: GAIN: CCV: CGEN: CARR: CURI: CXDC: TECS: ETCG: PLAG: OTIC: SVAC - thread num: 1  -  41 / 107\n"
     ]
    },
    {
     "name": "stderr",
     "output_type": "stream",
     "text": [
      "\n",
      "Thread num: 3:  41%|█████████████████████████                                    | 44/107 [5:14:32<5:43:06, 326.76s/it]\u001b[A"
     ]
    },
    {
     "name": "stdout",
     "output_type": "stream",
     "text": [
      "completed symbols AACQ: CTK: SVC: EGAN: PSTI: SAEXQ: EB: ATEN: CDXC: PVL: SILV: SILJ: NRBO: CARA: RTLR: CXW: FRO: EAST: PING: JPST: EQT: IDN: KBSF: FCAU: CLDX: TRNE: NBL: MAIN: ELY: PRCP: BRN: HJLI: DENN: RSI: IHT: TRQ: KIN: UUP: AMS: PSXP: TGEN: PMM: OII: DXD - thread num: 3  -  44 / 107\n"
     ]
    },
    {
     "name": "stderr",
     "output_type": "stream",
     "text": [
      "\r",
      "Thread num: 2:  46%|███████████████████████████▉                                 | 49/107 [5:15:25<9:10:45, 569.76s/it]"
     ]
    },
    {
     "name": "stdout",
     "output_type": "stream",
     "text": [
      "completed symbols OMP: APLT: NRO: IMH: THM: WHLM: EBET: VNRX: RLX: LEVI: ASTS: IMMR: DSX: CDE: YI: TRIB: ROCH: HZON: TNK: GNW: MILE: TSIAU: TOUR: ACIU: CLOU: XYF: TPGY: CAKE: CMPS: KALA: KLR: CDTX: ACP: CMMB: HGBL: SALM: STM: OXSQ: FGEN: TCCO: DTIL: CMLF: SMTS: BYRN: LIFE: DHT: EURN: SEAH: STOR - thread num: 2  -  49 / 107\n"
     ]
    },
    {
     "name": "stderr",
     "output_type": "stream",
     "text": [
      "\n",
      "\n",
      "\n",
      "\n",
      "\n",
      "\n",
      "Thread num: 5:  56%|██████████████████████████████████▏                          | 60/107 [5:16:03<5:01:23, 384.76s/it]\u001b[A\u001b[A\u001b[A\u001b[A\u001b[A\u001b[A"
     ]
    },
    {
     "name": "stdout",
     "output_type": "stream",
     "text": [
      "completed symbols QQQJ: CFFA: ACEV: USL: ORGO: BBW: SYBX: ECC: WSTL: CDR: IFRX: TRIL: DMYI: OSW: SMSI: ZDGE: SDIV: VBLT: SOGO: JT: SPNV: IDRA: UNG: MYOS: ALYA: HNRG: ARC: CHMA: MCF: USIO: AVEO: KLDO: INVE: ACTG: AMPG: EDNT: VSTO: NAVB: GNCA: VIOT: SWI: ERJ: EMAN: AWP: SIEB: AHPI: PIPP: RUTH: IGT: ONDK: NKLAW: TCS: III: MDP: TMF: BTAQ: SPWH: SPCX: USAT: CERS - thread num: 5  -  60 / 107\n"
     ]
    },
    {
     "name": "stderr",
     "output_type": "stream",
     "text": [
      "\n",
      "Thread num: 3:  42%|█████████████████████████▋                                   | 45/107 [5:17:14<4:46:30, 277.27s/it]\u001b[A"
     ]
    },
    {
     "name": "stdout",
     "output_type": "stream",
     "text": [
      "completed symbols AACQ: CTK: SVC: EGAN: PSTI: SAEXQ: EB: ATEN: CDXC: PVL: SILV: SILJ: NRBO: CARA: RTLR: CXW: FRO: EAST: PING: JPST: EQT: IDN: KBSF: FCAU: CLDX: TRNE: NBL: MAIN: ELY: PRCP: BRN: HJLI: DENN: RSI: IHT: TRQ: KIN: UUP: AMS: PSXP: TGEN: PMM: OII: DXD: AEY - thread num: 3  -  45 / 107\n"
     ]
    },
    {
     "name": "stderr",
     "output_type": "stream",
     "text": [
      "\r",
      "Thread num: 2:  47%|████████████████████████████▌                                | 50/107 [5:21:24<8:01:24, 506.74s/it]"
     ]
    },
    {
     "name": "stdout",
     "output_type": "stream",
     "text": [
      "completed symbols OMP: APLT: NRO: IMH: THM: WHLM: EBET: VNRX: RLX: LEVI: ASTS: IMMR: DSX: CDE: YI: TRIB: ROCH: HZON: TNK: GNW: MILE: TSIAU: TOUR: ACIU: CLOU: XYF: TPGY: CAKE: CMPS: KALA: KLR: CDTX: ACP: CMMB: HGBL: SALM: STM: OXSQ: FGEN: TCCO: DTIL: CMLF: SMTS: BYRN: LIFE: DHT: EURN: SEAH: STOR: VVNT - thread num: 2  -  50 / 107\n"
     ]
    },
    {
     "name": "stderr",
     "output_type": "stream",
     "text": [
      "\n",
      "\n",
      "\n",
      "\n",
      "\n",
      "Thread num: 1:  39%|███████████████████████▉                                     | 42/107 [5:22:23<6:01:12, 333.42s/it]\u001b[A\u001b[A\u001b[A\u001b[A\u001b[A"
     ]
    },
    {
     "name": "stdout",
     "output_type": "stream",
     "text": [
      "completed symbols OSS: VHC: FSI: SYRS: STIM: LMNL: CTHR: TDAC: MARPS: SLB: VVOS: MPLN: BLUE: FPAC: EDSA: ORMP: LAND: AMST: ELA: SOAC: PSAC: LWAY: ARDX: UAA: IDXG: BNKD: GTIM: ABR: PSTV: WOOF: GAIN: CCV: CGEN: CARR: CURI: CXDC: TECS: ETCG: PLAG: OTIC: SVAC: ASX - thread num: 1  -  42 / 107\n"
     ]
    },
    {
     "name": "stderr",
     "output_type": "stream",
     "text": [
      "\n",
      "\n",
      "\n",
      "Thread num: 6:  47%|████████████████████████████▌                                | 50/107 [5:23:52<7:58:41, 503.89s/it]\u001b[A\u001b[A\u001b[A"
     ]
    },
    {
     "name": "stdout",
     "output_type": "stream",
     "text": [
      "completed symbols FAX: APEN: JUPW: IPI: ENLC: WRTC: RMBL: PHX: KDMN: SSPK: EBR: BKCC: RWT: GSUM: FGPR: MXC: IGXT: GSKY: RTP: MEIP: PUYI: MYT: EXTR: ELVT: VRAY: HAPP: AAAU: PACE: CSPR: WRN: CEF: SBUM: DXYN: VIPS: MCRB: IEC: STIC: HUSN: INMB: GOCO: QHC: PBR: EADSY: AKTS: FEAC: ENSV: AFIN: FLNT: SPFR: CVE - thread num: 6  -  50 / 107\n"
     ]
    },
    {
     "name": "stderr",
     "output_type": "stream",
     "text": [
      "\n",
      "\n",
      "\n",
      "Thread num: 6:  48%|█████████████████████████████                                | 51/107 [5:25:59<6:04:39, 390.71s/it]\u001b[A\u001b[A\u001b[A"
     ]
    },
    {
     "name": "stdout",
     "output_type": "stream",
     "text": [
      "completed symbols FAX: APEN: JUPW: IPI: ENLC: WRTC: RMBL: PHX: KDMN: SSPK: EBR: BKCC: RWT: GSUM: FGPR: MXC: IGXT: GSKY: RTP: MEIP: PUYI: MYT: EXTR: ELVT: VRAY: HAPP: AAAU: PACE: CSPR: WRN: CEF: SBUM: DXYN: VIPS: MCRB: IEC: STIC: HUSN: INMB: GOCO: QHC: PBR: EADSY: AKTS: FEAC: ENSV: AFIN: FLNT: SPFR: CVE: RMM - thread num: 6  -  51 / 107\n"
     ]
    },
    {
     "name": "stderr",
     "output_type": "stream",
     "text": [
      "\r",
      "Thread num: 2:  48%|█████████████████████████████                                | 51/107 [5:26:15<6:52:20, 441.80s/it]"
     ]
    },
    {
     "name": "stdout",
     "output_type": "stream",
     "text": [
      "completed symbols OMP: APLT: NRO: IMH: THM: WHLM: EBET: VNRX: RLX: LEVI: ASTS: IMMR: DSX: CDE: YI: TRIB: ROCH: HZON: TNK: GNW: MILE: TSIAU: TOUR: ACIU: CLOU: XYF: TPGY: CAKE: CMPS: KALA: KLR: CDTX: ACP: CMMB: HGBL: SALM: STM: OXSQ: FGEN: TCCO: DTIL: CMLF: SMTS: BYRN: LIFE: DHT: EURN: SEAH: STOR: VVNT: RAAS - thread num: 2  -  51 / 107\n"
     ]
    },
    {
     "name": "stderr",
     "output_type": "stream",
     "text": [
      "\n",
      "\n",
      "\n",
      "\n",
      "\n",
      "Thread num: 1:  40%|████████████████████████▌                                    | 43/107 [5:28:09<5:59:29, 337.02s/it]\u001b[A\u001b[A\u001b[A\u001b[A\u001b[A"
     ]
    },
    {
     "name": "stdout",
     "output_type": "stream",
     "text": [
      "completed symbols OSS: VHC: FSI: SYRS: STIM: LMNL: CTHR: TDAC: MARPS: SLB: VVOS: MPLN: BLUE: FPAC: EDSA: ORMP: LAND: AMST: ELA: SOAC: PSAC: LWAY: ARDX: UAA: IDXG: BNKD: GTIM: ABR: PSTV: WOOF: GAIN: CCV: CGEN: CARR: CURI: CXDC: TECS: ETCG: PLAG: OTIC: SVAC: ASX: APTS - thread num: 1  -  43 / 107\n"
     ]
    },
    {
     "name": "stderr",
     "output_type": "stream",
     "text": [
      "\n",
      "\n",
      "\n",
      "Thread num: 6:  49%|█████████████████████████████▋                               | 52/107 [5:28:46<4:56:44, 323.72s/it]\u001b[A\u001b[A\u001b[A"
     ]
    },
    {
     "name": "stdout",
     "output_type": "stream",
     "text": [
      "completed symbols FAX: APEN: JUPW: IPI: ENLC: WRTC: RMBL: PHX: KDMN: SSPK: EBR: BKCC: RWT: GSUM: FGPR: MXC: IGXT: GSKY: RTP: MEIP: PUYI: MYT: EXTR: ELVT: VRAY: HAPP: AAAU: PACE: CSPR: WRN: CEF: SBUM: DXYN: VIPS: MCRB: IEC: STIC: HUSN: INMB: GOCO: QHC: PBR: EADSY: AKTS: FEAC: ENSV: AFIN: FLNT: SPFR: CVE: RMM: DRAD - thread num: 6  -  52 / 107\n"
     ]
    },
    {
     "name": "stderr",
     "output_type": "stream",
     "text": [
      "\n",
      "\n",
      "\n",
      "\n",
      "\n",
      "Thread num: 1:  41%|█████████████████████████                                    | 44/107 [5:29:07<4:26:12, 253.53s/it]\u001b[A\u001b[A\u001b[A\u001b[A\u001b[A"
     ]
    },
    {
     "name": "stdout",
     "output_type": "stream",
     "text": [
      "completed symbols OSS: VHC: FSI: SYRS: STIM: LMNL: CTHR: TDAC: MARPS: SLB: VVOS: MPLN: BLUE: FPAC: EDSA: ORMP: LAND: AMST: ELA: SOAC: PSAC: LWAY: ARDX: UAA: IDXG: BNKD: GTIM: ABR: PSTV: WOOF: GAIN: CCV: CGEN: CARR: CURI: CXDC: TECS: ETCG: PLAG: OTIC: SVAC: ASX: APTS: AKRX - thread num: 1  -  44 / 107\n"
     ]
    },
    {
     "name": "stderr",
     "output_type": "stream",
     "text": [
      "\n",
      "\n",
      "\n",
      "\n",
      "\n",
      "\n",
      "Thread num: 5:  57%|██████████████████████████████████▊                          | 61/107 [5:30:03<6:39:42, 521.35s/it]\u001b[A\u001b[A\u001b[A\u001b[A\u001b[A\u001b[A"
     ]
    },
    {
     "name": "stdout",
     "output_type": "stream",
     "text": [
      "completed symbols QQQJ: CFFA: ACEV: USL: ORGO: BBW: SYBX: ECC: WSTL: CDR: IFRX: TRIL: DMYI: OSW: SMSI: ZDGE: SDIV: VBLT: SOGO: JT: SPNV: IDRA: UNG: MYOS: ALYA: HNRG: ARC: CHMA: MCF: USIO: AVEO: KLDO: INVE: ACTG: AMPG: EDNT: VSTO: NAVB: GNCA: VIOT: SWI: ERJ: EMAN: AWP: SIEB: AHPI: PIPP: RUTH: IGT: ONDK: NKLAW: TCS: III: MDP: TMF: BTAQ: SPWH: SPCX: USAT: CERS: CLNY - thread num: 5  -  61 / 107\n"
     ]
    },
    {
     "name": "stderr",
     "output_type": "stream",
     "text": [
      "\n",
      "Thread num: 3:  43%|██████████████████████████▏                                  | 46/107 [5:30:28<7:19:24, 432.20s/it]\u001b[A"
     ]
    },
    {
     "name": "stdout",
     "output_type": "stream",
     "text": [
      "completed symbols AACQ: CTK: SVC: EGAN: PSTI: SAEXQ: EB: ATEN: CDXC: PVL: SILV: SILJ: NRBO: CARA: RTLR: CXW: FRO: EAST: PING: JPST: EQT: IDN: KBSF: FCAU: CLDX: TRNE: NBL: MAIN: ELY: PRCP: BRN: HJLI: DENN: RSI: IHT: TRQ: KIN: UUP: AMS: PSXP: TGEN: PMM: OII: DXD: AEY: OMI - thread num: 3  -  46 / 107\n"
     ]
    },
    {
     "name": "stderr",
     "output_type": "stream",
     "text": [
      "\n",
      "\n",
      "\n",
      "\n",
      "\n",
      "Thread num: 1:  42%|█████████████████████████▋                                   | 45/107 [5:30:33<3:29:51, 203.08s/it]\u001b[A\u001b[A\u001b[A\u001b[A\u001b[A"
     ]
    },
    {
     "name": "stdout",
     "output_type": "stream",
     "text": [
      "completed symbols OSS: VHC: FSI: SYRS: STIM: LMNL: CTHR: TDAC: MARPS: SLB: VVOS: MPLN: BLUE: FPAC: EDSA: ORMP: LAND: AMST: ELA: SOAC: PSAC: LWAY: ARDX: UAA: IDXG: BNKD: GTIM: ABR: PSTV: WOOF: GAIN: CCV: CGEN: CARR: CURI: CXDC: TECS: ETCG: PLAG: OTIC: SVAC: ASX: APTS: AKRX: DUDE - thread num: 1  -  45 / 107\n"
     ]
    },
    {
     "name": "stderr",
     "output_type": "stream",
     "text": [
      "\n",
      "Thread num: 3:  44%|██████████████████████████▊                                  | 47/107 [5:33:35<5:58:47, 358.80s/it]\u001b[A"
     ]
    },
    {
     "name": "stdout",
     "output_type": "stream",
     "text": [
      "completed symbols AACQ: CTK: SVC: EGAN: PSTI: SAEXQ: EB: ATEN: CDXC: PVL: SILV: SILJ: NRBO: CARA: RTLR: CXW: FRO: EAST: PING: JPST: EQT: IDN: KBSF: FCAU: CLDX: TRNE: NBL: MAIN: ELY: PRCP: BRN: HJLI: DENN: RSI: IHT: TRQ: KIN: UUP: AMS: PSXP: TGEN: PMM: OII: DXD: AEY: OMI: TMQ - thread num: 3  -  47 / 107\n"
     ]
    },
    {
     "name": "stderr",
     "output_type": "stream",
     "text": [
      "\n",
      "\n",
      "\n",
      "Thread num: 6:  50%|██████████████████████████████▏                              | 53/107 [5:34:49<5:01:54, 335.46s/it]\u001b[A\u001b[A\u001b[A"
     ]
    },
    {
     "name": "stdout",
     "output_type": "stream",
     "text": [
      "completed symbols FAX: APEN: JUPW: IPI: ENLC: WRTC: RMBL: PHX: KDMN: SSPK: EBR: BKCC: RWT: GSUM: FGPR: MXC: IGXT: GSKY: RTP: MEIP: PUYI: MYT: EXTR: ELVT: VRAY: HAPP: AAAU: PACE: CSPR: WRN: CEF: SBUM: DXYN: VIPS: MCRB: IEC: STIC: HUSN: INMB: GOCO: QHC: PBR: EADSY: AKTS: FEAC: ENSV: AFIN: FLNT: SPFR: CVE: RMM: DRAD: NCMI - thread num: 6  -  53 / 107\n"
     ]
    },
    {
     "name": "stderr",
     "output_type": "stream",
     "text": [
      "\n",
      "\n",
      "\n",
      "Thread num: 6:  50%|██████████████████████████████▊                              | 54/107 [5:37:57<4:17:18, 291.29s/it]\u001b[A\u001b[A\u001b[A"
     ]
    },
    {
     "name": "stdout",
     "output_type": "stream",
     "text": [
      "completed symbols FAX: APEN: JUPW: IPI: ENLC: WRTC: RMBL: PHX: KDMN: SSPK: EBR: BKCC: RWT: GSUM: FGPR: MXC: IGXT: GSKY: RTP: MEIP: PUYI: MYT: EXTR: ELVT: VRAY: HAPP: AAAU: PACE: CSPR: WRN: CEF: SBUM: DXYN: VIPS: MCRB: IEC: STIC: HUSN: INMB: GOCO: QHC: PBR: EADSY: AKTS: FEAC: ENSV: AFIN: FLNT: SPFR: CVE: RMM: DRAD: NCMI: NINE - thread num: 6  -  54 / 107\n"
     ]
    },
    {
     "name": "stderr",
     "output_type": "stream",
     "text": [
      "\n",
      "\n",
      "\n",
      "Thread num: 6:  51%|███████████████████████████████▎                             | 55/107 [5:41:16<3:48:24, 263.55s/it]\u001b[A\u001b[A\u001b[A"
     ]
    },
    {
     "name": "stdout",
     "output_type": "stream",
     "text": [
      "completed symbols FAX: APEN: JUPW: IPI: ENLC: WRTC: RMBL: PHX: KDMN: SSPK: EBR: BKCC: RWT: GSUM: FGPR: MXC: IGXT: GSKY: RTP: MEIP: PUYI: MYT: EXTR: ELVT: VRAY: HAPP: AAAU: PACE: CSPR: WRN: CEF: SBUM: DXYN: VIPS: MCRB: IEC: STIC: HUSN: INMB: GOCO: QHC: PBR: EADSY: AKTS: FEAC: ENSV: AFIN: FLNT: SPFR: CVE: RMM: DRAD: NCMI: NINE: INAQ - thread num: 6  -  55 / 107\n"
     ]
    },
    {
     "name": "stderr",
     "output_type": "stream",
     "text": [
      "\r",
      "Thread num: 2:  49%|█████████████████████████████▋                               | 52/107 [5:41:48<9:00:05, 589.18s/it]"
     ]
    },
    {
     "name": "stdout",
     "output_type": "stream",
     "text": [
      "completed symbols OMP: APLT: NRO: IMH: THM: WHLM: EBET: VNRX: RLX: LEVI: ASTS: IMMR: DSX: CDE: YI: TRIB: ROCH: HZON: TNK: GNW: MILE: TSIAU: TOUR: ACIU: CLOU: XYF: TPGY: CAKE: CMPS: KALA: KLR: CDTX: ACP: CMMB: HGBL: SALM: STM: OXSQ: FGEN: TCCO: DTIL: CMLF: SMTS: BYRN: LIFE: DHT: EURN: SEAH: STOR: VVNT: RAAS: GEO - thread num: 2  -  52 / 107\n"
     ]
    },
    {
     "name": "stderr",
     "output_type": "stream",
     "text": [
      "\n",
      "\n",
      "\n",
      "\n",
      "\n",
      "\n",
      "\n",
      "Thread num: 4:  49%|█████████████████████████████▏                              | 52/107 [5:41:53<12:12:01, 798.58s/it]\u001b[A\u001b[A\u001b[A\u001b[A\u001b[A\u001b[A\u001b[A"
     ]
    },
    {
     "name": "stdout",
     "output_type": "stream",
     "text": [
      "completed symbols CIM: VTSI: BTN: GP: ETTX: RUHN: GLDM: ALDX: EMX: MIND: BMRA: INSE: CHKR: SV: BLMN: QUIK: FPRX: PHCF: TWI: MUFG: JAKK: IPWR: WBAI: MUR: PIRS: CALX: ESTE: CTMX: ZIOP: CIK: CLM: PBCT: PRTS: FTK: SDPI: SRTS: OSMT: FLMN: CVU: CIT: SND: AUPH: FAII: TUSK: SHLDQ: ZCMD: MTL: DAC: XRF: QELL: FBP: ALLY - thread num: 4  -  52 / 107\n"
     ]
    },
    {
     "name": "stderr",
     "output_type": "stream",
     "text": [
      "\n",
      "\n",
      "\n",
      "\n",
      "\n",
      "Thread num: 1:  43%|██████████████████████████▏                                  | 46/107 [5:42:09<5:56:55, 351.07s/it]\u001b[A\u001b[A\u001b[A\u001b[A\u001b[A"
     ]
    },
    {
     "name": "stdout",
     "output_type": "stream",
     "text": [
      "completed symbols OSS: VHC: FSI: SYRS: STIM: LMNL: CTHR: TDAC: MARPS: SLB: VVOS: MPLN: BLUE: FPAC: EDSA: ORMP: LAND: AMST: ELA: SOAC: PSAC: LWAY: ARDX: UAA: IDXG: BNKD: GTIM: ABR: PSTV: WOOF: GAIN: CCV: CGEN: CARR: CURI: CXDC: TECS: ETCG: PLAG: OTIC: SVAC: ASX: APTS: AKRX: DUDE: TBIO - thread num: 1  -  46 / 107\n"
     ]
    },
    {
     "name": "stderr",
     "output_type": "stream",
     "text": [
      "\n",
      "\n",
      "\n",
      "\n",
      "\n",
      "\n",
      "\n",
      "Thread num: 4:  50%|██████████████████████████████▏                              | 53/107 [5:44:17<9:01:55, 602.13s/it]\u001b[A\u001b[A\u001b[A\u001b[A\u001b[A\u001b[A\u001b[A"
     ]
    },
    {
     "name": "stdout",
     "output_type": "stream",
     "text": [
      "completed symbols CIM: VTSI: BTN: GP: ETTX: RUHN: GLDM: ALDX: EMX: MIND: BMRA: INSE: CHKR: SV: BLMN: QUIK: FPRX: PHCF: TWI: MUFG: JAKK: IPWR: WBAI: MUR: PIRS: CALX: ESTE: CTMX: ZIOP: CIK: CLM: PBCT: PRTS: FTK: SDPI: SRTS: OSMT: FLMN: CVU: CIT: SND: AUPH: FAII: TUSK: SHLDQ: ZCMD: MTL: DAC: XRF: QELL: FBP: ALLY: SGOC - thread num: 4  -  53 / 107\n"
     ]
    },
    {
     "name": "stderr",
     "output_type": "stream",
     "text": [
      "\n",
      "\n",
      "\n",
      "Thread num: 6:  52%|███████████████████████████████▉                             | 56/107 [5:44:20<3:23:49, 239.80s/it]\u001b[A\u001b[A\u001b[A"
     ]
    },
    {
     "name": "stdout",
     "output_type": "stream",
     "text": [
      "completed symbols FAX: APEN: JUPW: IPI: ENLC: WRTC: RMBL: PHX: KDMN: SSPK: EBR: BKCC: RWT: GSUM: FGPR: MXC: IGXT: GSKY: RTP: MEIP: PUYI: MYT: EXTR: ELVT: VRAY: HAPP: AAAU: PACE: CSPR: WRN: CEF: SBUM: DXYN: VIPS: MCRB: IEC: STIC: HUSN: INMB: GOCO: QHC: PBR: EADSY: AKTS: FEAC: ENSV: AFIN: FLNT: SPFR: CVE: RMM: DRAD: NCMI: NINE: INAQ: NTZ - thread num: 6  -  56 / 107\n"
     ]
    },
    {
     "name": "stderr",
     "output_type": "stream",
     "text": [
      "\n",
      "Thread num: 3:  45%|███████████████████████████▎                                 | 48/107 [5:46:27<7:54:27, 482.50s/it]\u001b[A"
     ]
    },
    {
     "name": "stdout",
     "output_type": "stream",
     "text": [
      "completed symbols AACQ: CTK: SVC: EGAN: PSTI: SAEXQ: EB: ATEN: CDXC: PVL: SILV: SILJ: NRBO: CARA: RTLR: CXW: FRO: EAST: PING: JPST: EQT: IDN: KBSF: FCAU: CLDX: TRNE: NBL: MAIN: ELY: PRCP: BRN: HJLI: DENN: RSI: IHT: TRQ: KIN: UUP: AMS: PSXP: TGEN: PMM: OII: DXD: AEY: OMI: TMQ: ZUO - thread num: 3  -  48 / 107\n"
     ]
    },
    {
     "name": "stderr",
     "output_type": "stream",
     "text": [
      "\r",
      "Thread num: 2:  50%|██████████████████████████████▏                              | 53/107 [5:46:50<7:32:40, 502.98s/it]"
     ]
    },
    {
     "name": "stdout",
     "output_type": "stream",
     "text": [
      "completed symbols OMP: APLT: NRO: IMH: THM: WHLM: EBET: VNRX: RLX: LEVI: ASTS: IMMR: DSX: CDE: YI: TRIB: ROCH: HZON: TNK: GNW: MILE: TSIAU: TOUR: ACIU: CLOU: XYF: TPGY: CAKE: CMPS: KALA: KLR: CDTX: ACP: CMMB: HGBL: SALM: STM: OXSQ: FGEN: TCCO: DTIL: CMLF: SMTS: BYRN: LIFE: DHT: EURN: SEAH: STOR: VVNT: RAAS: GEO: CAAS - thread num: 2  -  53 / 107\n"
     ]
    },
    {
     "name": "stderr",
     "output_type": "stream",
     "text": [
      "\n",
      "\n",
      "\n",
      "\n",
      "\n",
      "\n",
      "\n",
      "Thread num: 4:  50%|██████████████████████████████▊                              | 54/107 [5:47:47<7:08:10, 484.73s/it]\u001b[A\u001b[A\u001b[A\u001b[A\u001b[A\u001b[A\u001b[A"
     ]
    },
    {
     "name": "stdout",
     "output_type": "stream",
     "text": [
      "completed symbols CIM: VTSI: BTN: GP: ETTX: RUHN: GLDM: ALDX: EMX: MIND: BMRA: INSE: CHKR: SV: BLMN: QUIK: FPRX: PHCF: TWI: MUFG: JAKK: IPWR: WBAI: MUR: PIRS: CALX: ESTE: CTMX: ZIOP: CIK: CLM: PBCT: PRTS: FTK: SDPI: SRTS: OSMT: FLMN: CVU: CIT: SND: AUPH: FAII: TUSK: SHLDQ: ZCMD: MTL: DAC: XRF: QELL: FBP: ALLY: SGOC: KLXE - thread num: 4  -  54 / 107\n"
     ]
    },
    {
     "name": "stderr",
     "output_type": "stream",
     "text": [
      "\n",
      "\n",
      "\n",
      "Thread num: 6:  53%|████████████████████████████████▍                            | 57/107 [5:48:09<3:16:59, 236.39s/it]\u001b[A\u001b[A\u001b[A"
     ]
    },
    {
     "name": "stdout",
     "output_type": "stream",
     "text": [
      "completed symbols FAX: APEN: JUPW: IPI: ENLC: WRTC: RMBL: PHX: KDMN: SSPK: EBR: BKCC: RWT: GSUM: FGPR: MXC: IGXT: GSKY: RTP: MEIP: PUYI: MYT: EXTR: ELVT: VRAY: HAPP: AAAU: PACE: CSPR: WRN: CEF: SBUM: DXYN: VIPS: MCRB: IEC: STIC: HUSN: INMB: GOCO: QHC: PBR: EADSY: AKTS: FEAC: ENSV: AFIN: FLNT: SPFR: CVE: RMM: DRAD: NCMI: NINE: INAQ: NTZ: AJAX - thread num: 6  -  57 / 107\n"
     ]
    },
    {
     "name": "stderr",
     "output_type": "stream",
     "text": [
      "\n",
      "Thread num: 3:  46%|███████████████████████████▉                                 | 49/107 [5:49:30<6:19:36, 392.69s/it]\u001b[A"
     ]
    },
    {
     "name": "stdout",
     "output_type": "stream",
     "text": [
      "completed symbols AACQ: CTK: SVC: EGAN: PSTI: SAEXQ: EB: ATEN: CDXC: PVL: SILV: SILJ: NRBO: CARA: RTLR: CXW: FRO: EAST: PING: JPST: EQT: IDN: KBSF: FCAU: CLDX: TRNE: NBL: MAIN: ELY: PRCP: BRN: HJLI: DENN: RSI: IHT: TRQ: KIN: UUP: AMS: PSXP: TGEN: PMM: OII: DXD: AEY: OMI: TMQ: ZUO: MMLP - thread num: 3  -  49 / 107\n"
     ]
    },
    {
     "name": "stderr",
     "output_type": "stream",
     "text": [
      "\n",
      "\n",
      "\n",
      "\n",
      "\n",
      "\n",
      "Thread num: 5:  58%|███████████████████████████████████▎                         | 62/107 [5:51:13<9:19:19, 745.77s/it]\u001b[A\u001b[A\u001b[A\u001b[A\u001b[A\u001b[A"
     ]
    },
    {
     "name": "stdout",
     "output_type": "stream",
     "text": [
      "completed symbols QQQJ: CFFA: ACEV: USL: ORGO: BBW: SYBX: ECC: WSTL: CDR: IFRX: TRIL: DMYI: OSW: SMSI: ZDGE: SDIV: VBLT: SOGO: JT: SPNV: IDRA: UNG: MYOS: ALYA: HNRG: ARC: CHMA: MCF: USIO: AVEO: KLDO: INVE: ACTG: AMPG: EDNT: VSTO: NAVB: GNCA: VIOT: SWI: ERJ: EMAN: AWP: SIEB: AHPI: PIPP: RUTH: IGT: ONDK: NKLAW: TCS: III: MDP: TMF: BTAQ: SPWH: SPCX: USAT: CERS: CLNY: MPW - thread num: 5  -  62 / 107\n"
     ]
    },
    {
     "name": "stderr",
     "output_type": "stream",
     "text": [
      "\n",
      "Thread num: 3:  47%|████████████████████████████▌                                | 50/107 [5:53:06<5:22:53, 339.89s/it]\u001b[A"
     ]
    },
    {
     "name": "stdout",
     "output_type": "stream",
     "text": [
      "completed symbols AACQ: CTK: SVC: EGAN: PSTI: SAEXQ: EB: ATEN: CDXC: PVL: SILV: SILJ: NRBO: CARA: RTLR: CXW: FRO: EAST: PING: JPST: EQT: IDN: KBSF: FCAU: CLDX: TRNE: NBL: MAIN: ELY: PRCP: BRN: HJLI: DENN: RSI: IHT: TRQ: KIN: UUP: AMS: PSXP: TGEN: PMM: OII: DXD: AEY: OMI: TMQ: ZUO: MMLP: EGLE - thread num: 3  -  50 / 107\n"
     ]
    },
    {
     "name": "stderr",
     "output_type": "stream",
     "text": [
      "\n",
      "\n",
      "\n",
      "\n",
      "\n",
      "Thread num: 1:  44%|██████████████████████████▊                                  | 47/107 [5:55:14<8:01:16, 481.27s/it]\u001b[A\u001b[A\u001b[A\u001b[A\u001b[A"
     ]
    },
    {
     "name": "stdout",
     "output_type": "stream",
     "text": [
      "completed symbols OSS: VHC: FSI: SYRS: STIM: LMNL: CTHR: TDAC: MARPS: SLB: VVOS: MPLN: BLUE: FPAC: EDSA: ORMP: LAND: AMST: ELA: SOAC: PSAC: LWAY: ARDX: UAA: IDXG: BNKD: GTIM: ABR: PSTV: WOOF: GAIN: CCV: CGEN: CARR: CURI: CXDC: TECS: ETCG: PLAG: OTIC: SVAC: ASX: APTS: AKRX: DUDE: TBIO: EGO - thread num: 1  -  47 / 107\n"
     ]
    },
    {
     "name": "stderr",
     "output_type": "stream",
     "text": [
      "\n",
      "\n",
      "\n",
      "Thread num: 6:  54%|█████████████████████████████████                            | 58/107 [5:58:03<4:40:39, 343.66s/it]\u001b[A\u001b[A\u001b[A"
     ]
    },
    {
     "name": "stdout",
     "output_type": "stream",
     "text": [
      "completed symbols FAX: APEN: JUPW: IPI: ENLC: WRTC: RMBL: PHX: KDMN: SSPK: EBR: BKCC: RWT: GSUM: FGPR: MXC: IGXT: GSKY: RTP: MEIP: PUYI: MYT: EXTR: ELVT: VRAY: HAPP: AAAU: PACE: CSPR: WRN: CEF: SBUM: DXYN: VIPS: MCRB: IEC: STIC: HUSN: INMB: GOCO: QHC: PBR: EADSY: AKTS: FEAC: ENSV: AFIN: FLNT: SPFR: CVE: RMM: DRAD: NCMI: NINE: INAQ: NTZ: AJAX: BCS - thread num: 6  -  58 / 107\n"
     ]
    },
    {
     "name": "stderr",
     "output_type": "stream",
     "text": [
      "\n",
      "\n",
      "\n",
      "\n",
      "\n",
      "\n",
      "\n",
      "Thread num: 4:  51%|███████████████████████████████▎                             | 55/107 [5:58:30<7:41:04, 532.02s/it]\u001b[A\u001b[A\u001b[A\u001b[A\u001b[A\u001b[A\u001b[A"
     ]
    },
    {
     "name": "stdout",
     "output_type": "stream",
     "text": [
      "completed symbols CIM: VTSI: BTN: GP: ETTX: RUHN: GLDM: ALDX: EMX: MIND: BMRA: INSE: CHKR: SV: BLMN: QUIK: FPRX: PHCF: TWI: MUFG: JAKK: IPWR: WBAI: MUR: PIRS: CALX: ESTE: CTMX: ZIOP: CIK: CLM: PBCT: PRTS: FTK: SDPI: SRTS: OSMT: FLMN: CVU: CIT: SND: AUPH: FAII: TUSK: SHLDQ: ZCMD: MTL: DAC: XRF: QELL: FBP: ALLY: SGOC: KLXE: PUMP - thread num: 4  -  55 / 107\n"
     ]
    },
    {
     "name": "stderr",
     "output_type": "stream",
     "text": [
      "\n",
      "Thread num: 3:  48%|█████████████████████████████                                | 51/107 [5:59:15<5:25:21, 348.59s/it]\u001b[A"
     ]
    },
    {
     "name": "stdout",
     "output_type": "stream",
     "text": [
      "completed symbols AACQ: CTK: SVC: EGAN: PSTI: SAEXQ: EB: ATEN: CDXC: PVL: SILV: SILJ: NRBO: CARA: RTLR: CXW: FRO: EAST: PING: JPST: EQT: IDN: KBSF: FCAU: CLDX: TRNE: NBL: MAIN: ELY: PRCP: BRN: HJLI: DENN: RSI: IHT: TRQ: KIN: UUP: AMS: PSXP: TGEN: PMM: OII: DXD: AEY: OMI: TMQ: ZUO: MMLP: EGLE: CPG - thread num: 3  -  51 / 107\n"
     ]
    },
    {
     "name": "stderr",
     "output_type": "stream",
     "text": [
      "\n",
      "\n",
      "\n",
      "\n",
      "\n",
      "\n",
      "Thread num: 5:  59%|███████████████████████████████████▉                         | 63/107 [6:00:18<8:22:45, 685.58s/it]\u001b[A\u001b[A\u001b[A\u001b[A\u001b[A\u001b[A"
     ]
    },
    {
     "name": "stdout",
     "output_type": "stream",
     "text": [
      "completed symbols QQQJ: CFFA: ACEV: USL: ORGO: BBW: SYBX: ECC: WSTL: CDR: IFRX: TRIL: DMYI: OSW: SMSI: ZDGE: SDIV: VBLT: SOGO: JT: SPNV: IDRA: UNG: MYOS: ALYA: HNRG: ARC: CHMA: MCF: USIO: AVEO: KLDO: INVE: ACTG: AMPG: EDNT: VSTO: NAVB: GNCA: VIOT: SWI: ERJ: EMAN: AWP: SIEB: AHPI: PIPP: RUTH: IGT: ONDK: NKLAW: TCS: III: MDP: TMF: BTAQ: SPWH: SPCX: USAT: CERS: CLNY: MPW: SSL - thread num: 5  -  63 / 107\n"
     ]
    },
    {
     "name": "stderr",
     "output_type": "stream",
     "text": [
      "\n",
      "\n",
      "\n",
      "\n",
      "\n",
      "Thread num: 1:  45%|███████████████████████████▎                                 | 48/107 [6:00:29<7:04:07, 431.32s/it]\u001b[A\u001b[A\u001b[A\u001b[A\u001b[A"
     ]
    },
    {
     "name": "stdout",
     "output_type": "stream",
     "text": [
      "completed symbols OSS: VHC: FSI: SYRS: STIM: LMNL: CTHR: TDAC: MARPS: SLB: VVOS: MPLN: BLUE: FPAC: EDSA: ORMP: LAND: AMST: ELA: SOAC: PSAC: LWAY: ARDX: UAA: IDXG: BNKD: GTIM: ABR: PSTV: WOOF: GAIN: CCV: CGEN: CARR: CURI: CXDC: TECS: ETCG: PLAG: OTIC: SVAC: ASX: APTS: AKRX: DUDE: TBIO: EGO: GLYC - thread num: 1  -  48 / 107\n"
     ]
    },
    {
     "name": "stderr",
     "output_type": "stream",
     "text": [
      "\n",
      "\n",
      "\n",
      "\n",
      "\n",
      "\n",
      "\n",
      "Thread num: 4:  52%|███████████████████████████████▉                             | 56/107 [6:00:41<5:50:00, 411.77s/it]\u001b[A\u001b[A\u001b[A\u001b[A\u001b[A\u001b[A\u001b[A"
     ]
    },
    {
     "name": "stdout",
     "output_type": "stream",
     "text": [
      "completed symbols CIM: VTSI: BTN: GP: ETTX: RUHN: GLDM: ALDX: EMX: MIND: BMRA: INSE: CHKR: SV: BLMN: QUIK: FPRX: PHCF: TWI: MUFG: JAKK: IPWR: WBAI: MUR: PIRS: CALX: ESTE: CTMX: ZIOP: CIK: CLM: PBCT: PRTS: FTK: SDPI: SRTS: OSMT: FLMN: CVU: CIT: SND: AUPH: FAII: TUSK: SHLDQ: ZCMD: MTL: DAC: XRF: QELL: FBP: ALLY: SGOC: KLXE: PUMP: RMGB - thread num: 4  -  56 / 107\n"
     ]
    },
    {
     "name": "stderr",
     "output_type": "stream",
     "text": [
      "\n",
      "\n",
      "\n",
      "Thread num: 6:  55%|█████████████████████████████████▋                           | 59/107 [6:01:41<4:04:57, 306.20s/it]\u001b[A\u001b[A\u001b[A"
     ]
    },
    {
     "name": "stdout",
     "output_type": "stream",
     "text": [
      "completed symbols FAX: APEN: JUPW: IPI: ENLC: WRTC: RMBL: PHX: KDMN: SSPK: EBR: BKCC: RWT: GSUM: FGPR: MXC: IGXT: GSKY: RTP: MEIP: PUYI: MYT: EXTR: ELVT: VRAY: HAPP: AAAU: PACE: CSPR: WRN: CEF: SBUM: DXYN: VIPS: MCRB: IEC: STIC: HUSN: INMB: GOCO: QHC: PBR: EADSY: AKTS: FEAC: ENSV: AFIN: FLNT: SPFR: CVE: RMM: DRAD: NCMI: NINE: INAQ: NTZ: AJAX: BCS: SUP - thread num: 6  -  59 / 107\n"
     ]
    },
    {
     "name": "stderr",
     "output_type": "stream",
     "text": [
      "\n",
      "\n",
      "\n",
      "\n",
      "\n",
      "\n",
      "\n",
      "Thread num: 4:  53%|████████████████████████████████▍                            | 57/107 [6:02:53<4:33:19, 327.99s/it]\u001b[A\u001b[A\u001b[A\u001b[A\u001b[A\u001b[A\u001b[A"
     ]
    },
    {
     "name": "stdout",
     "output_type": "stream",
     "text": [
      "completed symbols CIM: VTSI: BTN: GP: ETTX: RUHN: GLDM: ALDX: EMX: MIND: BMRA: INSE: CHKR: SV: BLMN: QUIK: FPRX: PHCF: TWI: MUFG: JAKK: IPWR: WBAI: MUR: PIRS: CALX: ESTE: CTMX: ZIOP: CIK: CLM: PBCT: PRTS: FTK: SDPI: SRTS: OSMT: FLMN: CVU: CIT: SND: AUPH: FAII: TUSK: SHLDQ: ZCMD: MTL: DAC: XRF: QELL: FBP: ALLY: SGOC: KLXE: PUMP: RMGB: PFIE - thread num: 4  -  57 / 107\n"
     ]
    },
    {
     "name": "stderr",
     "output_type": "stream",
     "text": [
      "\n",
      "Thread num: 3:  49%|█████████████████████████████▋                               | 52/107 [6:03:04<4:46:32, 312.60s/it]\u001b[A"
     ]
    },
    {
     "name": "stdout",
     "output_type": "stream",
     "text": [
      "completed symbols AACQ: CTK: SVC: EGAN: PSTI: SAEXQ: EB: ATEN: CDXC: PVL: SILV: SILJ: NRBO: CARA: RTLR: CXW: FRO: EAST: PING: JPST: EQT: IDN: KBSF: FCAU: CLDX: TRNE: NBL: MAIN: ELY: PRCP: BRN: HJLI: DENN: RSI: IHT: TRQ: KIN: UUP: AMS: PSXP: TGEN: PMM: OII: DXD: AEY: OMI: TMQ: ZUO: MMLP: EGLE: CPG: NEW - thread num: 3  -  52 / 107\n"
     ]
    },
    {
     "name": "stderr",
     "output_type": "stream",
     "text": [
      "\n",
      "\n",
      "\n",
      "\n",
      "\n",
      "Thread num: 1:  46%|███████████████████████████▉                                 | 49/107 [6:04:55<6:08:54, 381.62s/it]\u001b[A\u001b[A\u001b[A\u001b[A\u001b[A"
     ]
    },
    {
     "name": "stdout",
     "output_type": "stream",
     "text": [
      "completed symbols OSS: VHC: FSI: SYRS: STIM: LMNL: CTHR: TDAC: MARPS: SLB: VVOS: MPLN: BLUE: FPAC: EDSA: ORMP: LAND: AMST: ELA: SOAC: PSAC: LWAY: ARDX: UAA: IDXG: BNKD: GTIM: ABR: PSTV: WOOF: GAIN: CCV: CGEN: CARR: CURI: CXDC: TECS: ETCG: PLAG: OTIC: SVAC: ASX: APTS: AKRX: DUDE: TBIO: EGO: GLYC: IO - thread num: 1  -  49 / 107\n"
     ]
    },
    {
     "name": "stderr",
     "output_type": "stream",
     "text": [
      "\n",
      "\n",
      "\n"
     ]
    },
    {
     "name": "stdout",
     "output_type": "stream",
     "text": [
      "completed symbols FAX: APEN: JUPW: IPI: ENLC: WRTC: RMBL: PHX: KDMN: SSPK: EBR: BKCC: RWT: GSUM: FGPR: MXC: IGXT: GSKY: RTP: MEIP: PUYI: MYT: EXTR: ELVT: VRAY: HAPP: AAAU: PACE: CSPR: WRN: CEF: SBUM: DXYN: VIPS: MCRB: IEC: STIC: HUSN: INMB: GOCO: QHC: PBR: EADSY: AKTS: FEAC: ENSV: AFIN: FLNT: SPFR: CVE: RMM: DRAD: NCMI: NINE: INAQ: NTZ: AJAX: BCS: SUP: USEG - thread num: 6  -  60 / 107\n"
     ]
    },
    {
     "name": "stderr",
     "output_type": "stream",
     "text": [
      "Thread num: 6:  56%|██████████████████████████████████▏                          | 60/107 [6:05:40<3:43:58, 285.92s/it]\u001b[A\u001b[A\u001b[A\n",
      "\n",
      "\n",
      "\n",
      "\n",
      "\n",
      "Thread num: 5:  60%|████████████████████████████████████▍                        | 64/107 [6:07:26<7:15:55, 608.27s/it]\u001b[A\u001b[A\u001b[A\u001b[A\u001b[A\u001b[A"
     ]
    },
    {
     "name": "stdout",
     "output_type": "stream",
     "text": [
      "completed symbols QQQJ: CFFA: ACEV: USL: ORGO: BBW: SYBX: ECC: WSTL: CDR: IFRX: TRIL: DMYI: OSW: SMSI: ZDGE: SDIV: VBLT: SOGO: JT: SPNV: IDRA: UNG: MYOS: ALYA: HNRG: ARC: CHMA: MCF: USIO: AVEO: KLDO: INVE: ACTG: AMPG: EDNT: VSTO: NAVB: GNCA: VIOT: SWI: ERJ: EMAN: AWP: SIEB: AHPI: PIPP: RUTH: IGT: ONDK: NKLAW: TCS: III: MDP: TMF: BTAQ: SPWH: SPCX: USAT: CERS: CLNY: MPW: SSL: ENBL - thread num: 5  -  64 / 107\n"
     ]
    },
    {
     "name": "stderr",
     "output_type": "stream",
     "text": [
      "\n",
      "\n",
      "\n",
      "\n",
      "\n",
      "\n",
      "\n",
      "Thread num: 4:  54%|█████████████████████████████████                            | 58/107 [6:08:48<4:34:25, 336.02s/it]"
     ]
    },
    {
     "name": "stdout",
     "output_type": "stream",
     "text": [
      "completed symbols CIM: VTSI: BTN: GP: ETTX: RUHN: GLDM: ALDX: EMX: MIND: BMRA: INSE: CHKR: SV: BLMN: QUIK: FPRX: PHCF: TWI: MUFG: JAKK: IPWR: WBAI: MUR: PIRS: CALX: ESTE: CTMX: ZIOP: CIK: CLM: PBCT: PRTS: FTK: SDPI: SRTS: OSMT: FLMN: CVU: CIT: SND: AUPH: FAII: TUSK: SHLDQ: ZCMD: MTL: DAC: XRF: QELL: FBP: ALLY: SGOC: KLXE: PUMP: RMGB: PFIE: UUU - thread num: 4  -  58 / 107\n"
     ]
    },
    {
     "name": "stderr",
     "output_type": "stream",
     "text": [
      "\u001b[A\u001b[A\u001b[A\u001b[A\u001b[A\u001b[A\u001b[A\n",
      "\n",
      "\n",
      "\n",
      "\n",
      "Thread num: 1:  47%|████████████████████████████▌                                | 50/107 [6:08:57<5:22:50, 339.84s/it]\u001b[A\u001b[A\u001b[A\u001b[A\u001b[A"
     ]
    },
    {
     "name": "stdout",
     "output_type": "stream",
     "text": [
      "completed symbols OSS: VHC: FSI: SYRS: STIM: LMNL: CTHR: TDAC: MARPS: SLB: VVOS: MPLN: BLUE: FPAC: EDSA: ORMP: LAND: AMST: ELA: SOAC: PSAC: LWAY: ARDX: UAA: IDXG: BNKD: GTIM: ABR: PSTV: WOOF: GAIN: CCV: CGEN: CARR: CURI: CXDC: TECS: ETCG: PLAG: OTIC: SVAC: ASX: APTS: AKRX: DUDE: TBIO: EGO: GLYC: IO: VIH - thread num: 1  -  50 / 107\n"
     ]
    },
    {
     "name": "stderr",
     "output_type": "stream",
     "text": [
      "\n",
      "\n",
      "\n",
      "Thread num: 6:  57%|██████████████████████████████████▊                          | 61/107 [6:09:00<3:19:27, 260.16s/it]\u001b[A\u001b[A\u001b[A"
     ]
    },
    {
     "name": "stdout",
     "output_type": "stream",
     "text": [
      "completed symbols FAX: APEN: JUPW: IPI: ENLC: WRTC: RMBL: PHX: KDMN: SSPK: EBR: BKCC: RWT: GSUM: FGPR: MXC: IGXT: GSKY: RTP: MEIP: PUYI: MYT: EXTR: ELVT: VRAY: HAPP: AAAU: PACE: CSPR: WRN: CEF: SBUM: DXYN: VIPS: MCRB: IEC: STIC: HUSN: INMB: GOCO: QHC: PBR: EADSY: AKTS: FEAC: ENSV: AFIN: FLNT: SPFR: CVE: RMM: DRAD: NCMI: NINE: INAQ: NTZ: AJAX: BCS: SUP: USEG: PDS - thread num: 6  -  61 / 107\n"
     ]
    },
    {
     "name": "stderr",
     "output_type": "stream",
     "text": [
      "\r",
      "Thread num: 2:  50%|██████████████████████████████▎                             | 54/107 [6:12:10<11:53:56, 808.23s/it]"
     ]
    },
    {
     "name": "stdout",
     "output_type": "stream",
     "text": [
      "completed symbols OMP: APLT: NRO: IMH: THM: WHLM: EBET: VNRX: RLX: LEVI: ASTS: IMMR: DSX: CDE: YI: TRIB: ROCH: HZON: TNK: GNW: MILE: TSIAU: TOUR: ACIU: CLOU: XYF: TPGY: CAKE: CMPS: KALA: KLR: CDTX: ACP: CMMB: HGBL: SALM: STM: OXSQ: FGEN: TCCO: DTIL: CMLF: SMTS: BYRN: LIFE: DHT: EURN: SEAH: STOR: VVNT: RAAS: GEO: CAAS: PBF - thread num: 2  -  54 / 107\n"
     ]
    },
    {
     "name": "stderr",
     "output_type": "stream",
     "text": [
      "\n",
      "\n",
      "\n",
      "\n",
      "\n",
      "\n",
      "\n",
      "Thread num: 4:  55%|█████████████████████████████████▋                           | 59/107 [6:12:41<4:03:59, 304.98s/it]\u001b[A\u001b[A\u001b[A\u001b[A\u001b[A\u001b[A\u001b[A"
     ]
    },
    {
     "name": "stdout",
     "output_type": "stream",
     "text": [
      "completed symbols CIM: VTSI: BTN: GP: ETTX: RUHN: GLDM: ALDX: EMX: MIND: BMRA: INSE: CHKR: SV: BLMN: QUIK: FPRX: PHCF: TWI: MUFG: JAKK: IPWR: WBAI: MUR: PIRS: CALX: ESTE: CTMX: ZIOP: CIK: CLM: PBCT: PRTS: FTK: SDPI: SRTS: OSMT: FLMN: CVU: CIT: SND: AUPH: FAII: TUSK: SHLDQ: ZCMD: MTL: DAC: XRF: QELL: FBP: ALLY: SGOC: KLXE: PUMP: RMGB: PFIE: UUU: DIV - thread num: 4  -  59 / 107\n"
     ]
    },
    {
     "name": "stderr",
     "output_type": "stream",
     "text": [
      "\n",
      "\n",
      "\n",
      "\n",
      "\n",
      "\n",
      "Thread num: 5:  61%|█████████████████████████████████████                        | 65/107 [6:13:12<6:10:52, 529.83s/it]\u001b[A\u001b[A\u001b[A\u001b[A\u001b[A\u001b[A"
     ]
    },
    {
     "name": "stdout",
     "output_type": "stream",
     "text": [
      "completed symbols QQQJ: CFFA: ACEV: USL: ORGO: BBW: SYBX: ECC: WSTL: CDR: IFRX: TRIL: DMYI: OSW: SMSI: ZDGE: SDIV: VBLT: SOGO: JT: SPNV: IDRA: UNG: MYOS: ALYA: HNRG: ARC: CHMA: MCF: USIO: AVEO: KLDO: INVE: ACTG: AMPG: EDNT: VSTO: NAVB: GNCA: VIOT: SWI: ERJ: EMAN: AWP: SIEB: AHPI: PIPP: RUTH: IGT: ONDK: NKLAW: TCS: III: MDP: TMF: BTAQ: SPWH: SPCX: USAT: CERS: CLNY: MPW: SSL: ENBL: STSA - thread num: 5  -  65 / 107\n"
     ]
    },
    {
     "name": "stderr",
     "output_type": "stream",
     "text": [
      "\n",
      "\n",
      "\n",
      "Thread num: 6:  58%|███████████████████████████████████▎                         | 62/107 [6:13:18<3:14:36, 259.47s/it]\u001b[A\u001b[A\u001b[A"
     ]
    },
    {
     "name": "stdout",
     "output_type": "stream",
     "text": [
      "completed symbols FAX: APEN: JUPW: IPI: ENLC: WRTC: RMBL: PHX: KDMN: SSPK: EBR: BKCC: RWT: GSUM: FGPR: MXC: IGXT: GSKY: RTP: MEIP: PUYI: MYT: EXTR: ELVT: VRAY: HAPP: AAAU: PACE: CSPR: WRN: CEF: SBUM: DXYN: VIPS: MCRB: IEC: STIC: HUSN: INMB: GOCO: QHC: PBR: EADSY: AKTS: FEAC: ENSV: AFIN: FLNT: SPFR: CVE: RMM: DRAD: NCMI: NINE: INAQ: NTZ: AJAX: BCS: SUP: USEG: PDS: AMRH - thread num: 6  -  62 / 107\n"
     ]
    },
    {
     "name": "stderr",
     "output_type": "stream",
     "text": [
      "\n",
      "\n",
      "\n",
      "\n",
      "\n",
      "\n",
      "\n",
      "Thread num: 4:  56%|██████████████████████████████████▏                          | 60/107 [6:15:57<3:33:22, 272.39s/it]\u001b[A\u001b[A\u001b[A\u001b[A\u001b[A\u001b[A\u001b[A"
     ]
    },
    {
     "name": "stdout",
     "output_type": "stream",
     "text": [
      "completed symbols CIM: VTSI: BTN: GP: ETTX: RUHN: GLDM: ALDX: EMX: MIND: BMRA: INSE: CHKR: SV: BLMN: QUIK: FPRX: PHCF: TWI: MUFG: JAKK: IPWR: WBAI: MUR: PIRS: CALX: ESTE: CTMX: ZIOP: CIK: CLM: PBCT: PRTS: FTK: SDPI: SRTS: OSMT: FLMN: CVU: CIT: SND: AUPH: FAII: TUSK: SHLDQ: ZCMD: MTL: DAC: XRF: QELL: FBP: ALLY: SGOC: KLXE: PUMP: RMGB: PFIE: UUU: DIV: OPES - thread num: 4  -  60 / 107\n"
     ]
    },
    {
     "name": "stderr",
     "output_type": "stream",
     "text": [
      "\r",
      "Thread num: 2:  51%|███████████████████████████████▎                             | 55/107 [6:16:11<9:12:58, 638.05s/it]"
     ]
    },
    {
     "name": "stdout",
     "output_type": "stream",
     "text": [
      "completed symbols OMP: APLT: NRO: IMH: THM: WHLM: EBET: VNRX: RLX: LEVI: ASTS: IMMR: DSX: CDE: YI: TRIB: ROCH: HZON: TNK: GNW: MILE: TSIAU: TOUR: ACIU: CLOU: XYF: TPGY: CAKE: CMPS: KALA: KLR: CDTX: ACP: CMMB: HGBL: SALM: STM: OXSQ: FGEN: TCCO: DTIL: CMLF: SMTS: BYRN: LIFE: DHT: EURN: SEAH: STOR: VVNT: RAAS: GEO: CAAS: PBF: HERO - thread num: 2  -  55 / 107\n"
     ]
    },
    {
     "name": "stderr",
     "output_type": "stream",
     "text": [
      "\n",
      "\n",
      "\n",
      "\n",
      "\n",
      "\n",
      "Thread num: 5:  62%|█████████████████████████████████████▋                       | 66/107 [6:19:50<5:35:02, 490.29s/it]\u001b[A\u001b[A\u001b[A\u001b[A\u001b[A\u001b[A"
     ]
    },
    {
     "name": "stdout",
     "output_type": "stream",
     "text": [
      "completed symbols QQQJ: CFFA: ACEV: USL: ORGO: BBW: SYBX: ECC: WSTL: CDR: IFRX: TRIL: DMYI: OSW: SMSI: ZDGE: SDIV: VBLT: SOGO: JT: SPNV: IDRA: UNG: MYOS: ALYA: HNRG: ARC: CHMA: MCF: USIO: AVEO: KLDO: INVE: ACTG: AMPG: EDNT: VSTO: NAVB: GNCA: VIOT: SWI: ERJ: EMAN: AWP: SIEB: AHPI: PIPP: RUTH: IGT: ONDK: NKLAW: TCS: III: MDP: TMF: BTAQ: SPWH: SPCX: USAT: CERS: CLNY: MPW: SSL: ENBL: STSA: GOSS - thread num: 5  -  66 / 107\n"
     ]
    },
    {
     "name": "stderr",
     "output_type": "stream",
     "text": [
      "\r",
      "Thread num: 2:  52%|███████████████████████████████▉                             | 56/107 [6:20:11<7:20:44, 518.52s/it]"
     ]
    },
    {
     "name": "stdout",
     "output_type": "stream",
     "text": [
      "completed symbols OMP: APLT: NRO: IMH: THM: WHLM: EBET: VNRX: RLX: LEVI: ASTS: IMMR: DSX: CDE: YI: TRIB: ROCH: HZON: TNK: GNW: MILE: TSIAU: TOUR: ACIU: CLOU: XYF: TPGY: CAKE: CMPS: KALA: KLR: CDTX: ACP: CMMB: HGBL: SALM: STM: OXSQ: FGEN: TCCO: DTIL: CMLF: SMTS: BYRN: LIFE: DHT: EURN: SEAH: STOR: VVNT: RAAS: GEO: CAAS: PBF: HERO: AMCI - thread num: 2  -  56 / 107\n"
     ]
    },
    {
     "name": "stderr",
     "output_type": "stream",
     "text": [
      "\r",
      "Thread num: 2:  53%|████████████████████████████████▍                            | 57/107 [6:22:42<5:40:16, 408.32s/it]"
     ]
    },
    {
     "name": "stdout",
     "output_type": "stream",
     "text": [
      "completed symbols OMP: APLT: NRO: IMH: THM: WHLM: EBET: VNRX: RLX: LEVI: ASTS: IMMR: DSX: CDE: YI: TRIB: ROCH: HZON: TNK: GNW: MILE: TSIAU: TOUR: ACIU: CLOU: XYF: TPGY: CAKE: CMPS: KALA: KLR: CDTX: ACP: CMMB: HGBL: SALM: STM: OXSQ: FGEN: TCCO: DTIL: CMLF: SMTS: BYRN: LIFE: DHT: EURN: SEAH: STOR: VVNT: RAAS: GEO: CAAS: PBF: HERO: AMCI: FURY - thread num: 2  -  57 / 107\n"
     ]
    },
    {
     "name": "stderr",
     "output_type": "stream",
     "text": [
      "\n",
      "\n",
      "\n",
      "\n",
      "\n",
      "\n",
      "\n",
      "Thread num: 4:  57%|██████████████████████████████████▊                          | 61/107 [6:22:59<4:03:09, 317.17s/it]\u001b[A\u001b[A\u001b[A\u001b[A\u001b[A\u001b[A\u001b[A"
     ]
    },
    {
     "name": "stdout",
     "output_type": "stream",
     "text": [
      "completed symbols CIM: VTSI: BTN: GP: ETTX: RUHN: GLDM: ALDX: EMX: MIND: BMRA: INSE: CHKR: SV: BLMN: QUIK: FPRX: PHCF: TWI: MUFG: JAKK: IPWR: WBAI: MUR: PIRS: CALX: ESTE: CTMX: ZIOP: CIK: CLM: PBCT: PRTS: FTK: SDPI: SRTS: OSMT: FLMN: CVU: CIT: SND: AUPH: FAII: TUSK: SHLDQ: ZCMD: MTL: DAC: XRF: QELL: FBP: ALLY: SGOC: KLXE: PUMP: RMGB: PFIE: UUU: DIV: OPES: ASMB - thread num: 4  -  61 / 107\n"
     ]
    },
    {
     "name": "stderr",
     "output_type": "stream",
     "text": [
      "\n",
      "\n",
      "\n",
      "\n",
      "\n",
      "\n",
      "Thread num: 5:  63%|██████████████████████████████████████▏                      | 67/107 [6:23:29<4:32:31, 408.80s/it]\u001b[A\u001b[A\u001b[A\u001b[A\u001b[A\u001b[A"
     ]
    },
    {
     "name": "stdout",
     "output_type": "stream",
     "text": [
      "completed symbols QQQJ: CFFA: ACEV: USL: ORGO: BBW: SYBX: ECC: WSTL: CDR: IFRX: TRIL: DMYI: OSW: SMSI: ZDGE: SDIV: VBLT: SOGO: JT: SPNV: IDRA: UNG: MYOS: ALYA: HNRG: ARC: CHMA: MCF: USIO: AVEO: KLDO: INVE: ACTG: AMPG: EDNT: VSTO: NAVB: GNCA: VIOT: SWI: ERJ: EMAN: AWP: SIEB: AHPI: PIPP: RUTH: IGT: ONDK: NKLAW: TCS: III: MDP: TMF: BTAQ: SPWH: SPCX: USAT: CERS: CLNY: MPW: SSL: ENBL: STSA: GOSS: UTSI - thread num: 5  -  67 / 107\n"
     ]
    },
    {
     "name": "stderr",
     "output_type": "stream",
     "text": [
      "\n",
      "\n",
      "\n",
      "\n",
      "\n",
      "Thread num: 1:  48%|█████████████████████████████                                | 51/107 [6:25:42<8:23:28, 539.44s/it]\u001b[A\u001b[A\u001b[A\u001b[A\u001b[A"
     ]
    },
    {
     "name": "stdout",
     "output_type": "stream",
     "text": [
      "completed symbols OSS: VHC: FSI: SYRS: STIM: LMNL: CTHR: TDAC: MARPS: SLB: VVOS: MPLN: BLUE: FPAC: EDSA: ORMP: LAND: AMST: ELA: SOAC: PSAC: LWAY: ARDX: UAA: IDXG: BNKD: GTIM: ABR: PSTV: WOOF: GAIN: CCV: CGEN: CARR: CURI: CXDC: TECS: ETCG: PLAG: OTIC: SVAC: ASX: APTS: AKRX: DUDE: TBIO: EGO: GLYC: IO: VIH: FOLD - thread num: 1  -  51 / 107\n",
      "completed symbols CIM: VTSI: BTN: GP: ETTX: RUHN: GLDM: ALDX: EMX: MIND: BMRA: INSE: CHKR: SV: BLMN: QUIK: FPRX: PHCF: TWI: MUFG: JAKK: IPWR: WBAI: MUR: PIRS: CALX: ESTE: CTMX: ZIOP: CIK: CLM: PBCT: PRTS: FTK: SDPI: SRTS: OSMT: FLMN: CVU: CIT: SND: AUPH: FAII: TUSK: SHLDQ: ZCMD: MTL: DAC: XRF: QELL: FBP: ALLY: SGOC: KLXE: PUMP: RMGB: PFIE: UUU: DIV: OPES: ASMB: RQI - thread num: 4  -  62 "
     ]
    },
    {
     "name": "stderr",
     "output_type": "stream",
     "text": [
      "\n",
      "\n",
      "\n",
      "\n",
      "\n",
      "\n",
      "\n",
      "Thread num: 4:  58%|███████████████████████████████████▎                         | 62/107 [6:26:59<3:40:35, 294.12s/it]\u001b[A\u001b[A\u001b[A\u001b[A\u001b[A\u001b[A\u001b[A"
     ]
    },
    {
     "name": "stdout",
     "output_type": "stream",
     "text": [
      "/ 107\n"
     ]
    },
    {
     "name": "stderr",
     "output_type": "stream",
     "text": [
      "\r",
      "Thread num: 2:  54%|█████████████████████████████████                            | 58/107 [6:27:38<5:05:56, 374.61s/it]"
     ]
    },
    {
     "name": "stdout",
     "output_type": "stream",
     "text": [
      "completed symbols OMP: APLT: NRO: IMH: THM: WHLM: EBET: VNRX: RLX: LEVI: ASTS: IMMR: DSX: CDE: YI: TRIB: ROCH: HZON: TNK: GNW: MILE: TSIAU: TOUR: ACIU: CLOU: XYF: TPGY: CAKE: CMPS: KALA: KLR: CDTX: ACP: CMMB: HGBL: SALM: STM: OXSQ: FGEN: TCCO: DTIL: CMLF: SMTS: BYRN: LIFE: DHT: EURN: SEAH: STOR: VVNT: RAAS: GEO: CAAS: PBF: HERO: AMCI: FURY: BDR - thread num: 2  -  58 / 107\n"
     ]
    },
    {
     "name": "stderr",
     "output_type": "stream",
     "text": [
      "\n",
      "\n",
      "\n",
      "\n",
      "\n",
      "\n",
      "Thread num: 5:  64%|██████████████████████████████████████▊                      | 68/107 [6:27:53<3:57:24, 365.25s/it]\u001b[A\u001b[A\u001b[A\u001b[A\u001b[A\u001b[A"
     ]
    },
    {
     "name": "stdout",
     "output_type": "stream",
     "text": [
      "completed symbols QQQJ: CFFA: ACEV: USL: ORGO: BBW: SYBX: ECC: WSTL: CDR: IFRX: TRIL: DMYI: OSW: SMSI: ZDGE: SDIV: VBLT: SOGO: JT: SPNV: IDRA: UNG: MYOS: ALYA: HNRG: ARC: CHMA: MCF: USIO: AVEO: KLDO: INVE: ACTG: AMPG: EDNT: VSTO: NAVB: GNCA: VIOT: SWI: ERJ: EMAN: AWP: SIEB: AHPI: PIPP: RUTH: IGT: ONDK: NKLAW: TCS: III: MDP: TMF: BTAQ: SPWH: SPCX: USAT: CERS: CLNY: MPW: SSL: ENBL: STSA: GOSS: UTSI: AUTL - thread num: 5  -  68 / 107\n"
     ]
    },
    {
     "name": "stderr",
     "output_type": "stream",
     "text": [
      "\n",
      "\n",
      "\n",
      "\n",
      "\n",
      "\n",
      "\n",
      "Thread num: 4:  59%|███████████████████████████████████▉                         | 63/107 [6:28:02<2:44:53, 224.84s/it]\u001b[A\u001b[A\u001b[A\u001b[A\u001b[A\u001b[A\u001b[A"
     ]
    },
    {
     "name": "stdout",
     "output_type": "stream",
     "text": [
      "completed symbols CIM: VTSI: BTN: GP: ETTX: RUHN: GLDM: ALDX: EMX: MIND: BMRA: INSE: CHKR: SV: BLMN: QUIK: FPRX: PHCF: TWI: MUFG: JAKK: IPWR: WBAI: MUR: PIRS: CALX: ESTE: CTMX: ZIOP: CIK: CLM: PBCT: PRTS: FTK: SDPI: SRTS: OSMT: FLMN: CVU: CIT: SND: AUPH: FAII: TUSK: SHLDQ: ZCMD: MTL: DAC: XRF: QELL: FBP: ALLY: SGOC: KLXE: PUMP: RMGB: PFIE: UUU: DIV: OPES: ASMB: RQI: LWLG - thread num: 4  -  63 / 107\n"
     ]
    },
    {
     "name": "stderr",
     "output_type": "stream",
     "text": [
      "\n",
      "\n",
      "\n",
      "\n",
      "\n",
      "Thread num: 1:  49%|█████████████████████████████▋                               | 52/107 [6:29:12<6:43:49, 440.54s/it]\u001b[A\u001b[A\u001b[A\u001b[A\u001b[A"
     ]
    },
    {
     "name": "stdout",
     "output_type": "stream",
     "text": [
      "completed symbols OSS: VHC: FSI: SYRS: STIM: LMNL: CTHR: TDAC: MARPS: SLB: VVOS: MPLN: BLUE: FPAC: EDSA: ORMP: LAND: AMST: ELA: SOAC: PSAC: LWAY: ARDX: UAA: IDXG: BNKD: GTIM: ABR: PSTV: WOOF: GAIN: CCV: CGEN: CARR: CURI: CXDC: TECS: ETCG: PLAG: OTIC: SVAC: ASX: APTS: AKRX: DUDE: TBIO: EGO: GLYC: IO: VIH: FOLD: FAN - thread num: 1  -  52 / 107\n"
     ]
    },
    {
     "name": "stderr",
     "output_type": "stream",
     "text": [
      "\n",
      "\n",
      "\n",
      "\n",
      "\n",
      "\n",
      "\n",
      "Thread num: 4:  60%|████████████████████████████████████▍                        | 64/107 [6:29:51<2:16:05, 189.91s/it]\u001b[A\u001b[A\u001b[A\u001b[A\u001b[A\u001b[A\u001b[A"
     ]
    },
    {
     "name": "stdout",
     "output_type": "stream",
     "text": [
      "completed symbols CIM: VTSI: BTN: GP: ETTX: RUHN: GLDM: ALDX: EMX: MIND: BMRA: INSE: CHKR: SV: BLMN: QUIK: FPRX: PHCF: TWI: MUFG: JAKK: IPWR: WBAI: MUR: PIRS: CALX: ESTE: CTMX: ZIOP: CIK: CLM: PBCT: PRTS: FTK: SDPI: SRTS: OSMT: FLMN: CVU: CIT: SND: AUPH: FAII: TUSK: SHLDQ: ZCMD: MTL: DAC: XRF: QELL: FBP: ALLY: SGOC: KLXE: PUMP: RMGB: PFIE: UUU: DIV: OPES: ASMB: RQI: LWLG: AENZ - thread num: 4  -  64 / 107\n"
     ]
    },
    {
     "name": "stderr",
     "output_type": "stream",
     "text": [
      "\n",
      "\n",
      "\n",
      "\n",
      "\n",
      "\n",
      "Thread num: 5:  64%|███████████████████████████████████████▎                     | 69/107 [6:30:30<3:11:49, 302.88s/it]\u001b[A\u001b[A\u001b[A\u001b[A\u001b[A\u001b[A"
     ]
    },
    {
     "name": "stdout",
     "output_type": "stream",
     "text": [
      "completed symbols QQQJ: CFFA: ACEV: USL: ORGO: BBW: SYBX: ECC: WSTL: CDR: IFRX: TRIL: DMYI: OSW: SMSI: ZDGE: SDIV: VBLT: SOGO: JT: SPNV: IDRA: UNG: MYOS: ALYA: HNRG: ARC: CHMA: MCF: USIO: AVEO: KLDO: INVE: ACTG: AMPG: EDNT: VSTO: NAVB: GNCA: VIOT: SWI: ERJ: EMAN: AWP: SIEB: AHPI: PIPP: RUTH: IGT: ONDK: NKLAW: TCS: III: MDP: TMF: BTAQ: SPWH: SPCX: USAT: CERS: CLNY: MPW: SSL: ENBL: STSA: GOSS: UTSI: AUTL: AGFY - thread num: 5  -  69 / 107\n"
     ]
    },
    {
     "name": "stderr",
     "output_type": "stream",
     "text": [
      "\n",
      "\n",
      "\n",
      "\n",
      "\n",
      "\n",
      "\n",
      "Thread num: 4:  61%|█████████████████████████████████████                        | 65/107 [6:32:43<2:09:19, 184.74s/it]\u001b[A\u001b[A\u001b[A\u001b[A\u001b[A\u001b[A\u001b[A"
     ]
    },
    {
     "name": "stdout",
     "output_type": "stream",
     "text": [
      "completed symbols CIM: VTSI: BTN: GP: ETTX: RUHN: GLDM: ALDX: EMX: MIND: BMRA: INSE: CHKR: SV: BLMN: QUIK: FPRX: PHCF: TWI: MUFG: JAKK: IPWR: WBAI: MUR: PIRS: CALX: ESTE: CTMX: ZIOP: CIK: CLM: PBCT: PRTS: FTK: SDPI: SRTS: OSMT: FLMN: CVU: CIT: SND: AUPH: FAII: TUSK: SHLDQ: ZCMD: MTL: DAC: XRF: QELL: FBP: ALLY: SGOC: KLXE: PUMP: RMGB: PFIE: UUU: DIV: OPES: ASMB: RQI: LWLG: AENZ: FPAY - thread num: 4  -  65 / 107\n"
     ]
    },
    {
     "name": "stderr",
     "output_type": "stream",
     "text": [
      "\n",
      "\n",
      "\n",
      "\n",
      "\n",
      "Thread num: 1:  50%|██████████████████████████████▏                              | 53/107 [6:33:32<5:47:45, 386.39s/it]\u001b[A\u001b[A\u001b[A\u001b[A\u001b[A"
     ]
    },
    {
     "name": "stdout",
     "output_type": "stream",
     "text": [
      "completed symbols OSS: VHC: FSI: SYRS: STIM: LMNL: CTHR: TDAC: MARPS: SLB: VVOS: MPLN: BLUE: FPAC: EDSA: ORMP: LAND: AMST: ELA: SOAC: PSAC: LWAY: ARDX: UAA: IDXG: BNKD: GTIM: ABR: PSTV: WOOF: GAIN: CCV: CGEN: CARR: CURI: CXDC: TECS: ETCG: PLAG: OTIC: SVAC: ASX: APTS: AKRX: DUDE: TBIO: EGO: GLYC: IO: VIH: FOLD: FAN: VACQ - thread num: 1  -  53 / 107\n"
     ]
    },
    {
     "name": "stderr",
     "output_type": "stream",
     "text": [
      "\n",
      "\n",
      "\n",
      "\n",
      "\n",
      "\n",
      "\n",
      "Thread num: 4:  62%|█████████████████████████████████████▋                       | 66/107 [6:36:25<2:13:44, 195.72s/it]"
     ]
    },
    {
     "name": "stdout",
     "output_type": "stream",
     "text": [
      "completed symbols CIM: VTSI: BTN: GP: ETTX: RUHN: GLDM: ALDX: EMX: MIND: BMRA: INSE: CHKR: SV: BLMN: QUIK: FPRX: PHCF: TWI: MUFG: JAKK: IPWR: WBAI: MUR: PIRS: CALX: ESTE: CTMX: ZIOP: CIK: CLM: PBCT: PRTS: FTK: SDPI: SRTS: OSMT: FLMN: CVU: CIT: SND: AUPH: FAII: TUSK: SHLDQ: ZCMD: MTL: DAC: XRF: QELL: FBP: ALLY: SGOC: KLXE: PUMP: RMGB: PFIE: UUU: DIV: OPES: ASMB: RQI: LWLG: AENZ: FPAY: RBAC - thread num: 4  -  66 / 107\n"
     ]
    },
    {
     "name": "stderr",
     "output_type": "stream",
     "text": [
      "\u001b[A\u001b[A\u001b[A\u001b[A\u001b[A\u001b[A\u001b[A\n",
      "\n",
      "\n",
      "\n",
      "\n",
      "\n",
      "\n",
      "Thread num: 4:  63%|██████████████████████████████████████▏                      | 67/107 [6:42:32<2:44:48, 247.20s/it]\u001b[A\u001b[A\u001b[A\u001b[A\u001b[A\u001b[A\u001b[A"
     ]
    },
    {
     "name": "stdout",
     "output_type": "stream",
     "text": [
      "completed symbols CIM: VTSI: BTN: GP: ETTX: RUHN: GLDM: ALDX: EMX: MIND: BMRA: INSE: CHKR: SV: BLMN: QUIK: FPRX: PHCF: TWI: MUFG: JAKK: IPWR: WBAI: MUR: PIRS: CALX: ESTE: CTMX: ZIOP: CIK: CLM: PBCT: PRTS: FTK: SDPI: SRTS: OSMT: FLMN: CVU: CIT: SND: AUPH: FAII: TUSK: SHLDQ: ZCMD: MTL: DAC: XRF: QELL: FBP: ALLY: SGOC: KLXE: PUMP: RMGB: PFIE: UUU: DIV: OPES: ASMB: RQI: LWLG: AENZ: FPAY: RBAC: TACO - thread num: 4  -  67 / 107\n"
     ]
    },
    {
     "name": "stderr",
     "output_type": "stream",
     "text": [
      "\n",
      "\n",
      "\n",
      "\n",
      "\n",
      "\n",
      "Thread num: 5:  65%|███████████████████████████████████████▉                     | 70/107 [6:43:44<4:37:37, 450.19s/it]\u001b[A\u001b[A\u001b[A\u001b[A\u001b[A\u001b[A"
     ]
    },
    {
     "name": "stdout",
     "output_type": "stream",
     "text": [
      "completed symbols QQQJ: CFFA: ACEV: USL: ORGO: BBW: SYBX: ECC: WSTL: CDR: IFRX: TRIL: DMYI: OSW: SMSI: ZDGE: SDIV: VBLT: SOGO: JT: SPNV: IDRA: UNG: MYOS: ALYA: HNRG: ARC: CHMA: MCF: USIO: AVEO: KLDO: INVE: ACTG: AMPG: EDNT: VSTO: NAVB: GNCA: VIOT: SWI: ERJ: EMAN: AWP: SIEB: AHPI: PIPP: RUTH: IGT: ONDK: NKLAW: TCS: III: MDP: TMF: BTAQ: SPWH: SPCX: USAT: CERS: CLNY: MPW: SSL: ENBL: STSA: GOSS: UTSI: AUTL: AGFY: UNFI - thread num: 5  -  70 / 107\n"
     ]
    },
    {
     "name": "stderr",
     "output_type": "stream",
     "text": [
      "\n",
      "\n",
      "\n",
      "Thread num: 6:  59%|███████████████████████████████████▉                         | 63/107 [6:45:34<9:19:09, 762.48s/it]\u001b[A\u001b[A\u001b[A"
     ]
    },
    {
     "name": "stdout",
     "output_type": "stream",
     "text": [
      "completed symbols FAX: APEN: JUPW: IPI: ENLC: WRTC: RMBL: PHX: KDMN: SSPK: EBR: BKCC: RWT: GSUM: FGPR: MXC: IGXT: GSKY: RTP: MEIP: PUYI: MYT: EXTR: ELVT: VRAY: HAPP: AAAU: PACE: CSPR: WRN: CEF: SBUM: DXYN: VIPS: MCRB: IEC: STIC: HUSN: INMB: GOCO: QHC: PBR: EADSY: AKTS: FEAC: ENSV: AFIN: FLNT: SPFR: CVE: RMM: DRAD: NCMI: NINE: INAQ: NTZ: AJAX: BCS: SUP: USEG: PDS: AMRH: TPR - thread num: 6  -  63 / 107\n"
     ]
    },
    {
     "name": "stderr",
     "output_type": "stream",
     "text": [
      "\n",
      "\n",
      "\n",
      "\n",
      "\n",
      "\n",
      "\n",
      "Thread num: 4:  64%|██████████████████████████████████████▊                      | 68/107 [6:45:58<2:32:40, 234.89s/it]\u001b[A\u001b[A\u001b[A\u001b[A\u001b[A\u001b[A\u001b[A"
     ]
    },
    {
     "name": "stdout",
     "output_type": "stream",
     "text": [
      "completed symbols CIM: VTSI: BTN: GP: ETTX: RUHN: GLDM: ALDX: EMX: MIND: BMRA: INSE: CHKR: SV: BLMN: QUIK: FPRX: PHCF: TWI: MUFG: JAKK: IPWR: WBAI: MUR: PIRS: CALX: ESTE: CTMX: ZIOP: CIK: CLM: PBCT: PRTS: FTK: SDPI: SRTS: OSMT: FLMN: CVU: CIT: SND: AUPH: FAII: TUSK: SHLDQ: ZCMD: MTL: DAC: XRF: QELL: FBP: ALLY: SGOC: KLXE: PUMP: RMGB: PFIE: UUU: DIV: OPES: ASMB: RQI: LWLG: AENZ: FPAY: RBAC: TACO: DRV - thread num: 4  -  68 / 107\n"
     ]
    },
    {
     "name": "stderr",
     "output_type": "stream",
     "text": [
      "\n",
      "\n",
      "\n",
      "\n",
      "\n",
      "\n",
      "\n",
      "Thread num: 4:  64%|███████████████████████████████████████▎                     | 69/107 [6:49:51<2:28:23, 234.31s/it]\u001b[A\u001b[A\u001b[A\u001b[A\u001b[A\u001b[A\u001b[A"
     ]
    },
    {
     "name": "stdout",
     "output_type": "stream",
     "text": [
      "completed symbols CIM: VTSI: BTN: GP: ETTX: RUHN: GLDM: ALDX: EMX: MIND: BMRA: INSE: CHKR: SV: BLMN: QUIK: FPRX: PHCF: TWI: MUFG: JAKK: IPWR: WBAI: MUR: PIRS: CALX: ESTE: CTMX: ZIOP: CIK: CLM: PBCT: PRTS: FTK: SDPI: SRTS: OSMT: FLMN: CVU: CIT: SND: AUPH: FAII: TUSK: SHLDQ: ZCMD: MTL: DAC: XRF: QELL: FBP: ALLY: SGOC: KLXE: PUMP: RMGB: PFIE: UUU: DIV: OPES: ASMB: RQI: LWLG: AENZ: FPAY: RBAC: TACO: DRV: MDXG - thread num: 4  -  69 / 107\n"
     ]
    },
    {
     "name": "stderr",
     "output_type": "stream",
     "text": [
      "\n",
      "\n",
      "\n",
      "\n",
      "\n",
      "Thread num: 1:  50%|██████████████████████████████▊                              | 54/107 [6:50:33<8:29:27, 576.74s/it]\u001b[A\u001b[A\u001b[A\u001b[A\u001b[A"
     ]
    },
    {
     "name": "stdout",
     "output_type": "stream",
     "text": [
      "completed symbols OSS: VHC: FSI: SYRS: STIM: LMNL: CTHR: TDAC: MARPS: SLB: VVOS: MPLN: BLUE: FPAC: EDSA: ORMP: LAND: AMST: ELA: SOAC: PSAC: LWAY: ARDX: UAA: IDXG: BNKD: GTIM: ABR: PSTV: WOOF: GAIN: CCV: CGEN: CARR: CURI: CXDC: TECS: ETCG: PLAG: OTIC: SVAC: ASX: APTS: AKRX: DUDE: TBIO: EGO: GLYC: IO: VIH: FOLD: FAN: VACQ: BYD - thread num: 1  -  54 / 107\n"
     ]
    },
    {
     "name": "stderr",
     "output_type": "stream",
     "text": [
      "\n",
      "\n",
      "\n",
      "\n",
      "\n",
      "Thread num: 1:  51%|███████████████████████████████▎                             | 55/107 [6:53:26<6:34:54, 455.67s/it]\u001b[A\u001b[A\u001b[A\u001b[A\u001b[A"
     ]
    },
    {
     "name": "stdout",
     "output_type": "stream",
     "text": [
      "completed symbols OSS: VHC: FSI: SYRS: STIM: LMNL: CTHR: TDAC: MARPS: SLB: VVOS: MPLN: BLUE: FPAC: EDSA: ORMP: LAND: AMST: ELA: SOAC: PSAC: LWAY: ARDX: UAA: IDXG: BNKD: GTIM: ABR: PSTV: WOOF: GAIN: CCV: CGEN: CARR: CURI: CXDC: TECS: ETCG: PLAG: OTIC: SVAC: ASX: APTS: AKRX: DUDE: TBIO: EGO: GLYC: IO: VIH: FOLD: FAN: VACQ: BYD: CLMT - thread num: 1  -  55 / 107\n"
     ]
    },
    {
     "name": "stderr",
     "output_type": "stream",
     "text": [
      "\n",
      "\n",
      "\n",
      "Thread num: 6:  60%|████████████████████████████████████▍                        | 64/107 [6:55:40<8:32:45, 715.48s/it]\u001b[A\u001b[A\u001b[A"
     ]
    },
    {
     "name": "stdout",
     "output_type": "stream",
     "text": [
      "completed symbols FAX: APEN: JUPW: IPI: ENLC: WRTC: RMBL: PHX: KDMN: SSPK: EBR: BKCC: RWT: GSUM: FGPR: MXC: IGXT: GSKY: RTP: MEIP: PUYI: MYT: EXTR: ELVT: VRAY: HAPP: AAAU: PACE: CSPR: WRN: CEF: SBUM: DXYN: VIPS: MCRB: IEC: STIC: HUSN: INMB: GOCO: QHC: PBR: EADSY: AKTS: FEAC: ENSV: AFIN: FLNT: SPFR: CVE: RMM: DRAD: NCMI: NINE: INAQ: NTZ: AJAX: BCS: SUP: USEG: PDS: AMRH: TPR: BKD - thread num: 6  -  64 / 107\n"
     ]
    },
    {
     "name": "stderr",
     "output_type": "stream",
     "text": [
      "\n",
      "\n",
      "\n",
      "\n",
      "\n",
      "Thread num: 1:  52%|███████████████████████████████▉                             | 56/107 [6:56:05<5:11:39, 366.66s/it]\u001b[A\u001b[A\u001b[A\u001b[A\u001b[A"
     ]
    },
    {
     "name": "stdout",
     "output_type": "stream",
     "text": [
      "completed symbols OSS: VHC: FSI: SYRS: STIM: LMNL: CTHR: TDAC: MARPS: SLB: VVOS: MPLN: BLUE: FPAC: EDSA: ORMP: LAND: AMST: ELA: SOAC: PSAC: LWAY: ARDX: UAA: IDXG: BNKD: GTIM: ABR: PSTV: WOOF: GAIN: CCV: CGEN: CARR: CURI: CXDC: TECS: ETCG: PLAG: OTIC: SVAC: ASX: APTS: AKRX: DUDE: TBIO: EGO: GLYC: IO: VIH: FOLD: FAN: VACQ: BYD: CLMT: DSE - thread num: 1  -  56 / 107\n"
     ]
    },
    {
     "name": "stderr",
     "output_type": "stream",
     "text": [
      "\n",
      "\n",
      "\n",
      "\n",
      "\n",
      "\n",
      "Thread num: 5:  66%|████████████████████████████████████████▍                    | 71/107 [6:56:53<5:31:09, 551.93s/it]\u001b[A\u001b[A\u001b[A\u001b[A\u001b[A\u001b[A"
     ]
    },
    {
     "name": "stdout",
     "output_type": "stream",
     "text": [
      "completed symbols QQQJ: CFFA: ACEV: USL: ORGO: BBW: SYBX: ECC: WSTL: CDR: IFRX: TRIL: DMYI: OSW: SMSI: ZDGE: SDIV: VBLT: SOGO: JT: SPNV: IDRA: UNG: MYOS: ALYA: HNRG: ARC: CHMA: MCF: USIO: AVEO: KLDO: INVE: ACTG: AMPG: EDNT: VSTO: NAVB: GNCA: VIOT: SWI: ERJ: EMAN: AWP: SIEB: AHPI: PIPP: RUTH: IGT: ONDK: NKLAW: TCS: III: MDP: TMF: BTAQ: SPWH: SPCX: USAT: CERS: CLNY: MPW: SSL: ENBL: STSA: GOSS: UTSI: AUTL: AGFY: UNFI: KPTI - thread num: 5  -  71 / 107\n"
     ]
    },
    {
     "name": "stderr",
     "output_type": "stream",
     "text": [
      "\n",
      "\n",
      "\n",
      "\n",
      "\n",
      "\n",
      "\n",
      "Thread num: 4:  65%|███████████████████████████████████████▉                     | 70/107 [6:59:24<3:27:13, 336.04s/it]\u001b[A\u001b[A\u001b[A\u001b[A\u001b[A\u001b[A\u001b[A"
     ]
    },
    {
     "name": "stdout",
     "output_type": "stream",
     "text": [
      "completed symbols CIM: VTSI: BTN: GP: ETTX: RUHN: GLDM: ALDX: EMX: MIND: BMRA: INSE: CHKR: SV: BLMN: QUIK: FPRX: PHCF: TWI: MUFG: JAKK: IPWR: WBAI: MUR: PIRS: CALX: ESTE: CTMX: ZIOP: CIK: CLM: PBCT: PRTS: FTK: SDPI: SRTS: OSMT: FLMN: CVU: CIT: SND: AUPH: FAII: TUSK: SHLDQ: ZCMD: MTL: DAC: XRF: QELL: FBP: ALLY: SGOC: KLXE: PUMP: RMGB: PFIE: UUU: DIV: OPES: ASMB: RQI: LWLG: AENZ: FPAY: RBAC: TACO: DRV: MDXG: ADVM - thread num: 4  -  70 / 107\n"
     ]
    },
    {
     "name": "stderr",
     "output_type": "stream",
     "text": [
      "\n",
      "\n",
      "\n",
      "Thread num: 6:  61%|█████████████████████████████████████                        | 65/107 [6:59:41<6:41:15, 573.23s/it]\u001b[A\u001b[A\u001b[A"
     ]
    },
    {
     "name": "stdout",
     "output_type": "stream",
     "text": [
      "completed symbols FAX: APEN: JUPW: IPI: ENLC: WRTC: RMBL: PHX: KDMN: SSPK: EBR: BKCC: RWT: GSUM: FGPR: MXC: IGXT: GSKY: RTP: MEIP: PUYI: MYT: EXTR: ELVT: VRAY: HAPP: AAAU: PACE: CSPR: WRN: CEF: SBUM: DXYN: VIPS: MCRB: IEC: STIC: HUSN: INMB: GOCO: QHC: PBR: EADSY: AKTS: FEAC: ENSV: AFIN: FLNT: SPFR: CVE: RMM: DRAD: NCMI: NINE: INAQ: NTZ: AJAX: BCS: SUP: USEG: PDS: AMRH: TPR: BKD: ETON - thread num: 6  -  65 / 107\n"
     ]
    },
    {
     "name": "stderr",
     "output_type": "stream",
     "text": [
      "\n",
      "\n",
      "\n",
      "\n",
      "\n",
      "\n",
      "Thread num: 5:  67%|█████████████████████████████████████████                    | 72/107 [7:00:13<4:20:23, 446.39s/it]\u001b[A\u001b[A\u001b[A\u001b[A\u001b[A\u001b[A"
     ]
    },
    {
     "name": "stdout",
     "output_type": "stream",
     "text": [
      "completed symbols QQQJ: CFFA: ACEV: USL: ORGO: BBW: SYBX: ECC: WSTL: CDR: IFRX: TRIL: DMYI: OSW: SMSI: ZDGE: SDIV: VBLT: SOGO: JT: SPNV: IDRA: UNG: MYOS: ALYA: HNRG: ARC: CHMA: MCF: USIO: AVEO: KLDO: INVE: ACTG: AMPG: EDNT: VSTO: NAVB: GNCA: VIOT: SWI: ERJ: EMAN: AWP: SIEB: AHPI: PIPP: RUTH: IGT: ONDK: NKLAW: TCS: III: MDP: TMF: BTAQ: SPWH: SPCX: USAT: CERS: CLNY: MPW: SSL: ENBL: STSA: GOSS: UTSI: AUTL: AGFY: UNFI: KPTI: GRAY - thread num: 5  -  72 / 107\n"
     ]
    },
    {
     "name": "stderr",
     "output_type": "stream",
     "text": [
      "\n",
      "\n",
      "\n",
      "\n",
      "\n",
      "\n",
      "\n",
      "Thread num: 4:  66%|████████████████████████████████████████▍                    | 71/107 [7:00:28<2:32:31, 254.20s/it]\u001b[A\u001b[A\u001b[A\u001b[A\u001b[A\u001b[A\u001b[A"
     ]
    },
    {
     "name": "stdout",
     "output_type": "stream",
     "text": [
      "completed symbols CIM: VTSI: BTN: GP: ETTX: RUHN: GLDM: ALDX: EMX: MIND: BMRA: INSE: CHKR: SV: BLMN: QUIK: FPRX: PHCF: TWI: MUFG: JAKK: IPWR: WBAI: MUR: PIRS: CALX: ESTE: CTMX: ZIOP: CIK: CLM: PBCT: PRTS: FTK: SDPI: SRTS: OSMT: FLMN: CVU: CIT: SND: AUPH: FAII: TUSK: SHLDQ: ZCMD: MTL: DAC: XRF: QELL: FBP: ALLY: SGOC: KLXE: PUMP: RMGB: PFIE: UUU: DIV: OPES: ASMB: RQI: LWLG: AENZ: FPAY: RBAC: TACO: DRV: MDXG: ADVM: RYCEY - thread num: 4  -  71 / 107\n"
     ]
    },
    {
     "name": "stderr",
     "output_type": "stream",
     "text": [
      "\r",
      "Thread num: 2:  55%|█████████████████████████████████                           | 59/107 [7:00:34<11:24:09, 855.21s/it]"
     ]
    },
    {
     "name": "stdout",
     "output_type": "stream",
     "text": [
      "completed symbols OMP: APLT: NRO: IMH: THM: WHLM: EBET: VNRX: RLX: LEVI: ASTS: IMMR: DSX: CDE: YI: TRIB: ROCH: HZON: TNK: GNW: MILE: TSIAU: TOUR: ACIU: CLOU: XYF: TPGY: CAKE: CMPS: KALA: KLR: CDTX: ACP: CMMB: HGBL: SALM: STM: OXSQ: FGEN: TCCO: DTIL: CMLF: SMTS: BYRN: LIFE: DHT: EURN: SEAH: STOR: VVNT: RAAS: GEO: CAAS: PBF: HERO: AMCI: FURY: BDR: HBI - thread num: 2  -  59 / 107\n"
     ]
    },
    {
     "name": "stderr",
     "output_type": "stream",
     "text": [
      "\r",
      "Thread num: 2:  56%|██████████████████████████████████▏                          | 60/107 [7:03:08<8:24:55, 644.58s/it]"
     ]
    },
    {
     "name": "stdout",
     "output_type": "stream",
     "text": [
      "completed symbols OMP: APLT: NRO: IMH: THM: WHLM: EBET: VNRX: RLX: LEVI: ASTS: IMMR: DSX: CDE: YI: TRIB: ROCH: HZON: TNK: GNW: MILE: TSIAU: TOUR: ACIU: CLOU: XYF: TPGY: CAKE: CMPS: KALA: KLR: CDTX: ACP: CMMB: HGBL: SALM: STM: OXSQ: FGEN: TCCO: DTIL: CMLF: SMTS: BYRN: LIFE: DHT: EURN: SEAH: STOR: VVNT: RAAS: GEO: CAAS: PBF: HERO: AMCI: FURY: BDR: HBI: TLC - thread num: 2  -  60 / 107\n"
     ]
    },
    {
     "name": "stderr",
     "output_type": "stream",
     "text": [
      "\n",
      "\n",
      "\n",
      "\n",
      "\n",
      "\n",
      "\n"
     ]
    },
    {
     "name": "stdout",
     "output_type": "stream",
     "text": [
      "completed symbols CIM: VTSI: BTN: GP: ETTX: RUHN: GLDM: ALDX: EMX: MIND: BMRA: INSE: CHKR: SV: BLMN: QUIK: FPRX: PHCF: TWI: MUFG: JAKK: IPWR: WBAI: MUR: PIRS: CALX: ESTE: CTMX: ZIOP: CIK: CLM: PBCT: PRTS: FTK: SDPI: SRTS: OSMT: FLMN: CVU: CIT: SND: AUPH: FAII: TUSK: SHLDQ: ZCMD: MTL: DAC: XRF: QELL: FBP: ALLY: SGOC: KLXE: PUMP: RMGB: PFIE: UUU: DIV: OPES: ASMB: RQI: LWLG: AENZ: FPAY: RBAC: TACO: DRV: MDXG: ADVM: RYCEY: ONVO - thread num: 4  -  72 / 107\n"
     ]
    },
    {
     "name": "stderr",
     "output_type": "stream",
     "text": [
      "Thread num: 4:  67%|█████████████████████████████████████████                    | 72/107 [7:04:58<2:31:08, 259.11s/it]\u001b[A\u001b[A\u001b[A\u001b[A\u001b[A\u001b[A\u001b[A\n",
      "\n",
      "\n",
      "\n",
      "\n",
      "\n",
      "Thread num: 5:  68%|█████████████████████████████████████████▌                   | 73/107 [7:06:20<3:59:24, 422.50s/it]\u001b[A\u001b[A\u001b[A\u001b[A\u001b[A\u001b[A"
     ]
    },
    {
     "name": "stdout",
     "output_type": "stream",
     "text": [
      "completed symbols QQQJ: CFFA: ACEV: USL: ORGO: BBW: SYBX: ECC: WSTL: CDR: IFRX: TRIL: DMYI: OSW: SMSI: ZDGE: SDIV: VBLT: SOGO: JT: SPNV: IDRA: UNG: MYOS: ALYA: HNRG: ARC: CHMA: MCF: USIO: AVEO: KLDO: INVE: ACTG: AMPG: EDNT: VSTO: NAVB: GNCA: VIOT: SWI: ERJ: EMAN: AWP: SIEB: AHPI: PIPP: RUTH: IGT: ONDK: NKLAW: TCS: III: MDP: TMF: BTAQ: SPWH: SPCX: USAT: CERS: CLNY: MPW: SSL: ENBL: STSA: GOSS: UTSI: AUTL: AGFY: UNFI: KPTI: GRAY: TWM - thread num: 5  -  73 / 107\n"
     ]
    },
    {
     "name": "stderr",
     "output_type": "stream",
     "text": [
      "\r",
      "Thread num: 2:  57%|██████████████████████████████████▊                          | 61/107 [7:07:31<6:46:26, 530.15s/it]"
     ]
    },
    {
     "name": "stdout",
     "output_type": "stream",
     "text": [
      "completed symbols OMP: APLT: NRO: IMH: THM: WHLM: EBET: VNRX: RLX: LEVI: ASTS: IMMR: DSX: CDE: YI: TRIB: ROCH: HZON: TNK: GNW: MILE: TSIAU: TOUR: ACIU: CLOU: XYF: TPGY: CAKE: CMPS: KALA: KLR: CDTX: ACP: CMMB: HGBL: SALM: STM: OXSQ: FGEN: TCCO: DTIL: CMLF: SMTS: BYRN: LIFE: DHT: EURN: SEAH: STOR: VVNT: RAAS: GEO: CAAS: PBF: HERO: AMCI: FURY: BDR: HBI: TLC: ACER - thread num: 2  -  61 / 107\n"
     ]
    },
    {
     "name": "stderr",
     "output_type": "stream",
     "text": [
      "\n",
      "\n",
      "\n",
      "\n",
      "\n",
      "\n",
      "\n",
      "Thread num: 4:  68%|█████████████████████████████████████████▌                   | 73/107 [7:07:49<2:11:44, 232.48s/it]\u001b[A\u001b[A\u001b[A\u001b[A\u001b[A\u001b[A\u001b[A"
     ]
    },
    {
     "name": "stdout",
     "output_type": "stream",
     "text": [
      "completed symbols CIM: VTSI: BTN: GP: ETTX: RUHN: GLDM: ALDX: EMX: MIND: BMRA: INSE: CHKR: SV: BLMN: QUIK: FPRX: PHCF: TWI: MUFG: JAKK: IPWR: WBAI: MUR: PIRS: CALX: ESTE: CTMX: ZIOP: CIK: CLM: PBCT: PRTS: FTK: SDPI: SRTS: OSMT: FLMN: CVU: CIT: SND: AUPH: FAII: TUSK: SHLDQ: ZCMD: MTL: DAC: XRF: QELL: FBP: ALLY: SGOC: KLXE: PUMP: RMGB: PFIE: UUU: DIV: OPES: ASMB: RQI: LWLG: AENZ: FPAY: RBAC: TACO: DRV: MDXG: ADVM: RYCEY: ONVO: VOLT - thread num: 4  -  73 / 107\n"
     ]
    },
    {
     "name": "stderr",
     "output_type": "stream",
     "text": [
      "\n",
      "\n",
      "\n",
      "Thread num: 6:  62%|█████████████████████████████████████▋                       | 66/107 [7:07:58<6:16:02, 550.30s/it]\u001b[A\u001b[A\u001b[A"
     ]
    },
    {
     "name": "stdout",
     "output_type": "stream",
     "text": [
      "completed symbols FAX: APEN: JUPW: IPI: ENLC: WRTC: RMBL: PHX: KDMN: SSPK: EBR: BKCC: RWT: GSUM: FGPR: MXC: IGXT: GSKY: RTP: MEIP: PUYI: MYT: EXTR: ELVT: VRAY: HAPP: AAAU: PACE: CSPR: WRN: CEF: SBUM: DXYN: VIPS: MCRB: IEC: STIC: HUSN: INMB: GOCO: QHC: PBR: EADSY: AKTS: FEAC: ENSV: AFIN: FLNT: SPFR: CVE: RMM: DRAD: NCMI: NINE: INAQ: NTZ: AJAX: BCS: SUP: USEG: PDS: AMRH: TPR: BKD: ETON: CRDF - thread num: 6  -  66 / 107\n"
     ]
    },
    {
     "name": "stderr",
     "output_type": "stream",
     "text": [
      "\n",
      "\n",
      "\n",
      "\n",
      "\n",
      "Thread num: 1:  53%|████████████████████████████████▍                            | 57/107 [7:08:10<6:35:10, 474.20s/it]\u001b[A\u001b[A\u001b[A\u001b[A\u001b[A"
     ]
    },
    {
     "name": "stdout",
     "output_type": "stream",
     "text": [
      "completed symbols OSS: VHC: FSI: SYRS: STIM: LMNL: CTHR: TDAC: MARPS: SLB: VVOS: MPLN: BLUE: FPAC: EDSA: ORMP: LAND: AMST: ELA: SOAC: PSAC: LWAY: ARDX: UAA: IDXG: BNKD: GTIM: ABR: PSTV: WOOF: GAIN: CCV: CGEN: CARR: CURI: CXDC: TECS: ETCG: PLAG: OTIC: SVAC: ASX: APTS: AKRX: DUDE: TBIO: EGO: GLYC: IO: VIH: FOLD: FAN: VACQ: BYD: CLMT: DSE: IMGN - thread num: 1  -  57 / 107\n"
     ]
    },
    {
     "name": "stderr",
     "output_type": "stream",
     "text": [
      "\n",
      "\n",
      "\n",
      "\n",
      "\n",
      "\n",
      "Thread num: 5:  69%|██████████████████████████████████████████▏                  | 74/107 [7:09:25<3:13:09, 351.19s/it]\u001b[A\u001b[A\u001b[A\u001b[A\u001b[A\u001b[A"
     ]
    },
    {
     "name": "stdout",
     "output_type": "stream",
     "text": [
      "completed symbols QQQJ: CFFA: ACEV: USL: ORGO: BBW: SYBX: ECC: WSTL: CDR: IFRX: TRIL: DMYI: OSW: SMSI: ZDGE: SDIV: VBLT: SOGO: JT: SPNV: IDRA: UNG: MYOS: ALYA: HNRG: ARC: CHMA: MCF: USIO: AVEO: KLDO: INVE: ACTG: AMPG: EDNT: VSTO: NAVB: GNCA: VIOT: SWI: ERJ: EMAN: AWP: SIEB: AHPI: PIPP: RUTH: IGT: ONDK: NKLAW: TCS: III: MDP: TMF: BTAQ: SPWH: SPCX: USAT: CERS: CLNY: MPW: SSL: ENBL: STSA: GOSS: UTSI: AUTL: AGFY: UNFI: KPTI: GRAY: TWM: OBLG - thread num: 5  -  74 / 107\n"
     ]
    },
    {
     "name": "stderr",
     "output_type": "stream",
     "text": [
      "\n",
      "\n",
      "\n",
      "Thread num: 6:  63%|██████████████████████████████████████▏                      | 67/107 [7:10:20<4:45:15, 427.89s/it]\u001b[A\u001b[A\u001b[A"
     ]
    },
    {
     "name": "stdout",
     "output_type": "stream",
     "text": [
      "completed symbols FAX: APEN: JUPW: IPI: ENLC: WRTC: RMBL: PHX: KDMN: SSPK: EBR: BKCC: RWT: GSUM: FGPR: MXC: IGXT: GSKY: RTP: MEIP: PUYI: MYT: EXTR: ELVT: VRAY: HAPP: AAAU: PACE: CSPR: WRN: CEF: SBUM: DXYN: VIPS: MCRB: IEC: STIC: HUSN: INMB: GOCO: QHC: PBR: EADSY: AKTS: FEAC: ENSV: AFIN: FLNT: SPFR: CVE: RMM: DRAD: NCMI: NINE: INAQ: NTZ: AJAX: BCS: SUP: USEG: PDS: AMRH: TPR: BKD: ETON: CRDF: VRME - thread num: 6  -  67 / 107\n"
     ]
    },
    {
     "name": "stderr",
     "output_type": "stream",
     "text": [
      "\n",
      "\n",
      "\n",
      "\n",
      "\n",
      "Thread num: 1:  54%|█████████████████████████████████                            | 58/107 [7:11:29<5:19:55, 391.74s/it]\u001b[A\u001b[A\u001b[A\u001b[A\u001b[A"
     ]
    },
    {
     "name": "stdout",
     "output_type": "stream",
     "text": [
      "completed symbols OSS: VHC: FSI: SYRS: STIM: LMNL: CTHR: TDAC: MARPS: SLB: VVOS: MPLN: BLUE: FPAC: EDSA: ORMP: LAND: AMST: ELA: SOAC: PSAC: LWAY: ARDX: UAA: IDXG: BNKD: GTIM: ABR: PSTV: WOOF: GAIN: CCV: CGEN: CARR: CURI: CXDC: TECS: ETCG: PLAG: OTIC: SVAC: ASX: APTS: AKRX: DUDE: TBIO: EGO: GLYC: IO: VIH: FOLD: FAN: VACQ: BYD: CLMT: DSE: IMGN: GLG - thread num: 1  -  58 / 107\n"
     ]
    },
    {
     "name": "stderr",
     "output_type": "stream",
     "text": [
      "\r",
      "Thread num: 2:  58%|███████████████████████████████████▎                         | 62/107 [7:12:46<5:49:15, 465.69s/it]"
     ]
    },
    {
     "name": "stdout",
     "output_type": "stream",
     "text": [
      "completed symbols OMP: APLT: NRO: IMH: THM: WHLM: EBET: VNRX: RLX: LEVI: ASTS: IMMR: DSX: CDE: YI: TRIB: ROCH: HZON: TNK: GNW: MILE: TSIAU: TOUR: ACIU: CLOU: XYF: TPGY: CAKE: CMPS: KALA: KLR: CDTX: ACP: CMMB: HGBL: SALM: STM: OXSQ: FGEN: TCCO: DTIL: CMLF: SMTS: BYRN: LIFE: DHT: EURN: SEAH: STOR: VVNT: RAAS: GEO: CAAS: PBF: HERO: AMCI: FURY: BDR: HBI: TLC: ACER: CURO - thread num: 2  -  62 / 107\n"
     ]
    },
    {
     "name": "stderr",
     "output_type": "stream",
     "text": [
      "\n",
      "Thread num: 3:  50%|█████████████████████████████▏                             | 53/107 [7:13:47<22:22:33, 1491.73s/it]\u001b[A"
     ]
    },
    {
     "name": "stdout",
     "output_type": "stream",
     "text": [
      "completed symbols AACQ: CTK: SVC: EGAN: PSTI: SAEXQ: EB: ATEN: CDXC: PVL: SILV: SILJ: NRBO: CARA: RTLR: CXW: FRO: EAST: PING: JPST: EQT: IDN: KBSF: FCAU: CLDX: TRNE: NBL: MAIN: ELY: PRCP: BRN: HJLI: DENN: RSI: IHT: TRQ: KIN: UUP: AMS: PSXP: TGEN: PMM: OII: DXD: AEY: OMI: TMQ: ZUO: MMLP: EGLE: CPG: NEW: XLF - thread num: 3  -  53 / 107\n"
     ]
    },
    {
     "name": "stderr",
     "output_type": "stream",
     "text": [
      "\n",
      "\n",
      "\n",
      "Thread num: 6:  64%|██████████████████████████████████████▊                      | 68/107 [7:14:00<3:57:32, 365.45s/it]\u001b[A\u001b[A\u001b[A"
     ]
    },
    {
     "name": "stdout",
     "output_type": "stream",
     "text": [
      "completed symbols FAX: APEN: JUPW: IPI: ENLC: WRTC: RMBL: PHX: KDMN: SSPK: EBR: BKCC: RWT: GSUM: FGPR: MXC: IGXT: GSKY: RTP: MEIP: PUYI: MYT: EXTR: ELVT: VRAY: HAPP: AAAU: PACE: CSPR: WRN: CEF: SBUM: DXYN: VIPS: MCRB: IEC: STIC: HUSN: INMB: GOCO: QHC: PBR: EADSY: AKTS: FEAC: ENSV: AFIN: FLNT: SPFR: CVE: RMM: DRAD: NCMI: NINE: INAQ: NTZ: AJAX: BCS: SUP: USEG: PDS: AMRH: TPR: BKD: ETON: CRDF: VRME: SSNT - thread num: 6  -  68 / 107\n"
     ]
    },
    {
     "name": "stderr",
     "output_type": "stream",
     "text": [
      "\n",
      "\n",
      "\n",
      "\n",
      "\n",
      "\n",
      "\n",
      "Thread num: 4:  69%|██████████████████████████████████████████▏                  | 74/107 [7:14:23<2:34:36, 281.10s/it]\u001b[A\u001b[A\u001b[A\u001b[A\u001b[A\u001b[A\u001b[A"
     ]
    },
    {
     "name": "stdout",
     "output_type": "stream",
     "text": [
      "completed symbols CIM: VTSI: BTN: GP: ETTX: RUHN: GLDM: ALDX: EMX: MIND: BMRA: INSE: CHKR: SV: BLMN: QUIK: FPRX: PHCF: TWI: MUFG: JAKK: IPWR: WBAI: MUR: PIRS: CALX: ESTE: CTMX: ZIOP: CIK: CLM: PBCT: PRTS: FTK: SDPI: SRTS: OSMT: FLMN: CVU: CIT: SND: AUPH: FAII: TUSK: SHLDQ: ZCMD: MTL: DAC: XRF: QELL: FBP: ALLY: SGOC: KLXE: PUMP: RMGB: PFIE: UUU: DIV: OPES: ASMB: RQI: LWLG: AENZ: FPAY: RBAC: TACO: DRV: MDXG: ADVM: RYCEY: ONVO: VOLT: LYG - thread num: 4  -  74 / 107\n"
     ]
    },
    {
     "name": "stderr",
     "output_type": "stream",
     "text": [
      "\n",
      "\n",
      "\n",
      "\n",
      "\n",
      "\n",
      "Thread num: 5:  70%|██████████████████████████████████████████▊                  | 75/107 [7:14:35<3:00:41, 338.79s/it]\u001b[A\u001b[A\u001b[A\u001b[A\u001b[A\u001b[A"
     ]
    },
    {
     "name": "stdout",
     "output_type": "stream",
     "text": [
      "completed symbols QQQJ: CFFA: ACEV: USL: ORGO: BBW: SYBX: ECC: WSTL: CDR: IFRX: TRIL: DMYI: OSW: SMSI: ZDGE: SDIV: VBLT: SOGO: JT: SPNV: IDRA: UNG: MYOS: ALYA: HNRG: ARC: CHMA: MCF: USIO: AVEO: KLDO: INVE: ACTG: AMPG: EDNT: VSTO: NAVB: GNCA: VIOT: SWI: ERJ: EMAN: AWP: SIEB: AHPI: PIPP: RUTH: IGT: ONDK: NKLAW: TCS: III: MDP: TMF: BTAQ: SPWH: SPCX: USAT: CERS: CLNY: MPW: SSL: ENBL: STSA: GOSS: UTSI: AUTL: AGFY: UNFI: KPTI: GRAY: TWM: OBLG: NR - thread num: 5  -  75 / 107\n"
     ]
    },
    {
     "name": "stderr",
     "output_type": "stream",
     "text": [
      "\n",
      "Thread num: 3:  50%|█████████████████████████████▊                             | 54/107 [7:14:40<15:36:31, 1060.22s/it]\u001b[A"
     ]
    },
    {
     "name": "stdout",
     "output_type": "stream",
     "text": [
      "completed symbols AACQ: CTK: SVC: EGAN: PSTI: SAEXQ: EB: ATEN: CDXC: PVL: SILV: SILJ: NRBO: CARA: RTLR: CXW: FRO: EAST: PING: JPST: EQT: IDN: KBSF: FCAU: CLDX: TRNE: NBL: MAIN: ELY: PRCP: BRN: HJLI: DENN: RSI: IHT: TRQ: KIN: UUP: AMS: PSXP: TGEN: PMM: OII: DXD: AEY: OMI: TMQ: ZUO: MMLP: EGLE: CPG: NEW: XLF: PCRFY - thread num: 3  -  54 / 107\n"
     ]
    },
    {
     "name": "stderr",
     "output_type": "stream",
     "text": [
      "\n",
      "\n",
      "\n",
      "\n",
      "\n",
      "Thread num: 1:  55%|█████████████████████████████████▋                           | 59/107 [7:15:20<4:34:44, 343.43s/it]\u001b[A\u001b[A\u001b[A\u001b[A\u001b[A"
     ]
    },
    {
     "name": "stdout",
     "output_type": "stream",
     "text": [
      "completed symbols OSS: VHC: FSI: SYRS: STIM: LMNL: CTHR: TDAC: MARPS: SLB: VVOS: MPLN: BLUE: FPAC: EDSA: ORMP: LAND: AMST: ELA: SOAC: PSAC: LWAY: ARDX: UAA: IDXG: BNKD: GTIM: ABR: PSTV: WOOF: GAIN: CCV: CGEN: CARR: CURI: CXDC: TECS: ETCG: PLAG: OTIC: SVAC: ASX: APTS: AKRX: DUDE: TBIO: EGO: GLYC: IO: VIH: FOLD: FAN: VACQ: BYD: CLMT: DSE: IMGN: GLG: USA - thread num: 1  -  59 / 107\n"
     ]
    },
    {
     "name": "stderr",
     "output_type": "stream",
     "text": [
      "\n",
      "\n",
      "\n",
      "\n",
      "\n",
      "\n",
      "Thread num: 5:  71%|███████████████████████████████████████████▎                 | 76/107 [7:17:49<2:32:34, 295.30s/it]\u001b[A\u001b[A\u001b[A\u001b[A\u001b[A\u001b[A"
     ]
    },
    {
     "name": "stdout",
     "output_type": "stream",
     "text": [
      "completed symbols QQQJ: CFFA: ACEV: USL: ORGO: BBW: SYBX: ECC: WSTL: CDR: IFRX: TRIL: DMYI: OSW: SMSI: ZDGE: SDIV: VBLT: SOGO: JT: SPNV: IDRA: UNG: MYOS: ALYA: HNRG: ARC: CHMA: MCF: USIO: AVEO: KLDO: INVE: ACTG: AMPG: EDNT: VSTO: NAVB: GNCA: VIOT: SWI: ERJ: EMAN: AWP: SIEB: AHPI: PIPP: RUTH: IGT: ONDK: NKLAW: TCS: III: MDP: TMF: BTAQ: SPWH: SPCX: USAT: CERS: CLNY: MPW: SSL: ENBL: STSA: GOSS: UTSI: AUTL: AGFY: UNFI: KPTI: GRAY: TWM: OBLG: NR: REFR - thread num: 5  -  76 / 107\n"
     ]
    },
    {
     "name": "stderr",
     "output_type": "stream",
     "text": [
      "\n",
      "\n",
      "\n",
      "Thread num: 6:  64%|███████████████████████████████████████▎                     | 69/107 [7:19:22<3:43:09, 352.36s/it]\u001b[A\u001b[A\u001b[A"
     ]
    },
    {
     "name": "stdout",
     "output_type": "stream",
     "text": [
      "completed symbols FAX: APEN: JUPW: IPI: ENLC: WRTC: RMBL: PHX: KDMN: SSPK: EBR: BKCC: RWT: GSUM: FGPR: MXC: IGXT: GSKY: RTP: MEIP: PUYI: MYT: EXTR: ELVT: VRAY: HAPP: AAAU: PACE: CSPR: WRN: CEF: SBUM: DXYN: VIPS: MCRB: IEC: STIC: HUSN: INMB: GOCO: QHC: PBR: EADSY: AKTS: FEAC: ENSV: AFIN: FLNT: SPFR: CVE: RMM: DRAD: NCMI: NINE: INAQ: NTZ: AJAX: BCS: SUP: USEG: PDS: AMRH: TPR: BKD: ETON: CRDF: VRME: SSNT: CRVS - thread num: 6  -  69 / 107\n"
     ]
    },
    {
     "name": "stderr",
     "output_type": "stream",
     "text": [
      "\r",
      "Thread num: 2:  59%|███████████████████████████████████▉                         | 63/107 [7:20:00<5:34:30, 456.16s/it]"
     ]
    },
    {
     "name": "stdout",
     "output_type": "stream",
     "text": [
      "completed symbols OMP: APLT: NRO: IMH: THM: WHLM: EBET: VNRX: RLX: LEVI: ASTS: IMMR: DSX: CDE: YI: TRIB: ROCH: HZON: TNK: GNW: MILE: TSIAU: TOUR: ACIU: CLOU: XYF: TPGY: CAKE: CMPS: KALA: KLR: CDTX: ACP: CMMB: HGBL: SALM: STM: OXSQ: FGEN: TCCO: DTIL: CMLF: SMTS: BYRN: LIFE: DHT: EURN: SEAH: STOR: VVNT: RAAS: GEO: CAAS: PBF: HERO: AMCI: FURY: BDR: HBI: TLC: ACER: CURO: LTRPA - thread num: 2  -  63 / 107\n"
     ]
    },
    {
     "name": "stderr",
     "output_type": "stream",
     "text": [
      "\n",
      "Thread num: 3:  51%|██████████████████████████████▊                             | 55/107 [7:20:50<12:19:19, 853.06s/it]\u001b[A"
     ]
    },
    {
     "name": "stdout",
     "output_type": "stream",
     "text": [
      "completed symbols AACQ: CTK: SVC: EGAN: PSTI: SAEXQ: EB: ATEN: CDXC: PVL: SILV: SILJ: NRBO: CARA: RTLR: CXW: FRO: EAST: PING: JPST: EQT: IDN: KBSF: FCAU: CLDX: TRNE: NBL: MAIN: ELY: PRCP: BRN: HJLI: DENN: RSI: IHT: TRQ: KIN: UUP: AMS: PSXP: TGEN: PMM: OII: DXD: AEY: OMI: TMQ: ZUO: MMLP: EGLE: CPG: NEW: XLF: PCRFY: USAS - thread num: 3  -  55 / 107\n"
     ]
    },
    {
     "name": "stderr",
     "output_type": "stream",
     "text": [
      "\n",
      "\n",
      "\n",
      "\n",
      "\n",
      "\n",
      "Thread num: 5:  72%|███████████████████████████████████████████▉                 | 77/107 [7:22:30<2:25:32, 291.08s/it]\u001b[A\u001b[A\u001b[A\u001b[A\u001b[A\u001b[A"
     ]
    },
    {
     "name": "stdout",
     "output_type": "stream",
     "text": [
      "completed symbols QQQJ: CFFA: ACEV: USL: ORGO: BBW: SYBX: ECC: WSTL: CDR: IFRX: TRIL: DMYI: OSW: SMSI: ZDGE: SDIV: VBLT: SOGO: JT: SPNV: IDRA: UNG: MYOS: ALYA: HNRG: ARC: CHMA: MCF: USIO: AVEO: KLDO: INVE: ACTG: AMPG: EDNT: VSTO: NAVB: GNCA: VIOT: SWI: ERJ: EMAN: AWP: SIEB: AHPI: PIPP: RUTH: IGT: ONDK: NKLAW: TCS: III: MDP: TMF: BTAQ: SPWH: SPCX: USAT: CERS: CLNY: MPW: SSL: ENBL: STSA: GOSS: UTSI: AUTL: AGFY: UNFI: KPTI: GRAY: TWM: OBLG: NR: REFR: OESX - thread num: 5  -  77 / 107\n"
     ]
    },
    {
     "name": "stderr",
     "output_type": "stream",
     "text": [
      "\n",
      "Thread num: 3:  52%|███████████████████████████████▉                             | 56/107 [7:24:27<9:22:50, 662.16s/it]\u001b[A"
     ]
    },
    {
     "name": "stdout",
     "output_type": "stream",
     "text": [
      "completed symbols AACQ: CTK: SVC: EGAN: PSTI: SAEXQ: EB: ATEN: CDXC: PVL: SILV: SILJ: NRBO: CARA: RTLR: CXW: FRO: EAST: PING: JPST: EQT: IDN: KBSF: FCAU: CLDX: TRNE: NBL: MAIN: ELY: PRCP: BRN: HJLI: DENN: RSI: IHT: TRQ: KIN: UUP: AMS: PSXP: TGEN: PMM: OII: DXD: AEY: OMI: TMQ: ZUO: MMLP: EGLE: CPG: NEW: XLF: PCRFY: USAS: SREV - thread num: 3  -  56 / 107\n"
     ]
    },
    {
     "name": "stderr",
     "output_type": "stream",
     "text": [
      "\n",
      "\n",
      "\n",
      "\n",
      "\n",
      "\n",
      "\n",
      "Thread num: 4:  70%|██████████████████████████████████████████▊                  | 75/107 [7:25:43<3:33:44, 400.76s/it]\u001b[A\u001b[A\u001b[A\u001b[A\u001b[A\u001b[A\u001b[A"
     ]
    },
    {
     "name": "stdout",
     "output_type": "stream",
     "text": [
      "completed symbols CIM: VTSI: BTN: GP: ETTX: RUHN: GLDM: ALDX: EMX: MIND: BMRA: INSE: CHKR: SV: BLMN: QUIK: FPRX: PHCF: TWI: MUFG: JAKK: IPWR: WBAI: MUR: PIRS: CALX: ESTE: CTMX: ZIOP: CIK: CLM: PBCT: PRTS: FTK: SDPI: SRTS: OSMT: FLMN: CVU: CIT: SND: AUPH: FAII: TUSK: SHLDQ: ZCMD: MTL: DAC: XRF: QELL: FBP: ALLY: SGOC: KLXE: PUMP: RMGB: PFIE: UUU: DIV: OPES: ASMB: RQI: LWLG: AENZ: FPAY: RBAC: TACO: DRV: MDXG: ADVM: RYCEY: ONVO: VOLT: LYG: DAN - thread num: 4  -  75 / 107\n"
     ]
    },
    {
     "name": "stderr",
     "output_type": "stream",
     "text": [
      "\n",
      "Thread num: 3:  53%|████████████████████████████████▍                            | 57/107 [7:27:33<7:12:51, 519.43s/it]\u001b[A"
     ]
    },
    {
     "name": "stdout",
     "output_type": "stream",
     "text": [
      "completed symbols AACQ: CTK: SVC: EGAN: PSTI: SAEXQ: EB: ATEN: CDXC: PVL: SILV: SILJ: NRBO: CARA: RTLR: CXW: FRO: EAST: PING: JPST: EQT: IDN: KBSF: FCAU: CLDX: TRNE: NBL: MAIN: ELY: PRCP: BRN: HJLI: DENN: RSI: IHT: TRQ: KIN: UUP: AMS: PSXP: TGEN: PMM: OII: DXD: AEY: OMI: TMQ: ZUO: MMLP: EGLE: CPG: NEW: XLF: PCRFY: USAS: SREV: MCEP - thread num: 3  -  57 / 107\n"
     ]
    },
    {
     "name": "stderr",
     "output_type": "stream",
     "text": [
      "\r",
      "Thread num: 2:  60%|████████████████████████████████████▍                        | 64/107 [7:31:27<6:16:40, 525.59s/it]"
     ]
    },
    {
     "name": "stdout",
     "output_type": "stream",
     "text": [
      "completed symbols OMP: APLT: NRO: IMH: THM: WHLM: EBET: VNRX: RLX: LEVI: ASTS: IMMR: DSX: CDE: YI: TRIB: ROCH: HZON: TNK: GNW: MILE: TSIAU: TOUR: ACIU: CLOU: XYF: TPGY: CAKE: CMPS: KALA: KLR: CDTX: ACP: CMMB: HGBL: SALM: STM: OXSQ: FGEN: TCCO: DTIL: CMLF: SMTS: BYRN: LIFE: DHT: EURN: SEAH: STOR: VVNT: RAAS: GEO: CAAS: PBF: HERO: AMCI: FURY: BDR: HBI: TLC: ACER: CURO: LTRPA: FIT - thread num: 2  -  64 / 107\n"
     ]
    },
    {
     "name": "stderr",
     "output_type": "stream",
     "text": [
      "\n",
      "Thread num: 3:  54%|█████████████████████████████████                            | 58/107 [7:36:27<7:07:38, 523.65s/it]\u001b[A"
     ]
    },
    {
     "name": "stdout",
     "output_type": "stream",
     "text": [
      "completed symbols AACQ: CTK: SVC: EGAN: PSTI: SAEXQ: EB: ATEN: CDXC: PVL: SILV: SILJ: NRBO: CARA: RTLR: CXW: FRO: EAST: PING: JPST: EQT: IDN: KBSF: FCAU: CLDX: TRNE: NBL: MAIN: ELY: PRCP: BRN: HJLI: DENN: RSI: IHT: TRQ: KIN: UUP: AMS: PSXP: TGEN: PMM: OII: DXD: AEY: OMI: TMQ: ZUO: MMLP: EGLE: CPG: NEW: XLF: PCRFY: USAS: SREV: MCEP: IHRT - thread num: 3  -  58 / 107\n"
     ]
    },
    {
     "name": "stderr",
     "output_type": "stream",
     "text": [
      "\n",
      "\n",
      "\n",
      "\n",
      "\n",
      "\n",
      "\n",
      "Thread num: 4:  71%|███████████████████████████████████████████▎                 | 76/107 [7:36:43<4:07:15, 478.56s/it]\u001b[A\u001b[A\u001b[A\u001b[A\u001b[A\u001b[A\u001b[A"
     ]
    },
    {
     "name": "stdout",
     "output_type": "stream",
     "text": [
      "completed symbols CIM: VTSI: BTN: GP: ETTX: RUHN: GLDM: ALDX: EMX: MIND: BMRA: INSE: CHKR: SV: BLMN: QUIK: FPRX: PHCF: TWI: MUFG: JAKK: IPWR: WBAI: MUR: PIRS: CALX: ESTE: CTMX: ZIOP: CIK: CLM: PBCT: PRTS: FTK: SDPI: SRTS: OSMT: FLMN: CVU: CIT: SND: AUPH: FAII: TUSK: SHLDQ: ZCMD: MTL: DAC: XRF: QELL: FBP: ALLY: SGOC: KLXE: PUMP: RMGB: PFIE: UUU: DIV: OPES: ASMB: RQI: LWLG: AENZ: FPAY: RBAC: TACO: DRV: MDXG: ADVM: RYCEY: ONVO: VOLT: LYG: DAN: IAG - thread num: 4  -  76 / 107\n"
     ]
    },
    {
     "name": "stderr",
     "output_type": "stream",
     "text": [
      "\n",
      "Thread num: 3:  55%|█████████████████████████████████▋                           | 59/107 [7:37:31<5:08:45, 385.95s/it]\u001b[A"
     ]
    },
    {
     "name": "stdout",
     "output_type": "stream",
     "text": [
      "completed symbols AACQ: CTK: SVC: EGAN: PSTI: SAEXQ: EB: ATEN: CDXC: PVL: SILV: SILJ: NRBO: CARA: RTLR: CXW: FRO: EAST: PING: JPST: EQT: IDN: KBSF: FCAU: CLDX: TRNE: NBL: MAIN: ELY: PRCP: BRN: HJLI: DENN: RSI: IHT: TRQ: KIN: UUP: AMS: PSXP: TGEN: PMM: OII: DXD: AEY: OMI: TMQ: ZUO: MMLP: EGLE: CPG: NEW: XLF: PCRFY: USAS: SREV: MCEP: IHRT: P055094 - thread num: 3  -  59 / 107\n"
     ]
    },
    {
     "name": "stderr",
     "output_type": "stream",
     "text": [
      "\n",
      "Thread num: 3:  56%|██████████████████████████████████▏                          | 60/107 [7:38:32<3:45:57, 288.47s/it]\u001b[A"
     ]
    },
    {
     "name": "stdout",
     "output_type": "stream",
     "text": [
      "completed symbols AACQ: CTK: SVC: EGAN: PSTI: SAEXQ: EB: ATEN: CDXC: PVL: SILV: SILJ: NRBO: CARA: RTLR: CXW: FRO: EAST: PING: JPST: EQT: IDN: KBSF: FCAU: CLDX: TRNE: NBL: MAIN: ELY: PRCP: BRN: HJLI: DENN: RSI: IHT: TRQ: KIN: UUP: AMS: PSXP: TGEN: PMM: OII: DXD: AEY: OMI: TMQ: ZUO: MMLP: EGLE: CPG: NEW: XLF: PCRFY: USAS: SREV: MCEP: IHRT: P055094: ONDSD - thread num: 3  -  60 / 107\n"
     ]
    },
    {
     "name": "stderr",
     "output_type": "stream",
     "text": [
      "\r",
      "Thread num: 2:  61%|█████████████████████████████████████                        | 65/107 [7:38:38<5:47:56, 497.06s/it]"
     ]
    },
    {
     "name": "stdout",
     "output_type": "stream",
     "text": [
      "completed symbols OMP: APLT: NRO: IMH: THM: WHLM: EBET: VNRX: RLX: LEVI: ASTS: IMMR: DSX: CDE: YI: TRIB: ROCH: HZON: TNK: GNW: MILE: TSIAU: TOUR: ACIU: CLOU: XYF: TPGY: CAKE: CMPS: KALA: KLR: CDTX: ACP: CMMB: HGBL: SALM: STM: OXSQ: FGEN: TCCO: DTIL: CMLF: SMTS: BYRN: LIFE: DHT: EURN: SEAH: STOR: VVNT: RAAS: GEO: CAAS: PBF: HERO: AMCI: FURY: BDR: HBI: TLC: ACER: CURO: LTRPA: FIT: HOL - thread num: 2  -  65 / 107\n"
     ]
    },
    {
     "name": "stderr",
     "output_type": "stream",
     "text": [
      "\n",
      "\n",
      "\n",
      "\n",
      "\n",
      "\n",
      "\n",
      "Thread num: 4:  72%|███████████████████████████████████████████▉                 | 77/107 [7:39:15<3:10:16, 380.56s/it]\u001b[A\u001b[A\u001b[A\u001b[A\u001b[A\u001b[A\u001b[A"
     ]
    },
    {
     "name": "stdout",
     "output_type": "stream",
     "text": [
      "completed symbols CIM: VTSI: BTN: GP: ETTX: RUHN: GLDM: ALDX: EMX: MIND: BMRA: INSE: CHKR: SV: BLMN: QUIK: FPRX: PHCF: TWI: MUFG: JAKK: IPWR: WBAI: MUR: PIRS: CALX: ESTE: CTMX: ZIOP: CIK: CLM: PBCT: PRTS: FTK: SDPI: SRTS: OSMT: FLMN: CVU: CIT: SND: AUPH: FAII: TUSK: SHLDQ: ZCMD: MTL: DAC: XRF: QELL: FBP: ALLY: SGOC: KLXE: PUMP: RMGB: PFIE: UUU: DIV: OPES: ASMB: RQI: LWLG: AENZ: FPAY: RBAC: TACO: DRV: MDXG: ADVM: RYCEY: ONVO: VOLT: LYG: DAN: IAG: QLI - thread num: 4  -  77 / 107\n"
     ]
    },
    {
     "name": "stderr",
     "output_type": "stream",
     "text": [
      "\r",
      "Thread num: 2:  62%|█████████████████████████████████████▋                       | 66/107 [7:39:34<4:09:20, 364.88s/it]"
     ]
    },
    {
     "name": "stdout",
     "output_type": "stream",
     "text": [
      "completed symbols OMP: APLT: NRO: IMH: THM: WHLM: EBET: VNRX: RLX: LEVI: ASTS: IMMR: DSX: CDE: YI: TRIB: ROCH: HZON: TNK: GNW: MILE: TSIAU: TOUR: ACIU: CLOU: XYF: TPGY: CAKE: CMPS: KALA: KLR: CDTX: ACP: CMMB: HGBL: SALM: STM: OXSQ: FGEN: TCCO: DTIL: CMLF: SMTS: BYRN: LIFE: DHT: EURN: SEAH: STOR: VVNT: RAAS: GEO: CAAS: PBF: HERO: AMCI: FURY: BDR: HBI: TLC: ACER: CURO: LTRPA: FIT: HOL: PERS - thread num: 2  -  66 / 107\n"
     ]
    },
    {
     "name": "stderr",
     "output_type": "stream",
     "text": [
      "\n",
      "\n",
      "\n",
      "\n",
      "\n",
      "Thread num: 1:  56%|██████████████████████████████████▏                          | 60/107 [7:39:38<8:50:56, 677.79s/it]\u001b[A\u001b[A\u001b[A\u001b[A\u001b[A"
     ]
    },
    {
     "name": "stdout",
     "output_type": "stream",
     "text": [
      "completed symbols OSS: VHC: FSI: SYRS: STIM: LMNL: CTHR: TDAC: MARPS: SLB: VVOS: MPLN: BLUE: FPAC: EDSA: ORMP: LAND: AMST: ELA: SOAC: PSAC: LWAY: ARDX: UAA: IDXG: BNKD: GTIM: ABR: PSTV: WOOF: GAIN: CCV: CGEN: CARR: CURI: CXDC: TECS: ETCG: PLAG: OTIC: SVAC: ASX: APTS: AKRX: DUDE: TBIO: EGO: GLYC: IO: VIH: FOLD: FAN: VACQ: BYD: CLMT: DSE: IMGN: GLG: USA: MOMO - thread num: 1  -  60 / 107\n"
     ]
    },
    {
     "name": "stderr",
     "output_type": "stream",
     "text": [
      "\n",
      "\n",
      "\n",
      "Thread num: 6:  65%|███████████████████████████████████████▉                     | 70/107 [7:40:18<6:24:32, 623.59s/it]\u001b[A\u001b[A\u001b[A"
     ]
    },
    {
     "name": "stdout",
     "output_type": "stream",
     "text": [
      "completed symbols FAX: APEN: JUPW: IPI: ENLC: WRTC: RMBL: PHX: KDMN: SSPK: EBR: BKCC: RWT: GSUM: FGPR: MXC: IGXT: GSKY: RTP: MEIP: PUYI: MYT: EXTR: ELVT: VRAY: HAPP: AAAU: PACE: CSPR: WRN: CEF: SBUM: DXYN: VIPS: MCRB: IEC: STIC: HUSN: INMB: GOCO: QHC: PBR: EADSY: AKTS: FEAC: ENSV: AFIN: FLNT: SPFR: CVE: RMM: DRAD: NCMI: NINE: INAQ: NTZ: AJAX: BCS: SUP: USEG: PDS: AMRH: TPR: BKD: ETON: CRDF: VRME: SSNT: CRVS: CLR - thread num: 6  -  70 / 107\n"
     ]
    },
    {
     "name": "stderr",
     "output_type": "stream",
     "text": [
      "\n",
      "\n",
      "\n",
      "Thread num: 6:  66%|████████████████████████████████████████▍                    | 71/107 [7:41:17<4:32:26, 454.06s/it]\u001b[A\u001b[A\u001b[A"
     ]
    },
    {
     "name": "stdout",
     "output_type": "stream",
     "text": [
      "completed symbols FAX: APEN: JUPW: IPI: ENLC: WRTC: RMBL: PHX: KDMN: SSPK: EBR: BKCC: RWT: GSUM: FGPR: MXC: IGXT: GSKY: RTP: MEIP: PUYI: MYT: EXTR: ELVT: VRAY: HAPP: AAAU: PACE: CSPR: WRN: CEF: SBUM: DXYN: VIPS: MCRB: IEC: STIC: HUSN: INMB: GOCO: QHC: PBR: EADSY: AKTS: FEAC: ENSV: AFIN: FLNT: SPFR: CVE: RMM: DRAD: NCMI: NINE: INAQ: NTZ: AJAX: BCS: SUP: USEG: PDS: AMRH: TPR: BKD: ETON: CRDF: VRME: SSNT: CRVS: CLR: BCHG - thread num: 6  -  71 / 107\n"
     ]
    },
    {
     "name": "stderr",
     "output_type": "stream",
     "text": [
      "\n",
      "Thread num: 3:  57%|██████████████████████████████████▊                          | 61/107 [7:41:43<3:18:38, 259.10s/it]\u001b[A"
     ]
    },
    {
     "name": "stdout",
     "output_type": "stream",
     "text": [
      "completed symbols AACQ: CTK: SVC: EGAN: PSTI: SAEXQ: EB: ATEN: CDXC: PVL: SILV: SILJ: NRBO: CARA: RTLR: CXW: FRO: EAST: PING: JPST: EQT: IDN: KBSF: FCAU: CLDX: TRNE: NBL: MAIN: ELY: PRCP: BRN: HJLI: DENN: RSI: IHT: TRQ: KIN: UUP: AMS: PSXP: TGEN: PMM: OII: DXD: AEY: OMI: TMQ: ZUO: MMLP: EGLE: CPG: NEW: XLF: PCRFY: USAS: SREV: MCEP: IHRT: P055094: ONDSD: DTEA - thread num: 3  -  61 / 107\n"
     ]
    },
    {
     "name": "stderr",
     "output_type": "stream",
     "text": [
      "\n",
      "\n",
      "\n",
      "\n",
      "\n",
      "Thread num: 1:  57%|██████████████████████████████████▊                          | 61/107 [7:43:22<6:55:12, 541.57s/it]\u001b[A\u001b[A\u001b[A\u001b[A\u001b[A"
     ]
    },
    {
     "name": "stdout",
     "output_type": "stream",
     "text": [
      "completed symbols OSS: VHC: FSI: SYRS: STIM: LMNL: CTHR: TDAC: MARPS: SLB: VVOS: MPLN: BLUE: FPAC: EDSA: ORMP: LAND: AMST: ELA: SOAC: PSAC: LWAY: ARDX: UAA: IDXG: BNKD: GTIM: ABR: PSTV: WOOF: GAIN: CCV: CGEN: CARR: CURI: CXDC: TECS: ETCG: PLAG: OTIC: SVAC: ASX: APTS: AKRX: DUDE: TBIO: EGO: GLYC: IO: VIH: FOLD: FAN: VACQ: BYD: CLMT: DSE: IMGN: GLG: USA: MOMO: ALUS - thread num: 1  -  61 / 107\n"
     ]
    },
    {
     "name": "stderr",
     "output_type": "stream",
     "text": [
      "\r",
      "Thread num: 2:  63%|██████████████████████████████████████▏                      | 67/107 [7:44:04<3:44:10, 336.27s/it]"
     ]
    },
    {
     "name": "stdout",
     "output_type": "stream",
     "text": [
      "completed symbols OMP: APLT: NRO: IMH: THM: WHLM: EBET: VNRX: RLX: LEVI: ASTS: IMMR: DSX: CDE: YI: TRIB: ROCH: HZON: TNK: GNW: MILE: TSIAU: TOUR: ACIU: CLOU: XYF: TPGY: CAKE: CMPS: KALA: KLR: CDTX: ACP: CMMB: HGBL: SALM: STM: OXSQ: FGEN: TCCO: DTIL: CMLF: SMTS: BYRN: LIFE: DHT: EURN: SEAH: STOR: VVNT: RAAS: GEO: CAAS: PBF: HERO: AMCI: FURY: BDR: HBI: TLC: ACER: CURO: LTRPA: FIT: HOL: PERS: PCI - thread num: 2  -  67 / 107\n"
     ]
    },
    {
     "name": "stderr",
     "output_type": "stream",
     "text": [
      "\n",
      "Thread num: 3:  58%|███████████████████████████████████▎                         | 62/107 [7:45:36<3:08:27, 251.27s/it]\u001b[A"
     ]
    },
    {
     "name": "stdout",
     "output_type": "stream",
     "text": [
      "completed symbols AACQ: CTK: SVC: EGAN: PSTI: SAEXQ: EB: ATEN: CDXC: PVL: SILV: SILJ: NRBO: CARA: RTLR: CXW: FRO: EAST: PING: JPST: EQT: IDN: KBSF: FCAU: CLDX: TRNE: NBL: MAIN: ELY: PRCP: BRN: HJLI: DENN: RSI: IHT: TRQ: KIN: UUP: AMS: PSXP: TGEN: PMM: OII: DXD: AEY: OMI: TMQ: ZUO: MMLP: EGLE: CPG: NEW: XLF: PCRFY: USAS: SREV: MCEP: IHRT: P055094: ONDSD: DTEA: PDAC - thread num: 3  -  62 / 107\n"
     ]
    },
    {
     "name": "stderr",
     "output_type": "stream",
     "text": [
      "\n",
      "\n",
      "\n",
      "\n",
      "\n",
      "\n",
      "\n",
      "Thread num: 4:  73%|████████████████████████████████████████████▍                | 78/107 [7:47:35<3:21:15, 416.39s/it]\u001b[A\u001b[A\u001b[A\u001b[A\u001b[A\u001b[A\u001b[A"
     ]
    },
    {
     "name": "stdout",
     "output_type": "stream",
     "text": [
      "completed symbols CIM: VTSI: BTN: GP: ETTX: RUHN: GLDM: ALDX: EMX: MIND: BMRA: INSE: CHKR: SV: BLMN: QUIK: FPRX: PHCF: TWI: MUFG: JAKK: IPWR: WBAI: MUR: PIRS: CALX: ESTE: CTMX: ZIOP: CIK: CLM: PBCT: PRTS: FTK: SDPI: SRTS: OSMT: FLMN: CVU: CIT: SND: AUPH: FAII: TUSK: SHLDQ: ZCMD: MTL: DAC: XRF: QELL: FBP: ALLY: SGOC: KLXE: PUMP: RMGB: PFIE: UUU: DIV: OPES: ASMB: RQI: LWLG: AENZ: FPAY: RBAC: TACO: DRV: MDXG: ADVM: RYCEY: ONVO: VOLT: LYG: DAN: IAG: QLI: CHEF - thread num: 4  -  78 / 107\n"
     ]
    },
    {
     "name": "stderr",
     "output_type": "stream",
     "text": [
      "\n",
      "\n",
      "\n",
      "\n",
      "\n",
      "\n",
      "\n",
      "Thread num: 4:  74%|█████████████████████████████████████████████                | 79/107 [7:50:30<2:40:28, 343.89s/it]\u001b[A\u001b[A\u001b[A\u001b[A\u001b[A\u001b[A\u001b[A"
     ]
    },
    {
     "name": "stdout",
     "output_type": "stream",
     "text": [
      "completed symbols CIM: VTSI: BTN: GP: ETTX: RUHN: GLDM: ALDX: EMX: MIND: BMRA: INSE: CHKR: SV: BLMN: QUIK: FPRX: PHCF: TWI: MUFG: JAKK: IPWR: WBAI: MUR: PIRS: CALX: ESTE: CTMX: ZIOP: CIK: CLM: PBCT: PRTS: FTK: SDPI: SRTS: OSMT: FLMN: CVU: CIT: SND: AUPH: FAII: TUSK: SHLDQ: ZCMD: MTL: DAC: XRF: QELL: FBP: ALLY: SGOC: KLXE: PUMP: RMGB: PFIE: UUU: DIV: OPES: ASMB: RQI: LWLG: AENZ: FPAY: RBAC: TACO: DRV: MDXG: ADVM: RYCEY: ONVO: VOLT: LYG: DAN: IAG: QLI: CHEF: EEIQ - thread num: 4  -  79 / 107\n"
     ]
    },
    {
     "name": "stderr",
     "output_type": "stream",
     "text": [
      "\n",
      "Thread num: 3:  59%|███████████████████████████████████▉                         | 63/107 [7:50:42<3:16:18, 267.70s/it]\u001b[A"
     ]
    },
    {
     "name": "stdout",
     "output_type": "stream",
     "text": [
      "completed symbols AACQ: CTK: SVC: EGAN: PSTI: SAEXQ: EB: ATEN: CDXC: PVL: SILV: SILJ: NRBO: CARA: RTLR: CXW: FRO: EAST: PING: JPST: EQT: IDN: KBSF: FCAU: CLDX: TRNE: NBL: MAIN: ELY: PRCP: BRN: HJLI: DENN: RSI: IHT: TRQ: KIN: UUP: AMS: PSXP: TGEN: PMM: OII: DXD: AEY: OMI: TMQ: ZUO: MMLP: EGLE: CPG: NEW: XLF: PCRFY: USAS: SREV: MCEP: IHRT: P055094: ONDSD: DTEA: PDAC: AGS - thread num: 3  -  63 / 107\n"
     ]
    },
    {
     "name": "stderr",
     "output_type": "stream",
     "text": [
      "\n",
      "\n",
      "\n",
      "\n",
      "\n",
      "Thread num: 1:  58%|███████████████████████████████████▎                         | 62/107 [7:51:42<6:36:56, 529.26s/it]\u001b[A\u001b[A\u001b[A\u001b[A\u001b[A"
     ]
    },
    {
     "name": "stdout",
     "output_type": "stream",
     "text": [
      "completed symbols OSS: VHC: FSI: SYRS: STIM: LMNL: CTHR: TDAC: MARPS: SLB: VVOS: MPLN: BLUE: FPAC: EDSA: ORMP: LAND: AMST: ELA: SOAC: PSAC: LWAY: ARDX: UAA: IDXG: BNKD: GTIM: ABR: PSTV: WOOF: GAIN: CCV: CGEN: CARR: CURI: CXDC: TECS: ETCG: PLAG: OTIC: SVAC: ASX: APTS: AKRX: DUDE: TBIO: EGO: GLYC: IO: VIH: FOLD: FAN: VACQ: BYD: CLMT: DSE: IMGN: GLG: USA: MOMO: ALUS: PRVB - thread num: 1  -  62 / 107\n"
     ]
    },
    {
     "name": "stderr",
     "output_type": "stream",
     "text": [
      "\n",
      "\n",
      "\n",
      "\n",
      "\n",
      "\n",
      "Thread num: 5:  73%|████████████████████████████████████████████▍                | 78/107 [7:52:04<5:55:43, 735.97s/it]\u001b[A\u001b[A\u001b[A\u001b[A\u001b[A\u001b[A"
     ]
    },
    {
     "name": "stdout",
     "output_type": "stream",
     "text": [
      "completed symbols QQQJ: CFFA: ACEV: USL: ORGO: BBW: SYBX: ECC: WSTL: CDR: IFRX: TRIL: DMYI: OSW: SMSI: ZDGE: SDIV: VBLT: SOGO: JT: SPNV: IDRA: UNG: MYOS: ALYA: HNRG: ARC: CHMA: MCF: USIO: AVEO: KLDO: INVE: ACTG: AMPG: EDNT: VSTO: NAVB: GNCA: VIOT: SWI: ERJ: EMAN: AWP: SIEB: AHPI: PIPP: RUTH: IGT: ONDK: NKLAW: TCS: III: MDP: TMF: BTAQ: SPWH: SPCX: USAT: CERS: CLNY: MPW: SSL: ENBL: STSA: GOSS: UTSI: AUTL: AGFY: UNFI: KPTI: GRAY: TWM: OBLG: NR: REFR: OESX: AR - thread num: 5  -  78 / 107\n"
     ]
    },
    {
     "name": "stderr",
     "output_type": "stream",
     "text": [
      "\n",
      "\n",
      "\n",
      "\n",
      "\n",
      "\n",
      "\n",
      "Thread num: 4:  75%|█████████████████████████████████████████████▌               | 80/107 [7:53:09<2:09:46, 288.40s/it]\u001b[A\u001b[A\u001b[A\u001b[A\u001b[A\u001b[A\u001b[A"
     ]
    },
    {
     "name": "stdout",
     "output_type": "stream",
     "text": [
      "completed symbols CIM: VTSI: BTN: GP: ETTX: RUHN: GLDM: ALDX: EMX: MIND: BMRA: INSE: CHKR: SV: BLMN: QUIK: FPRX: PHCF: TWI: MUFG: JAKK: IPWR: WBAI: MUR: PIRS: CALX: ESTE: CTMX: ZIOP: CIK: CLM: PBCT: PRTS: FTK: SDPI: SRTS: OSMT: FLMN: CVU: CIT: SND: AUPH: FAII: TUSK: SHLDQ: ZCMD: MTL: DAC: XRF: QELL: FBP: ALLY: SGOC: KLXE: PUMP: RMGB: PFIE: UUU: DIV: OPES: ASMB: RQI: LWLG: AENZ: FPAY: RBAC: TACO: DRV: MDXG: ADVM: RYCEY: ONVO: VOLT: LYG: DAN: IAG: QLI: CHEF: EEIQ: LSF - thread num: 4  -  80 / 107\n"
     ]
    },
    {
     "name": "stderr",
     "output_type": "stream",
     "text": [
      "\r",
      "Thread num: 2:  64%|██████████████████████████████████████▊                      | 68/107 [7:53:15<4:20:22, 400.57s/it]"
     ]
    },
    {
     "name": "stdout",
     "output_type": "stream",
     "text": [
      "completed symbols OMP: APLT: NRO: IMH: THM: WHLM: EBET: VNRX: RLX: LEVI: ASTS: IMMR: DSX: CDE: YI: TRIB: ROCH: HZON: TNK: GNW: MILE: TSIAU: TOUR: ACIU: CLOU: XYF: TPGY: CAKE: CMPS: KALA: KLR: CDTX: ACP: CMMB: HGBL: SALM: STM: OXSQ: FGEN: TCCO: DTIL: CMLF: SMTS: BYRN: LIFE: DHT: EURN: SEAH: STOR: VVNT: RAAS: GEO: CAAS: PBF: HERO: AMCI: FURY: BDR: HBI: TLC: ACER: CURO: LTRPA: FIT: HOL: PERS: PCI: MLHR - thread num: 2  -  68 / 107\n"
     ]
    },
    {
     "name": "stderr",
     "output_type": "stream",
     "text": [
      "\n",
      "\n",
      "\n",
      "\n",
      "\n",
      "Thread num: 1:  59%|███████████████████████████████████▉                         | 63/107 [7:55:16<5:18:42, 434.60s/it]\u001b[A\u001b[A\u001b[A\u001b[A\u001b[A"
     ]
    },
    {
     "name": "stdout",
     "output_type": "stream",
     "text": [
      "completed symbols OSS: VHC: FSI: SYRS: STIM: LMNL: CTHR: TDAC: MARPS: SLB: VVOS: MPLN: BLUE: FPAC: EDSA: ORMP: LAND: AMST: ELA: SOAC: PSAC: LWAY: ARDX: UAA: IDXG: BNKD: GTIM: ABR: PSTV: WOOF: GAIN: CCV: CGEN: CARR: CURI: CXDC: TECS: ETCG: PLAG: OTIC: SVAC: ASX: APTS: AKRX: DUDE: TBIO: EGO: GLYC: IO: VIH: FOLD: FAN: VACQ: BYD: CLMT: DSE: IMGN: GLG: USA: MOMO: ALUS: PRVB: AGC - thread num: 1  -  63 / 107\n"
     ]
    },
    {
     "name": "stderr",
     "output_type": "stream",
     "text": [
      "\n",
      "\n",
      "\n",
      "\n",
      "\n",
      "\n",
      "Thread num: 5:  74%|█████████████████████████████████████████████                | 79/107 [7:55:23<4:28:19, 574.97s/it]\u001b[A\u001b[A\u001b[A\u001b[A\u001b[A\u001b[A"
     ]
    },
    {
     "name": "stdout",
     "output_type": "stream",
     "text": [
      "completed symbols QQQJ: CFFA: ACEV: USL: ORGO: BBW: SYBX: ECC: WSTL: CDR: IFRX: TRIL: DMYI: OSW: SMSI: ZDGE: SDIV: VBLT: SOGO: JT: SPNV: IDRA: UNG: MYOS: ALYA: HNRG: ARC: CHMA: MCF: USIO: AVEO: KLDO: INVE: ACTG: AMPG: EDNT: VSTO: NAVB: GNCA: VIOT: SWI: ERJ: EMAN: AWP: SIEB: AHPI: PIPP: RUTH: IGT: ONDK: NKLAW: TCS: III: MDP: TMF: BTAQ: SPWH: SPCX: USAT: CERS: CLNY: MPW: SSL: ENBL: STSA: GOSS: UTSI: AUTL: AGFY: UNFI: KPTI: GRAY: TWM: OBLG: NR: REFR: OESX: AR: ONE - thread num: 5  -  79 / 107\n"
     ]
    },
    {
     "name": "stderr",
     "output_type": "stream",
     "text": [
      "\n",
      "\n",
      "\n",
      "\n",
      "\n",
      "\n",
      "\n",
      "Thread num: 4:  76%|██████████████████████████████████████████████▏              | 81/107 [7:56:43<1:55:20, 266.16s/it]\u001b[A\u001b[A\u001b[A\u001b[A\u001b[A\u001b[A\u001b[A"
     ]
    },
    {
     "name": "stdout",
     "output_type": "stream",
     "text": [
      "completed symbols CIM: VTSI: BTN: GP: ETTX: RUHN: GLDM: ALDX: EMX: MIND: BMRA: INSE: CHKR: SV: BLMN: QUIK: FPRX: PHCF: TWI: MUFG: JAKK: IPWR: WBAI: MUR: PIRS: CALX: ESTE: CTMX: ZIOP: CIK: CLM: PBCT: PRTS: FTK: SDPI: SRTS: OSMT: FLMN: CVU: CIT: SND: AUPH: FAII: TUSK: SHLDQ: ZCMD: MTL: DAC: XRF: QELL: FBP: ALLY: SGOC: KLXE: PUMP: RMGB: PFIE: UUU: DIV: OPES: ASMB: RQI: LWLG: AENZ: FPAY: RBAC: TACO: DRV: MDXG: ADVM: RYCEY: ONVO: VOLT: LYG: DAN: IAG: QLI: CHEF: EEIQ: LSF: ZNTE - thread num: 4  -  81 / 107\n"
     ]
    },
    {
     "name": "stderr",
     "output_type": "stream",
     "text": [
      "\r",
      "Thread num: 2:  64%|███████████████████████████████████████▎                     | 69/107 [7:57:36<3:47:19, 358.94s/it]"
     ]
    },
    {
     "name": "stdout",
     "output_type": "stream",
     "text": [
      "completed symbols OMP: APLT: NRO: IMH: THM: WHLM: EBET: VNRX: RLX: LEVI: ASTS: IMMR: DSX: CDE: YI: TRIB: ROCH: HZON: TNK: GNW: MILE: TSIAU: TOUR: ACIU: CLOU: XYF: TPGY: CAKE: CMPS: KALA: KLR: CDTX: ACP: CMMB: HGBL: SALM: STM: OXSQ: FGEN: TCCO: DTIL: CMLF: SMTS: BYRN: LIFE: DHT: EURN: SEAH: STOR: VVNT: RAAS: GEO: CAAS: PBF: HERO: AMCI: FURY: BDR: HBI: TLC: ACER: CURO: LTRPA: FIT: HOL: PERS: PCI: MLHR: ASLN - thread num: 2  -  69 / 107\n"
     ]
    },
    {
     "name": "stderr",
     "output_type": "stream",
     "text": [
      "\n",
      "Thread num: 3:  60%|████████████████████████████████████▍                        | 64/107 [7:57:50<3:46:15, 315.71s/it]\u001b[A"
     ]
    },
    {
     "name": "stdout",
     "output_type": "stream",
     "text": [
      "completed symbols AACQ: CTK: SVC: EGAN: PSTI: SAEXQ: EB: ATEN: CDXC: PVL: SILV: SILJ: NRBO: CARA: RTLR: CXW: FRO: EAST: PING: JPST: EQT: IDN: KBSF: FCAU: CLDX: TRNE: NBL: MAIN: ELY: PRCP: BRN: HJLI: DENN: RSI: IHT: TRQ: KIN: UUP: AMS: PSXP: TGEN: PMM: OII: DXD: AEY: OMI: TMQ: ZUO: MMLP: EGLE: CPG: NEW: XLF: PCRFY: USAS: SREV: MCEP: IHRT: P055094: ONDSD: DTEA: PDAC: AGS: ICLK - thread num: 3  -  64 / 107\n"
     ]
    },
    {
     "name": "stderr",
     "output_type": "stream",
     "text": [
      "\n",
      "\n",
      "\n",
      "Thread num: 6:  67%|█████████████████████████████████████████                    | 72/107 [7:58:14<6:03:26, 623.04s/it]\u001b[A\u001b[A\u001b[A"
     ]
    },
    {
     "name": "stdout",
     "output_type": "stream",
     "text": [
      "completed symbols FAX: APEN: JUPW: IPI: ENLC: WRTC: RMBL: PHX: KDMN: SSPK: EBR: BKCC: RWT: GSUM: FGPR: MXC: IGXT: GSKY: RTP: MEIP: PUYI: MYT: EXTR: ELVT: VRAY: HAPP: AAAU: PACE: CSPR: WRN: CEF: SBUM: DXYN: VIPS: MCRB: IEC: STIC: HUSN: INMB: GOCO: QHC: PBR: EADSY: AKTS: FEAC: ENSV: AFIN: FLNT: SPFR: CVE: RMM: DRAD: NCMI: NINE: INAQ: NTZ: AJAX: BCS: SUP: USEG: PDS: AMRH: TPR: BKD: ETON: CRDF: VRME: SSNT: CRVS: CLR: BCHG: NTNX - thread num: 6  -  72 / 107\n"
     ]
    },
    {
     "name": "stderr",
     "output_type": "stream",
     "text": [
      "\n",
      "\n",
      "\n",
      "\n",
      "\n",
      "\n",
      "\n",
      "Thread num: 4:  77%|██████████████████████████████████████████████▋              | 82/107 [7:58:58<1:34:29, 226.77s/it]\u001b[A\u001b[A\u001b[A\u001b[A\u001b[A\u001b[A\u001b[A"
     ]
    },
    {
     "name": "stdout",
     "output_type": "stream",
     "text": [
      "completed symbols CIM: VTSI: BTN: GP: ETTX: RUHN: GLDM: ALDX: EMX: MIND: BMRA: INSE: CHKR: SV: BLMN: QUIK: FPRX: PHCF: TWI: MUFG: JAKK: IPWR: WBAI: MUR: PIRS: CALX: ESTE: CTMX: ZIOP: CIK: CLM: PBCT: PRTS: FTK: SDPI: SRTS: OSMT: FLMN: CVU: CIT: SND: AUPH: FAII: TUSK: SHLDQ: ZCMD: MTL: DAC: XRF: QELL: FBP: ALLY: SGOC: KLXE: PUMP: RMGB: PFIE: UUU: DIV: OPES: ASMB: RQI: LWLG: AENZ: FPAY: RBAC: TACO: DRV: MDXG: ADVM: RYCEY: ONVO: VOLT: LYG: DAN: IAG: QLI: CHEF: EEIQ: LSF: ZNTE: USDP - thread num: 4  -  82 / 107\n"
     ]
    },
    {
     "name": "stderr",
     "output_type": "stream",
     "text": [
      "\n",
      "Thread num: 3:  61%|█████████████████████████████████████                        | 65/107 [8:02:26<3:32:49, 304.04s/it]\u001b[A"
     ]
    },
    {
     "name": "stdout",
     "output_type": "stream",
     "text": [
      "completed symbols AACQ: CTK: SVC: EGAN: PSTI: SAEXQ: EB: ATEN: CDXC: PVL: SILV: SILJ: NRBO: CARA: RTLR: CXW: FRO: EAST: PING: JPST: EQT: IDN: KBSF: FCAU: CLDX: TRNE: NBL: MAIN: ELY: PRCP: BRN: HJLI: DENN: RSI: IHT: TRQ: KIN: UUP: AMS: PSXP: TGEN: PMM: OII: DXD: AEY: OMI: TMQ: ZUO: MMLP: EGLE: CPG: NEW: XLF: PCRFY: USAS: SREV: MCEP: IHRT: P055094: ONDSD: DTEA: PDAC: AGS: ICLK: USX - thread num: 3  -  65 / 107\n"
     ]
    },
    {
     "name": "stderr",
     "output_type": "stream",
     "text": [
      "\n",
      "\n",
      "\n",
      "Thread num: 6:  68%|█████████████████████████████████████████▌                   | 73/107 [8:02:53<4:54:29, 519.69s/it]\u001b[A\u001b[A\u001b[A"
     ]
    },
    {
     "name": "stdout",
     "output_type": "stream",
     "text": [
      "completed symbols FAX: APEN: JUPW: IPI: ENLC: WRTC: RMBL: PHX: KDMN: SSPK: EBR: BKCC: RWT: GSUM: FGPR: MXC: IGXT: GSKY: RTP: MEIP: PUYI: MYT: EXTR: ELVT: VRAY: HAPP: AAAU: PACE: CSPR: WRN: CEF: SBUM: DXYN: VIPS: MCRB: IEC: STIC: HUSN: INMB: GOCO: QHC: PBR: EADSY: AKTS: FEAC: ENSV: AFIN: FLNT: SPFR: CVE: RMM: DRAD: NCMI: NINE: INAQ: NTZ: AJAX: BCS: SUP: USEG: PDS: AMRH: TPR: BKD: ETON: CRDF: VRME: SSNT: CRVS: CLR: BCHG: NTNX: PAVE - thread num: 6  -  73 / 107\n"
     ]
    },
    {
     "name": "stderr",
     "output_type": "stream",
     "text": [
      "\r",
      "Thread num: 2:  65%|███████████████████████████████████████▉                     | 70/107 [8:03:14<3:37:28, 352.66s/it]"
     ]
    },
    {
     "name": "stdout",
     "output_type": "stream",
     "text": [
      "completed symbols OMP: APLT: NRO: IMH: THM: WHLM: EBET: VNRX: RLX: LEVI: ASTS: IMMR: DSX: CDE: YI: TRIB: ROCH: HZON: TNK: GNW: MILE: TSIAU: TOUR: ACIU: CLOU: XYF: TPGY: CAKE: CMPS: KALA: KLR: CDTX: ACP: CMMB: HGBL: SALM: STM: OXSQ: FGEN: TCCO: DTIL: CMLF: SMTS: BYRN: LIFE: DHT: EURN: SEAH: STOR: VVNT: RAAS: GEO: CAAS: PBF: HERO: AMCI: FURY: BDR: HBI: TLC: ACER: CURO: LTRPA: FIT: HOL: PERS: PCI: MLHR: ASLN: HIMS - thread num: 2  -  70 / 107\n"
     ]
    },
    {
     "name": "stderr",
     "output_type": "stream",
     "text": [
      "\n",
      "\n",
      "\n",
      "\n",
      "\n",
      "Thread num: 1:  60%|████████████████████████████████████▍                        | 64/107 [8:03:16<5:21:08, 448.11s/it]\u001b[A\u001b[A\u001b[A\u001b[A\u001b[A"
     ]
    },
    {
     "name": "stdout",
     "output_type": "stream",
     "text": [
      "completed symbols OSS: VHC: FSI: SYRS: STIM: LMNL: CTHR: TDAC: MARPS: SLB: VVOS: MPLN: BLUE: FPAC: EDSA: ORMP: LAND: AMST: ELA: SOAC: PSAC: LWAY: ARDX: UAA: IDXG: BNKD: GTIM: ABR: PSTV: WOOF: GAIN: CCV: CGEN: CARR: CURI: CXDC: TECS: ETCG: PLAG: OTIC: SVAC: ASX: APTS: AKRX: DUDE: TBIO: EGO: GLYC: IO: VIH: FOLD: FAN: VACQ: BYD: CLMT: DSE: IMGN: GLG: USA: MOMO: ALUS: PRVB: AGC: VET - thread num: 1  -  64 / 107\n"
     ]
    },
    {
     "name": "stderr",
     "output_type": "stream",
     "text": [
      "\n",
      "\n",
      "\n",
      "Thread num: 6:  69%|██████████████████████████████████████████▏                  | 74/107 [8:03:46<3:28:54, 379.83s/it]\u001b[A\u001b[A\u001b[A"
     ]
    },
    {
     "name": "stdout",
     "output_type": "stream",
     "text": [
      "completed symbols FAX: APEN: JUPW: IPI: ENLC: WRTC: RMBL: PHX: KDMN: SSPK: EBR: BKCC: RWT: GSUM: FGPR: MXC: IGXT: GSKY: RTP: MEIP: PUYI: MYT: EXTR: ELVT: VRAY: HAPP: AAAU: PACE: CSPR: WRN: CEF: SBUM: DXYN: VIPS: MCRB: IEC: STIC: HUSN: INMB: GOCO: QHC: PBR: EADSY: AKTS: FEAC: ENSV: AFIN: FLNT: SPFR: CVE: RMM: DRAD: NCMI: NINE: INAQ: NTZ: AJAX: BCS: SUP: USEG: PDS: AMRH: TPR: BKD: ETON: CRDF: VRME: SSNT: CRVS: CLR: BCHG: NTNX: PAVE: LYSDY - thread num: 6  -  74 / 107\n"
     ]
    },
    {
     "name": "stderr",
     "output_type": "stream",
     "text": [
      "\n",
      "\n",
      "\n",
      "\n",
      "\n",
      "\n",
      "\n",
      "Thread num: 4:  78%|███████████████████████████████████████████████▎             | 83/107 [8:04:29<1:43:15, 258.15s/it]\u001b[A\u001b[A\u001b[A\u001b[A\u001b[A\u001b[A\u001b[A"
     ]
    },
    {
     "name": "stdout",
     "output_type": "stream",
     "text": [
      "completed symbols CIM: VTSI: BTN: GP: ETTX: RUHN: GLDM: ALDX: EMX: MIND: BMRA: INSE: CHKR: SV: BLMN: QUIK: FPRX: PHCF: TWI: MUFG: JAKK: IPWR: WBAI: MUR: PIRS: CALX: ESTE: CTMX: ZIOP: CIK: CLM: PBCT: PRTS: FTK: SDPI: SRTS: OSMT: FLMN: CVU: CIT: SND: AUPH: FAII: TUSK: SHLDQ: ZCMD: MTL: DAC: XRF: QELL: FBP: ALLY: SGOC: KLXE: PUMP: RMGB: PFIE: UUU: DIV: OPES: ASMB: RQI: LWLG: AENZ: FPAY: RBAC: TACO: DRV: MDXG: ADVM: RYCEY: ONVO: VOLT: LYG: DAN: IAG: QLI: CHEF: EEIQ: LSF: ZNTE: USDP: HTGC - thread num: 4  -  83 / 107\n"
     ]
    },
    {
     "name": "stderr",
     "output_type": "stream",
     "text": [
      "\r",
      "Thread num: 2:  66%|████████████████████████████████████████▍                    | 71/107 [8:05:12<2:49:22, 282.28s/it]"
     ]
    },
    {
     "name": "stdout",
     "output_type": "stream",
     "text": [
      "completed symbols OMP: APLT: NRO: IMH: THM: WHLM: EBET: VNRX: RLX: LEVI: ASTS: IMMR: DSX: CDE: YI: TRIB: ROCH: HZON: TNK: GNW: MILE: TSIAU: TOUR: ACIU: CLOU: XYF: TPGY: CAKE: CMPS: KALA: KLR: CDTX: ACP: CMMB: HGBL: SALM: STM: OXSQ: FGEN: TCCO: DTIL: CMLF: SMTS: BYRN: LIFE: DHT: EURN: SEAH: STOR: VVNT: RAAS: GEO: CAAS: PBF: HERO: AMCI: FURY: BDR: HBI: TLC: ACER: CURO: LTRPA: FIT: HOL: PERS: PCI: MLHR: ASLN: HIMS: ALAC - thread num: 2  -  71 / 107\n"
     ]
    },
    {
     "name": "stderr",
     "output_type": "stream",
     "text": [
      "\n",
      "\n",
      "\n",
      "\n",
      "\n",
      "Thread num: 1:  61%|█████████████████████████████████████                        | 65/107 [8:05:41<4:10:05, 357.27s/it]\u001b[A\u001b[A\u001b[A\u001b[A\u001b[A"
     ]
    },
    {
     "name": "stdout",
     "output_type": "stream",
     "text": [
      "completed symbols OSS: VHC: FSI: SYRS: STIM: LMNL: CTHR: TDAC: MARPS: SLB: VVOS: MPLN: BLUE: FPAC: EDSA: ORMP: LAND: AMST: ELA: SOAC: PSAC: LWAY: ARDX: UAA: IDXG: BNKD: GTIM: ABR: PSTV: WOOF: GAIN: CCV: CGEN: CARR: CURI: CXDC: TECS: ETCG: PLAG: OTIC: SVAC: ASX: APTS: AKRX: DUDE: TBIO: EGO: GLYC: IO: VIH: FOLD: FAN: VACQ: BYD: CLMT: DSE: IMGN: GLG: USA: MOMO: ALUS: PRVB: AGC: VET: SOHO - thread num: 1  -  65 / 107\n"
     ]
    },
    {
     "name": "stderr",
     "output_type": "stream",
     "text": [
      "\n",
      "\n",
      "\n",
      "\n",
      "\n",
      "\n",
      "Thread num: 5:  75%|█████████████████████████████████████████████▌               | 80/107 [8:05:49<4:25:33, 590.14s/it]\u001b[A\u001b[A\u001b[A\u001b[A\u001b[A\u001b[A"
     ]
    },
    {
     "name": "stdout",
     "output_type": "stream",
     "text": [
      "completed symbols QQQJ: CFFA: ACEV: USL: ORGO: BBW: SYBX: ECC: WSTL: CDR: IFRX: TRIL: DMYI: OSW: SMSI: ZDGE: SDIV: VBLT: SOGO: JT: SPNV: IDRA: UNG: MYOS: ALYA: HNRG: ARC: CHMA: MCF: USIO: AVEO: KLDO: INVE: ACTG: AMPG: EDNT: VSTO: NAVB: GNCA: VIOT: SWI: ERJ: EMAN: AWP: SIEB: AHPI: PIPP: RUTH: IGT: ONDK: NKLAW: TCS: III: MDP: TMF: BTAQ: SPWH: SPCX: USAT: CERS: CLNY: MPW: SSL: ENBL: STSA: GOSS: UTSI: AUTL: AGFY: UNFI: KPTI: GRAY: TWM: OBLG: NR: REFR: OESX: AR: ONE: STAG - thread num: 5  -  80 / 107\n"
     ]
    },
    {
     "name": "stderr",
     "output_type": "stream",
     "text": [
      "\n",
      "Thread num: 3:  62%|█████████████████████████████████████▋                       | 66/107 [8:06:16<3:12:25, 281.60s/it]\u001b[A"
     ]
    },
    {
     "name": "stdout",
     "output_type": "stream",
     "text": [
      "completed symbols AACQ: CTK: SVC: EGAN: PSTI: SAEXQ: EB: ATEN: CDXC: PVL: SILV: SILJ: NRBO: CARA: RTLR: CXW: FRO: EAST: PING: JPST: EQT: IDN: KBSF: FCAU: CLDX: TRNE: NBL: MAIN: ELY: PRCP: BRN: HJLI: DENN: RSI: IHT: TRQ: KIN: UUP: AMS: PSXP: TGEN: PMM: OII: DXD: AEY: OMI: TMQ: ZUO: MMLP: EGLE: CPG: NEW: XLF: PCRFY: USAS: SREV: MCEP: IHRT: P055094: ONDSD: DTEA: PDAC: AGS: ICLK: USX: FIVG - thread num: 3  -  66 / 107\n"
     ]
    },
    {
     "name": "stderr",
     "output_type": "stream",
     "text": [
      "\n",
      "\n",
      "\n",
      "\n",
      "\n",
      "\n",
      "\n",
      "Thread num: 4:  79%|███████████████████████████████████████████████▉             | 84/107 [8:09:27<1:43:32, 270.13s/it]\u001b[A\u001b[A\u001b[A\u001b[A\u001b[A\u001b[A\u001b[A"
     ]
    },
    {
     "name": "stdout",
     "output_type": "stream",
     "text": [
      "completed symbols CIM: VTSI: BTN: GP: ETTX: RUHN: GLDM: ALDX: EMX: MIND: BMRA: INSE: CHKR: SV: BLMN: QUIK: FPRX: PHCF: TWI: MUFG: JAKK: IPWR: WBAI: MUR: PIRS: CALX: ESTE: CTMX: ZIOP: CIK: CLM: PBCT: PRTS: FTK: SDPI: SRTS: OSMT: FLMN: CVU: CIT: SND: AUPH: FAII: TUSK: SHLDQ: ZCMD: MTL: DAC: XRF: QELL: FBP: ALLY: SGOC: KLXE: PUMP: RMGB: PFIE: UUU: DIV: OPES: ASMB: RQI: LWLG: AENZ: FPAY: RBAC: TACO: DRV: MDXG: ADVM: RYCEY: ONVO: VOLT: LYG: DAN: IAG: QLI: CHEF: EEIQ: LSF: ZNTE: USDP: HTGC: DHY - thread num: 4  -  84 / 107\n"
     ]
    },
    {
     "name": "stderr",
     "output_type": "stream",
     "text": [
      "\n",
      "\n",
      "\n",
      "\n",
      "\n",
      "\n",
      "Thread num: 5:  76%|██████████████████████████████████████████████▏              | 81/107 [8:09:37<3:28:37, 481.43s/it]\u001b[A\u001b[A\u001b[A\u001b[A\u001b[A\u001b[A"
     ]
    },
    {
     "name": "stdout",
     "output_type": "stream",
     "text": [
      "completed symbols QQQJ: CFFA: ACEV: USL: ORGO: BBW: SYBX: ECC: WSTL: CDR: IFRX: TRIL: DMYI: OSW: SMSI: ZDGE: SDIV: VBLT: SOGO: JT: SPNV: IDRA: UNG: MYOS: ALYA: HNRG: ARC: CHMA: MCF: USIO: AVEO: KLDO: INVE: ACTG: AMPG: EDNT: VSTO: NAVB: GNCA: VIOT: SWI: ERJ: EMAN: AWP: SIEB: AHPI: PIPP: RUTH: IGT: ONDK: NKLAW: TCS: III: MDP: TMF: BTAQ: SPWH: SPCX: USAT: CERS: CLNY: MPW: SSL: ENBL: STSA: GOSS: UTSI: AUTL: AGFY: UNFI: KPTI: GRAY: TWM: OBLG: NR: REFR: OESX: AR: ONE: STAG: SB - thread num: 5  -  81 / 107\n"
     ]
    },
    {
     "name": "stderr",
     "output_type": "stream",
     "text": [
      "\n",
      "\n",
      "\n",
      "\n",
      "\n",
      "Thread num: 1:  62%|█████████████████████████████████████▋                       | 66/107 [8:11:11<3:58:29, 349.02s/it]\u001b[A\u001b[A\u001b[A\u001b[A\u001b[A"
     ]
    },
    {
     "name": "stdout",
     "output_type": "stream",
     "text": [
      "completed symbols OSS: VHC: FSI: SYRS: STIM: LMNL: CTHR: TDAC: MARPS: SLB: VVOS: MPLN: BLUE: FPAC: EDSA: ORMP: LAND: AMST: ELA: SOAC: PSAC: LWAY: ARDX: UAA: IDXG: BNKD: GTIM: ABR: PSTV: WOOF: GAIN: CCV: CGEN: CARR: CURI: CXDC: TECS: ETCG: PLAG: OTIC: SVAC: ASX: APTS: AKRX: DUDE: TBIO: EGO: GLYC: IO: VIH: FOLD: FAN: VACQ: BYD: CLMT: DSE: IMGN: GLG: USA: MOMO: ALUS: PRVB: AGC: VET: SOHO: CRMD - thread num: 1  -  66 / 107\n"
     ]
    },
    {
     "name": "stderr",
     "output_type": "stream",
     "text": [
      "\n",
      "\n",
      "\n",
      "\n",
      "\n",
      "\n",
      "\n",
      "Thread num: 4:  79%|████████████████████████████████████████████████▍            | 85/107 [8:13:11<1:33:59, 256.34s/it]\u001b[A\u001b[A\u001b[A\u001b[A\u001b[A\u001b[A\u001b[A"
     ]
    },
    {
     "name": "stdout",
     "output_type": "stream",
     "text": [
      "completed symbols CIM: VTSI: BTN: GP: ETTX: RUHN: GLDM: ALDX: EMX: MIND: BMRA: INSE: CHKR: SV: BLMN: QUIK: FPRX: PHCF: TWI: MUFG: JAKK: IPWR: WBAI: MUR: PIRS: CALX: ESTE: CTMX: ZIOP: CIK: CLM: PBCT: PRTS: FTK: SDPI: SRTS: OSMT: FLMN: CVU: CIT: SND: AUPH: FAII: TUSK: SHLDQ: ZCMD: MTL: DAC: XRF: QELL: FBP: ALLY: SGOC: KLXE: PUMP: RMGB: PFIE: UUU: DIV: OPES: ASMB: RQI: LWLG: AENZ: FPAY: RBAC: TACO: DRV: MDXG: ADVM: RYCEY: ONVO: VOLT: LYG: DAN: IAG: QLI: CHEF: EEIQ: LSF: ZNTE: USDP: HTGC: DHY: CYCC - thread num: 4  -  85 / 107\n"
     ]
    },
    {
     "name": "stderr",
     "output_type": "stream",
     "text": [
      "\n",
      "\n",
      "\n",
      "\n",
      "\n",
      "Thread num: 1:  63%|██████████████████████████████████████▏                      | 67/107 [8:14:45<3:25:40, 308.50s/it]\u001b[A\u001b[A\u001b[A\u001b[A\u001b[A"
     ]
    },
    {
     "name": "stdout",
     "output_type": "stream",
     "text": [
      "completed symbols OSS: VHC: FSI: SYRS: STIM: LMNL: CTHR: TDAC: MARPS: SLB: VVOS: MPLN: BLUE: FPAC: EDSA: ORMP: LAND: AMST: ELA: SOAC: PSAC: LWAY: ARDX: UAA: IDXG: BNKD: GTIM: ABR: PSTV: WOOF: GAIN: CCV: CGEN: CARR: CURI: CXDC: TECS: ETCG: PLAG: OTIC: SVAC: ASX: APTS: AKRX: DUDE: TBIO: EGO: GLYC: IO: VIH: FOLD: FAN: VACQ: BYD: CLMT: DSE: IMGN: GLG: USA: MOMO: ALUS: PRVB: AGC: VET: SOHO: CRMD: IEO - thread num: 1  -  67 / 107\n"
     ]
    },
    {
     "name": "stderr",
     "output_type": "stream",
     "text": [
      "\r",
      "Thread num: 2:  67%|█████████████████████████████████████████                    | 72/107 [8:15:22<3:41:58, 380.53s/it]"
     ]
    },
    {
     "name": "stdout",
     "output_type": "stream",
     "text": [
      "completed symbols OMP: APLT: NRO: IMH: THM: WHLM: EBET: VNRX: RLX: LEVI: ASTS: IMMR: DSX: CDE: YI: TRIB: ROCH: HZON: TNK: GNW: MILE: TSIAU: TOUR: ACIU: CLOU: XYF: TPGY: CAKE: CMPS: KALA: KLR: CDTX: ACP: CMMB: HGBL: SALM: STM: OXSQ: FGEN: TCCO: DTIL: CMLF: SMTS: BYRN: LIFE: DHT: EURN: SEAH: STOR: VVNT: RAAS: GEO: CAAS: PBF: HERO: AMCI: FURY: BDR: HBI: TLC: ACER: CURO: LTRPA: FIT: HOL: PERS: PCI: MLHR: ASLN: HIMS: ALAC: VKTX - thread num: 2  -  72 / 107\n"
     ]
    },
    {
     "name": "stderr",
     "output_type": "stream",
     "text": [
      "\n",
      "\n",
      "\n",
      "\n",
      "\n",
      "\n",
      "Thread num: 5:  77%|██████████████████████████████████████████████▋              | 82/107 [8:17:21<3:18:26, 476.27s/it]\u001b[A\u001b[A\u001b[A\u001b[A\u001b[A\u001b[A"
     ]
    },
    {
     "name": "stdout",
     "output_type": "stream",
     "text": [
      "completed symbols QQQJ: CFFA: ACEV: USL: ORGO: BBW: SYBX: ECC: WSTL: CDR: IFRX: TRIL: DMYI: OSW: SMSI: ZDGE: SDIV: VBLT: SOGO: JT: SPNV: IDRA: UNG: MYOS: ALYA: HNRG: ARC: CHMA: MCF: USIO: AVEO: KLDO: INVE: ACTG: AMPG: EDNT: VSTO: NAVB: GNCA: VIOT: SWI: ERJ: EMAN: AWP: SIEB: AHPI: PIPP: RUTH: IGT: ONDK: NKLAW: TCS: III: MDP: TMF: BTAQ: SPWH: SPCX: USAT: CERS: CLNY: MPW: SSL: ENBL: STSA: GOSS: UTSI: AUTL: AGFY: UNFI: KPTI: GRAY: TWM: OBLG: NR: REFR: OESX: AR: ONE: STAG: SB: SRG - thread num: 5  -  82 / 107\n"
     ]
    },
    {
     "name": "stderr",
     "output_type": "stream",
     "text": [
      "\r",
      "Thread num: 2:  68%|█████████████████████████████████████████▌                   | 73/107 [8:19:25<3:12:17, 339.33s/it]"
     ]
    },
    {
     "name": "stdout",
     "output_type": "stream",
     "text": [
      "completed symbols OMP: APLT: NRO: IMH: THM: WHLM: EBET: VNRX: RLX: LEVI: ASTS: IMMR: DSX: CDE: YI: TRIB: ROCH: HZON: TNK: GNW: MILE: TSIAU: TOUR: ACIU: CLOU: XYF: TPGY: CAKE: CMPS: KALA: KLR: CDTX: ACP: CMMB: HGBL: SALM: STM: OXSQ: FGEN: TCCO: DTIL: CMLF: SMTS: BYRN: LIFE: DHT: EURN: SEAH: STOR: VVNT: RAAS: GEO: CAAS: PBF: HERO: AMCI: FURY: BDR: HBI: TLC: ACER: CURO: LTRPA: FIT: HOL: PERS: PCI: MLHR: ASLN: HIMS: ALAC: VKTX: LHDX - thread num: 2  -  73 / 107\n"
     ]
    },
    {
     "name": "stderr",
     "output_type": "stream",
     "text": [
      "\n",
      "\n",
      "\n",
      "\n",
      "\n",
      "\n",
      "Thread num: 5:  78%|███████████████████████████████████████████████▎             | 83/107 [8:20:38<2:36:57, 392.41s/it]\u001b[A\u001b[A\u001b[A\u001b[A\u001b[A\u001b[A"
     ]
    },
    {
     "name": "stdout",
     "output_type": "stream",
     "text": [
      "completed symbols QQQJ: CFFA: ACEV: USL: ORGO: BBW: SYBX: ECC: WSTL: CDR: IFRX: TRIL: DMYI: OSW: SMSI: ZDGE: SDIV: VBLT: SOGO: JT: SPNV: IDRA: UNG: MYOS: ALYA: HNRG: ARC: CHMA: MCF: USIO: AVEO: KLDO: INVE: ACTG: AMPG: EDNT: VSTO: NAVB: GNCA: VIOT: SWI: ERJ: EMAN: AWP: SIEB: AHPI: PIPP: RUTH: IGT: ONDK: NKLAW: TCS: III: MDP: TMF: BTAQ: SPWH: SPCX: USAT: CERS: CLNY: MPW: SSL: ENBL: STSA: GOSS: UTSI: AUTL: AGFY: UNFI: KPTI: GRAY: TWM: OBLG: NR: REFR: OESX: AR: ONE: STAG: SB: SRG: THTX - thread num: 5  -  83 / 107\n"
     ]
    },
    {
     "name": "stderr",
     "output_type": "stream",
     "text": [
      "\n",
      "\n",
      "\n",
      "Thread num: 6:  70%|██████████████████████████████████████████▊                  | 75/107 [8:21:33<5:12:31, 586.00s/it]\u001b[A\u001b[A\u001b[A"
     ]
    },
    {
     "name": "stdout",
     "output_type": "stream",
     "text": [
      "completed symbols FAX: APEN: JUPW: IPI: ENLC: WRTC: RMBL: PHX: KDMN: SSPK: EBR: BKCC: RWT: GSUM: FGPR: MXC: IGXT: GSKY: RTP: MEIP: PUYI: MYT: EXTR: ELVT: VRAY: HAPP: AAAU: PACE: CSPR: WRN: CEF: SBUM: DXYN: VIPS: MCRB: IEC: STIC: HUSN: INMB: GOCO: QHC: PBR: EADSY: AKTS: FEAC: ENSV: AFIN: FLNT: SPFR: CVE: RMM: DRAD: NCMI: NINE: INAQ: NTZ: AJAX: BCS: SUP: USEG: PDS: AMRH: TPR: BKD: ETON: CRDF: VRME: SSNT: CRVS: CLR: BCHG: NTNX: PAVE: LYSDY: ANGI - thread num: 6  -  75 / 107\n"
     ]
    },
    {
     "name": "stderr",
     "output_type": "stream",
     "text": [
      "\n",
      "\n",
      "\n",
      "\n",
      "\n",
      "\n",
      "\n",
      "Thread num: 4:  80%|█████████████████████████████████████████████████            | 86/107 [8:21:37<1:55:53, 331.11s/it]\u001b[A\u001b[A\u001b[A\u001b[A\u001b[A\u001b[A\u001b[A"
     ]
    },
    {
     "name": "stdout",
     "output_type": "stream",
     "text": [
      "completed symbols CIM: VTSI: BTN: GP: ETTX: RUHN: GLDM: ALDX: EMX: MIND: BMRA: INSE: CHKR: SV: BLMN: QUIK: FPRX: PHCF: TWI: MUFG: JAKK: IPWR: WBAI: MUR: PIRS: CALX: ESTE: CTMX: ZIOP: CIK: CLM: PBCT: PRTS: FTK: SDPI: SRTS: OSMT: FLMN: CVU: CIT: SND: AUPH: FAII: TUSK: SHLDQ: ZCMD: MTL: DAC: XRF: QELL: FBP: ALLY: SGOC: KLXE: PUMP: RMGB: PFIE: UUU: DIV: OPES: ASMB: RQI: LWLG: AENZ: FPAY: RBAC: TACO: DRV: MDXG: ADVM: RYCEY: ONVO: VOLT: LYG: DAN: IAG: QLI: CHEF: EEIQ: LSF: ZNTE: USDP: HTGC: DHY: CYCC: ONCT - thread num: 4  -  86 / 107\n"
     ]
    },
    {
     "name": "stderr",
     "output_type": "stream",
     "text": [
      "\n",
      "\n",
      "\n",
      "\n",
      "\n",
      "Thread num: 1:  64%|██████████████████████████████████████▊                      | 68/107 [8:22:08<3:46:50, 348.98s/it]\u001b[A\u001b[A\u001b[A\u001b[A\u001b[A"
     ]
    },
    {
     "name": "stdout",
     "output_type": "stream",
     "text": [
      "completed symbols OSS: VHC: FSI: SYRS: STIM: LMNL: CTHR: TDAC: MARPS: SLB: VVOS: MPLN: BLUE: FPAC: EDSA: ORMP: LAND: AMST: ELA: SOAC: PSAC: LWAY: ARDX: UAA: IDXG: BNKD: GTIM: ABR: PSTV: WOOF: GAIN: CCV: CGEN: CARR: CURI: CXDC: TECS: ETCG: PLAG: OTIC: SVAC: ASX: APTS: AKRX: DUDE: TBIO: EGO: GLYC: IO: VIH: FOLD: FAN: VACQ: BYD: CLMT: DSE: IMGN: GLG: USA: MOMO: ALUS: PRVB: AGC: VET: SOHO: CRMD: IEO: EOLS - thread num: 1  -  68 / 107\n"
     ]
    },
    {
     "name": "stderr",
     "output_type": "stream",
     "text": [
      "\n",
      "\n",
      "\n",
      "\n",
      "\n",
      "Thread num: 1:  64%|███████████████████████████████████████▎                     | 69/107 [8:24:24<3:00:29, 284.98s/it]\u001b[A\u001b[A\u001b[A\u001b[A\u001b[A"
     ]
    },
    {
     "name": "stdout",
     "output_type": "stream",
     "text": [
      "completed symbols OSS: VHC: FSI: SYRS: STIM: LMNL: CTHR: TDAC: MARPS: SLB: VVOS: MPLN: BLUE: FPAC: EDSA: ORMP: LAND: AMST: ELA: SOAC: PSAC: LWAY: ARDX: UAA: IDXG: BNKD: GTIM: ABR: PSTV: WOOF: GAIN: CCV: CGEN: CARR: CURI: CXDC: TECS: ETCG: PLAG: OTIC: SVAC: ASX: APTS: AKRX: DUDE: TBIO: EGO: GLYC: IO: VIH: FOLD: FAN: VACQ: BYD: CLMT: DSE: IMGN: GLG: USA: MOMO: ALUS: PRVB: AGC: VET: SOHO: CRMD: IEO: EOLS: ITCB - thread num: 1  -  69 / 107\n"
     ]
    },
    {
     "name": "stderr",
     "output_type": "stream",
     "text": [
      "\n",
      "\n",
      "\n",
      "\n",
      "\n",
      "\n",
      "\n",
      "Thread num: 4:  81%|█████████████████████████████████████████████████▌           | 87/107 [8:24:59<1:37:26, 292.31s/it]\u001b[A\u001b[A\u001b[A\u001b[A\u001b[A\u001b[A\u001b[A"
     ]
    },
    {
     "name": "stdout",
     "output_type": "stream",
     "text": [
      "completed symbols CIM: VTSI: BTN: GP: ETTX: RUHN: GLDM: ALDX: EMX: MIND: BMRA: INSE: CHKR: SV: BLMN: QUIK: FPRX: PHCF: TWI: MUFG: JAKK: IPWR: WBAI: MUR: PIRS: CALX: ESTE: CTMX: ZIOP: CIK: CLM: PBCT: PRTS: FTK: SDPI: SRTS: OSMT: FLMN: CVU: CIT: SND: AUPH: FAII: TUSK: SHLDQ: ZCMD: MTL: DAC: XRF: QELL: FBP: ALLY: SGOC: KLXE: PUMP: RMGB: PFIE: UUU: DIV: OPES: ASMB: RQI: LWLG: AENZ: FPAY: RBAC: TACO: DRV: MDXG: ADVM: RYCEY: ONVO: VOLT: LYG: DAN: IAG: QLI: CHEF: EEIQ: LSF: ZNTE: USDP: HTGC: DHY: CYCC: ONCT: KZIA - thread num: 4  -  87 / 107\n"
     ]
    },
    {
     "name": "stderr",
     "output_type": "stream",
     "text": [
      "\n",
      "\n",
      "\n",
      "Thread num: 6:  71%|███████████████████████████████████████████▎                 | 76/107 [8:25:18<4:06:44, 477.57s/it]\u001b[A\u001b[A\u001b[A"
     ]
    },
    {
     "name": "stdout",
     "output_type": "stream",
     "text": [
      "completed symbols FAX: APEN: JUPW: IPI: ENLC: WRTC: RMBL: PHX: KDMN: SSPK: EBR: BKCC: RWT: GSUM: FGPR: MXC: IGXT: GSKY: RTP: MEIP: PUYI: MYT: EXTR: ELVT: VRAY: HAPP: AAAU: PACE: CSPR: WRN: CEF: SBUM: DXYN: VIPS: MCRB: IEC: STIC: HUSN: INMB: GOCO: QHC: PBR: EADSY: AKTS: FEAC: ENSV: AFIN: FLNT: SPFR: CVE: RMM: DRAD: NCMI: NINE: INAQ: NTZ: AJAX: BCS: SUP: USEG: PDS: AMRH: TPR: BKD: ETON: CRDF: VRME: SSNT: CRVS: CLR: BCHG: NTNX: PAVE: LYSDY: ANGI: CRF - thread num: 6  -  76 / 107\n"
     ]
    },
    {
     "name": "stderr",
     "output_type": "stream",
     "text": [
      "\n",
      "Thread num: 3:  63%|██████████████████████████████████████▏                      | 67/107 [8:25:32<6:02:37, 543.93s/it]\u001b[A"
     ]
    },
    {
     "name": "stdout",
     "output_type": "stream",
     "text": [
      "completed symbols AACQ: CTK: SVC: EGAN: PSTI: SAEXQ: EB: ATEN: CDXC: PVL: SILV: SILJ: NRBO: CARA: RTLR: CXW: FRO: EAST: PING: JPST: EQT: IDN: KBSF: FCAU: CLDX: TRNE: NBL: MAIN: ELY: PRCP: BRN: HJLI: DENN: RSI: IHT: TRQ: KIN: UUP: AMS: PSXP: TGEN: PMM: OII: DXD: AEY: OMI: TMQ: ZUO: MMLP: EGLE: CPG: NEW: XLF: PCRFY: USAS: SREV: MCEP: IHRT: P055094: ONDSD: DTEA: PDAC: AGS: ICLK: USX: FIVG: WEN - thread num: 3  -  67 / 107\n"
     ]
    },
    {
     "name": "stderr",
     "output_type": "stream",
     "text": [
      "\n",
      "\n",
      "\n",
      "\n",
      "\n",
      "\n",
      "Thread num: 5:  79%|███████████████████████████████████████████████▉             | 84/107 [8:25:47<2:20:55, 367.65s/it]\u001b[A\u001b[A\u001b[A\u001b[A\u001b[A\u001b[A"
     ]
    },
    {
     "name": "stdout",
     "output_type": "stream",
     "text": [
      "completed symbols QQQJ: CFFA: ACEV: USL: ORGO: BBW: SYBX: ECC: WSTL: CDR: IFRX: TRIL: DMYI: OSW: SMSI: ZDGE: SDIV: VBLT: SOGO: JT: SPNV: IDRA: UNG: MYOS: ALYA: HNRG: ARC: CHMA: MCF: USIO: AVEO: KLDO: INVE: ACTG: AMPG: EDNT: VSTO: NAVB: GNCA: VIOT: SWI: ERJ: EMAN: AWP: SIEB: AHPI: PIPP: RUTH: IGT: ONDK: NKLAW: TCS: III: MDP: TMF: BTAQ: SPWH: SPCX: USAT: CERS: CLNY: MPW: SSL: ENBL: STSA: GOSS: UTSI: AUTL: AGFY: UNFI: KPTI: GRAY: TWM: OBLG: NR: REFR: OESX: AR: ONE: STAG: SB: SRG: THTX: FTOC - thread num: 5  -  84 / 107\n"
     ]
    },
    {
     "name": "stderr",
     "output_type": "stream",
     "text": [
      "\n",
      "\n",
      "\n"
     ]
    },
    {
     "name": "stdout",
     "output_type": "stream",
     "text": [
      "completed symbols FAX: APEN: JUPW: IPI: ENLC: WRTC: RMBL: PHX: KDMN: SSPK: EBR: BKCC: RWT: GSUM: FGPR: MXC: IGXT: GSKY: RTP: MEIP: PUYI: MYT: EXTR: ELVT: VRAY: HAPP: AAAU: PACE: CSPR: WRN: CEF: SBUM: DXYN: VIPS: MCRB: IEC: STIC: HUSN: INMB: GOCO: QHC: PBR: EADSY: AKTS: FEAC: ENSV: AFIN: FLNT: SPFR: CVE: RMM: DRAD: NCMI: NINE: INAQ: NTZ: AJAX: BCS: SUP: USEG: PDS: AMRH: TPR: BKD: ETON: CRDF: VRME: SSNT: CRVS: CLR: BCHG: NTNX: PAVE: LYSDY: ANGI: CRF: SBBP - thread num: 6  -  77 / 107\n"
     ]
    },
    {
     "name": "stderr",
     "output_type": "stream",
     "text": [
      "Thread num: 6:  72%|███████████████████████████████████████████▉                 | 77/107 [8:30:32<3:34:15, 428.51s/it]\u001b[A\u001b[A\u001b[A\n",
      "\n",
      "\n",
      "\n",
      "\n",
      "Thread num: 1:  65%|███████████████████████████████████████▉                     | 70/107 [8:30:37<3:12:05, 311.49s/it]\u001b[A\u001b[A\u001b[A\u001b[A\u001b[A"
     ]
    },
    {
     "name": "stdout",
     "output_type": "stream",
     "text": [
      "completed symbols OSS: VHC: FSI: SYRS: STIM: LMNL: CTHR: TDAC: MARPS: SLB: VVOS: MPLN: BLUE: FPAC: EDSA: ORMP: LAND: AMST: ELA: SOAC: PSAC: LWAY: ARDX: UAA: IDXG: BNKD: GTIM: ABR: PSTV: WOOF: GAIN: CCV: CGEN: CARR: CURI: CXDC: TECS: ETCG: PLAG: OTIC: SVAC: ASX: APTS: AKRX: DUDE: TBIO: EGO: GLYC: IO: VIH: FOLD: FAN: VACQ: BYD: CLMT: DSE: IMGN: GLG: USA: MOMO: ALUS: PRVB: AGC: VET: SOHO: CRMD: IEO: EOLS: ITCB: PRCH - thread num: 1  -  70 / 107\n"
     ]
    },
    {
     "name": "stderr",
     "output_type": "stream",
     "text": [
      "\n",
      "\n",
      "\n",
      "\n",
      "\n",
      "\n",
      "Thread num: 5:  79%|████████████████████████████████████████████████▍            | 85/107 [8:31:22<2:11:06, 357.57s/it]\u001b[A\u001b[A\u001b[A\u001b[A\u001b[A\u001b[A"
     ]
    },
    {
     "name": "stdout",
     "output_type": "stream",
     "text": [
      "completed symbols QQQJ: CFFA: ACEV: USL: ORGO: BBW: SYBX: ECC: WSTL: CDR: IFRX: TRIL: DMYI: OSW: SMSI: ZDGE: SDIV: VBLT: SOGO: JT: SPNV: IDRA: UNG: MYOS: ALYA: HNRG: ARC: CHMA: MCF: USIO: AVEO: KLDO: INVE: ACTG: AMPG: EDNT: VSTO: NAVB: GNCA: VIOT: SWI: ERJ: EMAN: AWP: SIEB: AHPI: PIPP: RUTH: IGT: ONDK: NKLAW: TCS: III: MDP: TMF: BTAQ: SPWH: SPCX: USAT: CERS: CLNY: MPW: SSL: ENBL: STSA: GOSS: UTSI: AUTL: AGFY: UNFI: KPTI: GRAY: TWM: OBLG: NR: REFR: OESX: AR: ONE: STAG: SB: SRG: THTX: FTOC: WPF - thread num: 5  -  85 / 107\n"
     ]
    },
    {
     "name": "stderr",
     "output_type": "stream",
     "text": [
      "\n",
      "\n",
      "\n",
      "Thread num: 6:  73%|████████████████████████████████████████████▍                | 78/107 [8:33:10<2:47:53, 347.36s/it]\u001b[A\u001b[A\u001b[A"
     ]
    },
    {
     "name": "stdout",
     "output_type": "stream",
     "text": [
      "completed symbols FAX: APEN: JUPW: IPI: ENLC: WRTC: RMBL: PHX: KDMN: SSPK: EBR: BKCC: RWT: GSUM: FGPR: MXC: IGXT: GSKY: RTP: MEIP: PUYI: MYT: EXTR: ELVT: VRAY: HAPP: AAAU: PACE: CSPR: WRN: CEF: SBUM: DXYN: VIPS: MCRB: IEC: STIC: HUSN: INMB: GOCO: QHC: PBR: EADSY: AKTS: FEAC: ENSV: AFIN: FLNT: SPFR: CVE: RMM: DRAD: NCMI: NINE: INAQ: NTZ: AJAX: BCS: SUP: USEG: PDS: AMRH: TPR: BKD: ETON: CRDF: VRME: SSNT: CRVS: CLR: BCHG: NTNX: PAVE: LYSDY: ANGI: CRF: SBBP: PTI - thread num: 6  -  78 / 107\n"
     ]
    },
    {
     "name": "stderr",
     "output_type": "stream",
     "text": [
      "\n",
      "\n",
      "\n",
      "\n",
      "\n",
      "\n",
      "Thread num: 5:  80%|█████████████████████████████████████████████████            | 86/107 [8:34:48<1:49:15, 312.16s/it]\u001b[A\u001b[A\u001b[A\u001b[A\u001b[A\u001b[A"
     ]
    },
    {
     "name": "stdout",
     "output_type": "stream",
     "text": [
      "completed symbols QQQJ: CFFA: ACEV: USL: ORGO: BBW: SYBX: ECC: WSTL: CDR: IFRX: TRIL: DMYI: OSW: SMSI: ZDGE: SDIV: VBLT: SOGO: JT: SPNV: IDRA: UNG: MYOS: ALYA: HNRG: ARC: CHMA: MCF: USIO: AVEO: KLDO: INVE: ACTG: AMPG: EDNT: VSTO: NAVB: GNCA: VIOT: SWI: ERJ: EMAN: AWP: SIEB: AHPI: PIPP: RUTH: IGT: ONDK: NKLAW: TCS: III: MDP: TMF: BTAQ: SPWH: SPCX: USAT: CERS: CLNY: MPW: SSL: ENBL: STSA: GOSS: UTSI: AUTL: AGFY: UNFI: KPTI: GRAY: TWM: OBLG: NR: REFR: OESX: AR: ONE: STAG: SB: SRG: THTX: FTOC: WPF: CPST - thread num: 5  -  86 / 107\n"
     ]
    },
    {
     "name": "stderr",
     "output_type": "stream",
     "text": [
      "\n",
      "\n",
      "\n",
      "\n",
      "\n",
      "Thread num: 1:  66%|████████████████████████████████████████▍                    | 71/107 [8:35:52<3:07:32, 312.56s/it]\u001b[A\u001b[A\u001b[A\u001b[A\u001b[A"
     ]
    },
    {
     "name": "stdout",
     "output_type": "stream",
     "text": [
      "completed symbols OSS: VHC: FSI: SYRS: STIM: LMNL: CTHR: TDAC: MARPS: SLB: VVOS: MPLN: BLUE: FPAC: EDSA: ORMP: LAND: AMST: ELA: SOAC: PSAC: LWAY: ARDX: UAA: IDXG: BNKD: GTIM: ABR: PSTV: WOOF: GAIN: CCV: CGEN: CARR: CURI: CXDC: TECS: ETCG: PLAG: OTIC: SVAC: ASX: APTS: AKRX: DUDE: TBIO: EGO: GLYC: IO: VIH: FOLD: FAN: VACQ: BYD: CLMT: DSE: IMGN: GLG: USA: MOMO: ALUS: PRVB: AGC: VET: SOHO: CRMD: IEO: EOLS: ITCB: PRCH: HYRE - thread num: 1  -  71 / 107\n"
     ]
    },
    {
     "name": "stderr",
     "output_type": "stream",
     "text": [
      "\n",
      "\n",
      "\n",
      "\n",
      "\n",
      "\n",
      "Thread num: 5:  81%|█████████████████████████████████████████████████▌           | 87/107 [8:37:11<1:27:12, 261.64s/it]\u001b[A\u001b[A\u001b[A\u001b[A\u001b[A\u001b[A"
     ]
    },
    {
     "name": "stdout",
     "output_type": "stream",
     "text": [
      "completed symbols QQQJ: CFFA: ACEV: USL: ORGO: BBW: SYBX: ECC: WSTL: CDR: IFRX: TRIL: DMYI: OSW: SMSI: ZDGE: SDIV: VBLT: SOGO: JT: SPNV: IDRA: UNG: MYOS: ALYA: HNRG: ARC: CHMA: MCF: USIO: AVEO: KLDO: INVE: ACTG: AMPG: EDNT: VSTO: NAVB: GNCA: VIOT: SWI: ERJ: EMAN: AWP: SIEB: AHPI: PIPP: RUTH: IGT: ONDK: NKLAW: TCS: III: MDP: TMF: BTAQ: SPWH: SPCX: USAT: CERS: CLNY: MPW: SSL: ENBL: STSA: GOSS: UTSI: AUTL: AGFY: UNFI: KPTI: GRAY: TWM: OBLG: NR: REFR: OESX: AR: ONE: STAG: SB: SRG: THTX: FTOC: WPF: CPST: LGVN - thread num: 5  -  87 / 107\n"
     ]
    },
    {
     "name": "stderr",
     "output_type": "stream",
     "text": [
      "\n",
      "\n",
      "\n",
      "Thread num: 6:  74%|█████████████████████████████████████████████                | 79/107 [8:38:06<2:34:54, 331.94s/it]\u001b[A\u001b[A\u001b[A"
     ]
    },
    {
     "name": "stdout",
     "output_type": "stream",
     "text": [
      "completed symbols FAX: APEN: JUPW: IPI: ENLC: WRTC: RMBL: PHX: KDMN: SSPK: EBR: BKCC: RWT: GSUM: FGPR: MXC: IGXT: GSKY: RTP: MEIP: PUYI: MYT: EXTR: ELVT: VRAY: HAPP: AAAU: PACE: CSPR: WRN: CEF: SBUM: DXYN: VIPS: MCRB: IEC: STIC: HUSN: INMB: GOCO: QHC: PBR: EADSY: AKTS: FEAC: ENSV: AFIN: FLNT: SPFR: CVE: RMM: DRAD: NCMI: NINE: INAQ: NTZ: AJAX: BCS: SUP: USEG: PDS: AMRH: TPR: BKD: ETON: CRDF: VRME: SSNT: CRVS: CLR: BCHG: NTNX: PAVE: LYSDY: ANGI: CRF: SBBP: PTI: ACRE - thread num: 6  -  79 / 107\n"
     ]
    },
    {
     "name": "stderr",
     "output_type": "stream",
     "text": [
      "\n",
      "\n",
      "\n",
      "Thread num: 6:  75%|█████████████████████████████████████████████▌               | 80/107 [8:40:43<2:05:48, 279.59s/it]\u001b[A\u001b[A\u001b[A"
     ]
    },
    {
     "name": "stdout",
     "output_type": "stream",
     "text": [
      "completed symbols FAX: APEN: JUPW: IPI: ENLC: WRTC: RMBL: PHX: KDMN: SSPK: EBR: BKCC: RWT: GSUM: FGPR: MXC: IGXT: GSKY: RTP: MEIP: PUYI: MYT: EXTR: ELVT: VRAY: HAPP: AAAU: PACE: CSPR: WRN: CEF: SBUM: DXYN: VIPS: MCRB: IEC: STIC: HUSN: INMB: GOCO: QHC: PBR: EADSY: AKTS: FEAC: ENSV: AFIN: FLNT: SPFR: CVE: RMM: DRAD: NCMI: NINE: INAQ: NTZ: AJAX: BCS: SUP: USEG: PDS: AMRH: TPR: BKD: ETON: CRDF: VRME: SSNT: CRVS: CLR: BCHG: NTNX: PAVE: LYSDY: ANGI: CRF: SBBP: PTI: ACRE: GVP - thread num: 6  -  80 / 107\n"
     ]
    },
    {
     "name": "stderr",
     "output_type": "stream",
     "text": [
      "\n",
      "\n",
      "\n",
      "\n",
      "\n",
      "\n",
      "Thread num: 5:  82%|██████████████████████████████████████████████████▏          | 88/107 [8:43:30<1:34:00, 296.86s/it]\u001b[A\u001b[A\u001b[A\u001b[A\u001b[A\u001b[A"
     ]
    },
    {
     "name": "stdout",
     "output_type": "stream",
     "text": [
      "completed symbols QQQJ: CFFA: ACEV: USL: ORGO: BBW: SYBX: ECC: WSTL: CDR: IFRX: TRIL: DMYI: OSW: SMSI: ZDGE: SDIV: VBLT: SOGO: JT: SPNV: IDRA: UNG: MYOS: ALYA: HNRG: ARC: CHMA: MCF: USIO: AVEO: KLDO: INVE: ACTG: AMPG: EDNT: VSTO: NAVB: GNCA: VIOT: SWI: ERJ: EMAN: AWP: SIEB: AHPI: PIPP: RUTH: IGT: ONDK: NKLAW: TCS: III: MDP: TMF: BTAQ: SPWH: SPCX: USAT: CERS: CLNY: MPW: SSL: ENBL: STSA: GOSS: UTSI: AUTL: AGFY: UNFI: KPTI: GRAY: TWM: OBLG: NR: REFR: OESX: AR: ONE: STAG: SB: SRG: THTX: FTOC: WPF: CPST: LGVN: CALA - thread num: 5  -  88 / 107\n"
     ]
    },
    {
     "name": "stderr",
     "output_type": "stream",
     "text": [
      "\n",
      "\n",
      "\n",
      "\n",
      "\n",
      "\n",
      "Thread num: 5:  83%|██████████████████████████████████████████████████▋          | 89/107 [8:44:34<1:08:05, 226.96s/it]\u001b[A\u001b[A\u001b[A\u001b[A\u001b[A\u001b[A"
     ]
    },
    {
     "name": "stdout",
     "output_type": "stream",
     "text": [
      "completed symbols QQQJ: CFFA: ACEV: USL: ORGO: BBW: SYBX: ECC: WSTL: CDR: IFRX: TRIL: DMYI: OSW: SMSI: ZDGE: SDIV: VBLT: SOGO: JT: SPNV: IDRA: UNG: MYOS: ALYA: HNRG: ARC: CHMA: MCF: USIO: AVEO: KLDO: INVE: ACTG: AMPG: EDNT: VSTO: NAVB: GNCA: VIOT: SWI: ERJ: EMAN: AWP: SIEB: AHPI: PIPP: RUTH: IGT: ONDK: NKLAW: TCS: III: MDP: TMF: BTAQ: SPWH: SPCX: USAT: CERS: CLNY: MPW: SSL: ENBL: STSA: GOSS: UTSI: AUTL: AGFY: UNFI: KPTI: GRAY: TWM: OBLG: NR: REFR: OESX: AR: ONE: STAG: SB: SRG: THTX: FTOC: WPF: CPST: LGVN: CALA: GTXMQ - thread num: 5  -  89 / 107\n"
     ]
    },
    {
     "name": "stderr",
     "output_type": "stream",
     "text": [
      "\n",
      "\n",
      "\n",
      "\n",
      "\n",
      "\n",
      "Thread num: 5:  84%|████████████████████████████████████████████████████▉          | 90/107 [8:45:43<50:51, 179.51s/it]"
     ]
    },
    {
     "name": "stdout",
     "output_type": "stream",
     "text": [
      "completed symbols QQQJ: CFFA: ACEV: USL: ORGO: BBW: SYBX: ECC: WSTL: CDR: IFRX: TRIL: DMYI: OSW: SMSI: ZDGE: SDIV: VBLT: SOGO: JT: SPNV: IDRA: UNG: MYOS: ALYA: HNRG: ARC: CHMA: MCF: USIO: AVEO: KLDO: INVE: ACTG: AMPG: EDNT: VSTO: NAVB: GNCA: VIOT: SWI: ERJ: EMAN: AWP: SIEB: AHPI: PIPP: RUTH: IGT: ONDK: NKLAW: TCS: III: MDP: TMF: BTAQ: SPWH: SPCX: USAT: CERS: CLNY: MPW: SSL: ENBL: STSA: GOSS: UTSI: AUTL: AGFY: UNFI: KPTI: GRAY: TWM: OBLG: NR: REFR: OESX: AR: ONE: STAG: SB: SRG: THTX: FTOC: WPF: CPST: LGVN: CALA: GTXMQ: BIIO - thread num: 5  -  90 / 107\n"
     ]
    },
    {
     "name": "stderr",
     "output_type": "stream",
     "text": [
      "\u001b[A\u001b[A\u001b[A\u001b[A\u001b[A\u001b[A\n",
      "\n",
      "\n",
      "\n",
      "\n",
      "Thread num: 1:  67%|█████████████████████████████████████████                    | 72/107 [8:48:28<4:19:49, 445.41s/it]\u001b[A\u001b[A\u001b[A\u001b[A\u001b[A"
     ]
    },
    {
     "name": "stdout",
     "output_type": "stream",
     "text": [
      "completed symbols OSS: VHC: FSI: SYRS: STIM: LMNL: CTHR: TDAC: MARPS: SLB: VVOS: MPLN: BLUE: FPAC: EDSA: ORMP: LAND: AMST: ELA: SOAC: PSAC: LWAY: ARDX: UAA: IDXG: BNKD: GTIM: ABR: PSTV: WOOF: GAIN: CCV: CGEN: CARR: CURI: CXDC: TECS: ETCG: PLAG: OTIC: SVAC: ASX: APTS: AKRX: DUDE: TBIO: EGO: GLYC: IO: VIH: FOLD: FAN: VACQ: BYD: CLMT: DSE: IMGN: GLG: USA: MOMO: ALUS: PRVB: AGC: VET: SOHO: CRMD: IEO: EOLS: ITCB: PRCH: HYRE: FOSL - thread num: 1  -  72 / 107\n"
     ]
    },
    {
     "name": "stderr",
     "output_type": "stream",
     "text": [
      "\n",
      "\n",
      "\n",
      "\n",
      "\n",
      "\n",
      "Thread num: 5:  85%|█████████████████████████████████████████████████████▌         | 91/107 [8:50:30<56:25, 211.58s/it]\u001b[A\u001b[A\u001b[A\u001b[A\u001b[A\u001b[A"
     ]
    },
    {
     "name": "stdout",
     "output_type": "stream",
     "text": [
      "completed symbols QQQJ: CFFA: ACEV: USL: ORGO: BBW: SYBX: ECC: WSTL: CDR: IFRX: TRIL: DMYI: OSW: SMSI: ZDGE: SDIV: VBLT: SOGO: JT: SPNV: IDRA: UNG: MYOS: ALYA: HNRG: ARC: CHMA: MCF: USIO: AVEO: KLDO: INVE: ACTG: AMPG: EDNT: VSTO: NAVB: GNCA: VIOT: SWI: ERJ: EMAN: AWP: SIEB: AHPI: PIPP: RUTH: IGT: ONDK: NKLAW: TCS: III: MDP: TMF: BTAQ: SPWH: SPCX: USAT: CERS: CLNY: MPW: SSL: ENBL: STSA: GOSS: UTSI: AUTL: AGFY: UNFI: KPTI: GRAY: TWM: OBLG: NR: REFR: OESX: AR: ONE: STAG: SB: SRG: THTX: FTOC: WPF: CPST: LGVN: CALA: GTXMQ: BIIO: GALT - thread num: 5  -  91 / 107\n"
     ]
    },
    {
     "name": "stderr",
     "output_type": "stream",
     "text": [
      "\r",
      "Thread num: 2:  69%|██████████████████████████████████████████▏                  | 74/107 [8:50:56<7:22:38, 804.80s/it]"
     ]
    },
    {
     "name": "stdout",
     "output_type": "stream",
     "text": [
      "completed symbols OMP: APLT: NRO: IMH: THM: WHLM: EBET: VNRX: RLX: LEVI: ASTS: IMMR: DSX: CDE: YI: TRIB: ROCH: HZON: TNK: GNW: MILE: TSIAU: TOUR: ACIU: CLOU: XYF: TPGY: CAKE: CMPS: KALA: KLR: CDTX: ACP: CMMB: HGBL: SALM: STM: OXSQ: FGEN: TCCO: DTIL: CMLF: SMTS: BYRN: LIFE: DHT: EURN: SEAH: STOR: VVNT: RAAS: GEO: CAAS: PBF: HERO: AMCI: FURY: BDR: HBI: TLC: ACER: CURO: LTRPA: FIT: HOL: PERS: PCI: MLHR: ASLN: HIMS: ALAC: VKTX: LHDX: SU - thread num: 2  -  74 / 107\n"
     ]
    },
    {
     "name": "stderr",
     "output_type": "stream",
     "text": [
      "\n",
      "\n",
      "\n",
      "\n",
      "\n",
      "\n",
      "Thread num: 5:  86%|██████████████████████████████████████████████████████▏        | 92/107 [8:52:28<45:52, 183.53s/it]\u001b[A\u001b[A\u001b[A\u001b[A\u001b[A\u001b[A"
     ]
    },
    {
     "name": "stdout",
     "output_type": "stream",
     "text": [
      "completed symbols QQQJ: CFFA: ACEV: USL: ORGO: BBW: SYBX: ECC: WSTL: CDR: IFRX: TRIL: DMYI: OSW: SMSI: ZDGE: SDIV: VBLT: SOGO: JT: SPNV: IDRA: UNG: MYOS: ALYA: HNRG: ARC: CHMA: MCF: USIO: AVEO: KLDO: INVE: ACTG: AMPG: EDNT: VSTO: NAVB: GNCA: VIOT: SWI: ERJ: EMAN: AWP: SIEB: AHPI: PIPP: RUTH: IGT: ONDK: NKLAW: TCS: III: MDP: TMF: BTAQ: SPWH: SPCX: USAT: CERS: CLNY: MPW: SSL: ENBL: STSA: GOSS: UTSI: AUTL: AGFY: UNFI: KPTI: GRAY: TWM: OBLG: NR: REFR: OESX: AR: ONE: STAG: SB: SRG: THTX: FTOC: WPF: CPST: LGVN: CALA: GTXMQ: BIIO: GALT: QDIV - thread num: 5  -  92 / 107\n"
     ]
    },
    {
     "name": "stderr",
     "output_type": "stream",
     "text": [
      "\n",
      "Thread num: 3:  64%|██████████████████████████████████████▊                      | 68/107 [8:52:37<9:24:25, 868.35s/it]\u001b[A"
     ]
    },
    {
     "name": "stdout",
     "output_type": "stream",
     "text": [
      "completed symbols AACQ: CTK: SVC: EGAN: PSTI: SAEXQ: EB: ATEN: CDXC: PVL: SILV: SILJ: NRBO: CARA: RTLR: CXW: FRO: EAST: PING: JPST: EQT: IDN: KBSF: FCAU: CLDX: TRNE: NBL: MAIN: ELY: PRCP: BRN: HJLI: DENN: RSI: IHT: TRQ: KIN: UUP: AMS: PSXP: TGEN: PMM: OII: DXD: AEY: OMI: TMQ: ZUO: MMLP: EGLE: CPG: NEW: XLF: PCRFY: USAS: SREV: MCEP: IHRT: P055094: ONDSD: DTEA: PDAC: AGS: ICLK: USX: FIVG: WEN: FHN - thread num: 3  -  68 / 107\n"
     ]
    },
    {
     "name": "stderr",
     "output_type": "stream",
     "text": [
      "\n",
      "\n",
      "\n",
      "\n",
      "\n",
      "\n",
      "\n",
      "Thread num: 4:  82%|██████████████████████████████████████████████████▏          | 88/107 [8:55:58<4:01:27, 762.51s/it]\u001b[A\u001b[A\u001b[A\u001b[A\u001b[A\u001b[A\u001b[A"
     ]
    },
    {
     "name": "stdout",
     "output_type": "stream",
     "text": [
      "completed symbols CIM: VTSI: BTN: GP: ETTX: RUHN: GLDM: ALDX: EMX: MIND: BMRA: INSE: CHKR: SV: BLMN: QUIK: FPRX: PHCF: TWI: MUFG: JAKK: IPWR: WBAI: MUR: PIRS: CALX: ESTE: CTMX: ZIOP: CIK: CLM: PBCT: PRTS: FTK: SDPI: SRTS: OSMT: FLMN: CVU: CIT: SND: AUPH: FAII: TUSK: SHLDQ: ZCMD: MTL: DAC: XRF: QELL: FBP: ALLY: SGOC: KLXE: PUMP: RMGB: PFIE: UUU: DIV: OPES: ASMB: RQI: LWLG: AENZ: FPAY: RBAC: TACO: DRV: MDXG: ADVM: RYCEY: ONVO: VOLT: LYG: DAN: IAG: QLI: CHEF: EEIQ: LSF: ZNTE: USDP: HTGC: DHY: CYCC: ONCT: KZIA: NLOK - thread num: 4  -  88 / 107\n"
     ]
    },
    {
     "name": "stderr",
     "output_type": "stream",
     "text": [
      "\n",
      "\n",
      "\n",
      "\n",
      "\n",
      "Thread num: 1:  68%|█████████████████████████████████████████▌                   | 73/107 [8:57:33<4:29:23, 475.39s/it]\u001b[A\u001b[A\u001b[A\u001b[A\u001b[A"
     ]
    },
    {
     "name": "stdout",
     "output_type": "stream",
     "text": [
      "completed symbols OSS: VHC: FSI: SYRS: STIM: LMNL: CTHR: TDAC: MARPS: SLB: VVOS: MPLN: BLUE: FPAC: EDSA: ORMP: LAND: AMST: ELA: SOAC: PSAC: LWAY: ARDX: UAA: IDXG: BNKD: GTIM: ABR: PSTV: WOOF: GAIN: CCV: CGEN: CARR: CURI: CXDC: TECS: ETCG: PLAG: OTIC: SVAC: ASX: APTS: AKRX: DUDE: TBIO: EGO: GLYC: IO: VIH: FOLD: FAN: VACQ: BYD: CLMT: DSE: IMGN: GLG: USA: MOMO: ALUS: PRVB: AGC: VET: SOHO: CRMD: IEO: EOLS: ITCB: PRCH: HYRE: FOSL: ORC - thread num: 1  -  73 / 107\n"
     ]
    },
    {
     "name": "stderr",
     "output_type": "stream",
     "text": [
      "\n",
      "Thread num: 3:  64%|███████████████████████████████████████▎                     | 69/107 [8:59:17<7:40:58, 727.85s/it]\u001b[A"
     ]
    },
    {
     "name": "stdout",
     "output_type": "stream",
     "text": [
      "completed symbols AACQ: CTK: SVC: EGAN: PSTI: SAEXQ: EB: ATEN: CDXC: PVL: SILV: SILJ: NRBO: CARA: RTLR: CXW: FRO: EAST: PING: JPST: EQT: IDN: KBSF: FCAU: CLDX: TRNE: NBL: MAIN: ELY: PRCP: BRN: HJLI: DENN: RSI: IHT: TRQ: KIN: UUP: AMS: PSXP: TGEN: PMM: OII: DXD: AEY: OMI: TMQ: ZUO: MMLP: EGLE: CPG: NEW: XLF: PCRFY: USAS: SREV: MCEP: IHRT: P055094: ONDSD: DTEA: PDAC: AGS: ICLK: USX: FIVG: WEN: FHN: WMC - thread num: 3  -  69 / 107\n"
     ]
    },
    {
     "name": "stderr",
     "output_type": "stream",
     "text": [
      "\n",
      "\n",
      "\n",
      "\n",
      "\n",
      "\n",
      "\n",
      "Thread num: 4:  83%|██████████████████████████████████████████████████▋          | 89/107 [9:02:06<3:13:13, 644.10s/it]\u001b[A\u001b[A\u001b[A\u001b[A\u001b[A\u001b[A\u001b[A"
     ]
    },
    {
     "name": "stdout",
     "output_type": "stream",
     "text": [
      "completed symbols CIM: VTSI: BTN: GP: ETTX: RUHN: GLDM: ALDX: EMX: MIND: BMRA: INSE: CHKR: SV: BLMN: QUIK: FPRX: PHCF: TWI: MUFG: JAKK: IPWR: WBAI: MUR: PIRS: CALX: ESTE: CTMX: ZIOP: CIK: CLM: PBCT: PRTS: FTK: SDPI: SRTS: OSMT: FLMN: CVU: CIT: SND: AUPH: FAII: TUSK: SHLDQ: ZCMD: MTL: DAC: XRF: QELL: FBP: ALLY: SGOC: KLXE: PUMP: RMGB: PFIE: UUU: DIV: OPES: ASMB: RQI: LWLG: AENZ: FPAY: RBAC: TACO: DRV: MDXG: ADVM: RYCEY: ONVO: VOLT: LYG: DAN: IAG: QLI: CHEF: EEIQ: LSF: ZNTE: USDP: HTGC: DHY: CYCC: ONCT: KZIA: NLOK: AXAS - thread num: 4  -  89 / 107\n"
     ]
    },
    {
     "name": "stderr",
     "output_type": "stream",
     "text": [
      "\n",
      "Thread num: 3:  65%|███████████████████████████████████████▉                     | 70/107 [9:04:49<6:15:37, 609.12s/it]\u001b[A"
     ]
    },
    {
     "name": "stdout",
     "output_type": "stream",
     "text": [
      "completed symbols AACQ: CTK: SVC: EGAN: PSTI: SAEXQ: EB: ATEN: CDXC: PVL: SILV: SILJ: NRBO: CARA: RTLR: CXW: FRO: EAST: PING: JPST: EQT: IDN: KBSF: FCAU: CLDX: TRNE: NBL: MAIN: ELY: PRCP: BRN: HJLI: DENN: RSI: IHT: TRQ: KIN: UUP: AMS: PSXP: TGEN: PMM: OII: DXD: AEY: OMI: TMQ: ZUO: MMLP: EGLE: CPG: NEW: XLF: PCRFY: USAS: SREV: MCEP: IHRT: P055094: ONDSD: DTEA: PDAC: AGS: ICLK: USX: FIVG: WEN: FHN: WMC: CERC - thread num: 3  -  70 / 107\n"
     ]
    },
    {
     "name": "stderr",
     "output_type": "stream",
     "text": [
      "\n",
      "\n",
      "\n",
      "\n",
      "\n",
      "\n",
      "Thread num: 5:  87%|█████████████████████████████████████████████████████        | 93/107 [9:06:06<1:27:16, 374.06s/it]\u001b[A\u001b[A\u001b[A\u001b[A\u001b[A\u001b[A"
     ]
    },
    {
     "name": "stdout",
     "output_type": "stream",
     "text": [
      "completed symbols QQQJ: CFFA: ACEV: USL: ORGO: BBW: SYBX: ECC: WSTL: CDR: IFRX: TRIL: DMYI: OSW: SMSI: ZDGE: SDIV: VBLT: SOGO: JT: SPNV: IDRA: UNG: MYOS: ALYA: HNRG: ARC: CHMA: MCF: USIO: AVEO: KLDO: INVE: ACTG: AMPG: EDNT: VSTO: NAVB: GNCA: VIOT: SWI: ERJ: EMAN: AWP: SIEB: AHPI: PIPP: RUTH: IGT: ONDK: NKLAW: TCS: III: MDP: TMF: BTAQ: SPWH: SPCX: USAT: CERS: CLNY: MPW: SSL: ENBL: STSA: GOSS: UTSI: AUTL: AGFY: UNFI: KPTI: GRAY: TWM: OBLG: NR: REFR: OESX: AR: ONE: STAG: SB: SRG: THTX: FTOC: WPF: CPST: LGVN: CALA: GTXMQ: BIIO: GALT: QDIV: SIG - thread num: 5  -  93 / 107\n"
     ]
    },
    {
     "name": "stderr",
     "output_type": "stream",
     "text": [
      "\n",
      "\n",
      "\n",
      "\n",
      "\n",
      "\n",
      "\n",
      "Thread num: 4:  84%|███████████████████████████████████████████████████▎         | 90/107 [9:06:14<2:28:46, 525.10s/it]\u001b[A\u001b[A\u001b[A\u001b[A\u001b[A\u001b[A\u001b[A"
     ]
    },
    {
     "name": "stdout",
     "output_type": "stream",
     "text": [
      "completed symbols CIM: VTSI: BTN: GP: ETTX: RUHN: GLDM: ALDX: EMX: MIND: BMRA: INSE: CHKR: SV: BLMN: QUIK: FPRX: PHCF: TWI: MUFG: JAKK: IPWR: WBAI: MUR: PIRS: CALX: ESTE: CTMX: ZIOP: CIK: CLM: PBCT: PRTS: FTK: SDPI: SRTS: OSMT: FLMN: CVU: CIT: SND: AUPH: FAII: TUSK: SHLDQ: ZCMD: MTL: DAC: XRF: QELL: FBP: ALLY: SGOC: KLXE: PUMP: RMGB: PFIE: UUU: DIV: OPES: ASMB: RQI: LWLG: AENZ: FPAY: RBAC: TACO: DRV: MDXG: ADVM: RYCEY: ONVO: VOLT: LYG: DAN: IAG: QLI: CHEF: EEIQ: LSF: ZNTE: USDP: HTGC: DHY: CYCC: ONCT: KZIA: NLOK: AXAS: ISNS - thread num: 4  -  90 / 107\n"
     ]
    },
    {
     "name": "stderr",
     "output_type": "stream",
     "text": [
      "\n",
      "\n",
      "\n",
      "\n",
      "\n",
      "Thread num: 1:  69%|██████████████████████████████████████████▏                  | 74/107 [9:07:11<4:38:20, 506.07s/it]\u001b[A\u001b[A\u001b[A\u001b[A\u001b[A"
     ]
    },
    {
     "name": "stdout",
     "output_type": "stream",
     "text": [
      "completed symbols OSS: VHC: FSI: SYRS: STIM: LMNL: CTHR: TDAC: MARPS: SLB: VVOS: MPLN: BLUE: FPAC: EDSA: ORMP: LAND: AMST: ELA: SOAC: PSAC: LWAY: ARDX: UAA: IDXG: BNKD: GTIM: ABR: PSTV: WOOF: GAIN: CCV: CGEN: CARR: CURI: CXDC: TECS: ETCG: PLAG: OTIC: SVAC: ASX: APTS: AKRX: DUDE: TBIO: EGO: GLYC: IO: VIH: FOLD: FAN: VACQ: BYD: CLMT: DSE: IMGN: GLG: USA: MOMO: ALUS: PRVB: AGC: VET: SOHO: CRMD: IEO: EOLS: ITCB: PRCH: HYRE: FOSL: ORC: PSNL - thread num: 1  -  74 / 107\n"
     ]
    },
    {
     "name": "stderr",
     "output_type": "stream",
     "text": [
      "\n",
      "Thread num: 3:  66%|████████████████████████████████████████▍                    | 71/107 [9:08:11<4:52:05, 486.82s/it]\u001b[A"
     ]
    },
    {
     "name": "stdout",
     "output_type": "stream",
     "text": [
      "completed symbols AACQ: CTK: SVC: EGAN: PSTI: SAEXQ: EB: ATEN: CDXC: PVL: SILV: SILJ: NRBO: CARA: RTLR: CXW: FRO: EAST: PING: JPST: EQT: IDN: KBSF: FCAU: CLDX: TRNE: NBL: MAIN: ELY: PRCP: BRN: HJLI: DENN: RSI: IHT: TRQ: KIN: UUP: AMS: PSXP: TGEN: PMM: OII: DXD: AEY: OMI: TMQ: ZUO: MMLP: EGLE: CPG: NEW: XLF: PCRFY: USAS: SREV: MCEP: IHRT: P055094: ONDSD: DTEA: PDAC: AGS: ICLK: USX: FIVG: WEN: FHN: WMC: CERC: SECO - thread num: 3  -  71 / 107\n"
     ]
    },
    {
     "name": "stderr",
     "output_type": "stream",
     "text": [
      "\n",
      "\n",
      "\n",
      "\n",
      "\n",
      "\n",
      "\n",
      "Thread num: 4:  85%|███████████████████████████████████████████████████▉         | 91/107 [9:10:29<1:58:28, 444.27s/it]\u001b[A\u001b[A\u001b[A\u001b[A\u001b[A\u001b[A\u001b[A"
     ]
    },
    {
     "name": "stdout",
     "output_type": "stream",
     "text": [
      "completed symbols CIM: VTSI: BTN: GP: ETTX: RUHN: GLDM: ALDX: EMX: MIND: BMRA: INSE: CHKR: SV: BLMN: QUIK: FPRX: PHCF: TWI: MUFG: JAKK: IPWR: WBAI: MUR: PIRS: CALX: ESTE: CTMX: ZIOP: CIK: CLM: PBCT: PRTS: FTK: SDPI: SRTS: OSMT: FLMN: CVU: CIT: SND: AUPH: FAII: TUSK: SHLDQ: ZCMD: MTL: DAC: XRF: QELL: FBP: ALLY: SGOC: KLXE: PUMP: RMGB: PFIE: UUU: DIV: OPES: ASMB: RQI: LWLG: AENZ: FPAY: RBAC: TACO: DRV: MDXG: ADVM: RYCEY: ONVO: VOLT: LYG: DAN: IAG: QLI: CHEF: EEIQ: LSF: ZNTE: USDP: HTGC: DHY: CYCC: ONCT: KZIA: NLOK: AXAS: ISNS: LPTX - thread num: 4  -  91 / 107\n"
     ]
    },
    {
     "name": "stderr",
     "output_type": "stream",
     "text": [
      "\n",
      "\n",
      "\n",
      "\n",
      "\n",
      "Thread num: 1:  70%|██████████████████████████████████████████▊                  | 75/107 [9:10:34<3:41:24, 415.13s/it]\u001b[A\u001b[A\u001b[A\u001b[A\u001b[A"
     ]
    },
    {
     "name": "stdout",
     "output_type": "stream",
     "text": [
      "completed symbols OSS: VHC: FSI: SYRS: STIM: LMNL: CTHR: TDAC: MARPS: SLB: VVOS: MPLN: BLUE: FPAC: EDSA: ORMP: LAND: AMST: ELA: SOAC: PSAC: LWAY: ARDX: UAA: IDXG: BNKD: GTIM: ABR: PSTV: WOOF: GAIN: CCV: CGEN: CARR: CURI: CXDC: TECS: ETCG: PLAG: OTIC: SVAC: ASX: APTS: AKRX: DUDE: TBIO: EGO: GLYC: IO: VIH: FOLD: FAN: VACQ: BYD: CLMT: DSE: IMGN: GLG: USA: MOMO: ALUS: PRVB: AGC: VET: SOHO: CRMD: IEO: EOLS: ITCB: PRCH: HYRE: FOSL: ORC: PSNL: DCRB - thread num: 1  -  75 / 107\n"
     ]
    },
    {
     "name": "stderr",
     "output_type": "stream",
     "text": [
      "\n",
      "\n",
      "\n",
      "Thread num: 6:  76%|██████████████████████████████████████████████▏              | 81/107 [9:17:19<6:10:11, 854.31s/it]\u001b[A\u001b[A\u001b[A"
     ]
    },
    {
     "name": "stdout",
     "output_type": "stream",
     "text": [
      "completed symbols FAX: APEN: JUPW: IPI: ENLC: WRTC: RMBL: PHX: KDMN: SSPK: EBR: BKCC: RWT: GSUM: FGPR: MXC: IGXT: GSKY: RTP: MEIP: PUYI: MYT: EXTR: ELVT: VRAY: HAPP: AAAU: PACE: CSPR: WRN: CEF: SBUM: DXYN: VIPS: MCRB: IEC: STIC: HUSN: INMB: GOCO: QHC: PBR: EADSY: AKTS: FEAC: ENSV: AFIN: FLNT: SPFR: CVE: RMM: DRAD: NCMI: NINE: INAQ: NTZ: AJAX: BCS: SUP: USEG: PDS: AMRH: TPR: BKD: ETON: CRDF: VRME: SSNT: CRVS: CLR: BCHG: NTNX: PAVE: LYSDY: ANGI: CRF: SBBP: PTI: ACRE: GVP: HST - thread num: 6  -  81 / 107\n"
     ]
    },
    {
     "name": "stderr",
     "output_type": "stream",
     "text": [
      "\n",
      "\n",
      "\n",
      "\n",
      "\n",
      "\n",
      "\n",
      "Thread num: 4:  86%|████████████████████████████████████████████████████▍        | 92/107 [9:17:29<1:49:10, 436.72s/it]\u001b[A\u001b[A\u001b[A\u001b[A\u001b[A\u001b[A\u001b[A"
     ]
    },
    {
     "name": "stdout",
     "output_type": "stream",
     "text": [
      "completed symbols CIM: VTSI: BTN: GP: ETTX: RUHN: GLDM: ALDX: EMX: MIND: BMRA: INSE: CHKR: SV: BLMN: QUIK: FPRX: PHCF: TWI: MUFG: JAKK: IPWR: WBAI: MUR: PIRS: CALX: ESTE: CTMX: ZIOP: CIK: CLM: PBCT: PRTS: FTK: SDPI: SRTS: OSMT: FLMN: CVU: CIT: SND: AUPH: FAII: TUSK: SHLDQ: ZCMD: MTL: DAC: XRF: QELL: FBP: ALLY: SGOC: KLXE: PUMP: RMGB: PFIE: UUU: DIV: OPES: ASMB: RQI: LWLG: AENZ: FPAY: RBAC: TACO: DRV: MDXG: ADVM: RYCEY: ONVO: VOLT: LYG: DAN: IAG: QLI: CHEF: EEIQ: LSF: ZNTE: USDP: HTGC: DHY: CYCC: ONCT: KZIA: NLOK: AXAS: ISNS: LPTX: GGAL - thread num: 4  -  92 / 107\n"
     ]
    },
    {
     "name": "stderr",
     "output_type": "stream",
     "text": [
      "\n",
      "Thread num: 3:  67%|█████████████████████████████████████████                    | 72/107 [9:17:38<4:58:08, 511.11s/it]\u001b[A"
     ]
    },
    {
     "name": "stdout",
     "output_type": "stream",
     "text": [
      "completed symbols AACQ: CTK: SVC: EGAN: PSTI: SAEXQ: EB: ATEN: CDXC: PVL: SILV: SILJ: NRBO: CARA: RTLR: CXW: FRO: EAST: PING: JPST: EQT: IDN: KBSF: FCAU: CLDX: TRNE: NBL: MAIN: ELY: PRCP: BRN: HJLI: DENN: RSI: IHT: TRQ: KIN: UUP: AMS: PSXP: TGEN: PMM: OII: DXD: AEY: OMI: TMQ: ZUO: MMLP: EGLE: CPG: NEW: XLF: PCRFY: USAS: SREV: MCEP: IHRT: P055094: ONDSD: DTEA: PDAC: AGS: ICLK: USX: FIVG: WEN: FHN: WMC: CERC: SECO: ARR - thread num: 3  -  72 / 107\n"
     ]
    },
    {
     "name": "stderr",
     "output_type": "stream",
     "text": [
      "\n",
      "\n",
      "\n",
      "Thread num: 6:  77%|██████████████████████████████████████████████▋              | 82/107 [9:21:54<4:43:35, 680.61s/it]\u001b[A\u001b[A\u001b[A"
     ]
    },
    {
     "name": "stdout",
     "output_type": "stream",
     "text": [
      "completed symbols FAX: APEN: JUPW: IPI: ENLC: WRTC: RMBL: PHX: KDMN: SSPK: EBR: BKCC: RWT: GSUM: FGPR: MXC: IGXT: GSKY: RTP: MEIP: PUYI: MYT: EXTR: ELVT: VRAY: HAPP: AAAU: PACE: CSPR: WRN: CEF: SBUM: DXYN: VIPS: MCRB: IEC: STIC: HUSN: INMB: GOCO: QHC: PBR: EADSY: AKTS: FEAC: ENSV: AFIN: FLNT: SPFR: CVE: RMM: DRAD: NCMI: NINE: INAQ: NTZ: AJAX: BCS: SUP: USEG: PDS: AMRH: TPR: BKD: ETON: CRDF: VRME: SSNT: CRVS: CLR: BCHG: NTNX: PAVE: LYSDY: ANGI: CRF: SBBP: PTI: ACRE: GVP: HST: PRTK - thread num: 6  -  82 / 107\n"
     ]
    },
    {
     "name": "stderr",
     "output_type": "stream",
     "text": [
      "\r",
      "Thread num: 2:  70%|██████████████████████████████████████████                  | 75/107 [9:22:01<9:58:46, 1122.72s/it]"
     ]
    },
    {
     "name": "stdout",
     "output_type": "stream",
     "text": [
      "completed symbols OMP: APLT: NRO: IMH: THM: WHLM: EBET: VNRX: RLX: LEVI: ASTS: IMMR: DSX: CDE: YI: TRIB: ROCH: HZON: TNK: GNW: MILE: TSIAU: TOUR: ACIU: CLOU: XYF: TPGY: CAKE: CMPS: KALA: KLR: CDTX: ACP: CMMB: HGBL: SALM: STM: OXSQ: FGEN: TCCO: DTIL: CMLF: SMTS: BYRN: LIFE: DHT: EURN: SEAH: STOR: VVNT: RAAS: GEO: CAAS: PBF: HERO: AMCI: FURY: BDR: HBI: TLC: ACER: CURO: LTRPA: FIT: HOL: PERS: PCI: MLHR: ASLN: HIMS: ALAC: VKTX: LHDX: SU: IVZ - thread num: 2  -  75 / 107\n"
     ]
    },
    {
     "name": "stderr",
     "output_type": "stream",
     "text": [
      "\n",
      "Thread num: 3:  68%|█████████████████████████████████████████▌                   | 73/107 [9:24:48<4:35:45, 486.63s/it]\u001b[A"
     ]
    },
    {
     "name": "stdout",
     "output_type": "stream",
     "text": [
      "completed symbols AACQ: CTK: SVC: EGAN: PSTI: SAEXQ: EB: ATEN: CDXC: PVL: SILV: SILJ: NRBO: CARA: RTLR: CXW: FRO: EAST: PING: JPST: EQT: IDN: KBSF: FCAU: CLDX: TRNE: NBL: MAIN: ELY: PRCP: BRN: HJLI: DENN: RSI: IHT: TRQ: KIN: UUP: AMS: PSXP: TGEN: PMM: OII: DXD: AEY: OMI: TMQ: ZUO: MMLP: EGLE: CPG: NEW: XLF: PCRFY: USAS: SREV: MCEP: IHRT: P055094: ONDSD: DTEA: PDAC: AGS: ICLK: USX: FIVG: WEN: FHN: WMC: CERC: SECO: ARR: BDSI - thread num: 3  -  73 / 107\n"
     ]
    },
    {
     "name": "stderr",
     "output_type": "stream",
     "text": [
      "\n",
      "\n",
      "\n",
      "\n",
      "\n",
      "Thread num: 1:  71%|███████████████████████████████████████████▎                 | 76/107 [9:25:46<4:51:30, 564.21s/it]\u001b[A\u001b[A\u001b[A\u001b[A\u001b[A"
     ]
    },
    {
     "name": "stdout",
     "output_type": "stream",
     "text": [
      "completed symbols OSS: VHC: FSI: SYRS: STIM: LMNL: CTHR: TDAC: MARPS: SLB: VVOS: MPLN: BLUE: FPAC: EDSA: ORMP: LAND: AMST: ELA: SOAC: PSAC: LWAY: ARDX: UAA: IDXG: BNKD: GTIM: ABR: PSTV: WOOF: GAIN: CCV: CGEN: CARR: CURI: CXDC: TECS: ETCG: PLAG: OTIC: SVAC: ASX: APTS: AKRX: DUDE: TBIO: EGO: GLYC: IO: VIH: FOLD: FAN: VACQ: BYD: CLMT: DSE: IMGN: GLG: USA: MOMO: ALUS: PRVB: AGC: VET: SOHO: CRMD: IEO: EOLS: ITCB: PRCH: HYRE: FOSL: ORC: PSNL: DCRB: XEC - thread num: 1  -  76 / 107\n"
     ]
    },
    {
     "name": "stderr",
     "output_type": "stream",
     "text": [
      "\n",
      "\n",
      "\n",
      "Thread num: 6:  78%|███████████████████████████████████████████████▎             | 83/107 [9:28:35<3:58:42, 596.77s/it]\u001b[A\u001b[A\u001b[A"
     ]
    },
    {
     "name": "stdout",
     "output_type": "stream",
     "text": [
      "completed symbols FAX: APEN: JUPW: IPI: ENLC: WRTC: RMBL: PHX: KDMN: SSPK: EBR: BKCC: RWT: GSUM: FGPR: MXC: IGXT: GSKY: RTP: MEIP: PUYI: MYT: EXTR: ELVT: VRAY: HAPP: AAAU: PACE: CSPR: WRN: CEF: SBUM: DXYN: VIPS: MCRB: IEC: STIC: HUSN: INMB: GOCO: QHC: PBR: EADSY: AKTS: FEAC: ENSV: AFIN: FLNT: SPFR: CVE: RMM: DRAD: NCMI: NINE: INAQ: NTZ: AJAX: BCS: SUP: USEG: PDS: AMRH: TPR: BKD: ETON: CRDF: VRME: SSNT: CRVS: CLR: BCHG: NTNX: PAVE: LYSDY: ANGI: CRF: SBBP: PTI: ACRE: GVP: HST: PRTK: IEA - thread num: 6  -  83 / 107\n"
     ]
    },
    {
     "name": "stderr",
     "output_type": "stream",
     "text": [
      "\r",
      "Thread num: 2:  71%|███████████████████████████████████████████▎                 | 76/107 [9:29:40<7:57:15, 923.71s/it]"
     ]
    },
    {
     "name": "stdout",
     "output_type": "stream",
     "text": [
      "completed symbols OMP: APLT: NRO: IMH: THM: WHLM: EBET: VNRX: RLX: LEVI: ASTS: IMMR: DSX: CDE: YI: TRIB: ROCH: HZON: TNK: GNW: MILE: TSIAU: TOUR: ACIU: CLOU: XYF: TPGY: CAKE: CMPS: KALA: KLR: CDTX: ACP: CMMB: HGBL: SALM: STM: OXSQ: FGEN: TCCO: DTIL: CMLF: SMTS: BYRN: LIFE: DHT: EURN: SEAH: STOR: VVNT: RAAS: GEO: CAAS: PBF: HERO: AMCI: FURY: BDR: HBI: TLC: ACER: CURO: LTRPA: FIT: HOL: PERS: PCI: MLHR: ASLN: HIMS: ALAC: VKTX: LHDX: SU: IVZ: GEL - thread num: 2  -  76 / 107\n"
     ]
    },
    {
     "name": "stderr",
     "output_type": "stream",
     "text": [
      "\n",
      "\n",
      "\n",
      "\n",
      "\n",
      "Thread num: 1:  72%|███████████████████████████████████████████▉                 | 77/107 [9:31:18<4:07:15, 494.52s/it]\u001b[A\u001b[A\u001b[A\u001b[A\u001b[A"
     ]
    },
    {
     "name": "stdout",
     "output_type": "stream",
     "text": [
      "completed symbols OSS: VHC: FSI: SYRS: STIM: LMNL: CTHR: TDAC: MARPS: SLB: VVOS: MPLN: BLUE: FPAC: EDSA: ORMP: LAND: AMST: ELA: SOAC: PSAC: LWAY: ARDX: UAA: IDXG: BNKD: GTIM: ABR: PSTV: WOOF: GAIN: CCV: CGEN: CARR: CURI: CXDC: TECS: ETCG: PLAG: OTIC: SVAC: ASX: APTS: AKRX: DUDE: TBIO: EGO: GLYC: IO: VIH: FOLD: FAN: VACQ: BYD: CLMT: DSE: IMGN: GLG: USA: MOMO: ALUS: PRVB: AGC: VET: SOHO: CRMD: IEO: EOLS: ITCB: PRCH: HYRE: FOSL: ORC: PSNL: DCRB: XEC: TCON - thread num: 1  -  77 / 107\n"
     ]
    },
    {
     "name": "stderr",
     "output_type": "stream",
     "text": [
      "\r",
      "Thread num: 2:  72%|███████████████████████████████████████████▉                 | 77/107 [9:33:33<5:58:14, 716.49s/it]"
     ]
    },
    {
     "name": "stdout",
     "output_type": "stream",
     "text": [
      "completed symbols OMP: APLT: NRO: IMH: THM: WHLM: EBET: VNRX: RLX: LEVI: ASTS: IMMR: DSX: CDE: YI: TRIB: ROCH: HZON: TNK: GNW: MILE: TSIAU: TOUR: ACIU: CLOU: XYF: TPGY: CAKE: CMPS: KALA: KLR: CDTX: ACP: CMMB: HGBL: SALM: STM: OXSQ: FGEN: TCCO: DTIL: CMLF: SMTS: BYRN: LIFE: DHT: EURN: SEAH: STOR: VVNT: RAAS: GEO: CAAS: PBF: HERO: AMCI: FURY: BDR: HBI: TLC: ACER: CURO: LTRPA: FIT: HOL: PERS: PCI: MLHR: ASLN: HIMS: ALAC: VKTX: LHDX: SU: IVZ: GEL: DYAI - thread num: 2  -  77 / 107\n"
     ]
    },
    {
     "name": "stderr",
     "output_type": "stream",
     "text": [
      "\n",
      "\n",
      "\n",
      "\n",
      "\n",
      "Thread num: 1:  73%|████████████████████████████████████████████▍                | 78/107 [9:33:53<3:09:51, 392.80s/it]\u001b[A\u001b[A\u001b[A\u001b[A\u001b[A"
     ]
    },
    {
     "name": "stdout",
     "output_type": "stream",
     "text": [
      "completed symbols OSS: VHC: FSI: SYRS: STIM: LMNL: CTHR: TDAC: MARPS: SLB: VVOS: MPLN: BLUE: FPAC: EDSA: ORMP: LAND: AMST: ELA: SOAC: PSAC: LWAY: ARDX: UAA: IDXG: BNKD: GTIM: ABR: PSTV: WOOF: GAIN: CCV: CGEN: CARR: CURI: CXDC: TECS: ETCG: PLAG: OTIC: SVAC: ASX: APTS: AKRX: DUDE: TBIO: EGO: GLYC: IO: VIH: FOLD: FAN: VACQ: BYD: CLMT: DSE: IMGN: GLG: USA: MOMO: ALUS: PRVB: AGC: VET: SOHO: CRMD: IEO: EOLS: ITCB: PRCH: HYRE: FOSL: ORC: PSNL: DCRB: XEC: TCON: SCPS - thread num: 1  -  78 / 107\n"
     ]
    },
    {
     "name": "stderr",
     "output_type": "stream",
     "text": [
      "\n",
      "\n",
      "\n",
      "\n",
      "\n",
      "\n",
      "Thread num: 5:  88%|█████████████████████████████████████████████████████▌       | 94/107 [9:35:42<2:52:08, 794.50s/it]\u001b[A\u001b[A\u001b[A\u001b[A\u001b[A\u001b[A"
     ]
    },
    {
     "name": "stdout",
     "output_type": "stream",
     "text": [
      "completed symbols QQQJ: CFFA: ACEV: USL: ORGO: BBW: SYBX: ECC: WSTL: CDR: IFRX: TRIL: DMYI: OSW: SMSI: ZDGE: SDIV: VBLT: SOGO: JT: SPNV: IDRA: UNG: MYOS: ALYA: HNRG: ARC: CHMA: MCF: USIO: AVEO: KLDO: INVE: ACTG: AMPG: EDNT: VSTO: NAVB: GNCA: VIOT: SWI: ERJ: EMAN: AWP: SIEB: AHPI: PIPP: RUTH: IGT: ONDK: NKLAW: TCS: III: MDP: TMF: BTAQ: SPWH: SPCX: USAT: CERS: CLNY: MPW: SSL: ENBL: STSA: GOSS: UTSI: AUTL: AGFY: UNFI: KPTI: GRAY: TWM: OBLG: NR: REFR: OESX: AR: ONE: STAG: SB: SRG: THTX: FTOC: WPF: CPST: LGVN: CALA: GTXMQ: BIIO: GALT: QDIV: SIG: FTI - thread num: 5  -  94 / 107\n"
     ]
    },
    {
     "name": "stderr",
     "output_type": "stream",
     "text": [
      "\n",
      "Thread num: 3:  69%|██████████████████████████████████████████▏                  | 74/107 [9:36:51<5:06:40, 557.60s/it]\u001b[A"
     ]
    },
    {
     "name": "stdout",
     "output_type": "stream",
     "text": [
      "completed symbols AACQ: CTK: SVC: EGAN: PSTI: SAEXQ: EB: ATEN: CDXC: PVL: SILV: SILJ: NRBO: CARA: RTLR: CXW: FRO: EAST: PING: JPST: EQT: IDN: KBSF: FCAU: CLDX: TRNE: NBL: MAIN: ELY: PRCP: BRN: HJLI: DENN: RSI: IHT: TRQ: KIN: UUP: AMS: PSXP: TGEN: PMM: OII: DXD: AEY: OMI: TMQ: ZUO: MMLP: EGLE: CPG: NEW: XLF: PCRFY: USAS: SREV: MCEP: IHRT: P055094: ONDSD: DTEA: PDAC: AGS: ICLK: USX: FIVG: WEN: FHN: WMC: CERC: SECO: ARR: BDSI: RRR - thread num: 3  -  74 / 107\n"
     ]
    },
    {
     "name": "stderr",
     "output_type": "stream",
     "text": [
      "\r",
      "Thread num: 2:  73%|████████████████████████████████████████████▍                | 78/107 [9:37:26<4:36:08, 571.32s/it]"
     ]
    },
    {
     "name": "stdout",
     "output_type": "stream",
     "text": [
      "completed symbols OMP: APLT: NRO: IMH: THM: WHLM: EBET: VNRX: RLX: LEVI: ASTS: IMMR: DSX: CDE: YI: TRIB: ROCH: HZON: TNK: GNW: MILE: TSIAU: TOUR: ACIU: CLOU: XYF: TPGY: CAKE: CMPS: KALA: KLR: CDTX: ACP: CMMB: HGBL: SALM: STM: OXSQ: FGEN: TCCO: DTIL: CMLF: SMTS: BYRN: LIFE: DHT: EURN: SEAH: STOR: VVNT: RAAS: GEO: CAAS: PBF: HERO: AMCI: FURY: BDR: HBI: TLC: ACER: CURO: LTRPA: FIT: HOL: PERS: PCI: MLHR: ASLN: HIMS: ALAC: VKTX: LHDX: SU: IVZ: GEL: DYAI: MACK - thread num: 2  -  78 / 107\n"
     ]
    },
    {
     "name": "stderr",
     "output_type": "stream",
     "text": [
      "\n",
      "\n",
      "\n",
      "\n",
      "\n",
      "\n",
      "\n",
      "Thread num: 4:  87%|█████████████████████████████████████████████████████        | 93/107 [9:38:11<2:38:18, 678.48s/it]\u001b[A\u001b[A\u001b[A\u001b[A\u001b[A\u001b[A\u001b[A"
     ]
    },
    {
     "name": "stdout",
     "output_type": "stream",
     "text": [
      "completed symbols CIM: VTSI: BTN: GP: ETTX: RUHN: GLDM: ALDX: EMX: MIND: BMRA: INSE: CHKR: SV: BLMN: QUIK: FPRX: PHCF: TWI: MUFG: JAKK: IPWR: WBAI: MUR: PIRS: CALX: ESTE: CTMX: ZIOP: CIK: CLM: PBCT: PRTS: FTK: SDPI: SRTS: OSMT: FLMN: CVU: CIT: SND: AUPH: FAII: TUSK: SHLDQ: ZCMD: MTL: DAC: XRF: QELL: FBP: ALLY: SGOC: KLXE: PUMP: RMGB: PFIE: UUU: DIV: OPES: ASMB: RQI: LWLG: AENZ: FPAY: RBAC: TACO: DRV: MDXG: ADVM: RYCEY: ONVO: VOLT: LYG: DAN: IAG: QLI: CHEF: EEIQ: LSF: ZNTE: USDP: HTGC: DHY: CYCC: ONCT: KZIA: NLOK: AXAS: ISNS: LPTX: GGAL: PAA - thread num: 4  -  93 / 107\n"
     ]
    },
    {
     "name": "stderr",
     "output_type": "stream",
     "text": [
      "\n",
      "\n",
      "\n",
      "Thread num: 6:  79%|███████████████████████████████████████████████▉             | 84/107 [9:39:25<3:54:54, 612.81s/it]\u001b[A\u001b[A\u001b[A"
     ]
    },
    {
     "name": "stdout",
     "output_type": "stream",
     "text": [
      "completed symbols FAX: APEN: JUPW: IPI: ENLC: WRTC: RMBL: PHX: KDMN: SSPK: EBR: BKCC: RWT: GSUM: FGPR: MXC: IGXT: GSKY: RTP: MEIP: PUYI: MYT: EXTR: ELVT: VRAY: HAPP: AAAU: PACE: CSPR: WRN: CEF: SBUM: DXYN: VIPS: MCRB: IEC: STIC: HUSN: INMB: GOCO: QHC: PBR: EADSY: AKTS: FEAC: ENSV: AFIN: FLNT: SPFR: CVE: RMM: DRAD: NCMI: NINE: INAQ: NTZ: AJAX: BCS: SUP: USEG: PDS: AMRH: TPR: BKD: ETON: CRDF: VRME: SSNT: CRVS: CLR: BCHG: NTNX: PAVE: LYSDY: ANGI: CRF: SBBP: PTI: ACRE: GVP: HST: PRTK: IEA: HA - thread num: 6  -  84 / 107\n"
     ]
    },
    {
     "name": "stderr",
     "output_type": "stream",
     "text": [
      "\n",
      "\n",
      "\n",
      "\n",
      "\n",
      "Thread num: 1:  74%|█████████████████████████████████████████████                | 79/107 [9:43:19<3:27:32, 444.75s/it]\u001b[A\u001b[A\u001b[A\u001b[A\u001b[A"
     ]
    },
    {
     "name": "stdout",
     "output_type": "stream",
     "text": [
      "completed symbols OSS: VHC: FSI: SYRS: STIM: LMNL: CTHR: TDAC: MARPS: SLB: VVOS: MPLN: BLUE: FPAC: EDSA: ORMP: LAND: AMST: ELA: SOAC: PSAC: LWAY: ARDX: UAA: IDXG: BNKD: GTIM: ABR: PSTV: WOOF: GAIN: CCV: CGEN: CARR: CURI: CXDC: TECS: ETCG: PLAG: OTIC: SVAC: ASX: APTS: AKRX: DUDE: TBIO: EGO: GLYC: IO: VIH: FOLD: FAN: VACQ: BYD: CLMT: DSE: IMGN: GLG: USA: MOMO: ALUS: PRVB: AGC: VET: SOHO: CRMD: IEO: EOLS: ITCB: PRCH: HYRE: FOSL: ORC: PSNL: DCRB: XEC: TCON: SCPS: PGEN - thread num: 1  -  79 / 107\n"
     ]
    },
    {
     "name": "stderr",
     "output_type": "stream",
     "text": [
      "\r",
      "Thread num: 2:  74%|█████████████████████████████████████████████                | 79/107 [9:44:01<4:01:56, 518.44s/it]"
     ]
    },
    {
     "name": "stdout",
     "output_type": "stream",
     "text": [
      "completed symbols OMP: APLT: NRO: IMH: THM: WHLM: EBET: VNRX: RLX: LEVI: ASTS: IMMR: DSX: CDE: YI: TRIB: ROCH: HZON: TNK: GNW: MILE: TSIAU: TOUR: ACIU: CLOU: XYF: TPGY: CAKE: CMPS: KALA: KLR: CDTX: ACP: CMMB: HGBL: SALM: STM: OXSQ: FGEN: TCCO: DTIL: CMLF: SMTS: BYRN: LIFE: DHT: EURN: SEAH: STOR: VVNT: RAAS: GEO: CAAS: PBF: HERO: AMCI: FURY: BDR: HBI: TLC: ACER: CURO: LTRPA: FIT: HOL: PERS: PCI: MLHR: ASLN: HIMS: ALAC: VKTX: LHDX: SU: IVZ: GEL: DYAI: MACK: APDN - thread num: 2  -  79 / 107\n"
     ]
    },
    {
     "name": "stderr",
     "output_type": "stream",
     "text": [
      "\n",
      "\n",
      "\n",
      "\n",
      "\n",
      "Thread num: 1:  75%|█████████████████████████████████████████████▌               | 80/107 [9:46:05<2:42:28, 361.07s/it]\u001b[A\u001b[A\u001b[A\u001b[A\u001b[A"
     ]
    },
    {
     "name": "stdout",
     "output_type": "stream",
     "text": [
      "completed symbols OSS: VHC: FSI: SYRS: STIM: LMNL: CTHR: TDAC: MARPS: SLB: VVOS: MPLN: BLUE: FPAC: EDSA: ORMP: LAND: AMST: ELA: SOAC: PSAC: LWAY: ARDX: UAA: IDXG: BNKD: GTIM: ABR: PSTV: WOOF: GAIN: CCV: CGEN: CARR: CURI: CXDC: TECS: ETCG: PLAG: OTIC: SVAC: ASX: APTS: AKRX: DUDE: TBIO: EGO: GLYC: IO: VIH: FOLD: FAN: VACQ: BYD: CLMT: DSE: IMGN: GLG: USA: MOMO: ALUS: PRVB: AGC: VET: SOHO: CRMD: IEO: EOLS: ITCB: PRCH: HYRE: FOSL: ORC: PSNL: DCRB: XEC: TCON: SCPS: PGEN: ATAC - thread num: 1  -  80 / 107\n"
     ]
    },
    {
     "name": "stderr",
     "output_type": "stream",
     "text": [
      "\n",
      "\n",
      "\n",
      "\n",
      "\n",
      "\n",
      "\n",
      "Thread num: 4:  88%|█████████████████████████████████████████████████████▌       | 94/107 [9:47:00<2:17:18, 633.76s/it]\u001b[A\u001b[A\u001b[A\u001b[A\u001b[A\u001b[A\u001b[A"
     ]
    },
    {
     "name": "stdout",
     "output_type": "stream",
     "text": [
      "completed symbols CIM: VTSI: BTN: GP: ETTX: RUHN: GLDM: ALDX: EMX: MIND: BMRA: INSE: CHKR: SV: BLMN: QUIK: FPRX: PHCF: TWI: MUFG: JAKK: IPWR: WBAI: MUR: PIRS: CALX: ESTE: CTMX: ZIOP: CIK: CLM: PBCT: PRTS: FTK: SDPI: SRTS: OSMT: FLMN: CVU: CIT: SND: AUPH: FAII: TUSK: SHLDQ: ZCMD: MTL: DAC: XRF: QELL: FBP: ALLY: SGOC: KLXE: PUMP: RMGB: PFIE: UUU: DIV: OPES: ASMB: RQI: LWLG: AENZ: FPAY: RBAC: TACO: DRV: MDXG: ADVM: RYCEY: ONVO: VOLT: LYG: DAN: IAG: QLI: CHEF: EEIQ: LSF: ZNTE: USDP: HTGC: DHY: CYCC: ONCT: KZIA: NLOK: AXAS: ISNS: LPTX: GGAL: PAA: SHLX - thread num: 4  -  94 / 107\n"
     ]
    },
    {
     "name": "stderr",
     "output_type": "stream",
     "text": [
      "\n",
      "\n",
      "\n",
      "Thread num: 6:  79%|████████████████████████████████████████████████▍            | 85/107 [9:47:32<3:30:52, 575.09s/it]\u001b[A\u001b[A\u001b[A"
     ]
    },
    {
     "name": "stdout",
     "output_type": "stream",
     "text": [
      "completed symbols FAX: APEN: JUPW: IPI: ENLC: WRTC: RMBL: PHX: KDMN: SSPK: EBR: BKCC: RWT: GSUM: FGPR: MXC: IGXT: GSKY: RTP: MEIP: PUYI: MYT: EXTR: ELVT: VRAY: HAPP: AAAU: PACE: CSPR: WRN: CEF: SBUM: DXYN: VIPS: MCRB: IEC: STIC: HUSN: INMB: GOCO: QHC: PBR: EADSY: AKTS: FEAC: ENSV: AFIN: FLNT: SPFR: CVE: RMM: DRAD: NCMI: NINE: INAQ: NTZ: AJAX: BCS: SUP: USEG: PDS: AMRH: TPR: BKD: ETON: CRDF: VRME: SSNT: CRVS: CLR: BCHG: NTNX: PAVE: LYSDY: ANGI: CRF: SBBP: PTI: ACRE: GVP: HST: PRTK: IEA: HA: ACRS - thread num: 6  -  85 / 107\n"
     ]
    },
    {
     "name": "stderr",
     "output_type": "stream",
     "text": [
      "\n",
      "\n",
      "\n",
      "\n",
      "\n",
      "\n",
      "\n",
      "Thread num: 4:  89%|██████████████████████████████████████████████████████▏      | 95/107 [9:49:52<1:39:00, 495.04s/it]\u001b[A\u001b[A\u001b[A\u001b[A\u001b[A\u001b[A\u001b[A"
     ]
    },
    {
     "name": "stdout",
     "output_type": "stream",
     "text": [
      "completed symbols CIM: VTSI: BTN: GP: ETTX: RUHN: GLDM: ALDX: EMX: MIND: BMRA: INSE: CHKR: SV: BLMN: QUIK: FPRX: PHCF: TWI: MUFG: JAKK: IPWR: WBAI: MUR: PIRS: CALX: ESTE: CTMX: ZIOP: CIK: CLM: PBCT: PRTS: FTK: SDPI: SRTS: OSMT: FLMN: CVU: CIT: SND: AUPH: FAII: TUSK: SHLDQ: ZCMD: MTL: DAC: XRF: QELL: FBP: ALLY: SGOC: KLXE: PUMP: RMGB: PFIE: UUU: DIV: OPES: ASMB: RQI: LWLG: AENZ: FPAY: RBAC: TACO: DRV: MDXG: ADVM: RYCEY: ONVO: VOLT: LYG: DAN: IAG: QLI: CHEF: EEIQ: LSF: ZNTE: USDP: HTGC: DHY: CYCC: ONCT: KZIA: NLOK: AXAS: ISNS: LPTX: GGAL: PAA: SHLX: NM - thread num: 4  -  95 / 107\n"
     ]
    },
    {
     "name": "stderr",
     "output_type": "stream",
     "text": [
      "\r",
      "Thread num: 2:  75%|█████████████████████████████████████████████▌               | 80/107 [9:50:17<3:34:04, 475.71s/it]"
     ]
    },
    {
     "name": "stdout",
     "output_type": "stream",
     "text": [
      "completed symbols OMP: APLT: NRO: IMH: THM: WHLM: EBET: VNRX: RLX: LEVI: ASTS: IMMR: DSX: CDE: YI: TRIB: ROCH: HZON: TNK: GNW: MILE: TSIAU: TOUR: ACIU: CLOU: XYF: TPGY: CAKE: CMPS: KALA: KLR: CDTX: ACP: CMMB: HGBL: SALM: STM: OXSQ: FGEN: TCCO: DTIL: CMLF: SMTS: BYRN: LIFE: DHT: EURN: SEAH: STOR: VVNT: RAAS: GEO: CAAS: PBF: HERO: AMCI: FURY: BDR: HBI: TLC: ACER: CURO: LTRPA: FIT: HOL: PERS: PCI: MLHR: ASLN: HIMS: ALAC: VKTX: LHDX: SU: IVZ: GEL: DYAI: MACK: APDN: AXU - thread num: 2  -  80 / 107\n"
     ]
    },
    {
     "name": "stderr",
     "output_type": "stream",
     "text": [
      "\n",
      "\n",
      "\n",
      "\n",
      "\n",
      "Thread num: 1:  76%|██████████████████████████████████████████████▏              | 81/107 [9:52:13<2:37:20, 363.11s/it]\u001b[A\u001b[A\u001b[A\u001b[A\u001b[A"
     ]
    },
    {
     "name": "stdout",
     "output_type": "stream",
     "text": [
      "completed symbols OSS: VHC: FSI: SYRS: STIM: LMNL: CTHR: TDAC: MARPS: SLB: VVOS: MPLN: BLUE: FPAC: EDSA: ORMP: LAND: AMST: ELA: SOAC: PSAC: LWAY: ARDX: UAA: IDXG: BNKD: GTIM: ABR: PSTV: WOOF: GAIN: CCV: CGEN: CARR: CURI: CXDC: TECS: ETCG: PLAG: OTIC: SVAC: ASX: APTS: AKRX: DUDE: TBIO: EGO: GLYC: IO: VIH: FOLD: FAN: VACQ: BYD: CLMT: DSE: IMGN: GLG: USA: MOMO: ALUS: PRVB: AGC: VET: SOHO: CRMD: IEO: EOLS: ITCB: PRCH: HYRE: FOSL: ORC: PSNL: DCRB: XEC: TCON: SCPS: PGEN: ATAC: EXPC - thread num: 1  -  81 / 107\n",
      "completed symbols CIM: VTSI: BTN: GP: ETTX: RUHN: GLDM: ALDX: EMX: MIND: BMRA: INSE: CHKR: SV: BLMN: QUIK: FPRX: PHCF: TWI: MUFG: JAKK: IPWR: WBAI: MUR: PIRS: CALX: ESTE: CTMX: ZIOP: CIK: CLM: PBCT: PRTS: FTK: SDPI: SRTS: OSMT: FLMN: CVU: CIT: SND: AUPH: FAII: TUSK: SHLDQ: ZCMD: MTL: DAC: XRF: QELL: FBP: ALLY: SGOC: KLXE: PUMP: RMGB: PFIE: UUU: DIV: OPES: ASMB: RQI: LWLG: AENZ: FPAY: RBAC: TACO: DRV: MDXG: ADVM: RYCEY: ONVO: VOLT: LYG: DAN: IAG: QLI: CHEF: EEIQ: LSF: ZNTE: USDP: HTGC: DHY: CYCC: ONCT: KZIA: NLOK: AXAS: ISNS: LPTX: GGAL: PAA: SHLX: NM: HNDL - thread num: 4 "
     ]
    },
    {
     "name": "stderr",
     "output_type": "stream",
     "text": [
      "\n",
      "\n",
      "\n",
      "\n",
      "\n",
      "\n",
      "\n",
      "Thread num: 4:  90%|██████████████████████████████████████████████████████▋      | 96/107 [9:52:40<1:12:45, 396.84s/it]\u001b[A\u001b[A\u001b[A\u001b[A\u001b[A\u001b[A\u001b[A"
     ]
    },
    {
     "name": "stdout",
     "output_type": "stream",
     "text": [
      " -  96 / 107\n"
     ]
    },
    {
     "name": "stderr",
     "output_type": "stream",
     "text": [
      "\n",
      "\n",
      "\n",
      "\n",
      "\n",
      "\n",
      "\n",
      "Thread num: 4:  91%|█████████████████████████████████████████████████████████      | 97/107 [9:53:42<49:23, 296.37s/it]\u001b[A\u001b[A\u001b[A\u001b[A\u001b[A\u001b[A\u001b[A"
     ]
    },
    {
     "name": "stdout",
     "output_type": "stream",
     "text": [
      "completed symbols CIM: VTSI: BTN: GP: ETTX: RUHN: GLDM: ALDX: EMX: MIND: BMRA: INSE: CHKR: SV: BLMN: QUIK: FPRX: PHCF: TWI: MUFG: JAKK: IPWR: WBAI: MUR: PIRS: CALX: ESTE: CTMX: ZIOP: CIK: CLM: PBCT: PRTS: FTK: SDPI: SRTS: OSMT: FLMN: CVU: CIT: SND: AUPH: FAII: TUSK: SHLDQ: ZCMD: MTL: DAC: XRF: QELL: FBP: ALLY: SGOC: KLXE: PUMP: RMGB: PFIE: UUU: DIV: OPES: ASMB: RQI: LWLG: AENZ: FPAY: RBAC: TACO: DRV: MDXG: ADVM: RYCEY: ONVO: VOLT: LYG: DAN: IAG: QLI: CHEF: EEIQ: LSF: ZNTE: USDP: HTGC: DHY: CYCC: ONCT: KZIA: NLOK: AXAS: ISNS: LPTX: GGAL: PAA: SHLX: NM: HNDL: DSLVF - thread num: 4  -  97 / 107\n"
     ]
    },
    {
     "name": "stderr",
     "output_type": "stream",
     "text": [
      "\n",
      "\n",
      "\n",
      "\n",
      "\n",
      "Thread num: 1:  77%|██████████████████████████████████████████████▋              | 82/107 [9:54:04<1:59:51, 287.66s/it]\u001b[A\u001b[A\u001b[A\u001b[A\u001b[A"
     ]
    },
    {
     "name": "stdout",
     "output_type": "stream",
     "text": [
      "completed symbols OSS: VHC: FSI: SYRS: STIM: LMNL: CTHR: TDAC: MARPS: SLB: VVOS: MPLN: BLUE: FPAC: EDSA: ORMP: LAND: AMST: ELA: SOAC: PSAC: LWAY: ARDX: UAA: IDXG: BNKD: GTIM: ABR: PSTV: WOOF: GAIN: CCV: CGEN: CARR: CURI: CXDC: TECS: ETCG: PLAG: OTIC: SVAC: ASX: APTS: AKRX: DUDE: TBIO: EGO: GLYC: IO: VIH: FOLD: FAN: VACQ: BYD: CLMT: DSE: IMGN: GLG: USA: MOMO: ALUS: PRVB: AGC: VET: SOHO: CRMD: IEO: EOLS: ITCB: PRCH: HYRE: FOSL: ORC: PSNL: DCRB: XEC: TCON: SCPS: PGEN: ATAC: EXPC: IFBD - thread num: 1  -  82 / 107\n"
     ]
    },
    {
     "name": "stderr",
     "output_type": "stream",
     "text": [
      "\n",
      "\n",
      "\n",
      "Thread num: 6:  80%|█████████████████████████████████████████████████            | 86/107 [9:54:26<3:04:21, 526.74s/it]\u001b[A\u001b[A\u001b[A"
     ]
    },
    {
     "name": "stdout",
     "output_type": "stream",
     "text": [
      "completed symbols FAX: APEN: JUPW: IPI: ENLC: WRTC: RMBL: PHX: KDMN: SSPK: EBR: BKCC: RWT: GSUM: FGPR: MXC: IGXT: GSKY: RTP: MEIP: PUYI: MYT: EXTR: ELVT: VRAY: HAPP: AAAU: PACE: CSPR: WRN: CEF: SBUM: DXYN: VIPS: MCRB: IEC: STIC: HUSN: INMB: GOCO: QHC: PBR: EADSY: AKTS: FEAC: ENSV: AFIN: FLNT: SPFR: CVE: RMM: DRAD: NCMI: NINE: INAQ: NTZ: AJAX: BCS: SUP: USEG: PDS: AMRH: TPR: BKD: ETON: CRDF: VRME: SSNT: CRVS: CLR: BCHG: NTNX: PAVE: LYSDY: ANGI: CRF: SBBP: PTI: ACRE: GVP: HST: PRTK: IEA: HA: ACRS: APRN - thread num: 6  -  86 / 107\n"
     ]
    },
    {
     "name": "stderr",
     "output_type": "stream",
     "text": [
      "\n",
      "Thread num: 3:  70%|██████████████████████████████████████████▊                  | 75/107 [9:55:58<6:31:44, 734.52s/it]\u001b[A"
     ]
    },
    {
     "name": "stdout",
     "output_type": "stream",
     "text": [
      "completed symbols AACQ: CTK: SVC: EGAN: PSTI: SAEXQ: EB: ATEN: CDXC: PVL: SILV: SILJ: NRBO: CARA: RTLR: CXW: FRO: EAST: PING: JPST: EQT: IDN: KBSF: FCAU: CLDX: TRNE: NBL: MAIN: ELY: PRCP: BRN: HJLI: DENN: RSI: IHT: TRQ: KIN: UUP: AMS: PSXP: TGEN: PMM: OII: DXD: AEY: OMI: TMQ: ZUO: MMLP: EGLE: CPG: NEW: XLF: PCRFY: USAS: SREV: MCEP: IHRT: P055094: ONDSD: DTEA: PDAC: AGS: ICLK: USX: FIVG: WEN: FHN: WMC: CERC: SECO: ARR: BDSI: RRR: CX - thread num: 3  -  75 / 107\n"
     ]
    },
    {
     "name": "stderr",
     "output_type": "stream",
     "text": [
      "\n",
      "\n",
      "\n",
      "\n",
      "\n",
      "Thread num: 1:  78%|███████████████████████████████████████████████▎             | 83/107 [9:56:24<1:37:20, 243.37s/it]\u001b[A\u001b[A\u001b[A\u001b[A\u001b[A"
     ]
    },
    {
     "name": "stdout",
     "output_type": "stream",
     "text": [
      "completed symbols OSS: VHC: FSI: SYRS: STIM: LMNL: CTHR: TDAC: MARPS: SLB: VVOS: MPLN: BLUE: FPAC: EDSA: ORMP: LAND: AMST: ELA: SOAC: PSAC: LWAY: ARDX: UAA: IDXG: BNKD: GTIM: ABR: PSTV: WOOF: GAIN: CCV: CGEN: CARR: CURI: CXDC: TECS: ETCG: PLAG: OTIC: SVAC: ASX: APTS: AKRX: DUDE: TBIO: EGO: GLYC: IO: VIH: FOLD: FAN: VACQ: BYD: CLMT: DSE: IMGN: GLG: USA: MOMO: ALUS: PRVB: AGC: VET: SOHO: CRMD: IEO: EOLS: ITCB: PRCH: HYRE: FOSL: ORC: PSNL: DCRB: XEC: TCON: SCPS: PGEN: ATAC: EXPC: IFBD: RAAC - thread num: 1  -  83 / 107\n"
     ]
    },
    {
     "name": "stderr",
     "output_type": "stream",
     "text": [
      "\n",
      "\n",
      "\n",
      "\n",
      "\n",
      "\n",
      "\n",
      "Thread num: 4:  92%|█████████████████████████████████████████████████████████▋     | 98/107 [9:56:33<38:51, 259.01s/it]\u001b[A\u001b[A\u001b[A\u001b[A\u001b[A\u001b[A\u001b[A"
     ]
    },
    {
     "name": "stdout",
     "output_type": "stream",
     "text": [
      "completed symbols CIM: VTSI: BTN: GP: ETTX: RUHN: GLDM: ALDX: EMX: MIND: BMRA: INSE: CHKR: SV: BLMN: QUIK: FPRX: PHCF: TWI: MUFG: JAKK: IPWR: WBAI: MUR: PIRS: CALX: ESTE: CTMX: ZIOP: CIK: CLM: PBCT: PRTS: FTK: SDPI: SRTS: OSMT: FLMN: CVU: CIT: SND: AUPH: FAII: TUSK: SHLDQ: ZCMD: MTL: DAC: XRF: QELL: FBP: ALLY: SGOC: KLXE: PUMP: RMGB: PFIE: UUU: DIV: OPES: ASMB: RQI: LWLG: AENZ: FPAY: RBAC: TACO: DRV: MDXG: ADVM: RYCEY: ONVO: VOLT: LYG: DAN: IAG: QLI: CHEF: EEIQ: LSF: ZNTE: USDP: HTGC: DHY: CYCC: ONCT: KZIA: NLOK: AXAS: ISNS: LPTX: GGAL: PAA: SHLX: NM: HNDL: DSLVF: STG - thread num: 4  -  98 / 107\n"
     ]
    },
    {
     "name": "stderr",
     "output_type": "stream",
     "text": [
      "\n",
      "\n",
      "\n",
      "Thread num: 6:  81%|█████████████████████████████████████████████████▌           | 87/107 [9:57:41<2:22:25, 427.27s/it]\u001b[A\u001b[A\u001b[A"
     ]
    },
    {
     "name": "stdout",
     "output_type": "stream",
     "text": [
      "completed symbols FAX: APEN: JUPW: IPI: ENLC: WRTC: RMBL: PHX: KDMN: SSPK: EBR: BKCC: RWT: GSUM: FGPR: MXC: IGXT: GSKY: RTP: MEIP: PUYI: MYT: EXTR: ELVT: VRAY: HAPP: AAAU: PACE: CSPR: WRN: CEF: SBUM: DXYN: VIPS: MCRB: IEC: STIC: HUSN: INMB: GOCO: QHC: PBR: EADSY: AKTS: FEAC: ENSV: AFIN: FLNT: SPFR: CVE: RMM: DRAD: NCMI: NINE: INAQ: NTZ: AJAX: BCS: SUP: USEG: PDS: AMRH: TPR: BKD: ETON: CRDF: VRME: SSNT: CRVS: CLR: BCHG: NTNX: PAVE: LYSDY: ANGI: CRF: SBBP: PTI: ACRE: GVP: HST: PRTK: IEA: HA: ACRS: APRN: GROW - thread num: 6  -  87 / 107\n"
     ]
    },
    {
     "name": "stderr",
     "output_type": "stream",
     "text": [
      "\n",
      "\n",
      "\n",
      "Thread num: 6:  82%|██████████████████████████████████████████████████▏          | 88/107 [9:58:45<1:40:43, 318.07s/it]\u001b[A\u001b[A\u001b[A"
     ]
    },
    {
     "name": "stdout",
     "output_type": "stream",
     "text": [
      "completed symbols FAX: APEN: JUPW: IPI: ENLC: WRTC: RMBL: PHX: KDMN: SSPK: EBR: BKCC: RWT: GSUM: FGPR: MXC: IGXT: GSKY: RTP: MEIP: PUYI: MYT: EXTR: ELVT: VRAY: HAPP: AAAU: PACE: CSPR: WRN: CEF: SBUM: DXYN: VIPS: MCRB: IEC: STIC: HUSN: INMB: GOCO: QHC: PBR: EADSY: AKTS: FEAC: ENSV: AFIN: FLNT: SPFR: CVE: RMM: DRAD: NCMI: NINE: INAQ: NTZ: AJAX: BCS: SUP: USEG: PDS: AMRH: TPR: BKD: ETON: CRDF: VRME: SSNT: CRVS: CLR: BCHG: NTNX: PAVE: LYSDY: ANGI: CRF: SBBP: PTI: ACRE: GVP: HST: PRTK: IEA: HA: ACRS: APRN: GROW: INVOD - thread num: 6  -  88 / 107\n"
     ]
    },
    {
     "name": "stderr",
     "output_type": "stream",
     "text": [
      "\n",
      "\n",
      "\n",
      "\n",
      "\n",
      "\n",
      "\n",
      "Thread num: 4:  93%|██████████████████████████████████████████████████████████▎    | 99/107 [9:58:51<29:40, 222.59s/it]\u001b[A\u001b[A\u001b[A\u001b[A\u001b[A\u001b[A\u001b[A"
     ]
    },
    {
     "name": "stdout",
     "output_type": "stream",
     "text": [
      "completed symbols CIM: VTSI: BTN: GP: ETTX: RUHN: GLDM: ALDX: EMX: MIND: BMRA: INSE: CHKR: SV: BLMN: QUIK: FPRX: PHCF: TWI: MUFG: JAKK: IPWR: WBAI: MUR: PIRS: CALX: ESTE: CTMX: ZIOP: CIK: CLM: PBCT: PRTS: FTK: SDPI: SRTS: OSMT: FLMN: CVU: CIT: SND: AUPH: FAII: TUSK: SHLDQ: ZCMD: MTL: DAC: XRF: QELL: FBP: ALLY: SGOC: KLXE: PUMP: RMGB: PFIE: UUU: DIV: OPES: ASMB: RQI: LWLG: AENZ: FPAY: RBAC: TACO: DRV: MDXG: ADVM: RYCEY: ONVO: VOLT: LYG: DAN: IAG: QLI: CHEF: EEIQ: LSF: ZNTE: USDP: HTGC: DHY: CYCC: ONCT: KZIA: NLOK: AXAS: ISNS: LPTX: GGAL: PAA: SHLX: NM: HNDL: DSLVF: STG: RELI - thread num: 4  -  99 / 107\n"
     ]
    },
    {
     "name": "stderr",
     "output_type": "stream",
     "text": [
      "\n",
      "\n",
      "\n",
      "\n",
      "\n",
      "\n",
      "Thread num: 5:  89%|██████████████████████████████████████████████████████▏      | 95/107 [9:58:55<3:14:50, 974.24s/it]\u001b[A\u001b[A\u001b[A\u001b[A\u001b[A\u001b[A"
     ]
    },
    {
     "name": "stdout",
     "output_type": "stream",
     "text": [
      "completed symbols QQQJ: CFFA: ACEV: USL: ORGO: BBW: SYBX: ECC: WSTL: CDR: IFRX: TRIL: DMYI: OSW: SMSI: ZDGE: SDIV: VBLT: SOGO: JT: SPNV: IDRA: UNG: MYOS: ALYA: HNRG: ARC: CHMA: MCF: USIO: AVEO: KLDO: INVE: ACTG: AMPG: EDNT: VSTO: NAVB: GNCA: VIOT: SWI: ERJ: EMAN: AWP: SIEB: AHPI: PIPP: RUTH: IGT: ONDK: NKLAW: TCS: III: MDP: TMF: BTAQ: SPWH: SPCX: USAT: CERS: CLNY: MPW: SSL: ENBL: STSA: GOSS: UTSI: AUTL: AGFY: UNFI: KPTI: GRAY: TWM: OBLG: NR: REFR: OESX: AR: ONE: STAG: SB: SRG: THTX: FTOC: WPF: CPST: LGVN: CALA: GTXMQ: BIIO: GALT: QDIV: SIG: FTI: OVV - thread num: 5  -  95 / 107\n"
     ]
    },
    {
     "name": "stderr",
     "output_type": "stream",
     "text": [
      "\n",
      "Thread num: 3:  71%|███████████████████████████████████████████▎                 | 76/107 [9:59:59<5:02:59, 586.42s/it]\u001b[A"
     ]
    },
    {
     "name": "stdout",
     "output_type": "stream",
     "text": [
      "completed symbols AACQ: CTK: SVC: EGAN: PSTI: SAEXQ: EB: ATEN: CDXC: PVL: SILV: SILJ: NRBO: CARA: RTLR: CXW: FRO: EAST: PING: JPST: EQT: IDN: KBSF: FCAU: CLDX: TRNE: NBL: MAIN: ELY: PRCP: BRN: HJLI: DENN: RSI: IHT: TRQ: KIN: UUP: AMS: PSXP: TGEN: PMM: OII: DXD: AEY: OMI: TMQ: ZUO: MMLP: EGLE: CPG: NEW: XLF: PCRFY: USAS: SREV: MCEP: IHRT: P055094: ONDSD: DTEA: PDAC: AGS: ICLK: USX: FIVG: WEN: FHN: WMC: CERC: SECO: ARR: BDSI: RRR: CX: SQNS - thread num: 3  -  76 / 107\n"
     ]
    },
    {
     "name": "stderr",
     "output_type": "stream",
     "text": [
      "\n",
      "Thread num: 3:  72%|███████████████████████████████████████████▏                | 77/107 [10:00:57<3:33:50, 427.69s/it]\u001b[A"
     ]
    },
    {
     "name": "stdout",
     "output_type": "stream",
     "text": [
      "completed symbols AACQ: CTK: SVC: EGAN: PSTI: SAEXQ: EB: ATEN: CDXC: PVL: SILV: SILJ: NRBO: CARA: RTLR: CXW: FRO: EAST: PING: JPST: EQT: IDN: KBSF: FCAU: CLDX: TRNE: NBL: MAIN: ELY: PRCP: BRN: HJLI: DENN: RSI: IHT: TRQ: KIN: UUP: AMS: PSXP: TGEN: PMM: OII: DXD: AEY: OMI: TMQ: ZUO: MMLP: EGLE: CPG: NEW: XLF: PCRFY: USAS: SREV: MCEP: IHRT: P055094: ONDSD: DTEA: PDAC: AGS: ICLK: USX: FIVG: WEN: FHN: WMC: CERC: SECO: ARR: BDSI: RRR: CX: SQNS: ECTM - thread num: 3  -  77 / 107\n"
     ]
    },
    {
     "name": "stderr",
     "output_type": "stream",
     "text": [
      "\n",
      "\n",
      "\n",
      "Thread num: 6:  83%|█████████████████████████████████████████████████▉          | 89/107 [10:03:47<1:33:59, 313.30s/it]\u001b[A\u001b[A\u001b[A"
     ]
    },
    {
     "name": "stdout",
     "output_type": "stream",
     "text": [
      "completed symbols FAX: APEN: JUPW: IPI: ENLC: WRTC: RMBL: PHX: KDMN: SSPK: EBR: BKCC: RWT: GSUM: FGPR: MXC: IGXT: GSKY: RTP: MEIP: PUYI: MYT: EXTR: ELVT: VRAY: HAPP: AAAU: PACE: CSPR: WRN: CEF: SBUM: DXYN: VIPS: MCRB: IEC: STIC: HUSN: INMB: GOCO: QHC: PBR: EADSY: AKTS: FEAC: ENSV: AFIN: FLNT: SPFR: CVE: RMM: DRAD: NCMI: NINE: INAQ: NTZ: AJAX: BCS: SUP: USEG: PDS: AMRH: TPR: BKD: ETON: CRDF: VRME: SSNT: CRVS: CLR: BCHG: NTNX: PAVE: LYSDY: ANGI: CRF: SBBP: PTI: ACRE: GVP: HST: PRTK: IEA: HA: ACRS: APRN: GROW: INVOD: CUE - thread num: 6  -  89 / 107\n"
     ]
    },
    {
     "name": "stderr",
     "output_type": "stream",
     "text": [
      "\n",
      "\n",
      "\n",
      "\n",
      "\n",
      "\n",
      "\n",
      "Thread num: 4:  93%|█████████████████████████████████████████████████████████    | 100/107 [10:06:57<35:11, 301.68s/it]\u001b[A\u001b[A\u001b[A\u001b[A\u001b[A\u001b[A\u001b[A"
     ]
    },
    {
     "name": "stdout",
     "output_type": "stream",
     "text": [
      "completed symbols CIM: VTSI: BTN: GP: ETTX: RUHN: GLDM: ALDX: EMX: MIND: BMRA: INSE: CHKR: SV: BLMN: QUIK: FPRX: PHCF: TWI: MUFG: JAKK: IPWR: WBAI: MUR: PIRS: CALX: ESTE: CTMX: ZIOP: CIK: CLM: PBCT: PRTS: FTK: SDPI: SRTS: OSMT: FLMN: CVU: CIT: SND: AUPH: FAII: TUSK: SHLDQ: ZCMD: MTL: DAC: XRF: QELL: FBP: ALLY: SGOC: KLXE: PUMP: RMGB: PFIE: UUU: DIV: OPES: ASMB: RQI: LWLG: AENZ: FPAY: RBAC: TACO: DRV: MDXG: ADVM: RYCEY: ONVO: VOLT: LYG: DAN: IAG: QLI: CHEF: EEIQ: LSF: ZNTE: USDP: HTGC: DHY: CYCC: ONCT: KZIA: NLOK: AXAS: ISNS: LPTX: GGAL: PAA: SHLX: NM: HNDL: DSLVF: STG: RELI: BOTZ - thread num: 4  -  100 / 107\n"
     ]
    },
    {
     "name": "stderr",
     "output_type": "stream",
     "text": [
      "\n",
      "Thread num: 3:  73%|███████████████████████████████████████████▋                | 78/107 [10:10:16<3:45:47, 467.14s/it]\u001b[A"
     ]
    },
    {
     "name": "stdout",
     "output_type": "stream",
     "text": [
      "completed symbols AACQ: CTK: SVC: EGAN: PSTI: SAEXQ: EB: ATEN: CDXC: PVL: SILV: SILJ: NRBO: CARA: RTLR: CXW: FRO: EAST: PING: JPST: EQT: IDN: KBSF: FCAU: CLDX: TRNE: NBL: MAIN: ELY: PRCP: BRN: HJLI: DENN: RSI: IHT: TRQ: KIN: UUP: AMS: PSXP: TGEN: PMM: OII: DXD: AEY: OMI: TMQ: ZUO: MMLP: EGLE: CPG: NEW: XLF: PCRFY: USAS: SREV: MCEP: IHRT: P055094: ONDSD: DTEA: PDAC: AGS: ICLK: USX: FIVG: WEN: FHN: WMC: CERC: SECO: ARR: BDSI: RRR: CX: SQNS: ECTM: VEON - thread num: 3  -  78 / 107\n"
     ]
    },
    {
     "name": "stderr",
     "output_type": "stream",
     "text": [
      "\n",
      "\n",
      "\n",
      "\n",
      "\n",
      "\n",
      "Thread num: 5:  90%|█████████████████████████████████████████████████████▊      | 96/107 [10:11:31<2:46:36, 908.79s/it]\u001b[A\u001b[A\u001b[A\u001b[A\u001b[A\u001b[A"
     ]
    },
    {
     "name": "stdout",
     "output_type": "stream",
     "text": [
      "completed symbols QQQJ: CFFA: ACEV: USL: ORGO: BBW: SYBX: ECC: WSTL: CDR: IFRX: TRIL: DMYI: OSW: SMSI: ZDGE: SDIV: VBLT: SOGO: JT: SPNV: IDRA: UNG: MYOS: ALYA: HNRG: ARC: CHMA: MCF: USIO: AVEO: KLDO: INVE: ACTG: AMPG: EDNT: VSTO: NAVB: GNCA: VIOT: SWI: ERJ: EMAN: AWP: SIEB: AHPI: PIPP: RUTH: IGT: ONDK: NKLAW: TCS: III: MDP: TMF: BTAQ: SPWH: SPCX: USAT: CERS: CLNY: MPW: SSL: ENBL: STSA: GOSS: UTSI: AUTL: AGFY: UNFI: KPTI: GRAY: TWM: OBLG: NR: REFR: OESX: AR: ONE: STAG: SB: SRG: THTX: FTOC: WPF: CPST: LGVN: CALA: GTXMQ: BIIO: GALT: QDIV: SIG: FTI: OVV: SGMO - thread num: 5  -  96 / 107\n"
     ]
    },
    {
     "name": "stderr",
     "output_type": "stream",
     "text": [
      "\n",
      "\n",
      "\n",
      "\n",
      "\n",
      "\n",
      "\n",
      "Thread num: 4:  94%|█████████████████████████████████████████████████████████▌   | 101/107 [10:11:55<30:02, 300.47s/it]\u001b[A\u001b[A\u001b[A\u001b[A\u001b[A\u001b[A\u001b[A"
     ]
    },
    {
     "name": "stdout",
     "output_type": "stream",
     "text": [
      "completed symbols CIM: VTSI: BTN: GP: ETTX: RUHN: GLDM: ALDX: EMX: MIND: BMRA: INSE: CHKR: SV: BLMN: QUIK: FPRX: PHCF: TWI: MUFG: JAKK: IPWR: WBAI: MUR: PIRS: CALX: ESTE: CTMX: ZIOP: CIK: CLM: PBCT: PRTS: FTK: SDPI: SRTS: OSMT: FLMN: CVU: CIT: SND: AUPH: FAII: TUSK: SHLDQ: ZCMD: MTL: DAC: XRF: QELL: FBP: ALLY: SGOC: KLXE: PUMP: RMGB: PFIE: UUU: DIV: OPES: ASMB: RQI: LWLG: AENZ: FPAY: RBAC: TACO: DRV: MDXG: ADVM: RYCEY: ONVO: VOLT: LYG: DAN: IAG: QLI: CHEF: EEIQ: LSF: ZNTE: USDP: HTGC: DHY: CYCC: ONCT: KZIA: NLOK: AXAS: ISNS: LPTX: GGAL: PAA: SHLX: NM: HNDL: DSLVF: STG: RELI: BOTZ: SNOA - thread num: 4  -  101 / 107\n"
     ]
    },
    {
     "name": "stderr",
     "output_type": "stream",
     "text": [
      "\n",
      "\n",
      "\n",
      "Thread num: 6:  84%|██████████████████████████████████████████████████▍         | 90/107 [10:14:16<1:55:38, 408.13s/it]"
     ]
    },
    {
     "name": "stdout",
     "output_type": "stream",
     "text": [
      "completed symbols FAX: APEN: JUPW: IPI: ENLC: WRTC: RMBL: PHX: KDMN: SSPK: EBR: BKCC: RWT: GSUM: FGPR: MXC: IGXT: GSKY: RTP: MEIP: PUYI: MYT: EXTR: ELVT: VRAY: HAPP: AAAU: PACE: CSPR: WRN: CEF: SBUM: DXYN: VIPS: MCRB: IEC: STIC: HUSN: INMB: GOCO: QHC: PBR: EADSY: AKTS: FEAC: ENSV: AFIN: FLNT: SPFR: CVE: RMM: DRAD: NCMI: NINE: INAQ: NTZ: AJAX: BCS: SUP: USEG: PDS: AMRH: TPR: BKD: ETON: CRDF: VRME: SSNT: CRVS: CLR: BCHG: NTNX: PAVE: LYSDY: ANGI: CRF: SBBP: PTI: ACRE: GVP: HST: PRTK: IEA: HA: ACRS: APRN: GROW: INVOD: CUE: HRTX - thread num: 6  -  90 / 107\n"
     ]
    },
    {
     "name": "stderr",
     "output_type": "stream",
     "text": [
      "\u001b[A\u001b[A\u001b[A\n",
      "\n",
      "\n",
      "\n",
      "\n",
      "Thread num: 1:  79%|███████████████████████████████████████████████             | 84/107 [10:14:19<3:08:51, 492.67s/it]\u001b[A\u001b[A\u001b[A\u001b[A\u001b[A"
     ]
    },
    {
     "name": "stdout",
     "output_type": "stream",
     "text": [
      "completed symbols OSS: VHC: FSI: SYRS: STIM: LMNL: CTHR: TDAC: MARPS: SLB: VVOS: MPLN: BLUE: FPAC: EDSA: ORMP: LAND: AMST: ELA: SOAC: PSAC: LWAY: ARDX: UAA: IDXG: BNKD: GTIM: ABR: PSTV: WOOF: GAIN: CCV: CGEN: CARR: CURI: CXDC: TECS: ETCG: PLAG: OTIC: SVAC: ASX: APTS: AKRX: DUDE: TBIO: EGO: GLYC: IO: VIH: FOLD: FAN: VACQ: BYD: CLMT: DSE: IMGN: GLG: USA: MOMO: ALUS: PRVB: AGC: VET: SOHO: CRMD: IEO: EOLS: ITCB: PRCH: HYRE: FOSL: ORC: PSNL: DCRB: XEC: TCON: SCPS: PGEN: ATAC: EXPC: IFBD: RAAC: FLR - thread num: 1  -  84 / 107\n"
     ]
    },
    {
     "name": "stderr",
     "output_type": "stream",
     "text": [
      "\n",
      "\n",
      "\n",
      "Thread num: 6:  85%|███████████████████████████████████████████████████         | 91/107 [10:17:16<1:30:35, 339.72s/it]\u001b[A\u001b[A\u001b[A"
     ]
    },
    {
     "name": "stdout",
     "output_type": "stream",
     "text": [
      "completed symbols FAX: APEN: JUPW: IPI: ENLC: WRTC: RMBL: PHX: KDMN: SSPK: EBR: BKCC: RWT: GSUM: FGPR: MXC: IGXT: GSKY: RTP: MEIP: PUYI: MYT: EXTR: ELVT: VRAY: HAPP: AAAU: PACE: CSPR: WRN: CEF: SBUM: DXYN: VIPS: MCRB: IEC: STIC: HUSN: INMB: GOCO: QHC: PBR: EADSY: AKTS: FEAC: ENSV: AFIN: FLNT: SPFR: CVE: RMM: DRAD: NCMI: NINE: INAQ: NTZ: AJAX: BCS: SUP: USEG: PDS: AMRH: TPR: BKD: ETON: CRDF: VRME: SSNT: CRVS: CLR: BCHG: NTNX: PAVE: LYSDY: ANGI: CRF: SBBP: PTI: ACRE: GVP: HST: PRTK: IEA: HA: ACRS: APRN: GROW: INVOD: CUE: HRTX: GBOX - thread num: 6  -  91 / 107\n"
     ]
    },
    {
     "name": "stderr",
     "output_type": "stream",
     "text": [
      "\n",
      "\n",
      "\n",
      "\n",
      "\n",
      "Thread num: 1:  79%|███████████████████████████████████████████████▋            | 85/107 [10:17:31<2:27:33, 402.42s/it]\u001b[A\u001b[A\u001b[A\u001b[A\u001b[A"
     ]
    },
    {
     "name": "stdout",
     "output_type": "stream",
     "text": [
      "completed symbols OSS: VHC: FSI: SYRS: STIM: LMNL: CTHR: TDAC: MARPS: SLB: VVOS: MPLN: BLUE: FPAC: EDSA: ORMP: LAND: AMST: ELA: SOAC: PSAC: LWAY: ARDX: UAA: IDXG: BNKD: GTIM: ABR: PSTV: WOOF: GAIN: CCV: CGEN: CARR: CURI: CXDC: TECS: ETCG: PLAG: OTIC: SVAC: ASX: APTS: AKRX: DUDE: TBIO: EGO: GLYC: IO: VIH: FOLD: FAN: VACQ: BYD: CLMT: DSE: IMGN: GLG: USA: MOMO: ALUS: PRVB: AGC: VET: SOHO: CRMD: IEO: EOLS: ITCB: PRCH: HYRE: FOSL: ORC: PSNL: DCRB: XEC: TCON: SCPS: PGEN: ATAC: EXPC: IFBD: RAAC: FLR: MEDS - thread num: 1  -  85 / 107\n"
     ]
    },
    {
     "name": "stderr",
     "output_type": "stream",
     "text": [
      "\n",
      "\n",
      "\n",
      "\n",
      "\n",
      "\n",
      "Thread num: 5:  91%|██████████████████████████████████████████████████████▍     | 97/107 [10:19:25<2:09:41, 778.11s/it]\u001b[A\u001b[A\u001b[A\u001b[A\u001b[A\u001b[A"
     ]
    },
    {
     "name": "stdout",
     "output_type": "stream",
     "text": [
      "completed symbols QQQJ: CFFA: ACEV: USL: ORGO: BBW: SYBX: ECC: WSTL: CDR: IFRX: TRIL: DMYI: OSW: SMSI: ZDGE: SDIV: VBLT: SOGO: JT: SPNV: IDRA: UNG: MYOS: ALYA: HNRG: ARC: CHMA: MCF: USIO: AVEO: KLDO: INVE: ACTG: AMPG: EDNT: VSTO: NAVB: GNCA: VIOT: SWI: ERJ: EMAN: AWP: SIEB: AHPI: PIPP: RUTH: IGT: ONDK: NKLAW: TCS: III: MDP: TMF: BTAQ: SPWH: SPCX: USAT: CERS: CLNY: MPW: SSL: ENBL: STSA: GOSS: UTSI: AUTL: AGFY: UNFI: KPTI: GRAY: TWM: OBLG: NR: REFR: OESX: AR: ONE: STAG: SB: SRG: THTX: FTOC: WPF: CPST: LGVN: CALA: GTXMQ: BIIO: GALT: QDIV: SIG: FTI: OVV: SGMO: SRRK - thread num: 5  -  97 / 107\n"
     ]
    },
    {
     "name": "stderr",
     "output_type": "stream",
     "text": [
      "\n",
      "\n",
      "\n",
      "\n",
      "\n",
      "\n",
      "\n",
      "Thread num: 4:  95%|██████████████████████████████████████████████████████████▏  | 102/107 [10:19:27<28:49, 345.85s/it]\u001b[A\u001b[A\u001b[A\u001b[A\u001b[A\u001b[A\u001b[A"
     ]
    },
    {
     "name": "stdout",
     "output_type": "stream",
     "text": [
      "completed symbols CIM: VTSI: BTN: GP: ETTX: RUHN: GLDM: ALDX: EMX: MIND: BMRA: INSE: CHKR: SV: BLMN: QUIK: FPRX: PHCF: TWI: MUFG: JAKK: IPWR: WBAI: MUR: PIRS: CALX: ESTE: CTMX: ZIOP: CIK: CLM: PBCT: PRTS: FTK: SDPI: SRTS: OSMT: FLMN: CVU: CIT: SND: AUPH: FAII: TUSK: SHLDQ: ZCMD: MTL: DAC: XRF: QELL: FBP: ALLY: SGOC: KLXE: PUMP: RMGB: PFIE: UUU: DIV: OPES: ASMB: RQI: LWLG: AENZ: FPAY: RBAC: TACO: DRV: MDXG: ADVM: RYCEY: ONVO: VOLT: LYG: DAN: IAG: QLI: CHEF: EEIQ: LSF: ZNTE: USDP: HTGC: DHY: CYCC: ONCT: KZIA: NLOK: AXAS: ISNS: LPTX: GGAL: PAA: SHLX: NM: HNDL: DSLVF: STG: RELI: BOTZ: SNOA: ARCO - thread num: 4  -  102 / 107\n"
     ]
    },
    {
     "name": "stderr",
     "output_type": "stream",
     "text": [
      "\n",
      "Thread num: 3:  74%|████████████████████████████████████████████▎               | 79/107 [10:19:44<3:52:05, 497.35s/it]\u001b[A"
     ]
    },
    {
     "name": "stdout",
     "output_type": "stream",
     "text": [
      "completed symbols AACQ: CTK: SVC: EGAN: PSTI: SAEXQ: EB: ATEN: CDXC: PVL: SILV: SILJ: NRBO: CARA: RTLR: CXW: FRO: EAST: PING: JPST: EQT: IDN: KBSF: FCAU: CLDX: TRNE: NBL: MAIN: ELY: PRCP: BRN: HJLI: DENN: RSI: IHT: TRQ: KIN: UUP: AMS: PSXP: TGEN: PMM: OII: DXD: AEY: OMI: TMQ: ZUO: MMLP: EGLE: CPG: NEW: XLF: PCRFY: USAS: SREV: MCEP: IHRT: P055094: ONDSD: DTEA: PDAC: AGS: ICLK: USX: FIVG: WEN: FHN: WMC: CERC: SECO: ARR: BDSI: RRR: CX: SQNS: ECTM: VEON: SLCA - thread num: 3  -  79 / 107\n"
     ]
    },
    {
     "name": "stderr",
     "output_type": "stream",
     "text": [
      "\n",
      "Thread num: 3:  75%|████████████████████████████████████████████▊               | 80/107 [10:21:59<2:54:56, 388.76s/it]\u001b[A"
     ]
    },
    {
     "name": "stdout",
     "output_type": "stream",
     "text": [
      "completed symbols AACQ: CTK: SVC: EGAN: PSTI: SAEXQ: EB: ATEN: CDXC: PVL: SILV: SILJ: NRBO: CARA: RTLR: CXW: FRO: EAST: PING: JPST: EQT: IDN: KBSF: FCAU: CLDX: TRNE: NBL: MAIN: ELY: PRCP: BRN: HJLI: DENN: RSI: IHT: TRQ: KIN: UUP: AMS: PSXP: TGEN: PMM: OII: DXD: AEY: OMI: TMQ: ZUO: MMLP: EGLE: CPG: NEW: XLF: PCRFY: USAS: SREV: MCEP: IHRT: P055094: ONDSD: DTEA: PDAC: AGS: ICLK: USX: FIVG: WEN: FHN: WMC: CERC: SECO: ARR: BDSI: RRR: CX: SQNS: ECTM: VEON: SLCA: WTT - thread num: 3  -  80 / 107\n"
     ]
    },
    {
     "name": "stderr",
     "output_type": "stream",
     "text": [
      "\n",
      "\n",
      "\n",
      "\n",
      "\n",
      "Thread num: 1:  80%|████████████████████████████████████████████████▏           | 86/107 [10:22:02<2:07:08, 363.25s/it]\u001b[A\u001b[A\u001b[A\u001b[A\u001b[A"
     ]
    },
    {
     "name": "stdout",
     "output_type": "stream",
     "text": [
      "completed symbols OSS: VHC: FSI: SYRS: STIM: LMNL: CTHR: TDAC: MARPS: SLB: VVOS: MPLN: BLUE: FPAC: EDSA: ORMP: LAND: AMST: ELA: SOAC: PSAC: LWAY: ARDX: UAA: IDXG: BNKD: GTIM: ABR: PSTV: WOOF: GAIN: CCV: CGEN: CARR: CURI: CXDC: TECS: ETCG: PLAG: OTIC: SVAC: ASX: APTS: AKRX: DUDE: TBIO: EGO: GLYC: IO: VIH: FOLD: FAN: VACQ: BYD: CLMT: DSE: IMGN: GLG: USA: MOMO: ALUS: PRVB: AGC: VET: SOHO: CRMD: IEO: EOLS: ITCB: PRCH: HYRE: FOSL: ORC: PSNL: DCRB: XEC: TCON: SCPS: PGEN: ATAC: EXPC: IFBD: RAAC: FLR: MEDS: IPV - thread num: 1  -  86 / 107\n"
     ]
    },
    {
     "name": "stderr",
     "output_type": "stream",
     "text": [
      "\n",
      "\n",
      "\n",
      "\n",
      "\n",
      "\n",
      "Thread num: 5:  92%|██████████████████████████████████████████████████████▉     | 98/107 [10:22:04<1:28:52, 592.46s/it]\u001b[A\u001b[A\u001b[A\u001b[A\u001b[A\u001b[A"
     ]
    },
    {
     "name": "stdout",
     "output_type": "stream",
     "text": [
      "completed symbols QQQJ: CFFA: ACEV: USL: ORGO: BBW: SYBX: ECC: WSTL: CDR: IFRX: TRIL: DMYI: OSW: SMSI: ZDGE: SDIV: VBLT: SOGO: JT: SPNV: IDRA: UNG: MYOS: ALYA: HNRG: ARC: CHMA: MCF: USIO: AVEO: KLDO: INVE: ACTG: AMPG: EDNT: VSTO: NAVB: GNCA: VIOT: SWI: ERJ: EMAN: AWP: SIEB: AHPI: PIPP: RUTH: IGT: ONDK: NKLAW: TCS: III: MDP: TMF: BTAQ: SPWH: SPCX: USAT: CERS: CLNY: MPW: SSL: ENBL: STSA: GOSS: UTSI: AUTL: AGFY: UNFI: KPTI: GRAY: TWM: OBLG: NR: REFR: OESX: AR: ONE: STAG: SB: SRG: THTX: FTOC: WPF: CPST: LGVN: CALA: GTXMQ: BIIO: GALT: QDIV: SIG: FTI: OVV: SGMO: SRRK: CSU - thread num: 5  -  98 / 107\n"
     ]
    },
    {
     "name": "stderr",
     "output_type": "stream",
     "text": [
      "\n",
      "\n",
      "\n",
      "\n",
      "\n",
      "\n",
      "Thread num: 5:  93%|███████████████████████████████████████████████████████▌    | 99/107 [10:25:53<1:04:26, 483.34s/it]\u001b[A\u001b[A\u001b[A\u001b[A\u001b[A\u001b[A"
     ]
    },
    {
     "name": "stdout",
     "output_type": "stream",
     "text": [
      "completed symbols QQQJ: CFFA: ACEV: USL: ORGO: BBW: SYBX: ECC: WSTL: CDR: IFRX: TRIL: DMYI: OSW: SMSI: ZDGE: SDIV: VBLT: SOGO: JT: SPNV: IDRA: UNG: MYOS: ALYA: HNRG: ARC: CHMA: MCF: USIO: AVEO: KLDO: INVE: ACTG: AMPG: EDNT: VSTO: NAVB: GNCA: VIOT: SWI: ERJ: EMAN: AWP: SIEB: AHPI: PIPP: RUTH: IGT: ONDK: NKLAW: TCS: III: MDP: TMF: BTAQ: SPWH: SPCX: USAT: CERS: CLNY: MPW: SSL: ENBL: STSA: GOSS: UTSI: AUTL: AGFY: UNFI: KPTI: GRAY: TWM: OBLG: NR: REFR: OESX: AR: ONE: STAG: SB: SRG: THTX: FTOC: WPF: CPST: LGVN: CALA: GTXMQ: BIIO: GALT: QDIV: SIG: FTI: OVV: SGMO: SRRK: CSU: NCNA - thread num: 5  -  99 / 107\n"
     ]
    },
    {
     "name": "stderr",
     "output_type": "stream",
     "text": [
      "\n",
      "\n",
      "\n",
      "Thread num: 6:  86%|███████████████████████████████████████████████████▌        | 92/107 [10:27:38<1:46:03, 424.24s/it]\u001b[A\u001b[A\u001b[A"
     ]
    },
    {
     "name": "stdout",
     "output_type": "stream",
     "text": [
      "completed symbols FAX: APEN: JUPW: IPI: ENLC: WRTC: RMBL: PHX: KDMN: SSPK: EBR: BKCC: RWT: GSUM: FGPR: MXC: IGXT: GSKY: RTP: MEIP: PUYI: MYT: EXTR: ELVT: VRAY: HAPP: AAAU: PACE: CSPR: WRN: CEF: SBUM: DXYN: VIPS: MCRB: IEC: STIC: HUSN: INMB: GOCO: QHC: PBR: EADSY: AKTS: FEAC: ENSV: AFIN: FLNT: SPFR: CVE: RMM: DRAD: NCMI: NINE: INAQ: NTZ: AJAX: BCS: SUP: USEG: PDS: AMRH: TPR: BKD: ETON: CRDF: VRME: SSNT: CRVS: CLR: BCHG: NTNX: PAVE: LYSDY: ANGI: CRF: SBBP: PTI: ACRE: GVP: HST: PRTK: IEA: HA: ACRS: APRN: GROW: INVOD: CUE: HRTX: GBOX: FLWS - thread num: 6  -  92 / 107\n"
     ]
    },
    {
     "name": "stderr",
     "output_type": "stream",
     "text": [
      "\n",
      "\n",
      "\n",
      "Thread num: 6:  87%|████████████████████████████████████████████████████▏       | 93/107 [10:30:34<1:21:37, 349.79s/it]\u001b[A\u001b[A\u001b[A"
     ]
    },
    {
     "name": "stdout",
     "output_type": "stream",
     "text": [
      "completed symbols FAX: APEN: JUPW: IPI: ENLC: WRTC: RMBL: PHX: KDMN: SSPK: EBR: BKCC: RWT: GSUM: FGPR: MXC: IGXT: GSKY: RTP: MEIP: PUYI: MYT: EXTR: ELVT: VRAY: HAPP: AAAU: PACE: CSPR: WRN: CEF: SBUM: DXYN: VIPS: MCRB: IEC: STIC: HUSN: INMB: GOCO: QHC: PBR: EADSY: AKTS: FEAC: ENSV: AFIN: FLNT: SPFR: CVE: RMM: DRAD: NCMI: NINE: INAQ: NTZ: AJAX: BCS: SUP: USEG: PDS: AMRH: TPR: BKD: ETON: CRDF: VRME: SSNT: CRVS: CLR: BCHG: NTNX: PAVE: LYSDY: ANGI: CRF: SBBP: PTI: ACRE: GVP: HST: PRTK: IEA: HA: ACRS: APRN: GROW: INVOD: CUE: HRTX: GBOX: FLWS: WINT - thread num: 6  -  93 / 107\n"
     ]
    },
    {
     "name": "stderr",
     "output_type": "stream",
     "text": [
      "\n",
      "Thread num: 3:  76%|█████████████████████████████████████████████▍              | 81/107 [10:34:26<3:35:03, 496.28s/it]\u001b[A"
     ]
    },
    {
     "name": "stdout",
     "output_type": "stream",
     "text": [
      "completed symbols AACQ: CTK: SVC: EGAN: PSTI: SAEXQ: EB: ATEN: CDXC: PVL: SILV: SILJ: NRBO: CARA: RTLR: CXW: FRO: EAST: PING: JPST: EQT: IDN: KBSF: FCAU: CLDX: TRNE: NBL: MAIN: ELY: PRCP: BRN: HJLI: DENN: RSI: IHT: TRQ: KIN: UUP: AMS: PSXP: TGEN: PMM: OII: DXD: AEY: OMI: TMQ: ZUO: MMLP: EGLE: CPG: NEW: XLF: PCRFY: USAS: SREV: MCEP: IHRT: P055094: ONDSD: DTEA: PDAC: AGS: ICLK: USX: FIVG: WEN: FHN: WMC: CERC: SECO: ARR: BDSI: RRR: CX: SQNS: ECTM: VEON: SLCA: WTT: SLQT - thread num: 3  -  81 / 107\n"
     ]
    },
    {
     "name": "stderr",
     "output_type": "stream",
     "text": [
      "\n",
      "\n",
      "\n",
      "\n",
      "\n",
      "\n",
      "Thread num: 5:  93%|███████████████████████████████████████████████████████▏   | 100/107 [10:39:07<1:07:16, 576.65s/it]\u001b[A\u001b[A\u001b[A\u001b[A\u001b[A\u001b[A"
     ]
    },
    {
     "name": "stdout",
     "output_type": "stream",
     "text": [
      "completed symbols QQQJ: CFFA: ACEV: USL: ORGO: BBW: SYBX: ECC: WSTL: CDR: IFRX: TRIL: DMYI: OSW: SMSI: ZDGE: SDIV: VBLT: SOGO: JT: SPNV: IDRA: UNG: MYOS: ALYA: HNRG: ARC: CHMA: MCF: USIO: AVEO: KLDO: INVE: ACTG: AMPG: EDNT: VSTO: NAVB: GNCA: VIOT: SWI: ERJ: EMAN: AWP: SIEB: AHPI: PIPP: RUTH: IGT: ONDK: NKLAW: TCS: III: MDP: TMF: BTAQ: SPWH: SPCX: USAT: CERS: CLNY: MPW: SSL: ENBL: STSA: GOSS: UTSI: AUTL: AGFY: UNFI: KPTI: GRAY: TWM: OBLG: NR: REFR: OESX: AR: ONE: STAG: SB: SRG: THTX: FTOC: WPF: CPST: LGVN: CALA: GTXMQ: BIIO: GALT: QDIV: SIG: FTI: OVV: SGMO: SRRK: CSU: NCNA: QFIN - thread num: 5  -  100 / 107\n"
     ]
    },
    {
     "name": "stderr",
     "output_type": "stream",
     "text": [
      "\n",
      "\n",
      "\n",
      "\n",
      "\n",
      "\n",
      "Thread num: 5:  94%|█████████████████████████████████████████████████████████▌   | 101/107 [10:42:40<46:45, 467.56s/it]\u001b[A\u001b[A\u001b[A\u001b[A\u001b[A\u001b[A"
     ]
    },
    {
     "name": "stdout",
     "output_type": "stream",
     "text": [
      "completed symbols QQQJ: CFFA: ACEV: USL: ORGO: BBW: SYBX: ECC: WSTL: CDR: IFRX: TRIL: DMYI: OSW: SMSI: ZDGE: SDIV: VBLT: SOGO: JT: SPNV: IDRA: UNG: MYOS: ALYA: HNRG: ARC: CHMA: MCF: USIO: AVEO: KLDO: INVE: ACTG: AMPG: EDNT: VSTO: NAVB: GNCA: VIOT: SWI: ERJ: EMAN: AWP: SIEB: AHPI: PIPP: RUTH: IGT: ONDK: NKLAW: TCS: III: MDP: TMF: BTAQ: SPWH: SPCX: USAT: CERS: CLNY: MPW: SSL: ENBL: STSA: GOSS: UTSI: AUTL: AGFY: UNFI: KPTI: GRAY: TWM: OBLG: NR: REFR: OESX: AR: ONE: STAG: SB: SRG: THTX: FTOC: WPF: CPST: LGVN: CALA: GTXMQ: BIIO: GALT: QDIV: SIG: FTI: OVV: SGMO: SRRK: CSU: NCNA: QFIN: SCON - thread num: 5  -  101 / 107\n"
     ]
    },
    {
     "name": "stderr",
     "output_type": "stream",
     "text": [
      "\n",
      "\n",
      "\n",
      "\n",
      "\n",
      "\n",
      "Thread num: 5:  95%|██████████████████████████████████████████████████████████▏  | 102/107 [10:47:35<34:39, 415.91s/it]\u001b[A\u001b[A\u001b[A\u001b[A\u001b[A\u001b[A"
     ]
    },
    {
     "name": "stdout",
     "output_type": "stream",
     "text": [
      "completed symbols QQQJ: CFFA: ACEV: USL: ORGO: BBW: SYBX: ECC: WSTL: CDR: IFRX: TRIL: DMYI: OSW: SMSI: ZDGE: SDIV: VBLT: SOGO: JT: SPNV: IDRA: UNG: MYOS: ALYA: HNRG: ARC: CHMA: MCF: USIO: AVEO: KLDO: INVE: ACTG: AMPG: EDNT: VSTO: NAVB: GNCA: VIOT: SWI: ERJ: EMAN: AWP: SIEB: AHPI: PIPP: RUTH: IGT: ONDK: NKLAW: TCS: III: MDP: TMF: BTAQ: SPWH: SPCX: USAT: CERS: CLNY: MPW: SSL: ENBL: STSA: GOSS: UTSI: AUTL: AGFY: UNFI: KPTI: GRAY: TWM: OBLG: NR: REFR: OESX: AR: ONE: STAG: SB: SRG: THTX: FTOC: WPF: CPST: LGVN: CALA: GTXMQ: BIIO: GALT: QDIV: SIG: FTI: OVV: SGMO: SRRK: CSU: NCNA: QFIN: SCON: SRET - thread num: 5  -  102 / 107\n"
     ]
    },
    {
     "name": "stderr",
     "output_type": "stream",
     "text": [
      "\r",
      "Thread num: 2:  76%|████████████████████████████████████████████▋              | 81/107 [10:47:59<9:54:21, 1371.58s/it]"
     ]
    },
    {
     "name": "stdout",
     "output_type": "stream",
     "text": [
      "completed symbols OMP: APLT: NRO: IMH: THM: WHLM: EBET: VNRX: RLX: LEVI: ASTS: IMMR: DSX: CDE: YI: TRIB: ROCH: HZON: TNK: GNW: MILE: TSIAU: TOUR: ACIU: CLOU: XYF: TPGY: CAKE: CMPS: KALA: KLR: CDTX: ACP: CMMB: HGBL: SALM: STM: OXSQ: FGEN: TCCO: DTIL: CMLF: SMTS: BYRN: LIFE: DHT: EURN: SEAH: STOR: VVNT: RAAS: GEO: CAAS: PBF: HERO: AMCI: FURY: BDR: HBI: TLC: ACER: CURO: LTRPA: FIT: HOL: PERS: PCI: MLHR: ASLN: HIMS: ALAC: VKTX: LHDX: SU: IVZ: GEL: DYAI: MACK: APDN: AXU: DVN - thread num: 2  -  81 / 107\n"
     ]
    },
    {
     "name": "stderr",
     "output_type": "stream",
     "text": [
      "\n",
      "\n",
      "\n",
      "\n",
      "\n",
      "\n",
      "\n",
      "Thread num: 4:  96%|██████████████████████████████████████████████████████████▋  | 103/107 [10:49:33<52:15, 783.95s/it]\u001b[A\u001b[A\u001b[A\u001b[A\u001b[A\u001b[A\u001b[A"
     ]
    },
    {
     "name": "stdout",
     "output_type": "stream",
     "text": [
      "completed symbols CIM: VTSI: BTN: GP: ETTX: RUHN: GLDM: ALDX: EMX: MIND: BMRA: INSE: CHKR: SV: BLMN: QUIK: FPRX: PHCF: TWI: MUFG: JAKK: IPWR: WBAI: MUR: PIRS: CALX: ESTE: CTMX: ZIOP: CIK: CLM: PBCT: PRTS: FTK: SDPI: SRTS: OSMT: FLMN: CVU: CIT: SND: AUPH: FAII: TUSK: SHLDQ: ZCMD: MTL: DAC: XRF: QELL: FBP: ALLY: SGOC: KLXE: PUMP: RMGB: PFIE: UUU: DIV: OPES: ASMB: RQI: LWLG: AENZ: FPAY: RBAC: TACO: DRV: MDXG: ADVM: RYCEY: ONVO: VOLT: LYG: DAN: IAG: QLI: CHEF: EEIQ: LSF: ZNTE: USDP: HTGC: DHY: CYCC: ONCT: KZIA: NLOK: AXAS: ISNS: LPTX: GGAL: PAA: SHLX: NM: HNDL: DSLVF: STG: RELI: BOTZ: SNOA: ARCO: FEYE - thread num: 4  -  103 / 107\n"
     ]
    },
    {
     "name": "stderr",
     "output_type": "stream",
     "text": [
      "\n",
      "\n",
      "\n",
      "\n",
      "\n",
      "\n",
      "Thread num: 5:  96%|██████████████████████████████████████████████████████████▋  | 103/107 [10:52:08<24:51, 372.92s/it]\u001b[A\u001b[A\u001b[A\u001b[A\u001b[A\u001b[A"
     ]
    },
    {
     "name": "stdout",
     "output_type": "stream",
     "text": [
      "completed symbols QQQJ: CFFA: ACEV: USL: ORGO: BBW: SYBX: ECC: WSTL: CDR: IFRX: TRIL: DMYI: OSW: SMSI: ZDGE: SDIV: VBLT: SOGO: JT: SPNV: IDRA: UNG: MYOS: ALYA: HNRG: ARC: CHMA: MCF: USIO: AVEO: KLDO: INVE: ACTG: AMPG: EDNT: VSTO: NAVB: GNCA: VIOT: SWI: ERJ: EMAN: AWP: SIEB: AHPI: PIPP: RUTH: IGT: ONDK: NKLAW: TCS: III: MDP: TMF: BTAQ: SPWH: SPCX: USAT: CERS: CLNY: MPW: SSL: ENBL: STSA: GOSS: UTSI: AUTL: AGFY: UNFI: KPTI: GRAY: TWM: OBLG: NR: REFR: OESX: AR: ONE: STAG: SB: SRG: THTX: FTOC: WPF: CPST: LGVN: CALA: GTXMQ: BIIO: GALT: QDIV: SIG: FTI: OVV: SGMO: SRRK: CSU: NCNA: QFIN: SCON: SRET: BNO - thread num: 5  -  103 / 107\n"
     ]
    },
    {
     "name": "stderr",
     "output_type": "stream",
     "text": [
      "\r",
      "Thread num: 2:  77%|█████████████████████████████████████████████▏             | 82/107 [10:53:15<7:19:37, 1055.10s/it]"
     ]
    },
    {
     "name": "stdout",
     "output_type": "stream",
     "text": [
      "completed symbols OMP: APLT: NRO: IMH: THM: WHLM: EBET: VNRX: RLX: LEVI: ASTS: IMMR: DSX: CDE: YI: TRIB: ROCH: HZON: TNK: GNW: MILE: TSIAU: TOUR: ACIU: CLOU: XYF: TPGY: CAKE: CMPS: KALA: KLR: CDTX: ACP: CMMB: HGBL: SALM: STM: OXSQ: FGEN: TCCO: DTIL: CMLF: SMTS: BYRN: LIFE: DHT: EURN: SEAH: STOR: VVNT: RAAS: GEO: CAAS: PBF: HERO: AMCI: FURY: BDR: HBI: TLC: ACER: CURO: LTRPA: FIT: HOL: PERS: PCI: MLHR: ASLN: HIMS: ALAC: VKTX: LHDX: SU: IVZ: GEL: DYAI: MACK: APDN: AXU: DVN: ZSL - thread num: 2  -  82 / 107\n"
     ]
    },
    {
     "name": "stderr",
     "output_type": "stream",
     "text": [
      "\r",
      "Thread num: 2:  78%|██████████████████████████████████████████████▌             | 83/107 [10:54:47<5:06:24, 766.02s/it]"
     ]
    },
    {
     "name": "stdout",
     "output_type": "stream",
     "text": [
      "completed symbols OMP: APLT: NRO: IMH: THM: WHLM: EBET: VNRX: RLX: LEVI: ASTS: IMMR: DSX: CDE: YI: TRIB: ROCH: HZON: TNK: GNW: MILE: TSIAU: TOUR: ACIU: CLOU: XYF: TPGY: CAKE: CMPS: KALA: KLR: CDTX: ACP: CMMB: HGBL: SALM: STM: OXSQ: FGEN: TCCO: DTIL: CMLF: SMTS: BYRN: LIFE: DHT: EURN: SEAH: STOR: VVNT: RAAS: GEO: CAAS: PBF: HERO: AMCI: FURY: BDR: HBI: TLC: ACER: CURO: LTRPA: FIT: HOL: PERS: PCI: MLHR: ASLN: HIMS: ALAC: VKTX: LHDX: SU: IVZ: GEL: DYAI: MACK: APDN: AXU: DVN: ZSL: DNJR - thread num: 2  -  83 / 107\n"
     ]
    },
    {
     "name": "stderr",
     "output_type": "stream",
     "text": [
      "\n",
      "Thread num: 3:  77%|█████████████████████████████████████████████▉              | 82/107 [11:04:30<6:10:11, 888.44s/it]\u001b[A"
     ]
    },
    {
     "name": "stdout",
     "output_type": "stream",
     "text": [
      "completed symbols AACQ: CTK: SVC: EGAN: PSTI: SAEXQ: EB: ATEN: CDXC: PVL: SILV: SILJ: NRBO: CARA: RTLR: CXW: FRO: EAST: PING: JPST: EQT: IDN: KBSF: FCAU: CLDX: TRNE: NBL: MAIN: ELY: PRCP: BRN: HJLI: DENN: RSI: IHT: TRQ: KIN: UUP: AMS: PSXP: TGEN: PMM: OII: DXD: AEY: OMI: TMQ: ZUO: MMLP: EGLE: CPG: NEW: XLF: PCRFY: USAS: SREV: MCEP: IHRT: P055094: ONDSD: DTEA: PDAC: AGS: ICLK: USX: FIVG: WEN: FHN: WMC: CERC: SECO: ARR: BDSI: RRR: CX: SQNS: ECTM: VEON: SLCA: WTT: SLQT: AMCR - thread num: 3  -  82 / 107\n"
     ]
    },
    {
     "name": "stderr",
     "output_type": "stream",
     "text": [
      "\r",
      "Thread num: 2:  79%|███████████████████████████████████████████████             | 84/107 [11:05:22<4:38:33, 726.66s/it]"
     ]
    },
    {
     "name": "stdout",
     "output_type": "stream",
     "text": [
      "completed symbols OMP: APLT: NRO: IMH: THM: WHLM: EBET: VNRX: RLX: LEVI: ASTS: IMMR: DSX: CDE: YI: TRIB: ROCH: HZON: TNK: GNW: MILE: TSIAU: TOUR: ACIU: CLOU: XYF: TPGY: CAKE: CMPS: KALA: KLR: CDTX: ACP: CMMB: HGBL: SALM: STM: OXSQ: FGEN: TCCO: DTIL: CMLF: SMTS: BYRN: LIFE: DHT: EURN: SEAH: STOR: VVNT: RAAS: GEO: CAAS: PBF: HERO: AMCI: FURY: BDR: HBI: TLC: ACER: CURO: LTRPA: FIT: HOL: PERS: PCI: MLHR: ASLN: HIMS: ALAC: VKTX: LHDX: SU: IVZ: GEL: DYAI: MACK: APDN: AXU: DVN: ZSL: DNJR: MRNS - thread num: 2  -  84 / 107\n"
     ]
    },
    {
     "name": "stderr",
     "output_type": "stream",
     "text": [
      "\n",
      "Thread num: 3:  78%|██████████████████████████████████████████████▌             | 83/107 [11:06:52<4:25:48, 664.54s/it]\u001b[A"
     ]
    },
    {
     "name": "stdout",
     "output_type": "stream",
     "text": [
      "completed symbols AACQ: CTK: SVC: EGAN: PSTI: SAEXQ: EB: ATEN: CDXC: PVL: SILV: SILJ: NRBO: CARA: RTLR: CXW: FRO: EAST: PING: JPST: EQT: IDN: KBSF: FCAU: CLDX: TRNE: NBL: MAIN: ELY: PRCP: BRN: HJLI: DENN: RSI: IHT: TRQ: KIN: UUP: AMS: PSXP: TGEN: PMM: OII: DXD: AEY: OMI: TMQ: ZUO: MMLP: EGLE: CPG: NEW: XLF: PCRFY: USAS: SREV: MCEP: IHRT: P055094: ONDSD: DTEA: PDAC: AGS: ICLK: USX: FIVG: WEN: FHN: WMC: CERC: SECO: ARR: BDSI: RRR: CX: SQNS: ECTM: VEON: SLCA: WTT: SLQT: AMCR: HKIB - thread num: 3  -  83 / 107\n"
     ]
    },
    {
     "name": "stderr",
     "output_type": "stream",
     "text": [
      "\r",
      "Thread num: 2:  79%|███████████████████████████████████████████████▋            | 85/107 [11:10:49<3:42:33, 606.97s/it]"
     ]
    },
    {
     "name": "stdout",
     "output_type": "stream",
     "text": [
      "completed symbols OMP: APLT: NRO: IMH: THM: WHLM: EBET: VNRX: RLX: LEVI: ASTS: IMMR: DSX: CDE: YI: TRIB: ROCH: HZON: TNK: GNW: MILE: TSIAU: TOUR: ACIU: CLOU: XYF: TPGY: CAKE: CMPS: KALA: KLR: CDTX: ACP: CMMB: HGBL: SALM: STM: OXSQ: FGEN: TCCO: DTIL: CMLF: SMTS: BYRN: LIFE: DHT: EURN: SEAH: STOR: VVNT: RAAS: GEO: CAAS: PBF: HERO: AMCI: FURY: BDR: HBI: TLC: ACER: CURO: LTRPA: FIT: HOL: PERS: PCI: MLHR: ASLN: HIMS: ALAC: VKTX: LHDX: SU: IVZ: GEL: DYAI: MACK: APDN: AXU: DVN: ZSL: DNJR: MRNS: DMYD - thread num: 2  -  85 / 107\n"
     ]
    },
    {
     "name": "stderr",
     "output_type": "stream",
     "text": [
      "\n",
      "\n",
      "\n",
      "\n",
      "\n",
      "Thread num: 1:  81%|███████████████████████████████████████████████▉           | 87/107 [11:11:17<6:20:12, 1140.62s/it]\u001b[A\u001b[A\u001b[A\u001b[A\u001b[A"
     ]
    },
    {
     "name": "stdout",
     "output_type": "stream",
     "text": [
      "completed symbols OSS: VHC: FSI: SYRS: STIM: LMNL: CTHR: TDAC: MARPS: SLB: VVOS: MPLN: BLUE: FPAC: EDSA: ORMP: LAND: AMST: ELA: SOAC: PSAC: LWAY: ARDX: UAA: IDXG: BNKD: GTIM: ABR: PSTV: WOOF: GAIN: CCV: CGEN: CARR: CURI: CXDC: TECS: ETCG: PLAG: OTIC: SVAC: ASX: APTS: AKRX: DUDE: TBIO: EGO: GLYC: IO: VIH: FOLD: FAN: VACQ: BYD: CLMT: DSE: IMGN: GLG: USA: MOMO: ALUS: PRVB: AGC: VET: SOHO: CRMD: IEO: EOLS: ITCB: PRCH: HYRE: FOSL: ORC: PSNL: DCRB: XEC: TCON: SCPS: PGEN: ATAC: EXPC: IFBD: RAAC: FLR: MEDS: IPV: ON - thread num: 1  -  87 / 107\n"
     ]
    },
    {
     "name": "stderr",
     "output_type": "stream",
     "text": [
      "\n",
      "Thread num: 3:  79%|███████████████████████████████████████████████             | 84/107 [11:12:07<3:34:32, 559.66s/it]\u001b[A"
     ]
    },
    {
     "name": "stdout",
     "output_type": "stream",
     "text": [
      "completed symbols AACQ: CTK: SVC: EGAN: PSTI: SAEXQ: EB: ATEN: CDXC: PVL: SILV: SILJ: NRBO: CARA: RTLR: CXW: FRO: EAST: PING: JPST: EQT: IDN: KBSF: FCAU: CLDX: TRNE: NBL: MAIN: ELY: PRCP: BRN: HJLI: DENN: RSI: IHT: TRQ: KIN: UUP: AMS: PSXP: TGEN: PMM: OII: DXD: AEY: OMI: TMQ: ZUO: MMLP: EGLE: CPG: NEW: XLF: PCRFY: USAS: SREV: MCEP: IHRT: P055094: ONDSD: DTEA: PDAC: AGS: ICLK: USX: FIVG: WEN: FHN: WMC: CERC: SECO: ARR: BDSI: RRR: CX: SQNS: ECTM: VEON: SLCA: WTT: SLQT: AMCR: HKIB: DSSI - thread num: 3  -  84 / 107\n"
     ]
    },
    {
     "name": "stderr",
     "output_type": "stream",
     "text": [
      "\n",
      "\n",
      "\n",
      "\n",
      "\n",
      "\n",
      "\n",
      "Thread num: 4:  97%|███████████████████████████████████████████████████████████▎ | 104/107 [11:12:57<48:30, 970.14s/it]\u001b[A\u001b[A\u001b[A\u001b[A\u001b[A\u001b[A\u001b[A"
     ]
    },
    {
     "name": "stdout",
     "output_type": "stream",
     "text": [
      "completed symbols CIM: VTSI: BTN: GP: ETTX: RUHN: GLDM: ALDX: EMX: MIND: BMRA: INSE: CHKR: SV: BLMN: QUIK: FPRX: PHCF: TWI: MUFG: JAKK: IPWR: WBAI: MUR: PIRS: CALX: ESTE: CTMX: ZIOP: CIK: CLM: PBCT: PRTS: FTK: SDPI: SRTS: OSMT: FLMN: CVU: CIT: SND: AUPH: FAII: TUSK: SHLDQ: ZCMD: MTL: DAC: XRF: QELL: FBP: ALLY: SGOC: KLXE: PUMP: RMGB: PFIE: UUU: DIV: OPES: ASMB: RQI: LWLG: AENZ: FPAY: RBAC: TACO: DRV: MDXG: ADVM: RYCEY: ONVO: VOLT: LYG: DAN: IAG: QLI: CHEF: EEIQ: LSF: ZNTE: USDP: HTGC: DHY: CYCC: ONCT: KZIA: NLOK: AXAS: ISNS: LPTX: GGAL: PAA: SHLX: NM: HNDL: DSLVF: STG: RELI: BOTZ: SNOA: ARCO: FEYE: HRB - thread num: 4  -  104 / 107\n"
     ]
    },
    {
     "name": "stderr",
     "output_type": "stream",
     "text": [
      "\r",
      "Thread num: 2:  80%|████████████████████████████████████████████████▏           | 86/107 [11:13:46<2:47:12, 477.73s/it]"
     ]
    },
    {
     "name": "stdout",
     "output_type": "stream",
     "text": [
      "completed symbols OMP: APLT: NRO: IMH: THM: WHLM: EBET: VNRX: RLX: LEVI: ASTS: IMMR: DSX: CDE: YI: TRIB: ROCH: HZON: TNK: GNW: MILE: TSIAU: TOUR: ACIU: CLOU: XYF: TPGY: CAKE: CMPS: KALA: KLR: CDTX: ACP: CMMB: HGBL: SALM: STM: OXSQ: FGEN: TCCO: DTIL: CMLF: SMTS: BYRN: LIFE: DHT: EURN: SEAH: STOR: VVNT: RAAS: GEO: CAAS: PBF: HERO: AMCI: FURY: BDR: HBI: TLC: ACER: CURO: LTRPA: FIT: HOL: PERS: PCI: MLHR: ASLN: HIMS: ALAC: VKTX: LHDX: SU: IVZ: GEL: DYAI: MACK: APDN: AXU: DVN: ZSL: DNJR: MRNS: DMYD: AEHR - thread num: 2  -  86 / 107\n"
     ]
    },
    {
     "name": "stderr",
     "output_type": "stream",
     "text": [
      "\n",
      "\n",
      "\n",
      "\n",
      "\n",
      "Thread num: 1:  82%|█████████████████████████████████████████████████▎          | 88/107 [11:15:26<4:36:28, 873.08s/it]\u001b[A\u001b[A\u001b[A\u001b[A\u001b[A"
     ]
    },
    {
     "name": "stdout",
     "output_type": "stream",
     "text": [
      "completed symbols OSS: VHC: FSI: SYRS: STIM: LMNL: CTHR: TDAC: MARPS: SLB: VVOS: MPLN: BLUE: FPAC: EDSA: ORMP: LAND: AMST: ELA: SOAC: PSAC: LWAY: ARDX: UAA: IDXG: BNKD: GTIM: ABR: PSTV: WOOF: GAIN: CCV: CGEN: CARR: CURI: CXDC: TECS: ETCG: PLAG: OTIC: SVAC: ASX: APTS: AKRX: DUDE: TBIO: EGO: GLYC: IO: VIH: FOLD: FAN: VACQ: BYD: CLMT: DSE: IMGN: GLG: USA: MOMO: ALUS: PRVB: AGC: VET: SOHO: CRMD: IEO: EOLS: ITCB: PRCH: HYRE: FOSL: ORC: PSNL: DCRB: XEC: TCON: SCPS: PGEN: ATAC: EXPC: IFBD: RAAC: FLR: MEDS: IPV: ON: CGRO - thread num: 1  -  88 / 107\n"
     ]
    },
    {
     "name": "stderr",
     "output_type": "stream",
     "text": [
      "\n",
      "\n",
      "\n",
      "\n",
      "\n",
      "\n",
      "\n",
      "Thread num: 4:  98%|███████████████████████████████████████████████████████████▊ | 105/107 [11:16:04<24:30, 735.09s/it]\u001b[A\u001b[A\u001b[A\u001b[A\u001b[A\u001b[A\u001b[A"
     ]
    },
    {
     "name": "stdout",
     "output_type": "stream",
     "text": [
      "completed symbols CIM: VTSI: BTN: GP: ETTX: RUHN: GLDM: ALDX: EMX: MIND: BMRA: INSE: CHKR: SV: BLMN: QUIK: FPRX: PHCF: TWI: MUFG: JAKK: IPWR: WBAI: MUR: PIRS: CALX: ESTE: CTMX: ZIOP: CIK: CLM: PBCT: PRTS: FTK: SDPI: SRTS: OSMT: FLMN: CVU: CIT: SND: AUPH: FAII: TUSK: SHLDQ: ZCMD: MTL: DAC: XRF: QELL: FBP: ALLY: SGOC: KLXE: PUMP: RMGB: PFIE: UUU: DIV: OPES: ASMB: RQI: LWLG: AENZ: FPAY: RBAC: TACO: DRV: MDXG: ADVM: RYCEY: ONVO: VOLT: LYG: DAN: IAG: QLI: CHEF: EEIQ: LSF: ZNTE: USDP: HTGC: DHY: CYCC: ONCT: KZIA: NLOK: AXAS: ISNS: LPTX: GGAL: PAA: SHLX: NM: HNDL: DSLVF: STG: RELI: BOTZ: SNOA: ARCO: FEYE: HRB: BATT - thread num: 4  -  105 / 107\n"
     ]
    },
    {
     "name": "stderr",
     "output_type": "stream",
     "text": [
      "\n",
      "Thread num: 3:  79%|███████████████████████████████████████████████▋            | 85/107 [11:16:18<2:51:16, 467.10s/it]\u001b[A"
     ]
    },
    {
     "name": "stdout",
     "output_type": "stream",
     "text": [
      "completed symbols AACQ: CTK: SVC: EGAN: PSTI: SAEXQ: EB: ATEN: CDXC: PVL: SILV: SILJ: NRBO: CARA: RTLR: CXW: FRO: EAST: PING: JPST: EQT: IDN: KBSF: FCAU: CLDX: TRNE: NBL: MAIN: ELY: PRCP: BRN: HJLI: DENN: RSI: IHT: TRQ: KIN: UUP: AMS: PSXP: TGEN: PMM: OII: DXD: AEY: OMI: TMQ: ZUO: MMLP: EGLE: CPG: NEW: XLF: PCRFY: USAS: SREV: MCEP: IHRT: P055094: ONDSD: DTEA: PDAC: AGS: ICLK: USX: FIVG: WEN: FHN: WMC: CERC: SECO: ARR: BDSI: RRR: CX: SQNS: ECTM: VEON: SLCA: WTT: SLQT: AMCR: HKIB: DSSI: KBNT - thread num: 3  -  85 / 107\n"
     ]
    },
    {
     "name": "stderr",
     "output_type": "stream",
     "text": [
      "\n",
      "Thread num: 3:  80%|████████████████████████████████████████████████▏           | 86/107 [11:17:45<2:03:36, 353.18s/it]\u001b[A"
     ]
    },
    {
     "name": "stdout",
     "output_type": "stream",
     "text": [
      "completed symbols AACQ: CTK: SVC: EGAN: PSTI: SAEXQ: EB: ATEN: CDXC: PVL: SILV: SILJ: NRBO: CARA: RTLR: CXW: FRO: EAST: PING: JPST: EQT: IDN: KBSF: FCAU: CLDX: TRNE: NBL: MAIN: ELY: PRCP: BRN: HJLI: DENN: RSI: IHT: TRQ: KIN: UUP: AMS: PSXP: TGEN: PMM: OII: DXD: AEY: OMI: TMQ: ZUO: MMLP: EGLE: CPG: NEW: XLF: PCRFY: USAS: SREV: MCEP: IHRT: P055094: ONDSD: DTEA: PDAC: AGS: ICLK: USX: FIVG: WEN: FHN: WMC: CERC: SECO: ARR: BDSI: RRR: CX: SQNS: ECTM: VEON: SLCA: WTT: SLQT: AMCR: HKIB: DSSI: KBNT: REXN - thread num: 3  -  86 / 107\n"
     ]
    },
    {
     "name": "stderr",
     "output_type": "stream",
     "text": [
      "\r",
      "Thread num: 2:  81%|████████████████████████████████████████████████▊           | 87/107 [11:18:03<2:17:12, 411.62s/it]"
     ]
    },
    {
     "name": "stdout",
     "output_type": "stream",
     "text": [
      "completed symbols OMP: APLT: NRO: IMH: THM: WHLM: EBET: VNRX: RLX: LEVI: ASTS: IMMR: DSX: CDE: YI: TRIB: ROCH: HZON: TNK: GNW: MILE: TSIAU: TOUR: ACIU: CLOU: XYF: TPGY: CAKE: CMPS: KALA: KLR: CDTX: ACP: CMMB: HGBL: SALM: STM: OXSQ: FGEN: TCCO: DTIL: CMLF: SMTS: BYRN: LIFE: DHT: EURN: SEAH: STOR: VVNT: RAAS: GEO: CAAS: PBF: HERO: AMCI: FURY: BDR: HBI: TLC: ACER: CURO: LTRPA: FIT: HOL: PERS: PCI: MLHR: ASLN: HIMS: ALAC: VKTX: LHDX: SU: IVZ: GEL: DYAI: MACK: APDN: AXU: DVN: ZSL: DNJR: MRNS: DMYD: AEHR: BBAR - thread num: 2  -  87 / 107\n"
     ]
    },
    {
     "name": "stderr",
     "output_type": "stream",
     "text": [
      "\n",
      "\n",
      "\n",
      "\n",
      "\n",
      "Thread num: 1:  83%|█████████████████████████████████████████████████▉          | 89/107 [11:21:06<3:33:59, 713.31s/it]\u001b[A\u001b[A\u001b[A\u001b[A\u001b[A"
     ]
    },
    {
     "name": "stdout",
     "output_type": "stream",
     "text": [
      "completed symbols OSS: VHC: FSI: SYRS: STIM: LMNL: CTHR: TDAC: MARPS: SLB: VVOS: MPLN: BLUE: FPAC: EDSA: ORMP: LAND: AMST: ELA: SOAC: PSAC: LWAY: ARDX: UAA: IDXG: BNKD: GTIM: ABR: PSTV: WOOF: GAIN: CCV: CGEN: CARR: CURI: CXDC: TECS: ETCG: PLAG: OTIC: SVAC: ASX: APTS: AKRX: DUDE: TBIO: EGO: GLYC: IO: VIH: FOLD: FAN: VACQ: BYD: CLMT: DSE: IMGN: GLG: USA: MOMO: ALUS: PRVB: AGC: VET: SOHO: CRMD: IEO: EOLS: ITCB: PRCH: HYRE: FOSL: ORC: PSNL: DCRB: XEC: TCON: SCPS: PGEN: ATAC: EXPC: IFBD: RAAC: FLR: MEDS: IPV: ON: CGRO: CMRX - thread num: 1  -  89 / 107\n"
     ]
    },
    {
     "name": "stderr",
     "output_type": "stream",
     "text": [
      "\r",
      "Thread num: 2:  82%|█████████████████████████████████████████████████▎          | 88/107 [11:23:19<2:01:16, 382.99s/it]"
     ]
    },
    {
     "name": "stdout",
     "output_type": "stream",
     "text": [
      "completed symbols OMP: APLT: NRO: IMH: THM: WHLM: EBET: VNRX: RLX: LEVI: ASTS: IMMR: DSX: CDE: YI: TRIB: ROCH: HZON: TNK: GNW: MILE: TSIAU: TOUR: ACIU: CLOU: XYF: TPGY: CAKE: CMPS: KALA: KLR: CDTX: ACP: CMMB: HGBL: SALM: STM: OXSQ: FGEN: TCCO: DTIL: CMLF: SMTS: BYRN: LIFE: DHT: EURN: SEAH: STOR: VVNT: RAAS: GEO: CAAS: PBF: HERO: AMCI: FURY: BDR: HBI: TLC: ACER: CURO: LTRPA: FIT: HOL: PERS: PCI: MLHR: ASLN: HIMS: ALAC: VKTX: LHDX: SU: IVZ: GEL: DYAI: MACK: APDN: AXU: DVN: ZSL: DNJR: MRNS: DMYD: AEHR: BBAR: LJPC - thread num: 2  -  88 / 107\n"
     ]
    },
    {
     "name": "stderr",
     "output_type": "stream",
     "text": [
      "\n",
      "\n",
      "\n",
      "\n",
      "\n",
      "\n",
      "\n",
      "Thread num: 4:  99%|████████████████████████████████████████████████████████████▍| 106/107 [11:24:16<11:02, 662.02s/it]\u001b[A\u001b[A\u001b[A\u001b[A\u001b[A\u001b[A\u001b[A"
     ]
    },
    {
     "name": "stdout",
     "output_type": "stream",
     "text": [
      "completed symbols CIM: VTSI: BTN: GP: ETTX: RUHN: GLDM: ALDX: EMX: MIND: BMRA: INSE: CHKR: SV: BLMN: QUIK: FPRX: PHCF: TWI: MUFG: JAKK: IPWR: WBAI: MUR: PIRS: CALX: ESTE: CTMX: ZIOP: CIK: CLM: PBCT: PRTS: FTK: SDPI: SRTS: OSMT: FLMN: CVU: CIT: SND: AUPH: FAII: TUSK: SHLDQ: ZCMD: MTL: DAC: XRF: QELL: FBP: ALLY: SGOC: KLXE: PUMP: RMGB: PFIE: UUU: DIV: OPES: ASMB: RQI: LWLG: AENZ: FPAY: RBAC: TACO: DRV: MDXG: ADVM: RYCEY: ONVO: VOLT: LYG: DAN: IAG: QLI: CHEF: EEIQ: LSF: ZNTE: USDP: HTGC: DHY: CYCC: ONCT: KZIA: NLOK: AXAS: ISNS: LPTX: GGAL: PAA: SHLX: NM: HNDL: DSLVF: STG: RELI: BOTZ: SNOA: ARCO: FEYE: HRB: BATT: SURF - thread num: 4  -  106 / 107\n"
     ]
    },
    {
     "name": "stderr",
     "output_type": "stream",
     "text": [
      "\n",
      "\n",
      "\n",
      "\n",
      "\n",
      "Thread num: 1:  84%|██████████████████████████████████████████████████▍         | 90/107 [11:24:20<2:37:58, 557.54s/it]\u001b[A\u001b[A\u001b[A\u001b[A\u001b[A"
     ]
    },
    {
     "name": "stdout",
     "output_type": "stream",
     "text": [
      "completed symbols OSS: VHC: FSI: SYRS: STIM: LMNL: CTHR: TDAC: MARPS: SLB: VVOS: MPLN: BLUE: FPAC: EDSA: ORMP: LAND: AMST: ELA: SOAC: PSAC: LWAY: ARDX: UAA: IDXG: BNKD: GTIM: ABR: PSTV: WOOF: GAIN: CCV: CGEN: CARR: CURI: CXDC: TECS: ETCG: PLAG: OTIC: SVAC: ASX: APTS: AKRX: DUDE: TBIO: EGO: GLYC: IO: VIH: FOLD: FAN: VACQ: BYD: CLMT: DSE: IMGN: GLG: USA: MOMO: ALUS: PRVB: AGC: VET: SOHO: CRMD: IEO: EOLS: ITCB: PRCH: HYRE: FOSL: ORC: PSNL: DCRB: XEC: TCON: SCPS: PGEN: ATAC: EXPC: IFBD: RAAC: FLR: MEDS: IPV: ON: CGRO: CMRX: PBTS - thread num: 1  -  90 / 107\n"
     ]
    },
    {
     "name": "stderr",
     "output_type": "stream",
     "text": [
      "\n",
      "\n",
      "\n",
      "Thread num: 6:  88%|███████████████████████████████████████████████████▊       | 94/107 [11:28:03<4:37:15, 1279.67s/it]\u001b[A\u001b[A\u001b[A"
     ]
    },
    {
     "name": "stdout",
     "output_type": "stream",
     "text": [
      "completed symbols FAX: APEN: JUPW: IPI: ENLC: WRTC: RMBL: PHX: KDMN: SSPK: EBR: BKCC: RWT: GSUM: FGPR: MXC: IGXT: GSKY: RTP: MEIP: PUYI: MYT: EXTR: ELVT: VRAY: HAPP: AAAU: PACE: CSPR: WRN: CEF: SBUM: DXYN: VIPS: MCRB: IEC: STIC: HUSN: INMB: GOCO: QHC: PBR: EADSY: AKTS: FEAC: ENSV: AFIN: FLNT: SPFR: CVE: RMM: DRAD: NCMI: NINE: INAQ: NTZ: AJAX: BCS: SUP: USEG: PDS: AMRH: TPR: BKD: ETON: CRDF: VRME: SSNT: CRVS: CLR: BCHG: NTNX: PAVE: LYSDY: ANGI: CRF: SBBP: PTI: ACRE: GVP: HST: PRTK: IEA: HA: ACRS: APRN: GROW: INVOD: CUE: HRTX: GBOX: FLWS: WINT: VALE - thread num: 6  -  94 / 107\n"
     ]
    },
    {
     "name": "stderr",
     "output_type": "stream",
     "text": [
      "\r",
      "Thread num: 2:  83%|█████████████████████████████████████████████████▉          | 89/107 [11:28:51<1:50:16, 367.59s/it]"
     ]
    },
    {
     "name": "stdout",
     "output_type": "stream",
     "text": [
      "completed symbols OMP: APLT: NRO: IMH: THM: WHLM: EBET: VNRX: RLX: LEVI: ASTS: IMMR: DSX: CDE: YI: TRIB: ROCH: HZON: TNK: GNW: MILE: TSIAU: TOUR: ACIU: CLOU: XYF: TPGY: CAKE: CMPS: KALA: KLR: CDTX: ACP: CMMB: HGBL: SALM: STM: OXSQ: FGEN: TCCO: DTIL: CMLF: SMTS: BYRN: LIFE: DHT: EURN: SEAH: STOR: VVNT: RAAS: GEO: CAAS: PBF: HERO: AMCI: FURY: BDR: HBI: TLC: ACER: CURO: LTRPA: FIT: HOL: PERS: PCI: MLHR: ASLN: HIMS: ALAC: VKTX: LHDX: SU: IVZ: GEL: DYAI: MACK: APDN: AXU: DVN: ZSL: DNJR: MRNS: DMYD: AEHR: BBAR: LJPC: SRGA - thread num: 2  -  89 / 107\n"
     ]
    },
    {
     "name": "stderr",
     "output_type": "stream",
     "text": [
      "\n",
      "\n",
      "\n",
      "\n",
      "\n",
      "\n",
      "\n",
      "Thread num: 4: 100%|█████████████████████████████████████████████████████████████| 107/107 [11:29:02<00:00, 386.38s/it]\u001b[A\u001b[A\u001b[A\u001b[A\u001b[A\u001b[A\u001b[A"
     ]
    },
    {
     "name": "stdout",
     "output_type": "stream",
     "text": [
      "completed symbols CIM: VTSI: BTN: GP: ETTX: RUHN: GLDM: ALDX: EMX: MIND: BMRA: INSE: CHKR: SV: BLMN: QUIK: FPRX: PHCF: TWI: MUFG: JAKK: IPWR: WBAI: MUR: PIRS: CALX: ESTE: CTMX: ZIOP: CIK: CLM: PBCT: PRTS: FTK: SDPI: SRTS: OSMT: FLMN: CVU: CIT: SND: AUPH: FAII: TUSK: SHLDQ: ZCMD: MTL: DAC: XRF: QELL: FBP: ALLY: SGOC: KLXE: PUMP: RMGB: PFIE: UUU: DIV: OPES: ASMB: RQI: LWLG: AENZ: FPAY: RBAC: TACO: DRV: MDXG: ADVM: RYCEY: ONVO: VOLT: LYG: DAN: IAG: QLI: CHEF: EEIQ: LSF: ZNTE: USDP: HTGC: DHY: CYCC: ONCT: KZIA: NLOK: AXAS: ISNS: LPTX: GGAL: PAA: SHLX: NM: HNDL: DSLVF: STG: RELI: BOTZ: SNOA: ARCO: FEYE: HRB: BATT: SURF: BRY - thread num: 4  -  107 / 107\n"
     ]
    },
    {
     "name": "stderr",
     "output_type": "stream",
     "text": [
      "\n",
      "\n",
      "Thread num: 3:  81%|████████████████████████████████████████████████▊           | 87/107 [11:30:22<2:38:07, 474.38s/it]\u001b[A"
     ]
    },
    {
     "name": "stdout",
     "output_type": "stream",
     "text": [
      "completed symbols AACQ: CTK: SVC: EGAN: PSTI: SAEXQ: EB: ATEN: CDXC: PVL: SILV: SILJ: NRBO: CARA: RTLR: CXW: FRO: EAST: PING: JPST: EQT: IDN: KBSF: FCAU: CLDX: TRNE: NBL: MAIN: ELY: PRCP: BRN: HJLI: DENN: RSI: IHT: TRQ: KIN: UUP: AMS: PSXP: TGEN: PMM: OII: DXD: AEY: OMI: TMQ: ZUO: MMLP: EGLE: CPG: NEW: XLF: PCRFY: USAS: SREV: MCEP: IHRT: P055094: ONDSD: DTEA: PDAC: AGS: ICLK: USX: FIVG: WEN: FHN: WMC: CERC: SECO: ARR: BDSI: RRR: CX: SQNS: ECTM: VEON: SLCA: WTT: SLQT: AMCR: HKIB: DSSI: KBNT: REXN: CRK - thread num: 3  -  87 / 107\n"
     ]
    },
    {
     "name": "stderr",
     "output_type": "stream",
     "text": [
      "\n",
      "\n",
      "\n",
      "\n",
      "\n",
      "\n",
      "Thread num: 5:  97%|███████████████████████████████████████████████████████████▎ | 104/107 [11:30:39<47:43, 954.43s/it]\u001b[A\u001b[A\u001b[A\u001b[A\u001b[A\u001b[A"
     ]
    },
    {
     "name": "stdout",
     "output_type": "stream",
     "text": [
      "completed symbols QQQJ: CFFA: ACEV: USL: ORGO: BBW: SYBX: ECC: WSTL: CDR: IFRX: TRIL: DMYI: OSW: SMSI: ZDGE: SDIV: VBLT: SOGO: JT: SPNV: IDRA: UNG: MYOS: ALYA: HNRG: ARC: CHMA: MCF: USIO: AVEO: KLDO: INVE: ACTG: AMPG: EDNT: VSTO: NAVB: GNCA: VIOT: SWI: ERJ: EMAN: AWP: SIEB: AHPI: PIPP: RUTH: IGT: ONDK: NKLAW: TCS: III: MDP: TMF: BTAQ: SPWH: SPCX: USAT: CERS: CLNY: MPW: SSL: ENBL: STSA: GOSS: UTSI: AUTL: AGFY: UNFI: KPTI: GRAY: TWM: OBLG: NR: REFR: OESX: AR: ONE: STAG: SB: SRG: THTX: FTOC: WPF: CPST: LGVN: CALA: GTXMQ: BIIO: GALT: QDIV: SIG: FTI: OVV: SGMO: SRRK: CSU: NCNA: QFIN: SCON: SRET: BNO: HPE - thread num: 5  -  104 / 107\n"
     ]
    },
    {
     "name": "stderr",
     "output_type": "stream",
     "text": [
      "\n",
      "\n",
      "\n",
      "Thread num: 6:  89%|█████████████████████████████████████████████████████▎      | 95/107 [11:31:06<3:10:05, 950.44s/it]\u001b[A\u001b[A\u001b[A"
     ]
    },
    {
     "name": "stdout",
     "output_type": "stream",
     "text": [
      "completed symbols FAX: APEN: JUPW: IPI: ENLC: WRTC: RMBL: PHX: KDMN: SSPK: EBR: BKCC: RWT: GSUM: FGPR: MXC: IGXT: GSKY: RTP: MEIP: PUYI: MYT: EXTR: ELVT: VRAY: HAPP: AAAU: PACE: CSPR: WRN: CEF: SBUM: DXYN: VIPS: MCRB: IEC: STIC: HUSN: INMB: GOCO: QHC: PBR: EADSY: AKTS: FEAC: ENSV: AFIN: FLNT: SPFR: CVE: RMM: DRAD: NCMI: NINE: INAQ: NTZ: AJAX: BCS: SUP: USEG: PDS: AMRH: TPR: BKD: ETON: CRDF: VRME: SSNT: CRVS: CLR: BCHG: NTNX: PAVE: LYSDY: ANGI: CRF: SBBP: PTI: ACRE: GVP: HST: PRTK: IEA: HA: ACRS: APRN: GROW: INVOD: CUE: HRTX: GBOX: FLWS: WINT: VALE: FTSI - thread num: 6  -  95 / 107\n"
     ]
    },
    {
     "name": "stderr",
     "output_type": "stream",
     "text": [
      "\n",
      "\n",
      "\n",
      "\n",
      "\n",
      "Thread num: 1:  85%|███████████████████████████████████████████████████         | 91/107 [11:32:08<2:21:31, 530.69s/it]\u001b[A\u001b[A\u001b[A\u001b[A\u001b[A"
     ]
    },
    {
     "name": "stdout",
     "output_type": "stream",
     "text": [
      "completed symbols OSS: VHC: FSI: SYRS: STIM: LMNL: CTHR: TDAC: MARPS: SLB: VVOS: MPLN: BLUE: FPAC: EDSA: ORMP: LAND: AMST: ELA: SOAC: PSAC: LWAY: ARDX: UAA: IDXG: BNKD: GTIM: ABR: PSTV: WOOF: GAIN: CCV: CGEN: CARR: CURI: CXDC: TECS: ETCG: PLAG: OTIC: SVAC: ASX: APTS: AKRX: DUDE: TBIO: EGO: GLYC: IO: VIH: FOLD: FAN: VACQ: BYD: CLMT: DSE: IMGN: GLG: USA: MOMO: ALUS: PRVB: AGC: VET: SOHO: CRMD: IEO: EOLS: ITCB: PRCH: HYRE: FOSL: ORC: PSNL: DCRB: XEC: TCON: SCPS: PGEN: ATAC: EXPC: IFBD: RAAC: FLR: MEDS: IPV: ON: CGRO: CMRX: PBTS: CARS - thread num: 1  -  91 / 107\n"
     ]
    },
    {
     "name": "stderr",
     "output_type": "stream",
     "text": [
      "\n",
      "\n",
      "\n",
      "\n",
      "\n",
      "Thread num: 1:  86%|███████████████████████████████████████████████████▌        | 92/107 [11:34:29<1:43:27, 413.82s/it]\u001b[A\u001b[A\u001b[A\u001b[A\u001b[A"
     ]
    },
    {
     "name": "stdout",
     "output_type": "stream",
     "text": [
      "completed symbols OSS: VHC: FSI: SYRS: STIM: LMNL: CTHR: TDAC: MARPS: SLB: VVOS: MPLN: BLUE: FPAC: EDSA: ORMP: LAND: AMST: ELA: SOAC: PSAC: LWAY: ARDX: UAA: IDXG: BNKD: GTIM: ABR: PSTV: WOOF: GAIN: CCV: CGEN: CARR: CURI: CXDC: TECS: ETCG: PLAG: OTIC: SVAC: ASX: APTS: AKRX: DUDE: TBIO: EGO: GLYC: IO: VIH: FOLD: FAN: VACQ: BYD: CLMT: DSE: IMGN: GLG: USA: MOMO: ALUS: PRVB: AGC: VET: SOHO: CRMD: IEO: EOLS: ITCB: PRCH: HYRE: FOSL: ORC: PSNL: DCRB: XEC: TCON: SCPS: PGEN: ATAC: EXPC: IFBD: RAAC: FLR: MEDS: IPV: ON: CGRO: CMRX: PBTS: CARS: ADN - thread num: 1  -  92 / 107\n"
     ]
    },
    {
     "name": "stderr",
     "output_type": "stream",
     "text": [
      "\r",
      "Thread num: 2:  84%|██████████████████████████████████████████████████▍         | 90/107 [11:34:51<1:43:29, 365.24s/it]"
     ]
    },
    {
     "name": "stdout",
     "output_type": "stream",
     "text": [
      "completed symbols OMP: APLT: NRO: IMH: THM: WHLM: EBET: VNRX: RLX: LEVI: ASTS: IMMR: DSX: CDE: YI: TRIB: ROCH: HZON: TNK: GNW: MILE: TSIAU: TOUR: ACIU: CLOU: XYF: TPGY: CAKE: CMPS: KALA: KLR: CDTX: ACP: CMMB: HGBL: SALM: STM: OXSQ: FGEN: TCCO: DTIL: CMLF: SMTS: BYRN: LIFE: DHT: EURN: SEAH: STOR: VVNT: RAAS: GEO: CAAS: PBF: HERO: AMCI: FURY: BDR: HBI: TLC: ACER: CURO: LTRPA: FIT: HOL: PERS: PCI: MLHR: ASLN: HIMS: ALAC: VKTX: LHDX: SU: IVZ: GEL: DYAI: MACK: APDN: AXU: DVN: ZSL: DNJR: MRNS: DMYD: AEHR: BBAR: LJPC: SRGA: FI - thread num: 2  -  90 / 107\n"
     ]
    },
    {
     "name": "stderr",
     "output_type": "stream",
     "text": [
      "\n",
      "\n",
      "\n",
      "Thread num: 6:  90%|█████████████████████████████████████████████████████▊      | 96/107 [11:37:15<2:22:16, 776.09s/it]"
     ]
    },
    {
     "name": "stdout",
     "output_type": "stream",
     "text": [
      "completed symbols FAX: APEN: JUPW: IPI: ENLC: WRTC: RMBL: PHX: KDMN: SSPK: EBR: BKCC: RWT: GSUM: FGPR: MXC: IGXT: GSKY: RTP: MEIP: PUYI: MYT: EXTR: ELVT: VRAY: HAPP: AAAU: PACE: CSPR: WRN: CEF: SBUM: DXYN: VIPS: MCRB: IEC: STIC: HUSN: INMB: GOCO: QHC: PBR: EADSY: AKTS: FEAC: ENSV: AFIN: FLNT: SPFR: CVE: RMM: DRAD: NCMI: NINE: INAQ: NTZ: AJAX: BCS: SUP: USEG: PDS: AMRH: TPR: BKD: ETON: CRDF: VRME: SSNT: CRVS: CLR: BCHG: NTNX: PAVE: LYSDY: ANGI: CRF: SBBP: PTI: ACRE: GVP: HST: PRTK: IEA: HA: ACRS: APRN: GROW: INVOD: CUE: HRTX: GBOX: FLWS: WINT: VALE: FTSI: ORBC - thread num: 6  -  96 / 107\n"
     ]
    },
    {
     "name": "stderr",
     "output_type": "stream",
     "text": [
      "Thread num: 2:  85%|███████████████████████████████████████████████████         | 91/107 [11:38:10<1:24:06, 315.41s/it]"
     ]
    },
    {
     "name": "stdout",
     "output_type": "stream",
     "text": [
      "completed symbols OMP: APLT: NRO: IMH: THM: WHLM: EBET: VNRX: RLX: LEVI: ASTS: IMMR: DSX: CDE: YI: TRIB: ROCH: HZON: TNK: GNW: MILE: TSIAU: TOUR: ACIU: CLOU: XYF: TPGY: CAKE: CMPS: KALA: KLR: CDTX: ACP: CMMB: HGBL: SALM: STM: OXSQ: FGEN: TCCO: DTIL: CMLF: SMTS: BYRN: LIFE: DHT: EURN: SEAH: STOR: VVNT: RAAS: GEO: CAAS: PBF: HERO: AMCI: FURY: BDR: HBI: TLC: ACER: CURO: LTRPA: FIT: HOL: PERS: PCI: MLHR: ASLN: HIMS: ALAC: VKTX: LHDX: SU: IVZ: GEL: DYAI: MACK: APDN: AXU: DVN: ZSL: DNJR: MRNS: DMYD: AEHR: BBAR: LJPC: SRGA: FI: OCN - thread num: 2  -  91 / 107\n"
     ]
    },
    {
     "name": "stderr",
     "output_type": "stream",
     "text": [
      "\n",
      "\n",
      "\n",
      "\n",
      "\n",
      "Thread num: 1:  87%|████████████████████████████████████████████████████▏       | 93/107 [11:41:08<1:35:29, 409.22s/it]\u001b[A\u001b[A\u001b[A\u001b[A\u001b[A"
     ]
    },
    {
     "name": "stdout",
     "output_type": "stream",
     "text": [
      "completed symbols OSS: VHC: FSI: SYRS: STIM: LMNL: CTHR: TDAC: MARPS: SLB: VVOS: MPLN: BLUE: FPAC: EDSA: ORMP: LAND: AMST: ELA: SOAC: PSAC: LWAY: ARDX: UAA: IDXG: BNKD: GTIM: ABR: PSTV: WOOF: GAIN: CCV: CGEN: CARR: CURI: CXDC: TECS: ETCG: PLAG: OTIC: SVAC: ASX: APTS: AKRX: DUDE: TBIO: EGO: GLYC: IO: VIH: FOLD: FAN: VACQ: BYD: CLMT: DSE: IMGN: GLG: USA: MOMO: ALUS: PRVB: AGC: VET: SOHO: CRMD: IEO: EOLS: ITCB: PRCH: HYRE: FOSL: ORC: PSNL: DCRB: XEC: TCON: SCPS: PGEN: ATAC: EXPC: IFBD: RAAC: FLR: MEDS: IPV: ON: CGRO: CMRX: PBTS: CARS: ADN: DEA - thread num: 1  -  93 / 107\n"
     ]
    },
    {
     "name": "stderr",
     "output_type": "stream",
     "text": [
      "\n",
      "\n",
      "\n",
      "\n",
      "\n",
      "Thread num: 1:  88%|████████████████████████████████████████████████████▋       | 94/107 [11:45:55<1:20:45, 372.70s/it]\u001b[A\u001b[A\u001b[A\u001b[A\u001b[A"
     ]
    },
    {
     "name": "stdout",
     "output_type": "stream",
     "text": [
      "completed symbols OSS: VHC: FSI: SYRS: STIM: LMNL: CTHR: TDAC: MARPS: SLB: VVOS: MPLN: BLUE: FPAC: EDSA: ORMP: LAND: AMST: ELA: SOAC: PSAC: LWAY: ARDX: UAA: IDXG: BNKD: GTIM: ABR: PSTV: WOOF: GAIN: CCV: CGEN: CARR: CURI: CXDC: TECS: ETCG: PLAG: OTIC: SVAC: ASX: APTS: AKRX: DUDE: TBIO: EGO: GLYC: IO: VIH: FOLD: FAN: VACQ: BYD: CLMT: DSE: IMGN: GLG: USA: MOMO: ALUS: PRVB: AGC: VET: SOHO: CRMD: IEO: EOLS: ITCB: PRCH: HYRE: FOSL: ORC: PSNL: DCRB: XEC: TCON: SCPS: PGEN: ATAC: EXPC: IFBD: RAAC: FLR: MEDS: IPV: ON: CGRO: CMRX: PBTS: CARS: ADN: DEA: TAST - thread num: 1  -  94 / 107\n"
     ]
    },
    {
     "name": "stderr",
     "output_type": "stream",
     "text": [
      "\n",
      "\n",
      "\n",
      "\n",
      "\n",
      "\n",
      "Thread num: 5:  98%|███████████████████████████████████████████████████████████▊ | 105/107 [11:46:34<31:49, 954.55s/it]\u001b[A\u001b[A\u001b[A\u001b[A\u001b[A\u001b[A"
     ]
    },
    {
     "name": "stdout",
     "output_type": "stream",
     "text": [
      "completed symbols QQQJ: CFFA: ACEV: USL: ORGO: BBW: SYBX: ECC: WSTL: CDR: IFRX: TRIL: DMYI: OSW: SMSI: ZDGE: SDIV: VBLT: SOGO: JT: SPNV: IDRA: UNG: MYOS: ALYA: HNRG: ARC: CHMA: MCF: USIO: AVEO: KLDO: INVE: ACTG: AMPG: EDNT: VSTO: NAVB: GNCA: VIOT: SWI: ERJ: EMAN: AWP: SIEB: AHPI: PIPP: RUTH: IGT: ONDK: NKLAW: TCS: III: MDP: TMF: BTAQ: SPWH: SPCX: USAT: CERS: CLNY: MPW: SSL: ENBL: STSA: GOSS: UTSI: AUTL: AGFY: UNFI: KPTI: GRAY: TWM: OBLG: NR: REFR: OESX: AR: ONE: STAG: SB: SRG: THTX: FTOC: WPF: CPST: LGVN: CALA: GTXMQ: BIIO: GALT: QDIV: SIG: FTI: OVV: SGMO: SRRK: CSU: NCNA: QFIN: SCON: SRET: BNO: HPE: MAT - thread num: 5  -  105 / 107\n"
     ]
    },
    {
     "name": "stderr",
     "output_type": "stream",
     "text": [
      "\n",
      "\n",
      "\n",
      "Thread num: 6:  91%|██████████████████████████████████████████████████████▍     | 97/107 [11:49:57<2:08:39, 771.93s/it]\u001b[A\u001b[A\u001b[A"
     ]
    },
    {
     "name": "stdout",
     "output_type": "stream",
     "text": [
      "completed symbols FAX: APEN: JUPW: IPI: ENLC: WRTC: RMBL: PHX: KDMN: SSPK: EBR: BKCC: RWT: GSUM: FGPR: MXC: IGXT: GSKY: RTP: MEIP: PUYI: MYT: EXTR: ELVT: VRAY: HAPP: AAAU: PACE: CSPR: WRN: CEF: SBUM: DXYN: VIPS: MCRB: IEC: STIC: HUSN: INMB: GOCO: QHC: PBR: EADSY: AKTS: FEAC: ENSV: AFIN: FLNT: SPFR: CVE: RMM: DRAD: NCMI: NINE: INAQ: NTZ: AJAX: BCS: SUP: USEG: PDS: AMRH: TPR: BKD: ETON: CRDF: VRME: SSNT: CRVS: CLR: BCHG: NTNX: PAVE: LYSDY: ANGI: CRF: SBBP: PTI: ACRE: GVP: HST: PRTK: IEA: HA: ACRS: APRN: GROW: INVOD: CUE: HRTX: GBOX: FLWS: WINT: VALE: FTSI: ORBC: NAVI - thread num: 6  -  97 / 107\n"
     ]
    },
    {
     "name": "stderr",
     "output_type": "stream",
     "text": [
      "\n",
      "\n",
      "\n",
      "\n",
      "\n",
      "\n",
      "Thread num: 5:  99%|████████████████████████████████████████████████████████████▍| 106/107 [11:50:22<12:16, 736.64s/it]\u001b[A\u001b[A\u001b[A\u001b[A\u001b[A\u001b[A"
     ]
    },
    {
     "name": "stdout",
     "output_type": "stream",
     "text": [
      "completed symbols QQQJ: CFFA: ACEV: USL: ORGO: BBW: SYBX: ECC: WSTL: CDR: IFRX: TRIL: DMYI: OSW: SMSI: ZDGE: SDIV: VBLT: SOGO: JT: SPNV: IDRA: UNG: MYOS: ALYA: HNRG: ARC: CHMA: MCF: USIO: AVEO: KLDO: INVE: ACTG: AMPG: EDNT: VSTO: NAVB: GNCA: VIOT: SWI: ERJ: EMAN: AWP: SIEB: AHPI: PIPP: RUTH: IGT: ONDK: NKLAW: TCS: III: MDP: TMF: BTAQ: SPWH: SPCX: USAT: CERS: CLNY: MPW: SSL: ENBL: STSA: GOSS: UTSI: AUTL: AGFY: UNFI: KPTI: GRAY: TWM: OBLG: NR: REFR: OESX: AR: ONE: STAG: SB: SRG: THTX: FTOC: WPF: CPST: LGVN: CALA: GTXMQ: BIIO: GALT: QDIV: SIG: FTI: OVV: SGMO: SRRK: CSU: NCNA: QFIN: SCON: SRET: BNO: HPE: MAT: YTEN - thread num: 5  -  106 / 107\n"
     ]
    },
    {
     "name": "stderr",
     "output_type": "stream",
     "text": [
      "\n",
      "\n",
      "\n",
      "Thread num: 6:  92%|██████████████████████████████████████████████████████▉     | 98/107 [11:52:22<1:27:33, 583.76s/it]\u001b[A\u001b[A\u001b[A"
     ]
    },
    {
     "name": "stdout",
     "output_type": "stream",
     "text": [
      "completed symbols FAX: APEN: JUPW: IPI: ENLC: WRTC: RMBL: PHX: KDMN: SSPK: EBR: BKCC: RWT: GSUM: FGPR: MXC: IGXT: GSKY: RTP: MEIP: PUYI: MYT: EXTR: ELVT: VRAY: HAPP: AAAU: PACE: CSPR: WRN: CEF: SBUM: DXYN: VIPS: MCRB: IEC: STIC: HUSN: INMB: GOCO: QHC: PBR: EADSY: AKTS: FEAC: ENSV: AFIN: FLNT: SPFR: CVE: RMM: DRAD: NCMI: NINE: INAQ: NTZ: AJAX: BCS: SUP: USEG: PDS: AMRH: TPR: BKD: ETON: CRDF: VRME: SSNT: CRVS: CLR: BCHG: NTNX: PAVE: LYSDY: ANGI: CRF: SBBP: PTI: ACRE: GVP: HST: PRTK: IEA: HA: ACRS: APRN: GROW: INVOD: CUE: HRTX: GBOX: FLWS: WINT: VALE: FTSI: ORBC: NAVI: PZG - thread num: 6  -  98 / 107\n"
     ]
    },
    {
     "name": "stderr",
     "output_type": "stream",
     "text": [
      "\n",
      "\n",
      "\n",
      "\n",
      "\n",
      "\n",
      "Thread num: 5: 100%|█████████████████████████████████████████████████████████████| 107/107 [11:53:21<00:00, 400.01s/it]\u001b[A\u001b[A\u001b[A\u001b[A\u001b[A\u001b[A"
     ]
    },
    {
     "name": "stdout",
     "output_type": "stream",
     "text": [
      "completed symbols QQQJ: CFFA: ACEV: USL: ORGO: BBW: SYBX: ECC: WSTL: CDR: IFRX: TRIL: DMYI: OSW: SMSI: ZDGE: SDIV: VBLT: SOGO: JT: SPNV: IDRA: UNG: MYOS: ALYA: HNRG: ARC: CHMA: MCF: USIO: AVEO: KLDO: INVE: ACTG: AMPG: EDNT: VSTO: NAVB: GNCA: VIOT: SWI: ERJ: EMAN: AWP: SIEB: AHPI: PIPP: RUTH: IGT: ONDK: NKLAW: TCS: III: MDP: TMF: BTAQ: SPWH: SPCX: USAT: CERS: CLNY: MPW: SSL: ENBL: STSA: GOSS: UTSI: AUTL: AGFY: UNFI: KPTI: GRAY: TWM: OBLG: NR: REFR: OESX: AR: ONE: STAG: SB: SRG: THTX: FTOC: WPF: CPST: LGVN: CALA: GTXMQ: BIIO: GALT: QDIV: SIG: FTI: OVV: SGMO: SRRK: CSU: NCNA: QFIN: SCON: SRET: BNO: HPE: MAT: YTEN: ATXI - thread num: 5  -  107 / 107\n"
     ]
    },
    {
     "name": "stderr",
     "output_type": "stream",
     "text": [
      "\n",
      "Thread num: 2:  86%|███████████████████████████████████████████████████▌        | 92/107 [11:54:57<2:10:45, 523.03s/it]"
     ]
    },
    {
     "name": "stdout",
     "output_type": "stream",
     "text": [
      "completed symbols OMP: APLT: NRO: IMH: THM: WHLM: EBET: VNRX: RLX: LEVI: ASTS: IMMR: DSX: CDE: YI: TRIB: ROCH: HZON: TNK: GNW: MILE: TSIAU: TOUR: ACIU: CLOU: XYF: TPGY: CAKE: CMPS: KALA: KLR: CDTX: ACP: CMMB: HGBL: SALM: STM: OXSQ: FGEN: TCCO: DTIL: CMLF: SMTS: BYRN: LIFE: DHT: EURN: SEAH: STOR: VVNT: RAAS: GEO: CAAS: PBF: HERO: AMCI: FURY: BDR: HBI: TLC: ACER: CURO: LTRPA: FIT: HOL: PERS: PCI: MLHR: ASLN: HIMS: ALAC: VKTX: LHDX: SU: IVZ: GEL: DYAI: MACK: APDN: AXU: DVN: ZSL: DNJR: MRNS: DMYD: AEHR: BBAR: LJPC: SRGA: FI: OCN: XRX - thread num: 2  -  92 / 107\n"
     ]
    },
    {
     "name": "stderr",
     "output_type": "stream",
     "text": [
      "\n",
      "\n",
      "\n",
      "\n",
      "\n",
      "Thread num: 1:  89%|█████████████████████████████████████████████████████▎      | 95/107 [11:56:03<1:28:38, 443.23s/it]\u001b[A\u001b[A\u001b[A\u001b[A\u001b[A"
     ]
    },
    {
     "name": "stdout",
     "output_type": "stream",
     "text": [
      "completed symbols OSS: VHC: FSI: SYRS: STIM: LMNL: CTHR: TDAC: MARPS: SLB: VVOS: MPLN: BLUE: FPAC: EDSA: ORMP: LAND: AMST: ELA: SOAC: PSAC: LWAY: ARDX: UAA: IDXG: BNKD: GTIM: ABR: PSTV: WOOF: GAIN: CCV: CGEN: CARR: CURI: CXDC: TECS: ETCG: PLAG: OTIC: SVAC: ASX: APTS: AKRX: DUDE: TBIO: EGO: GLYC: IO: VIH: FOLD: FAN: VACQ: BYD: CLMT: DSE: IMGN: GLG: USA: MOMO: ALUS: PRVB: AGC: VET: SOHO: CRMD: IEO: EOLS: ITCB: PRCH: HYRE: FOSL: ORC: PSNL: DCRB: XEC: TCON: SCPS: PGEN: ATAC: EXPC: IFBD: RAAC: FLR: MEDS: IPV: ON: CGRO: CMRX: PBTS: CARS: ADN: DEA: TAST: NAT - thread num: 1  -  95 / 107\n"
     ]
    },
    {
     "name": "stderr",
     "output_type": "stream",
     "text": [
      "Thread num: 2:  87%|████████████████████████████████████████████████████▏       | 93/107 [11:57:08<1:34:33, 405.24s/it]\n",
      "Thread num: 3:  82%|█████████████████████████████████████████████████▎          | 88/107 [11:57:08<4:17:38, 813.61s/it]\u001b[A"
     ]
    },
    {
     "name": "stdout",
     "output_type": "stream",
     "text": [
      "completed symbols OMP: APLT: NRO: IMH: THM: WHLM: EBET: VNRX: RLX: LEVI: ASTS: IMMR: DSX: CDE: YI: TRIB: ROCH: HZON: TNK: GNW: MILE: TSIAU: TOUR: ACIU: CLOU: XYF: TPGY: CAKE: CMPS: KALA: KLR: CDTX: ACP: CMMB: HGBL: SALM: STM: OXSQ: FGEN: TCCO: DTIL: CMLF: SMTS: BYRN: LIFE: DHT: EURN: SEAH: STOR: VVNT: RAAS: GEO: CAAS: PBF: HERO: AMCI: FURY: BDR: HBI: TLC: ACER: CURO: LTRPA: FIT: HOL: PERS: PCI: MLHR: ASLN: HIMS: ALAC: VKTX: LHDX: SU: IVZ: GEL: DYAI: MACK: APDN: AXU: DVN: ZSL: DNJR: MRNS: DMYD: AEHR: BBAR: LJPC: SRGA: FI: OCN: XRX: LINX - thread num: 2  -  93 / 107completed symbols\n",
      " AACQ: CTK: SVC: EGAN: PSTI: SAEXQ: EB: ATEN: CDXC: PVL: SILV: SILJ: NRBO: CARA: RTLR: CXW: FRO: EAST: PING: JPST: EQT: IDN: KBSF: FCAU: CLDX: TRNE: NBL: MAIN: ELY: PRCP: BRN: HJLI: DENN: RSI: IHT: TRQ: KIN: UUP: AMS: PSXP: TGEN: PMM: OII: DXD: AEY: OMI: TMQ: ZUO: MMLP: EGLE: CPG: NEW: XLF: PCRFY: USAS: SREV: MCEP: IHRT: P055094: ONDSD: DTEA: PDAC: AGS: ICLK: USX: FIVG: WEN: FHN: WMC: CERC: SECO: ARR: BDSI: RRR: CX: SQNS: ECTM: VEON: SLCA: WTT: SLQT: AMCR: HKIB: DSSI: KBNT: REXN: CRK: RF - thread num: 3  -  88 / 107\n"
     ]
    },
    {
     "name": "stderr",
     "output_type": "stream",
     "text": [
      "\n",
      "Thread num: 3:  83%|█████████████████████████████████████████████████▉          | 89/107 [11:59:28<3:03:30, 611.70s/it]\u001b[A"
     ]
    },
    {
     "name": "stdout",
     "output_type": "stream",
     "text": [
      "completed symbols AACQ: CTK: SVC: EGAN: PSTI: SAEXQ: EB: ATEN: CDXC: PVL: SILV: SILJ: NRBO: CARA: RTLR: CXW: FRO: EAST: PING: JPST: EQT: IDN: KBSF: FCAU: CLDX: TRNE: NBL: MAIN: ELY: PRCP: BRN: HJLI: DENN: RSI: IHT: TRQ: KIN: UUP: AMS: PSXP: TGEN: PMM: OII: DXD: AEY: OMI: TMQ: ZUO: MMLP: EGLE: CPG: NEW: XLF: PCRFY: USAS: SREV: MCEP: IHRT: P055094: ONDSD: DTEA: PDAC: AGS: ICLK: USX: FIVG: WEN: FHN: WMC: CERC: SECO: ARR: BDSI: RRR: CX: SQNS: ECTM: VEON: SLCA: WTT: SLQT: AMCR: HKIB: DSSI: KBNT: REXN: CRK: RF: BFRA - thread num: 3  -  89 / 107\n"
     ]
    },
    {
     "name": "stderr",
     "output_type": "stream",
     "text": [
      "\n",
      "\n",
      "\n",
      "Thread num: 6:  93%|███████████████████████████████████████████████████████▌    | 99/107 [11:59:35<1:11:48, 538.59s/it]\u001b[A\u001b[A\u001b[A"
     ]
    },
    {
     "name": "stdout",
     "output_type": "stream",
     "text": [
      "completed symbols FAX: APEN: JUPW: IPI: ENLC: WRTC: RMBL: PHX: KDMN: SSPK: EBR: BKCC: RWT: GSUM: FGPR: MXC: IGXT: GSKY: RTP: MEIP: PUYI: MYT: EXTR: ELVT: VRAY: HAPP: AAAU: PACE: CSPR: WRN: CEF: SBUM: DXYN: VIPS: MCRB: IEC: STIC: HUSN: INMB: GOCO: QHC: PBR: EADSY: AKTS: FEAC: ENSV: AFIN: FLNT: SPFR: CVE: RMM: DRAD: NCMI: NINE: INAQ: NTZ: AJAX: BCS: SUP: USEG: PDS: AMRH: TPR: BKD: ETON: CRDF: VRME: SSNT: CRVS: CLR: BCHG: NTNX: PAVE: LYSDY: ANGI: CRF: SBBP: PTI: ACRE: GVP: HST: PRTK: IEA: HA: ACRS: APRN: GROW: INVOD: CUE: HRTX: GBOX: FLWS: WINT: VALE: FTSI: ORBC: NAVI: PZG: NG - thread num: 6  -  99 / 107\n"
     ]
    },
    {
     "name": "stderr",
     "output_type": "stream",
     "text": [
      "\n",
      "\n",
      "\n",
      "\n",
      "\n",
      "Thread num: 1:  90%|█████████████████████████████████████████████████████▊      | 96/107 [11:59:52<1:09:27, 378.90s/it]\u001b[A\u001b[A\u001b[A\u001b[A\u001b[A"
     ]
    },
    {
     "name": "stdout",
     "output_type": "stream",
     "text": [
      "completed symbols OSS: VHC: FSI: SYRS: STIM: LMNL: CTHR: TDAC: MARPS: SLB: VVOS: MPLN: BLUE: FPAC: EDSA: ORMP: LAND: AMST: ELA: SOAC: PSAC: LWAY: ARDX: UAA: IDXG: BNKD: GTIM: ABR: PSTV: WOOF: GAIN: CCV: CGEN: CARR: CURI: CXDC: TECS: ETCG: PLAG: OTIC: SVAC: ASX: APTS: AKRX: DUDE: TBIO: EGO: GLYC: IO: VIH: FOLD: FAN: VACQ: BYD: CLMT: DSE: IMGN: GLG: USA: MOMO: ALUS: PRVB: AGC: VET: SOHO: CRMD: IEO: EOLS: ITCB: PRCH: HYRE: FOSL: ORC: PSNL: DCRB: XEC: TCON: SCPS: PGEN: ATAC: EXPC: IFBD: RAAC: FLR: MEDS: IPV: ON: CGRO: CMRX: PBTS: CARS: ADN: DEA: TAST: NAT: REKR - thread num: 1  -  96 / 107\n"
     ]
    },
    {
     "name": "stderr",
     "output_type": "stream",
     "text": [
      "\r",
      "Thread num: 2:  88%|████████████████████████████████████████████████████▋       | 94/107 [12:00:07<1:13:09, 337.63s/it]"
     ]
    },
    {
     "name": "stdout",
     "output_type": "stream",
     "text": [
      "completed symbols OMP: APLT: NRO: IMH: THM: WHLM: EBET: VNRX: RLX: LEVI: ASTS: IMMR: DSX: CDE: YI: TRIB: ROCH: HZON: TNK: GNW: MILE: TSIAU: TOUR: ACIU: CLOU: XYF: TPGY: CAKE: CMPS: KALA: KLR: CDTX: ACP: CMMB: HGBL: SALM: STM: OXSQ: FGEN: TCCO: DTIL: CMLF: SMTS: BYRN: LIFE: DHT: EURN: SEAH: STOR: VVNT: RAAS: GEO: CAAS: PBF: HERO: AMCI: FURY: BDR: HBI: TLC: ACER: CURO: LTRPA: FIT: HOL: PERS: PCI: MLHR: ASLN: HIMS: ALAC: VKTX: LHDX: SU: IVZ: GEL: DYAI: MACK: APDN: AXU: DVN: ZSL: DNJR: MRNS: DMYD: AEHR: BBAR: LJPC: SRGA: FI: OCN: XRX: LINX: FIII - thread num: 2  -  94 / 107\n"
     ]
    },
    {
     "name": "stderr",
     "output_type": "stream",
     "text": [
      "\n",
      "Thread num: 3:  84%|██████████████████████████████████████████████████▍         | 90/107 [12:01:22<2:10:59, 462.33s/it]\u001b[A"
     ]
    },
    {
     "name": "stdout",
     "output_type": "stream",
     "text": [
      "completed symbols AACQ: CTK: SVC: EGAN: PSTI: SAEXQ: EB: ATEN: CDXC: PVL: SILV: SILJ: NRBO: CARA: RTLR: CXW: FRO: EAST: PING: JPST: EQT: IDN: KBSF: FCAU: CLDX: TRNE: NBL: MAIN: ELY: PRCP: BRN: HJLI: DENN: RSI: IHT: TRQ: KIN: UUP: AMS: PSXP: TGEN: PMM: OII: DXD: AEY: OMI: TMQ: ZUO: MMLP: EGLE: CPG: NEW: XLF: PCRFY: USAS: SREV: MCEP: IHRT: P055094: ONDSD: DTEA: PDAC: AGS: ICLK: USX: FIVG: WEN: FHN: WMC: CERC: SECO: ARR: BDSI: RRR: CX: SQNS: ECTM: VEON: SLCA: WTT: SLQT: AMCR: HKIB: DSSI: KBNT: REXN: CRK: RF: BFRA: JCS - thread num: 3  -  90 / 107\n"
     ]
    },
    {
     "name": "stderr",
     "output_type": "stream",
     "text": [
      "\n",
      "\n",
      "\n",
      "\n",
      "\n",
      "Thread num: 1:  91%|████████████████████████████████████████████████████████▏     | 97/107 [12:01:35<49:20, 296.04s/it]\u001b[A\u001b[A\u001b[A\u001b[A\u001b[A"
     ]
    },
    {
     "name": "stdout",
     "output_type": "stream",
     "text": [
      "completed symbols OSS: VHC: FSI: SYRS: STIM: LMNL: CTHR: TDAC: MARPS: SLB: VVOS: MPLN: BLUE: FPAC: EDSA: ORMP: LAND: AMST: ELA: SOAC: PSAC: LWAY: ARDX: UAA: IDXG: BNKD: GTIM: ABR: PSTV: WOOF: GAIN: CCV: CGEN: CARR: CURI: CXDC: TECS: ETCG: PLAG: OTIC: SVAC: ASX: APTS: AKRX: DUDE: TBIO: EGO: GLYC: IO: VIH: FOLD: FAN: VACQ: BYD: CLMT: DSE: IMGN: GLG: USA: MOMO: ALUS: PRVB: AGC: VET: SOHO: CRMD: IEO: EOLS: ITCB: PRCH: HYRE: FOSL: ORC: PSNL: DCRB: XEC: TCON: SCPS: PGEN: ATAC: EXPC: IFBD: RAAC: FLR: MEDS: IPV: ON: CGRO: CMRX: PBTS: CARS: ADN: DEA: TAST: NAT: REKR: UGA - thread num: 1  -  97 / 107\n"
     ]
    },
    {
     "name": "stderr",
     "output_type": "stream",
     "text": [
      "\n",
      "\n",
      "\n",
      "Thread num: 6:  93%|█████████████████████████████████████████████████████████    | 100/107 [12:02:52<50:53, 436.19s/it]\u001b[A\u001b[A\u001b[A"
     ]
    },
    {
     "name": "stdout",
     "output_type": "stream",
     "text": [
      "completed symbols FAX: APEN: JUPW: IPI: ENLC: WRTC: RMBL: PHX: KDMN: SSPK: EBR: BKCC: RWT: GSUM: FGPR: MXC: IGXT: GSKY: RTP: MEIP: PUYI: MYT: EXTR: ELVT: VRAY: HAPP: AAAU: PACE: CSPR: WRN: CEF: SBUM: DXYN: VIPS: MCRB: IEC: STIC: HUSN: INMB: GOCO: QHC: PBR: EADSY: AKTS: FEAC: ENSV: AFIN: FLNT: SPFR: CVE: RMM: DRAD: NCMI: NINE: INAQ: NTZ: AJAX: BCS: SUP: USEG: PDS: AMRH: TPR: BKD: ETON: CRDF: VRME: SSNT: CRVS: CLR: BCHG: NTNX: PAVE: LYSDY: ANGI: CRF: SBBP: PTI: ACRE: GVP: HST: PRTK: IEA: HA: ACRS: APRN: GROW: INVOD: CUE: HRTX: GBOX: FLWS: WINT: VALE: FTSI: ORBC: NAVI: PZG: NG: NS - thread num: 6  -  100 / 107\n"
     ]
    },
    {
     "name": "stderr",
     "output_type": "stream",
     "text": [
      "\r",
      "Thread num: 2:  89%|███████████████████████████████████████████████████████       | 95/107 [12:03:02<57:44, 288.67s/it]"
     ]
    },
    {
     "name": "stdout",
     "output_type": "stream",
     "text": [
      "completed symbols OMP: APLT: NRO: IMH: THM: WHLM: EBET: VNRX: RLX: LEVI: ASTS: IMMR: DSX: CDE: YI: TRIB: ROCH: HZON: TNK: GNW: MILE: TSIAU: TOUR: ACIU: CLOU: XYF: TPGY: CAKE: CMPS: KALA: KLR: CDTX: ACP: CMMB: HGBL: SALM: STM: OXSQ: FGEN: TCCO: DTIL: CMLF: SMTS: BYRN: LIFE: DHT: EURN: SEAH: STOR: VVNT: RAAS: GEO: CAAS: PBF: HERO: AMCI: FURY: BDR: HBI: TLC: ACER: CURO: LTRPA: FIT: HOL: PERS: PCI: MLHR: ASLN: HIMS: ALAC: VKTX: LHDX: SU: IVZ: GEL: DYAI: MACK: APDN: AXU: DVN: ZSL: DNJR: MRNS: DMYD: AEHR: BBAR: LJPC: SRGA: FI: OCN: XRX: LINX: FIII: LLIT - thread num: 2  -  95 / 107\n"
     ]
    },
    {
     "name": "stderr",
     "output_type": "stream",
     "text": [
      "\n",
      "\n",
      "\n",
      "\n",
      "\n",
      "Thread num: 1:  92%|████████████████████████████████████████████████████████▊     | 98/107 [12:03:30<36:15, 241.76s/it]\u001b[A\u001b[A\u001b[A\u001b[A\u001b[A"
     ]
    },
    {
     "name": "stdout",
     "output_type": "stream",
     "text": [
      "completed symbols OSS: VHC: FSI: SYRS: STIM: LMNL: CTHR: TDAC: MARPS: SLB: VVOS: MPLN: BLUE: FPAC: EDSA: ORMP: LAND: AMST: ELA: SOAC: PSAC: LWAY: ARDX: UAA: IDXG: BNKD: GTIM: ABR: PSTV: WOOF: GAIN: CCV: CGEN: CARR: CURI: CXDC: TECS: ETCG: PLAG: OTIC: SVAC: ASX: APTS: AKRX: DUDE: TBIO: EGO: GLYC: IO: VIH: FOLD: FAN: VACQ: BYD: CLMT: DSE: IMGN: GLG: USA: MOMO: ALUS: PRVB: AGC: VET: SOHO: CRMD: IEO: EOLS: ITCB: PRCH: HYRE: FOSL: ORC: PSNL: DCRB: XEC: TCON: SCPS: PGEN: ATAC: EXPC: IFBD: RAAC: FLR: MEDS: IPV: ON: CGRO: CMRX: PBTS: CARS: ADN: DEA: TAST: NAT: REKR: UGA: DMYT - thread num: 1  -  98 / 107\n"
     ]
    },
    {
     "name": "stderr",
     "output_type": "stream",
     "text": [
      "\n",
      "\n",
      "\n",
      "Thread num: 6:  94%|█████████████████████████████████████████████████████████▌   | 101/107 [12:04:39<33:43, 337.27s/it]\u001b[A\u001b[A\u001b[A"
     ]
    },
    {
     "name": "stdout",
     "output_type": "stream",
     "text": [
      "completed symbols FAX: APEN: JUPW: IPI: ENLC: WRTC: RMBL: PHX: KDMN: SSPK: EBR: BKCC: RWT: GSUM: FGPR: MXC: IGXT: GSKY: RTP: MEIP: PUYI: MYT: EXTR: ELVT: VRAY: HAPP: AAAU: PACE: CSPR: WRN: CEF: SBUM: DXYN: VIPS: MCRB: IEC: STIC: HUSN: INMB: GOCO: QHC: PBR: EADSY: AKTS: FEAC: ENSV: AFIN: FLNT: SPFR: CVE: RMM: DRAD: NCMI: NINE: INAQ: NTZ: AJAX: BCS: SUP: USEG: PDS: AMRH: TPR: BKD: ETON: CRDF: VRME: SSNT: CRVS: CLR: BCHG: NTNX: PAVE: LYSDY: ANGI: CRF: SBBP: PTI: ACRE: GVP: HST: PRTK: IEA: HA: ACRS: APRN: GROW: INVOD: CUE: HRTX: GBOX: FLWS: WINT: VALE: FTSI: ORBC: NAVI: PZG: NG: NS: SPRQ - thread num: 6  -  101 / 107\n"
     ]
    },
    {
     "name": "stderr",
     "output_type": "stream",
     "text": [
      "\n",
      "\n",
      "\n",
      "\n",
      "\n",
      "Thread num: 1:  93%|█████████████████████████████████████████████████████████▎    | 99/107 [12:04:57<26:02, 195.32s/it]\u001b[A\u001b[A\u001b[A\u001b[A\u001b[A"
     ]
    },
    {
     "name": "stdout",
     "output_type": "stream",
     "text": [
      "completed symbols OSS: VHC: FSI: SYRS: STIM: LMNL: CTHR: TDAC: MARPS: SLB: VVOS: MPLN: BLUE: FPAC: EDSA: ORMP: LAND: AMST: ELA: SOAC: PSAC: LWAY: ARDX: UAA: IDXG: BNKD: GTIM: ABR: PSTV: WOOF: GAIN: CCV: CGEN: CARR: CURI: CXDC: TECS: ETCG: PLAG: OTIC: SVAC: ASX: APTS: AKRX: DUDE: TBIO: EGO: GLYC: IO: VIH: FOLD: FAN: VACQ: BYD: CLMT: DSE: IMGN: GLG: USA: MOMO: ALUS: PRVB: AGC: VET: SOHO: CRMD: IEO: EOLS: ITCB: PRCH: HYRE: FOSL: ORC: PSNL: DCRB: XEC: TCON: SCPS: PGEN: ATAC: EXPC: IFBD: RAAC: FLR: MEDS: IPV: ON: CGRO: CMRX: PBTS: CARS: ADN: DEA: TAST: NAT: REKR: UGA: DMYT: SKYS - thread num: 1  -  99 / 107\n"
     ]
    },
    {
     "name": "stderr",
     "output_type": "stream",
     "text": [
      "\n",
      "Thread num: 3:  85%|███████████████████████████████████████████████████         | 91/107 [12:05:02<1:43:52, 389.55s/it]\u001b[A"
     ]
    },
    {
     "name": "stdout",
     "output_type": "stream",
     "text": [
      "completed symbols AACQ: CTK: SVC: EGAN: PSTI: SAEXQ: EB: ATEN: CDXC: PVL: SILV: SILJ: NRBO: CARA: RTLR: CXW: FRO: EAST: PING: JPST: EQT: IDN: KBSF: FCAU: CLDX: TRNE: NBL: MAIN: ELY: PRCP: BRN: HJLI: DENN: RSI: IHT: TRQ: KIN: UUP: AMS: PSXP: TGEN: PMM: OII: DXD: AEY: OMI: TMQ: ZUO: MMLP: EGLE: CPG: NEW: XLF: PCRFY: USAS: SREV: MCEP: IHRT: P055094: ONDSD: DTEA: PDAC: AGS: ICLK: USX: FIVG: WEN: FHN: WMC: CERC: SECO: ARR: BDSI: RRR: CX: SQNS: ECTM: VEON: SLCA: WTT: SLQT: AMCR: HKIB: DSSI: KBNT: REXN: CRK: RF: BFRA: JCS: PLYA - thread num: 3  -  91 / 107\n"
     ]
    },
    {
     "name": "stderr",
     "output_type": "stream",
     "text": [
      "\r",
      "Thread num: 2:  90%|███████████████████████████████████████████████████████▋      | 96/107 [12:05:09<44:02, 240.19s/it]"
     ]
    },
    {
     "name": "stdout",
     "output_type": "stream",
     "text": [
      "completed symbols OMP: APLT: NRO: IMH: THM: WHLM: EBET: VNRX: RLX: LEVI: ASTS: IMMR: DSX: CDE: YI: TRIB: ROCH: HZON: TNK: GNW: MILE: TSIAU: TOUR: ACIU: CLOU: XYF: TPGY: CAKE: CMPS: KALA: KLR: CDTX: ACP: CMMB: HGBL: SALM: STM: OXSQ: FGEN: TCCO: DTIL: CMLF: SMTS: BYRN: LIFE: DHT: EURN: SEAH: STOR: VVNT: RAAS: GEO: CAAS: PBF: HERO: AMCI: FURY: BDR: HBI: TLC: ACER: CURO: LTRPA: FIT: HOL: PERS: PCI: MLHR: ASLN: HIMS: ALAC: VKTX: LHDX: SU: IVZ: GEL: DYAI: MACK: APDN: AXU: DVN: ZSL: DNJR: MRNS: DMYD: AEHR: BBAR: LJPC: SRGA: FI: OCN: XRX: LINX: FIII: LLIT: CHCI - thread num: 2  -  96 / 107\n"
     ]
    },
    {
     "name": "stderr",
     "output_type": "stream",
     "text": [
      "\n",
      "\n",
      "\n",
      "\n",
      "\n",
      "Thread num: 1:  93%|█████████████████████████████████████████████████████████    | 100/107 [12:07:26<21:10, 181.45s/it]\u001b[A\u001b[A\u001b[A\u001b[A\u001b[A"
     ]
    },
    {
     "name": "stdout",
     "output_type": "stream",
     "text": [
      "completed symbols OSS: VHC: FSI: SYRS: STIM: LMNL: CTHR: TDAC: MARPS: SLB: VVOS: MPLN: BLUE: FPAC: EDSA: ORMP: LAND: AMST: ELA: SOAC: PSAC: LWAY: ARDX: UAA: IDXG: BNKD: GTIM: ABR: PSTV: WOOF: GAIN: CCV: CGEN: CARR: CURI: CXDC: TECS: ETCG: PLAG: OTIC: SVAC: ASX: APTS: AKRX: DUDE: TBIO: EGO: GLYC: IO: VIH: FOLD: FAN: VACQ: BYD: CLMT: DSE: IMGN: GLG: USA: MOMO: ALUS: PRVB: AGC: VET: SOHO: CRMD: IEO: EOLS: ITCB: PRCH: HYRE: FOSL: ORC: PSNL: DCRB: XEC: TCON: SCPS: PGEN: ATAC: EXPC: IFBD: RAAC: FLR: MEDS: IPV: ON: CGRO: CMRX: PBTS: CARS: ADN: DEA: TAST: NAT: REKR: UGA: DMYT: SKYS: NGAC - thread num: 1  -  100 / 107\n"
     ]
    },
    {
     "name": "stderr",
     "output_type": "stream",
     "text": [
      "\r",
      "Thread num: 2:  91%|████████████████████████████████████████████████████████▏     | 97/107 [12:08:03<36:44, 220.50s/it]"
     ]
    },
    {
     "name": "stdout",
     "output_type": "stream",
     "text": [
      "completed symbols OMP: APLT: NRO: IMH: THM: WHLM: EBET: VNRX: RLX: LEVI: ASTS: IMMR: DSX: CDE: YI: TRIB: ROCH: HZON: TNK: GNW: MILE: TSIAU: TOUR: ACIU: CLOU: XYF: TPGY: CAKE: CMPS: KALA: KLR: CDTX: ACP: CMMB: HGBL: SALM: STM: OXSQ: FGEN: TCCO: DTIL: CMLF: SMTS: BYRN: LIFE: DHT: EURN: SEAH: STOR: VVNT: RAAS: GEO: CAAS: PBF: HERO: AMCI: FURY: BDR: HBI: TLC: ACER: CURO: LTRPA: FIT: HOL: PERS: PCI: MLHR: ASLN: HIMS: ALAC: VKTX: LHDX: SU: IVZ: GEL: DYAI: MACK: APDN: AXU: DVN: ZSL: DNJR: MRNS: DMYD: AEHR: BBAR: LJPC: SRGA: FI: OCN: XRX: LINX: FIII: LLIT: CHCI: QMCO - thread num: 2  -  97 / 107\n"
     ]
    },
    {
     "name": "stderr",
     "output_type": "stream",
     "text": [
      "\n",
      "Thread num: 3:  86%|███████████████████████████████████████████████████▌        | 92/107 [12:08:34<1:24:05, 336.34s/it]\u001b[A"
     ]
    },
    {
     "name": "stdout",
     "output_type": "stream",
     "text": [
      "completed symbols AACQ: CTK: SVC: EGAN: PSTI: SAEXQ: EB: ATEN: CDXC: PVL: SILV: SILJ: NRBO: CARA: RTLR: CXW: FRO: EAST: PING: JPST: EQT: IDN: KBSF: FCAU: CLDX: TRNE: NBL: MAIN: ELY: PRCP: BRN: HJLI: DENN: RSI: IHT: TRQ: KIN: UUP: AMS: PSXP: TGEN: PMM: OII: DXD: AEY: OMI: TMQ: ZUO: MMLP: EGLE: CPG: NEW: XLF: PCRFY: USAS: SREV: MCEP: IHRT: P055094: ONDSD: DTEA: PDAC: AGS: ICLK: USX: FIVG: WEN: FHN: WMC: CERC: SECO: ARR: BDSI: RRR: CX: SQNS: ECTM: VEON: SLCA: WTT: SLQT: AMCR: HKIB: DSSI: KBNT: REXN: CRK: RF: BFRA: JCS: PLYA: MTEM - thread num: 3  -  92 / 107\n"
     ]
    },
    {
     "name": "stderr",
     "output_type": "stream",
     "text": [
      "\n",
      "\n",
      "\n",
      "\n",
      "\n",
      "Thread num: 1:  94%|█████████████████████████████████████████████████████████▌   | 101/107 [12:10:04<17:26, 174.48s/it]\u001b[A\u001b[A\u001b[A\u001b[A\u001b[A"
     ]
    },
    {
     "name": "stdout",
     "output_type": "stream",
     "text": [
      "completed symbols OSS: VHC: FSI: SYRS: STIM: LMNL: CTHR: TDAC: MARPS: SLB: VVOS: MPLN: BLUE: FPAC: EDSA: ORMP: LAND: AMST: ELA: SOAC: PSAC: LWAY: ARDX: UAA: IDXG: BNKD: GTIM: ABR: PSTV: WOOF: GAIN: CCV: CGEN: CARR: CURI: CXDC: TECS: ETCG: PLAG: OTIC: SVAC: ASX: APTS: AKRX: DUDE: TBIO: EGO: GLYC: IO: VIH: FOLD: FAN: VACQ: BYD: CLMT: DSE: IMGN: GLG: USA: MOMO: ALUS: PRVB: AGC: VET: SOHO: CRMD: IEO: EOLS: ITCB: PRCH: HYRE: FOSL: ORC: PSNL: DCRB: XEC: TCON: SCPS: PGEN: ATAC: EXPC: IFBD: RAAC: FLR: MEDS: IPV: ON: CGRO: CMRX: PBTS: CARS: ADN: DEA: TAST: NAT: REKR: UGA: DMYT: SKYS: NGAC: VERO - thread num: 1  -  101 / 107\n"
     ]
    },
    {
     "name": "stderr",
     "output_type": "stream",
     "text": [
      "\n",
      "Thread num: 3:  87%|████████████████████████████████████████████████████▏       | 93/107 [12:10:15<1:02:02, 265.87s/it]\u001b[A"
     ]
    },
    {
     "name": "stdout",
     "output_type": "stream",
     "text": [
      "completed symbols AACQ: CTK: SVC: EGAN: PSTI: SAEXQ: EB: ATEN: CDXC: PVL: SILV: SILJ: NRBO: CARA: RTLR: CXW: FRO: EAST: PING: JPST: EQT: IDN: KBSF: FCAU: CLDX: TRNE: NBL: MAIN: ELY: PRCP: BRN: HJLI: DENN: RSI: IHT: TRQ: KIN: UUP: AMS: PSXP: TGEN: PMM: OII: DXD: AEY: OMI: TMQ: ZUO: MMLP: EGLE: CPG: NEW: XLF: PCRFY: USAS: SREV: MCEP: IHRT: P055094: ONDSD: DTEA: PDAC: AGS: ICLK: USX: FIVG: WEN: FHN: WMC: CERC: SECO: ARR: BDSI: RRR: CX: SQNS: ECTM: VEON: SLCA: WTT: SLQT: AMCR: HKIB: DSSI: KBNT: REXN: CRK: RF: BFRA: JCS: PLYA: MTEM: XTLB - thread num: 3  -  93 / 107\n"
     ]
    },
    {
     "name": "stderr",
     "output_type": "stream",
     "text": [
      "\n",
      "\n",
      "\n",
      "Thread num: 6:  95%|██████████████████████████████████████████████████████████▏  | 102/107 [12:12:58<32:09, 385.88s/it]\u001b[A\u001b[A\u001b[A"
     ]
    },
    {
     "name": "stdout",
     "output_type": "stream",
     "text": [
      "completed symbols FAX: APEN: JUPW: IPI: ENLC: WRTC: RMBL: PHX: KDMN: SSPK: EBR: BKCC: RWT: GSUM: FGPR: MXC: IGXT: GSKY: RTP: MEIP: PUYI: MYT: EXTR: ELVT: VRAY: HAPP: AAAU: PACE: CSPR: WRN: CEF: SBUM: DXYN: VIPS: MCRB: IEC: STIC: HUSN: INMB: GOCO: QHC: PBR: EADSY: AKTS: FEAC: ENSV: AFIN: FLNT: SPFR: CVE: RMM: DRAD: NCMI: NINE: INAQ: NTZ: AJAX: BCS: SUP: USEG: PDS: AMRH: TPR: BKD: ETON: CRDF: VRME: SSNT: CRVS: CLR: BCHG: NTNX: PAVE: LYSDY: ANGI: CRF: SBBP: PTI: ACRE: GVP: HST: PRTK: IEA: HA: ACRS: APRN: GROW: INVOD: CUE: HRTX: GBOX: FLWS: WINT: VALE: FTSI: ORBC: NAVI: PZG: NG: NS: SPRQ: PTEN - thread num: 6  -  102 / 107\n"
     ]
    },
    {
     "name": "stderr",
     "output_type": "stream",
     "text": [
      "\r",
      "Thread num: 2:  92%|████████████████████████████████████████████████████████▊     | 98/107 [12:13:51<38:46, 258.52s/it]"
     ]
    },
    {
     "name": "stdout",
     "output_type": "stream",
     "text": [
      "completed symbols OMP: APLT: NRO: IMH: THM: WHLM: EBET: VNRX: RLX: LEVI: ASTS: IMMR: DSX: CDE: YI: TRIB: ROCH: HZON: TNK: GNW: MILE: TSIAU: TOUR: ACIU: CLOU: XYF: TPGY: CAKE: CMPS: KALA: KLR: CDTX: ACP: CMMB: HGBL: SALM: STM: OXSQ: FGEN: TCCO: DTIL: CMLF: SMTS: BYRN: LIFE: DHT: EURN: SEAH: STOR: VVNT: RAAS: GEO: CAAS: PBF: HERO: AMCI: FURY: BDR: HBI: TLC: ACER: CURO: LTRPA: FIT: HOL: PERS: PCI: MLHR: ASLN: HIMS: ALAC: VKTX: LHDX: SU: IVZ: GEL: DYAI: MACK: APDN: AXU: DVN: ZSL: DNJR: MRNS: DMYD: AEHR: BBAR: LJPC: SRGA: FI: OCN: XRX: LINX: FIII: LLIT: CHCI: QMCO: ODP - thread num: 2  -  98 / 107\n"
     ]
    },
    {
     "name": "stderr",
     "output_type": "stream",
     "text": [
      "\n",
      "\n",
      "\n",
      "Thread num: 6:  96%|██████████████████████████████████████████████████████████▋  | 103/107 [12:16:03<21:42, 325.50s/it]\u001b[A\u001b[A\u001b[A"
     ]
    },
    {
     "name": "stdout",
     "output_type": "stream",
     "text": [
      "completed symbols FAX: APEN: JUPW: IPI: ENLC: WRTC: RMBL: PHX: KDMN: SSPK: EBR: BKCC: RWT: GSUM: FGPR: MXC: IGXT: GSKY: RTP: MEIP: PUYI: MYT: EXTR: ELVT: VRAY: HAPP: AAAU: PACE: CSPR: WRN: CEF: SBUM: DXYN: VIPS: MCRB: IEC: STIC: HUSN: INMB: GOCO: QHC: PBR: EADSY: AKTS: FEAC: ENSV: AFIN: FLNT: SPFR: CVE: RMM: DRAD: NCMI: NINE: INAQ: NTZ: AJAX: BCS: SUP: USEG: PDS: AMRH: TPR: BKD: ETON: CRDF: VRME: SSNT: CRVS: CLR: BCHG: NTNX: PAVE: LYSDY: ANGI: CRF: SBBP: PTI: ACRE: GVP: HST: PRTK: IEA: HA: ACRS: APRN: GROW: INVOD: CUE: HRTX: GBOX: FLWS: WINT: VALE: FTSI: ORBC: NAVI: PZG: NG: NS: SPRQ: PTEN: WYY - thread num: 6  -  103 / 107\n"
     ]
    },
    {
     "name": "stderr",
     "output_type": "stream",
     "text": [
      "\r",
      "Thread num: 2:  93%|█████████████████████████████████████████████████████████▎    | 99/107 [12:21:40<42:53, 321.63s/it]"
     ]
    },
    {
     "name": "stdout",
     "output_type": "stream",
     "text": [
      "completed symbols OMP: APLT: NRO: IMH: THM: WHLM: EBET: VNRX: RLX: LEVI: ASTS: IMMR: DSX: CDE: YI: TRIB: ROCH: HZON: TNK: GNW: MILE: TSIAU: TOUR: ACIU: CLOU: XYF: TPGY: CAKE: CMPS: KALA: KLR: CDTX: ACP: CMMB: HGBL: SALM: STM: OXSQ: FGEN: TCCO: DTIL: CMLF: SMTS: BYRN: LIFE: DHT: EURN: SEAH: STOR: VVNT: RAAS: GEO: CAAS: PBF: HERO: AMCI: FURY: BDR: HBI: TLC: ACER: CURO: LTRPA: FIT: HOL: PERS: PCI: MLHR: ASLN: HIMS: ALAC: VKTX: LHDX: SU: IVZ: GEL: DYAI: MACK: APDN: AXU: DVN: ZSL: DNJR: MRNS: DMYD: AEHR: BBAR: LJPC: SRGA: FI: OCN: XRX: LINX: FIII: LLIT: CHCI: QMCO: ODP: LRN - thread num: 2  -  99 / 107\n"
     ]
    },
    {
     "name": "stderr",
     "output_type": "stream",
     "text": [
      "\n",
      "Thread num: 3:  88%|████████████████████████████████████████████████████▋       | 94/107 [12:22:22<1:27:34, 404.18s/it]\u001b[A"
     ]
    },
    {
     "name": "stdout",
     "output_type": "stream",
     "text": [
      "completed symbols AACQ: CTK: SVC: EGAN: PSTI: SAEXQ: EB: ATEN: CDXC: PVL: SILV: SILJ: NRBO: CARA: RTLR: CXW: FRO: EAST: PING: JPST: EQT: IDN: KBSF: FCAU: CLDX: TRNE: NBL: MAIN: ELY: PRCP: BRN: HJLI: DENN: RSI: IHT: TRQ: KIN: UUP: AMS: PSXP: TGEN: PMM: OII: DXD: AEY: OMI: TMQ: ZUO: MMLP: EGLE: CPG: NEW: XLF: PCRFY: USAS: SREV: MCEP: IHRT: P055094: ONDSD: DTEA: PDAC: AGS: ICLK: USX: FIVG: WEN: FHN: WMC: CERC: SECO: ARR: BDSI: RRR: CX: SQNS: ECTM: VEON: SLCA: WTT: SLQT: AMCR: HKIB: DSSI: KBNT: REXN: CRK: RF: BFRA: JCS: PLYA: MTEM: XTLB: WPX - thread num: 3  -  94 / 107\n"
     ]
    },
    {
     "name": "stderr",
     "output_type": "stream",
     "text": [
      "\n",
      "\n",
      "\n",
      "\n",
      "\n",
      "Thread num: 1:  95%|██████████████████████████████████████████████████████████▏  | 102/107 [12:23:04<29:40, 356.16s/it]\u001b[A\u001b[A\u001b[A\u001b[A\u001b[A"
     ]
    },
    {
     "name": "stdout",
     "output_type": "stream",
     "text": [
      "completed symbols OSS: VHC: FSI: SYRS: STIM: LMNL: CTHR: TDAC: MARPS: SLB: VVOS: MPLN: BLUE: FPAC: EDSA: ORMP: LAND: AMST: ELA: SOAC: PSAC: LWAY: ARDX: UAA: IDXG: BNKD: GTIM: ABR: PSTV: WOOF: GAIN: CCV: CGEN: CARR: CURI: CXDC: TECS: ETCG: PLAG: OTIC: SVAC: ASX: APTS: AKRX: DUDE: TBIO: EGO: GLYC: IO: VIH: FOLD: FAN: VACQ: BYD: CLMT: DSE: IMGN: GLG: USA: MOMO: ALUS: PRVB: AGC: VET: SOHO: CRMD: IEO: EOLS: ITCB: PRCH: HYRE: FOSL: ORC: PSNL: DCRB: XEC: TCON: SCPS: PGEN: ATAC: EXPC: IFBD: RAAC: FLR: MEDS: IPV: ON: CGRO: CMRX: PBTS: CARS: ADN: DEA: TAST: NAT: REKR: UGA: DMYT: SKYS: NGAC: VERO: QRTEA - thread num: 1  -  102 / 107\n"
     ]
    },
    {
     "name": "stderr",
     "output_type": "stream",
     "text": [
      "\n",
      "\n",
      "\n",
      "Thread num: 6:  97%|███████████████████████████████████████████████████████████▎ | 104/107 [12:23:06<17:44, 354.75s/it]\u001b[A\u001b[A\u001b[A"
     ]
    },
    {
     "name": "stdout",
     "output_type": "stream",
     "text": [
      "completed symbols FAX: APEN: JUPW: IPI: ENLC: WRTC: RMBL: PHX: KDMN: SSPK: EBR: BKCC: RWT: GSUM: FGPR: MXC: IGXT: GSKY: RTP: MEIP: PUYI: MYT: EXTR: ELVT: VRAY: HAPP: AAAU: PACE: CSPR: WRN: CEF: SBUM: DXYN: VIPS: MCRB: IEC: STIC: HUSN: INMB: GOCO: QHC: PBR: EADSY: AKTS: FEAC: ENSV: AFIN: FLNT: SPFR: CVE: RMM: DRAD: NCMI: NINE: INAQ: NTZ: AJAX: BCS: SUP: USEG: PDS: AMRH: TPR: BKD: ETON: CRDF: VRME: SSNT: CRVS: CLR: BCHG: NTNX: PAVE: LYSDY: ANGI: CRF: SBBP: PTI: ACRE: GVP: HST: PRTK: IEA: HA: ACRS: APRN: GROW: INVOD: CUE: HRTX: GBOX: FLWS: WINT: VALE: FTSI: ORBC: NAVI: PZG: NG: NS: SPRQ: PTEN: WYY: FNKO - thread num: 6  -  104 / 107\n"
     ]
    },
    {
     "name": "stderr",
     "output_type": "stream",
     "text": [
      "\n",
      "Thread num: 3:  89%|█████████████████████████████████████████████████████▎      | 95/107 [12:23:22<1:00:09, 300.77s/it]\u001b[A"
     ]
    },
    {
     "name": "stdout",
     "output_type": "stream",
     "text": [
      "completed symbols AACQ: CTK: SVC: EGAN: PSTI: SAEXQ: EB: ATEN: CDXC: PVL: SILV: SILJ: NRBO: CARA: RTLR: CXW: FRO: EAST: PING: JPST: EQT: IDN: KBSF: FCAU: CLDX: TRNE: NBL: MAIN: ELY: PRCP: BRN: HJLI: DENN: RSI: IHT: TRQ: KIN: UUP: AMS: PSXP: TGEN: PMM: OII: DXD: AEY: OMI: TMQ: ZUO: MMLP: EGLE: CPG: NEW: XLF: PCRFY: USAS: SREV: MCEP: IHRT: P055094: ONDSD: DTEA: PDAC: AGS: ICLK: USX: FIVG: WEN: FHN: WMC: CERC: SECO: ARR: BDSI: RRR: CX: SQNS: ECTM: VEON: SLCA: WTT: SLQT: AMCR: HKIB: DSSI: KBNT: REXN: CRK: RF: BFRA: JCS: PLYA: MTEM: XTLB: WPX: MRGE - thread num: 3  -  95 / 107\n"
     ]
    },
    {
     "name": "stderr",
     "output_type": "stream",
     "text": [
      "\r",
      "Thread num: 2:  93%|█████████████████████████████████████████████████████████    | 100/107 [12:24:15<31:41, 271.62s/it]"
     ]
    },
    {
     "name": "stdout",
     "output_type": "stream",
     "text": [
      "completed symbols OMP: APLT: NRO: IMH: THM: WHLM: EBET: VNRX: RLX: LEVI: ASTS: IMMR: DSX: CDE: YI: TRIB: ROCH: HZON: TNK: GNW: MILE: TSIAU: TOUR: ACIU: CLOU: XYF: TPGY: CAKE: CMPS: KALA: KLR: CDTX: ACP: CMMB: HGBL: SALM: STM: OXSQ: FGEN: TCCO: DTIL: CMLF: SMTS: BYRN: LIFE: DHT: EURN: SEAH: STOR: VVNT: RAAS: GEO: CAAS: PBF: HERO: AMCI: FURY: BDR: HBI: TLC: ACER: CURO: LTRPA: FIT: HOL: PERS: PCI: MLHR: ASLN: HIMS: ALAC: VKTX: LHDX: SU: IVZ: GEL: DYAI: MACK: APDN: AXU: DVN: ZSL: DNJR: MRNS: DMYD: AEHR: BBAR: LJPC: SRGA: FI: OCN: XRX: LINX: FIII: LLIT: CHCI: QMCO: ODP: LRN: GIX - thread num: 2  -  100 / 107\n"
     ]
    },
    {
     "name": "stderr",
     "output_type": "stream",
     "text": [
      "\n",
      "Thread num: 3:  90%|███████████████████████████████████████████████████████▋      | 96/107 [12:25:54<46:58, 256.19s/it]\u001b[A"
     ]
    },
    {
     "name": "stdout",
     "output_type": "stream",
     "text": [
      "completed symbols AACQ: CTK: SVC: EGAN: PSTI: SAEXQ: EB: ATEN: CDXC: PVL: SILV: SILJ: NRBO: CARA: RTLR: CXW: FRO: EAST: PING: JPST: EQT: IDN: KBSF: FCAU: CLDX: TRNE: NBL: MAIN: ELY: PRCP: BRN: HJLI: DENN: RSI: IHT: TRQ: KIN: UUP: AMS: PSXP: TGEN: PMM: OII: DXD: AEY: OMI: TMQ: ZUO: MMLP: EGLE: CPG: NEW: XLF: PCRFY: USAS: SREV: MCEP: IHRT: P055094: ONDSD: DTEA: PDAC: AGS: ICLK: USX: FIVG: WEN: FHN: WMC: CERC: SECO: ARR: BDSI: RRR: CX: SQNS: ECTM: VEON: SLCA: WTT: SLQT: AMCR: HKIB: DSSI: KBNT: REXN: CRK: RF: BFRA: JCS: PLYA: MTEM: XTLB: WPX: MRGE: COHN - thread num: 3  -  96 / 107\n"
     ]
    },
    {
     "name": "stderr",
     "output_type": "stream",
     "text": [
      "\r",
      "Thread num: 2:  94%|█████████████████████████████████████████████████████████▌   | 101/107 [12:26:31<23:05, 230.99s/it]"
     ]
    },
    {
     "name": "stdout",
     "output_type": "stream",
     "text": [
      "completed symbols OMP: APLT: NRO: IMH: THM: WHLM: EBET: VNRX: RLX: LEVI: ASTS: IMMR: DSX: CDE: YI: TRIB: ROCH: HZON: TNK: GNW: MILE: TSIAU: TOUR: ACIU: CLOU: XYF: TPGY: CAKE: CMPS: KALA: KLR: CDTX: ACP: CMMB: HGBL: SALM: STM: OXSQ: FGEN: TCCO: DTIL: CMLF: SMTS: BYRN: LIFE: DHT: EURN: SEAH: STOR: VVNT: RAAS: GEO: CAAS: PBF: HERO: AMCI: FURY: BDR: HBI: TLC: ACER: CURO: LTRPA: FIT: HOL: PERS: PCI: MLHR: ASLN: HIMS: ALAC: VKTX: LHDX: SU: IVZ: GEL: DYAI: MACK: APDN: AXU: DVN: ZSL: DNJR: MRNS: DMYD: AEHR: BBAR: LJPC: SRGA: FI: OCN: XRX: LINX: FIII: LLIT: CHCI: QMCO: ODP: LRN: GIX: MKGI - thread num: 2  -  101 / 107\n"
     ]
    },
    {
     "name": "stderr",
     "output_type": "stream",
     "text": [
      "\n",
      "\n",
      "\n",
      "\n",
      "\n",
      "Thread num: 1:  96%|██████████████████████████████████████████████████████████▋  | 103/107 [12:26:31<20:45, 311.41s/it]\u001b[A\u001b[A\u001b[A\u001b[A\u001b[A"
     ]
    },
    {
     "name": "stdout",
     "output_type": "stream",
     "text": [
      "completed symbols OSS: VHC: FSI: SYRS: STIM: LMNL: CTHR: TDAC: MARPS: SLB: VVOS: MPLN: BLUE: FPAC: EDSA: ORMP: LAND: AMST: ELA: SOAC: PSAC: LWAY: ARDX: UAA: IDXG: BNKD: GTIM: ABR: PSTV: WOOF: GAIN: CCV: CGEN: CARR: CURI: CXDC: TECS: ETCG: PLAG: OTIC: SVAC: ASX: APTS: AKRX: DUDE: TBIO: EGO: GLYC: IO: VIH: FOLD: FAN: VACQ: BYD: CLMT: DSE: IMGN: GLG: USA: MOMO: ALUS: PRVB: AGC: VET: SOHO: CRMD: IEO: EOLS: ITCB: PRCH: HYRE: FOSL: ORC: PSNL: DCRB: XEC: TCON: SCPS: PGEN: ATAC: EXPC: IFBD: RAAC: FLR: MEDS: IPV: ON: CGRO: CMRX: PBTS: CARS: ADN: DEA: TAST: NAT: REKR: UGA: DMYT: SKYS: NGAC: VERO: QRTEA: EOSE - thread num: 1  -  103 / 107\n"
     ]
    },
    {
     "name": "stderr",
     "output_type": "stream",
     "text": [
      "\n",
      "Thread num: 3:  91%|████████████████████████████████████████████████████████▏     | 97/107 [12:28:08<36:36, 219.68s/it]\u001b[A"
     ]
    },
    {
     "name": "stdout",
     "output_type": "stream",
     "text": [
      "completed symbols AACQ: CTK: SVC: EGAN: PSTI: SAEXQ: EB: ATEN: CDXC: PVL: SILV: SILJ: NRBO: CARA: RTLR: CXW: FRO: EAST: PING: JPST: EQT: IDN: KBSF: FCAU: CLDX: TRNE: NBL: MAIN: ELY: PRCP: BRN: HJLI: DENN: RSI: IHT: TRQ: KIN: UUP: AMS: PSXP: TGEN: PMM: OII: DXD: AEY: OMI: TMQ: ZUO: MMLP: EGLE: CPG: NEW: XLF: PCRFY: USAS: SREV: MCEP: IHRT: P055094: ONDSD: DTEA: PDAC: AGS: ICLK: USX: FIVG: WEN: FHN: WMC: CERC: SECO: ARR: BDSI: RRR: CX: SQNS: ECTM: VEON: SLCA: WTT: SLQT: AMCR: HKIB: DSSI: KBNT: REXN: CRK: RF: BFRA: JCS: PLYA: MTEM: XTLB: WPX: MRGE: COHN: OUST - thread num: 3  -  97 / 107\n"
     ]
    },
    {
     "name": "stderr",
     "output_type": "stream",
     "text": [
      "\n",
      "\n",
      "\n",
      "\n",
      "\n",
      "Thread num: 1:  97%|███████████████████████████████████████████████████████████▎ | 104/107 [12:29:00<13:08, 262.70s/it]\u001b[A\u001b[A\u001b[A\u001b[A\u001b[A"
     ]
    },
    {
     "name": "stdout",
     "output_type": "stream",
     "text": [
      "completed symbols OSS: VHC: FSI: SYRS: STIM: LMNL: CTHR: TDAC: MARPS: SLB: VVOS: MPLN: BLUE: FPAC: EDSA: ORMP: LAND: AMST: ELA: SOAC: PSAC: LWAY: ARDX: UAA: IDXG: BNKD: GTIM: ABR: PSTV: WOOF: GAIN: CCV: CGEN: CARR: CURI: CXDC: TECS: ETCG: PLAG: OTIC: SVAC: ASX: APTS: AKRX: DUDE: TBIO: EGO: GLYC: IO: VIH: FOLD: FAN: VACQ: BYD: CLMT: DSE: IMGN: GLG: USA: MOMO: ALUS: PRVB: AGC: VET: SOHO: CRMD: IEO: EOLS: ITCB: PRCH: HYRE: FOSL: ORC: PSNL: DCRB: XEC: TCON: SCPS: PGEN: ATAC: EXPC: IFBD: RAAC: FLR: MEDS: IPV: ON: CGRO: CMRX: PBTS: CARS: ADN: DEA: TAST: NAT: REKR: UGA: DMYT: SKYS: NGAC: VERO: QRTEA: EOSE: CLA - thread num: 1  -  104 / 107\n"
     ]
    },
    {
     "name": "stderr",
     "output_type": "stream",
     "text": [
      "\n",
      "\n",
      "\n",
      "\n",
      "\n",
      "Thread num: 1:  98%|███████████████████████████████████████████████████████████▊ | 105/107 [12:31:52<07:51, 235.52s/it]\u001b[A\u001b[A\u001b[A\u001b[A\u001b[A"
     ]
    },
    {
     "name": "stdout",
     "output_type": "stream",
     "text": [
      "completed symbols OSS: VHC: FSI: SYRS: STIM: LMNL: CTHR: TDAC: MARPS: SLB: VVOS: MPLN: BLUE: FPAC: EDSA: ORMP: LAND: AMST: ELA: SOAC: PSAC: LWAY: ARDX: UAA: IDXG: BNKD: GTIM: ABR: PSTV: WOOF: GAIN: CCV: CGEN: CARR: CURI: CXDC: TECS: ETCG: PLAG: OTIC: SVAC: ASX: APTS: AKRX: DUDE: TBIO: EGO: GLYC: IO: VIH: FOLD: FAN: VACQ: BYD: CLMT: DSE: IMGN: GLG: USA: MOMO: ALUS: PRVB: AGC: VET: SOHO: CRMD: IEO: EOLS: ITCB: PRCH: HYRE: FOSL: ORC: PSNL: DCRB: XEC: TCON: SCPS: PGEN: ATAC: EXPC: IFBD: RAAC: FLR: MEDS: IPV: ON: CGRO: CMRX: PBTS: CARS: ADN: DEA: TAST: NAT: REKR: UGA: DMYT: SKYS: NGAC: VERO: QRTEA: EOSE: CLA: PROG - thread num: 1  -  105 / 107\n"
     ]
    },
    {
     "name": "stderr",
     "output_type": "stream",
     "text": [
      "\n",
      "Thread num: 3:  92%|████████████████████████████████████████████████████████▊     | 98/107 [12:32:15<34:09, 227.69s/it]\u001b[A"
     ]
    },
    {
     "name": "stdout",
     "output_type": "stream",
     "text": [
      "completed symbols AACQ: CTK: SVC: EGAN: PSTI: SAEXQ: EB: ATEN: CDXC: PVL: SILV: SILJ: NRBO: CARA: RTLR: CXW: FRO: EAST: PING: JPST: EQT: IDN: KBSF: FCAU: CLDX: TRNE: NBL: MAIN: ELY: PRCP: BRN: HJLI: DENN: RSI: IHT: TRQ: KIN: UUP: AMS: PSXP: TGEN: PMM: OII: DXD: AEY: OMI: TMQ: ZUO: MMLP: EGLE: CPG: NEW: XLF: PCRFY: USAS: SREV: MCEP: IHRT: P055094: ONDSD: DTEA: PDAC: AGS: ICLK: USX: FIVG: WEN: FHN: WMC: CERC: SECO: ARR: BDSI: RRR: CX: SQNS: ECTM: VEON: SLCA: WTT: SLQT: AMCR: HKIB: DSSI: KBNT: REXN: CRK: RF: BFRA: JCS: PLYA: MTEM: XTLB: WPX: MRGE: COHN: OUST: GNPX - thread num: 3  -  98 / 107\n"
     ]
    },
    {
     "name": "stderr",
     "output_type": "stream",
     "text": [
      "\r",
      "Thread num: 2:  95%|██████████████████████████████████████████████████████████▏  | 102/107 [12:32:24<22:18, 267.79s/it]"
     ]
    },
    {
     "name": "stdout",
     "output_type": "stream",
     "text": [
      "completed symbols OMP: APLT: NRO: IMH: THM: WHLM: EBET: VNRX: RLX: LEVI: ASTS: IMMR: DSX: CDE: YI: TRIB: ROCH: HZON: TNK: GNW: MILE: TSIAU: TOUR: ACIU: CLOU: XYF: TPGY: CAKE: CMPS: KALA: KLR: CDTX: ACP: CMMB: HGBL: SALM: STM: OXSQ: FGEN: TCCO: DTIL: CMLF: SMTS: BYRN: LIFE: DHT: EURN: SEAH: STOR: VVNT: RAAS: GEO: CAAS: PBF: HERO: AMCI: FURY: BDR: HBI: TLC: ACER: CURO: LTRPA: FIT: HOL: PERS: PCI: MLHR: ASLN: HIMS: ALAC: VKTX: LHDX: SU: IVZ: GEL: DYAI: MACK: APDN: AXU: DVN: ZSL: DNJR: MRNS: DMYD: AEHR: BBAR: LJPC: SRGA: FI: OCN: XRX: LINX: FIII: LLIT: CHCI: QMCO: ODP: LRN: GIX: MKGI: WMG - thread num: 2  -  102 / 107\n"
     ]
    },
    {
     "name": "stderr",
     "output_type": "stream",
     "text": [
      "\n",
      "\n",
      "\n",
      "Thread num: 6:  98%|███████████████████████████████████████████████████████████▊ | 105/107 [12:32:43<14:03, 421.70s/it]\u001b[A\u001b[A\u001b[A"
     ]
    },
    {
     "name": "stdout",
     "output_type": "stream",
     "text": [
      "completed symbols FAX: APEN: JUPW: IPI: ENLC: WRTC: RMBL: PHX: KDMN: SSPK: EBR: BKCC: RWT: GSUM: FGPR: MXC: IGXT: GSKY: RTP: MEIP: PUYI: MYT: EXTR: ELVT: VRAY: HAPP: AAAU: PACE: CSPR: WRN: CEF: SBUM: DXYN: VIPS: MCRB: IEC: STIC: HUSN: INMB: GOCO: QHC: PBR: EADSY: AKTS: FEAC: ENSV: AFIN: FLNT: SPFR: CVE: RMM: DRAD: NCMI: NINE: INAQ: NTZ: AJAX: BCS: SUP: USEG: PDS: AMRH: TPR: BKD: ETON: CRDF: VRME: SSNT: CRVS: CLR: BCHG: NTNX: PAVE: LYSDY: ANGI: CRF: SBBP: PTI: ACRE: GVP: HST: PRTK: IEA: HA: ACRS: APRN: GROW: INVOD: CUE: HRTX: GBOX: FLWS: WINT: VALE: FTSI: ORBC: NAVI: PZG: NG: NS: SPRQ: PTEN: WYY: FNKO: DXC - thread num: 6  -  105 / 107\n"
     ]
    },
    {
     "name": "stderr",
     "output_type": "stream",
     "text": [
      "\n",
      "\n",
      "\n",
      "Thread num: 6:  99%|████████████████████████████████████████████████████████████▍| 106/107 [12:34:00<05:18, 318.29s/it]\u001b[A\u001b[A\u001b[A"
     ]
    },
    {
     "name": "stdout",
     "output_type": "stream",
     "text": [
      "completed symbols FAX: APEN: JUPW: IPI: ENLC: WRTC: RMBL: PHX: KDMN: SSPK: EBR: BKCC: RWT: GSUM: FGPR: MXC: IGXT: GSKY: RTP: MEIP: PUYI: MYT: EXTR: ELVT: VRAY: HAPP: AAAU: PACE: CSPR: WRN: CEF: SBUM: DXYN: VIPS: MCRB: IEC: STIC: HUSN: INMB: GOCO: QHC: PBR: EADSY: AKTS: FEAC: ENSV: AFIN: FLNT: SPFR: CVE: RMM: DRAD: NCMI: NINE: INAQ: NTZ: AJAX: BCS: SUP: USEG: PDS: AMRH: TPR: BKD: ETON: CRDF: VRME: SSNT: CRVS: CLR: BCHG: NTNX: PAVE: LYSDY: ANGI: CRF: SBBP: PTI: ACRE: GVP: HST: PRTK: IEA: HA: ACRS: APRN: GROW: INVOD: CUE: HRTX: GBOX: FLWS: WINT: VALE: FTSI: ORBC: NAVI: PZG: NG: NS: SPRQ: PTEN: WYY: FNKO: DXC: BOSC - thread num: 6  -  106 / 107\n"
     ]
    },
    {
     "name": "stderr",
     "output_type": "stream",
     "text": [
      "\n",
      "\n",
      "\n",
      "\n",
      "\n",
      "Thread num: 1:  99%|████████████████████████████████████████████████████████████▍| 106/107 [12:34:09<03:25, 205.77s/it]\u001b[A\u001b[A\u001b[A\u001b[A\u001b[A"
     ]
    },
    {
     "name": "stdout",
     "output_type": "stream",
     "text": [
      "completed symbols OSS: VHC: FSI: SYRS: STIM: LMNL: CTHR: TDAC: MARPS: SLB: VVOS: MPLN: BLUE: FPAC: EDSA: ORMP: LAND: AMST: ELA: SOAC: PSAC: LWAY: ARDX: UAA: IDXG: BNKD: GTIM: ABR: PSTV: WOOF: GAIN: CCV: CGEN: CARR: CURI: CXDC: TECS: ETCG: PLAG: OTIC: SVAC: ASX: APTS: AKRX: DUDE: TBIO: EGO: GLYC: IO: VIH: FOLD: FAN: VACQ: BYD: CLMT: DSE: IMGN: GLG: USA: MOMO: ALUS: PRVB: AGC: VET: SOHO: CRMD: IEO: EOLS: ITCB: PRCH: HYRE: FOSL: ORC: PSNL: DCRB: XEC: TCON: SCPS: PGEN: ATAC: EXPC: IFBD: RAAC: FLR: MEDS: IPV: ON: CGRO: CMRX: PBTS: CARS: ADN: DEA: TAST: NAT: REKR: UGA: DMYT: SKYS: NGAC: VERO: QRTEA: EOSE: CLA: PROG: RAPT - thread num: 1  -  106 / 107\n"
     ]
    },
    {
     "name": "stderr",
     "output_type": "stream",
     "text": [
      "\n",
      "Thread num: 3:  93%|█████████████████████████████████████████████████████████▎    | 99/107 [12:34:16<26:06, 195.80s/it]\u001b[A"
     ]
    },
    {
     "name": "stdout",
     "output_type": "stream",
     "text": [
      "completed symbols AACQ: CTK: SVC: EGAN: PSTI: SAEXQ: EB: ATEN: CDXC: PVL: SILV: SILJ: NRBO: CARA: RTLR: CXW: FRO: EAST: PING: JPST: EQT: IDN: KBSF: FCAU: CLDX: TRNE: NBL: MAIN: ELY: PRCP: BRN: HJLI: DENN: RSI: IHT: TRQ: KIN: UUP: AMS: PSXP: TGEN: PMM: OII: DXD: AEY: OMI: TMQ: ZUO: MMLP: EGLE: CPG: NEW: XLF: PCRFY: USAS: SREV: MCEP: IHRT: P055094: ONDSD: DTEA: PDAC: AGS: ICLK: USX: FIVG: WEN: FHN: WMC: CERC: SECO: ARR: BDSI: RRR: CX: SQNS: ECTM: VEON: SLCA: WTT: SLQT: AMCR: HKIB: DSSI: KBNT: REXN: CRK: RF: BFRA: JCS: PLYA: MTEM: XTLB: WPX: MRGE: COHN: OUST: GNPX: AFI - thread num: 3  -  99 / 107\n"
     ]
    },
    {
     "name": "stderr",
     "output_type": "stream",
     "text": [
      "\r",
      "Thread num: 2:  96%|██████████████████████████████████████████████████████████▋  | 103/107 [12:34:17<14:44, 221.13s/it]"
     ]
    },
    {
     "name": "stdout",
     "output_type": "stream",
     "text": [
      "completed symbols OMP: APLT: NRO: IMH: THM: WHLM: EBET: VNRX: RLX: LEVI: ASTS: IMMR: DSX: CDE: YI: TRIB: ROCH: HZON: TNK: GNW: MILE: TSIAU: TOUR: ACIU: CLOU: XYF: TPGY: CAKE: CMPS: KALA: KLR: CDTX: ACP: CMMB: HGBL: SALM: STM: OXSQ: FGEN: TCCO: DTIL: CMLF: SMTS: BYRN: LIFE: DHT: EURN: SEAH: STOR: VVNT: RAAS: GEO: CAAS: PBF: HERO: AMCI: FURY: BDR: HBI: TLC: ACER: CURO: LTRPA: FIT: HOL: PERS: PCI: MLHR: ASLN: HIMS: ALAC: VKTX: LHDX: SU: IVZ: GEL: DYAI: MACK: APDN: AXU: DVN: ZSL: DNJR: MRNS: DMYD: AEHR: BBAR: LJPC: SRGA: FI: OCN: XRX: LINX: FIII: LLIT: CHCI: QMCO: ODP: LRN: GIX: MKGI: WMG: RA - thread num: 2  -  103 / 107\n"
     ]
    },
    {
     "name": "stderr",
     "output_type": "stream",
     "text": [
      "\n",
      "\n",
      "\n",
      "Thread num: 6: 100%|█████████████████████████████████████████████████████████████| 107/107 [12:36:11<00:00, 424.03s/it]\u001b[A\u001b[A\u001b[A"
     ]
    },
    {
     "name": "stdout",
     "output_type": "stream",
     "text": [
      "completed symbols FAX: APEN: JUPW: IPI: ENLC: WRTC: RMBL: PHX: KDMN: SSPK: EBR: BKCC: RWT: GSUM: FGPR: MXC: IGXT: GSKY: RTP: MEIP: PUYI: MYT: EXTR: ELVT: VRAY: HAPP: AAAU: PACE: CSPR: WRN: CEF: SBUM: DXYN: VIPS: MCRB: IEC: STIC: HUSN: INMB: GOCO: QHC: PBR: EADSY: AKTS: FEAC: ENSV: AFIN: FLNT: SPFR: CVE: RMM: DRAD: NCMI: NINE: INAQ: NTZ: AJAX: BCS: SUP: USEG: PDS: AMRH: TPR: BKD: ETON: CRDF: VRME: SSNT: CRVS: CLR: BCHG: NTNX: PAVE: LYSDY: ANGI: CRF: SBBP: PTI: ACRE: GVP: HST: PRTK: IEA: HA: ACRS: APRN: GROW: INVOD: CUE: HRTX: GBOX: FLWS: WINT: VALE: FTSI: ORBC: NAVI: PZG: NG: NS: SPRQ: PTEN: WYY: FNKO: DXC: BOSC: SD - thread num: 6  -  107 / 107\n"
     ]
    },
    {
     "name": "stderr",
     "output_type": "stream",
     "text": [
      "\n",
      "\n",
      "\n",
      "\n",
      "\n",
      "\n",
      "Thread num: 1: 100%|█████████████████████████████████████████████████████████████| 107/107 [12:36:47<00:00, 424.37s/it]\u001b[A\u001b[A\u001b[A\u001b[A\u001b[A"
     ]
    },
    {
     "name": "stdout",
     "output_type": "stream",
     "text": [
      "completed symbols OSS: VHC: FSI: SYRS: STIM: LMNL: CTHR: TDAC: MARPS: SLB: VVOS: MPLN: BLUE: FPAC: EDSA: ORMP: LAND: AMST: ELA: SOAC: PSAC: LWAY: ARDX: UAA: IDXG: BNKD: GTIM: ABR: PSTV: WOOF: GAIN: CCV: CGEN: CARR: CURI: CXDC: TECS: ETCG: PLAG: OTIC: SVAC: ASX: APTS: AKRX: DUDE: TBIO: EGO: GLYC: IO: VIH: FOLD: FAN: VACQ: BYD: CLMT: DSE: IMGN: GLG: USA: MOMO: ALUS: PRVB: AGC: VET: SOHO: CRMD: IEO: EOLS: ITCB: PRCH: HYRE: FOSL: ORC: PSNL: DCRB: XEC: TCON: SCPS: PGEN: ATAC: EXPC: IFBD: RAAC: FLR: MEDS: IPV: ON: CGRO: CMRX: PBTS: CARS: ADN: DEA: TAST: NAT: REKR: UGA: DMYT: SKYS: NGAC: VERO: QRTEA: EOSE: CLA: PROG: RAPT: CASA - thread num: 1  -  107 / 107\n"
     ]
    },
    {
     "name": "stderr",
     "output_type": "stream",
     "text": [
      "\n",
      "\n",
      "Thread num: 3:  93%|█████████████████████████████████████████████████████████    | 100/107 [12:36:58<21:38, 185.49s/it]\u001b[A"
     ]
    },
    {
     "name": "stdout",
     "output_type": "stream",
     "text": [
      "completed symbols AACQ: CTK: SVC: EGAN: PSTI: SAEXQ: EB: ATEN: CDXC: PVL: SILV: SILJ: NRBO: CARA: RTLR: CXW: FRO: EAST: PING: JPST: EQT: IDN: KBSF: FCAU: CLDX: TRNE: NBL: MAIN: ELY: PRCP: BRN: HJLI: DENN: RSI: IHT: TRQ: KIN: UUP: AMS: PSXP: TGEN: PMM: OII: DXD: AEY: OMI: TMQ: ZUO: MMLP: EGLE: CPG: NEW: XLF: PCRFY: USAS: SREV: MCEP: IHRT: P055094: ONDSD: DTEA: PDAC: AGS: ICLK: USX: FIVG: WEN: FHN: WMC: CERC: SECO: ARR: BDSI: RRR: CX: SQNS: ECTM: VEON: SLCA: WTT: SLQT: AMCR: HKIB: DSSI: KBNT: REXN: CRK: RF: BFRA: JCS: PLYA: MTEM: XTLB: WPX: MRGE: COHN: OUST: GNPX: AFI: MOSY - thread num: 3  -  100 / 107\n"
     ]
    },
    {
     "name": "stderr",
     "output_type": "stream",
     "text": [
      "\r",
      "Thread num: 2:  97%|███████████████████████████████████████████████████████████▎ | 104/107 [12:37:41<10:48, 216.17s/it]"
     ]
    },
    {
     "name": "stdout",
     "output_type": "stream",
     "text": [
      "completed symbols OMP: APLT: NRO: IMH: THM: WHLM: EBET: VNRX: RLX: LEVI: ASTS: IMMR: DSX: CDE: YI: TRIB: ROCH: HZON: TNK: GNW: MILE: TSIAU: TOUR: ACIU: CLOU: XYF: TPGY: CAKE: CMPS: KALA: KLR: CDTX: ACP: CMMB: HGBL: SALM: STM: OXSQ: FGEN: TCCO: DTIL: CMLF: SMTS: BYRN: LIFE: DHT: EURN: SEAH: STOR: VVNT: RAAS: GEO: CAAS: PBF: HERO: AMCI: FURY: BDR: HBI: TLC: ACER: CURO: LTRPA: FIT: HOL: PERS: PCI: MLHR: ASLN: HIMS: ALAC: VKTX: LHDX: SU: IVZ: GEL: DYAI: MACK: APDN: AXU: DVN: ZSL: DNJR: MRNS: DMYD: AEHR: BBAR: LJPC: SRGA: FI: OCN: XRX: LINX: FIII: LLIT: CHCI: QMCO: ODP: LRN: GIX: MKGI: WMG: RA: LPI - thread num: 2  -  104 / 107\n"
     ]
    },
    {
     "name": "stderr",
     "output_type": "stream",
     "text": [
      "\r",
      "Thread num: 2:  98%|███████████████████████████████████████████████████████████▊ | 105/107 [12:39:58<06:24, 192.29s/it]"
     ]
    },
    {
     "name": "stdout",
     "output_type": "stream",
     "text": [
      "completed symbols OMP: APLT: NRO: IMH: THM: WHLM: EBET: VNRX: RLX: LEVI: ASTS: IMMR: DSX: CDE: YI: TRIB: ROCH: HZON: TNK: GNW: MILE: TSIAU: TOUR: ACIU: CLOU: XYF: TPGY: CAKE: CMPS: KALA: KLR: CDTX: ACP: CMMB: HGBL: SALM: STM: OXSQ: FGEN: TCCO: DTIL: CMLF: SMTS: BYRN: LIFE: DHT: EURN: SEAH: STOR: VVNT: RAAS: GEO: CAAS: PBF: HERO: AMCI: FURY: BDR: HBI: TLC: ACER: CURO: LTRPA: FIT: HOL: PERS: PCI: MLHR: ASLN: HIMS: ALAC: VKTX: LHDX: SU: IVZ: GEL: DYAI: MACK: APDN: AXU: DVN: ZSL: DNJR: MRNS: DMYD: AEHR: BBAR: LJPC: SRGA: FI: OCN: XRX: LINX: FIII: LLIT: CHCI: QMCO: ODP: LRN: GIX: MKGI: WMG: RA: LPI: GMDA - thread num: 2  -  105 / 107\n"
     ]
    },
    {
     "name": "stderr",
     "output_type": "stream",
     "text": [
      "\n",
      "Thread num: 3:  94%|█████████████████████████████████████████████████████████▌   | 101/107 [12:41:45<21:36, 216.13s/it]\u001b[A"
     ]
    },
    {
     "name": "stdout",
     "output_type": "stream",
     "text": [
      "completed symbols AACQ: CTK: SVC: EGAN: PSTI: SAEXQ: EB: ATEN: CDXC: PVL: SILV: SILJ: NRBO: CARA: RTLR: CXW: FRO: EAST: PING: JPST: EQT: IDN: KBSF: FCAU: CLDX: TRNE: NBL: MAIN: ELY: PRCP: BRN: HJLI: DENN: RSI: IHT: TRQ: KIN: UUP: AMS: PSXP: TGEN: PMM: OII: DXD: AEY: OMI: TMQ: ZUO: MMLP: EGLE: CPG: NEW: XLF: PCRFY: USAS: SREV: MCEP: IHRT: P055094: ONDSD: DTEA: PDAC: AGS: ICLK: USX: FIVG: WEN: FHN: WMC: CERC: SECO: ARR: BDSI: RRR: CX: SQNS: ECTM: VEON: SLCA: WTT: SLQT: AMCR: HKIB: DSSI: KBNT: REXN: CRK: RF: BFRA: JCS: PLYA: MTEM: XTLB: WPX: MRGE: COHN: OUST: GNPX: AFI: MOSY: SIX - thread num: 3  -  101 / 107\n"
     ]
    },
    {
     "name": "stderr",
     "output_type": "stream",
     "text": [
      "\r",
      "Thread num: 2:  99%|████████████████████████████████████████████████████████████▍| 106/107 [12:42:19<02:56, 176.87s/it]"
     ]
    },
    {
     "name": "stdout",
     "output_type": "stream",
     "text": [
      "completed symbols OMP: APLT: NRO: IMH: THM: WHLM: EBET: VNRX: RLX: LEVI: ASTS: IMMR: DSX: CDE: YI: TRIB: ROCH: HZON: TNK: GNW: MILE: TSIAU: TOUR: ACIU: CLOU: XYF: TPGY: CAKE: CMPS: KALA: KLR: CDTX: ACP: CMMB: HGBL: SALM: STM: OXSQ: FGEN: TCCO: DTIL: CMLF: SMTS: BYRN: LIFE: DHT: EURN: SEAH: STOR: VVNT: RAAS: GEO: CAAS: PBF: HERO: AMCI: FURY: BDR: HBI: TLC: ACER: CURO: LTRPA: FIT: HOL: PERS: PCI: MLHR: ASLN: HIMS: ALAC: VKTX: LHDX: SU: IVZ: GEL: DYAI: MACK: APDN: AXU: DVN: ZSL: DNJR: MRNS: DMYD: AEHR: BBAR: LJPC: SRGA: FI: OCN: XRX: LINX: FIII: LLIT: CHCI: QMCO: ODP: LRN: GIX: MKGI: WMG: RA: LPI: GMDA: GPMT - thread num: 2  -  106 / 107\n"
     ]
    },
    {
     "name": "stderr",
     "output_type": "stream",
     "text": [
      "\n",
      "Thread num: 3:  95%|██████████████████████████████████████████████████████████▏  | 102/107 [12:42:58<14:25, 173.10s/it]\u001b[A"
     ]
    },
    {
     "name": "stdout",
     "output_type": "stream",
     "text": [
      "completed symbols AACQ: CTK: SVC: EGAN: PSTI: SAEXQ: EB: ATEN: CDXC: PVL: SILV: SILJ: NRBO: CARA: RTLR: CXW: FRO: EAST: PING: JPST: EQT: IDN: KBSF: FCAU: CLDX: TRNE: NBL: MAIN: ELY: PRCP: BRN: HJLI: DENN: RSI: IHT: TRQ: KIN: UUP: AMS: PSXP: TGEN: PMM: OII: DXD: AEY: OMI: TMQ: ZUO: MMLP: EGLE: CPG: NEW: XLF: PCRFY: USAS: SREV: MCEP: IHRT: P055094: ONDSD: DTEA: PDAC: AGS: ICLK: USX: FIVG: WEN: FHN: WMC: CERC: SECO: ARR: BDSI: RRR: CX: SQNS: ECTM: VEON: SLCA: WTT: SLQT: AMCR: HKIB: DSSI: KBNT: REXN: CRK: RF: BFRA: JCS: PLYA: MTEM: XTLB: WPX: MRGE: COHN: OUST: GNPX: AFI: MOSY: SIX: DUO - thread num: 3  -  102 / 107\n"
     ]
    },
    {
     "name": "stderr",
     "output_type": "stream",
     "text": [
      "Thread num: 2: 100%|█████████████████████████████████████████████████████████████| 107/107 [12:43:54<00:00, 428.36s/it]"
     ]
    },
    {
     "name": "stdout",
     "output_type": "stream",
     "text": [
      "completed symbols OMP: APLT: NRO: IMH: THM: WHLM: EBET: VNRX: RLX: LEVI: ASTS: IMMR: DSX: CDE: YI: TRIB: ROCH: HZON: TNK: GNW: MILE: TSIAU: TOUR: ACIU: CLOU: XYF: TPGY: CAKE: CMPS: KALA: KLR: CDTX: ACP: CMMB: HGBL: SALM: STM: OXSQ: FGEN: TCCO: DTIL: CMLF: SMTS: BYRN: LIFE: DHT: EURN: SEAH: STOR: VVNT: RAAS: GEO: CAAS: PBF: HERO: AMCI: FURY: BDR: HBI: TLC: ACER: CURO: LTRPA: FIT: HOL: PERS: PCI: MLHR: ASLN: HIMS: ALAC: VKTX: LHDX: SU: IVZ: GEL: DYAI: MACK: APDN: AXU: DVN: ZSL: DNJR: MRNS: DMYD: AEHR: BBAR: LJPC: SRGA: FI: OCN: XRX: LINX: FIII: LLIT: CHCI: QMCO: ODP: LRN: GIX: MKGI: WMG: RA: LPI: GMDA: GPMT: AXTI - thread num: 2  -  107 / 107\n"
     ]
    },
    {
     "name": "stderr",
     "output_type": "stream",
     "text": [
      "\n",
      "\n",
      "Thread num: 3:  96%|██████████████████████████████████████████████████████████▋  | 103/107 [12:44:22<09:46, 146.52s/it]\u001b[A"
     ]
    },
    {
     "name": "stdout",
     "output_type": "stream",
     "text": [
      "completed symbols AACQ: CTK: SVC: EGAN: PSTI: SAEXQ: EB: ATEN: CDXC: PVL: SILV: SILJ: NRBO: CARA: RTLR: CXW: FRO: EAST: PING: JPST: EQT: IDN: KBSF: FCAU: CLDX: TRNE: NBL: MAIN: ELY: PRCP: BRN: HJLI: DENN: RSI: IHT: TRQ: KIN: UUP: AMS: PSXP: TGEN: PMM: OII: DXD: AEY: OMI: TMQ: ZUO: MMLP: EGLE: CPG: NEW: XLF: PCRFY: USAS: SREV: MCEP: IHRT: P055094: ONDSD: DTEA: PDAC: AGS: ICLK: USX: FIVG: WEN: FHN: WMC: CERC: SECO: ARR: BDSI: RRR: CX: SQNS: ECTM: VEON: SLCA: WTT: SLQT: AMCR: HKIB: DSSI: KBNT: REXN: CRK: RF: BFRA: JCS: PLYA: MTEM: XTLB: WPX: MRGE: COHN: OUST: GNPX: AFI: MOSY: SIX: DUO: LEAF - thread num: 3  -  103 / 107\n"
     ]
    },
    {
     "name": "stderr",
     "output_type": "stream",
     "text": [
      "\n",
      "Thread num: 3:  97%|███████████████████████████████████████████████████████████▎ | 104/107 [12:45:39<06:16, 125.43s/it]\u001b[A"
     ]
    },
    {
     "name": "stdout",
     "output_type": "stream",
     "text": [
      "completed symbols AACQ: CTK: SVC: EGAN: PSTI: SAEXQ: EB: ATEN: CDXC: PVL: SILV: SILJ: NRBO: CARA: RTLR: CXW: FRO: EAST: PING: JPST: EQT: IDN: KBSF: FCAU: CLDX: TRNE: NBL: MAIN: ELY: PRCP: BRN: HJLI: DENN: RSI: IHT: TRQ: KIN: UUP: AMS: PSXP: TGEN: PMM: OII: DXD: AEY: OMI: TMQ: ZUO: MMLP: EGLE: CPG: NEW: XLF: PCRFY: USAS: SREV: MCEP: IHRT: P055094: ONDSD: DTEA: PDAC: AGS: ICLK: USX: FIVG: WEN: FHN: WMC: CERC: SECO: ARR: BDSI: RRR: CX: SQNS: ECTM: VEON: SLCA: WTT: SLQT: AMCR: HKIB: DSSI: KBNT: REXN: CRK: RF: BFRA: JCS: PLYA: MTEM: XTLB: WPX: MRGE: COHN: OUST: GNPX: AFI: MOSY: SIX: DUO: LEAF: FAT - thread num: 3  -  104 / 107\n"
     ]
    },
    {
     "name": "stderr",
     "output_type": "stream",
     "text": [
      "\n",
      "Thread num: 3:  98%|███████████████████████████████████████████████████████████▊ | 105/107 [12:46:28<03:25, 102.59s/it]\u001b[A"
     ]
    },
    {
     "name": "stdout",
     "output_type": "stream",
     "text": [
      "completed symbols AACQ: CTK: SVC: EGAN: PSTI: SAEXQ: EB: ATEN: CDXC: PVL: SILV: SILJ: NRBO: CARA: RTLR: CXW: FRO: EAST: PING: JPST: EQT: IDN: KBSF: FCAU: CLDX: TRNE: NBL: MAIN: ELY: PRCP: BRN: HJLI: DENN: RSI: IHT: TRQ: KIN: UUP: AMS: PSXP: TGEN: PMM: OII: DXD: AEY: OMI: TMQ: ZUO: MMLP: EGLE: CPG: NEW: XLF: PCRFY: USAS: SREV: MCEP: IHRT: P055094: ONDSD: DTEA: PDAC: AGS: ICLK: USX: FIVG: WEN: FHN: WMC: CERC: SECO: ARR: BDSI: RRR: CX: SQNS: ECTM: VEON: SLCA: WTT: SLQT: AMCR: HKIB: DSSI: KBNT: REXN: CRK: RF: BFRA: JCS: PLYA: MTEM: XTLB: WPX: MRGE: COHN: OUST: GNPX: AFI: MOSY: SIX: DUO: LEAF: FAT: NCSM - thread num: 3  -  105 / 107\n"
     ]
    },
    {
     "name": "stderr",
     "output_type": "stream",
     "text": [
      "\n",
      "Thread num: 3:  99%|████████████████████████████████████████████████████████████▍| 106/107 [12:48:06<01:41, 101.35s/it]\u001b[A"
     ]
    },
    {
     "name": "stdout",
     "output_type": "stream",
     "text": [
      "completed symbols AACQ: CTK: SVC: EGAN: PSTI: SAEXQ: EB: ATEN: CDXC: PVL: SILV: SILJ: NRBO: CARA: RTLR: CXW: FRO: EAST: PING: JPST: EQT: IDN: KBSF: FCAU: CLDX: TRNE: NBL: MAIN: ELY: PRCP: BRN: HJLI: DENN: RSI: IHT: TRQ: KIN: UUP: AMS: PSXP: TGEN: PMM: OII: DXD: AEY: OMI: TMQ: ZUO: MMLP: EGLE: CPG: NEW: XLF: PCRFY: USAS: SREV: MCEP: IHRT: P055094: ONDSD: DTEA: PDAC: AGS: ICLK: USX: FIVG: WEN: FHN: WMC: CERC: SECO: ARR: BDSI: RRR: CX: SQNS: ECTM: VEON: SLCA: WTT: SLQT: AMCR: HKIB: DSSI: KBNT: REXN: CRK: RF: BFRA: JCS: PLYA: MTEM: XTLB: WPX: MRGE: COHN: OUST: GNPX: AFI: MOSY: SIX: DUO: LEAF: FAT: NCSM: TALO - thread num: 3  -  106 / 107\n"
     ]
    },
    {
     "name": "stderr",
     "output_type": "stream",
     "text": [
      "\n",
      "Thread num: 3: 100%|█████████████████████████████████████████████████████████████| 107/107 [12:49:02<00:00, 431.24s/it]\u001b[A"
     ]
    },
    {
     "name": "stdout",
     "output_type": "stream",
     "text": [
      "completed symbols AACQ: CTK: SVC: EGAN: PSTI: SAEXQ: EB: ATEN: CDXC: PVL: SILV: SILJ: NRBO: CARA: RTLR: CXW: FRO: EAST: PING: JPST: EQT: IDN: KBSF: FCAU: CLDX: TRNE: NBL: MAIN: ELY: PRCP: BRN: HJLI: DENN: RSI: IHT: TRQ: KIN: UUP: AMS: PSXP: TGEN: PMM: OII: DXD: AEY: OMI: TMQ: ZUO: MMLP: EGLE: CPG: NEW: XLF: PCRFY: USAS: SREV: MCEP: IHRT: P055094: ONDSD: DTEA: PDAC: AGS: ICLK: USX: FIVG: WEN: FHN: WMC: CERC: SECO: ARR: BDSI: RRR: CX: SQNS: ECTM: VEON: SLCA: WTT: SLQT: AMCR: HKIB: DSSI: KBNT: REXN: CRK: RF: BFRA: JCS: PLYA: MTEM: XTLB: WPX: MRGE: COHN: OUST: GNPX: AFI: MOSY: SIX: DUO: LEAF: FAT: NCSM: TALO: DRTT - thread num: 3  -  107 / 107\n"
     ]
    },
    {
     "name": "stderr",
     "output_type": "stream",
     "text": [
      "\n"
     ]
    }
   ],
   "source": [
    "for allt in allthreads:\n",
    "    allt.start()\n",
    "    \n",
    "for index, thread in enumerate(allthreads):\n",
    "    logging.info(\"Main    : before joining thread %d.\", index)\n",
    "    thread.join()\n",
    "    logging.info(\"Main    : thread %d done\", index)"
   ]
  },
  {
   "cell_type": "code",
   "execution_count": null,
   "metadata": {},
   "outputs": [],
   "source": []
  },
  {
   "cell_type": "code",
   "execution_count": null,
   "metadata": {},
   "outputs": [],
   "source": []
  },
  {
   "cell_type": "code",
   "execution_count": null,
   "metadata": {},
   "outputs": [],
   "source": []
  },
  {
   "cell_type": "code",
   "execution_count": null,
   "metadata": {},
   "outputs": [],
   "source": []
  },
  {
   "cell_type": "code",
   "execution_count": 28,
   "metadata": {},
   "outputs": [
    {
     "data": {
      "text/plain": [
       "'j'"
      ]
     },
     "execution_count": 28,
     "metadata": {},
     "output_type": "execute_result"
    }
   ],
   "source": [
    "\"j\""
   ]
  },
  {
   "cell_type": "code",
   "execution_count": null,
   "metadata": {},
   "outputs": [],
   "source": []
  },
  {
   "cell_type": "code",
   "execution_count": null,
   "metadata": {},
   "outputs": [],
   "source": []
  },
  {
   "cell_type": "code",
   "execution_count": null,
   "metadata": {},
   "outputs": [],
   "source": []
  },
  {
   "cell_type": "code",
   "execution_count": null,
   "metadata": {},
   "outputs": [],
   "source": []
  },
  {
   "cell_type": "code",
   "execution_count": null,
   "metadata": {},
   "outputs": [],
   "source": []
  },
  {
   "cell_type": "code",
   "execution_count": null,
   "metadata": {},
   "outputs": [],
   "source": []
  },
  {
   "cell_type": "code",
   "execution_count": null,
   "metadata": {},
   "outputs": [],
   "source": []
  },
  {
   "cell_type": "code",
   "execution_count": null,
   "metadata": {},
   "outputs": [],
   "source": []
  },
  {
   "cell_type": "code",
   "execution_count": null,
   "metadata": {},
   "outputs": [],
   "source": []
  },
  {
   "cell_type": "code",
   "execution_count": null,
   "metadata": {},
   "outputs": [],
   "source": []
  },
  {
   "cell_type": "code",
   "execution_count": null,
   "metadata": {},
   "outputs": [],
   "source": []
  },
  {
   "cell_type": "code",
   "execution_count": null,
   "metadata": {},
   "outputs": [],
   "source": []
  },
  {
   "cell_type": "code",
   "execution_count": null,
   "metadata": {},
   "outputs": [],
   "source": []
  },
  {
   "cell_type": "code",
   "execution_count": null,
   "metadata": {},
   "outputs": [],
   "source": []
  },
  {
   "cell_type": "code",
   "execution_count": null,
   "metadata": {},
   "outputs": [],
   "source": []
  },
  {
   "cell_type": "code",
   "execution_count": null,
   "metadata": {},
   "outputs": [],
   "source": []
  },
  {
   "cell_type": "code",
   "execution_count": null,
   "metadata": {},
   "outputs": [],
   "source": []
  },
  {
   "cell_type": "code",
   "execution_count": null,
   "metadata": {},
   "outputs": [],
   "source": []
  },
  {
   "cell_type": "code",
   "execution_count": null,
   "metadata": {},
   "outputs": [],
   "source": []
  },
  {
   "cell_type": "code",
   "execution_count": null,
   "metadata": {},
   "outputs": [],
   "source": []
  },
  {
   "cell_type": "code",
   "execution_count": null,
   "metadata": {},
   "outputs": [],
   "source": []
  },
  {
   "cell_type": "code",
   "execution_count": null,
   "metadata": {},
   "outputs": [],
   "source": []
  },
  {
   "cell_type": "code",
   "execution_count": null,
   "metadata": {},
   "outputs": [],
   "source": []
  },
  {
   "cell_type": "code",
   "execution_count": null,
   "metadata": {},
   "outputs": [],
   "source": []
  },
  {
   "cell_type": "code",
   "execution_count": null,
   "metadata": {},
   "outputs": [],
   "source": []
  },
  {
   "cell_type": "code",
   "execution_count": null,
   "metadata": {},
   "outputs": [],
   "source": []
  },
  {
   "cell_type": "code",
   "execution_count": null,
   "metadata": {},
   "outputs": [],
   "source": []
  },
  {
   "cell_type": "code",
   "execution_count": null,
   "metadata": {},
   "outputs": [],
   "source": []
  },
  {
   "cell_type": "code",
   "execution_count": null,
   "metadata": {},
   "outputs": [],
   "source": []
  },
  {
   "cell_type": "code",
   "execution_count": null,
   "metadata": {},
   "outputs": [],
   "source": []
  },
  {
   "cell_type": "code",
   "execution_count": null,
   "metadata": {},
   "outputs": [],
   "source": []
  },
  {
   "cell_type": "code",
   "execution_count": null,
   "metadata": {},
   "outputs": [],
   "source": []
  },
  {
   "cell_type": "code",
   "execution_count": null,
   "metadata": {},
   "outputs": [],
   "source": []
  },
  {
   "cell_type": "code",
   "execution_count": null,
   "metadata": {},
   "outputs": [],
   "source": []
  },
  {
   "cell_type": "code",
   "execution_count": null,
   "metadata": {},
   "outputs": [],
   "source": []
  },
  {
   "cell_type": "code",
   "execution_count": null,
   "metadata": {},
   "outputs": [],
   "source": []
  },
  {
   "cell_type": "code",
   "execution_count": null,
   "metadata": {},
   "outputs": [],
   "source": []
  },
  {
   "cell_type": "code",
   "execution_count": null,
   "metadata": {},
   "outputs": [],
   "source": []
  },
  {
   "cell_type": "code",
   "execution_count": null,
   "metadata": {},
   "outputs": [],
   "source": []
  },
  {
   "cell_type": "code",
   "execution_count": null,
   "metadata": {},
   "outputs": [],
   "source": []
  },
  {
   "cell_type": "code",
   "execution_count": null,
   "metadata": {},
   "outputs": [],
   "source": []
  },
  {
   "cell_type": "code",
   "execution_count": null,
   "metadata": {},
   "outputs": [],
   "source": []
  },
  {
   "cell_type": "code",
   "execution_count": null,
   "metadata": {},
   "outputs": [],
   "source": []
  },
  {
   "cell_type": "code",
   "execution_count": null,
   "metadata": {},
   "outputs": [],
   "source": []
  },
  {
   "cell_type": "code",
   "execution_count": null,
   "metadata": {},
   "outputs": [],
   "source": []
  },
  {
   "cell_type": "code",
   "execution_count": null,
   "metadata": {},
   "outputs": [],
   "source": []
  },
  {
   "cell_type": "code",
   "execution_count": null,
   "metadata": {},
   "outputs": [],
   "source": []
  },
  {
   "cell_type": "code",
   "execution_count": null,
   "metadata": {},
   "outputs": [],
   "source": []
  },
  {
   "cell_type": "code",
   "execution_count": null,
   "metadata": {},
   "outputs": [],
   "source": []
  },
  {
   "cell_type": "code",
   "execution_count": null,
   "metadata": {},
   "outputs": [],
   "source": []
  },
  {
   "cell_type": "code",
   "execution_count": null,
   "metadata": {},
   "outputs": [],
   "source": []
  },
  {
   "cell_type": "code",
   "execution_count": null,
   "metadata": {},
   "outputs": [],
   "source": []
  },
  {
   "cell_type": "code",
   "execution_count": null,
   "metadata": {},
   "outputs": [],
   "source": []
  },
  {
   "cell_type": "code",
   "execution_count": null,
   "metadata": {},
   "outputs": [],
   "source": []
  },
  {
   "cell_type": "code",
   "execution_count": null,
   "metadata": {},
   "outputs": [],
   "source": []
  },
  {
   "cell_type": "code",
   "execution_count": null,
   "metadata": {},
   "outputs": [],
   "source": []
  },
  {
   "cell_type": "code",
   "execution_count": null,
   "metadata": {},
   "outputs": [],
   "source": []
  },
  {
   "cell_type": "code",
   "execution_count": null,
   "metadata": {},
   "outputs": [],
   "source": []
  },
  {
   "cell_type": "code",
   "execution_count": null,
   "metadata": {},
   "outputs": [],
   "source": []
  },
  {
   "cell_type": "code",
   "execution_count": null,
   "metadata": {},
   "outputs": [],
   "source": []
  },
  {
   "cell_type": "code",
   "execution_count": null,
   "metadata": {},
   "outputs": [],
   "source": []
  },
  {
   "cell_type": "code",
   "execution_count": null,
   "metadata": {},
   "outputs": [],
   "source": []
  },
  {
   "cell_type": "code",
   "execution_count": null,
   "metadata": {},
   "outputs": [],
   "source": []
  },
  {
   "cell_type": "code",
   "execution_count": null,
   "metadata": {},
   "outputs": [],
   "source": []
  },
  {
   "cell_type": "code",
   "execution_count": null,
   "metadata": {},
   "outputs": [],
   "source": []
  },
  {
   "cell_type": "code",
   "execution_count": null,
   "metadata": {},
   "outputs": [],
   "source": []
  },
  {
   "cell_type": "code",
   "execution_count": null,
   "metadata": {},
   "outputs": [],
   "source": []
  },
  {
   "cell_type": "code",
   "execution_count": null,
   "metadata": {},
   "outputs": [],
   "source": []
  },
  {
   "cell_type": "code",
   "execution_count": null,
   "metadata": {},
   "outputs": [],
   "source": []
  },
  {
   "cell_type": "code",
   "execution_count": null,
   "metadata": {},
   "outputs": [],
   "source": []
  },
  {
   "cell_type": "code",
   "execution_count": null,
   "metadata": {},
   "outputs": [],
   "source": []
  },
  {
   "cell_type": "code",
   "execution_count": null,
   "metadata": {},
   "outputs": [],
   "source": []
  },
  {
   "cell_type": "code",
   "execution_count": null,
   "metadata": {},
   "outputs": [],
   "source": []
  }
 ],
 "metadata": {
  "kernelspec": {
   "display_name": "Python 3",
   "language": "python",
   "name": "python3"
  },
  "language_info": {
   "codemirror_mode": {
    "name": "ipython",
    "version": 3
   },
   "file_extension": ".py",
   "mimetype": "text/x-python",
   "name": "python",
   "nbconvert_exporter": "python",
   "pygments_lexer": "ipython3",
   "version": "3.8.5"
  }
 },
 "nbformat": 4,
 "nbformat_minor": 4
}
