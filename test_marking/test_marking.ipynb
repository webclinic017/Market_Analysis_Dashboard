{
 "cells": [
  {
   "cell_type": "code",
   "execution_count": 16,
   "source": [
    "import openpyxl\n",
    "from openpyxl import Workbook\n",
    "from openpyxl.styles import Color, PatternFill, Font, Border\n",
    "from openpyxl.styles import colors\n",
    "from openpyxl.cell import Cell\n",
    "import pandas as pd\n",
    "\n",
    "answer_key_df = pd.read_csv(\"answer_key.csv\")\n",
    "workbook = load_workbook(filename=\"test_sample.xlsx\")\n",
    "main_sheet = workbook.active"
   ],
   "outputs": [],
   "metadata": {}
  },
  {
   "cell_type": "code",
   "execution_count": 17,
   "source": [
    "total_correct_count = 0\n",
    "total_incorrect_count = 0\n",
    "correct = []\n",
    "incorrect = []"
   ],
   "outputs": [],
   "metadata": {}
  },
  {
   "cell_type": "code",
   "execution_count": 23,
   "source": [
    "def color_cell(cell, color):\n",
    "    redFill = PatternFill(start_color='FFFF0000',\n",
    "                   end_color='FFFF0000',\n",
    "                   fill_type='solid')\n",
    "    greenFill = PatternFill(start_color='7CFC00',\n",
    "                   end_color='7CFC00',\n",
    "                   fill_type='solid')\n",
    "\n",
    "    if color == \"red\":\n",
    "        cell.fill = redFill\n",
    "    if color == \"green\":\n",
    "        cell.fill = greenFill\n",
    "\n",
    "def compareFloatNum(a, b):\n",
    "     \n",
    "    # Correct method to compare\n",
    "    # floating-ponumbers\n",
    "    if (abs(a - b) < 1e-9):\n",
    "        return True\n",
    "    return False\n"
   ],
   "outputs": [],
   "metadata": {}
  },
  {
   "cell_type": "code",
   "execution_count": 30,
   "source": [
    "for index, row in answer_key_df.iterrows():\n",
    "    q_num = row[\"question_number\"]\n",
    "    q_type = row[\"question_type\"]\n",
    "    a_cell = row[\"answer_cell\"]\n",
    "    a_value = row[\"answer_value\"]\n",
    "\n",
    "    if q_type == \"choice\":\n",
    "\n",
    "        if main_sheet[a_cell].value == 1:\n",
    "            total_correct_count = total_correct_count + 1\n",
    "            correct.append(q_num)\n",
    "            color_cell(main_sheet[a_cell], 'green')\n",
    "        else:\n",
    "            total_incorrect_count = total_incorrect_count + 1\n",
    "            incorrect.append(q_num)\n",
    "            color_cell(main_sheet[a_cell], 'red')\n",
    "    else:\n",
    "\n",
    "        #Rounded to 4 decimal places as displayed on the excell sheet\n",
    "        sheet_cell_value = round(main_sheet[a_cell].value, 4)\n",
    "\n",
    "        if q_num == 24 or q_num == 25:\n",
    "            sheet_cell_value = round(main_sheet[a_cell].value, 2)\n",
    "            print(sheet_cell_value, a_value)\n",
    "\n",
    "        print(compareFloatNum(sheet_cell_value, float(a_value)))\n",
    "        print(type(sheet_cell_value), type(a_value))\n",
    "\n",
    "        if sheet_cell_value == float(a_value):\n",
    "            total_correct_count = total_correct_count + 1\n",
    "            correct.append(q_num)\n",
    "            color_cell(main_sheet[a_cell], 'green')\n",
    "        else:\n",
    "            total_incorrect_count = total_incorrect_count + 1\n",
    "            incorrect.append(q_num)\n",
    "            color_cell(main_sheet[a_cell], 'red')\n",
    "        print()\n",
    "\n",
    "workbook.save(filename=\"neww_file.xlsx\")"
   ],
   "outputs": [
    {
     "output_type": "stream",
     "name": "stdout",
     "text": [
      "True\n",
      "<class 'float'> <class 'str'>\n",
      "\n",
      "True\n",
      "<class 'float'> <class 'str'>\n",
      "\n",
      "True\n",
      "<class 'float'> <class 'str'>\n",
      "\n",
      "True\n",
      "<class 'float'> <class 'str'>\n",
      "\n",
      "3443.36 3443.36\n",
      "True\n",
      "<class 'float'> <class 'str'>\n",
      "\n",
      "3049.2 3049.2\n",
      "True\n",
      "<class 'float'> <class 'str'>\n",
      "\n",
      "True\n",
      "<class 'float'> <class 'str'>\n",
      "\n",
      "True\n",
      "<class 'float'> <class 'str'>\n",
      "\n"
     ]
    }
   ],
   "metadata": {}
  },
  {
   "cell_type": "code",
   "execution_count": null,
   "source": [],
   "outputs": [],
   "metadata": {}
  }
 ],
 "metadata": {
  "orig_nbformat": 4,
  "language_info": {
   "name": "python",
   "version": "3.8.8",
   "mimetype": "text/x-python",
   "codemirror_mode": {
    "name": "ipython",
    "version": 3
   },
   "pygments_lexer": "ipython3",
   "nbconvert_exporter": "python",
   "file_extension": ".py"
  },
  "kernelspec": {
   "name": "python3",
   "display_name": "Python 3.8.8 64-bit ('base': conda)"
  },
  "interpreter": {
   "hash": "dca0ade3e726a953b501b15e8e990130d2b7799f14cfd9f4271676035ebe5511"
  }
 },
 "nbformat": 4,
 "nbformat_minor": 2
}